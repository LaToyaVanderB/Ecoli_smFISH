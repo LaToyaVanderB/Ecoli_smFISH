{
 "cells": [
  {
   "metadata": {
    "ExecuteTime": {
     "end_time": "2024-12-03T20:48:11.061695Z",
     "start_time": "2024-12-03T20:48:10.679077Z"
    }
   },
   "cell_type": "code",
   "source": [
    "import numpy as np\n",
    "from skimage import io\n",
    "import re\n",
    "import pandas as pd\n",
    "import seaborn as sns\n",
    "from pathlib import Path\n",
    "import json\n",
    "from copy import copy\n",
    "from pprint import pprint\n",
    "from skimage.segmentation import expand_labels\n",
    "from skimage.measure import regionprops_table\n"
   ],
   "id": "4e7a106d76afd8f0",
   "outputs": [],
   "execution_count": 2
  },
  {
   "metadata": {
    "ExecuteTime": {
     "end_time": "2024-11-04T09:34:27.145420Z",
     "start_time": "2024-11-04T09:34:27.139597Z"
    }
   },
   "cell_type": "code",
   "source": [
    "rootdir = '/Users/adele/PycharmProjects/Ecoli_smFISH/tests/exp16/output'\n",
    "files = Path(rootdir).glob('*/grgb.npy')\n",
    "filenames = [ f for f in files ]    \n",
    "filenames"
   ],
   "id": "a19f245baf2743dc",
   "outputs": [
    {
     "data": {
      "text/plain": [
       "[PosixPath('/Users/adele/PycharmProjects/Ecoli_smFISH/tests/exp16/output/MG1655_GLY-lowOD-2nd_16/grgb.npy'),\n",
       " PosixPath('/Users/adele/PycharmProjects/Ecoli_smFISH/tests/exp16/output/MG1655_GLY-lowOD-2nd_17/grgb.npy'),\n",
       " PosixPath('/Users/adele/PycharmProjects/Ecoli_smFISH/tests/exp16/output/MG1655_GLU_OD_0.3_left_02/grgb.npy'),\n",
       " PosixPath('/Users/adele/PycharmProjects/Ecoli_smFISH/tests/exp16/output/MG1655_GLU_OD_0.3_left_03/grgb.npy'),\n",
       " PosixPath('/Users/adele/PycharmProjects/Ecoli_smFISH/tests/exp16/output/MG1655_GAL-lowOD-2nd_05/grgb.npy'),\n",
       " PosixPath('/Users/adele/PycharmProjects/Ecoli_smFISH/tests/exp16/output/MG1655_MAN_OD_0.3_left_08/grgb.npy'),\n",
       " PosixPath('/Users/adele/PycharmProjects/Ecoli_smFISH/tests/exp16/output/MG1655_MAN_OD_0.3_left_07/grgb.npy'),\n",
       " PosixPath('/Users/adele/PycharmProjects/Ecoli_smFISH/tests/exp16/output/MG1655_LB_fixed2806_hybed1906_left_03/grgb.npy'),\n",
       " PosixPath('/Users/adele/PycharmProjects/Ecoli_smFISH/tests/exp16/output/MG1655_LB_fixed2806_hybed1906_left_05/grgb.npy'),\n",
       " PosixPath('/Users/adele/PycharmProjects/Ecoli_smFISH/tests/exp16/output/MG1655_GAL-lowOD-2nd_06/grgb.npy')]"
      ]
     },
     "execution_count": 60,
     "metadata": {},
     "output_type": "execute_result"
    }
   ],
   "execution_count": 60
  },
  {
   "metadata": {
    "ExecuteTime": {
     "end_time": "2024-11-06T09:38:17.442138Z",
     "start_time": "2024-11-06T09:38:17.385253Z"
    }
   },
   "cell_type": "code",
   "source": [
    "# warning: this cell is only for initialising to reasonable values\n",
    "# this is for initialization only\n",
    "# only a fool would run this again after painstakingly manually setting the parameters!!!!\n",
    "#\n",
    "# rootdir = '/Volumes/Flodrive/Florence/smFISH/analysis'\n",
    "# for f in Path(rootdir).glob('*/config.json'):\n",
    "#     config_selected = f.parent / 'config-selected.json'\n",
    "#     print(f\"{f} -> {config_selected}\")\n",
    "#     with open(f, 'r') as fh:\n",
    "#         config = json.load(fh)\n",
    "#         for exp in config['experiments']:\n",
    "#             for img in exp['images']:\n",
    "#                 # print(img['basename'])\n",
    "#                 img['segment'] = False\n",
    "#                 img['detect_spots'] = False\n",
    "#                 img['segmentation'] = { \n",
    "#                     'model_type': 'cyto2_omni',\n",
    "#                     'channels': [1, 2],\n",
    "#                     'diameter': 0,\n",
    "#                     'mask': 0,\n",
    "#                     'flow': 0.0\n",
    "#                 }\n",
    "#         \n",
    "#         with open(config_selected, 'w') as fh:\n",
    "#                 json.dump(config, fh)\n"
   ],
   "id": "c51e1f15b890e08",
   "outputs": [
    {
     "name": "stdout",
     "output_type": "stream",
     "text": [
      "/Volumes/Flodrive/Florence/smFISH/analysis/20240927-LB/config.json -> /Volumes/Flodrive/Florence/smFISH/analysis/20240927-LB/config-selected.json\n"
     ]
    }
   ],
   "execution_count": 348
  },
  {
   "metadata": {
    "ExecuteTime": {
     "end_time": "2024-11-04T16:32:17.668429Z",
     "start_time": "2024-11-04T16:31:43.582147Z"
    }
   },
   "cell_type": "code",
   "source": [
    "rootdir = \"/Volumes/Flodrive/Florence/smFISH/analysis/20241029-exp24\"\n",
    "for f in Path(rootdir).glob('*/grgb.npy'):\n",
    "    print(f.parent / \"grgb.tif\")\n",
    "    io.imsave(f.parent / \"grgb.tif\", np.load(f)) "
   ],
   "id": "2d2c936b3a6395b2",
   "outputs": [
    {
     "name": "stdout",
     "output_type": "stream",
     "text": [
      "/Volumes/Flodrive/Florence/smFISH/analysis/20241029-exp24/exp24-GLY-left_01/grgb.tif\n",
      "/Volumes/Flodrive/Florence/smFISH/analysis/20241029-exp24/exp24-GLY-left_02/grgb.tif\n",
      "/Volumes/Flodrive/Florence/smFISH/analysis/20241029-exp24/exp24-GLY-left_03/grgb.tif\n",
      "/Volumes/Flodrive/Florence/smFISH/analysis/20241029-exp24/exp24-GLY-left_04/grgb.tif\n",
      "/Volumes/Flodrive/Florence/smFISH/analysis/20241029-exp24/exp24-GLY-left_05/grgb.tif\n",
      "/Volumes/Flodrive/Florence/smFISH/analysis/20241029-exp24/exp24-GLY-left_06/grgb.tif\n",
      "/Volumes/Flodrive/Florence/smFISH/analysis/20241029-exp24/exp24-GLY-left_07/grgb.tif\n",
      "/Volumes/Flodrive/Florence/smFISH/analysis/20241029-exp24/exp24-GLY-left_08/grgb.tif\n",
      "/Volumes/Flodrive/Florence/smFISH/analysis/20241029-exp24/exp24-GLY-left_09/grgb.tif\n",
      "/Volumes/Flodrive/Florence/smFISH/analysis/20241029-exp24/exp24-GLY-left_10/grgb.tif\n"
     ]
    }
   ],
   "execution_count": 208
  },
  {
   "metadata": {
    "ExecuteTime": {
     "end_time": "2024-11-04T10:14:35.783892Z",
     "start_time": "2024-11-04T10:14:35.756786Z"
    }
   },
   "cell_type": "code",
   "source": [
    "# # pick a model for DIC masks\n",
    "# #\n",
    "# model_type = 'cyto2_omni'\n",
    "# chans = '[1,2]'\n",
    "# minsize = '0'\n",
    "# mask = '-2'\n",
    "# flow = '0'\n",
    "# diameter = '35'\n",
    "# \n",
    "# targetmaskfile = f'DIC_masks_model={model_type}_chan={chans}_diameter={diameter}_minsize={minsize}_mask={mask}_flow={flow}.tif'\n",
    "# for f in Path(rootdir).glob('*/DIC_masks.tif'):\n",
    "#     f = Path(str(f).replace('grgb.tif', 'DIC_masks.tif'))\n",
    "#     Path(f).unlink(missing_ok=True)\n",
    "#     Path(f).symlink_to(targetmaskfile)"
   ],
   "id": "ad180cd837558b38",
   "outputs": [
    {
     "name": "stdout",
     "output_type": "stream",
     "text": [
      "/Users/adele/PycharmProjects/Ecoli_smFISH/tests/exp16/output/MG1655_GLY-lowOD-2nd_16/DIC_masks.tif\n",
      "/Users/adele/PycharmProjects/Ecoli_smFISH/tests/exp16/output/MG1655_GLY-lowOD-2nd_17/DIC_masks.tif\n",
      "/Users/adele/PycharmProjects/Ecoli_smFISH/tests/exp16/output/MG1655_GLU_OD_0.3_left_02/DIC_masks.tif\n",
      "/Users/adele/PycharmProjects/Ecoli_smFISH/tests/exp16/output/MG1655_GLU_OD_0.3_left_03/DIC_masks.tif\n",
      "/Users/adele/PycharmProjects/Ecoli_smFISH/tests/exp16/output/MG1655_GAL-lowOD-2nd_05/DIC_masks.tif\n",
      "/Users/adele/PycharmProjects/Ecoli_smFISH/tests/exp16/output/MG1655_MAN_OD_0.3_left_08/DIC_masks.tif\n",
      "/Users/adele/PycharmProjects/Ecoli_smFISH/tests/exp16/output/MG1655_MAN_OD_0.3_left_07/DIC_masks.tif\n",
      "/Users/adele/PycharmProjects/Ecoli_smFISH/tests/exp16/output/MG1655_LB_fixed2806_hybed1906_left_03/DIC_masks.tif\n",
      "/Users/adele/PycharmProjects/Ecoli_smFISH/tests/exp16/output/MG1655_LB_fixed2806_hybed1906_left_05/DIC_masks.tif\n",
      "/Users/adele/PycharmProjects/Ecoli_smFISH/tests/exp16/output/MG1655_GAL-lowOD-2nd_06/DIC_masks.tif\n"
     ]
    }
   ],
   "execution_count": 89
  },
  {
   "metadata": {
    "ExecuteTime": {
     "end_time": "2024-11-04T09:46:59.805060Z",
     "start_time": "2024-11-04T09:46:59.798342Z"
    }
   },
   "cell_type": "code",
   "source": [
    "# pick a model for DAPI masks\n",
    "#\n",
    "model_type = 'nuclei'\n",
    "chans = '[1,0]'\n",
    "minsize = '0'\n",
    "mask = '0.0'\n",
    "flow = '0.0'\n",
    "diameter = '0'\n",
    "\n",
    "targetmaskfile = f'DIC_masks_model={model_type}_chan={chans}_diameter={diameter}_minsize={minsize}_mask={mask}_flow={flow}.tif'\n",
    "for f in Path(rootdir).glob('*/DIC_masks.tif'):\n",
    "    Path(f).unlink(missing_ok=True)\n",
    "    Path(f).symlink_to(targetmaskfile)\n"
   ],
   "id": "ded56f3c5aa83e25",
   "outputs": [],
   "execution_count": 88
  },
  {
   "metadata": {
    "ExecuteTime": {
     "end_time": "2024-11-03T18:11:01.970812Z",
     "start_time": "2024-11-03T18:11:01.964450Z"
    }
   },
   "cell_type": "code",
   "source": [
    "from cellpose_omni import models\n",
    "# from cellpose_omni.core import use_gpu\n",
    "from omnipose.gpu import use_gpu\n",
    "# This checks to see if you have set up your GPU properly.\n",
    "# CPU performance is a lot slower, but not a problem if you \n",
    "# are only processing a few images.\n",
    "use_GPU = use_gpu()\n",
    "\n",
    "from cellpose_omni.models import MODEL_NAMES\n",
    "print(MODEL_NAMES)"
   ],
   "id": "dc8f4ad3620f8a93",
   "outputs": [
    {
     "name": "stdout",
     "output_type": "stream",
     "text": [
      "['bact_phase_omni', 'bact_fluor_omni', 'worm_omni', 'worm_bact_omni', 'worm_high_res_omni', 'cyto2_omni', 'plant_omni', 'bact_phase_cp', 'bact_fluor_cp', 'plant_cp', 'worm_cp', 'cyto', 'nuclei', 'cyto2']\n"
     ]
    }
   ],
   "execution_count": 28
  },
  {
   "metadata": {},
   "cell_type": "markdown",
   "source": "## Segmentation",
   "id": "69e751ecbf448a48"
  },
  {
   "metadata": {},
   "cell_type": "markdown",
   "source": [
    "### Nuclei \n",
    "- does not work here\n",
    "- works in script"
   ],
   "id": "dea5d5cb63fcf62"
  },
  {
   "metadata": {
    "ExecuteTime": {
     "end_time": "2024-11-03T19:48:26.846069Z",
     "start_time": "2024-11-03T19:47:47.842793Z"
    }
   },
   "cell_type": "code",
   "source": [
    "model_type = \"nuclei\"\n",
    "model = models.CellposeModel(gpu=use_GPU, model_type=model_type)\n",
    "chans = [0, 0]\n",
    "\n",
    "min_size = 10\n",
    "\n",
    "params = {'channels': chans, # always define this with the model\n",
    "          'rescale': None, # upscale or downscale your images, None = no rescaling\n",
    "          'mask_threshold': 0.0, # erode or dilate masks with higher or lower values between -5 and 5\n",
    "          'flow_threshold': 0.0,\n",
    "          'min_size': min_size,\n",
    "          'diameter': 0.0,\n",
    "          'invert': False,\n",
    "          'transparency': True, # transparency in flow output\n",
    "          'omni': True, # we can turn off Omnipose mask reconstruction, not advised\n",
    "          'cluster': True, # use DBSCAN clustering\n",
    "          'resample': True, # whether or not to run dynamics on rescaled grid or original grid\n",
    "          'verbose': False, # turn on if you want to see more output\n",
    "          'tile': False, # average the outputs from flipped (augmented) images; slower, usually not needed\n",
    "          'niter': None, # default None lets Omnipose calculate # of Euler iterations (usually <20) but you can tune it for over/under segmentation\n",
    "          'augment': False, # Can optionally rotate the image and average network outputs, usually not needed\n",
    "          'affinity_seg': False, # new feature, stay tuned...\n",
    "         }\n",
    "\n",
    "rootdir = '/Users/adele/PycharmProjects/Ecoli_smFISH/tests/exp16/output'\n",
    "files = Path(rootdir).glob('*/DAPI_max_proj.tif')\n",
    "# stop_after = 1\n",
    "imgs = [io.imread(f) for f in files]\n",
    "stop_after = len(imgs)\n",
    "masks, flows, styles = model.eval(imgs[:stop_after], **params)"
   ],
   "id": "1760815036984e6b",
   "outputs": [
    {
     "name": "stdout",
     "output_type": "stream",
     "text": [
      "\u001B[38;5;78m2024-11-03 20:47:47,844\t[INFO]                                   __init__....()\t line 432\t>>nuclei<< model set to be used\u001B[0m\n",
      "\u001B[38;5;74m2024-11-03 20:47:47,847\t[INFO]     cellpose_omni/core.py         assi...evice()\t line  67\tUsing GPU.\u001B[0m\n",
      "\u001B[38;5;74m2024-11-03 20:47:47,925\t[INFO]                                   __init__....()\t line 163\tu-net config: ([2, 32, 64, 128, 256], 3, 2)\u001B[0m\n"
     ]
    },
    {
     "data": {
      "text/plain": [
       "  0%|          | 0/10 [00:00<?, ?it/s]"
      ],
      "application/vnd.jupyter.widget-view+json": {
       "version_major": 2,
       "version_minor": 0,
       "model_id": "0782003ed47f497fb4ebef513641925e"
      }
     },
     "metadata": {},
     "output_type": "display_data"
    }
   ],
   "execution_count": 49
  },
  {
   "metadata": {
    "ExecuteTime": {
     "end_time": "2024-11-03T19:49:14.082335Z",
     "start_time": "2024-11-03T19:49:13.925588Z"
    }
   },
   "cell_type": "code",
   "source": [
    "# save the masks with channel information\n",
    "files = Path(rootdir).glob('*/grgb.npy')\n",
    "filelist = list(files)\n",
    "for f, m in zip(filelist, masks):\n",
    "    maskfile = Path(f).parent / f'DIC_masks_model={model_type}_chan={str(params[\"channels\"]).replace(\" \", \"\")}_diameter={params[\"diameter\"]}_minsize={params[\"min_size\"]}_mask={params[\"mask_threshold\"]}_flow={params[\"flow_threshold\"]}.tif'\n",
    "    io.imsave(maskfile, m)"
   ],
   "id": "f7338b531577aed1",
   "outputs": [
    {
     "name": "stderr",
     "output_type": "stream",
     "text": [
      "/var/folders/pp/cdyfs0g13j3_15mc99_0nfmh0000gn/T/ipykernel_8315/3153628565.py:6: UserWarning: /Users/adele/PycharmProjects/Ecoli_smFISH/tests/exp16/output/MG1655_GLY-lowOD-2nd_16/DAPI_masks_model=nuclei_chan=[0,0]_minsize=10_maskth=0.0.tif is a low contrast image\n",
      "  io.imsave(maskfile, m)\n",
      "/var/folders/pp/cdyfs0g13j3_15mc99_0nfmh0000gn/T/ipykernel_8315/3153628565.py:6: UserWarning: /Users/adele/PycharmProjects/Ecoli_smFISH/tests/exp16/output/MG1655_GLY-lowOD-2nd_17/DAPI_masks_model=nuclei_chan=[0,0]_minsize=10_maskth=0.0.tif is a low contrast image\n",
      "  io.imsave(maskfile, m)\n",
      "/var/folders/pp/cdyfs0g13j3_15mc99_0nfmh0000gn/T/ipykernel_8315/3153628565.py:6: UserWarning: /Users/adele/PycharmProjects/Ecoli_smFISH/tests/exp16/output/MG1655_GLU_OD_0.3_left_02/DAPI_masks_model=nuclei_chan=[0,0]_minsize=10_maskth=0.0.tif is a low contrast image\n",
      "  io.imsave(maskfile, m)\n",
      "/var/folders/pp/cdyfs0g13j3_15mc99_0nfmh0000gn/T/ipykernel_8315/3153628565.py:6: UserWarning: /Users/adele/PycharmProjects/Ecoli_smFISH/tests/exp16/output/MG1655_GLU_OD_0.3_left_03/DAPI_masks_model=nuclei_chan=[0,0]_minsize=10_maskth=0.0.tif is a low contrast image\n",
      "  io.imsave(maskfile, m)\n",
      "/var/folders/pp/cdyfs0g13j3_15mc99_0nfmh0000gn/T/ipykernel_8315/3153628565.py:6: UserWarning: /Users/adele/PycharmProjects/Ecoli_smFISH/tests/exp16/output/MG1655_GAL-lowOD-2nd_05/DAPI_masks_model=nuclei_chan=[0,0]_minsize=10_maskth=0.0.tif is a low contrast image\n",
      "  io.imsave(maskfile, m)\n",
      "/var/folders/pp/cdyfs0g13j3_15mc99_0nfmh0000gn/T/ipykernel_8315/3153628565.py:6: UserWarning: /Users/adele/PycharmProjects/Ecoli_smFISH/tests/exp16/output/MG1655_MAN_OD_0.3_left_08/DAPI_masks_model=nuclei_chan=[0,0]_minsize=10_maskth=0.0.tif is a low contrast image\n",
      "  io.imsave(maskfile, m)\n",
      "/var/folders/pp/cdyfs0g13j3_15mc99_0nfmh0000gn/T/ipykernel_8315/3153628565.py:6: UserWarning: /Users/adele/PycharmProjects/Ecoli_smFISH/tests/exp16/output/MG1655_MAN_OD_0.3_left_07/DAPI_masks_model=nuclei_chan=[0,0]_minsize=10_maskth=0.0.tif is a low contrast image\n",
      "  io.imsave(maskfile, m)\n",
      "/var/folders/pp/cdyfs0g13j3_15mc99_0nfmh0000gn/T/ipykernel_8315/3153628565.py:6: UserWarning: /Users/adele/PycharmProjects/Ecoli_smFISH/tests/exp16/output/MG1655_LB_fixed2806_hybed1906_left_03/DAPI_masks_model=nuclei_chan=[0,0]_minsize=10_maskth=0.0.tif is a low contrast image\n",
      "  io.imsave(maskfile, m)\n",
      "/var/folders/pp/cdyfs0g13j3_15mc99_0nfmh0000gn/T/ipykernel_8315/3153628565.py:6: UserWarning: /Users/adele/PycharmProjects/Ecoli_smFISH/tests/exp16/output/MG1655_LB_fixed2806_hybed1906_left_05/DAPI_masks_model=nuclei_chan=[0,0]_minsize=10_maskth=0.0.tif is a low contrast image\n",
      "  io.imsave(maskfile, m)\n",
      "/var/folders/pp/cdyfs0g13j3_15mc99_0nfmh0000gn/T/ipykernel_8315/3153628565.py:6: UserWarning: /Users/adele/PycharmProjects/Ecoli_smFISH/tests/exp16/output/MG1655_GAL-lowOD-2nd_06/DAPI_masks_model=nuclei_chan=[0,0]_minsize=10_maskth=0.0.tif is a low contrast image\n",
      "  io.imsave(maskfile, m)\n"
     ]
    }
   ],
   "execution_count": 50
  },
  {
   "metadata": {},
   "cell_type": "markdown",
   "source": "### Cells: cyto2 with only DIC as input",
   "id": "4c76c0d28bae2f0c"
  },
  {
   "metadata": {
    "ExecuteTime": {
     "end_time": "2024-11-03T18:20:40.910602Z",
     "start_time": "2024-11-03T18:19:58.069007Z"
    }
   },
   "cell_type": "code",
   "source": [
    "model_type = \"cyto2\"\n",
    "model = models.CellposeModel(gpu=use_GPU, model_type=model_type)\n",
    "chans = [2, 0]\n",
    "min_size = 200\n",
    "\n",
    "params = {'channels': chans, # always define this with the model\n",
    "          'rescale': None, # upscale or downscale your images, None = no rescaling\n",
    "          'mask_threshold': 0.0, # erode or dilate masks with higher or lower values between -5 and 5\n",
    "          'flow_threshold': 0.0,\n",
    "          'min_size': min_size,\n",
    "          'diameter': 0.0,\n",
    "          'invert': False,\n",
    "          'transparency': True, # transparency in flow output\n",
    "          'omni': True, # we can turn off Omnipose mask reconstruction, not advised\n",
    "          'cluster': True, # use DBSCAN clustering\n",
    "          'resample': True, # whether or not to run dynamics on rescaled grid or original grid\n",
    "          'verbose': False, # turn on if you want to see more output\n",
    "          'tile': False, # average the outputs from flipped (augmented) images; slower, usually not needed\n",
    "          'niter': None, # default None lets Omnipose calculate # of Euler iterations (usually <20) but you can tune it for over/under segmentation\n",
    "          'augment': False, # Can optionally rotate the image and average network outputs, usually not needed\n",
    "          'affinity_seg': False, # new feature, stay tuned...\n",
    "         }\n",
    "\n",
    "rootdir = '/Users/adele/PycharmProjects/Ecoli_smFISH/tests/exp16/output'\n",
    "files = Path(rootdir).glob('*/grgb.npy')\n",
    "# stop_after = 1\n",
    "imgs = [np.load(f) for f in files]\n",
    "stop_after = len(imgs)\n",
    "masks, flows, styles = model.eval(imgs[:stop_after], **params)"
   ],
   "id": "241f685eeabf3596",
   "outputs": [
    {
     "name": "stdout",
     "output_type": "stream",
     "text": [
      "\u001B[38;5;78m2024-11-03 19:19:58,071\t[INFO]     cellpose_omni/models.py                   \t line 432\t>>cyto2<< model set to be used\u001B[0m\n",
      "\u001B[38;5;74m2024-11-03 19:19:58,079\t[INFO]     cellpose_omni/core.py         assi...evice()\t line  67\tUsing GPU.\u001B[0m\n",
      "\u001B[38;5;74m2024-11-03 19:19:58,159\t[INFO]                                   __init__....()\t line 163\tu-net config: ([2, 32, 64, 128, 256], 3, 2)\u001B[0m\n"
     ]
    },
    {
     "data": {
      "text/plain": [
       "  0%|          | 0/10 [00:00<?, ?it/s]"
      ],
      "application/vnd.jupyter.widget-view+json": {
       "version_major": 2,
       "version_minor": 0,
       "model_id": "61225649243d4c1eb9423be7aaebeea8"
      }
     },
     "metadata": {},
     "output_type": "display_data"
    }
   ],
   "execution_count": 39
  },
  {
   "metadata": {
    "ExecuteTime": {
     "end_time": "2024-11-03T18:21:47.485027Z",
     "start_time": "2024-11-03T18:21:47.329712Z"
    }
   },
   "cell_type": "code",
   "source": [
    "# save the masks with channel information\n",
    "files = Path(rootdir).glob('*/grgb.npy')\n",
    "filelist = list(files)\n",
    "ch = str(chans)\n",
    "ch = re.sub(' ', '', ch)\n",
    "for f, m in zip(filelist, masks):\n",
    "    maskfile = Path(f).parent / f'DIC_masks_model={model_type}_chan={str(params[\"channels\"]).replace(\" \", \"\")}_diameter={params[\"diameter\"]}_minsize={params[\"min_size\"]}_mask={params[\"mask_threshold\"]}_flow={params[\"flow_threshold\"]}.tif'\n",
    "    # print(f, maskfile)\n",
    "    io.imsave(maskfile, m)"
   ],
   "id": "e39dc25309f6a61e",
   "outputs": [
    {
     "name": "stderr",
     "output_type": "stream",
     "text": [
      "/var/folders/pp/cdyfs0g13j3_15mc99_0nfmh0000gn/T/ipykernel_8315/2646462956.py:9: UserWarning: /Users/adele/PycharmProjects/Ecoli_smFISH/tests/exp16/output/MG1655_GLY-lowOD-2nd_16/DIC_masks_model=cyto2_chan=[2,0]_minsize=200_maskth=0.0.tif is a low contrast image\n",
      "  io.imsave(maskfile, m)\n",
      "/var/folders/pp/cdyfs0g13j3_15mc99_0nfmh0000gn/T/ipykernel_8315/2646462956.py:9: UserWarning: /Users/adele/PycharmProjects/Ecoli_smFISH/tests/exp16/output/MG1655_GLY-lowOD-2nd_17/DIC_masks_model=cyto2_chan=[2,0]_minsize=200_maskth=0.0.tif is a low contrast image\n",
      "  io.imsave(maskfile, m)\n",
      "/var/folders/pp/cdyfs0g13j3_15mc99_0nfmh0000gn/T/ipykernel_8315/2646462956.py:9: UserWarning: /Users/adele/PycharmProjects/Ecoli_smFISH/tests/exp16/output/MG1655_GLU_OD_0.3_left_02/DIC_masks_model=cyto2_chan=[2,0]_minsize=200_maskth=0.0.tif is a low contrast image\n",
      "  io.imsave(maskfile, m)\n",
      "/var/folders/pp/cdyfs0g13j3_15mc99_0nfmh0000gn/T/ipykernel_8315/2646462956.py:9: UserWarning: /Users/adele/PycharmProjects/Ecoli_smFISH/tests/exp16/output/MG1655_GLU_OD_0.3_left_03/DIC_masks_model=cyto2_chan=[2,0]_minsize=200_maskth=0.0.tif is a low contrast image\n",
      "  io.imsave(maskfile, m)\n",
      "/var/folders/pp/cdyfs0g13j3_15mc99_0nfmh0000gn/T/ipykernel_8315/2646462956.py:9: UserWarning: /Users/adele/PycharmProjects/Ecoli_smFISH/tests/exp16/output/MG1655_GAL-lowOD-2nd_05/DIC_masks_model=cyto2_chan=[2,0]_minsize=200_maskth=0.0.tif is a low contrast image\n",
      "  io.imsave(maskfile, m)\n",
      "/var/folders/pp/cdyfs0g13j3_15mc99_0nfmh0000gn/T/ipykernel_8315/2646462956.py:9: UserWarning: /Users/adele/PycharmProjects/Ecoli_smFISH/tests/exp16/output/MG1655_MAN_OD_0.3_left_08/DIC_masks_model=cyto2_chan=[2,0]_minsize=200_maskth=0.0.tif is a low contrast image\n",
      "  io.imsave(maskfile, m)\n",
      "/var/folders/pp/cdyfs0g13j3_15mc99_0nfmh0000gn/T/ipykernel_8315/2646462956.py:9: UserWarning: /Users/adele/PycharmProjects/Ecoli_smFISH/tests/exp16/output/MG1655_MAN_OD_0.3_left_07/DIC_masks_model=cyto2_chan=[2,0]_minsize=200_maskth=0.0.tif is a low contrast image\n",
      "  io.imsave(maskfile, m)\n",
      "/var/folders/pp/cdyfs0g13j3_15mc99_0nfmh0000gn/T/ipykernel_8315/2646462956.py:9: UserWarning: /Users/adele/PycharmProjects/Ecoli_smFISH/tests/exp16/output/MG1655_LB_fixed2806_hybed1906_left_03/DIC_masks_model=cyto2_chan=[2,0]_minsize=200_maskth=0.0.tif is a low contrast image\n",
      "  io.imsave(maskfile, m)\n",
      "/var/folders/pp/cdyfs0g13j3_15mc99_0nfmh0000gn/T/ipykernel_8315/2646462956.py:9: UserWarning: /Users/adele/PycharmProjects/Ecoli_smFISH/tests/exp16/output/MG1655_LB_fixed2806_hybed1906_left_05/DIC_masks_model=cyto2_chan=[2,0]_minsize=200_maskth=0.0.tif is a low contrast image\n",
      "  io.imsave(maskfile, m)\n",
      "/var/folders/pp/cdyfs0g13j3_15mc99_0nfmh0000gn/T/ipykernel_8315/2646462956.py:9: UserWarning: /Users/adele/PycharmProjects/Ecoli_smFISH/tests/exp16/output/MG1655_GAL-lowOD-2nd_06/DIC_masks_model=cyto2_chan=[2,0]_minsize=200_maskth=0.0.tif is a low contrast image\n",
      "  io.imsave(maskfile, m)\n"
     ]
    }
   ],
   "execution_count": 40
  },
  {
   "metadata": {},
   "cell_type": "markdown",
   "source": "### Cells: cyto2 with DIC and DAPI as input",
   "id": "2cf525ad87040b3"
  },
  {
   "metadata": {
    "ExecuteTime": {
     "end_time": "2024-11-03T18:28:09.953082Z",
     "start_time": "2024-11-03T18:27:29.751217Z"
    }
   },
   "cell_type": "code",
   "source": [
    "model_type = \"cyto2\"\n",
    "model = models.CellposeModel(gpu=use_GPU, model_type=model_type)\n",
    "chans = [2, 3]\n",
    "min_size = 200\n",
    "\n",
    "params = {'channels': chans, # always define this with the model\n",
    "          'rescale': None, # upscale or downscale your images, None = no rescaling\n",
    "          'mask_threshold': 0.0, # erode or dilate masks with higher or lower values between -5 and 5\n",
    "          'flow_threshold': 0.0,\n",
    "          'min_size': min_size,\n",
    "          'diameter': 0.0,\n",
    "          'invert': False,\n",
    "          'transparency': True, # transparency in flow output\n",
    "          'omni': True, # we can turn off Omnipose mask reconstruction, not advised\n",
    "          'cluster': True, # use DBSCAN clustering\n",
    "          'resample': True, # whether or not to run dynamics on rescaled grid or original grid\n",
    "          'verbose': False, # turn on if you want to see more output\n",
    "          'tile': False, # average the outputs from flipped (augmented) images; slower, usually not needed\n",
    "          'niter': None, # default None lets Omnipose calculate # of Euler iterations (usually <20) but you can tune it for over/under segmentation\n",
    "          'augment': False, # Can optionally rotate the image and average network outputs, usually not needed\n",
    "          'affinity_seg': False, # new feature, stay tuned...\n",
    "         }\n",
    "\n",
    "rootdir = '/Users/adele/PycharmProjects/Ecoli_smFISH/tests/exp16/output'\n",
    "files = Path(rootdir).glob('*/grgb.npy')\n",
    "# stop_after = 1\n",
    "imgs = [np.load(f) for f in files]\n",
    "stop_after = len(imgs)\n",
    "masks, flows, styles = model.eval(imgs[:stop_after], **params)"
   ],
   "id": "8739c8bcd0ea3e85",
   "outputs": [
    {
     "name": "stdout",
     "output_type": "stream",
     "text": [
      "\u001B[38;5;78m2024-11-03 19:27:29,754\t[INFO]     cellpose_omni/models.py                   \t line 432\t>>cyto2<< model set to be used\u001B[0m\n",
      "\u001B[38;5;74m2024-11-03 19:27:29,756\t[INFO]     cellpose_omni/core.py         assi...evice()\t line  67\tUsing GPU.\u001B[0m\n",
      "\u001B[38;5;74m2024-11-03 19:27:29,845\t[INFO]                                   __init__....()\t line 163\tu-net config: ([2, 32, 64, 128, 256], 3, 2)\u001B[0m\n"
     ]
    },
    {
     "data": {
      "text/plain": [
       "  0%|          | 0/10 [00:00<?, ?it/s]"
      ],
      "application/vnd.jupyter.widget-view+json": {
       "version_major": 2,
       "version_minor": 0,
       "model_id": "ea27d86e6363405a9db4d66d652b97ce"
      }
     },
     "metadata": {},
     "output_type": "display_data"
    }
   ],
   "execution_count": 41
  },
  {
   "metadata": {
    "ExecuteTime": {
     "end_time": "2024-11-03T18:28:17.766821Z",
     "start_time": "2024-11-03T18:28:17.614734Z"
    }
   },
   "cell_type": "code",
   "source": [
    "# save the masks with channel information\n",
    "files = Path(rootdir).glob('*/grgb.npy')\n",
    "filelist = list(files)\n",
    "\n",
    "for f, m in zip(filelist, masks):\n",
    "    maskfile = Path(f).parent / f'DIC_masks_model={model_type}_chan={str(params[\"channels\"]).replace(\" \", \"\")}_diameter={params[\"diameter\"]}_minsize={params[\"min_size\"]}_mask={params[\"mask_threshold\"]}_flow={params[\"flow_threshold\"]}.tif'\n",
    "    io.imsave(maskfile, m)"
   ],
   "id": "b78278793989e377",
   "outputs": [
    {
     "name": "stderr",
     "output_type": "stream",
     "text": [
      "/var/folders/pp/cdyfs0g13j3_15mc99_0nfmh0000gn/T/ipykernel_8315/2646462956.py:9: UserWarning: /Users/adele/PycharmProjects/Ecoli_smFISH/tests/exp16/output/MG1655_GLY-lowOD-2nd_16/DIC_masks_model=cyto2_chan=[2,3]_minsize=200_maskth=0.0.tif is a low contrast image\n",
      "  io.imsave(maskfile, m)\n",
      "/var/folders/pp/cdyfs0g13j3_15mc99_0nfmh0000gn/T/ipykernel_8315/2646462956.py:9: UserWarning: /Users/adele/PycharmProjects/Ecoli_smFISH/tests/exp16/output/MG1655_GLY-lowOD-2nd_17/DIC_masks_model=cyto2_chan=[2,3]_minsize=200_maskth=0.0.tif is a low contrast image\n",
      "  io.imsave(maskfile, m)\n",
      "/var/folders/pp/cdyfs0g13j3_15mc99_0nfmh0000gn/T/ipykernel_8315/2646462956.py:9: UserWarning: /Users/adele/PycharmProjects/Ecoli_smFISH/tests/exp16/output/MG1655_GLU_OD_0.3_left_02/DIC_masks_model=cyto2_chan=[2,3]_minsize=200_maskth=0.0.tif is a low contrast image\n",
      "  io.imsave(maskfile, m)\n",
      "/var/folders/pp/cdyfs0g13j3_15mc99_0nfmh0000gn/T/ipykernel_8315/2646462956.py:9: UserWarning: /Users/adele/PycharmProjects/Ecoli_smFISH/tests/exp16/output/MG1655_GLU_OD_0.3_left_03/DIC_masks_model=cyto2_chan=[2,3]_minsize=200_maskth=0.0.tif is a low contrast image\n",
      "  io.imsave(maskfile, m)\n",
      "/var/folders/pp/cdyfs0g13j3_15mc99_0nfmh0000gn/T/ipykernel_8315/2646462956.py:9: UserWarning: /Users/adele/PycharmProjects/Ecoli_smFISH/tests/exp16/output/MG1655_GAL-lowOD-2nd_05/DIC_masks_model=cyto2_chan=[2,3]_minsize=200_maskth=0.0.tif is a low contrast image\n",
      "  io.imsave(maskfile, m)\n",
      "/var/folders/pp/cdyfs0g13j3_15mc99_0nfmh0000gn/T/ipykernel_8315/2646462956.py:9: UserWarning: /Users/adele/PycharmProjects/Ecoli_smFISH/tests/exp16/output/MG1655_MAN_OD_0.3_left_08/DIC_masks_model=cyto2_chan=[2,3]_minsize=200_maskth=0.0.tif is a low contrast image\n",
      "  io.imsave(maskfile, m)\n",
      "/var/folders/pp/cdyfs0g13j3_15mc99_0nfmh0000gn/T/ipykernel_8315/2646462956.py:9: UserWarning: /Users/adele/PycharmProjects/Ecoli_smFISH/tests/exp16/output/MG1655_MAN_OD_0.3_left_07/DIC_masks_model=cyto2_chan=[2,3]_minsize=200_maskth=0.0.tif is a low contrast image\n",
      "  io.imsave(maskfile, m)\n",
      "/var/folders/pp/cdyfs0g13j3_15mc99_0nfmh0000gn/T/ipykernel_8315/2646462956.py:9: UserWarning: /Users/adele/PycharmProjects/Ecoli_smFISH/tests/exp16/output/MG1655_LB_fixed2806_hybed1906_left_03/DIC_masks_model=cyto2_chan=[2,3]_minsize=200_maskth=0.0.tif is a low contrast image\n",
      "  io.imsave(maskfile, m)\n",
      "/var/folders/pp/cdyfs0g13j3_15mc99_0nfmh0000gn/T/ipykernel_8315/2646462956.py:9: UserWarning: /Users/adele/PycharmProjects/Ecoli_smFISH/tests/exp16/output/MG1655_LB_fixed2806_hybed1906_left_05/DIC_masks_model=cyto2_chan=[2,3]_minsize=200_maskth=0.0.tif is a low contrast image\n",
      "  io.imsave(maskfile, m)\n",
      "/var/folders/pp/cdyfs0g13j3_15mc99_0nfmh0000gn/T/ipykernel_8315/2646462956.py:9: UserWarning: /Users/adele/PycharmProjects/Ecoli_smFISH/tests/exp16/output/MG1655_GAL-lowOD-2nd_06/DIC_masks_model=cyto2_chan=[2,3]_minsize=200_maskth=0.0.tif is a low contrast image\n",
      "  io.imsave(maskfile, m)\n"
     ]
    }
   ],
   "execution_count": 42
  },
  {
   "metadata": {},
   "cell_type": "markdown",
   "source": "",
   "id": "6afa114a9ac8ad4"
  },
  {
   "metadata": {},
   "cell_type": "markdown",
   "source": "### Cells: cyto2_omni with only DIC as input",
   "id": "ffcaa3c0eee8182d"
  },
  {
   "metadata": {
    "ExecuteTime": {
     "end_time": "2024-11-03T18:29:59.786362Z",
     "start_time": "2024-11-03T18:29:30.504273Z"
    }
   },
   "cell_type": "code",
   "source": [
    "model_type = \"cyto2_omni\"\n",
    "model = models.CellposeModel(gpu=use_GPU, model_type=model_type)\n",
    "chans = [1, 0]\n",
    "min_size = 200\n",
    "\n",
    "params = {'channels': chans, # always define this with the model\n",
    "          'rescale': None, # upscale or downscale your images, None = no rescaling\n",
    "          'mask_threshold': 0.0, # erode or dilate masks with higher or lower values between -5 and 5\n",
    "          'flow_threshold': 0.0,\n",
    "          'min_size': min_size,\n",
    "          'diameter': 0.0,\n",
    "          'invert': False,\n",
    "          'transparency': True, # transparency in flow output\n",
    "          'omni': True, # we can turn off Omnipose mask reconstruction, not advised\n",
    "          'cluster': True, # use DBSCAN clustering\n",
    "          'resample': True, # whether or not to run dynamics on rescaled grid or original grid\n",
    "          'verbose': False, # turn on if you want to see more output\n",
    "          'tile': False, # average the outputs from flipped (augmented) images; slower, usually not needed\n",
    "          'niter': None, # default None lets Omnipose calculate # of Euler iterations (usually <20) but you can tune it for over/under segmentation\n",
    "          'augment': False, # Can optionally rotate the image and average network outputs, usually not needed\n",
    "          'affinity_seg': False, # new feature, stay tuned...\n",
    "         }\n",
    "\n",
    "rootdir = '/Users/adele/PycharmProjects/Ecoli_smFISH/tests/exp16/output'\n",
    "files = Path(rootdir).glob('*/grgb.npy')\n",
    "# stop_after = 1\n",
    "imgs = [np.load(f) for f in files]\n",
    "stop_after = len(imgs)\n",
    "masks, flows, styles = model.eval(imgs[:stop_after], **params)"
   ],
   "id": "69ad916a56d0bfd6",
   "outputs": [
    {
     "name": "stdout",
     "output_type": "stream",
     "text": [
      "\u001B[38;5;78m2024-11-03 19:29:30,508\t[INFO]     cellpose_omni/models.py                   \t line 432\t>>cyto2_omni<< model set to be used\u001B[0m\n",
      "\u001B[38;5;74m2024-11-03 19:29:30,511\t[INFO]     cellpose_omni/core.py         assi...evice()\t line  67\tUsing GPU.\u001B[0m\n",
      "\u001B[38;5;74m2024-11-03 19:29:30,604\t[INFO]                                   __init__....()\t line 163\tu-net config: ([2, 32, 64, 128, 256], 4, 2)\u001B[0m\n"
     ]
    },
    {
     "data": {
      "text/plain": [
       "  0%|          | 0/10 [00:00<?, ?it/s]"
      ],
      "application/vnd.jupyter.widget-view+json": {
       "version_major": 2,
       "version_minor": 0,
       "model_id": "3258026b83bd4f549578233b80520456"
      }
     },
     "metadata": {},
     "output_type": "display_data"
    },
    {
     "name": "stderr",
     "output_type": "stream",
     "text": [
      "/Users/adele/Projects/omnipose/cellpose_omni/transforms.py:587: UserWarning: chan to seg' has value range of ZERO\n",
      "  warnings.warn(\"chan to seg' has value range of ZERO\")\n"
     ]
    },
    {
     "name": "stdout",
     "output_type": "stream",
     "text": [
      "\u001B[38;5;74m2024-11-03 19:29:34,235\t[INFO]                                   comp...masks()\t line 1618\tNo cell pixels found.\u001B[0m\n",
      "\u001B[38;5;74m2024-11-03 19:29:37,147\t[INFO]                                               \t line 1618\tNo cell pixels found.\u001B[0m\n",
      "\u001B[38;5;74m2024-11-03 19:29:40,017\t[INFO]                                               \t line 1618\tNo cell pixels found.\u001B[0m\n",
      "\u001B[38;5;74m2024-11-03 19:29:42,804\t[INFO]                                               \t line 1618\tNo cell pixels found.\u001B[0m\n",
      "\u001B[38;5;74m2024-11-03 19:29:45,574\t[INFO]                                               \t line 1618\tNo cell pixels found.\u001B[0m\n",
      "\u001B[38;5;74m2024-11-03 19:29:48,355\t[INFO]                                               \t line 1618\tNo cell pixels found.\u001B[0m\n",
      "\u001B[38;5;74m2024-11-03 19:29:51,166\t[INFO]                                               \t line 1618\tNo cell pixels found.\u001B[0m\n",
      "\u001B[38;5;74m2024-11-03 19:29:53,919\t[INFO]                                               \t line 1618\tNo cell pixels found.\u001B[0m\n",
      "\u001B[38;5;74m2024-11-03 19:29:56,777\t[INFO]                                               \t line 1618\tNo cell pixels found.\u001B[0m\n",
      "\u001B[38;5;74m2024-11-03 19:29:59,544\t[INFO]                                               \t line 1618\tNo cell pixels found.\u001B[0m\n"
     ]
    }
   ],
   "execution_count": 43
  },
  {
   "metadata": {
    "ExecuteTime": {
     "end_time": "2024-11-03T18:30:09.967286Z",
     "start_time": "2024-11-03T18:30:09.851051Z"
    }
   },
   "cell_type": "code",
   "source": [
    "# save the masks with channel information\n",
    "files = Path(rootdir).glob('*/grgb.npy')\n",
    "filelist = list(files)\n",
    "\n",
    "for f, m in zip(filelist, masks):\n",
    "    maskfile = Path(f).parent / f'DIC_masks_model={model_type}_chan={str(params[\"channels\"]).replace(\" \", \"\")}_diameter={params[\"diameter\"]}_minsize={params[\"min_size\"]}_mask={params[\"mask_threshold\"]}_flow={params[\"flow_threshold\"]}.tif'\n",
    "    io.imsave(maskfile, m)"
   ],
   "id": "f1d91b636794d7f6",
   "outputs": [
    {
     "name": "stderr",
     "output_type": "stream",
     "text": [
      "/var/folders/pp/cdyfs0g13j3_15mc99_0nfmh0000gn/T/ipykernel_8315/2646462956.py:9: UserWarning: /Users/adele/PycharmProjects/Ecoli_smFISH/tests/exp16/output/MG1655_GLY-lowOD-2nd_16/DIC_masks_model=cyto2_omni_chan=[1,0]_minsize=200_maskth=0.0.tif is a boolean image: setting True to 255 and False to 0. To silence this warning, please convert the image using img_as_ubyte.\n",
      "  io.imsave(maskfile, m)\n",
      "/var/folders/pp/cdyfs0g13j3_15mc99_0nfmh0000gn/T/ipykernel_8315/2646462956.py:9: UserWarning: /Users/adele/PycharmProjects/Ecoli_smFISH/tests/exp16/output/MG1655_GLY-lowOD-2nd_16/DIC_masks_model=cyto2_omni_chan=[1,0]_minsize=200_maskth=0.0.tif is a low contrast image\n",
      "  io.imsave(maskfile, m)\n",
      "/var/folders/pp/cdyfs0g13j3_15mc99_0nfmh0000gn/T/ipykernel_8315/2646462956.py:9: UserWarning: /Users/adele/PycharmProjects/Ecoli_smFISH/tests/exp16/output/MG1655_GLY-lowOD-2nd_17/DIC_masks_model=cyto2_omni_chan=[1,0]_minsize=200_maskth=0.0.tif is a boolean image: setting True to 255 and False to 0. To silence this warning, please convert the image using img_as_ubyte.\n",
      "  io.imsave(maskfile, m)\n",
      "/var/folders/pp/cdyfs0g13j3_15mc99_0nfmh0000gn/T/ipykernel_8315/2646462956.py:9: UserWarning: /Users/adele/PycharmProjects/Ecoli_smFISH/tests/exp16/output/MG1655_GLY-lowOD-2nd_17/DIC_masks_model=cyto2_omni_chan=[1,0]_minsize=200_maskth=0.0.tif is a low contrast image\n",
      "  io.imsave(maskfile, m)\n",
      "/var/folders/pp/cdyfs0g13j3_15mc99_0nfmh0000gn/T/ipykernel_8315/2646462956.py:9: UserWarning: /Users/adele/PycharmProjects/Ecoli_smFISH/tests/exp16/output/MG1655_GLU_OD_0.3_left_02/DIC_masks_model=cyto2_omni_chan=[1,0]_minsize=200_maskth=0.0.tif is a boolean image: setting True to 255 and False to 0. To silence this warning, please convert the image using img_as_ubyte.\n",
      "  io.imsave(maskfile, m)\n",
      "/var/folders/pp/cdyfs0g13j3_15mc99_0nfmh0000gn/T/ipykernel_8315/2646462956.py:9: UserWarning: /Users/adele/PycharmProjects/Ecoli_smFISH/tests/exp16/output/MG1655_GLU_OD_0.3_left_02/DIC_masks_model=cyto2_omni_chan=[1,0]_minsize=200_maskth=0.0.tif is a low contrast image\n",
      "  io.imsave(maskfile, m)\n",
      "/var/folders/pp/cdyfs0g13j3_15mc99_0nfmh0000gn/T/ipykernel_8315/2646462956.py:9: UserWarning: /Users/adele/PycharmProjects/Ecoli_smFISH/tests/exp16/output/MG1655_GLU_OD_0.3_left_03/DIC_masks_model=cyto2_omni_chan=[1,0]_minsize=200_maskth=0.0.tif is a boolean image: setting True to 255 and False to 0. To silence this warning, please convert the image using img_as_ubyte.\n",
      "  io.imsave(maskfile, m)\n",
      "/var/folders/pp/cdyfs0g13j3_15mc99_0nfmh0000gn/T/ipykernel_8315/2646462956.py:9: UserWarning: /Users/adele/PycharmProjects/Ecoli_smFISH/tests/exp16/output/MG1655_GLU_OD_0.3_left_03/DIC_masks_model=cyto2_omni_chan=[1,0]_minsize=200_maskth=0.0.tif is a low contrast image\n",
      "  io.imsave(maskfile, m)\n",
      "/var/folders/pp/cdyfs0g13j3_15mc99_0nfmh0000gn/T/ipykernel_8315/2646462956.py:9: UserWarning: /Users/adele/PycharmProjects/Ecoli_smFISH/tests/exp16/output/MG1655_GAL-lowOD-2nd_05/DIC_masks_model=cyto2_omni_chan=[1,0]_minsize=200_maskth=0.0.tif is a boolean image: setting True to 255 and False to 0. To silence this warning, please convert the image using img_as_ubyte.\n",
      "  io.imsave(maskfile, m)\n",
      "/var/folders/pp/cdyfs0g13j3_15mc99_0nfmh0000gn/T/ipykernel_8315/2646462956.py:9: UserWarning: /Users/adele/PycharmProjects/Ecoli_smFISH/tests/exp16/output/MG1655_GAL-lowOD-2nd_05/DIC_masks_model=cyto2_omni_chan=[1,0]_minsize=200_maskth=0.0.tif is a low contrast image\n",
      "  io.imsave(maskfile, m)\n",
      "/var/folders/pp/cdyfs0g13j3_15mc99_0nfmh0000gn/T/ipykernel_8315/2646462956.py:9: UserWarning: /Users/adele/PycharmProjects/Ecoli_smFISH/tests/exp16/output/MG1655_MAN_OD_0.3_left_08/DIC_masks_model=cyto2_omni_chan=[1,0]_minsize=200_maskth=0.0.tif is a boolean image: setting True to 255 and False to 0. To silence this warning, please convert the image using img_as_ubyte.\n",
      "  io.imsave(maskfile, m)\n",
      "/var/folders/pp/cdyfs0g13j3_15mc99_0nfmh0000gn/T/ipykernel_8315/2646462956.py:9: UserWarning: /Users/adele/PycharmProjects/Ecoli_smFISH/tests/exp16/output/MG1655_MAN_OD_0.3_left_08/DIC_masks_model=cyto2_omni_chan=[1,0]_minsize=200_maskth=0.0.tif is a low contrast image\n",
      "  io.imsave(maskfile, m)\n",
      "/var/folders/pp/cdyfs0g13j3_15mc99_0nfmh0000gn/T/ipykernel_8315/2646462956.py:9: UserWarning: /Users/adele/PycharmProjects/Ecoli_smFISH/tests/exp16/output/MG1655_MAN_OD_0.3_left_07/DIC_masks_model=cyto2_omni_chan=[1,0]_minsize=200_maskth=0.0.tif is a boolean image: setting True to 255 and False to 0. To silence this warning, please convert the image using img_as_ubyte.\n",
      "  io.imsave(maskfile, m)\n",
      "/var/folders/pp/cdyfs0g13j3_15mc99_0nfmh0000gn/T/ipykernel_8315/2646462956.py:9: UserWarning: /Users/adele/PycharmProjects/Ecoli_smFISH/tests/exp16/output/MG1655_MAN_OD_0.3_left_07/DIC_masks_model=cyto2_omni_chan=[1,0]_minsize=200_maskth=0.0.tif is a low contrast image\n",
      "  io.imsave(maskfile, m)\n",
      "/var/folders/pp/cdyfs0g13j3_15mc99_0nfmh0000gn/T/ipykernel_8315/2646462956.py:9: UserWarning: /Users/adele/PycharmProjects/Ecoli_smFISH/tests/exp16/output/MG1655_LB_fixed2806_hybed1906_left_03/DIC_masks_model=cyto2_omni_chan=[1,0]_minsize=200_maskth=0.0.tif is a boolean image: setting True to 255 and False to 0. To silence this warning, please convert the image using img_as_ubyte.\n",
      "  io.imsave(maskfile, m)\n",
      "/var/folders/pp/cdyfs0g13j3_15mc99_0nfmh0000gn/T/ipykernel_8315/2646462956.py:9: UserWarning: /Users/adele/PycharmProjects/Ecoli_smFISH/tests/exp16/output/MG1655_LB_fixed2806_hybed1906_left_03/DIC_masks_model=cyto2_omni_chan=[1,0]_minsize=200_maskth=0.0.tif is a low contrast image\n",
      "  io.imsave(maskfile, m)\n",
      "/var/folders/pp/cdyfs0g13j3_15mc99_0nfmh0000gn/T/ipykernel_8315/2646462956.py:9: UserWarning: /Users/adele/PycharmProjects/Ecoli_smFISH/tests/exp16/output/MG1655_LB_fixed2806_hybed1906_left_05/DIC_masks_model=cyto2_omni_chan=[1,0]_minsize=200_maskth=0.0.tif is a boolean image: setting True to 255 and False to 0. To silence this warning, please convert the image using img_as_ubyte.\n",
      "  io.imsave(maskfile, m)\n",
      "/var/folders/pp/cdyfs0g13j3_15mc99_0nfmh0000gn/T/ipykernel_8315/2646462956.py:9: UserWarning: /Users/adele/PycharmProjects/Ecoli_smFISH/tests/exp16/output/MG1655_LB_fixed2806_hybed1906_left_05/DIC_masks_model=cyto2_omni_chan=[1,0]_minsize=200_maskth=0.0.tif is a low contrast image\n",
      "  io.imsave(maskfile, m)\n",
      "/var/folders/pp/cdyfs0g13j3_15mc99_0nfmh0000gn/T/ipykernel_8315/2646462956.py:9: UserWarning: /Users/adele/PycharmProjects/Ecoli_smFISH/tests/exp16/output/MG1655_GAL-lowOD-2nd_06/DIC_masks_model=cyto2_omni_chan=[1,0]_minsize=200_maskth=0.0.tif is a boolean image: setting True to 255 and False to 0. To silence this warning, please convert the image using img_as_ubyte.\n",
      "  io.imsave(maskfile, m)\n",
      "/var/folders/pp/cdyfs0g13j3_15mc99_0nfmh0000gn/T/ipykernel_8315/2646462956.py:9: UserWarning: /Users/adele/PycharmProjects/Ecoli_smFISH/tests/exp16/output/MG1655_GAL-lowOD-2nd_06/DIC_masks_model=cyto2_omni_chan=[1,0]_minsize=200_maskth=0.0.tif is a low contrast image\n",
      "  io.imsave(maskfile, m)\n"
     ]
    }
   ],
   "execution_count": 44
  },
  {
   "metadata": {},
   "cell_type": "markdown",
   "source": "### Cells: cyto2_omni with DIC and DAPI as input",
   "id": "e01d37ea9dc0ae4c"
  },
  {
   "metadata": {
    "ExecuteTime": {
     "end_time": "2024-11-04T09:22:28.312588Z",
     "start_time": "2024-11-04T09:21:37.231966Z"
    }
   },
   "cell_type": "code",
   "source": [
    "model_type = \"cyto2_omni\"\n",
    "model = models.CellposeModel(gpu=use_GPU, model_type=model_type)\n",
    "chans = [1, 2]\n",
    "diameter = 35\n",
    "min_size = 0\n",
    "mask = -2\n",
    "flow = 0\n",
    "\n",
    "params = {'channels': chans, # always define this with the model\n",
    "          'rescale': None, # upscale or downscale your images, None = no rescaling\n",
    "          'mask_threshold': mask, # erode or dilate masks with higher or lower values between -5 and 5\n",
    "          'flow_threshold': flow,\n",
    "          'min_size': min_size,\n",
    "          'diameter': diameter,\n",
    "          'invert': False,\n",
    "          'transparency': True, # transparency in flow output\n",
    "          'omni': True, # we can turn off Omnipose mask reconstruction, not advised\n",
    "          'cluster': True, # use DBSCAN clustering\n",
    "          'resample': True, # whether or not to run dynamics on rescaled grid or original grid\n",
    "          'verbose': False, # turn on if you want to see more output\n",
    "          'tile': False, # average the outputs from flipped (augmented) images; slower, usually not needed\n",
    "          'niter': None, # default None lets Omnipose calculate # of Euler iterations (usually <20) but you can tune it for over/under segmentation\n",
    "          'augment': False, # Can optionally rotate the image and average network outputs, usually not needed\n",
    "          'affinity_seg': False, # new feature, stay tuned...\n",
    "         }\n",
    "\n",
    "rootdir = '/Users/adele/PycharmProjects/Ecoli_smFISH/tests/exp16/output'\n",
    "files = Path(rootdir).glob('*/grgb.npy')\n",
    "# stop_after = 1\n",
    "imgs = [np.load(f) for f in files]\n",
    "stop_after = len(imgs)\n",
    "masks, flows, styles = model.eval(imgs[:stop_after], **params)"
   ],
   "id": "be123ccd77e333d2",
   "outputs": [
    {
     "name": "stdout",
     "output_type": "stream",
     "text": [
      "\u001B[38;5;78m2024-11-04 10:21:37,238\t[INFO]     cellpose_omni/models.py                   \t line 432\t>>cyto2_omni<< model set to be used\u001B[0m\n",
      "\u001B[38;5;74m2024-11-04 10:21:37,268\t[INFO]     cellpose_omni/core.py         assi...evice()\t line  67\tUsing GPU.\u001B[0m\n",
      "\u001B[38;5;74m2024-11-04 10:21:37,531\t[INFO]                                   __init__....()\t line 163\tu-net config: ([2, 32, 64, 128, 256], 4, 2)\u001B[0m\n"
     ]
    },
    {
     "data": {
      "text/plain": [
       "  0%|          | 0/10 [00:00<?, ?it/s]"
      ],
      "application/vnd.jupyter.widget-view+json": {
       "version_major": 2,
       "version_minor": 0,
       "model_id": "0de8cf94483c4c518be08ac99083c7a5"
      }
     },
     "metadata": {},
     "output_type": "display_data"
    },
    {
     "name": "stderr",
     "output_type": "stream",
     "text": [
      "/Users/adele/Projects/omnipose/cellpose_omni/transforms.py:587: UserWarning: chan to seg' has value range of ZERO\n",
      "  warnings.warn(\"chan to seg' has value range of ZERO\")\n",
      "/Users/adele/Projects/omnipose/cellpose_omni/transforms.py:587: UserWarning: chan to seg' has value range of ZERO\n",
      "  warnings.warn(\"chan to seg' has value range of ZERO\")\n",
      "/Users/adele/Projects/omnipose/cellpose_omni/transforms.py:587: UserWarning: chan to seg' has value range of ZERO\n",
      "  warnings.warn(\"chan to seg' has value range of ZERO\")\n",
      "/Users/adele/Projects/omnipose/cellpose_omni/transforms.py:587: UserWarning: chan to seg' has value range of ZERO\n",
      "  warnings.warn(\"chan to seg' has value range of ZERO\")\n",
      "/Users/adele/Projects/omnipose/cellpose_omni/transforms.py:587: UserWarning: chan to seg' has value range of ZERO\n",
      "  warnings.warn(\"chan to seg' has value range of ZERO\")\n",
      "/Users/adele/Projects/omnipose/cellpose_omni/transforms.py:587: UserWarning: chan to seg' has value range of ZERO\n",
      "  warnings.warn(\"chan to seg' has value range of ZERO\")\n",
      "/Users/adele/Projects/omnipose/cellpose_omni/transforms.py:587: UserWarning: chan to seg' has value range of ZERO\n",
      "  warnings.warn(\"chan to seg' has value range of ZERO\")\n",
      "/Users/adele/Projects/omnipose/cellpose_omni/transforms.py:587: UserWarning: chan to seg' has value range of ZERO\n",
      "  warnings.warn(\"chan to seg' has value range of ZERO\")\n",
      "/Users/adele/Projects/omnipose/cellpose_omni/transforms.py:587: UserWarning: chan to seg' has value range of ZERO\n",
      "  warnings.warn(\"chan to seg' has value range of ZERO\")\n",
      "/Users/adele/Projects/omnipose/cellpose_omni/transforms.py:587: UserWarning: chan to seg' has value range of ZERO\n",
      "  warnings.warn(\"chan to seg' has value range of ZERO\")\n"
     ]
    }
   ],
   "execution_count": 52
  },
  {
   "metadata": {
    "ExecuteTime": {
     "end_time": "2024-11-04T09:23:53.215886Z",
     "start_time": "2024-11-04T09:23:53.021692Z"
    }
   },
   "cell_type": "code",
   "source": [
    "# save the masks with channel information\n",
    "files = Path(rootdir).glob('*/grgb.npy')\n",
    "filelist = list(files)\n",
    "\n",
    "for f, m in zip(filelist, masks):\n",
    "    maskfile = Path(f).parent / f'DIC_masks_model={model_type}_chan={str(params[\"channels\"]).replace(\" \", \"\")}_diameter={params[\"diameter\"]}_minsize={params[\"min_size\"]}_mask={params[\"mask_threshold\"]}_flow={params[\"flow_threshold\"]}.tif'\n",
    "    io.imsave(maskfile, m)"
   ],
   "id": "e53bb131bfee7c92",
   "outputs": [
    {
     "name": "stderr",
     "output_type": "stream",
     "text": [
      "/var/folders/pp/cdyfs0g13j3_15mc99_0nfmh0000gn/T/ipykernel_8315/1521786261.py:7: UserWarning: /Users/adele/PycharmProjects/Ecoli_smFISH/tests/exp16/output/MG1655_GLY-lowOD-2nd_16/DIC_masks_model=cyto2_omni_chan=[1,2]_diameter=35_minsize=0_mask=-2_flow=0.tif is a low contrast image\n",
      "  io.imsave(maskfile, m)\n",
      "/var/folders/pp/cdyfs0g13j3_15mc99_0nfmh0000gn/T/ipykernel_8315/1521786261.py:7: UserWarning: /Users/adele/PycharmProjects/Ecoli_smFISH/tests/exp16/output/MG1655_GLY-lowOD-2nd_17/DIC_masks_model=cyto2_omni_chan=[1,2]_diameter=35_minsize=0_mask=-2_flow=0.tif is a low contrast image\n",
      "  io.imsave(maskfile, m)\n",
      "/var/folders/pp/cdyfs0g13j3_15mc99_0nfmh0000gn/T/ipykernel_8315/1521786261.py:7: UserWarning: /Users/adele/PycharmProjects/Ecoli_smFISH/tests/exp16/output/MG1655_GLU_OD_0.3_left_02/DIC_masks_model=cyto2_omni_chan=[1,2]_diameter=35_minsize=0_mask=-2_flow=0.tif is a low contrast image\n",
      "  io.imsave(maskfile, m)\n",
      "/var/folders/pp/cdyfs0g13j3_15mc99_0nfmh0000gn/T/ipykernel_8315/1521786261.py:7: UserWarning: /Users/adele/PycharmProjects/Ecoli_smFISH/tests/exp16/output/MG1655_GLU_OD_0.3_left_03/DIC_masks_model=cyto2_omni_chan=[1,2]_diameter=35_minsize=0_mask=-2_flow=0.tif is a low contrast image\n",
      "  io.imsave(maskfile, m)\n",
      "/var/folders/pp/cdyfs0g13j3_15mc99_0nfmh0000gn/T/ipykernel_8315/1521786261.py:7: UserWarning: /Users/adele/PycharmProjects/Ecoli_smFISH/tests/exp16/output/MG1655_GAL-lowOD-2nd_05/DIC_masks_model=cyto2_omni_chan=[1,2]_diameter=35_minsize=0_mask=-2_flow=0.tif is a low contrast image\n",
      "  io.imsave(maskfile, m)\n",
      "/var/folders/pp/cdyfs0g13j3_15mc99_0nfmh0000gn/T/ipykernel_8315/1521786261.py:7: UserWarning: /Users/adele/PycharmProjects/Ecoli_smFISH/tests/exp16/output/MG1655_MAN_OD_0.3_left_08/DIC_masks_model=cyto2_omni_chan=[1,2]_diameter=35_minsize=0_mask=-2_flow=0.tif is a low contrast image\n",
      "  io.imsave(maskfile, m)\n",
      "/var/folders/pp/cdyfs0g13j3_15mc99_0nfmh0000gn/T/ipykernel_8315/1521786261.py:7: UserWarning: /Users/adele/PycharmProjects/Ecoli_smFISH/tests/exp16/output/MG1655_MAN_OD_0.3_left_07/DIC_masks_model=cyto2_omni_chan=[1,2]_diameter=35_minsize=0_mask=-2_flow=0.tif is a low contrast image\n",
      "  io.imsave(maskfile, m)\n",
      "/var/folders/pp/cdyfs0g13j3_15mc99_0nfmh0000gn/T/ipykernel_8315/1521786261.py:7: UserWarning: /Users/adele/PycharmProjects/Ecoli_smFISH/tests/exp16/output/MG1655_LB_fixed2806_hybed1906_left_03/DIC_masks_model=cyto2_omni_chan=[1,2]_diameter=35_minsize=0_mask=-2_flow=0.tif is a low contrast image\n",
      "  io.imsave(maskfile, m)\n",
      "/var/folders/pp/cdyfs0g13j3_15mc99_0nfmh0000gn/T/ipykernel_8315/1521786261.py:7: UserWarning: /Users/adele/PycharmProjects/Ecoli_smFISH/tests/exp16/output/MG1655_LB_fixed2806_hybed1906_left_05/DIC_masks_model=cyto2_omni_chan=[1,2]_diameter=35_minsize=0_mask=-2_flow=0.tif is a low contrast image\n",
      "  io.imsave(maskfile, m)\n",
      "/var/folders/pp/cdyfs0g13j3_15mc99_0nfmh0000gn/T/ipykernel_8315/1521786261.py:7: UserWarning: /Users/adele/PycharmProjects/Ecoli_smFISH/tests/exp16/output/MG1655_GAL-lowOD-2nd_06/DIC_masks_model=cyto2_omni_chan=[1,2]_diameter=35_minsize=0_mask=-2_flow=0.tif is a low contrast image\n",
      "  io.imsave(maskfile, m)\n"
     ]
    }
   ],
   "execution_count": 53
  },
  {
   "metadata": {},
   "cell_type": "markdown",
   "source": "## Picture selection (from 2.5 experiments)\n",
   "id": "28e62b851151bfe8"
  },
  {
   "metadata": {},
   "cell_type": "markdown",
   "source": [
    "### Pictures selected for segmentation\n",
    "\n"
   ],
   "id": "84a601ea431b6780"
  },
  {
   "metadata": {
    "ExecuteTime": {
     "end_time": "2024-11-06T12:14:09.023266Z",
     "start_time": "2024-11-06T12:14:05.877441Z"
    }
   },
   "cell_type": "code",
   "source": [
    "rootdir = '/Volumes/Flodrive/Florence/smFISH/analysis'\n",
    "for f in Path(rootdir).glob('*/config-detection.json'):\n",
    "    config_processed = f.parent / 'config-detection-processed.json'\n",
    "    print(f\"Config file from: {f.parent}\")\n",
    "    print(f\"\\t{f} ->\")\n",
    "    print(f\"\\t{config_processed}\")\n",
    "    with open(f, 'r') as fh:\n",
    "        config = json.load(fh)\n",
    "        for exp in config['experiments']:\n",
    "            for img in exp['images']:\n",
    "                if img['segment'] is False:\n",
    "                    # we don't detect spots if we have no good segmentation\n",
    "                    img[\"detect_spots\"] = False\n",
    "                else:\n",
    "                     img[\"detect_spots\"] = True\n",
    "                     print(f'Selected: {img[\"stem\"]}')\n",
    "        \n",
    "        with open(config_processed, 'w') as fh:\n",
    "            json.dump(config, fh)\n",
    "             \n",
    "                "
   ],
   "id": "a2c3df3085a0b65a",
   "outputs": [
    {
     "name": "stdout",
     "output_type": "stream",
     "text": [
      "Config file from: /Volumes/Flodrive/Florence/smFISH/analysis/20241029-exp24\n",
      "\t/Volumes/Flodrive/Florence/smFISH/analysis/20241029-exp24/config-detection.json ->\n",
      "\t/Volumes/Flodrive/Florence/smFISH/analysis/20241029-exp24/config-detection-processed.json\n",
      "Selected: exp24-GLU-right-2_01\n",
      "Selected: exp24-GLU-right-2_03\n",
      "Selected: exp24-GLU-right-2_04\n",
      "Selected: exp24-GLU-right-2_05\n",
      "Selected: exp24-GLY-left_02\n",
      "Selected: exp24-GLY-left_03\n",
      "Selected: exp24-GLY-left_06\n",
      "Selected: exp24-GLY-left_10\n",
      "Config file from: /Volumes/Flodrive/Florence/smFISH/analysis/20241029-exp22\n",
      "\t/Volumes/Flodrive/Florence/smFISH/analysis/20241029-exp22/config-detection.json ->\n",
      "\t/Volumes/Flodrive/Florence/smFISH/analysis/20241029-exp22/config-detection-processed.json\n",
      "Selected: exp22-GLU_01\n",
      "Selected: exp22-GLU_02\n",
      "Selected: exp22-GLU_03\n",
      "Selected: exp22-GLU_04\n",
      "Selected: exp22-GLU_05\n",
      "Selected: exp22-GLU_06\n",
      "Selected: exp22-GLU_07\n",
      "Selected: exp22-GLU_08\n",
      "Selected: exp22-GLU_09\n",
      "Selected: exp22-GLU_10\n",
      "Selected: exp22-GLY_03\n",
      "Selected: exp22-GLY_05\n",
      "Selected: exp22-GLY_06\n",
      "Selected: exp22-GLY_07\n",
      "Selected: exp22-GLY_08\n",
      "Selected: exp22-GLY_09\n",
      "Selected: exp22-GLY_10\n",
      "Selected: exp22-GAL_01\n",
      "Selected: exp22-GAL_03\n",
      "Selected: exp22-GAL_04\n",
      "Selected: exp22-GAL_07\n",
      "Selected: exp22-GAL_08\n",
      "Selected: exp22-GAL_09\n",
      "Selected: exp22-GAL_10\n",
      "Selected: exp22-MAN_01\n",
      "Selected: exp22-MAN_02\n",
      "Selected: exp22-MAN_03\n",
      "Selected: exp22-MAN_05\n",
      "Selected: exp22-MAN_06\n",
      "Selected: exp22-MAN_07\n",
      "Selected: exp22-MAN_08\n",
      "Selected: exp22-MAN_09\n",
      "Selected: exp22-MAN_10\n",
      "Config file from: /Volumes/Flodrive/Florence/smFISH/analysis/20241003-exp16\n",
      "\t/Volumes/Flodrive/Florence/smFISH/analysis/20241003-exp16/config-detection.json ->\n",
      "\t/Volumes/Flodrive/Florence/smFISH/analysis/20241003-exp16/config-detection-processed.json\n",
      "Selected: MG1655_GAL-lowOD-2nd_06\n",
      "Selected: MG1655_GAL-lowOD-2nd_09\n",
      "Selected: MG1655_GLY-lowOD-2nd_01\n",
      "Selected: MG1655_GLY-lowOD-2nd_02\n",
      "Selected: MG1655_GLY-lowOD-2nd_09\n",
      "Selected: MG1655_GLY-lowOD-2nd_13\n",
      "Config file from: /Volumes/Flodrive/Florence/smFISH/analysis/20240927-exp16\n",
      "\t/Volumes/Flodrive/Florence/smFISH/analysis/20240927-exp16/config-detection.json ->\n",
      "\t/Volumes/Flodrive/Florence/smFISH/analysis/20240927-exp16/config-detection-processed.json\n",
      "Selected: MG1655_GLU_OD_0.3_left_02\n",
      "Selected: MG1655_GLU_OD_0.3_left_03\n",
      "Selected: MG1655_GLU_OD_0.3_left_04\n",
      "Selected: MG1655_GLU_OD_0.3_left_05\n",
      "Selected: MG1655_GLY_OD_0.3_right_01\n",
      "Selected: MG1655_GLY_OD_0.3_right_03\n",
      "Selected: MG1655_GLY_OD_0.3_right_04\n",
      "Selected: MG1655_GLY_OD_0.3_right_05\n",
      "Selected: MG1655_GLY_OD_0.3_right_06\n",
      "Selected: MG1655_GLY_OD_0.3_right_07\n",
      "Selected: MG1655_GLY_OD_0.3_right_08\n",
      "Selected: MG1655_GLY_OD_0.3_right_09\n",
      "Selected: MG1655_GLY_OD_0.3_right_13\n",
      "Selected: MG1655_GLY_OD_0.3_right_14\n",
      "Selected: MG1655_MAN_OD_0.3_left_01\n",
      "Selected: MG1655_MAN_OD_0.3_left_02\n",
      "Selected: MG1655_MAN_OD_0.3_left_05\n",
      "Selected: MG1655_MAN_OD_0.3_left_06\n",
      "Selected: MG1655_MAN_OD_0.3_left_07\n",
      "Selected: MG1655_MAN_OD_0.3_left_09\n",
      "Selected: MG1655_MAN_OD_0.3_left_11\n",
      "Config file from: /Volumes/Flodrive/Florence/smFISH/analysis/20240927-LB\n",
      "\t/Volumes/Flodrive/Florence/smFISH/analysis/20240927-LB/config-detection.json ->\n",
      "\t/Volumes/Flodrive/Florence/smFISH/analysis/20240927-LB/config-detection-processed.json\n",
      "Selected: MG1655_LB_fixed2806_hybed1906_left_01\n",
      "Selected: MG1655_LB_fixed2806_hybed1906_left_03\n",
      "Selected: MG1655_LB_fixed2806_hybed1906_left_07\n"
     ]
    }
   ],
   "execution_count": 8
  },
  {
   "metadata": {},
   "cell_type": "markdown",
   "source": "### Pictures selected for segmentation and detection\n",
   "id": "25dc07e721707265"
  },
  {
   "metadata": {
    "ExecuteTime": {
     "end_time": "2024-11-10T20:58:40.211479Z",
     "start_time": "2024-11-10T20:58:35.000928Z"
    }
   },
   "cell_type": "code",
   "source": [
    "rootdir = '/Volumes/Flodrive/Florence/smFISH/analysis'\n",
    "for config_processed in Path(rootdir).glob('*/config-detection-processed.json'):\n",
    "    print(f\"Config file: {config_processed}\")\n",
    "    with open(config_processed, 'r') as f:\n",
    "        config = json.load(f)\n",
    "        \n",
    "        config['nr_images'], config['nr_images_segmented'], config['nr_images_detected'] = 0, 0, 0\n",
    "        for exp in config['experiments']:\n",
    "            for img in exp['images']:\n",
    "                config['nr_images'] += 1\n",
    "                if img['segment'] is True:\n",
    "                    config['nr_images_segmented'] += 1\n",
    "                if img['detect_spots'] is True:\n",
    "                    config['nr_images_detected'] += 1\n",
    "        print(f\"\\t{config['nr_images']}\\t{config['nr_images_segmented']}\\t{config['nr_images_detected']}\")      \n",
    "        \n",
    "        with open(config_processed.parent / 'config-with-numbers.json' , 'w') as fh:\n",
    "            json.dump(config, fh)\n",
    "             "
   ],
   "id": "232f8642f3cce58e",
   "outputs": [
    {
     "name": "stdout",
     "output_type": "stream",
     "text": [
      "Config file: /Volumes/Flodrive/Florence/smFISH/analysis/20241029-exp24/config-detection-processed.json\n",
      "\t15\t8\t7\n",
      "Config file: /Volumes/Flodrive/Florence/smFISH/analysis/20241029-exp22/config-detection-processed.json\n",
      "\t40\t33\t19\n",
      "Config file: /Volumes/Flodrive/Florence/smFISH/analysis/20241003-exp16/config-detection-processed.json\n",
      "\t27\t6\t5\n",
      "Config file: /Volumes/Flodrive/Florence/smFISH/analysis/20240927-exp16/config-detection-processed.json\n",
      "\t31\t21\t15\n",
      "Config file: /Volumes/Flodrive/Florence/smFISH/analysis/20240927-LB/config-detection-processed.json\n",
      "\t10\t3\t2\n"
     ]
    }
   ],
   "execution_count": 161
  },
  {
   "metadata": {
    "ExecuteTime": {
     "end_time": "2024-11-07T13:20:43.687036Z",
     "start_time": "2024-11-07T13:20:40.766721Z"
    }
   },
   "cell_type": "code",
   "source": [
    "rootdir = '/Volumes/Flodrive/Florence/smFISH/analysis'\n",
    "df = pd.DataFrame(columns=['dir', 'img', 'segment', 'detect', 'rpoD thr', 'rpoD ok', 'rnlAB thr', 'rnlAB ok', 'hipBA thr', 'hipBA ok', 'notes'])\n",
    "for config_processed in Path(rootdir).glob('*/config-detection-processed.json'):\n",
    "    print(f\"Config file: {config_processed}\")\n",
    "    with open(config_processed, 'r') as f:\n",
    "        config = json.load(f)\n",
    "        \n",
    "        for exp in config['experiments']:\n",
    "            for img in exp['images']:\n",
    "                if img['segment'] is True:\n",
    "                    df = pd.concat([df, pd.DataFrame({\n",
    "                        'dir': Path(img['rootdir']).parts[-1],\n",
    "                        'img': img['stem'],\n",
    "                        'segment': img['segment'],\n",
    "                        'detect': '',\n",
    "                        'rpoD thr': img['rpoD']['spot_detection_threshold'],\n",
    "                        'rpoD ok': '', \n",
    "                        'rnlAB thr': img['rnlAB']['spot_detection_threshold'], \n",
    "                        'rnlAB ok': '', \n",
    "                        'hipBA thr': img['hipBA']['spot_detection_threshold'], \n",
    "                        'hipBA ok': '',\n",
    "                        'comments': ''}, index=[0])])\n",
    "                    \n",
    "df.head()\n",
    "df.to_excel(Path(rootdir) / \"images.xlsx\", index=False)\n",
    "\n"
   ],
   "id": "87e93d8db51d3aa4",
   "outputs": [
    {
     "name": "stdout",
     "output_type": "stream",
     "text": [
      "Config file: /Volumes/Flodrive/Florence/smFISH/analysis/20241029-exp24/config-detection-processed.json\n",
      "Config file: /Volumes/Flodrive/Florence/smFISH/analysis/20241029-exp22/config-detection-processed.json\n",
      "Config file: /Volumes/Flodrive/Florence/smFISH/analysis/20241003-exp16/config-detection-processed.json\n",
      "Config file: /Volumes/Flodrive/Florence/smFISH/analysis/20240927-exp16/config-detection-processed.json\n",
      "Config file: /Volumes/Flodrive/Florence/smFISH/analysis/20240927-LB/config-detection-processed.json\n"
     ]
    },
    {
     "name": "stderr",
     "output_type": "stream",
     "text": [
      "/var/folders/pp/cdyfs0g13j3_15mc99_0nfmh0000gn/T/ipykernel_11254/449064825.py:11: FutureWarning: The behavior of DataFrame concatenation with empty or all-NA entries is deprecated. In a future version, this will no longer exclude empty or all-NA columns when determining the result dtypes. To retain the old behavior, exclude the relevant entries before the concat operation.\n",
      "  df = pd.concat([df, pd.DataFrame({\n"
     ]
    }
   ],
   "execution_count": 159
  },
  {
   "metadata": {},
   "cell_type": "markdown",
   "source": "### Spot detection thresholds",
   "id": "44e8ba371e981e7b"
  },
  {
   "metadata": {
    "ExecuteTime": {
     "end_time": "2024-11-07T13:09:19.633544Z",
     "start_time": "2024-11-07T13:09:19.624006Z"
    }
   },
   "cell_type": "code",
   "source": [
    "rootdir = '/Volumes/Flodrive/Florence/smFISH/analysis'\n",
    "for config_processed in Path(rootdir).glob('*/config-detection-processed.json'):\n",
    "    print(f\"Config file: {config_processed}\")\n",
    "    with open(config_processed, 'r') as f:\n",
    "        config = json.load(f)\n",
    "        \n",
    "        for exp in config['experiments']:\n",
    "            for img in exp['images']:\n",
    "                if 'detect_spots' in img and img['detect_spots'] is True: \n",
    "                    pprint(f\"{img['stem']}: {float(img['hipBA']['spot_detection_threshold'])}\")\n",
    "\n"
   ],
   "id": "db4122ff28735397",
   "outputs": [
    {
     "name": "stdout",
     "output_type": "stream",
     "text": [
      "Config file: /Volumes/Flodrive/Florence/smFISH/analysis/20241029-exp24/config-detection-processed.json\n",
      "'exp24-GLU-right-2_01: 18.0'\n",
      "'exp24-GLU-right-2_03: 18.0'\n",
      "'exp24-GLU-right-2_04: 27.0'\n",
      "'exp24-GLU-right-2_05: 19.0'\n",
      "'exp24-GLY-left_02: 33.0'\n",
      "'exp24-GLY-left_03: 85.0'\n",
      "'exp24-GLY-left_06: 17.0'\n",
      "'exp24-GLY-left_10: 18.0'\n",
      "Config file: /Volumes/Flodrive/Florence/smFISH/analysis/20241029-exp22/config-detection-processed.json\n",
      "'exp22-GLU_01: 17.0'\n",
      "'exp22-GLU_02: 17.0'\n",
      "'exp22-GLU_03: 17.0'\n",
      "'exp22-GLU_04: 17.0'\n",
      "'exp22-GLU_05: 16.0'\n",
      "'exp22-GLU_06: 21.0'\n",
      "'exp22-GLU_07: 36.0'\n",
      "'exp22-GLU_08: 18.0'\n",
      "'exp22-GLU_09: 22.0'\n",
      "'exp22-GLU_10: 19.0'\n",
      "'exp22-GLY_03: 25.0'\n",
      "'exp22-GLY_05: 23.0'\n",
      "'exp22-GLY_06: 24.0'\n",
      "'exp22-GLY_07: 25.0'\n",
      "'exp22-GLY_08: 27.0'\n",
      "'exp22-GLY_09: 35.0'\n",
      "'exp22-GLY_10: 26.0'\n",
      "'exp22-GAL_01: 29.0'\n",
      "'exp22-GAL_03: 24.0'\n",
      "'exp22-GAL_04: 27.0'\n",
      "'exp22-GAL_07: 33.0'\n",
      "'exp22-GAL_08: 23.0'\n",
      "'exp22-GAL_09: 41.0'\n",
      "'exp22-GAL_10: 24.0'\n",
      "'exp22-MAN_01: 21.0'\n",
      "'exp22-MAN_02: 27.0'\n",
      "'exp22-MAN_03: 23.0'\n",
      "'exp22-MAN_05: 26.0'\n",
      "'exp22-MAN_06: 25.0'\n",
      "'exp22-MAN_07: 18.0'\n",
      "'exp22-MAN_08: 23.0'\n",
      "'exp22-MAN_09: 19.0'\n",
      "'exp22-MAN_10: 19.0'\n",
      "Config file: /Volumes/Flodrive/Florence/smFISH/analysis/20241003-exp16/config-detection-processed.json\n",
      "'MG1655_GAL-lowOD-2nd_06: 96.0'\n",
      "'MG1655_GAL-lowOD-2nd_09: 75.0'\n",
      "'MG1655_GLY-lowOD-2nd_01: 22.0'\n",
      "'MG1655_GLY-lowOD-2nd_02: 25.0'\n",
      "'MG1655_GLY-lowOD-2nd_09: 101.0'\n",
      "'MG1655_GLY-lowOD-2nd_13: 74.0'\n",
      "Config file: /Volumes/Flodrive/Florence/smFISH/analysis/20240927-exp16/config-detection-processed.json\n",
      "'MG1655_GLU_OD_0.3_left_02: 80.0'\n",
      "'MG1655_GLU_OD_0.3_left_03: 57.0'\n",
      "'MG1655_GLU_OD_0.3_left_04: 62.0'\n",
      "'MG1655_GLU_OD_0.3_left_05: 44.0'\n",
      "'MG1655_GLY_OD_0.3_right_01: 63.0'\n",
      "'MG1655_GLY_OD_0.3_right_03: 68.0'\n",
      "'MG1655_GLY_OD_0.3_right_04: 40.0'\n",
      "'MG1655_GLY_OD_0.3_right_05: 24.0'\n",
      "'MG1655_GLY_OD_0.3_right_06: 23.0'\n",
      "'MG1655_GLY_OD_0.3_right_07: 25.0'\n",
      "'MG1655_GLY_OD_0.3_right_08: 21.0'\n",
      "'MG1655_GLY_OD_0.3_right_09: 17.0'\n",
      "'MG1655_GLY_OD_0.3_right_13: 32.0'\n",
      "'MG1655_GLY_OD_0.3_right_14: 26.0'\n",
      "'MG1655_MAN_OD_0.3_left_01: 81.0'\n",
      "'MG1655_MAN_OD_0.3_left_02: 62.0'\n",
      "'MG1655_MAN_OD_0.3_left_05: 62.0'\n",
      "'MG1655_MAN_OD_0.3_left_06: 68.0'\n",
      "'MG1655_MAN_OD_0.3_left_07: 57.0'\n",
      "'MG1655_MAN_OD_0.3_left_09: 102.0'\n",
      "'MG1655_MAN_OD_0.3_left_11: 117.0'\n",
      "Config file: /Volumes/Flodrive/Florence/smFISH/analysis/20240927-LB/config-detection-processed.json\n",
      "'MG1655_LB_fixed2806_hybed1906_left_01: 34.0'\n",
      "'MG1655_LB_fixed2806_hybed1906_left_03: 38.0'\n",
      "'MG1655_LB_fixed2806_hybed1906_left_07: 30.0'\n"
     ]
    }
   ],
   "execution_count": 158
  },
  {
   "metadata": {},
   "cell_type": "markdown",
   "source": [
    "## Cell mask postprocessing\n",
    " \n",
    "We discard masks that:\n",
    "- do not intersect with any cells masks\n",
    "- are too small\n",
    "- are both large and have low eccentricity"
   ],
   "id": "6c76b893e98280f"
  },
  {
   "metadata": {
    "ExecuteTime": {
     "end_time": "2024-11-06T21:50:36.214073Z",
     "start_time": "2024-11-06T21:50:36.208523Z"
    }
   },
   "cell_type": "code",
   "source": [
    "def remove_cell_masks_with_no_dapi(cell_masks, dapi_masks):\n",
    "    cells_to_discard = []\n",
    "    for label in np.unique(cell_masks):\n",
    "        dapi_found = False\n",
    "        cell_coordinates = np.where(cell_masks == label)\n",
    "        for y, x in zip(cell_coordinates[0], cell_coordinates[1]):\n",
    "            if dapi_masks[y, x] != 0:\n",
    "                dapi_found = True\n",
    "                break\n",
    "        if dapi_found == False:\n",
    "            cells_to_discard.append(label)\n",
    "    print(f'removing {len(cells_to_discard)} cells with no dapi signal')\n",
    "    cell_masks_dapi = copy(cell_masks)\n",
    "    cell_masks_dapi[np.isin(cell_masks, cells_to_discard)] = 0\n",
    "    return cell_masks_dapi, cells_to_discard\n",
    "\n",
    "\n",
    "def filter_cells_by_area(masks, props, min_cell_area=2000):\n",
    "    discarded = props.query('area < @min_cell_area')['label']\n",
    "    selected = set(props['label']) - set(discarded)\n",
    "    masks_selected = copy(masks)\n",
    "    masks_selected[np.isin(masks, list(discarded))] = 0\n",
    "    masks_discarded = copy(masks)\n",
    "    masks_discarded[np.isin(masks, list(selected))] = 0\n",
    "\n",
    "    return masks_selected, masks_discarded, len(np.unique(masks_selected)), len(np.unique(masks_discarded)), len(np.unique(masks))\n",
    "\n",
    "\n",
    "def filter_cells_by_shape(masks, props, min_clump_area=1000, max_clump_eccentricity=0.8):\n",
    "    discarded = props.query('area > @min_clump_area').query('eccentricity < @max_clump_eccentricity')['label']\n",
    "    selected = set(props['label']) - set(discarded)\n",
    "    masks_selected = copy(masks)\n",
    "    masks_selected[np.isin(masks, list(discarded))] = 0\n",
    "    masks_discarded = copy(masks)\n",
    "    masks_discarded[np.isin(masks, list(selected))] = 0\n",
    "\n",
    "    return masks_selected, masks_discarded, len(np.unique(masks_selected)), len(np.unique(masks_discarded)), len(np.unique(masks))\n"
   ],
   "id": "421b0ffd9d2404d8",
   "outputs": [],
   "execution_count": 75
  },
  {
   "metadata": {},
   "cell_type": "markdown",
   "source": "### Discard cells with no DAPI",
   "id": "22f0ce7df617d6a3"
  },
  {
   "metadata": {
    "ExecuteTime": {
     "end_time": "2024-11-14T13:57:30.169583Z",
     "start_time": "2024-11-14T13:44:42.804842Z"
    }
   },
   "cell_type": "code",
   "source": [
    "rootdir = '/Volumes/Flodrive/Florence/smFISH/analysis'\n",
    "for f in Path(rootdir).glob('*/config-detection.json'):\n",
    "    config_processed = f.parent / 'config-detection-processed.json'\n",
    "    print(f\"Config file from: {f.parent}\")\n",
    "    print(f\"\\t{f} ->\")\n",
    "    print(f\"\\t{config_processed}\")\n",
    "    with open(f, 'r') as fh:\n",
    "        config = json.load(fh)\n",
    "        for exp in config['experiments']:\n",
    "            for img in exp['images']:\n",
    "                if img['segment'] is True:\n",
    "                    print(f'Selected: {img[\"stem\"]}')\n",
    "                    # segmentation postprocessing\n",
    "                    cell_masks = io.imread(img['cellmaskfile'])\n",
    "                    dapi_masks = io.imread(img['nuclearmaskfile'])\n",
    "                    print(f'\\t#cell masks after segmentation : {len(np.unique(cell_masks))}')\n",
    "                    cell_masks_with_dapi, discarded_by_dapi = remove_cell_masks_with_no_dapi(cell_masks, dapi_masks)\n",
    "                    print(f'\\t#cell masks that have some dapi: {len(np.unique(cell_masks_with_dapi))}')\n",
    "                    io.imsave(Path(img['cellmaskfile']).parent / 'DIC_masks_with_dapi.tif', cell_masks_with_dapi)\n",
    "                    \n",
    "                "
   ],
   "id": "4e6613ad60fa5813",
   "outputs": [
    {
     "name": "stdout",
     "output_type": "stream",
     "text": [
      "Config file from: /Volumes/Flodrive/Florence/smFISH/analysis/20241029-exp24\n",
      "\t/Volumes/Flodrive/Florence/smFISH/analysis/20241029-exp24/config-detection.json ->\n",
      "\t/Volumes/Flodrive/Florence/smFISH/analysis/20241029-exp24/config-detection-processed.json\n",
      "Selected: exp24-GLU-right-2_01\n",
      "\t#cell masks after segmentation : 1419\n",
      "removing 149 cells with no dapi signal\n",
      "\t#cell masks that have some dapi: 1270\n"
     ]
    },
    {
     "name": "stderr",
     "output_type": "stream",
     "text": [
      "/var/folders/pp/cdyfs0g13j3_15mc99_0nfmh0000gn/T/ipykernel_11254/2403115704.py:19: UserWarning: /Volumes/Flodrive/Florence/smFISH/analysis/20241029-exp24/exp24-GLU-right-2_01/DIC_masks_with_dapi.tif is a low contrast image\n",
      "  io.imsave(Path(img['cellmaskfile']).parent / 'DIC_masks_with_dapi.tif', cell_masks_with_dapi)\n"
     ]
    },
    {
     "name": "stdout",
     "output_type": "stream",
     "text": [
      "Selected: exp24-GLU-right-2_03\n",
      "\t#cell masks after segmentation : 1047\n",
      "removing 177 cells with no dapi signal\n",
      "\t#cell masks that have some dapi: 870\n"
     ]
    },
    {
     "name": "stderr",
     "output_type": "stream",
     "text": [
      "/var/folders/pp/cdyfs0g13j3_15mc99_0nfmh0000gn/T/ipykernel_11254/2403115704.py:19: UserWarning: /Volumes/Flodrive/Florence/smFISH/analysis/20241029-exp24/exp24-GLU-right-2_03/DIC_masks_with_dapi.tif is a low contrast image\n",
      "  io.imsave(Path(img['cellmaskfile']).parent / 'DIC_masks_with_dapi.tif', cell_masks_with_dapi)\n"
     ]
    },
    {
     "name": "stdout",
     "output_type": "stream",
     "text": [
      "Selected: exp24-GLU-right-2_04\n",
      "\t#cell masks after segmentation : 277\n",
      "removing 115 cells with no dapi signal\n",
      "\t#cell masks that have some dapi: 162\n"
     ]
    },
    {
     "name": "stderr",
     "output_type": "stream",
     "text": [
      "/var/folders/pp/cdyfs0g13j3_15mc99_0nfmh0000gn/T/ipykernel_11254/2403115704.py:19: UserWarning: /Volumes/Flodrive/Florence/smFISH/analysis/20241029-exp24/exp24-GLU-right-2_04/DIC_masks_with_dapi.tif is a low contrast image\n",
      "  io.imsave(Path(img['cellmaskfile']).parent / 'DIC_masks_with_dapi.tif', cell_masks_with_dapi)\n"
     ]
    },
    {
     "name": "stdout",
     "output_type": "stream",
     "text": [
      "Selected: exp24-GLU-right-2_05\n",
      "\t#cell masks after segmentation : 848\n",
      "removing 106 cells with no dapi signal\n",
      "\t#cell masks that have some dapi: 742\n"
     ]
    },
    {
     "name": "stderr",
     "output_type": "stream",
     "text": [
      "/var/folders/pp/cdyfs0g13j3_15mc99_0nfmh0000gn/T/ipykernel_11254/2403115704.py:19: UserWarning: /Volumes/Flodrive/Florence/smFISH/analysis/20241029-exp24/exp24-GLU-right-2_05/DIC_masks_with_dapi.tif is a low contrast image\n",
      "  io.imsave(Path(img['cellmaskfile']).parent / 'DIC_masks_with_dapi.tif', cell_masks_with_dapi)\n"
     ]
    },
    {
     "name": "stdout",
     "output_type": "stream",
     "text": [
      "Selected: exp24-GLY-left_02\n",
      "\t#cell masks after segmentation : 688\n",
      "removing 101 cells with no dapi signal\n",
      "\t#cell masks that have some dapi: 587\n"
     ]
    },
    {
     "name": "stderr",
     "output_type": "stream",
     "text": [
      "/var/folders/pp/cdyfs0g13j3_15mc99_0nfmh0000gn/T/ipykernel_11254/2403115704.py:19: UserWarning: /Volumes/Flodrive/Florence/smFISH/analysis/20241029-exp24/exp24-GLY-left_02/DIC_masks_with_dapi.tif is a low contrast image\n",
      "  io.imsave(Path(img['cellmaskfile']).parent / 'DIC_masks_with_dapi.tif', cell_masks_with_dapi)\n"
     ]
    },
    {
     "name": "stdout",
     "output_type": "stream",
     "text": [
      "Selected: exp24-GLY-left_03\n",
      "\t#cell masks after segmentation : 1230\n",
      "removing 219 cells with no dapi signal\n",
      "\t#cell masks that have some dapi: 1011\n"
     ]
    },
    {
     "name": "stderr",
     "output_type": "stream",
     "text": [
      "/var/folders/pp/cdyfs0g13j3_15mc99_0nfmh0000gn/T/ipykernel_11254/2403115704.py:19: UserWarning: /Volumes/Flodrive/Florence/smFISH/analysis/20241029-exp24/exp24-GLY-left_03/DIC_masks_with_dapi.tif is a low contrast image\n",
      "  io.imsave(Path(img['cellmaskfile']).parent / 'DIC_masks_with_dapi.tif', cell_masks_with_dapi)\n"
     ]
    },
    {
     "name": "stdout",
     "output_type": "stream",
     "text": [
      "Selected: exp24-GLY-left_06\n",
      "\t#cell masks after segmentation : 773\n",
      "removing 117 cells with no dapi signal\n",
      "\t#cell masks that have some dapi: 656\n"
     ]
    },
    {
     "name": "stderr",
     "output_type": "stream",
     "text": [
      "/var/folders/pp/cdyfs0g13j3_15mc99_0nfmh0000gn/T/ipykernel_11254/2403115704.py:19: UserWarning: /Volumes/Flodrive/Florence/smFISH/analysis/20241029-exp24/exp24-GLY-left_06/DIC_masks_with_dapi.tif is a low contrast image\n",
      "  io.imsave(Path(img['cellmaskfile']).parent / 'DIC_masks_with_dapi.tif', cell_masks_with_dapi)\n"
     ]
    },
    {
     "name": "stdout",
     "output_type": "stream",
     "text": [
      "Selected: exp24-GLY-left_10\n",
      "\t#cell masks after segmentation : 1091\n",
      "removing 72 cells with no dapi signal\n",
      "\t#cell masks that have some dapi: 1019\n"
     ]
    },
    {
     "name": "stderr",
     "output_type": "stream",
     "text": [
      "/var/folders/pp/cdyfs0g13j3_15mc99_0nfmh0000gn/T/ipykernel_11254/2403115704.py:19: UserWarning: /Volumes/Flodrive/Florence/smFISH/analysis/20241029-exp24/exp24-GLY-left_10/DIC_masks_with_dapi.tif is a low contrast image\n",
      "  io.imsave(Path(img['cellmaskfile']).parent / 'DIC_masks_with_dapi.tif', cell_masks_with_dapi)\n"
     ]
    },
    {
     "name": "stdout",
     "output_type": "stream",
     "text": [
      "Config file from: /Volumes/Flodrive/Florence/smFISH/analysis/20241029-exp22\n",
      "\t/Volumes/Flodrive/Florence/smFISH/analysis/20241029-exp22/config-detection.json ->\n",
      "\t/Volumes/Flodrive/Florence/smFISH/analysis/20241029-exp22/config-detection-processed.json\n",
      "Selected: exp22-GLU_01\n",
      "\t#cell masks after segmentation : 209\n",
      "removing 54 cells with no dapi signal\n",
      "\t#cell masks that have some dapi: 155\n",
      "Selected: exp22-GLU_02\n",
      "\t#cell masks after segmentation : 167\n",
      "removing 60 cells with no dapi signal\n",
      "\t#cell masks that have some dapi: 107\n",
      "Selected: exp22-GLU_03\n",
      "\t#cell masks after segmentation : 265\n",
      "removing 68 cells with no dapi signal\n",
      "\t#cell masks that have some dapi: 197\n"
     ]
    },
    {
     "name": "stderr",
     "output_type": "stream",
     "text": [
      "/var/folders/pp/cdyfs0g13j3_15mc99_0nfmh0000gn/T/ipykernel_11254/2403115704.py:19: UserWarning: /Volumes/Flodrive/Florence/smFISH/analysis/20241029-exp22/exp22-GLU_03/DIC_masks_with_dapi.tif is a low contrast image\n",
      "  io.imsave(Path(img['cellmaskfile']).parent / 'DIC_masks_with_dapi.tif', cell_masks_with_dapi)\n"
     ]
    },
    {
     "name": "stdout",
     "output_type": "stream",
     "text": [
      "Selected: exp22-GLU_04\n",
      "\t#cell masks after segmentation : 176\n",
      "removing 17 cells with no dapi signal\n",
      "\t#cell masks that have some dapi: 159\n",
      "Selected: exp22-GLU_05\n",
      "\t#cell masks after segmentation : 171\n",
      "removing 34 cells with no dapi signal\n",
      "\t#cell masks that have some dapi: 137\n",
      "Selected: exp22-GLU_06\n",
      "\t#cell masks after segmentation : 267\n",
      "removing 82 cells with no dapi signal\n",
      "\t#cell masks that have some dapi: 185\n"
     ]
    },
    {
     "name": "stderr",
     "output_type": "stream",
     "text": [
      "/var/folders/pp/cdyfs0g13j3_15mc99_0nfmh0000gn/T/ipykernel_11254/2403115704.py:19: UserWarning: /Volumes/Flodrive/Florence/smFISH/analysis/20241029-exp22/exp22-GLU_06/DIC_masks_with_dapi.tif is a low contrast image\n",
      "  io.imsave(Path(img['cellmaskfile']).parent / 'DIC_masks_with_dapi.tif', cell_masks_with_dapi)\n"
     ]
    },
    {
     "name": "stdout",
     "output_type": "stream",
     "text": [
      "Selected: exp22-GLU_07\n",
      "\t#cell masks after segmentation : 183\n",
      "removing 40 cells with no dapi signal\n",
      "\t#cell masks that have some dapi: 143\n",
      "Selected: exp22-GLU_08\n",
      "\t#cell masks after segmentation : 337\n",
      "removing 118 cells with no dapi signal\n",
      "\t#cell masks that have some dapi: 219\n"
     ]
    },
    {
     "name": "stderr",
     "output_type": "stream",
     "text": [
      "/var/folders/pp/cdyfs0g13j3_15mc99_0nfmh0000gn/T/ipykernel_11254/2403115704.py:19: UserWarning: /Volumes/Flodrive/Florence/smFISH/analysis/20241029-exp22/exp22-GLU_08/DIC_masks_with_dapi.tif is a low contrast image\n",
      "  io.imsave(Path(img['cellmaskfile']).parent / 'DIC_masks_with_dapi.tif', cell_masks_with_dapi)\n"
     ]
    },
    {
     "name": "stdout",
     "output_type": "stream",
     "text": [
      "Selected: exp22-GLU_09\n",
      "\t#cell masks after segmentation : 554\n",
      "removing 128 cells with no dapi signal\n",
      "\t#cell masks that have some dapi: 426\n"
     ]
    },
    {
     "name": "stderr",
     "output_type": "stream",
     "text": [
      "/var/folders/pp/cdyfs0g13j3_15mc99_0nfmh0000gn/T/ipykernel_11254/2403115704.py:19: UserWarning: /Volumes/Flodrive/Florence/smFISH/analysis/20241029-exp22/exp22-GLU_09/DIC_masks_with_dapi.tif is a low contrast image\n",
      "  io.imsave(Path(img['cellmaskfile']).parent / 'DIC_masks_with_dapi.tif', cell_masks_with_dapi)\n"
     ]
    },
    {
     "name": "stdout",
     "output_type": "stream",
     "text": [
      "Selected: exp22-GLU_10\n",
      "\t#cell masks after segmentation : 378\n",
      "removing 182 cells with no dapi signal\n",
      "\t#cell masks that have some dapi: 196\n"
     ]
    },
    {
     "name": "stderr",
     "output_type": "stream",
     "text": [
      "/var/folders/pp/cdyfs0g13j3_15mc99_0nfmh0000gn/T/ipykernel_11254/2403115704.py:19: UserWarning: /Volumes/Flodrive/Florence/smFISH/analysis/20241029-exp22/exp22-GLU_10/DIC_masks_with_dapi.tif is a low contrast image\n",
      "  io.imsave(Path(img['cellmaskfile']).parent / 'DIC_masks_with_dapi.tif', cell_masks_with_dapi)\n"
     ]
    },
    {
     "name": "stdout",
     "output_type": "stream",
     "text": [
      "Selected: exp22-GLY_03\n",
      "\t#cell masks after segmentation : 624\n",
      "removing 111 cells with no dapi signal\n",
      "\t#cell masks that have some dapi: 513\n"
     ]
    },
    {
     "name": "stderr",
     "output_type": "stream",
     "text": [
      "/var/folders/pp/cdyfs0g13j3_15mc99_0nfmh0000gn/T/ipykernel_11254/2403115704.py:19: UserWarning: /Volumes/Flodrive/Florence/smFISH/analysis/20241029-exp22/exp22-GLY_03/DIC_masks_with_dapi.tif is a low contrast image\n",
      "  io.imsave(Path(img['cellmaskfile']).parent / 'DIC_masks_with_dapi.tif', cell_masks_with_dapi)\n"
     ]
    },
    {
     "name": "stdout",
     "output_type": "stream",
     "text": [
      "Selected: exp22-GLY_05\n",
      "\t#cell masks after segmentation : 294\n",
      "removing 122 cells with no dapi signal\n",
      "\t#cell masks that have some dapi: 172\n"
     ]
    },
    {
     "name": "stderr",
     "output_type": "stream",
     "text": [
      "/var/folders/pp/cdyfs0g13j3_15mc99_0nfmh0000gn/T/ipykernel_11254/2403115704.py:19: UserWarning: /Volumes/Flodrive/Florence/smFISH/analysis/20241029-exp22/exp22-GLY_05/DIC_masks_with_dapi.tif is a low contrast image\n",
      "  io.imsave(Path(img['cellmaskfile']).parent / 'DIC_masks_with_dapi.tif', cell_masks_with_dapi)\n"
     ]
    },
    {
     "name": "stdout",
     "output_type": "stream",
     "text": [
      "Selected: exp22-GLY_06\n",
      "\t#cell masks after segmentation : 445\n",
      "removing 105 cells with no dapi signal\n",
      "\t#cell masks that have some dapi: 340\n"
     ]
    },
    {
     "name": "stderr",
     "output_type": "stream",
     "text": [
      "/var/folders/pp/cdyfs0g13j3_15mc99_0nfmh0000gn/T/ipykernel_11254/2403115704.py:19: UserWarning: /Volumes/Flodrive/Florence/smFISH/analysis/20241029-exp22/exp22-GLY_06/DIC_masks_with_dapi.tif is a low contrast image\n",
      "  io.imsave(Path(img['cellmaskfile']).parent / 'DIC_masks_with_dapi.tif', cell_masks_with_dapi)\n"
     ]
    },
    {
     "name": "stdout",
     "output_type": "stream",
     "text": [
      "Selected: exp22-GLY_07\n",
      "\t#cell masks after segmentation : 339\n",
      "removing 122 cells with no dapi signal\n",
      "\t#cell masks that have some dapi: 217\n"
     ]
    },
    {
     "name": "stderr",
     "output_type": "stream",
     "text": [
      "/var/folders/pp/cdyfs0g13j3_15mc99_0nfmh0000gn/T/ipykernel_11254/2403115704.py:19: UserWarning: /Volumes/Flodrive/Florence/smFISH/analysis/20241029-exp22/exp22-GLY_07/DIC_masks_with_dapi.tif is a low contrast image\n",
      "  io.imsave(Path(img['cellmaskfile']).parent / 'DIC_masks_with_dapi.tif', cell_masks_with_dapi)\n"
     ]
    },
    {
     "name": "stdout",
     "output_type": "stream",
     "text": [
      "Selected: exp22-GLY_08\n",
      "\t#cell masks after segmentation : 292\n",
      "removing 96 cells with no dapi signal\n",
      "\t#cell masks that have some dapi: 196\n"
     ]
    },
    {
     "name": "stderr",
     "output_type": "stream",
     "text": [
      "/var/folders/pp/cdyfs0g13j3_15mc99_0nfmh0000gn/T/ipykernel_11254/2403115704.py:19: UserWarning: /Volumes/Flodrive/Florence/smFISH/analysis/20241029-exp22/exp22-GLY_08/DIC_masks_with_dapi.tif is a low contrast image\n",
      "  io.imsave(Path(img['cellmaskfile']).parent / 'DIC_masks_with_dapi.tif', cell_masks_with_dapi)\n"
     ]
    },
    {
     "name": "stdout",
     "output_type": "stream",
     "text": [
      "Selected: exp22-GLY_09\n",
      "\t#cell masks after segmentation : 2770\n",
      "removing 358 cells with no dapi signal\n",
      "\t#cell masks that have some dapi: 2412\n"
     ]
    },
    {
     "name": "stderr",
     "output_type": "stream",
     "text": [
      "/var/folders/pp/cdyfs0g13j3_15mc99_0nfmh0000gn/T/ipykernel_11254/2403115704.py:19: UserWarning: /Volumes/Flodrive/Florence/smFISH/analysis/20241029-exp22/exp22-GLY_09/DIC_masks_with_dapi.tif is a low contrast image\n",
      "  io.imsave(Path(img['cellmaskfile']).parent / 'DIC_masks_with_dapi.tif', cell_masks_with_dapi)\n"
     ]
    },
    {
     "name": "stdout",
     "output_type": "stream",
     "text": [
      "Selected: exp22-GLY_10\n",
      "\t#cell masks after segmentation : 414\n",
      "removing 137 cells with no dapi signal\n",
      "\t#cell masks that have some dapi: 277\n"
     ]
    },
    {
     "name": "stderr",
     "output_type": "stream",
     "text": [
      "/var/folders/pp/cdyfs0g13j3_15mc99_0nfmh0000gn/T/ipykernel_11254/2403115704.py:19: UserWarning: /Volumes/Flodrive/Florence/smFISH/analysis/20241029-exp22/exp22-GLY_10/DIC_masks_with_dapi.tif is a low contrast image\n",
      "  io.imsave(Path(img['cellmaskfile']).parent / 'DIC_masks_with_dapi.tif', cell_masks_with_dapi)\n"
     ]
    },
    {
     "name": "stdout",
     "output_type": "stream",
     "text": [
      "Selected: exp22-GAL_01\n",
      "\t#cell masks after segmentation : 1124\n",
      "removing 58 cells with no dapi signal\n",
      "\t#cell masks that have some dapi: 1066\n"
     ]
    },
    {
     "name": "stderr",
     "output_type": "stream",
     "text": [
      "/var/folders/pp/cdyfs0g13j3_15mc99_0nfmh0000gn/T/ipykernel_11254/2403115704.py:19: UserWarning: /Volumes/Flodrive/Florence/smFISH/analysis/20241029-exp22/exp22-GAL_01/DIC_masks_with_dapi.tif is a low contrast image\n",
      "  io.imsave(Path(img['cellmaskfile']).parent / 'DIC_masks_with_dapi.tif', cell_masks_with_dapi)\n"
     ]
    },
    {
     "name": "stdout",
     "output_type": "stream",
     "text": [
      "Selected: exp22-GAL_03\n",
      "\t#cell masks after segmentation : 1999\n",
      "removing 166 cells with no dapi signal\n",
      "\t#cell masks that have some dapi: 1833\n"
     ]
    },
    {
     "name": "stderr",
     "output_type": "stream",
     "text": [
      "/var/folders/pp/cdyfs0g13j3_15mc99_0nfmh0000gn/T/ipykernel_11254/2403115704.py:19: UserWarning: /Volumes/Flodrive/Florence/smFISH/analysis/20241029-exp22/exp22-GAL_03/DIC_masks_with_dapi.tif is a low contrast image\n",
      "  io.imsave(Path(img['cellmaskfile']).parent / 'DIC_masks_with_dapi.tif', cell_masks_with_dapi)\n"
     ]
    },
    {
     "name": "stdout",
     "output_type": "stream",
     "text": [
      "Selected: exp22-GAL_04\n",
      "\t#cell masks after segmentation : 1290\n",
      "removing 159 cells with no dapi signal\n",
      "\t#cell masks that have some dapi: 1131\n"
     ]
    },
    {
     "name": "stderr",
     "output_type": "stream",
     "text": [
      "/var/folders/pp/cdyfs0g13j3_15mc99_0nfmh0000gn/T/ipykernel_11254/2403115704.py:19: UserWarning: /Volumes/Flodrive/Florence/smFISH/analysis/20241029-exp22/exp22-GAL_04/DIC_masks_with_dapi.tif is a low contrast image\n",
      "  io.imsave(Path(img['cellmaskfile']).parent / 'DIC_masks_with_dapi.tif', cell_masks_with_dapi)\n"
     ]
    },
    {
     "name": "stdout",
     "output_type": "stream",
     "text": [
      "Selected: exp22-GAL_07\n",
      "\t#cell masks after segmentation : 990\n",
      "removing 38 cells with no dapi signal\n",
      "\t#cell masks that have some dapi: 952\n"
     ]
    },
    {
     "name": "stderr",
     "output_type": "stream",
     "text": [
      "/var/folders/pp/cdyfs0g13j3_15mc99_0nfmh0000gn/T/ipykernel_11254/2403115704.py:19: UserWarning: /Volumes/Flodrive/Florence/smFISH/analysis/20241029-exp22/exp22-GAL_07/DIC_masks_with_dapi.tif is a low contrast image\n",
      "  io.imsave(Path(img['cellmaskfile']).parent / 'DIC_masks_with_dapi.tif', cell_masks_with_dapi)\n"
     ]
    },
    {
     "name": "stdout",
     "output_type": "stream",
     "text": [
      "Selected: exp22-GAL_08\n",
      "\t#cell masks after segmentation : 965\n",
      "removing 46 cells with no dapi signal\n",
      "\t#cell masks that have some dapi: 919\n"
     ]
    },
    {
     "name": "stderr",
     "output_type": "stream",
     "text": [
      "/var/folders/pp/cdyfs0g13j3_15mc99_0nfmh0000gn/T/ipykernel_11254/2403115704.py:19: UserWarning: /Volumes/Flodrive/Florence/smFISH/analysis/20241029-exp22/exp22-GAL_08/DIC_masks_with_dapi.tif is a low contrast image\n",
      "  io.imsave(Path(img['cellmaskfile']).parent / 'DIC_masks_with_dapi.tif', cell_masks_with_dapi)\n"
     ]
    },
    {
     "name": "stdout",
     "output_type": "stream",
     "text": [
      "Selected: exp22-GAL_09\n",
      "\t#cell masks after segmentation : 775\n",
      "removing 62 cells with no dapi signal\n",
      "\t#cell masks that have some dapi: 713\n"
     ]
    },
    {
     "name": "stderr",
     "output_type": "stream",
     "text": [
      "/var/folders/pp/cdyfs0g13j3_15mc99_0nfmh0000gn/T/ipykernel_11254/2403115704.py:19: UserWarning: /Volumes/Flodrive/Florence/smFISH/analysis/20241029-exp22/exp22-GAL_09/DIC_masks_with_dapi.tif is a low contrast image\n",
      "  io.imsave(Path(img['cellmaskfile']).parent / 'DIC_masks_with_dapi.tif', cell_masks_with_dapi)\n"
     ]
    },
    {
     "name": "stdout",
     "output_type": "stream",
     "text": [
      "Selected: exp22-GAL_10\n",
      "\t#cell masks after segmentation : 744\n",
      "removing 62 cells with no dapi signal\n",
      "\t#cell masks that have some dapi: 682\n"
     ]
    },
    {
     "name": "stderr",
     "output_type": "stream",
     "text": [
      "/var/folders/pp/cdyfs0g13j3_15mc99_0nfmh0000gn/T/ipykernel_11254/2403115704.py:19: UserWarning: /Volumes/Flodrive/Florence/smFISH/analysis/20241029-exp22/exp22-GAL_10/DIC_masks_with_dapi.tif is a low contrast image\n",
      "  io.imsave(Path(img['cellmaskfile']).parent / 'DIC_masks_with_dapi.tif', cell_masks_with_dapi)\n"
     ]
    },
    {
     "name": "stdout",
     "output_type": "stream",
     "text": [
      "Selected: exp22-MAN_01\n",
      "\t#cell masks after segmentation : 861\n",
      "removing 79 cells with no dapi signal\n",
      "\t#cell masks that have some dapi: 782\n"
     ]
    },
    {
     "name": "stderr",
     "output_type": "stream",
     "text": [
      "/var/folders/pp/cdyfs0g13j3_15mc99_0nfmh0000gn/T/ipykernel_11254/2403115704.py:19: UserWarning: /Volumes/Flodrive/Florence/smFISH/analysis/20241029-exp22/exp22-MAN_01/DIC_masks_with_dapi.tif is a low contrast image\n",
      "  io.imsave(Path(img['cellmaskfile']).parent / 'DIC_masks_with_dapi.tif', cell_masks_with_dapi)\n"
     ]
    },
    {
     "name": "stdout",
     "output_type": "stream",
     "text": [
      "Selected: exp22-MAN_02\n",
      "\t#cell masks after segmentation : 973\n",
      "removing 118 cells with no dapi signal\n",
      "\t#cell masks that have some dapi: 855\n"
     ]
    },
    {
     "name": "stderr",
     "output_type": "stream",
     "text": [
      "/var/folders/pp/cdyfs0g13j3_15mc99_0nfmh0000gn/T/ipykernel_11254/2403115704.py:19: UserWarning: /Volumes/Flodrive/Florence/smFISH/analysis/20241029-exp22/exp22-MAN_02/DIC_masks_with_dapi.tif is a low contrast image\n",
      "  io.imsave(Path(img['cellmaskfile']).parent / 'DIC_masks_with_dapi.tif', cell_masks_with_dapi)\n"
     ]
    },
    {
     "name": "stdout",
     "output_type": "stream",
     "text": [
      "Selected: exp22-MAN_03\n",
      "\t#cell masks after segmentation : 1190\n",
      "removing 181 cells with no dapi signal\n",
      "\t#cell masks that have some dapi: 1009\n"
     ]
    },
    {
     "name": "stderr",
     "output_type": "stream",
     "text": [
      "/var/folders/pp/cdyfs0g13j3_15mc99_0nfmh0000gn/T/ipykernel_11254/2403115704.py:19: UserWarning: /Volumes/Flodrive/Florence/smFISH/analysis/20241029-exp22/exp22-MAN_03/DIC_masks_with_dapi.tif is a low contrast image\n",
      "  io.imsave(Path(img['cellmaskfile']).parent / 'DIC_masks_with_dapi.tif', cell_masks_with_dapi)\n"
     ]
    },
    {
     "name": "stdout",
     "output_type": "stream",
     "text": [
      "Selected: exp22-MAN_05\n",
      "\t#cell masks after segmentation : 861\n",
      "removing 108 cells with no dapi signal\n",
      "\t#cell masks that have some dapi: 753\n"
     ]
    },
    {
     "name": "stderr",
     "output_type": "stream",
     "text": [
      "/var/folders/pp/cdyfs0g13j3_15mc99_0nfmh0000gn/T/ipykernel_11254/2403115704.py:19: UserWarning: /Volumes/Flodrive/Florence/smFISH/analysis/20241029-exp22/exp22-MAN_05/DIC_masks_with_dapi.tif is a low contrast image\n",
      "  io.imsave(Path(img['cellmaskfile']).parent / 'DIC_masks_with_dapi.tif', cell_masks_with_dapi)\n"
     ]
    },
    {
     "name": "stdout",
     "output_type": "stream",
     "text": [
      "Selected: exp22-MAN_06\n",
      "\t#cell masks after segmentation : 1279\n",
      "removing 115 cells with no dapi signal\n",
      "\t#cell masks that have some dapi: 1164\n"
     ]
    },
    {
     "name": "stderr",
     "output_type": "stream",
     "text": [
      "/var/folders/pp/cdyfs0g13j3_15mc99_0nfmh0000gn/T/ipykernel_11254/2403115704.py:19: UserWarning: /Volumes/Flodrive/Florence/smFISH/analysis/20241029-exp22/exp22-MAN_06/DIC_masks_with_dapi.tif is a low contrast image\n",
      "  io.imsave(Path(img['cellmaskfile']).parent / 'DIC_masks_with_dapi.tif', cell_masks_with_dapi)\n"
     ]
    },
    {
     "name": "stdout",
     "output_type": "stream",
     "text": [
      "Selected: exp22-MAN_07\n",
      "\t#cell masks after segmentation : 970\n",
      "removing 117 cells with no dapi signal\n",
      "\t#cell masks that have some dapi: 853\n"
     ]
    },
    {
     "name": "stderr",
     "output_type": "stream",
     "text": [
      "/var/folders/pp/cdyfs0g13j3_15mc99_0nfmh0000gn/T/ipykernel_11254/2403115704.py:19: UserWarning: /Volumes/Flodrive/Florence/smFISH/analysis/20241029-exp22/exp22-MAN_07/DIC_masks_with_dapi.tif is a low contrast image\n",
      "  io.imsave(Path(img['cellmaskfile']).parent / 'DIC_masks_with_dapi.tif', cell_masks_with_dapi)\n"
     ]
    },
    {
     "name": "stdout",
     "output_type": "stream",
     "text": [
      "Selected: exp22-MAN_08\n",
      "\t#cell masks after segmentation : 1028\n",
      "removing 175 cells with no dapi signal\n",
      "\t#cell masks that have some dapi: 853\n"
     ]
    },
    {
     "name": "stderr",
     "output_type": "stream",
     "text": [
      "/var/folders/pp/cdyfs0g13j3_15mc99_0nfmh0000gn/T/ipykernel_11254/2403115704.py:19: UserWarning: /Volumes/Flodrive/Florence/smFISH/analysis/20241029-exp22/exp22-MAN_08/DIC_masks_with_dapi.tif is a low contrast image\n",
      "  io.imsave(Path(img['cellmaskfile']).parent / 'DIC_masks_with_dapi.tif', cell_masks_with_dapi)\n"
     ]
    },
    {
     "name": "stdout",
     "output_type": "stream",
     "text": [
      "Selected: exp22-MAN_09\n",
      "\t#cell masks after segmentation : 886\n",
      "removing 64 cells with no dapi signal\n",
      "\t#cell masks that have some dapi: 822\n"
     ]
    },
    {
     "name": "stderr",
     "output_type": "stream",
     "text": [
      "/var/folders/pp/cdyfs0g13j3_15mc99_0nfmh0000gn/T/ipykernel_11254/2403115704.py:19: UserWarning: /Volumes/Flodrive/Florence/smFISH/analysis/20241029-exp22/exp22-MAN_09/DIC_masks_with_dapi.tif is a low contrast image\n",
      "  io.imsave(Path(img['cellmaskfile']).parent / 'DIC_masks_with_dapi.tif', cell_masks_with_dapi)\n"
     ]
    },
    {
     "name": "stdout",
     "output_type": "stream",
     "text": [
      "Selected: exp22-MAN_10\n",
      "\t#cell masks after segmentation : 928\n",
      "removing 106 cells with no dapi signal\n",
      "\t#cell masks that have some dapi: 822\n"
     ]
    },
    {
     "name": "stderr",
     "output_type": "stream",
     "text": [
      "/var/folders/pp/cdyfs0g13j3_15mc99_0nfmh0000gn/T/ipykernel_11254/2403115704.py:19: UserWarning: /Volumes/Flodrive/Florence/smFISH/analysis/20241029-exp22/exp22-MAN_10/DIC_masks_with_dapi.tif is a low contrast image\n",
      "  io.imsave(Path(img['cellmaskfile']).parent / 'DIC_masks_with_dapi.tif', cell_masks_with_dapi)\n"
     ]
    },
    {
     "name": "stdout",
     "output_type": "stream",
     "text": [
      "Config file from: /Volumes/Flodrive/Florence/smFISH/analysis/20241003-exp16\n",
      "\t/Volumes/Flodrive/Florence/smFISH/analysis/20241003-exp16/config-detection.json ->\n",
      "\t/Volumes/Flodrive/Florence/smFISH/analysis/20241003-exp16/config-detection-processed.json\n",
      "Selected: MG1655_GAL-lowOD-2nd_06\n",
      "\t#cell masks after segmentation : 873\n",
      "removing 261 cells with no dapi signal\n",
      "\t#cell masks that have some dapi: 612\n",
      "Selected: MG1655_GAL-lowOD-2nd_09\n"
     ]
    },
    {
     "name": "stderr",
     "output_type": "stream",
     "text": [
      "/var/folders/pp/cdyfs0g13j3_15mc99_0nfmh0000gn/T/ipykernel_11254/2403115704.py:19: UserWarning: /Volumes/Flodrive/Florence/smFISH/analysis/20241003-exp16/MG1655_GAL-lowOD-2nd_06/DIC_masks_with_dapi.tif is a low contrast image\n",
      "  io.imsave(Path(img['cellmaskfile']).parent / 'DIC_masks_with_dapi.tif', cell_masks_with_dapi)\n"
     ]
    },
    {
     "name": "stdout",
     "output_type": "stream",
     "text": [
      "\t#cell masks after segmentation : 425\n",
      "removing 263 cells with no dapi signal\n",
      "\t#cell masks that have some dapi: 162\n"
     ]
    },
    {
     "name": "stderr",
     "output_type": "stream",
     "text": [
      "/var/folders/pp/cdyfs0g13j3_15mc99_0nfmh0000gn/T/ipykernel_11254/2403115704.py:19: UserWarning: /Volumes/Flodrive/Florence/smFISH/analysis/20241003-exp16/MG1655_GAL-lowOD-2nd_09/DIC_masks_with_dapi.tif is a low contrast image\n",
      "  io.imsave(Path(img['cellmaskfile']).parent / 'DIC_masks_with_dapi.tif', cell_masks_with_dapi)\n"
     ]
    },
    {
     "name": "stdout",
     "output_type": "stream",
     "text": [
      "Selected: MG1655_GLY-lowOD-2nd_01\n",
      "\t#cell masks after segmentation : 248\n",
      "removing 114 cells with no dapi signal\n",
      "\t#cell masks that have some dapi: 134\n",
      "Selected: MG1655_GLY-lowOD-2nd_02\n",
      "\t#cell masks after segmentation : 303\n",
      "removing 223 cells with no dapi signal\n",
      "\t#cell masks that have some dapi: 80\n"
     ]
    },
    {
     "name": "stderr",
     "output_type": "stream",
     "text": [
      "/var/folders/pp/cdyfs0g13j3_15mc99_0nfmh0000gn/T/ipykernel_11254/2403115704.py:19: UserWarning: /Volumes/Flodrive/Florence/smFISH/analysis/20241003-exp16/MG1655_GLY-lowOD-2nd_02/DIC_masks_with_dapi.tif is a low contrast image\n",
      "  io.imsave(Path(img['cellmaskfile']).parent / 'DIC_masks_with_dapi.tif', cell_masks_with_dapi)\n"
     ]
    },
    {
     "name": "stdout",
     "output_type": "stream",
     "text": [
      "Selected: MG1655_GLY-lowOD-2nd_09\n",
      "\t#cell masks after segmentation : 3277\n",
      "removing 1025 cells with no dapi signal\n",
      "\t#cell masks that have some dapi: 2252\n"
     ]
    },
    {
     "name": "stderr",
     "output_type": "stream",
     "text": [
      "/var/folders/pp/cdyfs0g13j3_15mc99_0nfmh0000gn/T/ipykernel_11254/2403115704.py:19: UserWarning: /Volumes/Flodrive/Florence/smFISH/analysis/20241003-exp16/MG1655_GLY-lowOD-2nd_09/DIC_masks_with_dapi.tif is a low contrast image\n",
      "  io.imsave(Path(img['cellmaskfile']).parent / 'DIC_masks_with_dapi.tif', cell_masks_with_dapi)\n"
     ]
    },
    {
     "name": "stdout",
     "output_type": "stream",
     "text": [
      "Selected: MG1655_GLY-lowOD-2nd_13\n",
      "\t#cell masks after segmentation : 765\n",
      "removing 557 cells with no dapi signal\n",
      "\t#cell masks that have some dapi: 208\n"
     ]
    },
    {
     "name": "stderr",
     "output_type": "stream",
     "text": [
      "/var/folders/pp/cdyfs0g13j3_15mc99_0nfmh0000gn/T/ipykernel_11254/2403115704.py:19: UserWarning: /Volumes/Flodrive/Florence/smFISH/analysis/20241003-exp16/MG1655_GLY-lowOD-2nd_13/DIC_masks_with_dapi.tif is a low contrast image\n",
      "  io.imsave(Path(img['cellmaskfile']).parent / 'DIC_masks_with_dapi.tif', cell_masks_with_dapi)\n"
     ]
    },
    {
     "name": "stdout",
     "output_type": "stream",
     "text": [
      "Config file from: /Volumes/Flodrive/Florence/smFISH/analysis/20240927-exp16\n",
      "\t/Volumes/Flodrive/Florence/smFISH/analysis/20240927-exp16/config-detection.json ->\n",
      "\t/Volumes/Flodrive/Florence/smFISH/analysis/20240927-exp16/config-detection-processed.json\n",
      "Selected: MG1655_GLU_OD_0.3_left_02\n",
      "\t#cell masks after segmentation : 2406\n",
      "removing 31 cells with no dapi signal\n",
      "\t#cell masks that have some dapi: 2375\n"
     ]
    },
    {
     "name": "stderr",
     "output_type": "stream",
     "text": [
      "/var/folders/pp/cdyfs0g13j3_15mc99_0nfmh0000gn/T/ipykernel_11254/2403115704.py:19: UserWarning: /Volumes/Flodrive/Florence/smFISH/analysis/20240927-exp16/MG1655_GLU_OD_0.3_left_02/DIC_masks_with_dapi.tif is a low contrast image\n",
      "  io.imsave(Path(img['cellmaskfile']).parent / 'DIC_masks_with_dapi.tif', cell_masks_with_dapi)\n"
     ]
    },
    {
     "name": "stdout",
     "output_type": "stream",
     "text": [
      "Selected: MG1655_GLU_OD_0.3_left_03\n",
      "\t#cell masks after segmentation : 2099\n",
      "removing 44 cells with no dapi signal\n",
      "\t#cell masks that have some dapi: 2055\n"
     ]
    },
    {
     "name": "stderr",
     "output_type": "stream",
     "text": [
      "/var/folders/pp/cdyfs0g13j3_15mc99_0nfmh0000gn/T/ipykernel_11254/2403115704.py:19: UserWarning: /Volumes/Flodrive/Florence/smFISH/analysis/20240927-exp16/MG1655_GLU_OD_0.3_left_03/DIC_masks_with_dapi.tif is a low contrast image\n",
      "  io.imsave(Path(img['cellmaskfile']).parent / 'DIC_masks_with_dapi.tif', cell_masks_with_dapi)\n"
     ]
    },
    {
     "name": "stdout",
     "output_type": "stream",
     "text": [
      "Selected: MG1655_GLU_OD_0.3_left_04\n",
      "\t#cell masks after segmentation : 1551\n",
      "removing 36 cells with no dapi signal\n",
      "\t#cell masks that have some dapi: 1515\n"
     ]
    },
    {
     "name": "stderr",
     "output_type": "stream",
     "text": [
      "/var/folders/pp/cdyfs0g13j3_15mc99_0nfmh0000gn/T/ipykernel_11254/2403115704.py:19: UserWarning: /Volumes/Flodrive/Florence/smFISH/analysis/20240927-exp16/MG1655_GLU_OD_0.3_left_04/DIC_masks_with_dapi.tif is a low contrast image\n",
      "  io.imsave(Path(img['cellmaskfile']).parent / 'DIC_masks_with_dapi.tif', cell_masks_with_dapi)\n"
     ]
    },
    {
     "name": "stdout",
     "output_type": "stream",
     "text": [
      "Selected: MG1655_GLU_OD_0.3_left_05\n",
      "\t#cell masks after segmentation : 2564\n",
      "removing 21 cells with no dapi signal\n",
      "\t#cell masks that have some dapi: 2543\n"
     ]
    },
    {
     "name": "stderr",
     "output_type": "stream",
     "text": [
      "/var/folders/pp/cdyfs0g13j3_15mc99_0nfmh0000gn/T/ipykernel_11254/2403115704.py:19: UserWarning: /Volumes/Flodrive/Florence/smFISH/analysis/20240927-exp16/MG1655_GLU_OD_0.3_left_05/DIC_masks_with_dapi.tif is a low contrast image\n",
      "  io.imsave(Path(img['cellmaskfile']).parent / 'DIC_masks_with_dapi.tif', cell_masks_with_dapi)\n"
     ]
    },
    {
     "name": "stdout",
     "output_type": "stream",
     "text": [
      "Selected: MG1655_GLY_OD_0.3_right_01\n",
      "\t#cell masks after segmentation : 130\n",
      "removing 111 cells with no dapi signal\n",
      "\t#cell masks that have some dapi: 19\n"
     ]
    },
    {
     "name": "stderr",
     "output_type": "stream",
     "text": [
      "/var/folders/pp/cdyfs0g13j3_15mc99_0nfmh0000gn/T/ipykernel_11254/2403115704.py:19: UserWarning: /Volumes/Flodrive/Florence/smFISH/analysis/20240927-exp16/MG1655_GLY_OD_0.3_right_01/DIC_masks_with_dapi.tif is a low contrast image\n",
      "  io.imsave(Path(img['cellmaskfile']).parent / 'DIC_masks_with_dapi.tif', cell_masks_with_dapi)\n"
     ]
    },
    {
     "name": "stdout",
     "output_type": "stream",
     "text": [
      "Selected: MG1655_GLY_OD_0.3_right_03\n",
      "\t#cell masks after segmentation : 208\n",
      "removing 188 cells with no dapi signal\n",
      "\t#cell masks that have some dapi: 20\n"
     ]
    },
    {
     "name": "stderr",
     "output_type": "stream",
     "text": [
      "/var/folders/pp/cdyfs0g13j3_15mc99_0nfmh0000gn/T/ipykernel_11254/2403115704.py:19: UserWarning: /Volumes/Flodrive/Florence/smFISH/analysis/20240927-exp16/MG1655_GLY_OD_0.3_right_03/DIC_masks_with_dapi.tif is a low contrast image\n",
      "  io.imsave(Path(img['cellmaskfile']).parent / 'DIC_masks_with_dapi.tif', cell_masks_with_dapi)\n"
     ]
    },
    {
     "name": "stdout",
     "output_type": "stream",
     "text": [
      "Selected: MG1655_GLY_OD_0.3_right_04\n",
      "\t#cell masks after segmentation : 232\n",
      "removing 206 cells with no dapi signal\n",
      "\t#cell masks that have some dapi: 26\n",
      "Selected: MG1655_GLY_OD_0.3_right_05\n"
     ]
    },
    {
     "name": "stderr",
     "output_type": "stream",
     "text": [
      "/var/folders/pp/cdyfs0g13j3_15mc99_0nfmh0000gn/T/ipykernel_11254/2403115704.py:19: UserWarning: /Volumes/Flodrive/Florence/smFISH/analysis/20240927-exp16/MG1655_GLY_OD_0.3_right_04/DIC_masks_with_dapi.tif is a low contrast image\n",
      "  io.imsave(Path(img['cellmaskfile']).parent / 'DIC_masks_with_dapi.tif', cell_masks_with_dapi)\n"
     ]
    },
    {
     "name": "stdout",
     "output_type": "stream",
     "text": [
      "\t#cell masks after segmentation : 578\n",
      "removing 222 cells with no dapi signal\n",
      "\t#cell masks that have some dapi: 356\n"
     ]
    },
    {
     "name": "stderr",
     "output_type": "stream",
     "text": [
      "/var/folders/pp/cdyfs0g13j3_15mc99_0nfmh0000gn/T/ipykernel_11254/2403115704.py:19: UserWarning: /Volumes/Flodrive/Florence/smFISH/analysis/20240927-exp16/MG1655_GLY_OD_0.3_right_05/DIC_masks_with_dapi.tif is a low contrast image\n",
      "  io.imsave(Path(img['cellmaskfile']).parent / 'DIC_masks_with_dapi.tif', cell_masks_with_dapi)\n"
     ]
    },
    {
     "name": "stdout",
     "output_type": "stream",
     "text": [
      "Selected: MG1655_GLY_OD_0.3_right_06\n",
      "\t#cell masks after segmentation : 784\n",
      "removing 552 cells with no dapi signal\n",
      "\t#cell masks that have some dapi: 232\n"
     ]
    },
    {
     "name": "stderr",
     "output_type": "stream",
     "text": [
      "/var/folders/pp/cdyfs0g13j3_15mc99_0nfmh0000gn/T/ipykernel_11254/2403115704.py:19: UserWarning: /Volumes/Flodrive/Florence/smFISH/analysis/20240927-exp16/MG1655_GLY_OD_0.3_right_06/DIC_masks_with_dapi.tif is a low contrast image\n",
      "  io.imsave(Path(img['cellmaskfile']).parent / 'DIC_masks_with_dapi.tif', cell_masks_with_dapi)\n"
     ]
    },
    {
     "name": "stdout",
     "output_type": "stream",
     "text": [
      "Selected: MG1655_GLY_OD_0.3_right_07\n",
      "\t#cell masks after segmentation : 666\n",
      "removing 201 cells with no dapi signal\n",
      "\t#cell masks that have some dapi: 465\n"
     ]
    },
    {
     "name": "stderr",
     "output_type": "stream",
     "text": [
      "/var/folders/pp/cdyfs0g13j3_15mc99_0nfmh0000gn/T/ipykernel_11254/2403115704.py:19: UserWarning: /Volumes/Flodrive/Florence/smFISH/analysis/20240927-exp16/MG1655_GLY_OD_0.3_right_07/DIC_masks_with_dapi.tif is a low contrast image\n",
      "  io.imsave(Path(img['cellmaskfile']).parent / 'DIC_masks_with_dapi.tif', cell_masks_with_dapi)\n"
     ]
    },
    {
     "name": "stdout",
     "output_type": "stream",
     "text": [
      "Selected: MG1655_GLY_OD_0.3_right_08\n",
      "\t#cell masks after segmentation : 653\n",
      "removing 186 cells with no dapi signal\n",
      "\t#cell masks that have some dapi: 467\n"
     ]
    },
    {
     "name": "stderr",
     "output_type": "stream",
     "text": [
      "/var/folders/pp/cdyfs0g13j3_15mc99_0nfmh0000gn/T/ipykernel_11254/2403115704.py:19: UserWarning: /Volumes/Flodrive/Florence/smFISH/analysis/20240927-exp16/MG1655_GLY_OD_0.3_right_08/DIC_masks_with_dapi.tif is a low contrast image\n",
      "  io.imsave(Path(img['cellmaskfile']).parent / 'DIC_masks_with_dapi.tif', cell_masks_with_dapi)\n"
     ]
    },
    {
     "name": "stdout",
     "output_type": "stream",
     "text": [
      "Selected: MG1655_GLY_OD_0.3_right_09\n",
      "\t#cell masks after segmentation : 672\n",
      "removing 321 cells with no dapi signal\n",
      "\t#cell masks that have some dapi: 351\n"
     ]
    },
    {
     "name": "stderr",
     "output_type": "stream",
     "text": [
      "/var/folders/pp/cdyfs0g13j3_15mc99_0nfmh0000gn/T/ipykernel_11254/2403115704.py:19: UserWarning: /Volumes/Flodrive/Florence/smFISH/analysis/20240927-exp16/MG1655_GLY_OD_0.3_right_09/DIC_masks_with_dapi.tif is a low contrast image\n",
      "  io.imsave(Path(img['cellmaskfile']).parent / 'DIC_masks_with_dapi.tif', cell_masks_with_dapi)\n"
     ]
    },
    {
     "name": "stdout",
     "output_type": "stream",
     "text": [
      "Selected: MG1655_GLY_OD_0.3_right_13\n",
      "\t#cell masks after segmentation : 144\n",
      "removing 95 cells with no dapi signal\n",
      "\t#cell masks that have some dapi: 49\n"
     ]
    },
    {
     "name": "stderr",
     "output_type": "stream",
     "text": [
      "/var/folders/pp/cdyfs0g13j3_15mc99_0nfmh0000gn/T/ipykernel_11254/2403115704.py:19: UserWarning: /Volumes/Flodrive/Florence/smFISH/analysis/20240927-exp16/MG1655_GLY_OD_0.3_right_13/DIC_masks_with_dapi.tif is a low contrast image\n",
      "  io.imsave(Path(img['cellmaskfile']).parent / 'DIC_masks_with_dapi.tif', cell_masks_with_dapi)\n"
     ]
    },
    {
     "name": "stdout",
     "output_type": "stream",
     "text": [
      "Selected: MG1655_GLY_OD_0.3_right_14\n",
      "\t#cell masks after segmentation : 166\n",
      "removing 129 cells with no dapi signal\n",
      "\t#cell masks that have some dapi: 37\n"
     ]
    },
    {
     "name": "stderr",
     "output_type": "stream",
     "text": [
      "/var/folders/pp/cdyfs0g13j3_15mc99_0nfmh0000gn/T/ipykernel_11254/2403115704.py:19: UserWarning: /Volumes/Flodrive/Florence/smFISH/analysis/20240927-exp16/MG1655_GLY_OD_0.3_right_14/DIC_masks_with_dapi.tif is a low contrast image\n",
      "  io.imsave(Path(img['cellmaskfile']).parent / 'DIC_masks_with_dapi.tif', cell_masks_with_dapi)\n"
     ]
    },
    {
     "name": "stdout",
     "output_type": "stream",
     "text": [
      "Selected: MG1655_MAN_OD_0.3_left_01\n",
      "\t#cell masks after segmentation : 277\n",
      "removing 222 cells with no dapi signal\n",
      "\t#cell masks that have some dapi: 55\n"
     ]
    },
    {
     "name": "stderr",
     "output_type": "stream",
     "text": [
      "/var/folders/pp/cdyfs0g13j3_15mc99_0nfmh0000gn/T/ipykernel_11254/2403115704.py:19: UserWarning: /Volumes/Flodrive/Florence/smFISH/analysis/20240927-exp16/MG1655_MAN_OD_0.3_left_01/DIC_masks_with_dapi.tif is a low contrast image\n",
      "  io.imsave(Path(img['cellmaskfile']).parent / 'DIC_masks_with_dapi.tif', cell_masks_with_dapi)\n"
     ]
    },
    {
     "name": "stdout",
     "output_type": "stream",
     "text": [
      "Selected: MG1655_MAN_OD_0.3_left_02\n",
      "\t#cell masks after segmentation : 960\n",
      "removing 603 cells with no dapi signal\n",
      "\t#cell masks that have some dapi: 357\n"
     ]
    },
    {
     "name": "stderr",
     "output_type": "stream",
     "text": [
      "/var/folders/pp/cdyfs0g13j3_15mc99_0nfmh0000gn/T/ipykernel_11254/2403115704.py:19: UserWarning: /Volumes/Flodrive/Florence/smFISH/analysis/20240927-exp16/MG1655_MAN_OD_0.3_left_02/DIC_masks_with_dapi.tif is a low contrast image\n",
      "  io.imsave(Path(img['cellmaskfile']).parent / 'DIC_masks_with_dapi.tif', cell_masks_with_dapi)\n"
     ]
    },
    {
     "name": "stdout",
     "output_type": "stream",
     "text": [
      "Selected: MG1655_MAN_OD_0.3_left_05\n",
      "\t#cell masks after segmentation : 913\n",
      "removing 346 cells with no dapi signal\n",
      "\t#cell masks that have some dapi: 567\n"
     ]
    },
    {
     "name": "stderr",
     "output_type": "stream",
     "text": [
      "/var/folders/pp/cdyfs0g13j3_15mc99_0nfmh0000gn/T/ipykernel_11254/2403115704.py:19: UserWarning: /Volumes/Flodrive/Florence/smFISH/analysis/20240927-exp16/MG1655_MAN_OD_0.3_left_05/DIC_masks_with_dapi.tif is a low contrast image\n",
      "  io.imsave(Path(img['cellmaskfile']).parent / 'DIC_masks_with_dapi.tif', cell_masks_with_dapi)\n"
     ]
    },
    {
     "name": "stdout",
     "output_type": "stream",
     "text": [
      "Selected: MG1655_MAN_OD_0.3_left_06\n",
      "\t#cell masks after segmentation : 1000\n",
      "removing 178 cells with no dapi signal\n",
      "\t#cell masks that have some dapi: 822\n"
     ]
    },
    {
     "name": "stderr",
     "output_type": "stream",
     "text": [
      "/var/folders/pp/cdyfs0g13j3_15mc99_0nfmh0000gn/T/ipykernel_11254/2403115704.py:19: UserWarning: /Volumes/Flodrive/Florence/smFISH/analysis/20240927-exp16/MG1655_MAN_OD_0.3_left_06/DIC_masks_with_dapi.tif is a low contrast image\n",
      "  io.imsave(Path(img['cellmaskfile']).parent / 'DIC_masks_with_dapi.tif', cell_masks_with_dapi)\n"
     ]
    },
    {
     "name": "stdout",
     "output_type": "stream",
     "text": [
      "Selected: MG1655_MAN_OD_0.3_left_07\n",
      "\t#cell masks after segmentation : 1105\n",
      "removing 444 cells with no dapi signal\n",
      "\t#cell masks that have some dapi: 661\n"
     ]
    },
    {
     "name": "stderr",
     "output_type": "stream",
     "text": [
      "/var/folders/pp/cdyfs0g13j3_15mc99_0nfmh0000gn/T/ipykernel_11254/2403115704.py:19: UserWarning: /Volumes/Flodrive/Florence/smFISH/analysis/20240927-exp16/MG1655_MAN_OD_0.3_left_07/DIC_masks_with_dapi.tif is a low contrast image\n",
      "  io.imsave(Path(img['cellmaskfile']).parent / 'DIC_masks_with_dapi.tif', cell_masks_with_dapi)\n"
     ]
    },
    {
     "name": "stdout",
     "output_type": "stream",
     "text": [
      "Selected: MG1655_MAN_OD_0.3_left_09\n",
      "\t#cell masks after segmentation : 1452\n",
      "removing 298 cells with no dapi signal\n",
      "\t#cell masks that have some dapi: 1154\n"
     ]
    },
    {
     "name": "stderr",
     "output_type": "stream",
     "text": [
      "/var/folders/pp/cdyfs0g13j3_15mc99_0nfmh0000gn/T/ipykernel_11254/2403115704.py:19: UserWarning: /Volumes/Flodrive/Florence/smFISH/analysis/20240927-exp16/MG1655_MAN_OD_0.3_left_09/DIC_masks_with_dapi.tif is a low contrast image\n",
      "  io.imsave(Path(img['cellmaskfile']).parent / 'DIC_masks_with_dapi.tif', cell_masks_with_dapi)\n"
     ]
    },
    {
     "name": "stdout",
     "output_type": "stream",
     "text": [
      "Selected: MG1655_MAN_OD_0.3_left_11\n",
      "\t#cell masks after segmentation : 1233\n",
      "removing 542 cells with no dapi signal\n",
      "\t#cell masks that have some dapi: 691\n"
     ]
    },
    {
     "name": "stderr",
     "output_type": "stream",
     "text": [
      "/var/folders/pp/cdyfs0g13j3_15mc99_0nfmh0000gn/T/ipykernel_11254/2403115704.py:19: UserWarning: /Volumes/Flodrive/Florence/smFISH/analysis/20240927-exp16/MG1655_MAN_OD_0.3_left_11/DIC_masks_with_dapi.tif is a low contrast image\n",
      "  io.imsave(Path(img['cellmaskfile']).parent / 'DIC_masks_with_dapi.tif', cell_masks_with_dapi)\n"
     ]
    },
    {
     "name": "stdout",
     "output_type": "stream",
     "text": [
      "Config file from: /Volumes/Flodrive/Florence/smFISH/analysis/20240927-LB\n",
      "\t/Volumes/Flodrive/Florence/smFISH/analysis/20240927-LB/config-detection.json ->\n",
      "\t/Volumes/Flodrive/Florence/smFISH/analysis/20240927-LB/config-detection-processed.json\n",
      "Selected: MG1655_LB_fixed2806_hybed1906_left_01\n",
      "\t#cell masks after segmentation : 1407\n",
      "removing 345 cells with no dapi signal\n",
      "\t#cell masks that have some dapi: 1062\n"
     ]
    },
    {
     "name": "stderr",
     "output_type": "stream",
     "text": [
      "/var/folders/pp/cdyfs0g13j3_15mc99_0nfmh0000gn/T/ipykernel_11254/2403115704.py:19: UserWarning: /Volumes/Flodrive/Florence/smFISH/analysis/20240927-LB/MG1655_LB_fixed2806_hybed1906_left_01/DIC_masks_with_dapi.tif is a low contrast image\n",
      "  io.imsave(Path(img['cellmaskfile']).parent / 'DIC_masks_with_dapi.tif', cell_masks_with_dapi)\n"
     ]
    },
    {
     "name": "stdout",
     "output_type": "stream",
     "text": [
      "Selected: MG1655_LB_fixed2806_hybed1906_left_03\n",
      "\t#cell masks after segmentation : 1905\n",
      "removing 612 cells with no dapi signal\n",
      "\t#cell masks that have some dapi: 1293\n"
     ]
    },
    {
     "name": "stderr",
     "output_type": "stream",
     "text": [
      "/var/folders/pp/cdyfs0g13j3_15mc99_0nfmh0000gn/T/ipykernel_11254/2403115704.py:19: UserWarning: /Volumes/Flodrive/Florence/smFISH/analysis/20240927-LB/MG1655_LB_fixed2806_hybed1906_left_03/DIC_masks_with_dapi.tif is a low contrast image\n",
      "  io.imsave(Path(img['cellmaskfile']).parent / 'DIC_masks_with_dapi.tif', cell_masks_with_dapi)\n"
     ]
    },
    {
     "name": "stdout",
     "output_type": "stream",
     "text": [
      "Selected: MG1655_LB_fixed2806_hybed1906_left_07\n",
      "\t#cell masks after segmentation : 2208\n",
      "removing 1018 cells with no dapi signal\n",
      "\t#cell masks that have some dapi: 1190\n"
     ]
    },
    {
     "name": "stderr",
     "output_type": "stream",
     "text": [
      "/var/folders/pp/cdyfs0g13j3_15mc99_0nfmh0000gn/T/ipykernel_11254/2403115704.py:19: UserWarning: /Volumes/Flodrive/Florence/smFISH/analysis/20240927-LB/MG1655_LB_fixed2806_hybed1906_left_07/DIC_masks_with_dapi.tif is a low contrast image\n",
      "  io.imsave(Path(img['cellmaskfile']).parent / 'DIC_masks_with_dapi.tif', cell_masks_with_dapi)\n"
     ]
    }
   ],
   "execution_count": 166
  },
  {
   "metadata": {},
   "cell_type": "markdown",
   "source": "### Discard cells that are too small or large with low eccentricity (clumps)",
   "id": "46e014fdad08f9e5"
  },
  {
   "metadata": {
    "ExecuteTime": {
     "end_time": "2024-11-14T14:10:18.119491Z",
     "start_time": "2024-11-14T14:09:17.449320Z"
    }
   },
   "cell_type": "code",
   "source": [
    "rootdir = '/Volumes/Flodrive/Florence/smFISH/analysis'\n",
    "for f in Path(rootdir).glob('*/config-detection-processed.json'):\n",
    "    print(f\"Config file from: {f.parent}\")\n",
    "    print(f\"\\t{f}\")\n",
    "    with open(f, 'r') as fh:\n",
    "        config = json.load(fh)\n",
    "        for exp in config['experiments']:\n",
    "            for img in exp['images']:\n",
    "                if img[\"detect_spots\"] == True:\n",
    "                    print(f'Selected: {img[\"stem\"]}')\n",
    "                    \n",
    "                    imgdir = Path(config['outputdir']) / img['stem']\n",
    "                    masks = io.imread(Path(imgdir) / 'DIC_masks_with_dapi.tif')\n",
    "                    props = pd.DataFrame(regionprops_table(masks, properties=['label', 'bbox', 'area', 'eccentricity', 'centroid']))\n",
    "                    \n",
    "                    selected, discarded, nr_selected, nr_discarded, nr_before = filter_cells_by_area(masks, props, min_cell_area=200)\n",
    "                    io.imsave(Path(imgdir) / 'DIC_masks_discarded_by_area.tif', discarded)\n",
    "                    io.imsave(Path(imgdir) / 'DIC_masks_selected_by_area.tif', selected)\n",
    "                    print(f'{nr_before} - {nr_discarded} -> {nr_selected}')\n",
    "\n",
    "                    selected, discarded, nr_selected, nr_discarded, nr_before = filter_cells_by_shape(selected, props, min_clump_area=1000, max_clump_eccentricity=0.8)\n",
    "                    io.imsave(Path(imgdir) / 'DIC_masks_discarded_by_shape.tif', discarded)\n",
    "                    io.imsave(Path(imgdir) / 'DIC_masks_selected_by_shape.tif', selected)\n",
    "                    print(f'{nr_before} - {nr_discarded} -> {nr_selected}')\n",
    "             \n",
    "                "
   ],
   "id": "1e66f90ae167b24b",
   "outputs": [
    {
     "name": "stdout",
     "output_type": "stream",
     "text": [
      "Config file from: /Volumes/Flodrive/Florence/smFISH/analysis/20241029-exp24\n",
      "\t/Volumes/Flodrive/Florence/smFISH/analysis/20241029-exp24/config-detection-processed.json\n",
      "Selected: exp24-GLU-right-2_01\n"
     ]
    },
    {
     "name": "stderr",
     "output_type": "stream",
     "text": [
      "/var/folders/pp/cdyfs0g13j3_15mc99_0nfmh0000gn/T/ipykernel_11254/17513562.py:17: UserWarning: /Volumes/Flodrive/Florence/smFISH/analysis/20241029-exp24/exp24-GLU-right-2_01/DIC_masks_discarded_by_area.tif is a low contrast image\n",
      "  io.imsave(Path(imgdir) / 'DIC_masks_discarded_by_area.tif', discarded)\n",
      "/var/folders/pp/cdyfs0g13j3_15mc99_0nfmh0000gn/T/ipykernel_11254/17513562.py:18: UserWarning: /Volumes/Flodrive/Florence/smFISH/analysis/20241029-exp24/exp24-GLU-right-2_01/DIC_masks_selected_by_area.tif is a low contrast image\n",
      "  io.imsave(Path(imgdir) / 'DIC_masks_selected_by_area.tif', selected)\n"
     ]
    },
    {
     "name": "stdout",
     "output_type": "stream",
     "text": [
      "1270 - 47 -> 1224\n"
     ]
    },
    {
     "name": "stderr",
     "output_type": "stream",
     "text": [
      "/var/folders/pp/cdyfs0g13j3_15mc99_0nfmh0000gn/T/ipykernel_11254/17513562.py:22: UserWarning: /Volumes/Flodrive/Florence/smFISH/analysis/20241029-exp24/exp24-GLU-right-2_01/DIC_masks_discarded_by_shape.tif is a low contrast image\n",
      "  io.imsave(Path(imgdir) / 'DIC_masks_discarded_by_shape.tif', discarded)\n",
      "/var/folders/pp/cdyfs0g13j3_15mc99_0nfmh0000gn/T/ipykernel_11254/17513562.py:23: UserWarning: /Volumes/Flodrive/Florence/smFISH/analysis/20241029-exp24/exp24-GLU-right-2_01/DIC_masks_selected_by_shape.tif is a low contrast image\n",
      "  io.imsave(Path(imgdir) / 'DIC_masks_selected_by_shape.tif', selected)\n"
     ]
    },
    {
     "name": "stdout",
     "output_type": "stream",
     "text": [
      "1224 - 6 -> 1219\n",
      "Selected: exp24-GLU-right-2_03\n"
     ]
    },
    {
     "name": "stderr",
     "output_type": "stream",
     "text": [
      "/var/folders/pp/cdyfs0g13j3_15mc99_0nfmh0000gn/T/ipykernel_11254/17513562.py:17: UserWarning: /Volumes/Flodrive/Florence/smFISH/analysis/20241029-exp24/exp24-GLU-right-2_03/DIC_masks_discarded_by_area.tif is a low contrast image\n",
      "  io.imsave(Path(imgdir) / 'DIC_masks_discarded_by_area.tif', discarded)\n",
      "/var/folders/pp/cdyfs0g13j3_15mc99_0nfmh0000gn/T/ipykernel_11254/17513562.py:18: UserWarning: /Volumes/Flodrive/Florence/smFISH/analysis/20241029-exp24/exp24-GLU-right-2_03/DIC_masks_selected_by_area.tif is a low contrast image\n",
      "  io.imsave(Path(imgdir) / 'DIC_masks_selected_by_area.tif', selected)\n"
     ]
    },
    {
     "name": "stdout",
     "output_type": "stream",
     "text": [
      "870 - 18 -> 853\n"
     ]
    },
    {
     "name": "stderr",
     "output_type": "stream",
     "text": [
      "/var/folders/pp/cdyfs0g13j3_15mc99_0nfmh0000gn/T/ipykernel_11254/17513562.py:22: UserWarning: /Volumes/Flodrive/Florence/smFISH/analysis/20241029-exp24/exp24-GLU-right-2_03/DIC_masks_discarded_by_shape.tif is a low contrast image\n",
      "  io.imsave(Path(imgdir) / 'DIC_masks_discarded_by_shape.tif', discarded)\n",
      "/var/folders/pp/cdyfs0g13j3_15mc99_0nfmh0000gn/T/ipykernel_11254/17513562.py:23: UserWarning: /Volumes/Flodrive/Florence/smFISH/analysis/20241029-exp24/exp24-GLU-right-2_03/DIC_masks_selected_by_shape.tif is a low contrast image\n",
      "  io.imsave(Path(imgdir) / 'DIC_masks_selected_by_shape.tif', selected)\n"
     ]
    },
    {
     "name": "stdout",
     "output_type": "stream",
     "text": [
      "853 - 3 -> 851\n",
      "Selected: exp24-GLU-right-2_05\n"
     ]
    },
    {
     "name": "stderr",
     "output_type": "stream",
     "text": [
      "/var/folders/pp/cdyfs0g13j3_15mc99_0nfmh0000gn/T/ipykernel_11254/17513562.py:17: UserWarning: /Volumes/Flodrive/Florence/smFISH/analysis/20241029-exp24/exp24-GLU-right-2_05/DIC_masks_discarded_by_area.tif is a low contrast image\n",
      "  io.imsave(Path(imgdir) / 'DIC_masks_discarded_by_area.tif', discarded)\n",
      "/var/folders/pp/cdyfs0g13j3_15mc99_0nfmh0000gn/T/ipykernel_11254/17513562.py:18: UserWarning: /Volumes/Flodrive/Florence/smFISH/analysis/20241029-exp24/exp24-GLU-right-2_05/DIC_masks_selected_by_area.tif is a low contrast image\n",
      "  io.imsave(Path(imgdir) / 'DIC_masks_selected_by_area.tif', selected)\n"
     ]
    },
    {
     "name": "stdout",
     "output_type": "stream",
     "text": [
      "742 - 23 -> 720\n"
     ]
    },
    {
     "name": "stderr",
     "output_type": "stream",
     "text": [
      "/var/folders/pp/cdyfs0g13j3_15mc99_0nfmh0000gn/T/ipykernel_11254/17513562.py:22: UserWarning: /Volumes/Flodrive/Florence/smFISH/analysis/20241029-exp24/exp24-GLU-right-2_05/DIC_masks_discarded_by_shape.tif is a low contrast image\n",
      "  io.imsave(Path(imgdir) / 'DIC_masks_discarded_by_shape.tif', discarded)\n",
      "/var/folders/pp/cdyfs0g13j3_15mc99_0nfmh0000gn/T/ipykernel_11254/17513562.py:23: UserWarning: /Volumes/Flodrive/Florence/smFISH/analysis/20241029-exp24/exp24-GLU-right-2_05/DIC_masks_selected_by_shape.tif is a low contrast image\n",
      "  io.imsave(Path(imgdir) / 'DIC_masks_selected_by_shape.tif', selected)\n"
     ]
    },
    {
     "name": "stdout",
     "output_type": "stream",
     "text": [
      "720 - 5 -> 716\n",
      "Selected: exp24-GLY-left_02\n"
     ]
    },
    {
     "name": "stderr",
     "output_type": "stream",
     "text": [
      "/var/folders/pp/cdyfs0g13j3_15mc99_0nfmh0000gn/T/ipykernel_11254/17513562.py:17: UserWarning: /Volumes/Flodrive/Florence/smFISH/analysis/20241029-exp24/exp24-GLY-left_02/DIC_masks_discarded_by_area.tif is a low contrast image\n",
      "  io.imsave(Path(imgdir) / 'DIC_masks_discarded_by_area.tif', discarded)\n",
      "/var/folders/pp/cdyfs0g13j3_15mc99_0nfmh0000gn/T/ipykernel_11254/17513562.py:18: UserWarning: /Volumes/Flodrive/Florence/smFISH/analysis/20241029-exp24/exp24-GLY-left_02/DIC_masks_selected_by_area.tif is a low contrast image\n",
      "  io.imsave(Path(imgdir) / 'DIC_masks_selected_by_area.tif', selected)\n"
     ]
    },
    {
     "name": "stdout",
     "output_type": "stream",
     "text": [
      "587 - 65 -> 523\n"
     ]
    },
    {
     "name": "stderr",
     "output_type": "stream",
     "text": [
      "/var/folders/pp/cdyfs0g13j3_15mc99_0nfmh0000gn/T/ipykernel_11254/17513562.py:22: UserWarning: /Volumes/Flodrive/Florence/smFISH/analysis/20241029-exp24/exp24-GLY-left_02/DIC_masks_discarded_by_shape.tif is a low contrast image\n",
      "  io.imsave(Path(imgdir) / 'DIC_masks_discarded_by_shape.tif', discarded)\n",
      "/var/folders/pp/cdyfs0g13j3_15mc99_0nfmh0000gn/T/ipykernel_11254/17513562.py:23: UserWarning: /Volumes/Flodrive/Florence/smFISH/analysis/20241029-exp24/exp24-GLY-left_02/DIC_masks_selected_by_shape.tif is a low contrast image\n",
      "  io.imsave(Path(imgdir) / 'DIC_masks_selected_by_shape.tif', selected)\n"
     ]
    },
    {
     "name": "stdout",
     "output_type": "stream",
     "text": [
      "523 - 3 -> 521\n",
      "Selected: exp24-GLY-left_03\n"
     ]
    },
    {
     "name": "stderr",
     "output_type": "stream",
     "text": [
      "/var/folders/pp/cdyfs0g13j3_15mc99_0nfmh0000gn/T/ipykernel_11254/17513562.py:17: UserWarning: /Volumes/Flodrive/Florence/smFISH/analysis/20241029-exp24/exp24-GLY-left_03/DIC_masks_discarded_by_area.tif is a low contrast image\n",
      "  io.imsave(Path(imgdir) / 'DIC_masks_discarded_by_area.tif', discarded)\n",
      "/var/folders/pp/cdyfs0g13j3_15mc99_0nfmh0000gn/T/ipykernel_11254/17513562.py:18: UserWarning: /Volumes/Flodrive/Florence/smFISH/analysis/20241029-exp24/exp24-GLY-left_03/DIC_masks_selected_by_area.tif is a low contrast image\n",
      "  io.imsave(Path(imgdir) / 'DIC_masks_selected_by_area.tif', selected)\n"
     ]
    },
    {
     "name": "stdout",
     "output_type": "stream",
     "text": [
      "1011 - 129 -> 883\n"
     ]
    },
    {
     "name": "stderr",
     "output_type": "stream",
     "text": [
      "/var/folders/pp/cdyfs0g13j3_15mc99_0nfmh0000gn/T/ipykernel_11254/17513562.py:22: UserWarning: /Volumes/Flodrive/Florence/smFISH/analysis/20241029-exp24/exp24-GLY-left_03/DIC_masks_discarded_by_shape.tif is a low contrast image\n",
      "  io.imsave(Path(imgdir) / 'DIC_masks_discarded_by_shape.tif', discarded)\n",
      "/var/folders/pp/cdyfs0g13j3_15mc99_0nfmh0000gn/T/ipykernel_11254/17513562.py:23: UserWarning: /Volumes/Flodrive/Florence/smFISH/analysis/20241029-exp24/exp24-GLY-left_03/DIC_masks_selected_by_shape.tif is a low contrast image\n",
      "  io.imsave(Path(imgdir) / 'DIC_masks_selected_by_shape.tif', selected)\n"
     ]
    },
    {
     "name": "stdout",
     "output_type": "stream",
     "text": [
      "883 - 7 -> 877\n",
      "Selected: exp24-GLY-left_06\n"
     ]
    },
    {
     "name": "stderr",
     "output_type": "stream",
     "text": [
      "/var/folders/pp/cdyfs0g13j3_15mc99_0nfmh0000gn/T/ipykernel_11254/17513562.py:17: UserWarning: /Volumes/Flodrive/Florence/smFISH/analysis/20241029-exp24/exp24-GLY-left_06/DIC_masks_discarded_by_area.tif is a low contrast image\n",
      "  io.imsave(Path(imgdir) / 'DIC_masks_discarded_by_area.tif', discarded)\n",
      "/var/folders/pp/cdyfs0g13j3_15mc99_0nfmh0000gn/T/ipykernel_11254/17513562.py:18: UserWarning: /Volumes/Flodrive/Florence/smFISH/analysis/20241029-exp24/exp24-GLY-left_06/DIC_masks_selected_by_area.tif is a low contrast image\n",
      "  io.imsave(Path(imgdir) / 'DIC_masks_selected_by_area.tif', selected)\n"
     ]
    },
    {
     "name": "stdout",
     "output_type": "stream",
     "text": [
      "656 - 48 -> 609\n"
     ]
    },
    {
     "name": "stderr",
     "output_type": "stream",
     "text": [
      "/var/folders/pp/cdyfs0g13j3_15mc99_0nfmh0000gn/T/ipykernel_11254/17513562.py:22: UserWarning: /Volumes/Flodrive/Florence/smFISH/analysis/20241029-exp24/exp24-GLY-left_06/DIC_masks_discarded_by_shape.tif is a low contrast image\n",
      "  io.imsave(Path(imgdir) / 'DIC_masks_discarded_by_shape.tif', discarded)\n",
      "/var/folders/pp/cdyfs0g13j3_15mc99_0nfmh0000gn/T/ipykernel_11254/17513562.py:23: UserWarning: /Volumes/Flodrive/Florence/smFISH/analysis/20241029-exp24/exp24-GLY-left_06/DIC_masks_selected_by_shape.tif is a low contrast image\n",
      "  io.imsave(Path(imgdir) / 'DIC_masks_selected_by_shape.tif', selected)\n"
     ]
    },
    {
     "name": "stdout",
     "output_type": "stream",
     "text": [
      "609 - 5 -> 605\n",
      "Selected: exp24-GLY-left_10\n"
     ]
    },
    {
     "name": "stderr",
     "output_type": "stream",
     "text": [
      "/var/folders/pp/cdyfs0g13j3_15mc99_0nfmh0000gn/T/ipykernel_11254/17513562.py:17: UserWarning: /Volumes/Flodrive/Florence/smFISH/analysis/20241029-exp24/exp24-GLY-left_10/DIC_masks_discarded_by_area.tif is a low contrast image\n",
      "  io.imsave(Path(imgdir) / 'DIC_masks_discarded_by_area.tif', discarded)\n",
      "/var/folders/pp/cdyfs0g13j3_15mc99_0nfmh0000gn/T/ipykernel_11254/17513562.py:18: UserWarning: /Volumes/Flodrive/Florence/smFISH/analysis/20241029-exp24/exp24-GLY-left_10/DIC_masks_selected_by_area.tif is a low contrast image\n",
      "  io.imsave(Path(imgdir) / 'DIC_masks_selected_by_area.tif', selected)\n"
     ]
    },
    {
     "name": "stdout",
     "output_type": "stream",
     "text": [
      "1019 - 43 -> 977\n"
     ]
    },
    {
     "name": "stderr",
     "output_type": "stream",
     "text": [
      "/var/folders/pp/cdyfs0g13j3_15mc99_0nfmh0000gn/T/ipykernel_11254/17513562.py:22: UserWarning: /Volumes/Flodrive/Florence/smFISH/analysis/20241029-exp24/exp24-GLY-left_10/DIC_masks_discarded_by_shape.tif is a low contrast image\n",
      "  io.imsave(Path(imgdir) / 'DIC_masks_discarded_by_shape.tif', discarded)\n",
      "/var/folders/pp/cdyfs0g13j3_15mc99_0nfmh0000gn/T/ipykernel_11254/17513562.py:23: UserWarning: /Volumes/Flodrive/Florence/smFISH/analysis/20241029-exp24/exp24-GLY-left_10/DIC_masks_selected_by_shape.tif is a low contrast image\n",
      "  io.imsave(Path(imgdir) / 'DIC_masks_selected_by_shape.tif', selected)\n"
     ]
    },
    {
     "name": "stdout",
     "output_type": "stream",
     "text": [
      "977 - 4 -> 974\n",
      "Config file from: /Volumes/Flodrive/Florence/smFISH/analysis/20241029-exp22\n",
      "\t/Volumes/Flodrive/Florence/smFISH/analysis/20241029-exp22/config-detection-processed.json\n",
      "Selected: exp22-GLU_01\n"
     ]
    },
    {
     "name": "stderr",
     "output_type": "stream",
     "text": [
      "/var/folders/pp/cdyfs0g13j3_15mc99_0nfmh0000gn/T/ipykernel_11254/17513562.py:17: UserWarning: /Volumes/Flodrive/Florence/smFISH/analysis/20241029-exp22/exp22-GLU_01/DIC_masks_discarded_by_area.tif is a low contrast image\n",
      "  io.imsave(Path(imgdir) / 'DIC_masks_discarded_by_area.tif', discarded)\n"
     ]
    },
    {
     "name": "stdout",
     "output_type": "stream",
     "text": [
      "155 - 6 -> 150\n"
     ]
    },
    {
     "name": "stderr",
     "output_type": "stream",
     "text": [
      "/var/folders/pp/cdyfs0g13j3_15mc99_0nfmh0000gn/T/ipykernel_11254/17513562.py:22: UserWarning: /Volumes/Flodrive/Florence/smFISH/analysis/20241029-exp22/exp22-GLU_01/DIC_masks_discarded_by_shape.tif is a low contrast image\n",
      "  io.imsave(Path(imgdir) / 'DIC_masks_discarded_by_shape.tif', discarded)\n"
     ]
    },
    {
     "name": "stdout",
     "output_type": "stream",
     "text": [
      "150 - 2 -> 149\n",
      "Selected: exp22-GLU_02\n"
     ]
    },
    {
     "name": "stderr",
     "output_type": "stream",
     "text": [
      "/var/folders/pp/cdyfs0g13j3_15mc99_0nfmh0000gn/T/ipykernel_11254/17513562.py:17: UserWarning: /Volumes/Flodrive/Florence/smFISH/analysis/20241029-exp22/exp22-GLU_02/DIC_masks_discarded_by_area.tif is a low contrast image\n",
      "  io.imsave(Path(imgdir) / 'DIC_masks_discarded_by_area.tif', discarded)\n"
     ]
    },
    {
     "name": "stdout",
     "output_type": "stream",
     "text": [
      "107 - 4 -> 104\n"
     ]
    },
    {
     "name": "stderr",
     "output_type": "stream",
     "text": [
      "/var/folders/pp/cdyfs0g13j3_15mc99_0nfmh0000gn/T/ipykernel_11254/17513562.py:22: UserWarning: /Volumes/Flodrive/Florence/smFISH/analysis/20241029-exp22/exp22-GLU_02/DIC_masks_discarded_by_shape.tif is a low contrast image\n",
      "  io.imsave(Path(imgdir) / 'DIC_masks_discarded_by_shape.tif', discarded)\n"
     ]
    },
    {
     "name": "stdout",
     "output_type": "stream",
     "text": [
      "104 - 1 -> 104\n",
      "Selected: exp22-GLU_04\n"
     ]
    },
    {
     "name": "stderr",
     "output_type": "stream",
     "text": [
      "/var/folders/pp/cdyfs0g13j3_15mc99_0nfmh0000gn/T/ipykernel_11254/17513562.py:17: UserWarning: /Volumes/Flodrive/Florence/smFISH/analysis/20241029-exp22/exp22-GLU_04/DIC_masks_discarded_by_area.tif is a low contrast image\n",
      "  io.imsave(Path(imgdir) / 'DIC_masks_discarded_by_area.tif', discarded)\n"
     ]
    },
    {
     "name": "stdout",
     "output_type": "stream",
     "text": [
      "159 - 8 -> 152\n"
     ]
    },
    {
     "name": "stderr",
     "output_type": "stream",
     "text": [
      "/var/folders/pp/cdyfs0g13j3_15mc99_0nfmh0000gn/T/ipykernel_11254/17513562.py:22: UserWarning: /Volumes/Flodrive/Florence/smFISH/analysis/20241029-exp22/exp22-GLU_04/DIC_masks_discarded_by_shape.tif is a low contrast image\n",
      "  io.imsave(Path(imgdir) / 'DIC_masks_discarded_by_shape.tif', discarded)\n"
     ]
    },
    {
     "name": "stdout",
     "output_type": "stream",
     "text": [
      "152 - 2 -> 151\n",
      "Selected: exp22-GLU_05\n"
     ]
    },
    {
     "name": "stderr",
     "output_type": "stream",
     "text": [
      "/var/folders/pp/cdyfs0g13j3_15mc99_0nfmh0000gn/T/ipykernel_11254/17513562.py:17: UserWarning: /Volumes/Flodrive/Florence/smFISH/analysis/20241029-exp22/exp22-GLU_05/DIC_masks_discarded_by_area.tif is a low contrast image\n",
      "  io.imsave(Path(imgdir) / 'DIC_masks_discarded_by_area.tif', discarded)\n"
     ]
    },
    {
     "name": "stdout",
     "output_type": "stream",
     "text": [
      "137 - 4 -> 134\n"
     ]
    },
    {
     "name": "stderr",
     "output_type": "stream",
     "text": [
      "/var/folders/pp/cdyfs0g13j3_15mc99_0nfmh0000gn/T/ipykernel_11254/17513562.py:22: UserWarning: /Volumes/Flodrive/Florence/smFISH/analysis/20241029-exp22/exp22-GLU_05/DIC_masks_discarded_by_shape.tif is a low contrast image\n",
      "  io.imsave(Path(imgdir) / 'DIC_masks_discarded_by_shape.tif', discarded)\n"
     ]
    },
    {
     "name": "stdout",
     "output_type": "stream",
     "text": [
      "134 - 3 -> 132\n",
      "Selected: exp22-GLU_06\n"
     ]
    },
    {
     "name": "stderr",
     "output_type": "stream",
     "text": [
      "/var/folders/pp/cdyfs0g13j3_15mc99_0nfmh0000gn/T/ipykernel_11254/17513562.py:17: UserWarning: /Volumes/Flodrive/Florence/smFISH/analysis/20241029-exp22/exp22-GLU_06/DIC_masks_discarded_by_area.tif is a low contrast image\n",
      "  io.imsave(Path(imgdir) / 'DIC_masks_discarded_by_area.tif', discarded)\n",
      "/var/folders/pp/cdyfs0g13j3_15mc99_0nfmh0000gn/T/ipykernel_11254/17513562.py:18: UserWarning: /Volumes/Flodrive/Florence/smFISH/analysis/20241029-exp22/exp22-GLU_06/DIC_masks_selected_by_area.tif is a low contrast image\n",
      "  io.imsave(Path(imgdir) / 'DIC_masks_selected_by_area.tif', selected)\n"
     ]
    },
    {
     "name": "stdout",
     "output_type": "stream",
     "text": [
      "185 - 5 -> 181\n"
     ]
    },
    {
     "name": "stderr",
     "output_type": "stream",
     "text": [
      "/var/folders/pp/cdyfs0g13j3_15mc99_0nfmh0000gn/T/ipykernel_11254/17513562.py:22: UserWarning: /Volumes/Flodrive/Florence/smFISH/analysis/20241029-exp22/exp22-GLU_06/DIC_masks_discarded_by_shape.tif is a low contrast image\n",
      "  io.imsave(Path(imgdir) / 'DIC_masks_discarded_by_shape.tif', discarded)\n",
      "/var/folders/pp/cdyfs0g13j3_15mc99_0nfmh0000gn/T/ipykernel_11254/17513562.py:23: UserWarning: /Volumes/Flodrive/Florence/smFISH/analysis/20241029-exp22/exp22-GLU_06/DIC_masks_selected_by_shape.tif is a low contrast image\n",
      "  io.imsave(Path(imgdir) / 'DIC_masks_selected_by_shape.tif', selected)\n"
     ]
    },
    {
     "name": "stdout",
     "output_type": "stream",
     "text": [
      "181 - 2 -> 180\n",
      "Selected: exp22-GLU_07\n"
     ]
    },
    {
     "name": "stderr",
     "output_type": "stream",
     "text": [
      "/var/folders/pp/cdyfs0g13j3_15mc99_0nfmh0000gn/T/ipykernel_11254/17513562.py:17: UserWarning: /Volumes/Flodrive/Florence/smFISH/analysis/20241029-exp22/exp22-GLU_07/DIC_masks_discarded_by_area.tif is a low contrast image\n",
      "  io.imsave(Path(imgdir) / 'DIC_masks_discarded_by_area.tif', discarded)\n"
     ]
    },
    {
     "name": "stdout",
     "output_type": "stream",
     "text": [
      "143 - 2 -> 142\n"
     ]
    },
    {
     "name": "stderr",
     "output_type": "stream",
     "text": [
      "/var/folders/pp/cdyfs0g13j3_15mc99_0nfmh0000gn/T/ipykernel_11254/17513562.py:22: UserWarning: /Volumes/Flodrive/Florence/smFISH/analysis/20241029-exp22/exp22-GLU_07/DIC_masks_discarded_by_shape.tif is a low contrast image\n",
      "  io.imsave(Path(imgdir) / 'DIC_masks_discarded_by_shape.tif', discarded)\n"
     ]
    },
    {
     "name": "stdout",
     "output_type": "stream",
     "text": [
      "142 - 4 -> 139\n",
      "Selected: exp22-GLU_08\n"
     ]
    },
    {
     "name": "stderr",
     "output_type": "stream",
     "text": [
      "/var/folders/pp/cdyfs0g13j3_15mc99_0nfmh0000gn/T/ipykernel_11254/17513562.py:17: UserWarning: /Volumes/Flodrive/Florence/smFISH/analysis/20241029-exp22/exp22-GLU_08/DIC_masks_discarded_by_area.tif is a low contrast image\n",
      "  io.imsave(Path(imgdir) / 'DIC_masks_discarded_by_area.tif', discarded)\n",
      "/var/folders/pp/cdyfs0g13j3_15mc99_0nfmh0000gn/T/ipykernel_11254/17513562.py:18: UserWarning: /Volumes/Flodrive/Florence/smFISH/analysis/20241029-exp22/exp22-GLU_08/DIC_masks_selected_by_area.tif is a low contrast image\n",
      "  io.imsave(Path(imgdir) / 'DIC_masks_selected_by_area.tif', selected)\n"
     ]
    },
    {
     "name": "stdout",
     "output_type": "stream",
     "text": [
      "219 - 5 -> 215\n"
     ]
    },
    {
     "name": "stderr",
     "output_type": "stream",
     "text": [
      "/var/folders/pp/cdyfs0g13j3_15mc99_0nfmh0000gn/T/ipykernel_11254/17513562.py:22: UserWarning: /Volumes/Flodrive/Florence/smFISH/analysis/20241029-exp22/exp22-GLU_08/DIC_masks_discarded_by_shape.tif is a low contrast image\n",
      "  io.imsave(Path(imgdir) / 'DIC_masks_discarded_by_shape.tif', discarded)\n",
      "/var/folders/pp/cdyfs0g13j3_15mc99_0nfmh0000gn/T/ipykernel_11254/17513562.py:23: UserWarning: /Volumes/Flodrive/Florence/smFISH/analysis/20241029-exp22/exp22-GLU_08/DIC_masks_selected_by_shape.tif is a low contrast image\n",
      "  io.imsave(Path(imgdir) / 'DIC_masks_selected_by_shape.tif', selected)\n"
     ]
    },
    {
     "name": "stdout",
     "output_type": "stream",
     "text": [
      "215 - 2 -> 214\n",
      "Selected: exp22-GLU_09\n"
     ]
    },
    {
     "name": "stderr",
     "output_type": "stream",
     "text": [
      "/var/folders/pp/cdyfs0g13j3_15mc99_0nfmh0000gn/T/ipykernel_11254/17513562.py:17: UserWarning: /Volumes/Flodrive/Florence/smFISH/analysis/20241029-exp22/exp22-GLU_09/DIC_masks_discarded_by_area.tif is a low contrast image\n",
      "  io.imsave(Path(imgdir) / 'DIC_masks_discarded_by_area.tif', discarded)\n",
      "/var/folders/pp/cdyfs0g13j3_15mc99_0nfmh0000gn/T/ipykernel_11254/17513562.py:18: UserWarning: /Volumes/Flodrive/Florence/smFISH/analysis/20241029-exp22/exp22-GLU_09/DIC_masks_selected_by_area.tif is a low contrast image\n",
      "  io.imsave(Path(imgdir) / 'DIC_masks_selected_by_area.tif', selected)\n"
     ]
    },
    {
     "name": "stdout",
     "output_type": "stream",
     "text": [
      "426 - 6 -> 421\n"
     ]
    },
    {
     "name": "stderr",
     "output_type": "stream",
     "text": [
      "/var/folders/pp/cdyfs0g13j3_15mc99_0nfmh0000gn/T/ipykernel_11254/17513562.py:22: UserWarning: /Volumes/Flodrive/Florence/smFISH/analysis/20241029-exp22/exp22-GLU_09/DIC_masks_discarded_by_shape.tif is a low contrast image\n",
      "  io.imsave(Path(imgdir) / 'DIC_masks_discarded_by_shape.tif', discarded)\n",
      "/var/folders/pp/cdyfs0g13j3_15mc99_0nfmh0000gn/T/ipykernel_11254/17513562.py:23: UserWarning: /Volumes/Flodrive/Florence/smFISH/analysis/20241029-exp22/exp22-GLU_09/DIC_masks_selected_by_shape.tif is a low contrast image\n",
      "  io.imsave(Path(imgdir) / 'DIC_masks_selected_by_shape.tif', selected)\n"
     ]
    },
    {
     "name": "stdout",
     "output_type": "stream",
     "text": [
      "421 - 5 -> 417\n",
      "Selected: exp22-GLU_10\n"
     ]
    },
    {
     "name": "stderr",
     "output_type": "stream",
     "text": [
      "/var/folders/pp/cdyfs0g13j3_15mc99_0nfmh0000gn/T/ipykernel_11254/17513562.py:17: UserWarning: /Volumes/Flodrive/Florence/smFISH/analysis/20241029-exp22/exp22-GLU_10/DIC_masks_discarded_by_area.tif is a low contrast image\n",
      "  io.imsave(Path(imgdir) / 'DIC_masks_discarded_by_area.tif', discarded)\n",
      "/var/folders/pp/cdyfs0g13j3_15mc99_0nfmh0000gn/T/ipykernel_11254/17513562.py:18: UserWarning: /Volumes/Flodrive/Florence/smFISH/analysis/20241029-exp22/exp22-GLU_10/DIC_masks_selected_by_area.tif is a low contrast image\n",
      "  io.imsave(Path(imgdir) / 'DIC_masks_selected_by_area.tif', selected)\n"
     ]
    },
    {
     "name": "stdout",
     "output_type": "stream",
     "text": [
      "196 - 5 -> 192\n"
     ]
    },
    {
     "name": "stderr",
     "output_type": "stream",
     "text": [
      "/var/folders/pp/cdyfs0g13j3_15mc99_0nfmh0000gn/T/ipykernel_11254/17513562.py:22: UserWarning: /Volumes/Flodrive/Florence/smFISH/analysis/20241029-exp22/exp22-GLU_10/DIC_masks_discarded_by_shape.tif is a low contrast image\n",
      "  io.imsave(Path(imgdir) / 'DIC_masks_discarded_by_shape.tif', discarded)\n",
      "/var/folders/pp/cdyfs0g13j3_15mc99_0nfmh0000gn/T/ipykernel_11254/17513562.py:23: UserWarning: /Volumes/Flodrive/Florence/smFISH/analysis/20241029-exp22/exp22-GLU_10/DIC_masks_selected_by_shape.tif is a low contrast image\n",
      "  io.imsave(Path(imgdir) / 'DIC_masks_selected_by_shape.tif', selected)\n"
     ]
    },
    {
     "name": "stdout",
     "output_type": "stream",
     "text": [
      "192 - 1 -> 192\n",
      "Selected: exp22-GLY_09\n"
     ]
    },
    {
     "name": "stderr",
     "output_type": "stream",
     "text": [
      "/var/folders/pp/cdyfs0g13j3_15mc99_0nfmh0000gn/T/ipykernel_11254/17513562.py:17: UserWarning: /Volumes/Flodrive/Florence/smFISH/analysis/20241029-exp22/exp22-GLY_09/DIC_masks_discarded_by_area.tif is a low contrast image\n",
      "  io.imsave(Path(imgdir) / 'DIC_masks_discarded_by_area.tif', discarded)\n",
      "/var/folders/pp/cdyfs0g13j3_15mc99_0nfmh0000gn/T/ipykernel_11254/17513562.py:18: UserWarning: /Volumes/Flodrive/Florence/smFISH/analysis/20241029-exp22/exp22-GLY_09/DIC_masks_selected_by_area.tif is a low contrast image\n",
      "  io.imsave(Path(imgdir) / 'DIC_masks_selected_by_area.tif', selected)\n"
     ]
    },
    {
     "name": "stdout",
     "output_type": "stream",
     "text": [
      "2412 - 49 -> 2364\n"
     ]
    },
    {
     "name": "stderr",
     "output_type": "stream",
     "text": [
      "/var/folders/pp/cdyfs0g13j3_15mc99_0nfmh0000gn/T/ipykernel_11254/17513562.py:22: UserWarning: /Volumes/Flodrive/Florence/smFISH/analysis/20241029-exp22/exp22-GLY_09/DIC_masks_discarded_by_shape.tif is a low contrast image\n",
      "  io.imsave(Path(imgdir) / 'DIC_masks_discarded_by_shape.tif', discarded)\n",
      "/var/folders/pp/cdyfs0g13j3_15mc99_0nfmh0000gn/T/ipykernel_11254/17513562.py:23: UserWarning: /Volumes/Flodrive/Florence/smFISH/analysis/20241029-exp22/exp22-GLY_09/DIC_masks_selected_by_shape.tif is a low contrast image\n",
      "  io.imsave(Path(imgdir) / 'DIC_masks_selected_by_shape.tif', selected)\n"
     ]
    },
    {
     "name": "stdout",
     "output_type": "stream",
     "text": [
      "2364 - 19 -> 2346\n",
      "Selected: exp22-GLY_10\n"
     ]
    },
    {
     "name": "stderr",
     "output_type": "stream",
     "text": [
      "/var/folders/pp/cdyfs0g13j3_15mc99_0nfmh0000gn/T/ipykernel_11254/17513562.py:17: UserWarning: /Volumes/Flodrive/Florence/smFISH/analysis/20241029-exp22/exp22-GLY_10/DIC_masks_discarded_by_area.tif is a low contrast image\n",
      "  io.imsave(Path(imgdir) / 'DIC_masks_discarded_by_area.tif', discarded)\n",
      "/var/folders/pp/cdyfs0g13j3_15mc99_0nfmh0000gn/T/ipykernel_11254/17513562.py:18: UserWarning: /Volumes/Flodrive/Florence/smFISH/analysis/20241029-exp22/exp22-GLY_10/DIC_masks_selected_by_area.tif is a low contrast image\n",
      "  io.imsave(Path(imgdir) / 'DIC_masks_selected_by_area.tif', selected)\n"
     ]
    },
    {
     "name": "stdout",
     "output_type": "stream",
     "text": [
      "277 - 20 -> 258\n"
     ]
    },
    {
     "name": "stderr",
     "output_type": "stream",
     "text": [
      "/var/folders/pp/cdyfs0g13j3_15mc99_0nfmh0000gn/T/ipykernel_11254/17513562.py:22: UserWarning: /Volumes/Flodrive/Florence/smFISH/analysis/20241029-exp22/exp22-GLY_10/DIC_masks_discarded_by_shape.tif is a low contrast image\n",
      "  io.imsave(Path(imgdir) / 'DIC_masks_discarded_by_shape.tif', discarded)\n",
      "/var/folders/pp/cdyfs0g13j3_15mc99_0nfmh0000gn/T/ipykernel_11254/17513562.py:23: UserWarning: /Volumes/Flodrive/Florence/smFISH/analysis/20241029-exp22/exp22-GLY_10/DIC_masks_selected_by_shape.tif is a low contrast image\n",
      "  io.imsave(Path(imgdir) / 'DIC_masks_selected_by_shape.tif', selected)\n"
     ]
    },
    {
     "name": "stdout",
     "output_type": "stream",
     "text": [
      "258 - 1 -> 258\n",
      "Selected: exp22-GAL_03\n"
     ]
    },
    {
     "name": "stderr",
     "output_type": "stream",
     "text": [
      "/var/folders/pp/cdyfs0g13j3_15mc99_0nfmh0000gn/T/ipykernel_11254/17513562.py:17: UserWarning: /Volumes/Flodrive/Florence/smFISH/analysis/20241029-exp22/exp22-GAL_03/DIC_masks_discarded_by_area.tif is a low contrast image\n",
      "  io.imsave(Path(imgdir) / 'DIC_masks_discarded_by_area.tif', discarded)\n",
      "/var/folders/pp/cdyfs0g13j3_15mc99_0nfmh0000gn/T/ipykernel_11254/17513562.py:18: UserWarning: /Volumes/Flodrive/Florence/smFISH/analysis/20241029-exp22/exp22-GAL_03/DIC_masks_selected_by_area.tif is a low contrast image\n",
      "  io.imsave(Path(imgdir) / 'DIC_masks_selected_by_area.tif', selected)\n"
     ]
    },
    {
     "name": "stdout",
     "output_type": "stream",
     "text": [
      "1833 - 18 -> 1816\n"
     ]
    },
    {
     "name": "stderr",
     "output_type": "stream",
     "text": [
      "/var/folders/pp/cdyfs0g13j3_15mc99_0nfmh0000gn/T/ipykernel_11254/17513562.py:22: UserWarning: /Volumes/Flodrive/Florence/smFISH/analysis/20241029-exp22/exp22-GAL_03/DIC_masks_discarded_by_shape.tif is a low contrast image\n",
      "  io.imsave(Path(imgdir) / 'DIC_masks_discarded_by_shape.tif', discarded)\n",
      "/var/folders/pp/cdyfs0g13j3_15mc99_0nfmh0000gn/T/ipykernel_11254/17513562.py:23: UserWarning: /Volumes/Flodrive/Florence/smFISH/analysis/20241029-exp22/exp22-GAL_03/DIC_masks_selected_by_shape.tif is a low contrast image\n",
      "  io.imsave(Path(imgdir) / 'DIC_masks_selected_by_shape.tif', selected)\n"
     ]
    },
    {
     "name": "stdout",
     "output_type": "stream",
     "text": [
      "1816 - 9 -> 1808\n",
      "Selected: exp22-GAL_04\n"
     ]
    },
    {
     "name": "stderr",
     "output_type": "stream",
     "text": [
      "/var/folders/pp/cdyfs0g13j3_15mc99_0nfmh0000gn/T/ipykernel_11254/17513562.py:17: UserWarning: /Volumes/Flodrive/Florence/smFISH/analysis/20241029-exp22/exp22-GAL_04/DIC_masks_discarded_by_area.tif is a low contrast image\n",
      "  io.imsave(Path(imgdir) / 'DIC_masks_discarded_by_area.tif', discarded)\n",
      "/var/folders/pp/cdyfs0g13j3_15mc99_0nfmh0000gn/T/ipykernel_11254/17513562.py:18: UserWarning: /Volumes/Flodrive/Florence/smFISH/analysis/20241029-exp22/exp22-GAL_04/DIC_masks_selected_by_area.tif is a low contrast image\n",
      "  io.imsave(Path(imgdir) / 'DIC_masks_selected_by_area.tif', selected)\n"
     ]
    },
    {
     "name": "stdout",
     "output_type": "stream",
     "text": [
      "1131 - 13 -> 1119\n"
     ]
    },
    {
     "name": "stderr",
     "output_type": "stream",
     "text": [
      "/var/folders/pp/cdyfs0g13j3_15mc99_0nfmh0000gn/T/ipykernel_11254/17513562.py:22: UserWarning: /Volumes/Flodrive/Florence/smFISH/analysis/20241029-exp22/exp22-GAL_04/DIC_masks_discarded_by_shape.tif is a low contrast image\n",
      "  io.imsave(Path(imgdir) / 'DIC_masks_discarded_by_shape.tif', discarded)\n",
      "/var/folders/pp/cdyfs0g13j3_15mc99_0nfmh0000gn/T/ipykernel_11254/17513562.py:23: UserWarning: /Volumes/Flodrive/Florence/smFISH/analysis/20241029-exp22/exp22-GAL_04/DIC_masks_selected_by_shape.tif is a low contrast image\n",
      "  io.imsave(Path(imgdir) / 'DIC_masks_selected_by_shape.tif', selected)\n"
     ]
    },
    {
     "name": "stdout",
     "output_type": "stream",
     "text": [
      "1119 - 2 -> 1118\n",
      "Selected: exp22-GAL_07\n"
     ]
    },
    {
     "name": "stderr",
     "output_type": "stream",
     "text": [
      "/var/folders/pp/cdyfs0g13j3_15mc99_0nfmh0000gn/T/ipykernel_11254/17513562.py:17: UserWarning: /Volumes/Flodrive/Florence/smFISH/analysis/20241029-exp22/exp22-GAL_07/DIC_masks_discarded_by_area.tif is a low contrast image\n",
      "  io.imsave(Path(imgdir) / 'DIC_masks_discarded_by_area.tif', discarded)\n",
      "/var/folders/pp/cdyfs0g13j3_15mc99_0nfmh0000gn/T/ipykernel_11254/17513562.py:18: UserWarning: /Volumes/Flodrive/Florence/smFISH/analysis/20241029-exp22/exp22-GAL_07/DIC_masks_selected_by_area.tif is a low contrast image\n",
      "  io.imsave(Path(imgdir) / 'DIC_masks_selected_by_area.tif', selected)\n"
     ]
    },
    {
     "name": "stdout",
     "output_type": "stream",
     "text": [
      "952 - 51 -> 902\n"
     ]
    },
    {
     "name": "stderr",
     "output_type": "stream",
     "text": [
      "/var/folders/pp/cdyfs0g13j3_15mc99_0nfmh0000gn/T/ipykernel_11254/17513562.py:22: UserWarning: /Volumes/Flodrive/Florence/smFISH/analysis/20241029-exp22/exp22-GAL_07/DIC_masks_discarded_by_shape.tif is a low contrast image\n",
      "  io.imsave(Path(imgdir) / 'DIC_masks_discarded_by_shape.tif', discarded)\n",
      "/var/folders/pp/cdyfs0g13j3_15mc99_0nfmh0000gn/T/ipykernel_11254/17513562.py:23: UserWarning: /Volumes/Flodrive/Florence/smFISH/analysis/20241029-exp22/exp22-GAL_07/DIC_masks_selected_by_shape.tif is a low contrast image\n",
      "  io.imsave(Path(imgdir) / 'DIC_masks_selected_by_shape.tif', selected)\n"
     ]
    },
    {
     "name": "stdout",
     "output_type": "stream",
     "text": [
      "902 - 2 -> 901\n",
      "Selected: exp22-GAL_08\n"
     ]
    },
    {
     "name": "stderr",
     "output_type": "stream",
     "text": [
      "/var/folders/pp/cdyfs0g13j3_15mc99_0nfmh0000gn/T/ipykernel_11254/17513562.py:17: UserWarning: /Volumes/Flodrive/Florence/smFISH/analysis/20241029-exp22/exp22-GAL_08/DIC_masks_discarded_by_area.tif is a low contrast image\n",
      "  io.imsave(Path(imgdir) / 'DIC_masks_discarded_by_area.tif', discarded)\n",
      "/var/folders/pp/cdyfs0g13j3_15mc99_0nfmh0000gn/T/ipykernel_11254/17513562.py:18: UserWarning: /Volumes/Flodrive/Florence/smFISH/analysis/20241029-exp22/exp22-GAL_08/DIC_masks_selected_by_area.tif is a low contrast image\n",
      "  io.imsave(Path(imgdir) / 'DIC_masks_selected_by_area.tif', selected)\n"
     ]
    },
    {
     "name": "stdout",
     "output_type": "stream",
     "text": [
      "919 - 46 -> 874\n"
     ]
    },
    {
     "name": "stderr",
     "output_type": "stream",
     "text": [
      "/var/folders/pp/cdyfs0g13j3_15mc99_0nfmh0000gn/T/ipykernel_11254/17513562.py:22: UserWarning: /Volumes/Flodrive/Florence/smFISH/analysis/20241029-exp22/exp22-GAL_08/DIC_masks_discarded_by_shape.tif is a low contrast image\n",
      "  io.imsave(Path(imgdir) / 'DIC_masks_discarded_by_shape.tif', discarded)\n",
      "/var/folders/pp/cdyfs0g13j3_15mc99_0nfmh0000gn/T/ipykernel_11254/17513562.py:23: UserWarning: /Volumes/Flodrive/Florence/smFISH/analysis/20241029-exp22/exp22-GAL_08/DIC_masks_selected_by_shape.tif is a low contrast image\n",
      "  io.imsave(Path(imgdir) / 'DIC_masks_selected_by_shape.tif', selected)\n"
     ]
    },
    {
     "name": "stdout",
     "output_type": "stream",
     "text": [
      "874 - 2 -> 873\n",
      "Selected: exp22-MAN_01\n"
     ]
    },
    {
     "name": "stderr",
     "output_type": "stream",
     "text": [
      "/var/folders/pp/cdyfs0g13j3_15mc99_0nfmh0000gn/T/ipykernel_11254/17513562.py:17: UserWarning: /Volumes/Flodrive/Florence/smFISH/analysis/20241029-exp22/exp22-MAN_01/DIC_masks_discarded_by_area.tif is a low contrast image\n",
      "  io.imsave(Path(imgdir) / 'DIC_masks_discarded_by_area.tif', discarded)\n",
      "/var/folders/pp/cdyfs0g13j3_15mc99_0nfmh0000gn/T/ipykernel_11254/17513562.py:18: UserWarning: /Volumes/Flodrive/Florence/smFISH/analysis/20241029-exp22/exp22-MAN_01/DIC_masks_selected_by_area.tif is a low contrast image\n",
      "  io.imsave(Path(imgdir) / 'DIC_masks_selected_by_area.tif', selected)\n"
     ]
    },
    {
     "name": "stdout",
     "output_type": "stream",
     "text": [
      "782 - 46 -> 737\n"
     ]
    },
    {
     "name": "stderr",
     "output_type": "stream",
     "text": [
      "/var/folders/pp/cdyfs0g13j3_15mc99_0nfmh0000gn/T/ipykernel_11254/17513562.py:22: UserWarning: /Volumes/Flodrive/Florence/smFISH/analysis/20241029-exp22/exp22-MAN_01/DIC_masks_discarded_by_shape.tif is a low contrast image\n",
      "  io.imsave(Path(imgdir) / 'DIC_masks_discarded_by_shape.tif', discarded)\n",
      "/var/folders/pp/cdyfs0g13j3_15mc99_0nfmh0000gn/T/ipykernel_11254/17513562.py:23: UserWarning: /Volumes/Flodrive/Florence/smFISH/analysis/20241029-exp22/exp22-MAN_01/DIC_masks_selected_by_shape.tif is a low contrast image\n",
      "  io.imsave(Path(imgdir) / 'DIC_masks_selected_by_shape.tif', selected)\n"
     ]
    },
    {
     "name": "stdout",
     "output_type": "stream",
     "text": [
      "737 - 2 -> 736\n",
      "Selected: exp22-MAN_02\n"
     ]
    },
    {
     "name": "stderr",
     "output_type": "stream",
     "text": [
      "/var/folders/pp/cdyfs0g13j3_15mc99_0nfmh0000gn/T/ipykernel_11254/17513562.py:17: UserWarning: /Volumes/Flodrive/Florence/smFISH/analysis/20241029-exp22/exp22-MAN_02/DIC_masks_discarded_by_area.tif is a low contrast image\n",
      "  io.imsave(Path(imgdir) / 'DIC_masks_discarded_by_area.tif', discarded)\n",
      "/var/folders/pp/cdyfs0g13j3_15mc99_0nfmh0000gn/T/ipykernel_11254/17513562.py:18: UserWarning: /Volumes/Flodrive/Florence/smFISH/analysis/20241029-exp22/exp22-MAN_02/DIC_masks_selected_by_area.tif is a low contrast image\n",
      "  io.imsave(Path(imgdir) / 'DIC_masks_selected_by_area.tif', selected)\n"
     ]
    },
    {
     "name": "stdout",
     "output_type": "stream",
     "text": [
      "855 - 17 -> 839\n"
     ]
    },
    {
     "name": "stderr",
     "output_type": "stream",
     "text": [
      "/var/folders/pp/cdyfs0g13j3_15mc99_0nfmh0000gn/T/ipykernel_11254/17513562.py:22: UserWarning: /Volumes/Flodrive/Florence/smFISH/analysis/20241029-exp22/exp22-MAN_02/DIC_masks_discarded_by_shape.tif is a low contrast image\n",
      "  io.imsave(Path(imgdir) / 'DIC_masks_discarded_by_shape.tif', discarded)\n",
      "/var/folders/pp/cdyfs0g13j3_15mc99_0nfmh0000gn/T/ipykernel_11254/17513562.py:23: UserWarning: /Volumes/Flodrive/Florence/smFISH/analysis/20241029-exp22/exp22-MAN_02/DIC_masks_selected_by_shape.tif is a low contrast image\n",
      "  io.imsave(Path(imgdir) / 'DIC_masks_selected_by_shape.tif', selected)\n"
     ]
    },
    {
     "name": "stdout",
     "output_type": "stream",
     "text": [
      "839 - 3 -> 837\n",
      "Selected: exp22-MAN_03\n"
     ]
    },
    {
     "name": "stderr",
     "output_type": "stream",
     "text": [
      "/var/folders/pp/cdyfs0g13j3_15mc99_0nfmh0000gn/T/ipykernel_11254/17513562.py:17: UserWarning: /Volumes/Flodrive/Florence/smFISH/analysis/20241029-exp22/exp22-MAN_03/DIC_masks_discarded_by_area.tif is a low contrast image\n",
      "  io.imsave(Path(imgdir) / 'DIC_masks_discarded_by_area.tif', discarded)\n",
      "/var/folders/pp/cdyfs0g13j3_15mc99_0nfmh0000gn/T/ipykernel_11254/17513562.py:18: UserWarning: /Volumes/Flodrive/Florence/smFISH/analysis/20241029-exp22/exp22-MAN_03/DIC_masks_selected_by_area.tif is a low contrast image\n",
      "  io.imsave(Path(imgdir) / 'DIC_masks_selected_by_area.tif', selected)\n"
     ]
    },
    {
     "name": "stdout",
     "output_type": "stream",
     "text": [
      "1009 - 24 -> 986\n"
     ]
    },
    {
     "name": "stderr",
     "output_type": "stream",
     "text": [
      "/var/folders/pp/cdyfs0g13j3_15mc99_0nfmh0000gn/T/ipykernel_11254/17513562.py:22: UserWarning: /Volumes/Flodrive/Florence/smFISH/analysis/20241029-exp22/exp22-MAN_03/DIC_masks_discarded_by_shape.tif is a low contrast image\n",
      "  io.imsave(Path(imgdir) / 'DIC_masks_discarded_by_shape.tif', discarded)\n",
      "/var/folders/pp/cdyfs0g13j3_15mc99_0nfmh0000gn/T/ipykernel_11254/17513562.py:23: UserWarning: /Volumes/Flodrive/Florence/smFISH/analysis/20241029-exp22/exp22-MAN_03/DIC_masks_selected_by_shape.tif is a low contrast image\n",
      "  io.imsave(Path(imgdir) / 'DIC_masks_selected_by_shape.tif', selected)\n"
     ]
    },
    {
     "name": "stdout",
     "output_type": "stream",
     "text": [
      "986 - 5 -> 982\n",
      "Selected: exp22-MAN_05\n"
     ]
    },
    {
     "name": "stderr",
     "output_type": "stream",
     "text": [
      "/var/folders/pp/cdyfs0g13j3_15mc99_0nfmh0000gn/T/ipykernel_11254/17513562.py:17: UserWarning: /Volumes/Flodrive/Florence/smFISH/analysis/20241029-exp22/exp22-MAN_05/DIC_masks_discarded_by_area.tif is a low contrast image\n",
      "  io.imsave(Path(imgdir) / 'DIC_masks_discarded_by_area.tif', discarded)\n",
      "/var/folders/pp/cdyfs0g13j3_15mc99_0nfmh0000gn/T/ipykernel_11254/17513562.py:18: UserWarning: /Volumes/Flodrive/Florence/smFISH/analysis/20241029-exp22/exp22-MAN_05/DIC_masks_selected_by_area.tif is a low contrast image\n",
      "  io.imsave(Path(imgdir) / 'DIC_masks_selected_by_area.tif', selected)\n"
     ]
    },
    {
     "name": "stdout",
     "output_type": "stream",
     "text": [
      "753 - 92 -> 662\n"
     ]
    },
    {
     "name": "stderr",
     "output_type": "stream",
     "text": [
      "/var/folders/pp/cdyfs0g13j3_15mc99_0nfmh0000gn/T/ipykernel_11254/17513562.py:22: UserWarning: /Volumes/Flodrive/Florence/smFISH/analysis/20241029-exp22/exp22-MAN_05/DIC_masks_discarded_by_shape.tif is a low contrast image\n",
      "  io.imsave(Path(imgdir) / 'DIC_masks_discarded_by_shape.tif', discarded)\n",
      "/var/folders/pp/cdyfs0g13j3_15mc99_0nfmh0000gn/T/ipykernel_11254/17513562.py:23: UserWarning: /Volumes/Flodrive/Florence/smFISH/analysis/20241029-exp22/exp22-MAN_05/DIC_masks_selected_by_shape.tif is a low contrast image\n",
      "  io.imsave(Path(imgdir) / 'DIC_masks_selected_by_shape.tif', selected)\n"
     ]
    },
    {
     "name": "stdout",
     "output_type": "stream",
     "text": [
      "662 - 1 -> 662\n",
      "Selected: exp22-MAN_06\n"
     ]
    },
    {
     "name": "stderr",
     "output_type": "stream",
     "text": [
      "/var/folders/pp/cdyfs0g13j3_15mc99_0nfmh0000gn/T/ipykernel_11254/17513562.py:17: UserWarning: /Volumes/Flodrive/Florence/smFISH/analysis/20241029-exp22/exp22-MAN_06/DIC_masks_discarded_by_area.tif is a low contrast image\n",
      "  io.imsave(Path(imgdir) / 'DIC_masks_discarded_by_area.tif', discarded)\n",
      "/var/folders/pp/cdyfs0g13j3_15mc99_0nfmh0000gn/T/ipykernel_11254/17513562.py:18: UserWarning: /Volumes/Flodrive/Florence/smFISH/analysis/20241029-exp22/exp22-MAN_06/DIC_masks_selected_by_area.tif is a low contrast image\n",
      "  io.imsave(Path(imgdir) / 'DIC_masks_selected_by_area.tif', selected)\n"
     ]
    },
    {
     "name": "stdout",
     "output_type": "stream",
     "text": [
      "1164 - 48 -> 1117\n"
     ]
    },
    {
     "name": "stderr",
     "output_type": "stream",
     "text": [
      "/var/folders/pp/cdyfs0g13j3_15mc99_0nfmh0000gn/T/ipykernel_11254/17513562.py:22: UserWarning: /Volumes/Flodrive/Florence/smFISH/analysis/20241029-exp22/exp22-MAN_06/DIC_masks_discarded_by_shape.tif is a low contrast image\n",
      "  io.imsave(Path(imgdir) / 'DIC_masks_discarded_by_shape.tif', discarded)\n",
      "/var/folders/pp/cdyfs0g13j3_15mc99_0nfmh0000gn/T/ipykernel_11254/17513562.py:23: UserWarning: /Volumes/Flodrive/Florence/smFISH/analysis/20241029-exp22/exp22-MAN_06/DIC_masks_selected_by_shape.tif is a low contrast image\n",
      "  io.imsave(Path(imgdir) / 'DIC_masks_selected_by_shape.tif', selected)\n"
     ]
    },
    {
     "name": "stdout",
     "output_type": "stream",
     "text": [
      "1117 - 3 -> 1115\n",
      "Config file from: /Volumes/Flodrive/Florence/smFISH/analysis/20241003-exp16\n",
      "\t/Volumes/Flodrive/Florence/smFISH/analysis/20241003-exp16/config-detection-processed.json\n",
      "Selected: MG1655_GAL-lowOD-2nd_06\n"
     ]
    },
    {
     "name": "stderr",
     "output_type": "stream",
     "text": [
      "/var/folders/pp/cdyfs0g13j3_15mc99_0nfmh0000gn/T/ipykernel_11254/17513562.py:17: UserWarning: /Volumes/Flodrive/Florence/smFISH/analysis/20241003-exp16/MG1655_GAL-lowOD-2nd_06/DIC_masks_discarded_by_area.tif is a low contrast image\n",
      "  io.imsave(Path(imgdir) / 'DIC_masks_discarded_by_area.tif', discarded)\n",
      "/var/folders/pp/cdyfs0g13j3_15mc99_0nfmh0000gn/T/ipykernel_11254/17513562.py:18: UserWarning: /Volumes/Flodrive/Florence/smFISH/analysis/20241003-exp16/MG1655_GAL-lowOD-2nd_06/DIC_masks_selected_by_area.tif is a low contrast image\n",
      "  io.imsave(Path(imgdir) / 'DIC_masks_selected_by_area.tif', selected)\n"
     ]
    },
    {
     "name": "stdout",
     "output_type": "stream",
     "text": [
      "612 - 55 -> 558\n"
     ]
    },
    {
     "name": "stderr",
     "output_type": "stream",
     "text": [
      "/var/folders/pp/cdyfs0g13j3_15mc99_0nfmh0000gn/T/ipykernel_11254/17513562.py:22: UserWarning: /Volumes/Flodrive/Florence/smFISH/analysis/20241003-exp16/MG1655_GAL-lowOD-2nd_06/DIC_masks_discarded_by_shape.tif is a low contrast image\n",
      "  io.imsave(Path(imgdir) / 'DIC_masks_discarded_by_shape.tif', discarded)\n",
      "/var/folders/pp/cdyfs0g13j3_15mc99_0nfmh0000gn/T/ipykernel_11254/17513562.py:23: UserWarning: /Volumes/Flodrive/Florence/smFISH/analysis/20241003-exp16/MG1655_GAL-lowOD-2nd_06/DIC_masks_selected_by_shape.tif is a low contrast image\n",
      "  io.imsave(Path(imgdir) / 'DIC_masks_selected_by_shape.tif', selected)\n"
     ]
    },
    {
     "name": "stdout",
     "output_type": "stream",
     "text": [
      "558 - 1 -> 558\n",
      "Selected: MG1655_GAL-lowOD-2nd_09\n"
     ]
    },
    {
     "name": "stderr",
     "output_type": "stream",
     "text": [
      "/var/folders/pp/cdyfs0g13j3_15mc99_0nfmh0000gn/T/ipykernel_11254/17513562.py:17: UserWarning: /Volumes/Flodrive/Florence/smFISH/analysis/20241003-exp16/MG1655_GAL-lowOD-2nd_09/DIC_masks_discarded_by_area.tif is a low contrast image\n",
      "  io.imsave(Path(imgdir) / 'DIC_masks_discarded_by_area.tif', discarded)\n",
      "/var/folders/pp/cdyfs0g13j3_15mc99_0nfmh0000gn/T/ipykernel_11254/17513562.py:18: UserWarning: /Volumes/Flodrive/Florence/smFISH/analysis/20241003-exp16/MG1655_GAL-lowOD-2nd_09/DIC_masks_selected_by_area.tif is a low contrast image\n",
      "  io.imsave(Path(imgdir) / 'DIC_masks_selected_by_area.tif', selected)\n"
     ]
    },
    {
     "name": "stdout",
     "output_type": "stream",
     "text": [
      "162 - 15 -> 148\n"
     ]
    },
    {
     "name": "stderr",
     "output_type": "stream",
     "text": [
      "/var/folders/pp/cdyfs0g13j3_15mc99_0nfmh0000gn/T/ipykernel_11254/17513562.py:22: UserWarning: /Volumes/Flodrive/Florence/smFISH/analysis/20241003-exp16/MG1655_GAL-lowOD-2nd_09/DIC_masks_discarded_by_shape.tif is a low contrast image\n",
      "  io.imsave(Path(imgdir) / 'DIC_masks_discarded_by_shape.tif', discarded)\n",
      "/var/folders/pp/cdyfs0g13j3_15mc99_0nfmh0000gn/T/ipykernel_11254/17513562.py:23: UserWarning: /Volumes/Flodrive/Florence/smFISH/analysis/20241003-exp16/MG1655_GAL-lowOD-2nd_09/DIC_masks_selected_by_shape.tif is a low contrast image\n",
      "  io.imsave(Path(imgdir) / 'DIC_masks_selected_by_shape.tif', selected)\n"
     ]
    },
    {
     "name": "stdout",
     "output_type": "stream",
     "text": [
      "148 - 1 -> 148\n",
      "Selected: MG1655_GLY-lowOD-2nd_01\n"
     ]
    },
    {
     "name": "stderr",
     "output_type": "stream",
     "text": [
      "/var/folders/pp/cdyfs0g13j3_15mc99_0nfmh0000gn/T/ipykernel_11254/17513562.py:17: UserWarning: /Volumes/Flodrive/Florence/smFISH/analysis/20241003-exp16/MG1655_GLY-lowOD-2nd_01/DIC_masks_discarded_by_area.tif is a low contrast image\n",
      "  io.imsave(Path(imgdir) / 'DIC_masks_discarded_by_area.tif', discarded)\n"
     ]
    },
    {
     "name": "stdout",
     "output_type": "stream",
     "text": [
      "134 - 2 -> 133\n"
     ]
    },
    {
     "name": "stderr",
     "output_type": "stream",
     "text": [
      "/var/folders/pp/cdyfs0g13j3_15mc99_0nfmh0000gn/T/ipykernel_11254/17513562.py:22: UserWarning: /Volumes/Flodrive/Florence/smFISH/analysis/20241003-exp16/MG1655_GLY-lowOD-2nd_01/DIC_masks_discarded_by_shape.tif is a low contrast image\n",
      "  io.imsave(Path(imgdir) / 'DIC_masks_discarded_by_shape.tif', discarded)\n"
     ]
    },
    {
     "name": "stdout",
     "output_type": "stream",
     "text": [
      "133 - 4 -> 130\n",
      "Config file from: /Volumes/Flodrive/Florence/smFISH/analysis/20240927-exp16\n",
      "\t/Volumes/Flodrive/Florence/smFISH/analysis/20240927-exp16/config-detection-processed.json\n",
      "Selected: MG1655_GLU_OD_0.3_left_02\n"
     ]
    },
    {
     "name": "stderr",
     "output_type": "stream",
     "text": [
      "/var/folders/pp/cdyfs0g13j3_15mc99_0nfmh0000gn/T/ipykernel_11254/17513562.py:17: UserWarning: /Volumes/Flodrive/Florence/smFISH/analysis/20240927-exp16/MG1655_GLU_OD_0.3_left_02/DIC_masks_discarded_by_area.tif is a low contrast image\n",
      "  io.imsave(Path(imgdir) / 'DIC_masks_discarded_by_area.tif', discarded)\n",
      "/var/folders/pp/cdyfs0g13j3_15mc99_0nfmh0000gn/T/ipykernel_11254/17513562.py:18: UserWarning: /Volumes/Flodrive/Florence/smFISH/analysis/20240927-exp16/MG1655_GLU_OD_0.3_left_02/DIC_masks_selected_by_area.tif is a low contrast image\n",
      "  io.imsave(Path(imgdir) / 'DIC_masks_selected_by_area.tif', selected)\n"
     ]
    },
    {
     "name": "stdout",
     "output_type": "stream",
     "text": [
      "2375 - 41 -> 2335\n"
     ]
    },
    {
     "name": "stderr",
     "output_type": "stream",
     "text": [
      "/var/folders/pp/cdyfs0g13j3_15mc99_0nfmh0000gn/T/ipykernel_11254/17513562.py:22: UserWarning: /Volumes/Flodrive/Florence/smFISH/analysis/20240927-exp16/MG1655_GLU_OD_0.3_left_02/DIC_masks_discarded_by_shape.tif is a low contrast image\n",
      "  io.imsave(Path(imgdir) / 'DIC_masks_discarded_by_shape.tif', discarded)\n",
      "/var/folders/pp/cdyfs0g13j3_15mc99_0nfmh0000gn/T/ipykernel_11254/17513562.py:23: UserWarning: /Volumes/Flodrive/Florence/smFISH/analysis/20240927-exp16/MG1655_GLU_OD_0.3_left_02/DIC_masks_selected_by_shape.tif is a low contrast image\n",
      "  io.imsave(Path(imgdir) / 'DIC_masks_selected_by_shape.tif', selected)\n"
     ]
    },
    {
     "name": "stdout",
     "output_type": "stream",
     "text": [
      "2335 - 2 -> 2334\n",
      "Selected: MG1655_GLU_OD_0.3_left_03\n"
     ]
    },
    {
     "name": "stderr",
     "output_type": "stream",
     "text": [
      "/var/folders/pp/cdyfs0g13j3_15mc99_0nfmh0000gn/T/ipykernel_11254/17513562.py:17: UserWarning: /Volumes/Flodrive/Florence/smFISH/analysis/20240927-exp16/MG1655_GLU_OD_0.3_left_03/DIC_masks_discarded_by_area.tif is a low contrast image\n",
      "  io.imsave(Path(imgdir) / 'DIC_masks_discarded_by_area.tif', discarded)\n",
      "/var/folders/pp/cdyfs0g13j3_15mc99_0nfmh0000gn/T/ipykernel_11254/17513562.py:18: UserWarning: /Volumes/Flodrive/Florence/smFISH/analysis/20240927-exp16/MG1655_GLU_OD_0.3_left_03/DIC_masks_selected_by_area.tif is a low contrast image\n",
      "  io.imsave(Path(imgdir) / 'DIC_masks_selected_by_area.tif', selected)\n"
     ]
    },
    {
     "name": "stdout",
     "output_type": "stream",
     "text": [
      "2055 - 123 -> 1933\n"
     ]
    },
    {
     "name": "stderr",
     "output_type": "stream",
     "text": [
      "/var/folders/pp/cdyfs0g13j3_15mc99_0nfmh0000gn/T/ipykernel_11254/17513562.py:22: UserWarning: /Volumes/Flodrive/Florence/smFISH/analysis/20240927-exp16/MG1655_GLU_OD_0.3_left_03/DIC_masks_discarded_by_shape.tif is a low contrast image\n",
      "  io.imsave(Path(imgdir) / 'DIC_masks_discarded_by_shape.tif', discarded)\n",
      "/var/folders/pp/cdyfs0g13j3_15mc99_0nfmh0000gn/T/ipykernel_11254/17513562.py:23: UserWarning: /Volumes/Flodrive/Florence/smFISH/analysis/20240927-exp16/MG1655_GLU_OD_0.3_left_03/DIC_masks_selected_by_shape.tif is a low contrast image\n",
      "  io.imsave(Path(imgdir) / 'DIC_masks_selected_by_shape.tif', selected)\n"
     ]
    },
    {
     "name": "stdout",
     "output_type": "stream",
     "text": [
      "1933 - 1 -> 1933\n",
      "Selected: MG1655_GLU_OD_0.3_left_04\n"
     ]
    },
    {
     "name": "stderr",
     "output_type": "stream",
     "text": [
      "/var/folders/pp/cdyfs0g13j3_15mc99_0nfmh0000gn/T/ipykernel_11254/17513562.py:17: UserWarning: /Volumes/Flodrive/Florence/smFISH/analysis/20240927-exp16/MG1655_GLU_OD_0.3_left_04/DIC_masks_discarded_by_area.tif is a low contrast image\n",
      "  io.imsave(Path(imgdir) / 'DIC_masks_discarded_by_area.tif', discarded)\n",
      "/var/folders/pp/cdyfs0g13j3_15mc99_0nfmh0000gn/T/ipykernel_11254/17513562.py:18: UserWarning: /Volumes/Flodrive/Florence/smFISH/analysis/20240927-exp16/MG1655_GLU_OD_0.3_left_04/DIC_masks_selected_by_area.tif is a low contrast image\n",
      "  io.imsave(Path(imgdir) / 'DIC_masks_selected_by_area.tif', selected)\n"
     ]
    },
    {
     "name": "stdout",
     "output_type": "stream",
     "text": [
      "1515 - 21 -> 1495\n"
     ]
    },
    {
     "name": "stderr",
     "output_type": "stream",
     "text": [
      "/var/folders/pp/cdyfs0g13j3_15mc99_0nfmh0000gn/T/ipykernel_11254/17513562.py:22: UserWarning: /Volumes/Flodrive/Florence/smFISH/analysis/20240927-exp16/MG1655_GLU_OD_0.3_left_04/DIC_masks_discarded_by_shape.tif is a low contrast image\n",
      "  io.imsave(Path(imgdir) / 'DIC_masks_discarded_by_shape.tif', discarded)\n",
      "/var/folders/pp/cdyfs0g13j3_15mc99_0nfmh0000gn/T/ipykernel_11254/17513562.py:23: UserWarning: /Volumes/Flodrive/Florence/smFISH/analysis/20240927-exp16/MG1655_GLU_OD_0.3_left_04/DIC_masks_selected_by_shape.tif is a low contrast image\n",
      "  io.imsave(Path(imgdir) / 'DIC_masks_selected_by_shape.tif', selected)\n"
     ]
    },
    {
     "name": "stdout",
     "output_type": "stream",
     "text": [
      "1495 - 2 -> 1494\n",
      "Selected: MG1655_GLU_OD_0.3_left_05\n"
     ]
    },
    {
     "name": "stderr",
     "output_type": "stream",
     "text": [
      "/var/folders/pp/cdyfs0g13j3_15mc99_0nfmh0000gn/T/ipykernel_11254/17513562.py:17: UserWarning: /Volumes/Flodrive/Florence/smFISH/analysis/20240927-exp16/MG1655_GLU_OD_0.3_left_05/DIC_masks_discarded_by_area.tif is a low contrast image\n",
      "  io.imsave(Path(imgdir) / 'DIC_masks_discarded_by_area.tif', discarded)\n",
      "/var/folders/pp/cdyfs0g13j3_15mc99_0nfmh0000gn/T/ipykernel_11254/17513562.py:18: UserWarning: /Volumes/Flodrive/Florence/smFISH/analysis/20240927-exp16/MG1655_GLU_OD_0.3_left_05/DIC_masks_selected_by_area.tif is a low contrast image\n",
      "  io.imsave(Path(imgdir) / 'DIC_masks_selected_by_area.tif', selected)\n"
     ]
    },
    {
     "name": "stdout",
     "output_type": "stream",
     "text": [
      "2543 - 89 -> 2455\n"
     ]
    },
    {
     "name": "stderr",
     "output_type": "stream",
     "text": [
      "/var/folders/pp/cdyfs0g13j3_15mc99_0nfmh0000gn/T/ipykernel_11254/17513562.py:22: UserWarning: /Volumes/Flodrive/Florence/smFISH/analysis/20240927-exp16/MG1655_GLU_OD_0.3_left_05/DIC_masks_discarded_by_shape.tif is a low contrast image\n",
      "  io.imsave(Path(imgdir) / 'DIC_masks_discarded_by_shape.tif', discarded)\n",
      "/var/folders/pp/cdyfs0g13j3_15mc99_0nfmh0000gn/T/ipykernel_11254/17513562.py:23: UserWarning: /Volumes/Flodrive/Florence/smFISH/analysis/20240927-exp16/MG1655_GLU_OD_0.3_left_05/DIC_masks_selected_by_shape.tif is a low contrast image\n",
      "  io.imsave(Path(imgdir) / 'DIC_masks_selected_by_shape.tif', selected)\n"
     ]
    },
    {
     "name": "stdout",
     "output_type": "stream",
     "text": [
      "2455 - 5 -> 2451\n",
      "Selected: MG1655_GLY_OD_0.3_right_01\n"
     ]
    },
    {
     "name": "stderr",
     "output_type": "stream",
     "text": [
      "/var/folders/pp/cdyfs0g13j3_15mc99_0nfmh0000gn/T/ipykernel_11254/17513562.py:17: UserWarning: /Volumes/Flodrive/Florence/smFISH/analysis/20240927-exp16/MG1655_GLY_OD_0.3_right_01/DIC_masks_discarded_by_area.tif is a low contrast image\n",
      "  io.imsave(Path(imgdir) / 'DIC_masks_discarded_by_area.tif', discarded)\n",
      "/var/folders/pp/cdyfs0g13j3_15mc99_0nfmh0000gn/T/ipykernel_11254/17513562.py:18: UserWarning: /Volumes/Flodrive/Florence/smFISH/analysis/20240927-exp16/MG1655_GLY_OD_0.3_right_01/DIC_masks_selected_by_area.tif is a low contrast image\n",
      "  io.imsave(Path(imgdir) / 'DIC_masks_selected_by_area.tif', selected)\n"
     ]
    },
    {
     "name": "stdout",
     "output_type": "stream",
     "text": [
      "19 - 3 -> 17\n"
     ]
    },
    {
     "name": "stderr",
     "output_type": "stream",
     "text": [
      "/var/folders/pp/cdyfs0g13j3_15mc99_0nfmh0000gn/T/ipykernel_11254/17513562.py:22: UserWarning: /Volumes/Flodrive/Florence/smFISH/analysis/20240927-exp16/MG1655_GLY_OD_0.3_right_01/DIC_masks_discarded_by_shape.tif is a low contrast image\n",
      "  io.imsave(Path(imgdir) / 'DIC_masks_discarded_by_shape.tif', discarded)\n",
      "/var/folders/pp/cdyfs0g13j3_15mc99_0nfmh0000gn/T/ipykernel_11254/17513562.py:23: UserWarning: /Volumes/Flodrive/Florence/smFISH/analysis/20240927-exp16/MG1655_GLY_OD_0.3_right_01/DIC_masks_selected_by_shape.tif is a low contrast image\n",
      "  io.imsave(Path(imgdir) / 'DIC_masks_selected_by_shape.tif', selected)\n"
     ]
    },
    {
     "name": "stdout",
     "output_type": "stream",
     "text": [
      "17 - 1 -> 17\n",
      "Selected: MG1655_GLY_OD_0.3_right_03\n"
     ]
    },
    {
     "name": "stderr",
     "output_type": "stream",
     "text": [
      "/var/folders/pp/cdyfs0g13j3_15mc99_0nfmh0000gn/T/ipykernel_11254/17513562.py:17: UserWarning: /Volumes/Flodrive/Florence/smFISH/analysis/20240927-exp16/MG1655_GLY_OD_0.3_right_03/DIC_masks_discarded_by_area.tif is a low contrast image\n",
      "  io.imsave(Path(imgdir) / 'DIC_masks_discarded_by_area.tif', discarded)\n",
      "/var/folders/pp/cdyfs0g13j3_15mc99_0nfmh0000gn/T/ipykernel_11254/17513562.py:18: UserWarning: /Volumes/Flodrive/Florence/smFISH/analysis/20240927-exp16/MG1655_GLY_OD_0.3_right_03/DIC_masks_selected_by_area.tif is a low contrast image\n",
      "  io.imsave(Path(imgdir) / 'DIC_masks_selected_by_area.tif', selected)\n"
     ]
    },
    {
     "name": "stdout",
     "output_type": "stream",
     "text": [
      "20 - 1 -> 20\n"
     ]
    },
    {
     "name": "stderr",
     "output_type": "stream",
     "text": [
      "/var/folders/pp/cdyfs0g13j3_15mc99_0nfmh0000gn/T/ipykernel_11254/17513562.py:22: UserWarning: /Volumes/Flodrive/Florence/smFISH/analysis/20240927-exp16/MG1655_GLY_OD_0.3_right_03/DIC_masks_discarded_by_shape.tif is a low contrast image\n",
      "  io.imsave(Path(imgdir) / 'DIC_masks_discarded_by_shape.tif', discarded)\n",
      "/var/folders/pp/cdyfs0g13j3_15mc99_0nfmh0000gn/T/ipykernel_11254/17513562.py:23: UserWarning: /Volumes/Flodrive/Florence/smFISH/analysis/20240927-exp16/MG1655_GLY_OD_0.3_right_03/DIC_masks_selected_by_shape.tif is a low contrast image\n",
      "  io.imsave(Path(imgdir) / 'DIC_masks_selected_by_shape.tif', selected)\n"
     ]
    },
    {
     "name": "stdout",
     "output_type": "stream",
     "text": [
      "20 - 1 -> 20\n",
      "Selected: MG1655_GLY_OD_0.3_right_06\n"
     ]
    },
    {
     "name": "stderr",
     "output_type": "stream",
     "text": [
      "/var/folders/pp/cdyfs0g13j3_15mc99_0nfmh0000gn/T/ipykernel_11254/17513562.py:17: UserWarning: /Volumes/Flodrive/Florence/smFISH/analysis/20240927-exp16/MG1655_GLY_OD_0.3_right_06/DIC_masks_discarded_by_area.tif is a low contrast image\n",
      "  io.imsave(Path(imgdir) / 'DIC_masks_discarded_by_area.tif', discarded)\n",
      "/var/folders/pp/cdyfs0g13j3_15mc99_0nfmh0000gn/T/ipykernel_11254/17513562.py:18: UserWarning: /Volumes/Flodrive/Florence/smFISH/analysis/20240927-exp16/MG1655_GLY_OD_0.3_right_06/DIC_masks_selected_by_area.tif is a low contrast image\n",
      "  io.imsave(Path(imgdir) / 'DIC_masks_selected_by_area.tif', selected)\n"
     ]
    },
    {
     "name": "stdout",
     "output_type": "stream",
     "text": [
      "232 - 10 -> 223\n"
     ]
    },
    {
     "name": "stderr",
     "output_type": "stream",
     "text": [
      "/var/folders/pp/cdyfs0g13j3_15mc99_0nfmh0000gn/T/ipykernel_11254/17513562.py:22: UserWarning: /Volumes/Flodrive/Florence/smFISH/analysis/20240927-exp16/MG1655_GLY_OD_0.3_right_06/DIC_masks_discarded_by_shape.tif is a low contrast image\n",
      "  io.imsave(Path(imgdir) / 'DIC_masks_discarded_by_shape.tif', discarded)\n",
      "/var/folders/pp/cdyfs0g13j3_15mc99_0nfmh0000gn/T/ipykernel_11254/17513562.py:23: UserWarning: /Volumes/Flodrive/Florence/smFISH/analysis/20240927-exp16/MG1655_GLY_OD_0.3_right_06/DIC_masks_selected_by_shape.tif is a low contrast image\n",
      "  io.imsave(Path(imgdir) / 'DIC_masks_selected_by_shape.tif', selected)\n"
     ]
    },
    {
     "name": "stdout",
     "output_type": "stream",
     "text": [
      "223 - 1 -> 223\n",
      "Selected: MG1655_GLY_OD_0.3_right_07\n"
     ]
    },
    {
     "name": "stderr",
     "output_type": "stream",
     "text": [
      "/var/folders/pp/cdyfs0g13j3_15mc99_0nfmh0000gn/T/ipykernel_11254/17513562.py:17: UserWarning: /Volumes/Flodrive/Florence/smFISH/analysis/20240927-exp16/MG1655_GLY_OD_0.3_right_07/DIC_masks_discarded_by_area.tif is a low contrast image\n",
      "  io.imsave(Path(imgdir) / 'DIC_masks_discarded_by_area.tif', discarded)\n",
      "/var/folders/pp/cdyfs0g13j3_15mc99_0nfmh0000gn/T/ipykernel_11254/17513562.py:18: UserWarning: /Volumes/Flodrive/Florence/smFISH/analysis/20240927-exp16/MG1655_GLY_OD_0.3_right_07/DIC_masks_selected_by_area.tif is a low contrast image\n",
      "  io.imsave(Path(imgdir) / 'DIC_masks_selected_by_area.tif', selected)\n"
     ]
    },
    {
     "name": "stdout",
     "output_type": "stream",
     "text": [
      "465 - 68 -> 398\n"
     ]
    },
    {
     "name": "stderr",
     "output_type": "stream",
     "text": [
      "/var/folders/pp/cdyfs0g13j3_15mc99_0nfmh0000gn/T/ipykernel_11254/17513562.py:22: UserWarning: /Volumes/Flodrive/Florence/smFISH/analysis/20240927-exp16/MG1655_GLY_OD_0.3_right_07/DIC_masks_discarded_by_shape.tif is a low contrast image\n",
      "  io.imsave(Path(imgdir) / 'DIC_masks_discarded_by_shape.tif', discarded)\n",
      "/var/folders/pp/cdyfs0g13j3_15mc99_0nfmh0000gn/T/ipykernel_11254/17513562.py:23: UserWarning: /Volumes/Flodrive/Florence/smFISH/analysis/20240927-exp16/MG1655_GLY_OD_0.3_right_07/DIC_masks_selected_by_shape.tif is a low contrast image\n",
      "  io.imsave(Path(imgdir) / 'DIC_masks_selected_by_shape.tif', selected)\n"
     ]
    },
    {
     "name": "stdout",
     "output_type": "stream",
     "text": [
      "398 - 3 -> 396\n",
      "Selected: MG1655_MAN_OD_0.3_left_02\n"
     ]
    },
    {
     "name": "stderr",
     "output_type": "stream",
     "text": [
      "/var/folders/pp/cdyfs0g13j3_15mc99_0nfmh0000gn/T/ipykernel_11254/17513562.py:17: UserWarning: /Volumes/Flodrive/Florence/smFISH/analysis/20240927-exp16/MG1655_MAN_OD_0.3_left_02/DIC_masks_discarded_by_area.tif is a low contrast image\n",
      "  io.imsave(Path(imgdir) / 'DIC_masks_discarded_by_area.tif', discarded)\n",
      "/var/folders/pp/cdyfs0g13j3_15mc99_0nfmh0000gn/T/ipykernel_11254/17513562.py:18: UserWarning: /Volumes/Flodrive/Florence/smFISH/analysis/20240927-exp16/MG1655_MAN_OD_0.3_left_02/DIC_masks_selected_by_area.tif is a low contrast image\n",
      "  io.imsave(Path(imgdir) / 'DIC_masks_selected_by_area.tif', selected)\n"
     ]
    },
    {
     "name": "stdout",
     "output_type": "stream",
     "text": [
      "357 - 6 -> 352\n"
     ]
    },
    {
     "name": "stderr",
     "output_type": "stream",
     "text": [
      "/var/folders/pp/cdyfs0g13j3_15mc99_0nfmh0000gn/T/ipykernel_11254/17513562.py:22: UserWarning: /Volumes/Flodrive/Florence/smFISH/analysis/20240927-exp16/MG1655_MAN_OD_0.3_left_02/DIC_masks_discarded_by_shape.tif is a low contrast image\n",
      "  io.imsave(Path(imgdir) / 'DIC_masks_discarded_by_shape.tif', discarded)\n",
      "/var/folders/pp/cdyfs0g13j3_15mc99_0nfmh0000gn/T/ipykernel_11254/17513562.py:23: UserWarning: /Volumes/Flodrive/Florence/smFISH/analysis/20240927-exp16/MG1655_MAN_OD_0.3_left_02/DIC_masks_selected_by_shape.tif is a low contrast image\n",
      "  io.imsave(Path(imgdir) / 'DIC_masks_selected_by_shape.tif', selected)\n"
     ]
    },
    {
     "name": "stdout",
     "output_type": "stream",
     "text": [
      "352 - 13 -> 340\n",
      "Selected: MG1655_MAN_OD_0.3_left_05\n"
     ]
    },
    {
     "name": "stderr",
     "output_type": "stream",
     "text": [
      "/var/folders/pp/cdyfs0g13j3_15mc99_0nfmh0000gn/T/ipykernel_11254/17513562.py:17: UserWarning: /Volumes/Flodrive/Florence/smFISH/analysis/20240927-exp16/MG1655_MAN_OD_0.3_left_05/DIC_masks_discarded_by_area.tif is a low contrast image\n",
      "  io.imsave(Path(imgdir) / 'DIC_masks_discarded_by_area.tif', discarded)\n",
      "/var/folders/pp/cdyfs0g13j3_15mc99_0nfmh0000gn/T/ipykernel_11254/17513562.py:18: UserWarning: /Volumes/Flodrive/Florence/smFISH/analysis/20240927-exp16/MG1655_MAN_OD_0.3_left_05/DIC_masks_selected_by_area.tif is a low contrast image\n",
      "  io.imsave(Path(imgdir) / 'DIC_masks_selected_by_area.tif', selected)\n"
     ]
    },
    {
     "name": "stdout",
     "output_type": "stream",
     "text": [
      "567 - 8 -> 560\n"
     ]
    },
    {
     "name": "stderr",
     "output_type": "stream",
     "text": [
      "/var/folders/pp/cdyfs0g13j3_15mc99_0nfmh0000gn/T/ipykernel_11254/17513562.py:22: UserWarning: /Volumes/Flodrive/Florence/smFISH/analysis/20240927-exp16/MG1655_MAN_OD_0.3_left_05/DIC_masks_discarded_by_shape.tif is a low contrast image\n",
      "  io.imsave(Path(imgdir) / 'DIC_masks_discarded_by_shape.tif', discarded)\n",
      "/var/folders/pp/cdyfs0g13j3_15mc99_0nfmh0000gn/T/ipykernel_11254/17513562.py:23: UserWarning: /Volumes/Flodrive/Florence/smFISH/analysis/20240927-exp16/MG1655_MAN_OD_0.3_left_05/DIC_masks_selected_by_shape.tif is a low contrast image\n",
      "  io.imsave(Path(imgdir) / 'DIC_masks_selected_by_shape.tif', selected)\n"
     ]
    },
    {
     "name": "stdout",
     "output_type": "stream",
     "text": [
      "560 - 29 -> 532\n",
      "Selected: MG1655_MAN_OD_0.3_left_06\n"
     ]
    },
    {
     "name": "stderr",
     "output_type": "stream",
     "text": [
      "/var/folders/pp/cdyfs0g13j3_15mc99_0nfmh0000gn/T/ipykernel_11254/17513562.py:17: UserWarning: /Volumes/Flodrive/Florence/smFISH/analysis/20240927-exp16/MG1655_MAN_OD_0.3_left_06/DIC_masks_discarded_by_area.tif is a low contrast image\n",
      "  io.imsave(Path(imgdir) / 'DIC_masks_discarded_by_area.tif', discarded)\n",
      "/var/folders/pp/cdyfs0g13j3_15mc99_0nfmh0000gn/T/ipykernel_11254/17513562.py:18: UserWarning: /Volumes/Flodrive/Florence/smFISH/analysis/20240927-exp16/MG1655_MAN_OD_0.3_left_06/DIC_masks_selected_by_area.tif is a low contrast image\n",
      "  io.imsave(Path(imgdir) / 'DIC_masks_selected_by_area.tif', selected)\n"
     ]
    },
    {
     "name": "stdout",
     "output_type": "stream",
     "text": [
      "822 - 81 -> 742\n"
     ]
    },
    {
     "name": "stderr",
     "output_type": "stream",
     "text": [
      "/var/folders/pp/cdyfs0g13j3_15mc99_0nfmh0000gn/T/ipykernel_11254/17513562.py:22: UserWarning: /Volumes/Flodrive/Florence/smFISH/analysis/20240927-exp16/MG1655_MAN_OD_0.3_left_06/DIC_masks_discarded_by_shape.tif is a low contrast image\n",
      "  io.imsave(Path(imgdir) / 'DIC_masks_discarded_by_shape.tif', discarded)\n",
      "/var/folders/pp/cdyfs0g13j3_15mc99_0nfmh0000gn/T/ipykernel_11254/17513562.py:23: UserWarning: /Volumes/Flodrive/Florence/smFISH/analysis/20240927-exp16/MG1655_MAN_OD_0.3_left_06/DIC_masks_selected_by_shape.tif is a low contrast image\n",
      "  io.imsave(Path(imgdir) / 'DIC_masks_selected_by_shape.tif', selected)\n"
     ]
    },
    {
     "name": "stdout",
     "output_type": "stream",
     "text": [
      "742 - 16 -> 727\n",
      "Selected: MG1655_MAN_OD_0.3_left_07\n"
     ]
    },
    {
     "name": "stderr",
     "output_type": "stream",
     "text": [
      "/var/folders/pp/cdyfs0g13j3_15mc99_0nfmh0000gn/T/ipykernel_11254/17513562.py:17: UserWarning: /Volumes/Flodrive/Florence/smFISH/analysis/20240927-exp16/MG1655_MAN_OD_0.3_left_07/DIC_masks_discarded_by_area.tif is a low contrast image\n",
      "  io.imsave(Path(imgdir) / 'DIC_masks_discarded_by_area.tif', discarded)\n",
      "/var/folders/pp/cdyfs0g13j3_15mc99_0nfmh0000gn/T/ipykernel_11254/17513562.py:18: UserWarning: /Volumes/Flodrive/Florence/smFISH/analysis/20240927-exp16/MG1655_MAN_OD_0.3_left_07/DIC_masks_selected_by_area.tif is a low contrast image\n",
      "  io.imsave(Path(imgdir) / 'DIC_masks_selected_by_area.tif', selected)\n"
     ]
    },
    {
     "name": "stdout",
     "output_type": "stream",
     "text": [
      "661 - 14 -> 648\n"
     ]
    },
    {
     "name": "stderr",
     "output_type": "stream",
     "text": [
      "/var/folders/pp/cdyfs0g13j3_15mc99_0nfmh0000gn/T/ipykernel_11254/17513562.py:22: UserWarning: /Volumes/Flodrive/Florence/smFISH/analysis/20240927-exp16/MG1655_MAN_OD_0.3_left_07/DIC_masks_discarded_by_shape.tif is a low contrast image\n",
      "  io.imsave(Path(imgdir) / 'DIC_masks_discarded_by_shape.tif', discarded)\n",
      "/var/folders/pp/cdyfs0g13j3_15mc99_0nfmh0000gn/T/ipykernel_11254/17513562.py:23: UserWarning: /Volumes/Flodrive/Florence/smFISH/analysis/20240927-exp16/MG1655_MAN_OD_0.3_left_07/DIC_masks_selected_by_shape.tif is a low contrast image\n",
      "  io.imsave(Path(imgdir) / 'DIC_masks_selected_by_shape.tif', selected)\n"
     ]
    },
    {
     "name": "stdout",
     "output_type": "stream",
     "text": [
      "648 - 7 -> 642\n",
      "Selected: MG1655_MAN_OD_0.3_left_09\n"
     ]
    },
    {
     "name": "stderr",
     "output_type": "stream",
     "text": [
      "/var/folders/pp/cdyfs0g13j3_15mc99_0nfmh0000gn/T/ipykernel_11254/17513562.py:17: UserWarning: /Volumes/Flodrive/Florence/smFISH/analysis/20240927-exp16/MG1655_MAN_OD_0.3_left_09/DIC_masks_discarded_by_area.tif is a low contrast image\n",
      "  io.imsave(Path(imgdir) / 'DIC_masks_discarded_by_area.tif', discarded)\n",
      "/var/folders/pp/cdyfs0g13j3_15mc99_0nfmh0000gn/T/ipykernel_11254/17513562.py:18: UserWarning: /Volumes/Flodrive/Florence/smFISH/analysis/20240927-exp16/MG1655_MAN_OD_0.3_left_09/DIC_masks_selected_by_area.tif is a low contrast image\n",
      "  io.imsave(Path(imgdir) / 'DIC_masks_selected_by_area.tif', selected)\n"
     ]
    },
    {
     "name": "stdout",
     "output_type": "stream",
     "text": [
      "1154 - 154 -> 1001\n"
     ]
    },
    {
     "name": "stderr",
     "output_type": "stream",
     "text": [
      "/var/folders/pp/cdyfs0g13j3_15mc99_0nfmh0000gn/T/ipykernel_11254/17513562.py:22: UserWarning: /Volumes/Flodrive/Florence/smFISH/analysis/20240927-exp16/MG1655_MAN_OD_0.3_left_09/DIC_masks_discarded_by_shape.tif is a low contrast image\n",
      "  io.imsave(Path(imgdir) / 'DIC_masks_discarded_by_shape.tif', discarded)\n",
      "/var/folders/pp/cdyfs0g13j3_15mc99_0nfmh0000gn/T/ipykernel_11254/17513562.py:23: UserWarning: /Volumes/Flodrive/Florence/smFISH/analysis/20240927-exp16/MG1655_MAN_OD_0.3_left_09/DIC_masks_selected_by_shape.tif is a low contrast image\n",
      "  io.imsave(Path(imgdir) / 'DIC_masks_selected_by_shape.tif', selected)\n"
     ]
    },
    {
     "name": "stdout",
     "output_type": "stream",
     "text": [
      "1001 - 21 -> 981\n",
      "Selected: MG1655_MAN_OD_0.3_left_11\n"
     ]
    },
    {
     "name": "stderr",
     "output_type": "stream",
     "text": [
      "/var/folders/pp/cdyfs0g13j3_15mc99_0nfmh0000gn/T/ipykernel_11254/17513562.py:17: UserWarning: /Volumes/Flodrive/Florence/smFISH/analysis/20240927-exp16/MG1655_MAN_OD_0.3_left_11/DIC_masks_discarded_by_area.tif is a low contrast image\n",
      "  io.imsave(Path(imgdir) / 'DIC_masks_discarded_by_area.tif', discarded)\n",
      "/var/folders/pp/cdyfs0g13j3_15mc99_0nfmh0000gn/T/ipykernel_11254/17513562.py:18: UserWarning: /Volumes/Flodrive/Florence/smFISH/analysis/20240927-exp16/MG1655_MAN_OD_0.3_left_11/DIC_masks_selected_by_area.tif is a low contrast image\n",
      "  io.imsave(Path(imgdir) / 'DIC_masks_selected_by_area.tif', selected)\n"
     ]
    },
    {
     "name": "stdout",
     "output_type": "stream",
     "text": [
      "691 - 16 -> 676\n"
     ]
    },
    {
     "name": "stderr",
     "output_type": "stream",
     "text": [
      "/var/folders/pp/cdyfs0g13j3_15mc99_0nfmh0000gn/T/ipykernel_11254/17513562.py:22: UserWarning: /Volumes/Flodrive/Florence/smFISH/analysis/20240927-exp16/MG1655_MAN_OD_0.3_left_11/DIC_masks_discarded_by_shape.tif is a low contrast image\n",
      "  io.imsave(Path(imgdir) / 'DIC_masks_discarded_by_shape.tif', discarded)\n",
      "/var/folders/pp/cdyfs0g13j3_15mc99_0nfmh0000gn/T/ipykernel_11254/17513562.py:23: UserWarning: /Volumes/Flodrive/Florence/smFISH/analysis/20240927-exp16/MG1655_MAN_OD_0.3_left_11/DIC_masks_selected_by_shape.tif is a low contrast image\n",
      "  io.imsave(Path(imgdir) / 'DIC_masks_selected_by_shape.tif', selected)\n"
     ]
    },
    {
     "name": "stdout",
     "output_type": "stream",
     "text": [
      "676 - 16 -> 661\n",
      "Config file from: /Volumes/Flodrive/Florence/smFISH/analysis/20240927-LB\n",
      "\t/Volumes/Flodrive/Florence/smFISH/analysis/20240927-LB/config-detection-processed.json\n",
      "Selected: MG1655_LB_fixed2806_hybed1906_left_01\n"
     ]
    },
    {
     "name": "stderr",
     "output_type": "stream",
     "text": [
      "/var/folders/pp/cdyfs0g13j3_15mc99_0nfmh0000gn/T/ipykernel_11254/17513562.py:17: UserWarning: /Volumes/Flodrive/Florence/smFISH/analysis/20240927-LB/MG1655_LB_fixed2806_hybed1906_left_01/DIC_masks_discarded_by_area.tif is a low contrast image\n",
      "  io.imsave(Path(imgdir) / 'DIC_masks_discarded_by_area.tif', discarded)\n",
      "/var/folders/pp/cdyfs0g13j3_15mc99_0nfmh0000gn/T/ipykernel_11254/17513562.py:18: UserWarning: /Volumes/Flodrive/Florence/smFISH/analysis/20240927-LB/MG1655_LB_fixed2806_hybed1906_left_01/DIC_masks_selected_by_area.tif is a low contrast image\n",
      "  io.imsave(Path(imgdir) / 'DIC_masks_selected_by_area.tif', selected)\n"
     ]
    },
    {
     "name": "stdout",
     "output_type": "stream",
     "text": [
      "1062 - 79 -> 984\n"
     ]
    },
    {
     "name": "stderr",
     "output_type": "stream",
     "text": [
      "/var/folders/pp/cdyfs0g13j3_15mc99_0nfmh0000gn/T/ipykernel_11254/17513562.py:22: UserWarning: /Volumes/Flodrive/Florence/smFISH/analysis/20240927-LB/MG1655_LB_fixed2806_hybed1906_left_01/DIC_masks_discarded_by_shape.tif is a low contrast image\n",
      "  io.imsave(Path(imgdir) / 'DIC_masks_discarded_by_shape.tif', discarded)\n",
      "/var/folders/pp/cdyfs0g13j3_15mc99_0nfmh0000gn/T/ipykernel_11254/17513562.py:23: UserWarning: /Volumes/Flodrive/Florence/smFISH/analysis/20240927-LB/MG1655_LB_fixed2806_hybed1906_left_01/DIC_masks_selected_by_shape.tif is a low contrast image\n",
      "  io.imsave(Path(imgdir) / 'DIC_masks_selected_by_shape.tif', selected)\n"
     ]
    },
    {
     "name": "stdout",
     "output_type": "stream",
     "text": [
      "984 - 3 -> 982\n",
      "Selected: MG1655_LB_fixed2806_hybed1906_left_07\n"
     ]
    },
    {
     "name": "stderr",
     "output_type": "stream",
     "text": [
      "/var/folders/pp/cdyfs0g13j3_15mc99_0nfmh0000gn/T/ipykernel_11254/17513562.py:17: UserWarning: /Volumes/Flodrive/Florence/smFISH/analysis/20240927-LB/MG1655_LB_fixed2806_hybed1906_left_07/DIC_masks_discarded_by_area.tif is a low contrast image\n",
      "  io.imsave(Path(imgdir) / 'DIC_masks_discarded_by_area.tif', discarded)\n",
      "/var/folders/pp/cdyfs0g13j3_15mc99_0nfmh0000gn/T/ipykernel_11254/17513562.py:18: UserWarning: /Volumes/Flodrive/Florence/smFISH/analysis/20240927-LB/MG1655_LB_fixed2806_hybed1906_left_07/DIC_masks_selected_by_area.tif is a low contrast image\n",
      "  io.imsave(Path(imgdir) / 'DIC_masks_selected_by_area.tif', selected)\n"
     ]
    },
    {
     "name": "stdout",
     "output_type": "stream",
     "text": [
      "1190 - 58 -> 1133\n"
     ]
    },
    {
     "name": "stderr",
     "output_type": "stream",
     "text": [
      "/var/folders/pp/cdyfs0g13j3_15mc99_0nfmh0000gn/T/ipykernel_11254/17513562.py:22: UserWarning: /Volumes/Flodrive/Florence/smFISH/analysis/20240927-LB/MG1655_LB_fixed2806_hybed1906_left_07/DIC_masks_discarded_by_shape.tif is a low contrast image\n",
      "  io.imsave(Path(imgdir) / 'DIC_masks_discarded_by_shape.tif', discarded)\n",
      "/var/folders/pp/cdyfs0g13j3_15mc99_0nfmh0000gn/T/ipykernel_11254/17513562.py:23: UserWarning: /Volumes/Flodrive/Florence/smFISH/analysis/20240927-LB/MG1655_LB_fixed2806_hybed1906_left_07/DIC_masks_selected_by_shape.tif is a low contrast image\n",
      "  io.imsave(Path(imgdir) / 'DIC_masks_selected_by_shape.tif', selected)\n"
     ]
    },
    {
     "name": "stdout",
     "output_type": "stream",
     "text": [
      "1133 - 11 -> 1123\n"
     ]
    }
   ],
   "execution_count": 167
  },
  {
   "metadata": {},
   "cell_type": "markdown",
   "source": "### Expand masks ",
   "id": "303d6272f017366b"
  },
  {
   "metadata": {
    "ExecuteTime": {
     "end_time": "2024-11-14T14:17:51.001297Z",
     "start_time": "2024-11-14T14:17:22.417449Z"
    }
   },
   "cell_type": "code",
   "source": [
    "rootdir = '/Volumes/Flodrive/Florence/smFISH/analysis'\n",
    "for f in Path(rootdir).glob('*/config-detection-processed.json'):\n",
    "    print(f\"Config file from: {f.parent}\")\n",
    "    print(f\"\\t{f}\")\n",
    "    with open(f, 'r') as fh:\n",
    "        config = json.load(fh)\n",
    "        for exp in config['experiments']:\n",
    "            for img in exp['images']:\n",
    "                if img[\"detect_spots\"] == True:\n",
    "                    print(f'Selected: {img[\"stem\"]}')\n",
    "                    \n",
    "                    imgdir = Path(config['outputdir']) / img['stem']\n",
    "                    masks = io.imread(Path(imgdir) / 'DIC_masks_selected_by_shape.tif')\n",
    "                    \n",
    "                    distance = 3\n",
    "                    expanded_mask = expand_labels(masks, distance=distance)\n",
    "                    \n",
    "                    io.imsave(Path(imgdir) / 'DIC_masks_expanded.tif', expanded_mask)"
   ],
   "id": "bac3b9bba6c6057",
   "outputs": [
    {
     "name": "stdout",
     "output_type": "stream",
     "text": [
      "Config file from: /Volumes/Flodrive/Florence/smFISH/analysis/20241029-exp24\n",
      "\t/Volumes/Flodrive/Florence/smFISH/analysis/20241029-exp24/config-detection-processed.json\n",
      "Selected: exp24-GLU-right-2_01\n"
     ]
    },
    {
     "name": "stderr",
     "output_type": "stream",
     "text": [
      "/var/folders/pp/cdyfs0g13j3_15mc99_0nfmh0000gn/T/ipykernel_11254/957434252.py:18: UserWarning: /Volumes/Flodrive/Florence/smFISH/analysis/20241029-exp24/exp24-GLU-right-2_01/DIC_masks_expanded.tif is a low contrast image\n",
      "  io.imsave(Path(imgdir) / 'DIC_masks_expanded.tif', expanded_mask)\n"
     ]
    },
    {
     "name": "stdout",
     "output_type": "stream",
     "text": [
      "Selected: exp24-GLU-right-2_03\n"
     ]
    },
    {
     "name": "stderr",
     "output_type": "stream",
     "text": [
      "/var/folders/pp/cdyfs0g13j3_15mc99_0nfmh0000gn/T/ipykernel_11254/957434252.py:18: UserWarning: /Volumes/Flodrive/Florence/smFISH/analysis/20241029-exp24/exp24-GLU-right-2_03/DIC_masks_expanded.tif is a low contrast image\n",
      "  io.imsave(Path(imgdir) / 'DIC_masks_expanded.tif', expanded_mask)\n"
     ]
    },
    {
     "name": "stdout",
     "output_type": "stream",
     "text": [
      "Selected: exp24-GLU-right-2_05\n"
     ]
    },
    {
     "name": "stderr",
     "output_type": "stream",
     "text": [
      "/var/folders/pp/cdyfs0g13j3_15mc99_0nfmh0000gn/T/ipykernel_11254/957434252.py:18: UserWarning: /Volumes/Flodrive/Florence/smFISH/analysis/20241029-exp24/exp24-GLU-right-2_05/DIC_masks_expanded.tif is a low contrast image\n",
      "  io.imsave(Path(imgdir) / 'DIC_masks_expanded.tif', expanded_mask)\n"
     ]
    },
    {
     "name": "stdout",
     "output_type": "stream",
     "text": [
      "Selected: exp24-GLY-left_02\n"
     ]
    },
    {
     "name": "stderr",
     "output_type": "stream",
     "text": [
      "/var/folders/pp/cdyfs0g13j3_15mc99_0nfmh0000gn/T/ipykernel_11254/957434252.py:18: UserWarning: /Volumes/Flodrive/Florence/smFISH/analysis/20241029-exp24/exp24-GLY-left_02/DIC_masks_expanded.tif is a low contrast image\n",
      "  io.imsave(Path(imgdir) / 'DIC_masks_expanded.tif', expanded_mask)\n"
     ]
    },
    {
     "name": "stdout",
     "output_type": "stream",
     "text": [
      "Selected: exp24-GLY-left_03\n"
     ]
    },
    {
     "name": "stderr",
     "output_type": "stream",
     "text": [
      "/var/folders/pp/cdyfs0g13j3_15mc99_0nfmh0000gn/T/ipykernel_11254/957434252.py:18: UserWarning: /Volumes/Flodrive/Florence/smFISH/analysis/20241029-exp24/exp24-GLY-left_03/DIC_masks_expanded.tif is a low contrast image\n",
      "  io.imsave(Path(imgdir) / 'DIC_masks_expanded.tif', expanded_mask)\n"
     ]
    },
    {
     "name": "stdout",
     "output_type": "stream",
     "text": [
      "Selected: exp24-GLY-left_06\n"
     ]
    },
    {
     "name": "stderr",
     "output_type": "stream",
     "text": [
      "/var/folders/pp/cdyfs0g13j3_15mc99_0nfmh0000gn/T/ipykernel_11254/957434252.py:18: UserWarning: /Volumes/Flodrive/Florence/smFISH/analysis/20241029-exp24/exp24-GLY-left_06/DIC_masks_expanded.tif is a low contrast image\n",
      "  io.imsave(Path(imgdir) / 'DIC_masks_expanded.tif', expanded_mask)\n"
     ]
    },
    {
     "name": "stdout",
     "output_type": "stream",
     "text": [
      "Selected: exp24-GLY-left_10\n"
     ]
    },
    {
     "name": "stderr",
     "output_type": "stream",
     "text": [
      "/var/folders/pp/cdyfs0g13j3_15mc99_0nfmh0000gn/T/ipykernel_11254/957434252.py:18: UserWarning: /Volumes/Flodrive/Florence/smFISH/analysis/20241029-exp24/exp24-GLY-left_10/DIC_masks_expanded.tif is a low contrast image\n",
      "  io.imsave(Path(imgdir) / 'DIC_masks_expanded.tif', expanded_mask)\n"
     ]
    },
    {
     "name": "stdout",
     "output_type": "stream",
     "text": [
      "Config file from: /Volumes/Flodrive/Florence/smFISH/analysis/20241029-exp22\n",
      "\t/Volumes/Flodrive/Florence/smFISH/analysis/20241029-exp22/config-detection-processed.json\n",
      "Selected: exp22-GLU_01\n",
      "Selected: exp22-GLU_02\n",
      "Selected: exp22-GLU_04\n",
      "Selected: exp22-GLU_05\n",
      "Selected: exp22-GLU_06\n"
     ]
    },
    {
     "name": "stderr",
     "output_type": "stream",
     "text": [
      "/var/folders/pp/cdyfs0g13j3_15mc99_0nfmh0000gn/T/ipykernel_11254/957434252.py:18: UserWarning: /Volumes/Flodrive/Florence/smFISH/analysis/20241029-exp22/exp22-GLU_06/DIC_masks_expanded.tif is a low contrast image\n",
      "  io.imsave(Path(imgdir) / 'DIC_masks_expanded.tif', expanded_mask)\n"
     ]
    },
    {
     "name": "stdout",
     "output_type": "stream",
     "text": [
      "Selected: exp22-GLU_07\n",
      "Selected: exp22-GLU_08\n"
     ]
    },
    {
     "name": "stderr",
     "output_type": "stream",
     "text": [
      "/var/folders/pp/cdyfs0g13j3_15mc99_0nfmh0000gn/T/ipykernel_11254/957434252.py:18: UserWarning: /Volumes/Flodrive/Florence/smFISH/analysis/20241029-exp22/exp22-GLU_08/DIC_masks_expanded.tif is a low contrast image\n",
      "  io.imsave(Path(imgdir) / 'DIC_masks_expanded.tif', expanded_mask)\n"
     ]
    },
    {
     "name": "stdout",
     "output_type": "stream",
     "text": [
      "Selected: exp22-GLU_09\n"
     ]
    },
    {
     "name": "stderr",
     "output_type": "stream",
     "text": [
      "/var/folders/pp/cdyfs0g13j3_15mc99_0nfmh0000gn/T/ipykernel_11254/957434252.py:18: UserWarning: /Volumes/Flodrive/Florence/smFISH/analysis/20241029-exp22/exp22-GLU_09/DIC_masks_expanded.tif is a low contrast image\n",
      "  io.imsave(Path(imgdir) / 'DIC_masks_expanded.tif', expanded_mask)\n"
     ]
    },
    {
     "name": "stdout",
     "output_type": "stream",
     "text": [
      "Selected: exp22-GLU_10\n"
     ]
    },
    {
     "name": "stderr",
     "output_type": "stream",
     "text": [
      "/var/folders/pp/cdyfs0g13j3_15mc99_0nfmh0000gn/T/ipykernel_11254/957434252.py:18: UserWarning: /Volumes/Flodrive/Florence/smFISH/analysis/20241029-exp22/exp22-GLU_10/DIC_masks_expanded.tif is a low contrast image\n",
      "  io.imsave(Path(imgdir) / 'DIC_masks_expanded.tif', expanded_mask)\n"
     ]
    },
    {
     "name": "stdout",
     "output_type": "stream",
     "text": [
      "Selected: exp22-GLY_09\n"
     ]
    },
    {
     "name": "stderr",
     "output_type": "stream",
     "text": [
      "/var/folders/pp/cdyfs0g13j3_15mc99_0nfmh0000gn/T/ipykernel_11254/957434252.py:18: UserWarning: /Volumes/Flodrive/Florence/smFISH/analysis/20241029-exp22/exp22-GLY_09/DIC_masks_expanded.tif is a low contrast image\n",
      "  io.imsave(Path(imgdir) / 'DIC_masks_expanded.tif', expanded_mask)\n"
     ]
    },
    {
     "name": "stdout",
     "output_type": "stream",
     "text": [
      "Selected: exp22-GLY_10\n"
     ]
    },
    {
     "name": "stderr",
     "output_type": "stream",
     "text": [
      "/var/folders/pp/cdyfs0g13j3_15mc99_0nfmh0000gn/T/ipykernel_11254/957434252.py:18: UserWarning: /Volumes/Flodrive/Florence/smFISH/analysis/20241029-exp22/exp22-GLY_10/DIC_masks_expanded.tif is a low contrast image\n",
      "  io.imsave(Path(imgdir) / 'DIC_masks_expanded.tif', expanded_mask)\n"
     ]
    },
    {
     "name": "stdout",
     "output_type": "stream",
     "text": [
      "Selected: exp22-GAL_03\n"
     ]
    },
    {
     "name": "stderr",
     "output_type": "stream",
     "text": [
      "/var/folders/pp/cdyfs0g13j3_15mc99_0nfmh0000gn/T/ipykernel_11254/957434252.py:18: UserWarning: /Volumes/Flodrive/Florence/smFISH/analysis/20241029-exp22/exp22-GAL_03/DIC_masks_expanded.tif is a low contrast image\n",
      "  io.imsave(Path(imgdir) / 'DIC_masks_expanded.tif', expanded_mask)\n"
     ]
    },
    {
     "name": "stdout",
     "output_type": "stream",
     "text": [
      "Selected: exp22-GAL_04\n"
     ]
    },
    {
     "name": "stderr",
     "output_type": "stream",
     "text": [
      "/var/folders/pp/cdyfs0g13j3_15mc99_0nfmh0000gn/T/ipykernel_11254/957434252.py:18: UserWarning: /Volumes/Flodrive/Florence/smFISH/analysis/20241029-exp22/exp22-GAL_04/DIC_masks_expanded.tif is a low contrast image\n",
      "  io.imsave(Path(imgdir) / 'DIC_masks_expanded.tif', expanded_mask)\n"
     ]
    },
    {
     "name": "stdout",
     "output_type": "stream",
     "text": [
      "Selected: exp22-GAL_07\n"
     ]
    },
    {
     "name": "stderr",
     "output_type": "stream",
     "text": [
      "/var/folders/pp/cdyfs0g13j3_15mc99_0nfmh0000gn/T/ipykernel_11254/957434252.py:18: UserWarning: /Volumes/Flodrive/Florence/smFISH/analysis/20241029-exp22/exp22-GAL_07/DIC_masks_expanded.tif is a low contrast image\n",
      "  io.imsave(Path(imgdir) / 'DIC_masks_expanded.tif', expanded_mask)\n"
     ]
    },
    {
     "name": "stdout",
     "output_type": "stream",
     "text": [
      "Selected: exp22-GAL_08\n"
     ]
    },
    {
     "name": "stderr",
     "output_type": "stream",
     "text": [
      "/var/folders/pp/cdyfs0g13j3_15mc99_0nfmh0000gn/T/ipykernel_11254/957434252.py:18: UserWarning: /Volumes/Flodrive/Florence/smFISH/analysis/20241029-exp22/exp22-GAL_08/DIC_masks_expanded.tif is a low contrast image\n",
      "  io.imsave(Path(imgdir) / 'DIC_masks_expanded.tif', expanded_mask)\n"
     ]
    },
    {
     "name": "stdout",
     "output_type": "stream",
     "text": [
      "Selected: exp22-MAN_01\n"
     ]
    },
    {
     "name": "stderr",
     "output_type": "stream",
     "text": [
      "/var/folders/pp/cdyfs0g13j3_15mc99_0nfmh0000gn/T/ipykernel_11254/957434252.py:18: UserWarning: /Volumes/Flodrive/Florence/smFISH/analysis/20241029-exp22/exp22-MAN_01/DIC_masks_expanded.tif is a low contrast image\n",
      "  io.imsave(Path(imgdir) / 'DIC_masks_expanded.tif', expanded_mask)\n"
     ]
    },
    {
     "name": "stdout",
     "output_type": "stream",
     "text": [
      "Selected: exp22-MAN_02\n"
     ]
    },
    {
     "name": "stderr",
     "output_type": "stream",
     "text": [
      "/var/folders/pp/cdyfs0g13j3_15mc99_0nfmh0000gn/T/ipykernel_11254/957434252.py:18: UserWarning: /Volumes/Flodrive/Florence/smFISH/analysis/20241029-exp22/exp22-MAN_02/DIC_masks_expanded.tif is a low contrast image\n",
      "  io.imsave(Path(imgdir) / 'DIC_masks_expanded.tif', expanded_mask)\n"
     ]
    },
    {
     "name": "stdout",
     "output_type": "stream",
     "text": [
      "Selected: exp22-MAN_03\n"
     ]
    },
    {
     "name": "stderr",
     "output_type": "stream",
     "text": [
      "/var/folders/pp/cdyfs0g13j3_15mc99_0nfmh0000gn/T/ipykernel_11254/957434252.py:18: UserWarning: /Volumes/Flodrive/Florence/smFISH/analysis/20241029-exp22/exp22-MAN_03/DIC_masks_expanded.tif is a low contrast image\n",
      "  io.imsave(Path(imgdir) / 'DIC_masks_expanded.tif', expanded_mask)\n"
     ]
    },
    {
     "name": "stdout",
     "output_type": "stream",
     "text": [
      "Selected: exp22-MAN_05\n"
     ]
    },
    {
     "name": "stderr",
     "output_type": "stream",
     "text": [
      "/var/folders/pp/cdyfs0g13j3_15mc99_0nfmh0000gn/T/ipykernel_11254/957434252.py:18: UserWarning: /Volumes/Flodrive/Florence/smFISH/analysis/20241029-exp22/exp22-MAN_05/DIC_masks_expanded.tif is a low contrast image\n",
      "  io.imsave(Path(imgdir) / 'DIC_masks_expanded.tif', expanded_mask)\n"
     ]
    },
    {
     "name": "stdout",
     "output_type": "stream",
     "text": [
      "Selected: exp22-MAN_06\n"
     ]
    },
    {
     "name": "stderr",
     "output_type": "stream",
     "text": [
      "/var/folders/pp/cdyfs0g13j3_15mc99_0nfmh0000gn/T/ipykernel_11254/957434252.py:18: UserWarning: /Volumes/Flodrive/Florence/smFISH/analysis/20241029-exp22/exp22-MAN_06/DIC_masks_expanded.tif is a low contrast image\n",
      "  io.imsave(Path(imgdir) / 'DIC_masks_expanded.tif', expanded_mask)\n"
     ]
    },
    {
     "name": "stdout",
     "output_type": "stream",
     "text": [
      "Config file from: /Volumes/Flodrive/Florence/smFISH/analysis/20241003-exp16\n",
      "\t/Volumes/Flodrive/Florence/smFISH/analysis/20241003-exp16/config-detection-processed.json\n",
      "Selected: MG1655_GAL-lowOD-2nd_06\n"
     ]
    },
    {
     "name": "stderr",
     "output_type": "stream",
     "text": [
      "/var/folders/pp/cdyfs0g13j3_15mc99_0nfmh0000gn/T/ipykernel_11254/957434252.py:18: UserWarning: /Volumes/Flodrive/Florence/smFISH/analysis/20241003-exp16/MG1655_GAL-lowOD-2nd_06/DIC_masks_expanded.tif is a low contrast image\n",
      "  io.imsave(Path(imgdir) / 'DIC_masks_expanded.tif', expanded_mask)\n"
     ]
    },
    {
     "name": "stdout",
     "output_type": "stream",
     "text": [
      "Selected: MG1655_GAL-lowOD-2nd_09\n"
     ]
    },
    {
     "name": "stderr",
     "output_type": "stream",
     "text": [
      "/var/folders/pp/cdyfs0g13j3_15mc99_0nfmh0000gn/T/ipykernel_11254/957434252.py:18: UserWarning: /Volumes/Flodrive/Florence/smFISH/analysis/20241003-exp16/MG1655_GAL-lowOD-2nd_09/DIC_masks_expanded.tif is a low contrast image\n",
      "  io.imsave(Path(imgdir) / 'DIC_masks_expanded.tif', expanded_mask)\n"
     ]
    },
    {
     "name": "stdout",
     "output_type": "stream",
     "text": [
      "Selected: MG1655_GLY-lowOD-2nd_01\n",
      "Config file from: /Volumes/Flodrive/Florence/smFISH/analysis/20240927-exp16\n",
      "\t/Volumes/Flodrive/Florence/smFISH/analysis/20240927-exp16/config-detection-processed.json\n",
      "Selected: MG1655_GLU_OD_0.3_left_02\n"
     ]
    },
    {
     "name": "stderr",
     "output_type": "stream",
     "text": [
      "/var/folders/pp/cdyfs0g13j3_15mc99_0nfmh0000gn/T/ipykernel_11254/957434252.py:18: UserWarning: /Volumes/Flodrive/Florence/smFISH/analysis/20240927-exp16/MG1655_GLU_OD_0.3_left_02/DIC_masks_expanded.tif is a low contrast image\n",
      "  io.imsave(Path(imgdir) / 'DIC_masks_expanded.tif', expanded_mask)\n"
     ]
    },
    {
     "name": "stdout",
     "output_type": "stream",
     "text": [
      "Selected: MG1655_GLU_OD_0.3_left_03\n"
     ]
    },
    {
     "name": "stderr",
     "output_type": "stream",
     "text": [
      "/var/folders/pp/cdyfs0g13j3_15mc99_0nfmh0000gn/T/ipykernel_11254/957434252.py:18: UserWarning: /Volumes/Flodrive/Florence/smFISH/analysis/20240927-exp16/MG1655_GLU_OD_0.3_left_03/DIC_masks_expanded.tif is a low contrast image\n",
      "  io.imsave(Path(imgdir) / 'DIC_masks_expanded.tif', expanded_mask)\n"
     ]
    },
    {
     "name": "stdout",
     "output_type": "stream",
     "text": [
      "Selected: MG1655_GLU_OD_0.3_left_04\n"
     ]
    },
    {
     "name": "stderr",
     "output_type": "stream",
     "text": [
      "/var/folders/pp/cdyfs0g13j3_15mc99_0nfmh0000gn/T/ipykernel_11254/957434252.py:18: UserWarning: /Volumes/Flodrive/Florence/smFISH/analysis/20240927-exp16/MG1655_GLU_OD_0.3_left_04/DIC_masks_expanded.tif is a low contrast image\n",
      "  io.imsave(Path(imgdir) / 'DIC_masks_expanded.tif', expanded_mask)\n"
     ]
    },
    {
     "name": "stdout",
     "output_type": "stream",
     "text": [
      "Selected: MG1655_GLU_OD_0.3_left_05\n"
     ]
    },
    {
     "name": "stderr",
     "output_type": "stream",
     "text": [
      "/var/folders/pp/cdyfs0g13j3_15mc99_0nfmh0000gn/T/ipykernel_11254/957434252.py:18: UserWarning: /Volumes/Flodrive/Florence/smFISH/analysis/20240927-exp16/MG1655_GLU_OD_0.3_left_05/DIC_masks_expanded.tif is a low contrast image\n",
      "  io.imsave(Path(imgdir) / 'DIC_masks_expanded.tif', expanded_mask)\n"
     ]
    },
    {
     "name": "stdout",
     "output_type": "stream",
     "text": [
      "Selected: MG1655_GLY_OD_0.3_right_01\n"
     ]
    },
    {
     "name": "stderr",
     "output_type": "stream",
     "text": [
      "/var/folders/pp/cdyfs0g13j3_15mc99_0nfmh0000gn/T/ipykernel_11254/957434252.py:18: UserWarning: /Volumes/Flodrive/Florence/smFISH/analysis/20240927-exp16/MG1655_GLY_OD_0.3_right_01/DIC_masks_expanded.tif is a low contrast image\n",
      "  io.imsave(Path(imgdir) / 'DIC_masks_expanded.tif', expanded_mask)\n"
     ]
    },
    {
     "name": "stdout",
     "output_type": "stream",
     "text": [
      "Selected: MG1655_GLY_OD_0.3_right_03\n"
     ]
    },
    {
     "name": "stderr",
     "output_type": "stream",
     "text": [
      "/var/folders/pp/cdyfs0g13j3_15mc99_0nfmh0000gn/T/ipykernel_11254/957434252.py:18: UserWarning: /Volumes/Flodrive/Florence/smFISH/analysis/20240927-exp16/MG1655_GLY_OD_0.3_right_03/DIC_masks_expanded.tif is a low contrast image\n",
      "  io.imsave(Path(imgdir) / 'DIC_masks_expanded.tif', expanded_mask)\n"
     ]
    },
    {
     "name": "stdout",
     "output_type": "stream",
     "text": [
      "Selected: MG1655_GLY_OD_0.3_right_06\n"
     ]
    },
    {
     "name": "stderr",
     "output_type": "stream",
     "text": [
      "/var/folders/pp/cdyfs0g13j3_15mc99_0nfmh0000gn/T/ipykernel_11254/957434252.py:18: UserWarning: /Volumes/Flodrive/Florence/smFISH/analysis/20240927-exp16/MG1655_GLY_OD_0.3_right_06/DIC_masks_expanded.tif is a low contrast image\n",
      "  io.imsave(Path(imgdir) / 'DIC_masks_expanded.tif', expanded_mask)\n"
     ]
    },
    {
     "name": "stdout",
     "output_type": "stream",
     "text": [
      "Selected: MG1655_GLY_OD_0.3_right_07\n"
     ]
    },
    {
     "name": "stderr",
     "output_type": "stream",
     "text": [
      "/var/folders/pp/cdyfs0g13j3_15mc99_0nfmh0000gn/T/ipykernel_11254/957434252.py:18: UserWarning: /Volumes/Flodrive/Florence/smFISH/analysis/20240927-exp16/MG1655_GLY_OD_0.3_right_07/DIC_masks_expanded.tif is a low contrast image\n",
      "  io.imsave(Path(imgdir) / 'DIC_masks_expanded.tif', expanded_mask)\n"
     ]
    },
    {
     "name": "stdout",
     "output_type": "stream",
     "text": [
      "Selected: MG1655_MAN_OD_0.3_left_02\n"
     ]
    },
    {
     "name": "stderr",
     "output_type": "stream",
     "text": [
      "/var/folders/pp/cdyfs0g13j3_15mc99_0nfmh0000gn/T/ipykernel_11254/957434252.py:18: UserWarning: /Volumes/Flodrive/Florence/smFISH/analysis/20240927-exp16/MG1655_MAN_OD_0.3_left_02/DIC_masks_expanded.tif is a low contrast image\n",
      "  io.imsave(Path(imgdir) / 'DIC_masks_expanded.tif', expanded_mask)\n"
     ]
    },
    {
     "name": "stdout",
     "output_type": "stream",
     "text": [
      "Selected: MG1655_MAN_OD_0.3_left_05\n"
     ]
    },
    {
     "name": "stderr",
     "output_type": "stream",
     "text": [
      "/var/folders/pp/cdyfs0g13j3_15mc99_0nfmh0000gn/T/ipykernel_11254/957434252.py:18: UserWarning: /Volumes/Flodrive/Florence/smFISH/analysis/20240927-exp16/MG1655_MAN_OD_0.3_left_05/DIC_masks_expanded.tif is a low contrast image\n",
      "  io.imsave(Path(imgdir) / 'DIC_masks_expanded.tif', expanded_mask)\n"
     ]
    },
    {
     "name": "stdout",
     "output_type": "stream",
     "text": [
      "Selected: MG1655_MAN_OD_0.3_left_06\n"
     ]
    },
    {
     "name": "stderr",
     "output_type": "stream",
     "text": [
      "/var/folders/pp/cdyfs0g13j3_15mc99_0nfmh0000gn/T/ipykernel_11254/957434252.py:18: UserWarning: /Volumes/Flodrive/Florence/smFISH/analysis/20240927-exp16/MG1655_MAN_OD_0.3_left_06/DIC_masks_expanded.tif is a low contrast image\n",
      "  io.imsave(Path(imgdir) / 'DIC_masks_expanded.tif', expanded_mask)\n"
     ]
    },
    {
     "name": "stdout",
     "output_type": "stream",
     "text": [
      "Selected: MG1655_MAN_OD_0.3_left_07\n"
     ]
    },
    {
     "name": "stderr",
     "output_type": "stream",
     "text": [
      "/var/folders/pp/cdyfs0g13j3_15mc99_0nfmh0000gn/T/ipykernel_11254/957434252.py:18: UserWarning: /Volumes/Flodrive/Florence/smFISH/analysis/20240927-exp16/MG1655_MAN_OD_0.3_left_07/DIC_masks_expanded.tif is a low contrast image\n",
      "  io.imsave(Path(imgdir) / 'DIC_masks_expanded.tif', expanded_mask)\n"
     ]
    },
    {
     "name": "stdout",
     "output_type": "stream",
     "text": [
      "Selected: MG1655_MAN_OD_0.3_left_09\n"
     ]
    },
    {
     "name": "stderr",
     "output_type": "stream",
     "text": [
      "/var/folders/pp/cdyfs0g13j3_15mc99_0nfmh0000gn/T/ipykernel_11254/957434252.py:18: UserWarning: /Volumes/Flodrive/Florence/smFISH/analysis/20240927-exp16/MG1655_MAN_OD_0.3_left_09/DIC_masks_expanded.tif is a low contrast image\n",
      "  io.imsave(Path(imgdir) / 'DIC_masks_expanded.tif', expanded_mask)\n"
     ]
    },
    {
     "name": "stdout",
     "output_type": "stream",
     "text": [
      "Selected: MG1655_MAN_OD_0.3_left_11\n"
     ]
    },
    {
     "name": "stderr",
     "output_type": "stream",
     "text": [
      "/var/folders/pp/cdyfs0g13j3_15mc99_0nfmh0000gn/T/ipykernel_11254/957434252.py:18: UserWarning: /Volumes/Flodrive/Florence/smFISH/analysis/20240927-exp16/MG1655_MAN_OD_0.3_left_11/DIC_masks_expanded.tif is a low contrast image\n",
      "  io.imsave(Path(imgdir) / 'DIC_masks_expanded.tif', expanded_mask)\n"
     ]
    },
    {
     "name": "stdout",
     "output_type": "stream",
     "text": [
      "Config file from: /Volumes/Flodrive/Florence/smFISH/analysis/20240927-LB\n",
      "\t/Volumes/Flodrive/Florence/smFISH/analysis/20240927-LB/config-detection-processed.json\n",
      "Selected: MG1655_LB_fixed2806_hybed1906_left_01\n"
     ]
    },
    {
     "name": "stderr",
     "output_type": "stream",
     "text": [
      "/var/folders/pp/cdyfs0g13j3_15mc99_0nfmh0000gn/T/ipykernel_11254/957434252.py:18: UserWarning: /Volumes/Flodrive/Florence/smFISH/analysis/20240927-LB/MG1655_LB_fixed2806_hybed1906_left_01/DIC_masks_expanded.tif is a low contrast image\n",
      "  io.imsave(Path(imgdir) / 'DIC_masks_expanded.tif', expanded_mask)\n"
     ]
    },
    {
     "name": "stdout",
     "output_type": "stream",
     "text": [
      "Selected: MG1655_LB_fixed2806_hybed1906_left_07\n"
     ]
    },
    {
     "name": "stderr",
     "output_type": "stream",
     "text": [
      "/var/folders/pp/cdyfs0g13j3_15mc99_0nfmh0000gn/T/ipykernel_11254/957434252.py:18: UserWarning: /Volumes/Flodrive/Florence/smFISH/analysis/20240927-LB/MG1655_LB_fixed2806_hybed1906_left_07/DIC_masks_expanded.tif is a low contrast image\n",
      "  io.imsave(Path(imgdir) / 'DIC_masks_expanded.tif', expanded_mask)\n"
     ]
    }
   ],
   "execution_count": 172
  },
  {
   "metadata": {},
   "cell_type": "markdown",
   "source": "",
   "id": "928081990b4ff86f"
  },
  {
   "metadata": {},
   "cell_type": "markdown",
   "source": [
    "### Use postprocessed masks as final cell masks \n",
    "Select the desired version of the masks for spot detection  "
   ],
   "id": "96b8d3938e5becaa"
  },
  {
   "metadata": {
    "ExecuteTime": {
     "end_time": "2024-12-03T20:48:59.324416Z",
     "start_time": "2024-12-03T20:48:53.928257Z"
    }
   },
   "cell_type": "code",
   "source": [
    "rootdir = '/Volumes/Flodrive/Florence/smFISH/analysis'\n",
    "for f in Path(rootdir).glob('*/*/DIC_masks.tif'):\n",
    "    targetmaskfile = 'DIC_masks_selected_by_shape.tif'\n",
    "    # targetmaskfile = 'DIC_masks_expanded.tif'\n",
    "    print(f'{f} -> {targetmaskfile}')\n",
    "    Path(f).unlink(missing_ok=True)\n",
    "    # Path(f).symlink_to('DIC_masks_selected_by_shape.tif')\n",
    "    Path(f).symlink_to(targetmaskfile)\n"
   ],
   "id": "73f1922101f12083",
   "outputs": [
    {
     "name": "stdout",
     "output_type": "stream",
     "text": [
      "/Volumes/Flodrive/Florence/smFISH/analysis/20241029-exp24/exp24-GLU-right-2_01/DIC_masks.tif -> DIC_masks_selected_by_shape.tif\n",
      "/Volumes/Flodrive/Florence/smFISH/analysis/20241029-exp24/exp24-GLU-right-2_03/DIC_masks.tif -> DIC_masks_selected_by_shape.tif\n",
      "/Volumes/Flodrive/Florence/smFISH/analysis/20241029-exp24/exp24-GLU-right-2_05/DIC_masks.tif -> DIC_masks_selected_by_shape.tif\n",
      "/Volumes/Flodrive/Florence/smFISH/analysis/20241029-exp24/exp24-GLY-left_02/DIC_masks.tif -> DIC_masks_selected_by_shape.tif\n",
      "/Volumes/Flodrive/Florence/smFISH/analysis/20241029-exp24/exp24-GLY-left_03/DIC_masks.tif -> DIC_masks_selected_by_shape.tif\n",
      "/Volumes/Flodrive/Florence/smFISH/analysis/20241029-exp24/exp24-GLY-left_06/DIC_masks.tif -> DIC_masks_selected_by_shape.tif\n",
      "/Volumes/Flodrive/Florence/smFISH/analysis/20241029-exp24/exp24-GLY-left_10/DIC_masks.tif -> DIC_masks_selected_by_shape.tif\n",
      "/Volumes/Flodrive/Florence/smFISH/analysis/20241029-exp22/exp22-GLU_01/DIC_masks.tif -> DIC_masks_selected_by_shape.tif\n",
      "/Volumes/Flodrive/Florence/smFISH/analysis/20241029-exp22/exp22-GLU_02/DIC_masks.tif -> DIC_masks_selected_by_shape.tif\n",
      "/Volumes/Flodrive/Florence/smFISH/analysis/20241029-exp22/exp22-GLU_04/DIC_masks.tif -> DIC_masks_selected_by_shape.tif\n",
      "/Volumes/Flodrive/Florence/smFISH/analysis/20241029-exp22/exp22-GLU_05/DIC_masks.tif -> DIC_masks_selected_by_shape.tif\n",
      "/Volumes/Flodrive/Florence/smFISH/analysis/20241029-exp22/exp22-GLU_06/DIC_masks.tif -> DIC_masks_selected_by_shape.tif\n",
      "/Volumes/Flodrive/Florence/smFISH/analysis/20241029-exp22/exp22-GLU_07/DIC_masks.tif -> DIC_masks_selected_by_shape.tif\n",
      "/Volumes/Flodrive/Florence/smFISH/analysis/20241029-exp22/exp22-GLU_08/DIC_masks.tif -> DIC_masks_selected_by_shape.tif\n",
      "/Volumes/Flodrive/Florence/smFISH/analysis/20241029-exp22/exp22-GLU_09/DIC_masks.tif -> DIC_masks_selected_by_shape.tif\n",
      "/Volumes/Flodrive/Florence/smFISH/analysis/20241029-exp22/exp22-GLU_10/DIC_masks.tif -> DIC_masks_selected_by_shape.tif\n",
      "/Volumes/Flodrive/Florence/smFISH/analysis/20241029-exp22/exp22-GLY_09/DIC_masks.tif -> DIC_masks_selected_by_shape.tif\n",
      "/Volumes/Flodrive/Florence/smFISH/analysis/20241029-exp22/exp22-GLY_10/DIC_masks.tif -> DIC_masks_selected_by_shape.tif\n",
      "/Volumes/Flodrive/Florence/smFISH/analysis/20241029-exp22/exp22-GAL_03/DIC_masks.tif -> DIC_masks_selected_by_shape.tif\n",
      "/Volumes/Flodrive/Florence/smFISH/analysis/20241029-exp22/exp22-GAL_04/DIC_masks.tif -> DIC_masks_selected_by_shape.tif\n",
      "/Volumes/Flodrive/Florence/smFISH/analysis/20241029-exp22/exp22-GAL_07/DIC_masks.tif -> DIC_masks_selected_by_shape.tif\n",
      "/Volumes/Flodrive/Florence/smFISH/analysis/20241029-exp22/exp22-GAL_08/DIC_masks.tif -> DIC_masks_selected_by_shape.tif\n",
      "/Volumes/Flodrive/Florence/smFISH/analysis/20241029-exp22/exp22-MAN_01/DIC_masks.tif -> DIC_masks_selected_by_shape.tif\n",
      "/Volumes/Flodrive/Florence/smFISH/analysis/20241029-exp22/exp22-MAN_02/DIC_masks.tif -> DIC_masks_selected_by_shape.tif\n",
      "/Volumes/Flodrive/Florence/smFISH/analysis/20241029-exp22/exp22-MAN_03/DIC_masks.tif -> DIC_masks_selected_by_shape.tif\n",
      "/Volumes/Flodrive/Florence/smFISH/analysis/20241029-exp22/exp22-MAN_05/DIC_masks.tif -> DIC_masks_selected_by_shape.tif\n",
      "/Volumes/Flodrive/Florence/smFISH/analysis/20241029-exp22/exp22-MAN_06/DIC_masks.tif -> DIC_masks_selected_by_shape.tif\n",
      "/Volumes/Flodrive/Florence/smFISH/analysis/20241003-exp16/MG1655_GAL-lowOD-2nd_06/DIC_masks.tif -> DIC_masks_selected_by_shape.tif\n",
      "/Volumes/Flodrive/Florence/smFISH/analysis/20241003-exp16/MG1655_GAL-lowOD-2nd_09/DIC_masks.tif -> DIC_masks_selected_by_shape.tif\n",
      "/Volumes/Flodrive/Florence/smFISH/analysis/20241003-exp16/MG1655_GLY-lowOD-2nd_01/DIC_masks.tif -> DIC_masks_selected_by_shape.tif\n",
      "/Volumes/Flodrive/Florence/smFISH/analysis/20240927-exp16/MG1655_GLU_OD_0.3_left_02/DIC_masks.tif -> DIC_masks_selected_by_shape.tif\n",
      "/Volumes/Flodrive/Florence/smFISH/analysis/20240927-exp16/MG1655_GLU_OD_0.3_left_03/DIC_masks.tif -> DIC_masks_selected_by_shape.tif\n",
      "/Volumes/Flodrive/Florence/smFISH/analysis/20240927-exp16/MG1655_GLU_OD_0.3_left_04/DIC_masks.tif -> DIC_masks_selected_by_shape.tif\n",
      "/Volumes/Flodrive/Florence/smFISH/analysis/20240927-exp16/MG1655_GLU_OD_0.3_left_05/DIC_masks.tif -> DIC_masks_selected_by_shape.tif\n",
      "/Volumes/Flodrive/Florence/smFISH/analysis/20240927-exp16/MG1655_GLY_OD_0.3_right_01/DIC_masks.tif -> DIC_masks_selected_by_shape.tif\n",
      "/Volumes/Flodrive/Florence/smFISH/analysis/20240927-exp16/MG1655_GLY_OD_0.3_right_03/DIC_masks.tif -> DIC_masks_selected_by_shape.tif\n",
      "/Volumes/Flodrive/Florence/smFISH/analysis/20240927-exp16/MG1655_GLY_OD_0.3_right_06/DIC_masks.tif -> DIC_masks_selected_by_shape.tif\n",
      "/Volumes/Flodrive/Florence/smFISH/analysis/20240927-exp16/MG1655_GLY_OD_0.3_right_07/DIC_masks.tif -> DIC_masks_selected_by_shape.tif\n",
      "/Volumes/Flodrive/Florence/smFISH/analysis/20240927-exp16/MG1655_MAN_OD_0.3_left_02/DIC_masks.tif -> DIC_masks_selected_by_shape.tif\n",
      "/Volumes/Flodrive/Florence/smFISH/analysis/20240927-exp16/MG1655_MAN_OD_0.3_left_05/DIC_masks.tif -> DIC_masks_selected_by_shape.tif\n",
      "/Volumes/Flodrive/Florence/smFISH/analysis/20240927-exp16/MG1655_MAN_OD_0.3_left_06/DIC_masks.tif -> DIC_masks_selected_by_shape.tif\n",
      "/Volumes/Flodrive/Florence/smFISH/analysis/20240927-exp16/MG1655_MAN_OD_0.3_left_07/DIC_masks.tif -> DIC_masks_selected_by_shape.tif\n",
      "/Volumes/Flodrive/Florence/smFISH/analysis/20240927-exp16/MG1655_MAN_OD_0.3_left_09/DIC_masks.tif -> DIC_masks_selected_by_shape.tif\n",
      "/Volumes/Flodrive/Florence/smFISH/analysis/20240927-exp16/MG1655_MAN_OD_0.3_left_11/DIC_masks.tif -> DIC_masks_selected_by_shape.tif\n",
      "/Volumes/Flodrive/Florence/smFISH/analysis/20240927-LB/MG1655_LB_fixed2806_hybed1906_left_01/DIC_masks.tif -> DIC_masks_selected_by_shape.tif\n",
      "/Volumes/Flodrive/Florence/smFISH/analysis/20240927-LB/MG1655_LB_fixed2806_hybed1906_left_07/DIC_masks.tif -> DIC_masks_selected_by_shape.tif\n"
     ]
    }
   ],
   "execution_count": 3
  },
  {
   "metadata": {},
   "cell_type": "markdown",
   "source": "",
   "id": "e2cc11dd4a380467"
  },
  {
   "metadata": {},
   "cell_type": "code",
   "outputs": [],
   "execution_count": null,
   "source": "",
   "id": "dd0de01f16975213"
  }
 ],
 "metadata": {
  "kernelspec": {
   "display_name": "omnipose",
   "language": "python",
   "name": "omnipose"
  },
  "language_info": {
   "codemirror_mode": {
    "name": "ipython",
    "version": 2
   },
   "file_extension": ".py",
   "mimetype": "text/x-python",
   "name": "python",
   "nbconvert_exporter": "python",
   "pygments_lexer": "ipython2",
   "version": "2.7.6"
  }
 },
 "nbformat": 4,
 "nbformat_minor": 5
}

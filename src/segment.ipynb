{
 "cells": [
  {
   "metadata": {
    "ExecuteTime": {
     "end_time": "2024-11-05T12:28:43.893821Z",
     "start_time": "2024-11-05T12:28:43.890331Z"
    }
   },
   "cell_type": "code",
   "source": [
    "import numpy as np\n",
    "import pandas as pd\n",
    "from skimage import io\n",
    "import re\n",
    "import pandas as pd\n",
    "import seaborn as sns\n",
    "from skimage.measure import regionprops_table\n",
    "from matplotlib import pyplot as plt\n",
    "from pathlib import Path\n",
    "import json\n",
    "from copy import copy"
   ],
   "id": "4e7a106d76afd8f0",
   "outputs": [],
   "execution_count": 293
  },
  {
   "metadata": {
    "ExecuteTime": {
     "end_time": "2024-11-04T09:34:27.145420Z",
     "start_time": "2024-11-04T09:34:27.139597Z"
    }
   },
   "cell_type": "code",
   "source": [
    "rootdir = '/Users/adele/PycharmProjects/Ecoli_smFISH/tests/exp16/output'\n",
    "files = Path(rootdir).glob('*/grgb.npy')\n",
    "filenames = [ f for f in files ]    \n",
    "filenames"
   ],
   "id": "a19f245baf2743dc",
   "outputs": [
    {
     "data": {
      "text/plain": [
       "[PosixPath('/Users/adele/PycharmProjects/Ecoli_smFISH/tests/exp16/output/MG1655_GLY-lowOD-2nd_16/grgb.npy'),\n",
       " PosixPath('/Users/adele/PycharmProjects/Ecoli_smFISH/tests/exp16/output/MG1655_GLY-lowOD-2nd_17/grgb.npy'),\n",
       " PosixPath('/Users/adele/PycharmProjects/Ecoli_smFISH/tests/exp16/output/MG1655_GLU_OD_0.3_left_02/grgb.npy'),\n",
       " PosixPath('/Users/adele/PycharmProjects/Ecoli_smFISH/tests/exp16/output/MG1655_GLU_OD_0.3_left_03/grgb.npy'),\n",
       " PosixPath('/Users/adele/PycharmProjects/Ecoli_smFISH/tests/exp16/output/MG1655_GAL-lowOD-2nd_05/grgb.npy'),\n",
       " PosixPath('/Users/adele/PycharmProjects/Ecoli_smFISH/tests/exp16/output/MG1655_MAN_OD_0.3_left_08/grgb.npy'),\n",
       " PosixPath('/Users/adele/PycharmProjects/Ecoli_smFISH/tests/exp16/output/MG1655_MAN_OD_0.3_left_07/grgb.npy'),\n",
       " PosixPath('/Users/adele/PycharmProjects/Ecoli_smFISH/tests/exp16/output/MG1655_LB_fixed2806_hybed1906_left_03/grgb.npy'),\n",
       " PosixPath('/Users/adele/PycharmProjects/Ecoli_smFISH/tests/exp16/output/MG1655_LB_fixed2806_hybed1906_left_05/grgb.npy'),\n",
       " PosixPath('/Users/adele/PycharmProjects/Ecoli_smFISH/tests/exp16/output/MG1655_GAL-lowOD-2nd_06/grgb.npy')]"
      ]
     },
     "execution_count": 60,
     "metadata": {},
     "output_type": "execute_result"
    }
   ],
   "execution_count": 60
  },
  {
   "metadata": {
    "ExecuteTime": {
     "end_time": "2024-11-06T09:38:17.442138Z",
     "start_time": "2024-11-06T09:38:17.385253Z"
    }
   },
   "cell_type": "code",
   "source": [
    "# warning: this cell is only for initialising to reasonable values\n",
    "# this is for initialization only\n",
    "# only a fool would run this again after painstakingly manually setting the parameters!!!!\n",
    "#\n",
    "# rootdir = '/Volumes/Flodrive/Florence/smFISH/analysis'\n",
    "# for f in Path(rootdir).glob('*/config.json'):\n",
    "#     config_selected = f.parent / 'config-selected.json'\n",
    "#     print(f\"{f} -> {config_selected}\")\n",
    "#     with open(f, 'r') as fh:\n",
    "#         config = json.load(fh)\n",
    "#         for exp in config['experiments']:\n",
    "#             for img in exp['images']:\n",
    "#                 # print(img['basename'])\n",
    "#                 img['segment'] = False\n",
    "#                 img['detect_spots'] = False\n",
    "#                 img['segmentation'] = { \n",
    "#                     'model_type': 'cyto2_omni',\n",
    "#                     'channels': [1, 2],\n",
    "#                     'diameter': 0,\n",
    "#                     'mask': 0,\n",
    "#                     'flow': 0.0\n",
    "#                 }\n",
    "#         \n",
    "#         with open(config_selected, 'w') as fh:\n",
    "#                 json.dump(config, fh)\n"
   ],
   "id": "c51e1f15b890e08",
   "outputs": [
    {
     "name": "stdout",
     "output_type": "stream",
     "text": [
      "/Volumes/Flodrive/Florence/smFISH/analysis/20240927-LB/config.json -> /Volumes/Flodrive/Florence/smFISH/analysis/20240927-LB/config-selected.json\n"
     ]
    }
   ],
   "execution_count": 348
  },
  {
   "metadata": {
    "ExecuteTime": {
     "end_time": "2024-11-04T16:32:17.668429Z",
     "start_time": "2024-11-04T16:31:43.582147Z"
    }
   },
   "cell_type": "code",
   "source": [
    "rootdir = \"/Volumes/Flodrive/Florence/smFISH/analysis/20241029-exp24\"\n",
    "for f in Path(rootdir).glob('*/grgb.npy'):\n",
    "    print(f.parent / \"grgb.tif\")\n",
    "    io.imsave(f.parent / \"grgb.tif\", np.load(f)) "
   ],
   "id": "2d2c936b3a6395b2",
   "outputs": [
    {
     "name": "stdout",
     "output_type": "stream",
     "text": [
      "/Volumes/Flodrive/Florence/smFISH/analysis/20241029-exp24/exp24-GLY-left_01/grgb.tif\n",
      "/Volumes/Flodrive/Florence/smFISH/analysis/20241029-exp24/exp24-GLY-left_02/grgb.tif\n",
      "/Volumes/Flodrive/Florence/smFISH/analysis/20241029-exp24/exp24-GLY-left_03/grgb.tif\n",
      "/Volumes/Flodrive/Florence/smFISH/analysis/20241029-exp24/exp24-GLY-left_04/grgb.tif\n",
      "/Volumes/Flodrive/Florence/smFISH/analysis/20241029-exp24/exp24-GLY-left_05/grgb.tif\n",
      "/Volumes/Flodrive/Florence/smFISH/analysis/20241029-exp24/exp24-GLY-left_06/grgb.tif\n",
      "/Volumes/Flodrive/Florence/smFISH/analysis/20241029-exp24/exp24-GLY-left_07/grgb.tif\n",
      "/Volumes/Flodrive/Florence/smFISH/analysis/20241029-exp24/exp24-GLY-left_08/grgb.tif\n",
      "/Volumes/Flodrive/Florence/smFISH/analysis/20241029-exp24/exp24-GLY-left_09/grgb.tif\n",
      "/Volumes/Flodrive/Florence/smFISH/analysis/20241029-exp24/exp24-GLY-left_10/grgb.tif\n"
     ]
    }
   ],
   "execution_count": 208
  },
  {
   "metadata": {
    "ExecuteTime": {
     "end_time": "2024-11-04T10:14:35.783892Z",
     "start_time": "2024-11-04T10:14:35.756786Z"
    }
   },
   "cell_type": "code",
   "source": [
    "# # pick a model for DIC masks\n",
    "# #\n",
    "# model_type = 'cyto2_omni'\n",
    "# chans = '[1,2]'\n",
    "# minsize = '0'\n",
    "# mask = '-2'\n",
    "# flow = '0'\n",
    "# diameter = '35'\n",
    "# \n",
    "# targetmaskfile = f'DIC_masks_model={model_type}_chan={chans}_diameter={diameter}_minsize={minsize}_mask={mask}_flow={flow}.tif'\n",
    "# for f in Path(rootdir).glob('*/DIC_masks.tif'):\n",
    "#     f = Path(str(f).replace('grgb.tif', 'DIC_masks.tif'))\n",
    "#     Path(f).unlink(missing_ok=True)\n",
    "#     Path(f).symlink_to(targetmaskfile)"
   ],
   "id": "ad180cd837558b38",
   "outputs": [
    {
     "name": "stdout",
     "output_type": "stream",
     "text": [
      "/Users/adele/PycharmProjects/Ecoli_smFISH/tests/exp16/output/MG1655_GLY-lowOD-2nd_16/DIC_masks.tif\n",
      "/Users/adele/PycharmProjects/Ecoli_smFISH/tests/exp16/output/MG1655_GLY-lowOD-2nd_17/DIC_masks.tif\n",
      "/Users/adele/PycharmProjects/Ecoli_smFISH/tests/exp16/output/MG1655_GLU_OD_0.3_left_02/DIC_masks.tif\n",
      "/Users/adele/PycharmProjects/Ecoli_smFISH/tests/exp16/output/MG1655_GLU_OD_0.3_left_03/DIC_masks.tif\n",
      "/Users/adele/PycharmProjects/Ecoli_smFISH/tests/exp16/output/MG1655_GAL-lowOD-2nd_05/DIC_masks.tif\n",
      "/Users/adele/PycharmProjects/Ecoli_smFISH/tests/exp16/output/MG1655_MAN_OD_0.3_left_08/DIC_masks.tif\n",
      "/Users/adele/PycharmProjects/Ecoli_smFISH/tests/exp16/output/MG1655_MAN_OD_0.3_left_07/DIC_masks.tif\n",
      "/Users/adele/PycharmProjects/Ecoli_smFISH/tests/exp16/output/MG1655_LB_fixed2806_hybed1906_left_03/DIC_masks.tif\n",
      "/Users/adele/PycharmProjects/Ecoli_smFISH/tests/exp16/output/MG1655_LB_fixed2806_hybed1906_left_05/DIC_masks.tif\n",
      "/Users/adele/PycharmProjects/Ecoli_smFISH/tests/exp16/output/MG1655_GAL-lowOD-2nd_06/DIC_masks.tif\n"
     ]
    }
   ],
   "execution_count": 89
  },
  {
   "metadata": {
    "ExecuteTime": {
     "end_time": "2024-11-04T09:46:59.805060Z",
     "start_time": "2024-11-04T09:46:59.798342Z"
    }
   },
   "cell_type": "code",
   "source": [
    "# pick a model for DAPI masks\n",
    "#\n",
    "model_type = 'nuclei'\n",
    "chans = '[1,0]'\n",
    "minsize = '0'\n",
    "mask = '0.0'\n",
    "flow = '0.0'\n",
    "diameter = '0'\n",
    "\n",
    "targetmaskfile = f'DIC_masks_model={model_type}_chan={chans}_diameter={diameter}_minsize={minsize}_mask={mask}_flow={flow}.tif'\n",
    "for f in Path(rootdir).glob('*/DIC_masks.tif'):\n",
    "    Path(f).unlink(missing_ok=True)\n",
    "    Path(f).symlink_to(targetmaskfile)\n"
   ],
   "id": "ded56f3c5aa83e25",
   "outputs": [],
   "execution_count": 88
  },
  {
   "metadata": {
    "ExecuteTime": {
     "end_time": "2024-11-03T18:11:01.970812Z",
     "start_time": "2024-11-03T18:11:01.964450Z"
    }
   },
   "cell_type": "code",
   "source": [
    "from cellpose_omni import models\n",
    "# from cellpose_omni.core import use_gpu\n",
    "from omnipose.gpu import use_gpu\n",
    "# This checks to see if you have set up your GPU properly.\n",
    "# CPU performance is a lot slower, but not a problem if you \n",
    "# are only processing a few images.\n",
    "use_GPU = use_gpu()\n",
    "\n",
    "from cellpose_omni.models import MODEL_NAMES\n",
    "print(MODEL_NAMES)"
   ],
   "id": "dc8f4ad3620f8a93",
   "outputs": [
    {
     "name": "stdout",
     "output_type": "stream",
     "text": [
      "['bact_phase_omni', 'bact_fluor_omni', 'worm_omni', 'worm_bact_omni', 'worm_high_res_omni', 'cyto2_omni', 'plant_omni', 'bact_phase_cp', 'bact_fluor_cp', 'plant_cp', 'worm_cp', 'cyto', 'nuclei', 'cyto2']\n"
     ]
    }
   ],
   "execution_count": 28
  },
  {
   "metadata": {},
   "cell_type": "markdown",
   "source": [
    "### Nuclei \n",
    "- does not work here\n",
    "- works in script"
   ],
   "id": "dea5d5cb63fcf62"
  },
  {
   "metadata": {
    "ExecuteTime": {
     "end_time": "2024-11-03T19:48:26.846069Z",
     "start_time": "2024-11-03T19:47:47.842793Z"
    }
   },
   "cell_type": "code",
   "source": [
    "model_type = \"nuclei\"\n",
    "model = models.CellposeModel(gpu=use_GPU, model_type=model_type)\n",
    "chans = [0, 0]\n",
    "\n",
    "min_size = 10\n",
    "\n",
    "params = {'channels': chans, # always define this with the model\n",
    "          'rescale': None, # upscale or downscale your images, None = no rescaling\n",
    "          'mask_threshold': 0.0, # erode or dilate masks with higher or lower values between -5 and 5\n",
    "          'flow_threshold': 0.0,\n",
    "          'min_size': min_size,\n",
    "          'diameter': 0.0,\n",
    "          'invert': False,\n",
    "          'transparency': True, # transparency in flow output\n",
    "          'omni': True, # we can turn off Omnipose mask reconstruction, not advised\n",
    "          'cluster': True, # use DBSCAN clustering\n",
    "          'resample': True, # whether or not to run dynamics on rescaled grid or original grid\n",
    "          'verbose': False, # turn on if you want to see more output\n",
    "          'tile': False, # average the outputs from flipped (augmented) images; slower, usually not needed\n",
    "          'niter': None, # default None lets Omnipose calculate # of Euler iterations (usually <20) but you can tune it for over/under segmentation\n",
    "          'augment': False, # Can optionally rotate the image and average network outputs, usually not needed\n",
    "          'affinity_seg': False, # new feature, stay tuned...\n",
    "         }\n",
    "\n",
    "rootdir = '/Users/adele/PycharmProjects/Ecoli_smFISH/tests/exp16/output'\n",
    "files = Path(rootdir).glob('*/DAPI_max_proj.tif')\n",
    "# stop_after = 1\n",
    "imgs = [io.imread(f) for f in files]\n",
    "stop_after = len(imgs)\n",
    "masks, flows, styles = model.eval(imgs[:stop_after], **params)"
   ],
   "id": "1760815036984e6b",
   "outputs": [
    {
     "name": "stdout",
     "output_type": "stream",
     "text": [
      "\u001B[38;5;78m2024-11-03 20:47:47,844\t[INFO]                                   __init__....()\t line 432\t>>nuclei<< model set to be used\u001B[0m\n",
      "\u001B[38;5;74m2024-11-03 20:47:47,847\t[INFO]     cellpose_omni/core.py         assi...evice()\t line  67\tUsing GPU.\u001B[0m\n",
      "\u001B[38;5;74m2024-11-03 20:47:47,925\t[INFO]                                   __init__....()\t line 163\tu-net config: ([2, 32, 64, 128, 256], 3, 2)\u001B[0m\n"
     ]
    },
    {
     "data": {
      "text/plain": [
       "  0%|          | 0/10 [00:00<?, ?it/s]"
      ],
      "application/vnd.jupyter.widget-view+json": {
       "version_major": 2,
       "version_minor": 0,
       "model_id": "0782003ed47f497fb4ebef513641925e"
      }
     },
     "metadata": {},
     "output_type": "display_data"
    }
   ],
   "execution_count": 49
  },
  {
   "metadata": {
    "ExecuteTime": {
     "end_time": "2024-11-03T19:49:14.082335Z",
     "start_time": "2024-11-03T19:49:13.925588Z"
    }
   },
   "cell_type": "code",
   "source": [
    "# save the masks with channel information\n",
    "files = Path(rootdir).glob('*/grgb.npy')\n",
    "filelist = list(files)\n",
    "for f, m in zip(filelist, masks):\n",
    "    maskfile = Path(f).parent / f'DIC_masks_model={model_type}_chan={str(params[\"channels\"]).replace(\" \", \"\")}_diameter={params[\"diameter\"]}_minsize={params[\"min_size\"]}_mask={params[\"mask_threshold\"]}_flow={params[\"flow_threshold\"]}.tif'\n",
    "    io.imsave(maskfile, m)"
   ],
   "id": "f7338b531577aed1",
   "outputs": [
    {
     "name": "stderr",
     "output_type": "stream",
     "text": [
      "/var/folders/pp/cdyfs0g13j3_15mc99_0nfmh0000gn/T/ipykernel_8315/3153628565.py:6: UserWarning: /Users/adele/PycharmProjects/Ecoli_smFISH/tests/exp16/output/MG1655_GLY-lowOD-2nd_16/DAPI_masks_model=nuclei_chan=[0,0]_minsize=10_maskth=0.0.tif is a low contrast image\n",
      "  io.imsave(maskfile, m)\n",
      "/var/folders/pp/cdyfs0g13j3_15mc99_0nfmh0000gn/T/ipykernel_8315/3153628565.py:6: UserWarning: /Users/adele/PycharmProjects/Ecoli_smFISH/tests/exp16/output/MG1655_GLY-lowOD-2nd_17/DAPI_masks_model=nuclei_chan=[0,0]_minsize=10_maskth=0.0.tif is a low contrast image\n",
      "  io.imsave(maskfile, m)\n",
      "/var/folders/pp/cdyfs0g13j3_15mc99_0nfmh0000gn/T/ipykernel_8315/3153628565.py:6: UserWarning: /Users/adele/PycharmProjects/Ecoli_smFISH/tests/exp16/output/MG1655_GLU_OD_0.3_left_02/DAPI_masks_model=nuclei_chan=[0,0]_minsize=10_maskth=0.0.tif is a low contrast image\n",
      "  io.imsave(maskfile, m)\n",
      "/var/folders/pp/cdyfs0g13j3_15mc99_0nfmh0000gn/T/ipykernel_8315/3153628565.py:6: UserWarning: /Users/adele/PycharmProjects/Ecoli_smFISH/tests/exp16/output/MG1655_GLU_OD_0.3_left_03/DAPI_masks_model=nuclei_chan=[0,0]_minsize=10_maskth=0.0.tif is a low contrast image\n",
      "  io.imsave(maskfile, m)\n",
      "/var/folders/pp/cdyfs0g13j3_15mc99_0nfmh0000gn/T/ipykernel_8315/3153628565.py:6: UserWarning: /Users/adele/PycharmProjects/Ecoli_smFISH/tests/exp16/output/MG1655_GAL-lowOD-2nd_05/DAPI_masks_model=nuclei_chan=[0,0]_minsize=10_maskth=0.0.tif is a low contrast image\n",
      "  io.imsave(maskfile, m)\n",
      "/var/folders/pp/cdyfs0g13j3_15mc99_0nfmh0000gn/T/ipykernel_8315/3153628565.py:6: UserWarning: /Users/adele/PycharmProjects/Ecoli_smFISH/tests/exp16/output/MG1655_MAN_OD_0.3_left_08/DAPI_masks_model=nuclei_chan=[0,0]_minsize=10_maskth=0.0.tif is a low contrast image\n",
      "  io.imsave(maskfile, m)\n",
      "/var/folders/pp/cdyfs0g13j3_15mc99_0nfmh0000gn/T/ipykernel_8315/3153628565.py:6: UserWarning: /Users/adele/PycharmProjects/Ecoli_smFISH/tests/exp16/output/MG1655_MAN_OD_0.3_left_07/DAPI_masks_model=nuclei_chan=[0,0]_minsize=10_maskth=0.0.tif is a low contrast image\n",
      "  io.imsave(maskfile, m)\n",
      "/var/folders/pp/cdyfs0g13j3_15mc99_0nfmh0000gn/T/ipykernel_8315/3153628565.py:6: UserWarning: /Users/adele/PycharmProjects/Ecoli_smFISH/tests/exp16/output/MG1655_LB_fixed2806_hybed1906_left_03/DAPI_masks_model=nuclei_chan=[0,0]_minsize=10_maskth=0.0.tif is a low contrast image\n",
      "  io.imsave(maskfile, m)\n",
      "/var/folders/pp/cdyfs0g13j3_15mc99_0nfmh0000gn/T/ipykernel_8315/3153628565.py:6: UserWarning: /Users/adele/PycharmProjects/Ecoli_smFISH/tests/exp16/output/MG1655_LB_fixed2806_hybed1906_left_05/DAPI_masks_model=nuclei_chan=[0,0]_minsize=10_maskth=0.0.tif is a low contrast image\n",
      "  io.imsave(maskfile, m)\n",
      "/var/folders/pp/cdyfs0g13j3_15mc99_0nfmh0000gn/T/ipykernel_8315/3153628565.py:6: UserWarning: /Users/adele/PycharmProjects/Ecoli_smFISH/tests/exp16/output/MG1655_GAL-lowOD-2nd_06/DAPI_masks_model=nuclei_chan=[0,0]_minsize=10_maskth=0.0.tif is a low contrast image\n",
      "  io.imsave(maskfile, m)\n"
     ]
    }
   ],
   "execution_count": 50
  },
  {
   "metadata": {},
   "cell_type": "markdown",
   "source": "### Cells: cyto2 with only DIC as input",
   "id": "4c76c0d28bae2f0c"
  },
  {
   "metadata": {
    "ExecuteTime": {
     "end_time": "2024-11-03T18:20:40.910602Z",
     "start_time": "2024-11-03T18:19:58.069007Z"
    }
   },
   "cell_type": "code",
   "source": [
    "model_type = \"cyto2\"\n",
    "model = models.CellposeModel(gpu=use_GPU, model_type=model_type)\n",
    "chans = [2, 0]\n",
    "min_size = 200\n",
    "\n",
    "params = {'channels': chans, # always define this with the model\n",
    "          'rescale': None, # upscale or downscale your images, None = no rescaling\n",
    "          'mask_threshold': 0.0, # erode or dilate masks with higher or lower values between -5 and 5\n",
    "          'flow_threshold': 0.0,\n",
    "          'min_size': min_size,\n",
    "          'diameter': 0.0,\n",
    "          'invert': False,\n",
    "          'transparency': True, # transparency in flow output\n",
    "          'omni': True, # we can turn off Omnipose mask reconstruction, not advised\n",
    "          'cluster': True, # use DBSCAN clustering\n",
    "          'resample': True, # whether or not to run dynamics on rescaled grid or original grid\n",
    "          'verbose': False, # turn on if you want to see more output\n",
    "          'tile': False, # average the outputs from flipped (augmented) images; slower, usually not needed\n",
    "          'niter': None, # default None lets Omnipose calculate # of Euler iterations (usually <20) but you can tune it for over/under segmentation\n",
    "          'augment': False, # Can optionally rotate the image and average network outputs, usually not needed\n",
    "          'affinity_seg': False, # new feature, stay tuned...\n",
    "         }\n",
    "\n",
    "rootdir = '/Users/adele/PycharmProjects/Ecoli_smFISH/tests/exp16/output'\n",
    "files = Path(rootdir).glob('*/grgb.npy')\n",
    "# stop_after = 1\n",
    "imgs = [np.load(f) for f in files]\n",
    "stop_after = len(imgs)\n",
    "masks, flows, styles = model.eval(imgs[:stop_after], **params)"
   ],
   "id": "241f685eeabf3596",
   "outputs": [
    {
     "name": "stdout",
     "output_type": "stream",
     "text": [
      "\u001B[38;5;78m2024-11-03 19:19:58,071\t[INFO]     cellpose_omni/models.py                   \t line 432\t>>cyto2<< model set to be used\u001B[0m\n",
      "\u001B[38;5;74m2024-11-03 19:19:58,079\t[INFO]     cellpose_omni/core.py         assi...evice()\t line  67\tUsing GPU.\u001B[0m\n",
      "\u001B[38;5;74m2024-11-03 19:19:58,159\t[INFO]                                   __init__....()\t line 163\tu-net config: ([2, 32, 64, 128, 256], 3, 2)\u001B[0m\n"
     ]
    },
    {
     "data": {
      "text/plain": [
       "  0%|          | 0/10 [00:00<?, ?it/s]"
      ],
      "application/vnd.jupyter.widget-view+json": {
       "version_major": 2,
       "version_minor": 0,
       "model_id": "61225649243d4c1eb9423be7aaebeea8"
      }
     },
     "metadata": {},
     "output_type": "display_data"
    }
   ],
   "execution_count": 39
  },
  {
   "metadata": {
    "ExecuteTime": {
     "end_time": "2024-11-03T18:21:47.485027Z",
     "start_time": "2024-11-03T18:21:47.329712Z"
    }
   },
   "cell_type": "code",
   "source": [
    "# save the masks with channel information\n",
    "files = Path(rootdir).glob('*/grgb.npy')\n",
    "filelist = list(files)\n",
    "ch = str(chans)\n",
    "ch = re.sub(' ', '', ch)\n",
    "for f, m in zip(filelist, masks):\n",
    "    maskfile = Path(f).parent / f'DIC_masks_model={model_type}_chan={str(params[\"channels\"]).replace(\" \", \"\")}_diameter={params[\"diameter\"]}_minsize={params[\"min_size\"]}_mask={params[\"mask_threshold\"]}_flow={params[\"flow_threshold\"]}.tif'\n",
    "    # print(f, maskfile)\n",
    "    io.imsave(maskfile, m)"
   ],
   "id": "e39dc25309f6a61e",
   "outputs": [
    {
     "name": "stderr",
     "output_type": "stream",
     "text": [
      "/var/folders/pp/cdyfs0g13j3_15mc99_0nfmh0000gn/T/ipykernel_8315/2646462956.py:9: UserWarning: /Users/adele/PycharmProjects/Ecoli_smFISH/tests/exp16/output/MG1655_GLY-lowOD-2nd_16/DIC_masks_model=cyto2_chan=[2,0]_minsize=200_maskth=0.0.tif is a low contrast image\n",
      "  io.imsave(maskfile, m)\n",
      "/var/folders/pp/cdyfs0g13j3_15mc99_0nfmh0000gn/T/ipykernel_8315/2646462956.py:9: UserWarning: /Users/adele/PycharmProjects/Ecoli_smFISH/tests/exp16/output/MG1655_GLY-lowOD-2nd_17/DIC_masks_model=cyto2_chan=[2,0]_minsize=200_maskth=0.0.tif is a low contrast image\n",
      "  io.imsave(maskfile, m)\n",
      "/var/folders/pp/cdyfs0g13j3_15mc99_0nfmh0000gn/T/ipykernel_8315/2646462956.py:9: UserWarning: /Users/adele/PycharmProjects/Ecoli_smFISH/tests/exp16/output/MG1655_GLU_OD_0.3_left_02/DIC_masks_model=cyto2_chan=[2,0]_minsize=200_maskth=0.0.tif is a low contrast image\n",
      "  io.imsave(maskfile, m)\n",
      "/var/folders/pp/cdyfs0g13j3_15mc99_0nfmh0000gn/T/ipykernel_8315/2646462956.py:9: UserWarning: /Users/adele/PycharmProjects/Ecoli_smFISH/tests/exp16/output/MG1655_GLU_OD_0.3_left_03/DIC_masks_model=cyto2_chan=[2,0]_minsize=200_maskth=0.0.tif is a low contrast image\n",
      "  io.imsave(maskfile, m)\n",
      "/var/folders/pp/cdyfs0g13j3_15mc99_0nfmh0000gn/T/ipykernel_8315/2646462956.py:9: UserWarning: /Users/adele/PycharmProjects/Ecoli_smFISH/tests/exp16/output/MG1655_GAL-lowOD-2nd_05/DIC_masks_model=cyto2_chan=[2,0]_minsize=200_maskth=0.0.tif is a low contrast image\n",
      "  io.imsave(maskfile, m)\n",
      "/var/folders/pp/cdyfs0g13j3_15mc99_0nfmh0000gn/T/ipykernel_8315/2646462956.py:9: UserWarning: /Users/adele/PycharmProjects/Ecoli_smFISH/tests/exp16/output/MG1655_MAN_OD_0.3_left_08/DIC_masks_model=cyto2_chan=[2,0]_minsize=200_maskth=0.0.tif is a low contrast image\n",
      "  io.imsave(maskfile, m)\n",
      "/var/folders/pp/cdyfs0g13j3_15mc99_0nfmh0000gn/T/ipykernel_8315/2646462956.py:9: UserWarning: /Users/adele/PycharmProjects/Ecoli_smFISH/tests/exp16/output/MG1655_MAN_OD_0.3_left_07/DIC_masks_model=cyto2_chan=[2,0]_minsize=200_maskth=0.0.tif is a low contrast image\n",
      "  io.imsave(maskfile, m)\n",
      "/var/folders/pp/cdyfs0g13j3_15mc99_0nfmh0000gn/T/ipykernel_8315/2646462956.py:9: UserWarning: /Users/adele/PycharmProjects/Ecoli_smFISH/tests/exp16/output/MG1655_LB_fixed2806_hybed1906_left_03/DIC_masks_model=cyto2_chan=[2,0]_minsize=200_maskth=0.0.tif is a low contrast image\n",
      "  io.imsave(maskfile, m)\n",
      "/var/folders/pp/cdyfs0g13j3_15mc99_0nfmh0000gn/T/ipykernel_8315/2646462956.py:9: UserWarning: /Users/adele/PycharmProjects/Ecoli_smFISH/tests/exp16/output/MG1655_LB_fixed2806_hybed1906_left_05/DIC_masks_model=cyto2_chan=[2,0]_minsize=200_maskth=0.0.tif is a low contrast image\n",
      "  io.imsave(maskfile, m)\n",
      "/var/folders/pp/cdyfs0g13j3_15mc99_0nfmh0000gn/T/ipykernel_8315/2646462956.py:9: UserWarning: /Users/adele/PycharmProjects/Ecoli_smFISH/tests/exp16/output/MG1655_GAL-lowOD-2nd_06/DIC_masks_model=cyto2_chan=[2,0]_minsize=200_maskth=0.0.tif is a low contrast image\n",
      "  io.imsave(maskfile, m)\n"
     ]
    }
   ],
   "execution_count": 40
  },
  {
   "metadata": {},
   "cell_type": "markdown",
   "source": "### Cells: cyto2 with DIC and DAPI as input",
   "id": "2cf525ad87040b3"
  },
  {
   "metadata": {
    "ExecuteTime": {
     "end_time": "2024-11-03T18:28:09.953082Z",
     "start_time": "2024-11-03T18:27:29.751217Z"
    }
   },
   "cell_type": "code",
   "source": [
    "model_type = \"cyto2\"\n",
    "model = models.CellposeModel(gpu=use_GPU, model_type=model_type)\n",
    "chans = [2, 3]\n",
    "min_size = 200\n",
    "\n",
    "params = {'channels': chans, # always define this with the model\n",
    "          'rescale': None, # upscale or downscale your images, None = no rescaling\n",
    "          'mask_threshold': 0.0, # erode or dilate masks with higher or lower values between -5 and 5\n",
    "          'flow_threshold': 0.0,\n",
    "          'min_size': min_size,\n",
    "          'diameter': 0.0,\n",
    "          'invert': False,\n",
    "          'transparency': True, # transparency in flow output\n",
    "          'omni': True, # we can turn off Omnipose mask reconstruction, not advised\n",
    "          'cluster': True, # use DBSCAN clustering\n",
    "          'resample': True, # whether or not to run dynamics on rescaled grid or original grid\n",
    "          'verbose': False, # turn on if you want to see more output\n",
    "          'tile': False, # average the outputs from flipped (augmented) images; slower, usually not needed\n",
    "          'niter': None, # default None lets Omnipose calculate # of Euler iterations (usually <20) but you can tune it for over/under segmentation\n",
    "          'augment': False, # Can optionally rotate the image and average network outputs, usually not needed\n",
    "          'affinity_seg': False, # new feature, stay tuned...\n",
    "         }\n",
    "\n",
    "rootdir = '/Users/adele/PycharmProjects/Ecoli_smFISH/tests/exp16/output'\n",
    "files = Path(rootdir).glob('*/grgb.npy')\n",
    "# stop_after = 1\n",
    "imgs = [np.load(f) for f in files]\n",
    "stop_after = len(imgs)\n",
    "masks, flows, styles = model.eval(imgs[:stop_after], **params)"
   ],
   "id": "8739c8bcd0ea3e85",
   "outputs": [
    {
     "name": "stdout",
     "output_type": "stream",
     "text": [
      "\u001B[38;5;78m2024-11-03 19:27:29,754\t[INFO]     cellpose_omni/models.py                   \t line 432\t>>cyto2<< model set to be used\u001B[0m\n",
      "\u001B[38;5;74m2024-11-03 19:27:29,756\t[INFO]     cellpose_omni/core.py         assi...evice()\t line  67\tUsing GPU.\u001B[0m\n",
      "\u001B[38;5;74m2024-11-03 19:27:29,845\t[INFO]                                   __init__....()\t line 163\tu-net config: ([2, 32, 64, 128, 256], 3, 2)\u001B[0m\n"
     ]
    },
    {
     "data": {
      "text/plain": [
       "  0%|          | 0/10 [00:00<?, ?it/s]"
      ],
      "application/vnd.jupyter.widget-view+json": {
       "version_major": 2,
       "version_minor": 0,
       "model_id": "ea27d86e6363405a9db4d66d652b97ce"
      }
     },
     "metadata": {},
     "output_type": "display_data"
    }
   ],
   "execution_count": 41
  },
  {
   "metadata": {
    "ExecuteTime": {
     "end_time": "2024-11-03T18:28:17.766821Z",
     "start_time": "2024-11-03T18:28:17.614734Z"
    }
   },
   "cell_type": "code",
   "source": [
    "# save the masks with channel information\n",
    "files = Path(rootdir).glob('*/grgb.npy')\n",
    "filelist = list(files)\n",
    "\n",
    "for f, m in zip(filelist, masks):\n",
    "    maskfile = Path(f).parent / f'DIC_masks_model={model_type}_chan={str(params[\"channels\"]).replace(\" \", \"\")}_diameter={params[\"diameter\"]}_minsize={params[\"min_size\"]}_mask={params[\"mask_threshold\"]}_flow={params[\"flow_threshold\"]}.tif'\n",
    "    io.imsave(maskfile, m)"
   ],
   "id": "b78278793989e377",
   "outputs": [
    {
     "name": "stderr",
     "output_type": "stream",
     "text": [
      "/var/folders/pp/cdyfs0g13j3_15mc99_0nfmh0000gn/T/ipykernel_8315/2646462956.py:9: UserWarning: /Users/adele/PycharmProjects/Ecoli_smFISH/tests/exp16/output/MG1655_GLY-lowOD-2nd_16/DIC_masks_model=cyto2_chan=[2,3]_minsize=200_maskth=0.0.tif is a low contrast image\n",
      "  io.imsave(maskfile, m)\n",
      "/var/folders/pp/cdyfs0g13j3_15mc99_0nfmh0000gn/T/ipykernel_8315/2646462956.py:9: UserWarning: /Users/adele/PycharmProjects/Ecoli_smFISH/tests/exp16/output/MG1655_GLY-lowOD-2nd_17/DIC_masks_model=cyto2_chan=[2,3]_minsize=200_maskth=0.0.tif is a low contrast image\n",
      "  io.imsave(maskfile, m)\n",
      "/var/folders/pp/cdyfs0g13j3_15mc99_0nfmh0000gn/T/ipykernel_8315/2646462956.py:9: UserWarning: /Users/adele/PycharmProjects/Ecoli_smFISH/tests/exp16/output/MG1655_GLU_OD_0.3_left_02/DIC_masks_model=cyto2_chan=[2,3]_minsize=200_maskth=0.0.tif is a low contrast image\n",
      "  io.imsave(maskfile, m)\n",
      "/var/folders/pp/cdyfs0g13j3_15mc99_0nfmh0000gn/T/ipykernel_8315/2646462956.py:9: UserWarning: /Users/adele/PycharmProjects/Ecoli_smFISH/tests/exp16/output/MG1655_GLU_OD_0.3_left_03/DIC_masks_model=cyto2_chan=[2,3]_minsize=200_maskth=0.0.tif is a low contrast image\n",
      "  io.imsave(maskfile, m)\n",
      "/var/folders/pp/cdyfs0g13j3_15mc99_0nfmh0000gn/T/ipykernel_8315/2646462956.py:9: UserWarning: /Users/adele/PycharmProjects/Ecoli_smFISH/tests/exp16/output/MG1655_GAL-lowOD-2nd_05/DIC_masks_model=cyto2_chan=[2,3]_minsize=200_maskth=0.0.tif is a low contrast image\n",
      "  io.imsave(maskfile, m)\n",
      "/var/folders/pp/cdyfs0g13j3_15mc99_0nfmh0000gn/T/ipykernel_8315/2646462956.py:9: UserWarning: /Users/adele/PycharmProjects/Ecoli_smFISH/tests/exp16/output/MG1655_MAN_OD_0.3_left_08/DIC_masks_model=cyto2_chan=[2,3]_minsize=200_maskth=0.0.tif is a low contrast image\n",
      "  io.imsave(maskfile, m)\n",
      "/var/folders/pp/cdyfs0g13j3_15mc99_0nfmh0000gn/T/ipykernel_8315/2646462956.py:9: UserWarning: /Users/adele/PycharmProjects/Ecoli_smFISH/tests/exp16/output/MG1655_MAN_OD_0.3_left_07/DIC_masks_model=cyto2_chan=[2,3]_minsize=200_maskth=0.0.tif is a low contrast image\n",
      "  io.imsave(maskfile, m)\n",
      "/var/folders/pp/cdyfs0g13j3_15mc99_0nfmh0000gn/T/ipykernel_8315/2646462956.py:9: UserWarning: /Users/adele/PycharmProjects/Ecoli_smFISH/tests/exp16/output/MG1655_LB_fixed2806_hybed1906_left_03/DIC_masks_model=cyto2_chan=[2,3]_minsize=200_maskth=0.0.tif is a low contrast image\n",
      "  io.imsave(maskfile, m)\n",
      "/var/folders/pp/cdyfs0g13j3_15mc99_0nfmh0000gn/T/ipykernel_8315/2646462956.py:9: UserWarning: /Users/adele/PycharmProjects/Ecoli_smFISH/tests/exp16/output/MG1655_LB_fixed2806_hybed1906_left_05/DIC_masks_model=cyto2_chan=[2,3]_minsize=200_maskth=0.0.tif is a low contrast image\n",
      "  io.imsave(maskfile, m)\n",
      "/var/folders/pp/cdyfs0g13j3_15mc99_0nfmh0000gn/T/ipykernel_8315/2646462956.py:9: UserWarning: /Users/adele/PycharmProjects/Ecoli_smFISH/tests/exp16/output/MG1655_GAL-lowOD-2nd_06/DIC_masks_model=cyto2_chan=[2,3]_minsize=200_maskth=0.0.tif is a low contrast image\n",
      "  io.imsave(maskfile, m)\n"
     ]
    }
   ],
   "execution_count": 42
  },
  {
   "metadata": {},
   "cell_type": "markdown",
   "source": "",
   "id": "6afa114a9ac8ad4"
  },
  {
   "metadata": {},
   "cell_type": "markdown",
   "source": "### Cells: cyto2_omni with only DIC as input",
   "id": "ffcaa3c0eee8182d"
  },
  {
   "metadata": {
    "ExecuteTime": {
     "end_time": "2024-11-03T18:29:59.786362Z",
     "start_time": "2024-11-03T18:29:30.504273Z"
    }
   },
   "cell_type": "code",
   "source": [
    "model_type = \"cyto2_omni\"\n",
    "model = models.CellposeModel(gpu=use_GPU, model_type=model_type)\n",
    "chans = [1, 0]\n",
    "min_size = 200\n",
    "\n",
    "params = {'channels': chans, # always define this with the model\n",
    "          'rescale': None, # upscale or downscale your images, None = no rescaling\n",
    "          'mask_threshold': 0.0, # erode or dilate masks with higher or lower values between -5 and 5\n",
    "          'flow_threshold': 0.0,\n",
    "          'min_size': min_size,\n",
    "          'diameter': 0.0,\n",
    "          'invert': False,\n",
    "          'transparency': True, # transparency in flow output\n",
    "          'omni': True, # we can turn off Omnipose mask reconstruction, not advised\n",
    "          'cluster': True, # use DBSCAN clustering\n",
    "          'resample': True, # whether or not to run dynamics on rescaled grid or original grid\n",
    "          'verbose': False, # turn on if you want to see more output\n",
    "          'tile': False, # average the outputs from flipped (augmented) images; slower, usually not needed\n",
    "          'niter': None, # default None lets Omnipose calculate # of Euler iterations (usually <20) but you can tune it for over/under segmentation\n",
    "          'augment': False, # Can optionally rotate the image and average network outputs, usually not needed\n",
    "          'affinity_seg': False, # new feature, stay tuned...\n",
    "         }\n",
    "\n",
    "rootdir = '/Users/adele/PycharmProjects/Ecoli_smFISH/tests/exp16/output'\n",
    "files = Path(rootdir).glob('*/grgb.npy')\n",
    "# stop_after = 1\n",
    "imgs = [np.load(f) for f in files]\n",
    "stop_after = len(imgs)\n",
    "masks, flows, styles = model.eval(imgs[:stop_after], **params)"
   ],
   "id": "69ad916a56d0bfd6",
   "outputs": [
    {
     "name": "stdout",
     "output_type": "stream",
     "text": [
      "\u001B[38;5;78m2024-11-03 19:29:30,508\t[INFO]     cellpose_omni/models.py                   \t line 432\t>>cyto2_omni<< model set to be used\u001B[0m\n",
      "\u001B[38;5;74m2024-11-03 19:29:30,511\t[INFO]     cellpose_omni/core.py         assi...evice()\t line  67\tUsing GPU.\u001B[0m\n",
      "\u001B[38;5;74m2024-11-03 19:29:30,604\t[INFO]                                   __init__....()\t line 163\tu-net config: ([2, 32, 64, 128, 256], 4, 2)\u001B[0m\n"
     ]
    },
    {
     "data": {
      "text/plain": [
       "  0%|          | 0/10 [00:00<?, ?it/s]"
      ],
      "application/vnd.jupyter.widget-view+json": {
       "version_major": 2,
       "version_minor": 0,
       "model_id": "3258026b83bd4f549578233b80520456"
      }
     },
     "metadata": {},
     "output_type": "display_data"
    },
    {
     "name": "stderr",
     "output_type": "stream",
     "text": [
      "/Users/adele/Projects/omnipose/cellpose_omni/transforms.py:587: UserWarning: chan to seg' has value range of ZERO\n",
      "  warnings.warn(\"chan to seg' has value range of ZERO\")\n"
     ]
    },
    {
     "name": "stdout",
     "output_type": "stream",
     "text": [
      "\u001B[38;5;74m2024-11-03 19:29:34,235\t[INFO]                                   comp...masks()\t line 1618\tNo cell pixels found.\u001B[0m\n",
      "\u001B[38;5;74m2024-11-03 19:29:37,147\t[INFO]                                               \t line 1618\tNo cell pixels found.\u001B[0m\n",
      "\u001B[38;5;74m2024-11-03 19:29:40,017\t[INFO]                                               \t line 1618\tNo cell pixels found.\u001B[0m\n",
      "\u001B[38;5;74m2024-11-03 19:29:42,804\t[INFO]                                               \t line 1618\tNo cell pixels found.\u001B[0m\n",
      "\u001B[38;5;74m2024-11-03 19:29:45,574\t[INFO]                                               \t line 1618\tNo cell pixels found.\u001B[0m\n",
      "\u001B[38;5;74m2024-11-03 19:29:48,355\t[INFO]                                               \t line 1618\tNo cell pixels found.\u001B[0m\n",
      "\u001B[38;5;74m2024-11-03 19:29:51,166\t[INFO]                                               \t line 1618\tNo cell pixels found.\u001B[0m\n",
      "\u001B[38;5;74m2024-11-03 19:29:53,919\t[INFO]                                               \t line 1618\tNo cell pixels found.\u001B[0m\n",
      "\u001B[38;5;74m2024-11-03 19:29:56,777\t[INFO]                                               \t line 1618\tNo cell pixels found.\u001B[0m\n",
      "\u001B[38;5;74m2024-11-03 19:29:59,544\t[INFO]                                               \t line 1618\tNo cell pixels found.\u001B[0m\n"
     ]
    }
   ],
   "execution_count": 43
  },
  {
   "metadata": {
    "ExecuteTime": {
     "end_time": "2024-11-03T18:30:09.967286Z",
     "start_time": "2024-11-03T18:30:09.851051Z"
    }
   },
   "cell_type": "code",
   "source": [
    "# save the masks with channel information\n",
    "files = Path(rootdir).glob('*/grgb.npy')\n",
    "filelist = list(files)\n",
    "\n",
    "for f, m in zip(filelist, masks):\n",
    "    maskfile = Path(f).parent / f'DIC_masks_model={model_type}_chan={str(params[\"channels\"]).replace(\" \", \"\")}_diameter={params[\"diameter\"]}_minsize={params[\"min_size\"]}_mask={params[\"mask_threshold\"]}_flow={params[\"flow_threshold\"]}.tif'\n",
    "    io.imsave(maskfile, m)"
   ],
   "id": "f1d91b636794d7f6",
   "outputs": [
    {
     "name": "stderr",
     "output_type": "stream",
     "text": [
      "/var/folders/pp/cdyfs0g13j3_15mc99_0nfmh0000gn/T/ipykernel_8315/2646462956.py:9: UserWarning: /Users/adele/PycharmProjects/Ecoli_smFISH/tests/exp16/output/MG1655_GLY-lowOD-2nd_16/DIC_masks_model=cyto2_omni_chan=[1,0]_minsize=200_maskth=0.0.tif is a boolean image: setting True to 255 and False to 0. To silence this warning, please convert the image using img_as_ubyte.\n",
      "  io.imsave(maskfile, m)\n",
      "/var/folders/pp/cdyfs0g13j3_15mc99_0nfmh0000gn/T/ipykernel_8315/2646462956.py:9: UserWarning: /Users/adele/PycharmProjects/Ecoli_smFISH/tests/exp16/output/MG1655_GLY-lowOD-2nd_16/DIC_masks_model=cyto2_omni_chan=[1,0]_minsize=200_maskth=0.0.tif is a low contrast image\n",
      "  io.imsave(maskfile, m)\n",
      "/var/folders/pp/cdyfs0g13j3_15mc99_0nfmh0000gn/T/ipykernel_8315/2646462956.py:9: UserWarning: /Users/adele/PycharmProjects/Ecoli_smFISH/tests/exp16/output/MG1655_GLY-lowOD-2nd_17/DIC_masks_model=cyto2_omni_chan=[1,0]_minsize=200_maskth=0.0.tif is a boolean image: setting True to 255 and False to 0. To silence this warning, please convert the image using img_as_ubyte.\n",
      "  io.imsave(maskfile, m)\n",
      "/var/folders/pp/cdyfs0g13j3_15mc99_0nfmh0000gn/T/ipykernel_8315/2646462956.py:9: UserWarning: /Users/adele/PycharmProjects/Ecoli_smFISH/tests/exp16/output/MG1655_GLY-lowOD-2nd_17/DIC_masks_model=cyto2_omni_chan=[1,0]_minsize=200_maskth=0.0.tif is a low contrast image\n",
      "  io.imsave(maskfile, m)\n",
      "/var/folders/pp/cdyfs0g13j3_15mc99_0nfmh0000gn/T/ipykernel_8315/2646462956.py:9: UserWarning: /Users/adele/PycharmProjects/Ecoli_smFISH/tests/exp16/output/MG1655_GLU_OD_0.3_left_02/DIC_masks_model=cyto2_omni_chan=[1,0]_minsize=200_maskth=0.0.tif is a boolean image: setting True to 255 and False to 0. To silence this warning, please convert the image using img_as_ubyte.\n",
      "  io.imsave(maskfile, m)\n",
      "/var/folders/pp/cdyfs0g13j3_15mc99_0nfmh0000gn/T/ipykernel_8315/2646462956.py:9: UserWarning: /Users/adele/PycharmProjects/Ecoli_smFISH/tests/exp16/output/MG1655_GLU_OD_0.3_left_02/DIC_masks_model=cyto2_omni_chan=[1,0]_minsize=200_maskth=0.0.tif is a low contrast image\n",
      "  io.imsave(maskfile, m)\n",
      "/var/folders/pp/cdyfs0g13j3_15mc99_0nfmh0000gn/T/ipykernel_8315/2646462956.py:9: UserWarning: /Users/adele/PycharmProjects/Ecoli_smFISH/tests/exp16/output/MG1655_GLU_OD_0.3_left_03/DIC_masks_model=cyto2_omni_chan=[1,0]_minsize=200_maskth=0.0.tif is a boolean image: setting True to 255 and False to 0. To silence this warning, please convert the image using img_as_ubyte.\n",
      "  io.imsave(maskfile, m)\n",
      "/var/folders/pp/cdyfs0g13j3_15mc99_0nfmh0000gn/T/ipykernel_8315/2646462956.py:9: UserWarning: /Users/adele/PycharmProjects/Ecoli_smFISH/tests/exp16/output/MG1655_GLU_OD_0.3_left_03/DIC_masks_model=cyto2_omni_chan=[1,0]_minsize=200_maskth=0.0.tif is a low contrast image\n",
      "  io.imsave(maskfile, m)\n",
      "/var/folders/pp/cdyfs0g13j3_15mc99_0nfmh0000gn/T/ipykernel_8315/2646462956.py:9: UserWarning: /Users/adele/PycharmProjects/Ecoli_smFISH/tests/exp16/output/MG1655_GAL-lowOD-2nd_05/DIC_masks_model=cyto2_omni_chan=[1,0]_minsize=200_maskth=0.0.tif is a boolean image: setting True to 255 and False to 0. To silence this warning, please convert the image using img_as_ubyte.\n",
      "  io.imsave(maskfile, m)\n",
      "/var/folders/pp/cdyfs0g13j3_15mc99_0nfmh0000gn/T/ipykernel_8315/2646462956.py:9: UserWarning: /Users/adele/PycharmProjects/Ecoli_smFISH/tests/exp16/output/MG1655_GAL-lowOD-2nd_05/DIC_masks_model=cyto2_omni_chan=[1,0]_minsize=200_maskth=0.0.tif is a low contrast image\n",
      "  io.imsave(maskfile, m)\n",
      "/var/folders/pp/cdyfs0g13j3_15mc99_0nfmh0000gn/T/ipykernel_8315/2646462956.py:9: UserWarning: /Users/adele/PycharmProjects/Ecoli_smFISH/tests/exp16/output/MG1655_MAN_OD_0.3_left_08/DIC_masks_model=cyto2_omni_chan=[1,0]_minsize=200_maskth=0.0.tif is a boolean image: setting True to 255 and False to 0. To silence this warning, please convert the image using img_as_ubyte.\n",
      "  io.imsave(maskfile, m)\n",
      "/var/folders/pp/cdyfs0g13j3_15mc99_0nfmh0000gn/T/ipykernel_8315/2646462956.py:9: UserWarning: /Users/adele/PycharmProjects/Ecoli_smFISH/tests/exp16/output/MG1655_MAN_OD_0.3_left_08/DIC_masks_model=cyto2_omni_chan=[1,0]_minsize=200_maskth=0.0.tif is a low contrast image\n",
      "  io.imsave(maskfile, m)\n",
      "/var/folders/pp/cdyfs0g13j3_15mc99_0nfmh0000gn/T/ipykernel_8315/2646462956.py:9: UserWarning: /Users/adele/PycharmProjects/Ecoli_smFISH/tests/exp16/output/MG1655_MAN_OD_0.3_left_07/DIC_masks_model=cyto2_omni_chan=[1,0]_minsize=200_maskth=0.0.tif is a boolean image: setting True to 255 and False to 0. To silence this warning, please convert the image using img_as_ubyte.\n",
      "  io.imsave(maskfile, m)\n",
      "/var/folders/pp/cdyfs0g13j3_15mc99_0nfmh0000gn/T/ipykernel_8315/2646462956.py:9: UserWarning: /Users/adele/PycharmProjects/Ecoli_smFISH/tests/exp16/output/MG1655_MAN_OD_0.3_left_07/DIC_masks_model=cyto2_omni_chan=[1,0]_minsize=200_maskth=0.0.tif is a low contrast image\n",
      "  io.imsave(maskfile, m)\n",
      "/var/folders/pp/cdyfs0g13j3_15mc99_0nfmh0000gn/T/ipykernel_8315/2646462956.py:9: UserWarning: /Users/adele/PycharmProjects/Ecoli_smFISH/tests/exp16/output/MG1655_LB_fixed2806_hybed1906_left_03/DIC_masks_model=cyto2_omni_chan=[1,0]_minsize=200_maskth=0.0.tif is a boolean image: setting True to 255 and False to 0. To silence this warning, please convert the image using img_as_ubyte.\n",
      "  io.imsave(maskfile, m)\n",
      "/var/folders/pp/cdyfs0g13j3_15mc99_0nfmh0000gn/T/ipykernel_8315/2646462956.py:9: UserWarning: /Users/adele/PycharmProjects/Ecoli_smFISH/tests/exp16/output/MG1655_LB_fixed2806_hybed1906_left_03/DIC_masks_model=cyto2_omni_chan=[1,0]_minsize=200_maskth=0.0.tif is a low contrast image\n",
      "  io.imsave(maskfile, m)\n",
      "/var/folders/pp/cdyfs0g13j3_15mc99_0nfmh0000gn/T/ipykernel_8315/2646462956.py:9: UserWarning: /Users/adele/PycharmProjects/Ecoli_smFISH/tests/exp16/output/MG1655_LB_fixed2806_hybed1906_left_05/DIC_masks_model=cyto2_omni_chan=[1,0]_minsize=200_maskth=0.0.tif is a boolean image: setting True to 255 and False to 0. To silence this warning, please convert the image using img_as_ubyte.\n",
      "  io.imsave(maskfile, m)\n",
      "/var/folders/pp/cdyfs0g13j3_15mc99_0nfmh0000gn/T/ipykernel_8315/2646462956.py:9: UserWarning: /Users/adele/PycharmProjects/Ecoli_smFISH/tests/exp16/output/MG1655_LB_fixed2806_hybed1906_left_05/DIC_masks_model=cyto2_omni_chan=[1,0]_minsize=200_maskth=0.0.tif is a low contrast image\n",
      "  io.imsave(maskfile, m)\n",
      "/var/folders/pp/cdyfs0g13j3_15mc99_0nfmh0000gn/T/ipykernel_8315/2646462956.py:9: UserWarning: /Users/adele/PycharmProjects/Ecoli_smFISH/tests/exp16/output/MG1655_GAL-lowOD-2nd_06/DIC_masks_model=cyto2_omni_chan=[1,0]_minsize=200_maskth=0.0.tif is a boolean image: setting True to 255 and False to 0. To silence this warning, please convert the image using img_as_ubyte.\n",
      "  io.imsave(maskfile, m)\n",
      "/var/folders/pp/cdyfs0g13j3_15mc99_0nfmh0000gn/T/ipykernel_8315/2646462956.py:9: UserWarning: /Users/adele/PycharmProjects/Ecoli_smFISH/tests/exp16/output/MG1655_GAL-lowOD-2nd_06/DIC_masks_model=cyto2_omni_chan=[1,0]_minsize=200_maskth=0.0.tif is a low contrast image\n",
      "  io.imsave(maskfile, m)\n"
     ]
    }
   ],
   "execution_count": 44
  },
  {
   "metadata": {},
   "cell_type": "markdown",
   "source": "### Cells: cyto2_omni with DIC and DAPI as input",
   "id": "e01d37ea9dc0ae4c"
  },
  {
   "metadata": {
    "ExecuteTime": {
     "end_time": "2024-11-04T09:22:28.312588Z",
     "start_time": "2024-11-04T09:21:37.231966Z"
    }
   },
   "cell_type": "code",
   "source": [
    "model_type = \"cyto2_omni\"\n",
    "model = models.CellposeModel(gpu=use_GPU, model_type=model_type)\n",
    "chans = [1, 2]\n",
    "diameter = 35\n",
    "min_size = 0\n",
    "mask = -2\n",
    "flow = 0\n",
    "\n",
    "params = {'channels': chans, # always define this with the model\n",
    "          'rescale': None, # upscale or downscale your images, None = no rescaling\n",
    "          'mask_threshold': mask, # erode or dilate masks with higher or lower values between -5 and 5\n",
    "          'flow_threshold': flow,\n",
    "          'min_size': min_size,\n",
    "          'diameter': diameter,\n",
    "          'invert': False,\n",
    "          'transparency': True, # transparency in flow output\n",
    "          'omni': True, # we can turn off Omnipose mask reconstruction, not advised\n",
    "          'cluster': True, # use DBSCAN clustering\n",
    "          'resample': True, # whether or not to run dynamics on rescaled grid or original grid\n",
    "          'verbose': False, # turn on if you want to see more output\n",
    "          'tile': False, # average the outputs from flipped (augmented) images; slower, usually not needed\n",
    "          'niter': None, # default None lets Omnipose calculate # of Euler iterations (usually <20) but you can tune it for over/under segmentation\n",
    "          'augment': False, # Can optionally rotate the image and average network outputs, usually not needed\n",
    "          'affinity_seg': False, # new feature, stay tuned...\n",
    "         }\n",
    "\n",
    "rootdir = '/Users/adele/PycharmProjects/Ecoli_smFISH/tests/exp16/output'\n",
    "files = Path(rootdir).glob('*/grgb.npy')\n",
    "# stop_after = 1\n",
    "imgs = [np.load(f) for f in files]\n",
    "stop_after = len(imgs)\n",
    "masks, flows, styles = model.eval(imgs[:stop_after], **params)"
   ],
   "id": "be123ccd77e333d2",
   "outputs": [
    {
     "name": "stdout",
     "output_type": "stream",
     "text": [
      "\u001B[38;5;78m2024-11-04 10:21:37,238\t[INFO]     cellpose_omni/models.py                   \t line 432\t>>cyto2_omni<< model set to be used\u001B[0m\n",
      "\u001B[38;5;74m2024-11-04 10:21:37,268\t[INFO]     cellpose_omni/core.py         assi...evice()\t line  67\tUsing GPU.\u001B[0m\n",
      "\u001B[38;5;74m2024-11-04 10:21:37,531\t[INFO]                                   __init__....()\t line 163\tu-net config: ([2, 32, 64, 128, 256], 4, 2)\u001B[0m\n"
     ]
    },
    {
     "data": {
      "text/plain": [
       "  0%|          | 0/10 [00:00<?, ?it/s]"
      ],
      "application/vnd.jupyter.widget-view+json": {
       "version_major": 2,
       "version_minor": 0,
       "model_id": "0de8cf94483c4c518be08ac99083c7a5"
      }
     },
     "metadata": {},
     "output_type": "display_data"
    },
    {
     "name": "stderr",
     "output_type": "stream",
     "text": [
      "/Users/adele/Projects/omnipose/cellpose_omni/transforms.py:587: UserWarning: chan to seg' has value range of ZERO\n",
      "  warnings.warn(\"chan to seg' has value range of ZERO\")\n",
      "/Users/adele/Projects/omnipose/cellpose_omni/transforms.py:587: UserWarning: chan to seg' has value range of ZERO\n",
      "  warnings.warn(\"chan to seg' has value range of ZERO\")\n",
      "/Users/adele/Projects/omnipose/cellpose_omni/transforms.py:587: UserWarning: chan to seg' has value range of ZERO\n",
      "  warnings.warn(\"chan to seg' has value range of ZERO\")\n",
      "/Users/adele/Projects/omnipose/cellpose_omni/transforms.py:587: UserWarning: chan to seg' has value range of ZERO\n",
      "  warnings.warn(\"chan to seg' has value range of ZERO\")\n",
      "/Users/adele/Projects/omnipose/cellpose_omni/transforms.py:587: UserWarning: chan to seg' has value range of ZERO\n",
      "  warnings.warn(\"chan to seg' has value range of ZERO\")\n",
      "/Users/adele/Projects/omnipose/cellpose_omni/transforms.py:587: UserWarning: chan to seg' has value range of ZERO\n",
      "  warnings.warn(\"chan to seg' has value range of ZERO\")\n",
      "/Users/adele/Projects/omnipose/cellpose_omni/transforms.py:587: UserWarning: chan to seg' has value range of ZERO\n",
      "  warnings.warn(\"chan to seg' has value range of ZERO\")\n",
      "/Users/adele/Projects/omnipose/cellpose_omni/transforms.py:587: UserWarning: chan to seg' has value range of ZERO\n",
      "  warnings.warn(\"chan to seg' has value range of ZERO\")\n",
      "/Users/adele/Projects/omnipose/cellpose_omni/transforms.py:587: UserWarning: chan to seg' has value range of ZERO\n",
      "  warnings.warn(\"chan to seg' has value range of ZERO\")\n",
      "/Users/adele/Projects/omnipose/cellpose_omni/transforms.py:587: UserWarning: chan to seg' has value range of ZERO\n",
      "  warnings.warn(\"chan to seg' has value range of ZERO\")\n"
     ]
    }
   ],
   "execution_count": 52
  },
  {
   "metadata": {
    "ExecuteTime": {
     "end_time": "2024-11-04T09:23:53.215886Z",
     "start_time": "2024-11-04T09:23:53.021692Z"
    }
   },
   "cell_type": "code",
   "source": [
    "# save the masks with channel information\n",
    "files = Path(rootdir).glob('*/grgb.npy')\n",
    "filelist = list(files)\n",
    "\n",
    "for f, m in zip(filelist, masks):\n",
    "    maskfile = Path(f).parent / f'DIC_masks_model={model_type}_chan={str(params[\"channels\"]).replace(\" \", \"\")}_diameter={params[\"diameter\"]}_minsize={params[\"min_size\"]}_mask={params[\"mask_threshold\"]}_flow={params[\"flow_threshold\"]}.tif'\n",
    "    io.imsave(maskfile, m)"
   ],
   "id": "e53bb131bfee7c92",
   "outputs": [
    {
     "name": "stderr",
     "output_type": "stream",
     "text": [
      "/var/folders/pp/cdyfs0g13j3_15mc99_0nfmh0000gn/T/ipykernel_8315/1521786261.py:7: UserWarning: /Users/adele/PycharmProjects/Ecoli_smFISH/tests/exp16/output/MG1655_GLY-lowOD-2nd_16/DIC_masks_model=cyto2_omni_chan=[1,2]_diameter=35_minsize=0_mask=-2_flow=0.tif is a low contrast image\n",
      "  io.imsave(maskfile, m)\n",
      "/var/folders/pp/cdyfs0g13j3_15mc99_0nfmh0000gn/T/ipykernel_8315/1521786261.py:7: UserWarning: /Users/adele/PycharmProjects/Ecoli_smFISH/tests/exp16/output/MG1655_GLY-lowOD-2nd_17/DIC_masks_model=cyto2_omni_chan=[1,2]_diameter=35_minsize=0_mask=-2_flow=0.tif is a low contrast image\n",
      "  io.imsave(maskfile, m)\n",
      "/var/folders/pp/cdyfs0g13j3_15mc99_0nfmh0000gn/T/ipykernel_8315/1521786261.py:7: UserWarning: /Users/adele/PycharmProjects/Ecoli_smFISH/tests/exp16/output/MG1655_GLU_OD_0.3_left_02/DIC_masks_model=cyto2_omni_chan=[1,2]_diameter=35_minsize=0_mask=-2_flow=0.tif is a low contrast image\n",
      "  io.imsave(maskfile, m)\n",
      "/var/folders/pp/cdyfs0g13j3_15mc99_0nfmh0000gn/T/ipykernel_8315/1521786261.py:7: UserWarning: /Users/adele/PycharmProjects/Ecoli_smFISH/tests/exp16/output/MG1655_GLU_OD_0.3_left_03/DIC_masks_model=cyto2_omni_chan=[1,2]_diameter=35_minsize=0_mask=-2_flow=0.tif is a low contrast image\n",
      "  io.imsave(maskfile, m)\n",
      "/var/folders/pp/cdyfs0g13j3_15mc99_0nfmh0000gn/T/ipykernel_8315/1521786261.py:7: UserWarning: /Users/adele/PycharmProjects/Ecoli_smFISH/tests/exp16/output/MG1655_GAL-lowOD-2nd_05/DIC_masks_model=cyto2_omni_chan=[1,2]_diameter=35_minsize=0_mask=-2_flow=0.tif is a low contrast image\n",
      "  io.imsave(maskfile, m)\n",
      "/var/folders/pp/cdyfs0g13j3_15mc99_0nfmh0000gn/T/ipykernel_8315/1521786261.py:7: UserWarning: /Users/adele/PycharmProjects/Ecoli_smFISH/tests/exp16/output/MG1655_MAN_OD_0.3_left_08/DIC_masks_model=cyto2_omni_chan=[1,2]_diameter=35_minsize=0_mask=-2_flow=0.tif is a low contrast image\n",
      "  io.imsave(maskfile, m)\n",
      "/var/folders/pp/cdyfs0g13j3_15mc99_0nfmh0000gn/T/ipykernel_8315/1521786261.py:7: UserWarning: /Users/adele/PycharmProjects/Ecoli_smFISH/tests/exp16/output/MG1655_MAN_OD_0.3_left_07/DIC_masks_model=cyto2_omni_chan=[1,2]_diameter=35_minsize=0_mask=-2_flow=0.tif is a low contrast image\n",
      "  io.imsave(maskfile, m)\n",
      "/var/folders/pp/cdyfs0g13j3_15mc99_0nfmh0000gn/T/ipykernel_8315/1521786261.py:7: UserWarning: /Users/adele/PycharmProjects/Ecoli_smFISH/tests/exp16/output/MG1655_LB_fixed2806_hybed1906_left_03/DIC_masks_model=cyto2_omni_chan=[1,2]_diameter=35_minsize=0_mask=-2_flow=0.tif is a low contrast image\n",
      "  io.imsave(maskfile, m)\n",
      "/var/folders/pp/cdyfs0g13j3_15mc99_0nfmh0000gn/T/ipykernel_8315/1521786261.py:7: UserWarning: /Users/adele/PycharmProjects/Ecoli_smFISH/tests/exp16/output/MG1655_LB_fixed2806_hybed1906_left_05/DIC_masks_model=cyto2_omni_chan=[1,2]_diameter=35_minsize=0_mask=-2_flow=0.tif is a low contrast image\n",
      "  io.imsave(maskfile, m)\n",
      "/var/folders/pp/cdyfs0g13j3_15mc99_0nfmh0000gn/T/ipykernel_8315/1521786261.py:7: UserWarning: /Users/adele/PycharmProjects/Ecoli_smFISH/tests/exp16/output/MG1655_GAL-lowOD-2nd_06/DIC_masks_model=cyto2_omni_chan=[1,2]_diameter=35_minsize=0_mask=-2_flow=0.tif is a low contrast image\n",
      "  io.imsave(maskfile, m)\n"
     ]
    }
   ],
   "execution_count": 53
  },
  {
   "metadata": {},
   "cell_type": "markdown",
   "source": [
    "### Cell mask postprocessing\n",
    "\n",
    "- in: cell mask, nuclear mask\n",
    "- out: cell masks with\n",
    "  - intersect with a DAPI mask\n",
    "  - have an area > min_size\n",
    "  - have an area < max_size\n",
    "- Histograms:\n",
    "  - intensities under masks before and after\n",
    "  - cell areas before and after"
   ],
   "id": "98516f51c870620f"
  },
  {
   "metadata": {
    "ExecuteTime": {
     "end_time": "2024-11-05T12:53:33.466305Z",
     "start_time": "2024-11-05T12:53:33.462899Z"
    }
   },
   "cell_type": "code",
   "source": [
    "def remove_cell_masks_with_no_dapi(cell_masks, dapi_masks):\n",
    "    cells_to_discard = []\n",
    "    for label in np.unique(cell_masks):\n",
    "        dapi_found = False\n",
    "        cell_coordinates = np.where(cell_masks == label)\n",
    "        for y, x in zip(cell_coordinates[0], cell_coordinates[1]):\n",
    "            if dapi_masks[y, x] != 0:\n",
    "                dapi_found = True\n",
    "                break\n",
    "        if dapi_found == False:\n",
    "            cells_to_discard.append(label)\n",
    "    print(f'removing {len(cells_to_discard)} cells with no dapi signal')\n",
    "    cell_masks_dapi = copy(cell_masks)\n",
    "    cell_masks_dapi[np.isin(cell_masks, cells_to_discard)] = 0\n",
    "    return cell_masks_dapi, cells_to_discard"
   ],
   "id": "421b0ffd9d2404d8",
   "outputs": [],
   "execution_count": 331
  },
  {
   "metadata": {
    "ExecuteTime": {
     "end_time": "2024-11-05T12:35:18.327806Z",
     "start_time": "2024-11-05T12:35:17.927116Z"
    }
   },
   "cell_type": "code",
   "source": [
    "imgdir = '/Volumes/Flodrive/Florence/smFISH/analysis/20240927-LB/MG1655_LB_fixed2806_hybed1906_left_01'\n",
    "cell_masks = io.imread(Path(imgdir).joinpath('DIC_masks.tif'))\n",
    "dapi_masks = io.imread(Path(imgdir).joinpath('DAPI_masks.tif'))\n",
    "\n",
    "print(len(np.unique(cell_masks, return_counts=True)[0]))"
   ],
   "id": "3160a06b87a6ad76",
   "outputs": [
    {
     "name": "stdout",
     "output_type": "stream",
     "text": [
      "1329\n"
     ]
    }
   ],
   "execution_count": 298
  },
  {
   "metadata": {
    "ExecuteTime": {
     "end_time": "2024-11-05T12:54:00.437525Z",
     "start_time": "2024-11-05T12:53:45.532775Z"
    }
   },
   "cell_type": "code",
   "source": "cell_masks_with_dapi, discarded_by_dapi = remove_cell_masks_with_no_dapi(cell_masks, dapi_masks)",
   "id": "4bbe67cb08cbc1c5",
   "outputs": [
    {
     "name": "stdout",
     "output_type": "stream",
     "text": [
      "removing 304 cells with no dapi signal\n"
     ]
    }
   ],
   "execution_count": 332
  },
  {
   "metadata": {
    "ExecuteTime": {
     "end_time": "2024-11-05T12:54:08.415763Z",
     "start_time": "2024-11-05T12:54:08.365641Z"
    }
   },
   "cell_type": "code",
   "source": "print(len(np.unique(cell_masks_with_dapi, return_counts=True)[0]))",
   "id": "b06930041ef34e6",
   "outputs": [
    {
     "name": "stdout",
     "output_type": "stream",
     "text": [
      "1025\n"
     ]
    }
   ],
   "execution_count": 333
  },
  {
   "metadata": {
    "ExecuteTime": {
     "end_time": "2024-11-05T12:54:17.657657Z",
     "start_time": "2024-11-05T12:54:17.654428Z"
    }
   },
   "cell_type": "code",
   "source": "print(len(discarded_by_dapi))",
   "id": "7a564a807883e3fd",
   "outputs": [
    {
     "name": "stdout",
     "output_type": "stream",
     "text": [
      "304\n"
     ]
    }
   ],
   "execution_count": 334
  },
  {
   "metadata": {
    "ExecuteTime": {
     "end_time": "2024-11-05T12:35:51.765839Z",
     "start_time": "2024-11-05T12:35:51.284989Z"
    }
   },
   "cell_type": "code",
   "source": "io.imsave(Path(imgdir) / 'DIC_masks_with_dapi.tif', cell_masks_with_dapi)",
   "id": "89700ebe2a9bb9fb",
   "outputs": [
    {
     "name": "stderr",
     "output_type": "stream",
     "text": [
      "/var/folders/pp/cdyfs0g13j3_15mc99_0nfmh0000gn/T/ipykernel_8315/2635879716.py:1: UserWarning: /Volumes/Flodrive/Florence/smFISH/analysis/20240927-LB/MG1655_LB_fixed2806_hybed1906_left_01/DIC_masks_with_dapi.tif is a low contrast image\n",
      "  io.imsave(Path(imgdir) / 'DIC_masks_with_dapi.tif', cell_masks_with_dapi)\n"
     ]
    }
   ],
   "execution_count": 301
  },
  {
   "metadata": {
    "ExecuteTime": {
     "end_time": "2024-11-05T12:35:53.893093Z",
     "start_time": "2024-11-05T12:35:53.638Z"
    }
   },
   "cell_type": "code",
   "source": [
    "props = pd.DataFrame(regionprops_table(cell_masks, properties=['label', 'bbox', 'area', 'eccentricity', 'centroid']))\n",
    "props_with_dapi = pd.DataFrame(regionprops_table(cell_masks_with_dapi, properties=['label', 'bbox', 'area', 'eccentricity', 'centroid']))"
   ],
   "id": "a0cd50a46a4010e5",
   "outputs": [],
   "execution_count": 302
  },
  {
   "metadata": {
    "ExecuteTime": {
     "end_time": "2024-11-05T12:35:55.436205Z",
     "start_time": "2024-11-05T12:35:55.104580Z"
    }
   },
   "cell_type": "code",
   "source": [
    "fig, ax = plt.subplots(2, 2, figsize=(10, 6))\n",
    "sns.histplot(props, x='area', ax=ax[0][0])\n",
    "sns.histplot(props, x='eccentricity', ax=ax[0][1])\n",
    "sns.histplot(props_with_dapi, x='area', ax=ax[1][0])\n",
    "sns.histplot(props_with_dapi, x='eccentricity', ax=ax[1][1]);"
   ],
   "id": "f95c8248e42df0",
   "outputs": [
    {
     "data": {
      "text/plain": [
       "<Figure size 1000x600 with 4 Axes>"
      ],
      "image/png": "[encoded data removed]"
     },
     "metadata": {},
     "output_type": "display_data"
    }
   ],
   "execution_count": 303
  },
  {
   "metadata": {
    "ExecuteTime": {
     "end_time": "2024-11-05T14:01:46.554322Z",
     "start_time": "2024-11-05T14:01:46.447878Z"
    }
   },
   "cell_type": "code",
   "source": [
    "min_size = 500\n",
    "selected_by_area = props_with_dapi.query('area > @min_size')\n",
    "discarded_by_area = set(props_with_dapi['label']) - set(selected_by_area)\n",
    "cell_masks_area = copy(cell_masks)\n",
    "cell_masks_area[np.isin(cell_masks, list(discarded_by_area))] = 0\n",
    "len(np.unique(cell_masks)), len(np.unique(cell_masks_area))"
   ],
   "id": "d39030dfeb1933d9",
   "outputs": [
    {
     "data": {
      "text/plain": [
       "(1329, 305)"
      ]
     },
     "execution_count": 341,
     "metadata": {},
     "output_type": "execute_result"
    }
   ],
   "execution_count": 341
  },
  {
   "metadata": {
    "ExecuteTime": {
     "end_time": "2024-11-05T12:58:06.912607Z",
     "start_time": "2024-11-05T12:58:06.900707Z"
    }
   },
   "cell_type": "code",
   "outputs": [
    {
     "data": {
      "text/plain": [
       "(1024, 769, 830, 255, 194)"
      ]
     },
     "execution_count": 337,
     "metadata": {},
     "output_type": "execute_result"
    }
   ],
   "execution_count": 337,
   "source": [
    "min_eccentricity = 0.85, 1\n",
    "selected_by_eccentricity = props_with_dapi.query('area > @double_area').query('eccentricity < @min_eccentricity')['label']\n",
    "discarded_by_area = set(props_with_dapi['label']) - set(selected_by_area)\n",
    "discarded_by_eccentricity = set(props_with_dapi['label']) - set(selected_by_eccentricity)\n",
    "len(props_with_dapi['label']), len(selected_by_area), len(selected_by_eccentricity), len(discarded_by_area), len(discarded_by_eccentricity)"
   ],
   "id": "faa6c57b7b21b5db"
  },
  {
   "metadata": {
    "ExecuteTime": {
     "end_time": "2024-11-05T12:58:58.304021Z",
     "start_time": "2024-11-05T12:58:58.195743Z"
    }
   },
   "cell_type": "code",
   "source": [
    "cell_masks_area = copy(cell_masks)\n",
    "cell_masks_area[np.isin(cell_masks, list(discarded_by_area))] = 0\n",
    "len(np.unique(cell_masks)), len(np.unique(cell_masks_area))"
   ],
   "id": "6f03e7a2af698390",
   "outputs": [
    {
     "data": {
      "text/plain": [
       "(1329, 1074)"
      ]
     },
     "execution_count": 338,
     "metadata": {},
     "output_type": "execute_result"
    }
   ],
   "execution_count": 338
  },
  {
   "metadata": {
    "ExecuteTime": {
     "end_time": "2024-11-05T12:59:01.289039Z",
     "start_time": "2024-11-05T12:59:01.172882Z"
    }
   },
   "cell_type": "code",
   "source": [
    "cell_masks_eccentricity = copy(cell_masks)\n",
    "cell_masks_eccentricity[np.isin(cell_masks, list(discarded_by_eccentricity))] = 0 \n",
    "len(np.unique(cell_masks)), len(np.unique(cell_masks_eccentricity))\n"
   ],
   "id": "c472a0495ffc4996",
   "outputs": [
    {
     "data": {
      "text/plain": [
       "(1329, 1135)"
      ]
     },
     "execution_count": 339,
     "metadata": {},
     "output_type": "execute_result"
    }
   ],
   "execution_count": 339
  },
  {
   "metadata": {
    "ExecuteTime": {
     "end_time": "2024-11-05T12:59:04.794483Z",
     "start_time": "2024-11-05T12:59:04.680853Z"
    }
   },
   "cell_type": "code",
   "source": [
    "cell_masks_pp = copy(cell_masks)\n",
    "discard_labels = set(discarded_by_dapi).union(set(discarded_by_area)).union(set(discarded_by_eccentricity))\n",
    "cell_masks_pp[np.isin(cell_masks, list(discard_labels))] = 0\n",
    "len(np.unique(cell_masks)), len(np.unique(cell_masks_pp))"
   ],
   "id": "392ac52952e9bc41",
   "outputs": [
    {
     "data": {
      "text/plain": [
       "(1329, 715)"
      ]
     },
     "execution_count": 340,
     "metadata": {},
     "output_type": "execute_result"
    }
   ],
   "execution_count": 340
  },
  {
   "metadata": {
    "ExecuteTime": {
     "end_time": "2024-11-05T12:55:25.527405Z",
     "start_time": "2024-11-05T12:55:21.989658Z"
    }
   },
   "cell_type": "code",
   "source": [
    "io.imsave(Path(imgdir) / 'DIC_masks_area.tif', cell_masks_area)\n",
    "io.imsave(Path(imgdir) / 'DIC_masks_eccentricity.tif', cell_masks_eccentricity)\n",
    "io.imsave(Path(imgdir) / 'DIC_masks_pp.tif', cell_masks_pp)\n"
   ],
   "id": "26e51287a2f62ff4",
   "outputs": [
    {
     "name": "stderr",
     "output_type": "stream",
     "text": [
      "/var/folders/pp/cdyfs0g13j3_15mc99_0nfmh0000gn/T/ipykernel_8315/3680931561.py:1: UserWarning: /Volumes/Flodrive/Florence/smFISH/analysis/20240927-LB/MG1655_LB_fixed2806_hybed1906_left_01/DIC_masks_area.tif is a low contrast image\n",
      "  io.imsave(Path(imgdir) / 'DIC_masks_area.tif', cell_masks_area)\n",
      "/var/folders/pp/cdyfs0g13j3_15mc99_0nfmh0000gn/T/ipykernel_8315/3680931561.py:2: UserWarning: /Volumes/Flodrive/Florence/smFISH/analysis/20240927-LB/MG1655_LB_fixed2806_hybed1906_left_01/DIC_masks_eccentricity.tif is a low contrast image\n",
      "  io.imsave(Path(imgdir) / 'DIC_masks_eccentricity.tif', cell_masks_eccentricity)\n",
      "/var/folders/pp/cdyfs0g13j3_15mc99_0nfmh0000gn/T/ipykernel_8315/3680931561.py:3: UserWarning: /Volumes/Flodrive/Florence/smFISH/analysis/20240927-LB/MG1655_LB_fixed2806_hybed1906_left_01/DIC_masks_pp.tif is a low contrast image\n",
      "  io.imsave(Path(imgdir) / 'DIC_masks_pp.tif', cell_masks_pp)\n"
     ]
    }
   ],
   "execution_count": 336
  },
  {
   "metadata": {},
   "cell_type": "code",
   "outputs": [],
   "execution_count": null,
   "source": "",
   "id": "1833a3606c274c3f"
  }
 ],
 "metadata": {
  "kernelspec": {
   "display_name": "omnipose",
   "language": "python",
   "name": "omnipose"
  },
  "language_info": {
   "codemirror_mode": {
    "name": "ipython",
    "version": 2
   },
   "file_extension": ".py",
   "mimetype": "text/x-python",
   "name": "python",
   "nbconvert_exporter": "python",
   "pygments_lexer": "ipython2",
   "version": "2.7.6"
  }
 },
 "nbformat": 4,
 "nbformat_minor": 5
}

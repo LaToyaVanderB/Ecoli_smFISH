{
 "cells": [
  {
   "metadata": {
    "ExecuteTime": {
     "end_time": "2024-11-05T09:52:31.949211Z",
     "start_time": "2024-11-05T09:52:31.945391Z"
    }
   },
   "cell_type": "code",
   "source": [
    "import numpy as np\n",
    "import pandas as pd\n",
    "from skimage import io\n",
    "import re\n",
    "import pandas as pd\n",
    "import seaborn as sns\n",
    "from skimage.measure import regionprops_table\n",
    "from matplotlib import pyplot as plt\n",
    "from pathlib import Path\n",
    "import json"
   ],
   "id": "4e7a106d76afd8f0",
   "outputs": [],
   "execution_count": 217
  },
  {
   "metadata": {
    "ExecuteTime": {
     "end_time": "2024-11-04T09:34:27.145420Z",
     "start_time": "2024-11-04T09:34:27.139597Z"
    }
   },
   "cell_type": "code",
   "source": [
    "rootdir = '/Users/adele/PycharmProjects/Ecoli_smFISH/tests/exp16/output'\n",
    "files = Path(rootdir).glob('*/grgb.npy')\n",
    "filenames = [ f for f in files ]    \n",
    "filenames"
   ],
   "id": "a19f245baf2743dc",
   "outputs": [
    {
     "data": {
      "text/plain": [
       "[PosixPath('/Users/adele/PycharmProjects/Ecoli_smFISH/tests/exp16/output/MG1655_GLY-lowOD-2nd_16/grgb.npy'),\n",
       " PosixPath('/Users/adele/PycharmProjects/Ecoli_smFISH/tests/exp16/output/MG1655_GLY-lowOD-2nd_17/grgb.npy'),\n",
       " PosixPath('/Users/adele/PycharmProjects/Ecoli_smFISH/tests/exp16/output/MG1655_GLU_OD_0.3_left_02/grgb.npy'),\n",
       " PosixPath('/Users/adele/PycharmProjects/Ecoli_smFISH/tests/exp16/output/MG1655_GLU_OD_0.3_left_03/grgb.npy'),\n",
       " PosixPath('/Users/adele/PycharmProjects/Ecoli_smFISH/tests/exp16/output/MG1655_GAL-lowOD-2nd_05/grgb.npy'),\n",
       " PosixPath('/Users/adele/PycharmProjects/Ecoli_smFISH/tests/exp16/output/MG1655_MAN_OD_0.3_left_08/grgb.npy'),\n",
       " PosixPath('/Users/adele/PycharmProjects/Ecoli_smFISH/tests/exp16/output/MG1655_MAN_OD_0.3_left_07/grgb.npy'),\n",
       " PosixPath('/Users/adele/PycharmProjects/Ecoli_smFISH/tests/exp16/output/MG1655_LB_fixed2806_hybed1906_left_03/grgb.npy'),\n",
       " PosixPath('/Users/adele/PycharmProjects/Ecoli_smFISH/tests/exp16/output/MG1655_LB_fixed2806_hybed1906_left_05/grgb.npy'),\n",
       " PosixPath('/Users/adele/PycharmProjects/Ecoli_smFISH/tests/exp16/output/MG1655_GAL-lowOD-2nd_06/grgb.npy')]"
      ]
     },
     "execution_count": 60,
     "metadata": {},
     "output_type": "execute_result"
    }
   ],
   "execution_count": 60
  },
  {
   "metadata": {
    "ExecuteTime": {
     "end_time": "2024-11-05T10:19:10.557632Z",
     "start_time": "2024-11-05T10:19:10.526720Z"
    }
   },
   "cell_type": "code",
   "source": [
    "rootdir = '/Volumes/Flodrive/Florence/smFISH/analysis'\n",
    "for f in Path(rootdir).glob('*/config.json'):\n",
    "    config_selected = f.parent / 'config-selected.json'\n",
    "    print(f\"{f} -> {config_selected}\")\n",
    "    with open(f, 'r') as fh:\n",
    "        config = json.load(fh)\n",
    "        for exp in config['experiments']:\n",
    "            for img in exp['images']:\n",
    "                print(img['basename'])\n",
    "                img['selected'] = True\n",
    "                img['segmentation'] = { \n",
    "                    'model_type': 'cyto2',\n",
    "                    'channels': [2, 0],\n",
    "                    'diameter': 0,\n",
    "                    'mask': 0,\n",
    "                    'flow': 0.4\n",
    "                }\n",
    "        \n",
    "        with open(config_selected, 'w') as fh:\n",
    "                json.dump(config, fh)\n"
   ],
   "id": "c51e1f15b890e08",
   "outputs": [
    {
     "name": "stdout",
     "output_type": "stream",
     "text": [
      "/Volumes/Flodrive/Florence/smFISH/analysis/20241029-exp24/config.json -> /Volumes/Flodrive/Florence/smFISH/analysis/20241029-exp24/config-selected.json\n",
      "exp24-GLU-right-2_01_CY5, CY3.5 NAR, CY3, DAPI\n",
      "exp24-GLU-right-2_02_CY5, CY3.5 NAR, CY3, DAPI\n",
      "exp24-GLU-right-2_03_CY5, CY3.5 NAR, CY3, DAPI\n",
      "exp24-GLU-right-2_04_CY5, CY3.5 NAR, CY3, DAPI\n",
      "exp24-GLU-right-2_05_CY5, CY3.5 NAR, CY3, DAPI\n",
      "exp24-GLY-left_01_CY5, CY3.5 NAR, CY3, DAPI\n",
      "exp24-GLY-left_02_CY5, CY3.5 NAR, CY3, DAPI\n",
      "exp24-GLY-left_03_CY5, CY3.5 NAR, CY3, DAPI\n",
      "exp24-GLY-left_04_CY5, CY3.5 NAR, CY3, DAPI\n",
      "exp24-GLY-left_05_CY5, CY3.5 NAR, CY3, DAPI\n",
      "exp24-GLY-left_06_CY5, CY3.5 NAR, CY3, DAPI\n",
      "exp24-GLY-left_07_CY5, CY3.5 NAR, CY3, DAPI\n",
      "exp24-GLY-left_08_CY5, CY3.5 NAR, CY3, DAPI\n",
      "exp24-GLY-left_09_CY5, CY3.5 NAR, CY3, DAPI\n",
      "exp24-GLY-left_10_CY5, CY3.5 NAR, CY3, DAPI\n",
      "/Volumes/Flodrive/Florence/smFISH/analysis/20241029-exp22/config.json -> /Volumes/Flodrive/Florence/smFISH/analysis/20241029-exp22/config-selected.json\n",
      "exp22-GLU_01_CY5, CY3.5 NAR, CY3, DAPI\n",
      "exp22-GLU_02_CY5, CY3.5 NAR, CY3, DAPI\n",
      "exp22-GLU_03_CY5, CY3.5 NAR, CY3, DAPI\n",
      "exp22-GLU_04_CY5, CY3.5 NAR, CY3, DAPI\n",
      "exp22-GLU_05_CY5, CY3.5 NAR, CY3, DAPI\n",
      "exp22-GLU_06_CY5, CY3.5 NAR, CY3, DAPI\n",
      "exp22-GLU_07_CY5, CY3.5 NAR, CY3, DAPI\n",
      "exp22-GLU_08_CY5, CY3.5 NAR, CY3, DAPI\n",
      "exp22-GLU_09_CY5, CY3.5 NAR, CY3, DAPI\n",
      "exp22-GLU_10_CY5, CY3.5 NAR, CY3, DAPI\n",
      "exp22-GLY_01_CY5, CY3.5 NAR, CY3, DAPI\n",
      "exp22-GLY_02_CY5, CY3.5 NAR, CY3, DAPI\n",
      "exp22-GLY_03_CY5, CY3.5 NAR, CY3, DAPI\n",
      "exp22-GLY_04_CY5, CY3.5 NAR, CY3, DAPI\n",
      "exp22-GLY_05_CY5, CY3.5 NAR, CY3, DAPI\n",
      "exp22-GLY_06_CY5, CY3.5 NAR, CY3, DAPI\n",
      "exp22-GLY_07_CY5, CY3.5 NAR, CY3, DAPI\n",
      "exp22-GLY_08_CY5, CY3.5 NAR, CY3, DAPI\n",
      "exp22-GLY_09_CY5, CY3.5 NAR, CY3, DAPI\n",
      "exp22-GLY_10_CY5, CY3.5 NAR, CY3, DAPI\n",
      "exp22-GAL_01_CY5, CY3.5 NAR, CY3, DAPI\n",
      "exp22-GAL_02_CY5, CY3.5 NAR, CY3, DAPI\n",
      "exp22-GAL_03_CY5, CY3.5 NAR, CY3, DAPI\n",
      "exp22-GAL_04_CY5, CY3.5 NAR, CY3, DAPI\n",
      "exp22-GAL_05_CY5, CY3.5 NAR, CY3, DAPI\n",
      "exp22-GAL_06_CY5, CY3.5 NAR, CY3, DAPI\n",
      "exp22-GAL_07_CY5, CY3.5 NAR, CY3, DAPI\n",
      "exp22-GAL_08_CY5, CY3.5 NAR, CY3, DAPI\n",
      "exp22-GAL_09_CY5, CY3.5 NAR, CY3, DAPI\n",
      "exp22-GAL_10_CY5, CY3.5 NAR, CY3, DAPI\n",
      "exp22-MAN_01_CY5, CY3.5 NAR, CY3, DAPI\n",
      "exp22-MAN_02_CY5, CY3.5 NAR, CY3, DAPI\n",
      "exp22-MAN_03_CY5, CY3.5 NAR, CY3, DAPI\n",
      "exp22-MAN_04_CY5, CY3.5 NAR, CY3, DAPI\n",
      "exp22-MAN_05_CY5, CY3.5 NAR, CY3, DAPI\n",
      "exp22-MAN_06_CY5, CY3.5 NAR, CY3, DAPI\n",
      "exp22-MAN_07_CY5, CY3.5 NAR, CY3, DAPI\n",
      "exp22-MAN_08_CY5, CY3.5 NAR, CY3, DAPI\n",
      "exp22-MAN_09_CY5, CY3.5 NAR, CY3, DAPI\n",
      "exp22-MAN_10_CY5, CY3.5 NAR, CY3, DAPI\n",
      "/Volumes/Flodrive/Florence/smFISH/analysis/20241003-exp16/config.json -> /Volumes/Flodrive/Florence/smFISH/analysis/20241003-exp16/config-selected.json\n",
      "MG1655_GAL-lowOD-2nd_01_CY5, CY3.5 NAR, CY3, DAPI\n",
      "MG1655_GAL-lowOD-2nd_02_CY5, CY3.5 NAR, CY3, DAPI\n",
      "MG1655_GAL-lowOD-2nd_03_CY5, CY3.5 NAR, CY3, DAPI\n",
      "MG1655_GAL-lowOD-2nd_04_CY5, CY3.5 NAR, CY3, DAPI\n",
      "MG1655_GAL-lowOD-2nd_05_CY5, CY3.5 NAR, CY3, DAPI\n",
      "MG1655_GAL-lowOD-2nd_06_CY5, CY3.5 NAR, CY3, DAPI\n",
      "MG1655_GAL-lowOD-2nd_07_CY5, CY3.5 NAR, CY3, DAPI\n",
      "MG1655_GAL-lowOD-2nd_08_CY5, CY3.5 NAR, CY3, DAPI\n",
      "MG1655_GAL-lowOD-2nd_09_CY5, CY3.5 NAR, CY3, DAPI\n",
      "MG1655_GAL-lowOD-2nd_10_CY5, CY3.5 NAR, CY3, DAPI\n",
      "MG1655_GLY-lowOD-2nd_01_CY5, CY3.5 NAR, CY3, DAPI\n",
      "MG1655_GLY-lowOD-2nd_02_CY5, CY3.5 NAR, CY3, DAPI\n",
      "MG1655_GLY-lowOD-2nd_03_CY5, CY3.5 NAR, CY3, DAPI\n",
      "MG1655_GLY-lowOD-2nd_04_CY5, CY3.5 NAR, CY3, DAPI\n",
      "MG1655_GLY-lowOD-2nd_05_CY5, CY3.5 NAR, CY3, DAPI\n",
      "MG1655_GLY-lowOD-2nd_06_CY5, CY3.5 NAR, CY3, DAPI\n",
      "MG1655_GLY-lowOD-2nd_07_CY5, CY3.5 NAR, CY3, DAPI\n",
      "MG1655_GLY-lowOD-2nd_08_CY5, CY3.5 NAR, CY3, DAPI\n",
      "MG1655_GLY-lowOD-2nd_09_CY5, CY3.5 NAR, CY3, DAPI\n",
      "MG1655_GLY-lowOD-2nd_10_CY5, CY3.5 NAR, CY3, DAPI\n",
      "MG1655_GLY-lowOD-2nd_11_CY5, CY3.5 NAR, CY3, DAPI\n",
      "MG1655_GLY-lowOD-2nd_12_CY5, CY3.5 NAR, CY3, DAPI\n",
      "MG1655_GLY-lowOD-2nd_13_CY5, CY3.5 NAR, CY3, DAPI\n",
      "MG1655_GLY-lowOD-2nd_14_CY5, CY3.5 NAR, CY3, DAPI\n",
      "MG1655_GLY-lowOD-2nd_15_CY5, CY3.5 NAR, CY3, DAPI\n",
      "MG1655_GLY-lowOD-2nd_16_CY5, CY3.5 NAR, CY3, DAPI\n",
      "MG1655_GLY-lowOD-2nd_17_CY5, CY3.5 NAR, CY3, DAPI\n",
      "/Volumes/Flodrive/Florence/smFISH/analysis/20240927-exp16/config.json -> /Volumes/Flodrive/Florence/smFISH/analysis/20240927-exp16/config-selected.json\n",
      "MG1655_GLU_OD_0.3_left_CY5, CY3.5 NAR, CY3, DAPI_01\n",
      "MG1655_GLU_OD_0.3_left_CY5, CY3.5 NAR, CY3, DAPI_02\n",
      "MG1655_GLU_OD_0.3_left_CY5, CY3.5 NAR, CY3, DAPI_03\n",
      "MG1655_GLU_OD_0.3_left_CY5, CY3.5 NAR, CY3, DAPI_04\n",
      "MG1655_GLU_OD_0.3_left_CY5, CY3.5 NAR, CY3, DAPI_05\n",
      "MG1655_GLY_OD_0.3_right_CY5, CY3.5 NAR, CY3, DAPI_02\n",
      "MG1655_GLY_OD_0.3_right_CY5, CY3.5 NAR, CY3, DAPI_01\n",
      "MG1655_GLY_OD_0.3_right_CY5, CY3.5 NAR, CY3, DAPI_03\n",
      "MG1655_GLY_OD_0.3_right_CY5, CY3.5 NAR, CY3, DAPI_04\n",
      "MG1655_GLY_OD_0.3_right_CY5, CY3.5 NAR, CY3, DAPI_05\n",
      "MG1655_GLY_OD_0.3_right_CY5, CY3.5 NAR, CY3, DAPI_06\n",
      "MG1655_GLY_OD_0.3_right_CY5, CY3.5 NAR, CY3, DAPI_07\n",
      "MG1655_GLY_OD_0.3_right_CY5, CY3.5 NAR, CY3, DAPI_08\n",
      "MG1655_GLY_OD_0.3_right_CY5, CY3.5 NAR, CY3, DAPI_09\n",
      "MG1655_GLY_OD_0.3_right_CY5, CY3.5 NAR, CY3, DAPI_10\n",
      "MG1655_GLY_OD_0.3_right_CY5, CY3.5 NAR, CY3, DAPI_11\n",
      "MG1655_GLY_OD_0.3_right_CY5, CY3.5 NAR, CY3, DAPI_12\n",
      "MG1655_GLY_OD_0.3_right_CY5, CY3.5 NAR, CY3, DAPI_13\n",
      "MG1655_GLY_OD_0.3_right_CY5, CY3.5 NAR, CY3, DAPI_14\n",
      "MG1655_MAN_OD_0.3_left_CY5, CY3.5 NAR, CY3, DAPI_01\n",
      "MG1655_MAN_OD_0.3_left_CY5, CY3.5 NAR, CY3, DAPI_02\n",
      "MG1655_MAN_OD_0.3_left_CY5, CY3.5 NAR, CY3, DAPI_03\n",
      "MG1655_MAN_OD_0.3_left_CY5, CY3.5 NAR, CY3, DAPI_04\n",
      "MG1655_MAN_OD_0.3_left_CY5, CY3.5 NAR, CY3, DAPI_05\n",
      "MG1655_MAN_OD_0.3_left_CY5, CY3.5 NAR, CY3, DAPI_06\n",
      "MG1655_MAN_OD_0.3_left_CY5, CY3.5 NAR, CY3, DAPI_07\n",
      "MG1655_MAN_OD_0.3_left_CY5, CY3.5 NAR, CY3, DAPI_08\n",
      "MG1655_MAN_OD_0.3_left_CY5, CY3.5 NAR, CY3, DAPI_09\n",
      "MG1655_MAN_OD_0.3_left_CY5, CY3.5 NAR, CY3, DAPI_10\n",
      "MG1655_MAN_OD_0.3_left_CY5, CY3.5 NAR, CY3, DAPI_11\n",
      "MG1655_MAN_OD_0.3_left_CY5, CY3.5 NAR, CY3, DAPI_12\n",
      "/Volumes/Flodrive/Florence/smFISH/analysis/20240927-LB/config.json -> /Volumes/Flodrive/Florence/smFISH/analysis/20240927-LB/config-selected.json\n",
      "MG1655_LB_fixed2806_hybed1906_left_CY5, CY3.5 NAR, CY3, DAPI_01\n",
      "MG1655_LB_fixed2806_hybed1906_left_CY5, CY3.5 NAR, CY3, DAPI_02\n",
      "MG1655_LB_fixed2806_hybed1906_left_CY5, CY3.5 NAR, CY3, DAPI_03\n",
      "MG1655_LB_fixed2806_hybed1906_left_CY5, CY3.5 NAR, CY3, DAPI_04\n",
      "MG1655_LB_fixed2806_hybed1906_left_CY5, CY3.5 NAR, CY3, DAPI_05\n",
      "MG1655_LB_fixed2806_hybed1906_left_CY5, CY3.5 NAR, CY3, DAPI_06\n",
      "MG1655_LB_fixed2806_hybed1906_left_CY5, CY3.5 NAR, CY3, DAPI_07\n",
      "MG1655_LB_fixed2806_hybed1906_left_CY5, CY3.5 NAR, CY3, DAPI_08\n",
      "MG1655_LB_fixed2806_hybed1906_left_CY5, CY3.5 NAR, CY3, DAPI_09\n",
      "MG1655_LB_fixed2806_hybed1906_left_CY5, CY3.5 NAR, CY3, DAPI_10\n"
     ]
    }
   ],
   "execution_count": 223
  },
  {
   "metadata": {
    "ExecuteTime": {
     "end_time": "2024-11-04T16:32:17.668429Z",
     "start_time": "2024-11-04T16:31:43.582147Z"
    }
   },
   "cell_type": "code",
   "source": [
    "rootdir = \"/Volumes/Flodrive/Florence/smFISH/analysis/20241029-exp24\"\n",
    "for f in Path(rootdir).glob('*/grgb.npy'):\n",
    "    print(f.parent / \"grgb.tif\")\n",
    "    io.imsave(f.parent / \"grgb.tif\", np.load(f)) "
   ],
   "id": "2d2c936b3a6395b2",
   "outputs": [
    {
     "name": "stdout",
     "output_type": "stream",
     "text": [
      "/Volumes/Flodrive/Florence/smFISH/analysis/20241029-exp24/exp24-GLY-left_01/grgb.tif\n",
      "/Volumes/Flodrive/Florence/smFISH/analysis/20241029-exp24/exp24-GLY-left_02/grgb.tif\n",
      "/Volumes/Flodrive/Florence/smFISH/analysis/20241029-exp24/exp24-GLY-left_03/grgb.tif\n",
      "/Volumes/Flodrive/Florence/smFISH/analysis/20241029-exp24/exp24-GLY-left_04/grgb.tif\n",
      "/Volumes/Flodrive/Florence/smFISH/analysis/20241029-exp24/exp24-GLY-left_05/grgb.tif\n",
      "/Volumes/Flodrive/Florence/smFISH/analysis/20241029-exp24/exp24-GLY-left_06/grgb.tif\n",
      "/Volumes/Flodrive/Florence/smFISH/analysis/20241029-exp24/exp24-GLY-left_07/grgb.tif\n",
      "/Volumes/Flodrive/Florence/smFISH/analysis/20241029-exp24/exp24-GLY-left_08/grgb.tif\n",
      "/Volumes/Flodrive/Florence/smFISH/analysis/20241029-exp24/exp24-GLY-left_09/grgb.tif\n",
      "/Volumes/Flodrive/Florence/smFISH/analysis/20241029-exp24/exp24-GLY-left_10/grgb.tif\n"
     ]
    }
   ],
   "execution_count": 208
  },
  {
   "metadata": {
    "ExecuteTime": {
     "end_time": "2024-11-04T10:14:35.783892Z",
     "start_time": "2024-11-04T10:14:35.756786Z"
    }
   },
   "cell_type": "code",
   "source": [
    "# pick a model for DIC masks\n",
    "#\n",
    "model_type = 'cyto2_omni'\n",
    "chans = '[1,2]'\n",
    "minsize = '0'\n",
    "mask = '-2'\n",
    "flow = '0'\n",
    "diameter = '35'\n",
    "\n",
    "targetmaskfile = f'DIC_masks_model={model_type}_chan={chans}_diameter={diameter}_minsize={minsize}_mask={mask}_flow={flow}.tif'\n",
    "for f in Path(rootdir).glob('*/DIC_masks.tif'):\n",
    "    f = Path(str(f).replace('grgb.tif', 'DIC_masks.tif'))\n",
    "    Path(f).unlink(missing_ok=True)\n",
    "    Path(f).symlink_to(targetmaskfile)"
   ],
   "id": "ad180cd837558b38",
   "outputs": [
    {
     "name": "stdout",
     "output_type": "stream",
     "text": [
      "/Users/adele/PycharmProjects/Ecoli_smFISH/tests/exp16/output/MG1655_GLY-lowOD-2nd_16/DIC_masks.tif\n",
      "/Users/adele/PycharmProjects/Ecoli_smFISH/tests/exp16/output/MG1655_GLY-lowOD-2nd_17/DIC_masks.tif\n",
      "/Users/adele/PycharmProjects/Ecoli_smFISH/tests/exp16/output/MG1655_GLU_OD_0.3_left_02/DIC_masks.tif\n",
      "/Users/adele/PycharmProjects/Ecoli_smFISH/tests/exp16/output/MG1655_GLU_OD_0.3_left_03/DIC_masks.tif\n",
      "/Users/adele/PycharmProjects/Ecoli_smFISH/tests/exp16/output/MG1655_GAL-lowOD-2nd_05/DIC_masks.tif\n",
      "/Users/adele/PycharmProjects/Ecoli_smFISH/tests/exp16/output/MG1655_MAN_OD_0.3_left_08/DIC_masks.tif\n",
      "/Users/adele/PycharmProjects/Ecoli_smFISH/tests/exp16/output/MG1655_MAN_OD_0.3_left_07/DIC_masks.tif\n",
      "/Users/adele/PycharmProjects/Ecoli_smFISH/tests/exp16/output/MG1655_LB_fixed2806_hybed1906_left_03/DIC_masks.tif\n",
      "/Users/adele/PycharmProjects/Ecoli_smFISH/tests/exp16/output/MG1655_LB_fixed2806_hybed1906_left_05/DIC_masks.tif\n",
      "/Users/adele/PycharmProjects/Ecoli_smFISH/tests/exp16/output/MG1655_GAL-lowOD-2nd_06/DIC_masks.tif\n"
     ]
    }
   ],
   "execution_count": 89
  },
  {
   "metadata": {
    "ExecuteTime": {
     "end_time": "2024-11-04T09:46:59.805060Z",
     "start_time": "2024-11-04T09:46:59.798342Z"
    }
   },
   "cell_type": "code",
   "source": [
    "# pick a model for DAPI masks\n",
    "#\n",
    "model_type = 'nuclei'\n",
    "chans = '[1,0]'\n",
    "minsize = '0'\n",
    "mask = '0.0'\n",
    "flow = '0.0'\n",
    "diameter = '0'\n",
    "\n",
    "targetmaskfile = f'DIC_masks_model={model_type}_chan={chans}_diameter={diameter}_minsize={minsize}_mask={mask}_flow={flow}.tif'\n",
    "for f in Path(rootdir).glob('*/DIC_masks.tif'):\n",
    "    Path(f).unlink(missing_ok=True)\n",
    "    Path(f).symlink_to(targetmaskfile)\n"
   ],
   "id": "ded56f3c5aa83e25",
   "outputs": [],
   "execution_count": 88
  },
  {
   "metadata": {
    "ExecuteTime": {
     "end_time": "2024-11-03T18:11:01.970812Z",
     "start_time": "2024-11-03T18:11:01.964450Z"
    }
   },
   "cell_type": "code",
   "source": [
    "from cellpose_omni import models\n",
    "# from cellpose_omni.core import use_gpu\n",
    "from omnipose.gpu import use_gpu\n",
    "# This checks to see if you have set up your GPU properly.\n",
    "# CPU performance is a lot slower, but not a problem if you \n",
    "# are only processing a few images.\n",
    "use_GPU = use_gpu()\n",
    "\n",
    "from cellpose_omni.models import MODEL_NAMES\n",
    "print(MODEL_NAMES)"
   ],
   "id": "dc8f4ad3620f8a93",
   "outputs": [
    {
     "name": "stdout",
     "output_type": "stream",
     "text": [
      "['bact_phase_omni', 'bact_fluor_omni', 'worm_omni', 'worm_bact_omni', 'worm_high_res_omni', 'cyto2_omni', 'plant_omni', 'bact_phase_cp', 'bact_fluor_cp', 'plant_cp', 'worm_cp', 'cyto', 'nuclei', 'cyto2']\n"
     ]
    }
   ],
   "execution_count": 28
  },
  {
   "metadata": {},
   "cell_type": "markdown",
   "source": [
    "### Nuclei \n",
    "- does not work here\n",
    "- works in script"
   ],
   "id": "dea5d5cb63fcf62"
  },
  {
   "metadata": {
    "ExecuteTime": {
     "end_time": "2024-11-03T19:48:26.846069Z",
     "start_time": "2024-11-03T19:47:47.842793Z"
    }
   },
   "cell_type": "code",
   "source": [
    "model_type = \"nuclei\"\n",
    "model = models.CellposeModel(gpu=use_GPU, model_type=model_type)\n",
    "chans = [0, 0]\n",
    "\n",
    "min_size = 10\n",
    "\n",
    "params = {'channels': chans, # always define this with the model\n",
    "          'rescale': None, # upscale or downscale your images, None = no rescaling\n",
    "          'mask_threshold': 0.0, # erode or dilate masks with higher or lower values between -5 and 5\n",
    "          'flow_threshold': 0.0,\n",
    "          'min_size': min_size,\n",
    "          'diameter': 0.0,\n",
    "          'invert': False,\n",
    "          'transparency': True, # transparency in flow output\n",
    "          'omni': True, # we can turn off Omnipose mask reconstruction, not advised\n",
    "          'cluster': True, # use DBSCAN clustering\n",
    "          'resample': True, # whether or not to run dynamics on rescaled grid or original grid\n",
    "          'verbose': False, # turn on if you want to see more output\n",
    "          'tile': False, # average the outputs from flipped (augmented) images; slower, usually not needed\n",
    "          'niter': None, # default None lets Omnipose calculate # of Euler iterations (usually <20) but you can tune it for over/under segmentation\n",
    "          'augment': False, # Can optionally rotate the image and average network outputs, usually not needed\n",
    "          'affinity_seg': False, # new feature, stay tuned...\n",
    "         }\n",
    "\n",
    "rootdir = '/Users/adele/PycharmProjects/Ecoli_smFISH/tests/exp16/output'\n",
    "files = Path(rootdir).glob('*/DAPI_max_proj.tif')\n",
    "# stop_after = 1\n",
    "imgs = [io.imread(f) for f in files]\n",
    "stop_after = len(imgs)\n",
    "masks, flows, styles = model.eval(imgs[:stop_after], **params)"
   ],
   "id": "1760815036984e6b",
   "outputs": [
    {
     "name": "stdout",
     "output_type": "stream",
     "text": [
      "\u001B[38;5;78m2024-11-03 20:47:47,844\t[INFO]                                   __init__....()\t line 432\t>>nuclei<< model set to be used\u001B[0m\n",
      "\u001B[38;5;74m2024-11-03 20:47:47,847\t[INFO]     cellpose_omni/core.py         assi...evice()\t line  67\tUsing GPU.\u001B[0m\n",
      "\u001B[38;5;74m2024-11-03 20:47:47,925\t[INFO]                                   __init__....()\t line 163\tu-net config: ([2, 32, 64, 128, 256], 3, 2)\u001B[0m\n"
     ]
    },
    {
     "data": {
      "text/plain": [
       "  0%|          | 0/10 [00:00<?, ?it/s]"
      ],
      "application/vnd.jupyter.widget-view+json": {
       "version_major": 2,
       "version_minor": 0,
       "model_id": "0782003ed47f497fb4ebef513641925e"
      }
     },
     "metadata": {},
     "output_type": "display_data"
    }
   ],
   "execution_count": 49
  },
  {
   "metadata": {
    "ExecuteTime": {
     "end_time": "2024-11-03T19:49:14.082335Z",
     "start_time": "2024-11-03T19:49:13.925588Z"
    }
   },
   "cell_type": "code",
   "source": [
    "# save the masks with channel information\n",
    "files = Path(rootdir).glob('*/grgb.npy')\n",
    "filelist = list(files)\n",
    "for f, m in zip(filelist, masks):\n",
    "    maskfile = Path(f).parent / f'DIC_masks_model={model_type}_chan={str(params[\"channels\"]).replace(\" \", \"\")}_diameter={params[\"diameter\"]}_minsize={params[\"min_size\"]}_mask={params[\"mask_threshold\"]}_flow={params[\"flow_threshold\"]}.tif'\n",
    "    io.imsave(maskfile, m)"
   ],
   "id": "f7338b531577aed1",
   "outputs": [
    {
     "name": "stderr",
     "output_type": "stream",
     "text": [
      "/var/folders/pp/cdyfs0g13j3_15mc99_0nfmh0000gn/T/ipykernel_8315/3153628565.py:6: UserWarning: /Users/adele/PycharmProjects/Ecoli_smFISH/tests/exp16/output/MG1655_GLY-lowOD-2nd_16/DAPI_masks_model=nuclei_chan=[0,0]_minsize=10_maskth=0.0.tif is a low contrast image\n",
      "  io.imsave(maskfile, m)\n",
      "/var/folders/pp/cdyfs0g13j3_15mc99_0nfmh0000gn/T/ipykernel_8315/3153628565.py:6: UserWarning: /Users/adele/PycharmProjects/Ecoli_smFISH/tests/exp16/output/MG1655_GLY-lowOD-2nd_17/DAPI_masks_model=nuclei_chan=[0,0]_minsize=10_maskth=0.0.tif is a low contrast image\n",
      "  io.imsave(maskfile, m)\n",
      "/var/folders/pp/cdyfs0g13j3_15mc99_0nfmh0000gn/T/ipykernel_8315/3153628565.py:6: UserWarning: /Users/adele/PycharmProjects/Ecoli_smFISH/tests/exp16/output/MG1655_GLU_OD_0.3_left_02/DAPI_masks_model=nuclei_chan=[0,0]_minsize=10_maskth=0.0.tif is a low contrast image\n",
      "  io.imsave(maskfile, m)\n",
      "/var/folders/pp/cdyfs0g13j3_15mc99_0nfmh0000gn/T/ipykernel_8315/3153628565.py:6: UserWarning: /Users/adele/PycharmProjects/Ecoli_smFISH/tests/exp16/output/MG1655_GLU_OD_0.3_left_03/DAPI_masks_model=nuclei_chan=[0,0]_minsize=10_maskth=0.0.tif is a low contrast image\n",
      "  io.imsave(maskfile, m)\n",
      "/var/folders/pp/cdyfs0g13j3_15mc99_0nfmh0000gn/T/ipykernel_8315/3153628565.py:6: UserWarning: /Users/adele/PycharmProjects/Ecoli_smFISH/tests/exp16/output/MG1655_GAL-lowOD-2nd_05/DAPI_masks_model=nuclei_chan=[0,0]_minsize=10_maskth=0.0.tif is a low contrast image\n",
      "  io.imsave(maskfile, m)\n",
      "/var/folders/pp/cdyfs0g13j3_15mc99_0nfmh0000gn/T/ipykernel_8315/3153628565.py:6: UserWarning: /Users/adele/PycharmProjects/Ecoli_smFISH/tests/exp16/output/MG1655_MAN_OD_0.3_left_08/DAPI_masks_model=nuclei_chan=[0,0]_minsize=10_maskth=0.0.tif is a low contrast image\n",
      "  io.imsave(maskfile, m)\n",
      "/var/folders/pp/cdyfs0g13j3_15mc99_0nfmh0000gn/T/ipykernel_8315/3153628565.py:6: UserWarning: /Users/adele/PycharmProjects/Ecoli_smFISH/tests/exp16/output/MG1655_MAN_OD_0.3_left_07/DAPI_masks_model=nuclei_chan=[0,0]_minsize=10_maskth=0.0.tif is a low contrast image\n",
      "  io.imsave(maskfile, m)\n",
      "/var/folders/pp/cdyfs0g13j3_15mc99_0nfmh0000gn/T/ipykernel_8315/3153628565.py:6: UserWarning: /Users/adele/PycharmProjects/Ecoli_smFISH/tests/exp16/output/MG1655_LB_fixed2806_hybed1906_left_03/DAPI_masks_model=nuclei_chan=[0,0]_minsize=10_maskth=0.0.tif is a low contrast image\n",
      "  io.imsave(maskfile, m)\n",
      "/var/folders/pp/cdyfs0g13j3_15mc99_0nfmh0000gn/T/ipykernel_8315/3153628565.py:6: UserWarning: /Users/adele/PycharmProjects/Ecoli_smFISH/tests/exp16/output/MG1655_LB_fixed2806_hybed1906_left_05/DAPI_masks_model=nuclei_chan=[0,0]_minsize=10_maskth=0.0.tif is a low contrast image\n",
      "  io.imsave(maskfile, m)\n",
      "/var/folders/pp/cdyfs0g13j3_15mc99_0nfmh0000gn/T/ipykernel_8315/3153628565.py:6: UserWarning: /Users/adele/PycharmProjects/Ecoli_smFISH/tests/exp16/output/MG1655_GAL-lowOD-2nd_06/DAPI_masks_model=nuclei_chan=[0,0]_minsize=10_maskth=0.0.tif is a low contrast image\n",
      "  io.imsave(maskfile, m)\n"
     ]
    }
   ],
   "execution_count": 50
  },
  {
   "metadata": {},
   "cell_type": "markdown",
   "source": "### Cells: cyto2 with only DIC as input",
   "id": "4c76c0d28bae2f0c"
  },
  {
   "metadata": {
    "ExecuteTime": {
     "end_time": "2024-11-03T18:20:40.910602Z",
     "start_time": "2024-11-03T18:19:58.069007Z"
    }
   },
   "cell_type": "code",
   "source": [
    "model_type = \"cyto2\"\n",
    "model = models.CellposeModel(gpu=use_GPU, model_type=model_type)\n",
    "chans = [2, 0]\n",
    "min_size = 200\n",
    "\n",
    "params = {'channels': chans, # always define this with the model\n",
    "          'rescale': None, # upscale or downscale your images, None = no rescaling\n",
    "          'mask_threshold': 0.0, # erode or dilate masks with higher or lower values between -5 and 5\n",
    "          'flow_threshold': 0.0,\n",
    "          'min_size': min_size,\n",
    "          'diameter': 0.0,\n",
    "          'invert': False,\n",
    "          'transparency': True, # transparency in flow output\n",
    "          'omni': True, # we can turn off Omnipose mask reconstruction, not advised\n",
    "          'cluster': True, # use DBSCAN clustering\n",
    "          'resample': True, # whether or not to run dynamics on rescaled grid or original grid\n",
    "          'verbose': False, # turn on if you want to see more output\n",
    "          'tile': False, # average the outputs from flipped (augmented) images; slower, usually not needed\n",
    "          'niter': None, # default None lets Omnipose calculate # of Euler iterations (usually <20) but you can tune it for over/under segmentation\n",
    "          'augment': False, # Can optionally rotate the image and average network outputs, usually not needed\n",
    "          'affinity_seg': False, # new feature, stay tuned...\n",
    "         }\n",
    "\n",
    "rootdir = '/Users/adele/PycharmProjects/Ecoli_smFISH/tests/exp16/output'\n",
    "files = Path(rootdir).glob('*/grgb.npy')\n",
    "# stop_after = 1\n",
    "imgs = [np.load(f) for f in files]\n",
    "stop_after = len(imgs)\n",
    "masks, flows, styles = model.eval(imgs[:stop_after], **params)"
   ],
   "id": "241f685eeabf3596",
   "outputs": [
    {
     "name": "stdout",
     "output_type": "stream",
     "text": [
      "\u001B[38;5;78m2024-11-03 19:19:58,071\t[INFO]     cellpose_omni/models.py                   \t line 432\t>>cyto2<< model set to be used\u001B[0m\n",
      "\u001B[38;5;74m2024-11-03 19:19:58,079\t[INFO]     cellpose_omni/core.py         assi...evice()\t line  67\tUsing GPU.\u001B[0m\n",
      "\u001B[38;5;74m2024-11-03 19:19:58,159\t[INFO]                                   __init__....()\t line 163\tu-net config: ([2, 32, 64, 128, 256], 3, 2)\u001B[0m\n"
     ]
    },
    {
     "data": {
      "text/plain": [
       "  0%|          | 0/10 [00:00<?, ?it/s]"
      ],
      "application/vnd.jupyter.widget-view+json": {
       "version_major": 2,
       "version_minor": 0,
       "model_id": "61225649243d4c1eb9423be7aaebeea8"
      }
     },
     "metadata": {},
     "output_type": "display_data"
    }
   ],
   "execution_count": 39
  },
  {
   "metadata": {
    "ExecuteTime": {
     "end_time": "2024-11-03T18:21:47.485027Z",
     "start_time": "2024-11-03T18:21:47.329712Z"
    }
   },
   "cell_type": "code",
   "source": [
    "# save the masks with channel information\n",
    "files = Path(rootdir).glob('*/grgb.npy')\n",
    "filelist = list(files)\n",
    "ch = str(chans)\n",
    "ch = re.sub(' ', '', ch)\n",
    "for f, m in zip(filelist, masks):\n",
    "    maskfile = Path(f).parent / f'DIC_masks_model={model_type}_chan={str(params[\"channels\"]).replace(\" \", \"\")}_diameter={params[\"diameter\"]}_minsize={params[\"min_size\"]}_mask={params[\"mask_threshold\"]}_flow={params[\"flow_threshold\"]}.tif'\n",
    "    # print(f, maskfile)\n",
    "    io.imsave(maskfile, m)"
   ],
   "id": "e39dc25309f6a61e",
   "outputs": [
    {
     "name": "stderr",
     "output_type": "stream",
     "text": [
      "/var/folders/pp/cdyfs0g13j3_15mc99_0nfmh0000gn/T/ipykernel_8315/2646462956.py:9: UserWarning: /Users/adele/PycharmProjects/Ecoli_smFISH/tests/exp16/output/MG1655_GLY-lowOD-2nd_16/DIC_masks_model=cyto2_chan=[2,0]_minsize=200_maskth=0.0.tif is a low contrast image\n",
      "  io.imsave(maskfile, m)\n",
      "/var/folders/pp/cdyfs0g13j3_15mc99_0nfmh0000gn/T/ipykernel_8315/2646462956.py:9: UserWarning: /Users/adele/PycharmProjects/Ecoli_smFISH/tests/exp16/output/MG1655_GLY-lowOD-2nd_17/DIC_masks_model=cyto2_chan=[2,0]_minsize=200_maskth=0.0.tif is a low contrast image\n",
      "  io.imsave(maskfile, m)\n",
      "/var/folders/pp/cdyfs0g13j3_15mc99_0nfmh0000gn/T/ipykernel_8315/2646462956.py:9: UserWarning: /Users/adele/PycharmProjects/Ecoli_smFISH/tests/exp16/output/MG1655_GLU_OD_0.3_left_02/DIC_masks_model=cyto2_chan=[2,0]_minsize=200_maskth=0.0.tif is a low contrast image\n",
      "  io.imsave(maskfile, m)\n",
      "/var/folders/pp/cdyfs0g13j3_15mc99_0nfmh0000gn/T/ipykernel_8315/2646462956.py:9: UserWarning: /Users/adele/PycharmProjects/Ecoli_smFISH/tests/exp16/output/MG1655_GLU_OD_0.3_left_03/DIC_masks_model=cyto2_chan=[2,0]_minsize=200_maskth=0.0.tif is a low contrast image\n",
      "  io.imsave(maskfile, m)\n",
      "/var/folders/pp/cdyfs0g13j3_15mc99_0nfmh0000gn/T/ipykernel_8315/2646462956.py:9: UserWarning: /Users/adele/PycharmProjects/Ecoli_smFISH/tests/exp16/output/MG1655_GAL-lowOD-2nd_05/DIC_masks_model=cyto2_chan=[2,0]_minsize=200_maskth=0.0.tif is a low contrast image\n",
      "  io.imsave(maskfile, m)\n",
      "/var/folders/pp/cdyfs0g13j3_15mc99_0nfmh0000gn/T/ipykernel_8315/2646462956.py:9: UserWarning: /Users/adele/PycharmProjects/Ecoli_smFISH/tests/exp16/output/MG1655_MAN_OD_0.3_left_08/DIC_masks_model=cyto2_chan=[2,0]_minsize=200_maskth=0.0.tif is a low contrast image\n",
      "  io.imsave(maskfile, m)\n",
      "/var/folders/pp/cdyfs0g13j3_15mc99_0nfmh0000gn/T/ipykernel_8315/2646462956.py:9: UserWarning: /Users/adele/PycharmProjects/Ecoli_smFISH/tests/exp16/output/MG1655_MAN_OD_0.3_left_07/DIC_masks_model=cyto2_chan=[2,0]_minsize=200_maskth=0.0.tif is a low contrast image\n",
      "  io.imsave(maskfile, m)\n",
      "/var/folders/pp/cdyfs0g13j3_15mc99_0nfmh0000gn/T/ipykernel_8315/2646462956.py:9: UserWarning: /Users/adele/PycharmProjects/Ecoli_smFISH/tests/exp16/output/MG1655_LB_fixed2806_hybed1906_left_03/DIC_masks_model=cyto2_chan=[2,0]_minsize=200_maskth=0.0.tif is a low contrast image\n",
      "  io.imsave(maskfile, m)\n",
      "/var/folders/pp/cdyfs0g13j3_15mc99_0nfmh0000gn/T/ipykernel_8315/2646462956.py:9: UserWarning: /Users/adele/PycharmProjects/Ecoli_smFISH/tests/exp16/output/MG1655_LB_fixed2806_hybed1906_left_05/DIC_masks_model=cyto2_chan=[2,0]_minsize=200_maskth=0.0.tif is a low contrast image\n",
      "  io.imsave(maskfile, m)\n",
      "/var/folders/pp/cdyfs0g13j3_15mc99_0nfmh0000gn/T/ipykernel_8315/2646462956.py:9: UserWarning: /Users/adele/PycharmProjects/Ecoli_smFISH/tests/exp16/output/MG1655_GAL-lowOD-2nd_06/DIC_masks_model=cyto2_chan=[2,0]_minsize=200_maskth=0.0.tif is a low contrast image\n",
      "  io.imsave(maskfile, m)\n"
     ]
    }
   ],
   "execution_count": 40
  },
  {
   "metadata": {},
   "cell_type": "markdown",
   "source": "### Cells: cyto2 with DIC and DAPI as input",
   "id": "2cf525ad87040b3"
  },
  {
   "metadata": {
    "ExecuteTime": {
     "end_time": "2024-11-03T18:28:09.953082Z",
     "start_time": "2024-11-03T18:27:29.751217Z"
    }
   },
   "cell_type": "code",
   "source": [
    "model_type = \"cyto2\"\n",
    "model = models.CellposeModel(gpu=use_GPU, model_type=model_type)\n",
    "chans = [2, 3]\n",
    "min_size = 200\n",
    "\n",
    "params = {'channels': chans, # always define this with the model\n",
    "          'rescale': None, # upscale or downscale your images, None = no rescaling\n",
    "          'mask_threshold': 0.0, # erode or dilate masks with higher or lower values between -5 and 5\n",
    "          'flow_threshold': 0.0,\n",
    "          'min_size': min_size,\n",
    "          'diameter': 0.0,\n",
    "          'invert': False,\n",
    "          'transparency': True, # transparency in flow output\n",
    "          'omni': True, # we can turn off Omnipose mask reconstruction, not advised\n",
    "          'cluster': True, # use DBSCAN clustering\n",
    "          'resample': True, # whether or not to run dynamics on rescaled grid or original grid\n",
    "          'verbose': False, # turn on if you want to see more output\n",
    "          'tile': False, # average the outputs from flipped (augmented) images; slower, usually not needed\n",
    "          'niter': None, # default None lets Omnipose calculate # of Euler iterations (usually <20) but you can tune it for over/under segmentation\n",
    "          'augment': False, # Can optionally rotate the image and average network outputs, usually not needed\n",
    "          'affinity_seg': False, # new feature, stay tuned...\n",
    "         }\n",
    "\n",
    "rootdir = '/Users/adele/PycharmProjects/Ecoli_smFISH/tests/exp16/output'\n",
    "files = Path(rootdir).glob('*/grgb.npy')\n",
    "# stop_after = 1\n",
    "imgs = [np.load(f) for f in files]\n",
    "stop_after = len(imgs)\n",
    "masks, flows, styles = model.eval(imgs[:stop_after], **params)"
   ],
   "id": "8739c8bcd0ea3e85",
   "outputs": [
    {
     "name": "stdout",
     "output_type": "stream",
     "text": [
      "\u001B[38;5;78m2024-11-03 19:27:29,754\t[INFO]     cellpose_omni/models.py                   \t line 432\t>>cyto2<< model set to be used\u001B[0m\n",
      "\u001B[38;5;74m2024-11-03 19:27:29,756\t[INFO]     cellpose_omni/core.py         assi...evice()\t line  67\tUsing GPU.\u001B[0m\n",
      "\u001B[38;5;74m2024-11-03 19:27:29,845\t[INFO]                                   __init__....()\t line 163\tu-net config: ([2, 32, 64, 128, 256], 3, 2)\u001B[0m\n"
     ]
    },
    {
     "data": {
      "text/plain": [
       "  0%|          | 0/10 [00:00<?, ?it/s]"
      ],
      "application/vnd.jupyter.widget-view+json": {
       "version_major": 2,
       "version_minor": 0,
       "model_id": "ea27d86e6363405a9db4d66d652b97ce"
      }
     },
     "metadata": {},
     "output_type": "display_data"
    }
   ],
   "execution_count": 41
  },
  {
   "metadata": {
    "ExecuteTime": {
     "end_time": "2024-11-03T18:28:17.766821Z",
     "start_time": "2024-11-03T18:28:17.614734Z"
    }
   },
   "cell_type": "code",
   "source": [
    "# save the masks with channel information\n",
    "files = Path(rootdir).glob('*/grgb.npy')\n",
    "filelist = list(files)\n",
    "\n",
    "for f, m in zip(filelist, masks):\n",
    "    maskfile = Path(f).parent / f'DIC_masks_model={model_type}_chan={str(params[\"channels\"]).replace(\" \", \"\")}_diameter={params[\"diameter\"]}_minsize={params[\"min_size\"]}_mask={params[\"mask_threshold\"]}_flow={params[\"flow_threshold\"]}.tif'\n",
    "    io.imsave(maskfile, m)"
   ],
   "id": "b78278793989e377",
   "outputs": [
    {
     "name": "stderr",
     "output_type": "stream",
     "text": [
      "/var/folders/pp/cdyfs0g13j3_15mc99_0nfmh0000gn/T/ipykernel_8315/2646462956.py:9: UserWarning: /Users/adele/PycharmProjects/Ecoli_smFISH/tests/exp16/output/MG1655_GLY-lowOD-2nd_16/DIC_masks_model=cyto2_chan=[2,3]_minsize=200_maskth=0.0.tif is a low contrast image\n",
      "  io.imsave(maskfile, m)\n",
      "/var/folders/pp/cdyfs0g13j3_15mc99_0nfmh0000gn/T/ipykernel_8315/2646462956.py:9: UserWarning: /Users/adele/PycharmProjects/Ecoli_smFISH/tests/exp16/output/MG1655_GLY-lowOD-2nd_17/DIC_masks_model=cyto2_chan=[2,3]_minsize=200_maskth=0.0.tif is a low contrast image\n",
      "  io.imsave(maskfile, m)\n",
      "/var/folders/pp/cdyfs0g13j3_15mc99_0nfmh0000gn/T/ipykernel_8315/2646462956.py:9: UserWarning: /Users/adele/PycharmProjects/Ecoli_smFISH/tests/exp16/output/MG1655_GLU_OD_0.3_left_02/DIC_masks_model=cyto2_chan=[2,3]_minsize=200_maskth=0.0.tif is a low contrast image\n",
      "  io.imsave(maskfile, m)\n",
      "/var/folders/pp/cdyfs0g13j3_15mc99_0nfmh0000gn/T/ipykernel_8315/2646462956.py:9: UserWarning: /Users/adele/PycharmProjects/Ecoli_smFISH/tests/exp16/output/MG1655_GLU_OD_0.3_left_03/DIC_masks_model=cyto2_chan=[2,3]_minsize=200_maskth=0.0.tif is a low contrast image\n",
      "  io.imsave(maskfile, m)\n",
      "/var/folders/pp/cdyfs0g13j3_15mc99_0nfmh0000gn/T/ipykernel_8315/2646462956.py:9: UserWarning: /Users/adele/PycharmProjects/Ecoli_smFISH/tests/exp16/output/MG1655_GAL-lowOD-2nd_05/DIC_masks_model=cyto2_chan=[2,3]_minsize=200_maskth=0.0.tif is a low contrast image\n",
      "  io.imsave(maskfile, m)\n",
      "/var/folders/pp/cdyfs0g13j3_15mc99_0nfmh0000gn/T/ipykernel_8315/2646462956.py:9: UserWarning: /Users/adele/PycharmProjects/Ecoli_smFISH/tests/exp16/output/MG1655_MAN_OD_0.3_left_08/DIC_masks_model=cyto2_chan=[2,3]_minsize=200_maskth=0.0.tif is a low contrast image\n",
      "  io.imsave(maskfile, m)\n",
      "/var/folders/pp/cdyfs0g13j3_15mc99_0nfmh0000gn/T/ipykernel_8315/2646462956.py:9: UserWarning: /Users/adele/PycharmProjects/Ecoli_smFISH/tests/exp16/output/MG1655_MAN_OD_0.3_left_07/DIC_masks_model=cyto2_chan=[2,3]_minsize=200_maskth=0.0.tif is a low contrast image\n",
      "  io.imsave(maskfile, m)\n",
      "/var/folders/pp/cdyfs0g13j3_15mc99_0nfmh0000gn/T/ipykernel_8315/2646462956.py:9: UserWarning: /Users/adele/PycharmProjects/Ecoli_smFISH/tests/exp16/output/MG1655_LB_fixed2806_hybed1906_left_03/DIC_masks_model=cyto2_chan=[2,3]_minsize=200_maskth=0.0.tif is a low contrast image\n",
      "  io.imsave(maskfile, m)\n",
      "/var/folders/pp/cdyfs0g13j3_15mc99_0nfmh0000gn/T/ipykernel_8315/2646462956.py:9: UserWarning: /Users/adele/PycharmProjects/Ecoli_smFISH/tests/exp16/output/MG1655_LB_fixed2806_hybed1906_left_05/DIC_masks_model=cyto2_chan=[2,3]_minsize=200_maskth=0.0.tif is a low contrast image\n",
      "  io.imsave(maskfile, m)\n",
      "/var/folders/pp/cdyfs0g13j3_15mc99_0nfmh0000gn/T/ipykernel_8315/2646462956.py:9: UserWarning: /Users/adele/PycharmProjects/Ecoli_smFISH/tests/exp16/output/MG1655_GAL-lowOD-2nd_06/DIC_masks_model=cyto2_chan=[2,3]_minsize=200_maskth=0.0.tif is a low contrast image\n",
      "  io.imsave(maskfile, m)\n"
     ]
    }
   ],
   "execution_count": 42
  },
  {
   "metadata": {},
   "cell_type": "markdown",
   "source": "",
   "id": "6afa114a9ac8ad4"
  },
  {
   "metadata": {},
   "cell_type": "markdown",
   "source": "### Cells: cyto2_omni with only DIC as input",
   "id": "ffcaa3c0eee8182d"
  },
  {
   "metadata": {
    "ExecuteTime": {
     "end_time": "2024-11-03T18:29:59.786362Z",
     "start_time": "2024-11-03T18:29:30.504273Z"
    }
   },
   "cell_type": "code",
   "source": [
    "model_type = \"cyto2_omni\"\n",
    "model = models.CellposeModel(gpu=use_GPU, model_type=model_type)\n",
    "chans = [1, 0]\n",
    "min_size = 200\n",
    "\n",
    "params = {'channels': chans, # always define this with the model\n",
    "          'rescale': None, # upscale or downscale your images, None = no rescaling\n",
    "          'mask_threshold': 0.0, # erode or dilate masks with higher or lower values between -5 and 5\n",
    "          'flow_threshold': 0.0,\n",
    "          'min_size': min_size,\n",
    "          'diameter': 0.0,\n",
    "          'invert': False,\n",
    "          'transparency': True, # transparency in flow output\n",
    "          'omni': True, # we can turn off Omnipose mask reconstruction, not advised\n",
    "          'cluster': True, # use DBSCAN clustering\n",
    "          'resample': True, # whether or not to run dynamics on rescaled grid or original grid\n",
    "          'verbose': False, # turn on if you want to see more output\n",
    "          'tile': False, # average the outputs from flipped (augmented) images; slower, usually not needed\n",
    "          'niter': None, # default None lets Omnipose calculate # of Euler iterations (usually <20) but you can tune it for over/under segmentation\n",
    "          'augment': False, # Can optionally rotate the image and average network outputs, usually not needed\n",
    "          'affinity_seg': False, # new feature, stay tuned...\n",
    "         }\n",
    "\n",
    "rootdir = '/Users/adele/PycharmProjects/Ecoli_smFISH/tests/exp16/output'\n",
    "files = Path(rootdir).glob('*/grgb.npy')\n",
    "# stop_after = 1\n",
    "imgs = [np.load(f) for f in files]\n",
    "stop_after = len(imgs)\n",
    "masks, flows, styles = model.eval(imgs[:stop_after], **params)"
   ],
   "id": "69ad916a56d0bfd6",
   "outputs": [
    {
     "name": "stdout",
     "output_type": "stream",
     "text": [
      "\u001B[38;5;78m2024-11-03 19:29:30,508\t[INFO]     cellpose_omni/models.py                   \t line 432\t>>cyto2_omni<< model set to be used\u001B[0m\n",
      "\u001B[38;5;74m2024-11-03 19:29:30,511\t[INFO]     cellpose_omni/core.py         assi...evice()\t line  67\tUsing GPU.\u001B[0m\n",
      "\u001B[38;5;74m2024-11-03 19:29:30,604\t[INFO]                                   __init__....()\t line 163\tu-net config: ([2, 32, 64, 128, 256], 4, 2)\u001B[0m\n"
     ]
    },
    {
     "data": {
      "text/plain": [
       "  0%|          | 0/10 [00:00<?, ?it/s]"
      ],
      "application/vnd.jupyter.widget-view+json": {
       "version_major": 2,
       "version_minor": 0,
       "model_id": "3258026b83bd4f549578233b80520456"
      }
     },
     "metadata": {},
     "output_type": "display_data"
    },
    {
     "name": "stderr",
     "output_type": "stream",
     "text": [
      "/Users/adele/Projects/omnipose/cellpose_omni/transforms.py:587: UserWarning: chan to seg' has value range of ZERO\n",
      "  warnings.warn(\"chan to seg' has value range of ZERO\")\n"
     ]
    },
    {
     "name": "stdout",
     "output_type": "stream",
     "text": [
      "\u001B[38;5;74m2024-11-03 19:29:34,235\t[INFO]                                   comp...masks()\t line 1618\tNo cell pixels found.\u001B[0m\n",
      "\u001B[38;5;74m2024-11-03 19:29:37,147\t[INFO]                                               \t line 1618\tNo cell pixels found.\u001B[0m\n",
      "\u001B[38;5;74m2024-11-03 19:29:40,017\t[INFO]                                               \t line 1618\tNo cell pixels found.\u001B[0m\n",
      "\u001B[38;5;74m2024-11-03 19:29:42,804\t[INFO]                                               \t line 1618\tNo cell pixels found.\u001B[0m\n",
      "\u001B[38;5;74m2024-11-03 19:29:45,574\t[INFO]                                               \t line 1618\tNo cell pixels found.\u001B[0m\n",
      "\u001B[38;5;74m2024-11-03 19:29:48,355\t[INFO]                                               \t line 1618\tNo cell pixels found.\u001B[0m\n",
      "\u001B[38;5;74m2024-11-03 19:29:51,166\t[INFO]                                               \t line 1618\tNo cell pixels found.\u001B[0m\n",
      "\u001B[38;5;74m2024-11-03 19:29:53,919\t[INFO]                                               \t line 1618\tNo cell pixels found.\u001B[0m\n",
      "\u001B[38;5;74m2024-11-03 19:29:56,777\t[INFO]                                               \t line 1618\tNo cell pixels found.\u001B[0m\n",
      "\u001B[38;5;74m2024-11-03 19:29:59,544\t[INFO]                                               \t line 1618\tNo cell pixels found.\u001B[0m\n"
     ]
    }
   ],
   "execution_count": 43
  },
  {
   "metadata": {
    "ExecuteTime": {
     "end_time": "2024-11-03T18:30:09.967286Z",
     "start_time": "2024-11-03T18:30:09.851051Z"
    }
   },
   "cell_type": "code",
   "source": [
    "# save the masks with channel information\n",
    "files = Path(rootdir).glob('*/grgb.npy')\n",
    "filelist = list(files)\n",
    "\n",
    "for f, m in zip(filelist, masks):\n",
    "    maskfile = Path(f).parent / f'DIC_masks_model={model_type}_chan={str(params[\"channels\"]).replace(\" \", \"\")}_diameter={params[\"diameter\"]}_minsize={params[\"min_size\"]}_mask={params[\"mask_threshold\"]}_flow={params[\"flow_threshold\"]}.tif'\n",
    "    io.imsave(maskfile, m)"
   ],
   "id": "f1d91b636794d7f6",
   "outputs": [
    {
     "name": "stderr",
     "output_type": "stream",
     "text": [
      "/var/folders/pp/cdyfs0g13j3_15mc99_0nfmh0000gn/T/ipykernel_8315/2646462956.py:9: UserWarning: /Users/adele/PycharmProjects/Ecoli_smFISH/tests/exp16/output/MG1655_GLY-lowOD-2nd_16/DIC_masks_model=cyto2_omni_chan=[1,0]_minsize=200_maskth=0.0.tif is a boolean image: setting True to 255 and False to 0. To silence this warning, please convert the image using img_as_ubyte.\n",
      "  io.imsave(maskfile, m)\n",
      "/var/folders/pp/cdyfs0g13j3_15mc99_0nfmh0000gn/T/ipykernel_8315/2646462956.py:9: UserWarning: /Users/adele/PycharmProjects/Ecoli_smFISH/tests/exp16/output/MG1655_GLY-lowOD-2nd_16/DIC_masks_model=cyto2_omni_chan=[1,0]_minsize=200_maskth=0.0.tif is a low contrast image\n",
      "  io.imsave(maskfile, m)\n",
      "/var/folders/pp/cdyfs0g13j3_15mc99_0nfmh0000gn/T/ipykernel_8315/2646462956.py:9: UserWarning: /Users/adele/PycharmProjects/Ecoli_smFISH/tests/exp16/output/MG1655_GLY-lowOD-2nd_17/DIC_masks_model=cyto2_omni_chan=[1,0]_minsize=200_maskth=0.0.tif is a boolean image: setting True to 255 and False to 0. To silence this warning, please convert the image using img_as_ubyte.\n",
      "  io.imsave(maskfile, m)\n",
      "/var/folders/pp/cdyfs0g13j3_15mc99_0nfmh0000gn/T/ipykernel_8315/2646462956.py:9: UserWarning: /Users/adele/PycharmProjects/Ecoli_smFISH/tests/exp16/output/MG1655_GLY-lowOD-2nd_17/DIC_masks_model=cyto2_omni_chan=[1,0]_minsize=200_maskth=0.0.tif is a low contrast image\n",
      "  io.imsave(maskfile, m)\n",
      "/var/folders/pp/cdyfs0g13j3_15mc99_0nfmh0000gn/T/ipykernel_8315/2646462956.py:9: UserWarning: /Users/adele/PycharmProjects/Ecoli_smFISH/tests/exp16/output/MG1655_GLU_OD_0.3_left_02/DIC_masks_model=cyto2_omni_chan=[1,0]_minsize=200_maskth=0.0.tif is a boolean image: setting True to 255 and False to 0. To silence this warning, please convert the image using img_as_ubyte.\n",
      "  io.imsave(maskfile, m)\n",
      "/var/folders/pp/cdyfs0g13j3_15mc99_0nfmh0000gn/T/ipykernel_8315/2646462956.py:9: UserWarning: /Users/adele/PycharmProjects/Ecoli_smFISH/tests/exp16/output/MG1655_GLU_OD_0.3_left_02/DIC_masks_model=cyto2_omni_chan=[1,0]_minsize=200_maskth=0.0.tif is a low contrast image\n",
      "  io.imsave(maskfile, m)\n",
      "/var/folders/pp/cdyfs0g13j3_15mc99_0nfmh0000gn/T/ipykernel_8315/2646462956.py:9: UserWarning: /Users/adele/PycharmProjects/Ecoli_smFISH/tests/exp16/output/MG1655_GLU_OD_0.3_left_03/DIC_masks_model=cyto2_omni_chan=[1,0]_minsize=200_maskth=0.0.tif is a boolean image: setting True to 255 and False to 0. To silence this warning, please convert the image using img_as_ubyte.\n",
      "  io.imsave(maskfile, m)\n",
      "/var/folders/pp/cdyfs0g13j3_15mc99_0nfmh0000gn/T/ipykernel_8315/2646462956.py:9: UserWarning: /Users/adele/PycharmProjects/Ecoli_smFISH/tests/exp16/output/MG1655_GLU_OD_0.3_left_03/DIC_masks_model=cyto2_omni_chan=[1,0]_minsize=200_maskth=0.0.tif is a low contrast image\n",
      "  io.imsave(maskfile, m)\n",
      "/var/folders/pp/cdyfs0g13j3_15mc99_0nfmh0000gn/T/ipykernel_8315/2646462956.py:9: UserWarning: /Users/adele/PycharmProjects/Ecoli_smFISH/tests/exp16/output/MG1655_GAL-lowOD-2nd_05/DIC_masks_model=cyto2_omni_chan=[1,0]_minsize=200_maskth=0.0.tif is a boolean image: setting True to 255 and False to 0. To silence this warning, please convert the image using img_as_ubyte.\n",
      "  io.imsave(maskfile, m)\n",
      "/var/folders/pp/cdyfs0g13j3_15mc99_0nfmh0000gn/T/ipykernel_8315/2646462956.py:9: UserWarning: /Users/adele/PycharmProjects/Ecoli_smFISH/tests/exp16/output/MG1655_GAL-lowOD-2nd_05/DIC_masks_model=cyto2_omni_chan=[1,0]_minsize=200_maskth=0.0.tif is a low contrast image\n",
      "  io.imsave(maskfile, m)\n",
      "/var/folders/pp/cdyfs0g13j3_15mc99_0nfmh0000gn/T/ipykernel_8315/2646462956.py:9: UserWarning: /Users/adele/PycharmProjects/Ecoli_smFISH/tests/exp16/output/MG1655_MAN_OD_0.3_left_08/DIC_masks_model=cyto2_omni_chan=[1,0]_minsize=200_maskth=0.0.tif is a boolean image: setting True to 255 and False to 0. To silence this warning, please convert the image using img_as_ubyte.\n",
      "  io.imsave(maskfile, m)\n",
      "/var/folders/pp/cdyfs0g13j3_15mc99_0nfmh0000gn/T/ipykernel_8315/2646462956.py:9: UserWarning: /Users/adele/PycharmProjects/Ecoli_smFISH/tests/exp16/output/MG1655_MAN_OD_0.3_left_08/DIC_masks_model=cyto2_omni_chan=[1,0]_minsize=200_maskth=0.0.tif is a low contrast image\n",
      "  io.imsave(maskfile, m)\n",
      "/var/folders/pp/cdyfs0g13j3_15mc99_0nfmh0000gn/T/ipykernel_8315/2646462956.py:9: UserWarning: /Users/adele/PycharmProjects/Ecoli_smFISH/tests/exp16/output/MG1655_MAN_OD_0.3_left_07/DIC_masks_model=cyto2_omni_chan=[1,0]_minsize=200_maskth=0.0.tif is a boolean image: setting True to 255 and False to 0. To silence this warning, please convert the image using img_as_ubyte.\n",
      "  io.imsave(maskfile, m)\n",
      "/var/folders/pp/cdyfs0g13j3_15mc99_0nfmh0000gn/T/ipykernel_8315/2646462956.py:9: UserWarning: /Users/adele/PycharmProjects/Ecoli_smFISH/tests/exp16/output/MG1655_MAN_OD_0.3_left_07/DIC_masks_model=cyto2_omni_chan=[1,0]_minsize=200_maskth=0.0.tif is a low contrast image\n",
      "  io.imsave(maskfile, m)\n",
      "/var/folders/pp/cdyfs0g13j3_15mc99_0nfmh0000gn/T/ipykernel_8315/2646462956.py:9: UserWarning: /Users/adele/PycharmProjects/Ecoli_smFISH/tests/exp16/output/MG1655_LB_fixed2806_hybed1906_left_03/DIC_masks_model=cyto2_omni_chan=[1,0]_minsize=200_maskth=0.0.tif is a boolean image: setting True to 255 and False to 0. To silence this warning, please convert the image using img_as_ubyte.\n",
      "  io.imsave(maskfile, m)\n",
      "/var/folders/pp/cdyfs0g13j3_15mc99_0nfmh0000gn/T/ipykernel_8315/2646462956.py:9: UserWarning: /Users/adele/PycharmProjects/Ecoli_smFISH/tests/exp16/output/MG1655_LB_fixed2806_hybed1906_left_03/DIC_masks_model=cyto2_omni_chan=[1,0]_minsize=200_maskth=0.0.tif is a low contrast image\n",
      "  io.imsave(maskfile, m)\n",
      "/var/folders/pp/cdyfs0g13j3_15mc99_0nfmh0000gn/T/ipykernel_8315/2646462956.py:9: UserWarning: /Users/adele/PycharmProjects/Ecoli_smFISH/tests/exp16/output/MG1655_LB_fixed2806_hybed1906_left_05/DIC_masks_model=cyto2_omni_chan=[1,0]_minsize=200_maskth=0.0.tif is a boolean image: setting True to 255 and False to 0. To silence this warning, please convert the image using img_as_ubyte.\n",
      "  io.imsave(maskfile, m)\n",
      "/var/folders/pp/cdyfs0g13j3_15mc99_0nfmh0000gn/T/ipykernel_8315/2646462956.py:9: UserWarning: /Users/adele/PycharmProjects/Ecoli_smFISH/tests/exp16/output/MG1655_LB_fixed2806_hybed1906_left_05/DIC_masks_model=cyto2_omni_chan=[1,0]_minsize=200_maskth=0.0.tif is a low contrast image\n",
      "  io.imsave(maskfile, m)\n",
      "/var/folders/pp/cdyfs0g13j3_15mc99_0nfmh0000gn/T/ipykernel_8315/2646462956.py:9: UserWarning: /Users/adele/PycharmProjects/Ecoli_smFISH/tests/exp16/output/MG1655_GAL-lowOD-2nd_06/DIC_masks_model=cyto2_omni_chan=[1,0]_minsize=200_maskth=0.0.tif is a boolean image: setting True to 255 and False to 0. To silence this warning, please convert the image using img_as_ubyte.\n",
      "  io.imsave(maskfile, m)\n",
      "/var/folders/pp/cdyfs0g13j3_15mc99_0nfmh0000gn/T/ipykernel_8315/2646462956.py:9: UserWarning: /Users/adele/PycharmProjects/Ecoli_smFISH/tests/exp16/output/MG1655_GAL-lowOD-2nd_06/DIC_masks_model=cyto2_omni_chan=[1,0]_minsize=200_maskth=0.0.tif is a low contrast image\n",
      "  io.imsave(maskfile, m)\n"
     ]
    }
   ],
   "execution_count": 44
  },
  {
   "metadata": {},
   "cell_type": "markdown",
   "source": "### Cells: cyto2_omni with DIC and DAPI as input",
   "id": "e01d37ea9dc0ae4c"
  },
  {
   "metadata": {
    "ExecuteTime": {
     "end_time": "2024-11-04T09:22:28.312588Z",
     "start_time": "2024-11-04T09:21:37.231966Z"
    }
   },
   "cell_type": "code",
   "source": [
    "model_type = \"cyto2_omni\"\n",
    "model = models.CellposeModel(gpu=use_GPU, model_type=model_type)\n",
    "chans = [1, 2]\n",
    "diameter = 35\n",
    "min_size = 0\n",
    "mask = -2\n",
    "flow = 0\n",
    "\n",
    "params = {'channels': chans, # always define this with the model\n",
    "          'rescale': None, # upscale or downscale your images, None = no rescaling\n",
    "          'mask_threshold': mask, # erode or dilate masks with higher or lower values between -5 and 5\n",
    "          'flow_threshold': flow,\n",
    "          'min_size': min_size,\n",
    "          'diameter': diameter,\n",
    "          'invert': False,\n",
    "          'transparency': True, # transparency in flow output\n",
    "          'omni': True, # we can turn off Omnipose mask reconstruction, not advised\n",
    "          'cluster': True, # use DBSCAN clustering\n",
    "          'resample': True, # whether or not to run dynamics on rescaled grid or original grid\n",
    "          'verbose': False, # turn on if you want to see more output\n",
    "          'tile': False, # average the outputs from flipped (augmented) images; slower, usually not needed\n",
    "          'niter': None, # default None lets Omnipose calculate # of Euler iterations (usually <20) but you can tune it for over/under segmentation\n",
    "          'augment': False, # Can optionally rotate the image and average network outputs, usually not needed\n",
    "          'affinity_seg': False, # new feature, stay tuned...\n",
    "         }\n",
    "\n",
    "rootdir = '/Users/adele/PycharmProjects/Ecoli_smFISH/tests/exp16/output'\n",
    "files = Path(rootdir).glob('*/grgb.npy')\n",
    "# stop_after = 1\n",
    "imgs = [np.load(f) for f in files]\n",
    "stop_after = len(imgs)\n",
    "masks, flows, styles = model.eval(imgs[:stop_after], **params)"
   ],
   "id": "be123ccd77e333d2",
   "outputs": [
    {
     "name": "stdout",
     "output_type": "stream",
     "text": [
      "\u001B[38;5;78m2024-11-04 10:21:37,238\t[INFO]     cellpose_omni/models.py                   \t line 432\t>>cyto2_omni<< model set to be used\u001B[0m\n",
      "\u001B[38;5;74m2024-11-04 10:21:37,268\t[INFO]     cellpose_omni/core.py         assi...evice()\t line  67\tUsing GPU.\u001B[0m\n",
      "\u001B[38;5;74m2024-11-04 10:21:37,531\t[INFO]                                   __init__....()\t line 163\tu-net config: ([2, 32, 64, 128, 256], 4, 2)\u001B[0m\n"
     ]
    },
    {
     "data": {
      "text/plain": [
       "  0%|          | 0/10 [00:00<?, ?it/s]"
      ],
      "application/vnd.jupyter.widget-view+json": {
       "version_major": 2,
       "version_minor": 0,
       "model_id": "0de8cf94483c4c518be08ac99083c7a5"
      }
     },
     "metadata": {},
     "output_type": "display_data"
    },
    {
     "name": "stderr",
     "output_type": "stream",
     "text": [
      "/Users/adele/Projects/omnipose/cellpose_omni/transforms.py:587: UserWarning: chan to seg' has value range of ZERO\n",
      "  warnings.warn(\"chan to seg' has value range of ZERO\")\n",
      "/Users/adele/Projects/omnipose/cellpose_omni/transforms.py:587: UserWarning: chan to seg' has value range of ZERO\n",
      "  warnings.warn(\"chan to seg' has value range of ZERO\")\n",
      "/Users/adele/Projects/omnipose/cellpose_omni/transforms.py:587: UserWarning: chan to seg' has value range of ZERO\n",
      "  warnings.warn(\"chan to seg' has value range of ZERO\")\n",
      "/Users/adele/Projects/omnipose/cellpose_omni/transforms.py:587: UserWarning: chan to seg' has value range of ZERO\n",
      "  warnings.warn(\"chan to seg' has value range of ZERO\")\n",
      "/Users/adele/Projects/omnipose/cellpose_omni/transforms.py:587: UserWarning: chan to seg' has value range of ZERO\n",
      "  warnings.warn(\"chan to seg' has value range of ZERO\")\n",
      "/Users/adele/Projects/omnipose/cellpose_omni/transforms.py:587: UserWarning: chan to seg' has value range of ZERO\n",
      "  warnings.warn(\"chan to seg' has value range of ZERO\")\n",
      "/Users/adele/Projects/omnipose/cellpose_omni/transforms.py:587: UserWarning: chan to seg' has value range of ZERO\n",
      "  warnings.warn(\"chan to seg' has value range of ZERO\")\n",
      "/Users/adele/Projects/omnipose/cellpose_omni/transforms.py:587: UserWarning: chan to seg' has value range of ZERO\n",
      "  warnings.warn(\"chan to seg' has value range of ZERO\")\n",
      "/Users/adele/Projects/omnipose/cellpose_omni/transforms.py:587: UserWarning: chan to seg' has value range of ZERO\n",
      "  warnings.warn(\"chan to seg' has value range of ZERO\")\n",
      "/Users/adele/Projects/omnipose/cellpose_omni/transforms.py:587: UserWarning: chan to seg' has value range of ZERO\n",
      "  warnings.warn(\"chan to seg' has value range of ZERO\")\n"
     ]
    }
   ],
   "execution_count": 52
  },
  {
   "metadata": {
    "ExecuteTime": {
     "end_time": "2024-11-04T09:23:53.215886Z",
     "start_time": "2024-11-04T09:23:53.021692Z"
    }
   },
   "cell_type": "code",
   "source": [
    "# save the masks with channel information\n",
    "files = Path(rootdir).glob('*/grgb.npy')\n",
    "filelist = list(files)\n",
    "\n",
    "for f, m in zip(filelist, masks):\n",
    "    maskfile = Path(f).parent / f'DIC_masks_model={model_type}_chan={str(params[\"channels\"]).replace(\" \", \"\")}_diameter={params[\"diameter\"]}_minsize={params[\"min_size\"]}_mask={params[\"mask_threshold\"]}_flow={params[\"flow_threshold\"]}.tif'\n",
    "    io.imsave(maskfile, m)"
   ],
   "id": "e53bb131bfee7c92",
   "outputs": [
    {
     "name": "stderr",
     "output_type": "stream",
     "text": [
      "/var/folders/pp/cdyfs0g13j3_15mc99_0nfmh0000gn/T/ipykernel_8315/1521786261.py:7: UserWarning: /Users/adele/PycharmProjects/Ecoli_smFISH/tests/exp16/output/MG1655_GLY-lowOD-2nd_16/DIC_masks_model=cyto2_omni_chan=[1,2]_diameter=35_minsize=0_mask=-2_flow=0.tif is a low contrast image\n",
      "  io.imsave(maskfile, m)\n",
      "/var/folders/pp/cdyfs0g13j3_15mc99_0nfmh0000gn/T/ipykernel_8315/1521786261.py:7: UserWarning: /Users/adele/PycharmProjects/Ecoli_smFISH/tests/exp16/output/MG1655_GLY-lowOD-2nd_17/DIC_masks_model=cyto2_omni_chan=[1,2]_diameter=35_minsize=0_mask=-2_flow=0.tif is a low contrast image\n",
      "  io.imsave(maskfile, m)\n",
      "/var/folders/pp/cdyfs0g13j3_15mc99_0nfmh0000gn/T/ipykernel_8315/1521786261.py:7: UserWarning: /Users/adele/PycharmProjects/Ecoli_smFISH/tests/exp16/output/MG1655_GLU_OD_0.3_left_02/DIC_masks_model=cyto2_omni_chan=[1,2]_diameter=35_minsize=0_mask=-2_flow=0.tif is a low contrast image\n",
      "  io.imsave(maskfile, m)\n",
      "/var/folders/pp/cdyfs0g13j3_15mc99_0nfmh0000gn/T/ipykernel_8315/1521786261.py:7: UserWarning: /Users/adele/PycharmProjects/Ecoli_smFISH/tests/exp16/output/MG1655_GLU_OD_0.3_left_03/DIC_masks_model=cyto2_omni_chan=[1,2]_diameter=35_minsize=0_mask=-2_flow=0.tif is a low contrast image\n",
      "  io.imsave(maskfile, m)\n",
      "/var/folders/pp/cdyfs0g13j3_15mc99_0nfmh0000gn/T/ipykernel_8315/1521786261.py:7: UserWarning: /Users/adele/PycharmProjects/Ecoli_smFISH/tests/exp16/output/MG1655_GAL-lowOD-2nd_05/DIC_masks_model=cyto2_omni_chan=[1,2]_diameter=35_minsize=0_mask=-2_flow=0.tif is a low contrast image\n",
      "  io.imsave(maskfile, m)\n",
      "/var/folders/pp/cdyfs0g13j3_15mc99_0nfmh0000gn/T/ipykernel_8315/1521786261.py:7: UserWarning: /Users/adele/PycharmProjects/Ecoli_smFISH/tests/exp16/output/MG1655_MAN_OD_0.3_left_08/DIC_masks_model=cyto2_omni_chan=[1,2]_diameter=35_minsize=0_mask=-2_flow=0.tif is a low contrast image\n",
      "  io.imsave(maskfile, m)\n",
      "/var/folders/pp/cdyfs0g13j3_15mc99_0nfmh0000gn/T/ipykernel_8315/1521786261.py:7: UserWarning: /Users/adele/PycharmProjects/Ecoli_smFISH/tests/exp16/output/MG1655_MAN_OD_0.3_left_07/DIC_masks_model=cyto2_omni_chan=[1,2]_diameter=35_minsize=0_mask=-2_flow=0.tif is a low contrast image\n",
      "  io.imsave(maskfile, m)\n",
      "/var/folders/pp/cdyfs0g13j3_15mc99_0nfmh0000gn/T/ipykernel_8315/1521786261.py:7: UserWarning: /Users/adele/PycharmProjects/Ecoli_smFISH/tests/exp16/output/MG1655_LB_fixed2806_hybed1906_left_03/DIC_masks_model=cyto2_omni_chan=[1,2]_diameter=35_minsize=0_mask=-2_flow=0.tif is a low contrast image\n",
      "  io.imsave(maskfile, m)\n",
      "/var/folders/pp/cdyfs0g13j3_15mc99_0nfmh0000gn/T/ipykernel_8315/1521786261.py:7: UserWarning: /Users/adele/PycharmProjects/Ecoli_smFISH/tests/exp16/output/MG1655_LB_fixed2806_hybed1906_left_05/DIC_masks_model=cyto2_omni_chan=[1,2]_diameter=35_minsize=0_mask=-2_flow=0.tif is a low contrast image\n",
      "  io.imsave(maskfile, m)\n",
      "/var/folders/pp/cdyfs0g13j3_15mc99_0nfmh0000gn/T/ipykernel_8315/1521786261.py:7: UserWarning: /Users/adele/PycharmProjects/Ecoli_smFISH/tests/exp16/output/MG1655_GAL-lowOD-2nd_06/DIC_masks_model=cyto2_omni_chan=[1,2]_diameter=35_minsize=0_mask=-2_flow=0.tif is a low contrast image\n",
      "  io.imsave(maskfile, m)\n"
     ]
    }
   ],
   "execution_count": 53
  },
  {
   "metadata": {},
   "cell_type": "markdown",
   "source": [
    "### Cell mask postprocessing\n",
    "\n",
    "- in: cell mask, nuclear mask\n",
    "- out: cell masks with\n",
    "  - intersect with a DAPI mask\n",
    "  - have an area > min_size\n",
    "  - have an area < max_size\n",
    "- Histograms:\n",
    "  - intensities under masks before and after\n",
    "  - cell areas before and after"
   ],
   "id": "98516f51c870620f"
  },
  {
   "metadata": {
    "ExecuteTime": {
     "end_time": "2024-11-04T12:35:30.201833Z",
     "start_time": "2024-11-04T12:35:30.198997Z"
    }
   },
   "cell_type": "code",
   "source": [
    "def remove_cell_masks_with_no_dapi(cell_masks, dapi_masks):\n",
    "    cells_to_discard = []\n",
    "    for label in np.unique(cell_masks):\n",
    "        dapi_found = False\n",
    "        cell_coordinates = np.where(cell_masks == label)\n",
    "        for y, x in zip(cell_coordinates[0], cell_coordinates[1]):\n",
    "            if dapi_masks[y, x] != 0:\n",
    "                dapi_found = True\n",
    "                break\n",
    "        if dapi_found == False:\n",
    "            cells_to_discard.append(label)\n",
    "    print(f'removing {len(cells_to_discard)} cells with no dapi signal')\n",
    "    cell_masks[np.isin(cell_masks, cells_to_discard)] = 0\n",
    "    return cell_masks"
   ],
   "id": "421b0ffd9d2404d8",
   "outputs": [],
   "execution_count": 178
  },
  {
   "metadata": {
    "ExecuteTime": {
     "end_time": "2024-11-04T12:38:08.175834Z",
     "start_time": "2024-11-04T12:38:08.110045Z"
    }
   },
   "cell_type": "code",
   "source": [
    "cell_masks = io.imread('/Users/adele/PycharmProjects/Ecoli_smFISH/tests/exp16/output/MG1655_LB_fixed2806_hybed1906_left_03/DIC_masks_model=cyto2_omni_chan=[1,2]_diameter=35_minsize=0_mask=-2_flow=0.tif')\n",
    "dapi_masks = io.imread('/Users/adele/PycharmProjects/Ecoli_smFISH/tests/exp16/output/MG1655_LB_fixed2806_hybed1906_left_03/DAPI_masks_model=nuclei_chan=[0,0]_diameter=0.0_minsize=10_mask=0.0_flow=0.0.tif')\n",
    "\n",
    "print(len(np.unique(cell_masks, return_counts=True)[0]))"
   ],
   "id": "3160a06b87a6ad76",
   "outputs": [
    {
     "name": "stdout",
     "output_type": "stream",
     "text": [
      "1731\n"
     ]
    }
   ],
   "execution_count": 183
  },
  {
   "metadata": {
    "ExecuteTime": {
     "end_time": "2024-11-04T12:38:31.792591Z",
     "start_time": "2024-11-04T12:38:12.229212Z"
    }
   },
   "cell_type": "code",
   "source": "cell_masks = remove_cell_masks_with_no_dapi(cell_masks, dapi_masks)",
   "id": "4bbe67cb08cbc1c5",
   "outputs": [
    {
     "name": "stdout",
     "output_type": "stream",
     "text": [
      "removing 487 cells with no dapi signal\n"
     ]
    }
   ],
   "execution_count": 184
  },
  {
   "metadata": {
    "ExecuteTime": {
     "end_time": "2024-11-04T12:39:15.722924Z",
     "start_time": "2024-11-04T12:39:15.661980Z"
    }
   },
   "cell_type": "code",
   "source": "print(len(np.unique(cell_masks, return_counts=True)[0]))",
   "id": "b06930041ef34e6",
   "outputs": [
    {
     "name": "stdout",
     "output_type": "stream",
     "text": [
      "1244\n"
     ]
    }
   ],
   "execution_count": 186
  },
  {
   "metadata": {
    "ExecuteTime": {
     "end_time": "2024-11-04T12:39:33.812107Z",
     "start_time": "2024-11-04T12:39:33.809675Z"
    }
   },
   "cell_type": "code",
   "source": "1731 - 487",
   "id": "ebda082d2ba6b4e6",
   "outputs": [
    {
     "data": {
      "text/plain": [
       "1244"
      ]
     },
     "execution_count": 187,
     "metadata": {},
     "output_type": "execute_result"
    }
   ],
   "execution_count": 187
  },
  {
   "metadata": {
    "ExecuteTime": {
     "end_time": "2024-11-04T12:40:40.912450Z",
     "start_time": "2024-11-04T12:40:40.882434Z"
    }
   },
   "cell_type": "code",
   "source": "io.imsave('/Users/adele/PycharmProjects/Ecoli_smFISH/tests/exp16/output/MG1655_LB_fixed2806_hybed1906_left_03/DIC_masks_model=cyto2_omni_chan=[1,2]_diameter=35_minsize=0_mask=-2_flow=0.pp.tif', cell_masks)",
   "id": "89700ebe2a9bb9fb",
   "outputs": [
    {
     "name": "stderr",
     "output_type": "stream",
     "text": [
      "/var/folders/pp/cdyfs0g13j3_15mc99_0nfmh0000gn/T/ipykernel_8315/816495749.py:1: UserWarning: /Users/adele/PycharmProjects/Ecoli_smFISH/tests/exp16/output/MG1655_LB_fixed2806_hybed1906_left_03/DIC_masks_model=cyto2_omni_chan=[1,2]_diameter=35_minsize=0_mask=-2_flow=0.pp.tif is a low contrast image\n",
      "  io.imsave('/Users/adele/PycharmProjects/Ecoli_smFISH/tests/exp16/output/MG1655_LB_fixed2806_hybed1906_left_03/DIC_masks_model=cyto2_omni_chan=[1,2]_diameter=35_minsize=0_mask=-2_flow=0.pp.tif', cell_masks)\n"
     ]
    }
   ],
   "execution_count": 188
  },
  {
   "metadata": {
    "ExecuteTime": {
     "end_time": "2024-11-04T12:44:42.297726Z",
     "start_time": "2024-11-04T12:44:42.228927Z"
    }
   },
   "cell_type": "code",
   "source": "np.unique(cell_masks, return_counts=True)",
   "id": "ed8e0a3b44f610d8",
   "outputs": [
    {
     "data": {
      "text/plain": [
       "(array([   0,    1,    2, ..., 1726, 1727, 1728], dtype=uint16),\n",
       " array([4086343,     266,    1218, ...,     125,     106,      67]))"
      ]
     },
     "execution_count": 189,
     "metadata": {},
     "output_type": "execute_result"
    }
   ],
   "execution_count": 189
  },
  {
   "metadata": {
    "ExecuteTime": {
     "end_time": "2024-11-04T12:44:48.823463Z",
     "start_time": "2024-11-04T12:44:48.732252Z"
    }
   },
   "cell_type": "code",
   "source": [
    "df = pd.DataFrame(np.unique(cell_masks, return_counts=True), index=['label', 'area']).T.astype('uint16')\n",
    "df"
   ],
   "id": "9265883f8c90fa26",
   "outputs": [
    {
     "data": {
      "text/plain": [
       "      label   area\n",
       "0         0  23111\n",
       "1         1    266\n",
       "2         2   1218\n",
       "3         3    730\n",
       "4         5    374\n",
       "...     ...    ...\n",
       "1239   1723    169\n",
       "1240   1725    233\n",
       "1241   1726    125\n",
       "1242   1727    106\n",
       "1243   1728     67\n",
       "\n",
       "[1244 rows x 2 columns]"
      ],
      "text/html": [
       "<div>\n",
       "<style scoped>\n",
       "    .dataframe tbody tr th:only-of-type {\n",
       "        vertical-align: middle;\n",
       "    }\n",
       "\n",
       "    .dataframe tbody tr th {\n",
       "        vertical-align: top;\n",
       "    }\n",
       "\n",
       "    .dataframe thead th {\n",
       "        text-align: right;\n",
       "    }\n",
       "</style>\n",
       "<table border=\"1\" class=\"dataframe\">\n",
       "  <thead>\n",
       "    <tr style=\"text-align: right;\">\n",
       "      <th></th>\n",
       "      <th>label</th>\n",
       "      <th>area</th>\n",
       "    </tr>\n",
       "  </thead>\n",
       "  <tbody>\n",
       "    <tr>\n",
       "      <th>0</th>\n",
       "      <td>0</td>\n",
       "      <td>23111</td>\n",
       "    </tr>\n",
       "    <tr>\n",
       "      <th>1</th>\n",
       "      <td>1</td>\n",
       "      <td>266</td>\n",
       "    </tr>\n",
       "    <tr>\n",
       "      <th>2</th>\n",
       "      <td>2</td>\n",
       "      <td>1218</td>\n",
       "    </tr>\n",
       "    <tr>\n",
       "      <th>3</th>\n",
       "      <td>3</td>\n",
       "      <td>730</td>\n",
       "    </tr>\n",
       "    <tr>\n",
       "      <th>4</th>\n",
       "      <td>5</td>\n",
       "      <td>374</td>\n",
       "    </tr>\n",
       "    <tr>\n",
       "      <th>...</th>\n",
       "      <td>...</td>\n",
       "      <td>...</td>\n",
       "    </tr>\n",
       "    <tr>\n",
       "      <th>1239</th>\n",
       "      <td>1723</td>\n",
       "      <td>169</td>\n",
       "    </tr>\n",
       "    <tr>\n",
       "      <th>1240</th>\n",
       "      <td>1725</td>\n",
       "      <td>233</td>\n",
       "    </tr>\n",
       "    <tr>\n",
       "      <th>1241</th>\n",
       "      <td>1726</td>\n",
       "      <td>125</td>\n",
       "    </tr>\n",
       "    <tr>\n",
       "      <th>1242</th>\n",
       "      <td>1727</td>\n",
       "      <td>106</td>\n",
       "    </tr>\n",
       "    <tr>\n",
       "      <th>1243</th>\n",
       "      <td>1728</td>\n",
       "      <td>67</td>\n",
       "    </tr>\n",
       "  </tbody>\n",
       "</table>\n",
       "<p>1244 rows × 2 columns</p>\n",
       "</div>"
      ]
     },
     "execution_count": 190,
     "metadata": {},
     "output_type": "execute_result"
    }
   ],
   "execution_count": 190
  },
  {
   "metadata": {
    "ExecuteTime": {
     "end_time": "2024-11-04T12:44:53.103862Z",
     "start_time": "2024-11-04T12:44:52.925147Z"
    }
   },
   "cell_type": "code",
   "source": "sns.histplot(data=df.query('label != 0'), x='area');",
   "id": "2b1f62d2b5fbf6b0",
   "outputs": [
    {
     "data": {
      "text/plain": [
       "<Figure size 640x480 with 1 Axes>"
      ],
      "image/png": "[encoded data removed]"
     },
     "metadata": {},
     "output_type": "display_data"
    }
   ],
   "execution_count": 191
  },
  {
   "metadata": {
    "ExecuteTime": {
     "end_time": "2024-11-04T12:54:06.610242Z",
     "start_time": "2024-11-04T12:54:06.604745Z"
    }
   },
   "cell_type": "code",
   "source": [
    "min_size, max_size = 500, 1500\n",
    "df.query('area > @min_size').query('area < @max_size').shape"
   ],
   "id": "faa6c57b7b21b5db",
   "outputs": [
    {
     "data": {
      "text/plain": [
       "(943, 2)"
      ]
     },
     "execution_count": 196,
     "metadata": {},
     "output_type": "execute_result"
    }
   ],
   "execution_count": 196
  },
  {
   "metadata": {
    "ExecuteTime": {
     "end_time": "2024-11-04T12:53:33.689706Z",
     "start_time": "2024-11-04T12:53:33.681829Z"
    }
   },
   "cell_type": "code",
   "source": "df.shape",
   "id": "2c6da3799c1a343d",
   "outputs": [
    {
     "data": {
      "text/plain": [
       "(1244, 2)"
      ]
     },
     "execution_count": 194,
     "metadata": {},
     "output_type": "execute_result"
    }
   ],
   "execution_count": 194
  },
  {
   "metadata": {
    "ExecuteTime": {
     "end_time": "2024-11-04T14:04:21.535166Z",
     "start_time": "2024-11-04T14:04:21.386249Z"
    }
   },
   "cell_type": "code",
   "source": [
    "props = pd.DataFrame(regionprops_table(cell_masks, properties=['label', 'bbox', 'area', 'eccentricity', 'centroid']))\n",
    "props"
   ],
   "id": "af0d3638030cb8b6",
   "outputs": [
    {
     "data": {
      "text/plain": [
       "      label  bbox-0  bbox-1  bbox-2  bbox-3    area  eccentricity  \\\n",
       "0         1       0       0      27      14   266.0      0.902246   \n",
       "1         2       0     163      71     210  1218.0      0.978887   \n",
       "2         3       0     283      21     338   730.0      0.950570   \n",
       "3         5       0     380      24     400   374.0      0.651881   \n",
       "4         6       0     396      30     414   446.0      0.835030   \n",
       "...     ...     ...     ...     ...     ...     ...           ...   \n",
       "1238   1723    2281    1769    2294    1785   169.0      0.530619   \n",
       "1239   1725    2283    2171    2294    2199   233.0      0.899730   \n",
       "1240   1726    2286      28    2294      51   125.0      0.927810   \n",
       "1241   1727    2286     737    2294     756   106.0      0.916992   \n",
       "1242   1728    2286    1413    2294    1426    67.0      0.799449   \n",
       "\n",
       "       centroid-0   centroid-1  \n",
       "0       10.518797     4.943609  \n",
       "1       34.674056   185.918719  \n",
       "2        8.186301   313.795890  \n",
       "3        9.919786   389.157754  \n",
       "4       14.376682   404.930493  \n",
       "...           ...          ...  \n",
       "1238  2287.840237  1776.502959  \n",
       "1239  2288.845494  2185.270386  \n",
       "1240  2290.368000    40.296000  \n",
       "1241  2290.264151   744.707547  \n",
       "1242  2290.567164  1419.477612  \n",
       "\n",
       "[1243 rows x 9 columns]"
      ],
      "text/html": [
       "<div>\n",
       "<style scoped>\n",
       "    .dataframe tbody tr th:only-of-type {\n",
       "        vertical-align: middle;\n",
       "    }\n",
       "\n",
       "    .dataframe tbody tr th {\n",
       "        vertical-align: top;\n",
       "    }\n",
       "\n",
       "    .dataframe thead th {\n",
       "        text-align: right;\n",
       "    }\n",
       "</style>\n",
       "<table border=\"1\" class=\"dataframe\">\n",
       "  <thead>\n",
       "    <tr style=\"text-align: right;\">\n",
       "      <th></th>\n",
       "      <th>label</th>\n",
       "      <th>bbox-0</th>\n",
       "      <th>bbox-1</th>\n",
       "      <th>bbox-2</th>\n",
       "      <th>bbox-3</th>\n",
       "      <th>area</th>\n",
       "      <th>eccentricity</th>\n",
       "      <th>centroid-0</th>\n",
       "      <th>centroid-1</th>\n",
       "    </tr>\n",
       "  </thead>\n",
       "  <tbody>\n",
       "    <tr>\n",
       "      <th>0</th>\n",
       "      <td>1</td>\n",
       "      <td>0</td>\n",
       "      <td>0</td>\n",
       "      <td>27</td>\n",
       "      <td>14</td>\n",
       "      <td>266.0</td>\n",
       "      <td>0.902246</td>\n",
       "      <td>10.518797</td>\n",
       "      <td>4.943609</td>\n",
       "    </tr>\n",
       "    <tr>\n",
       "      <th>1</th>\n",
       "      <td>2</td>\n",
       "      <td>0</td>\n",
       "      <td>163</td>\n",
       "      <td>71</td>\n",
       "      <td>210</td>\n",
       "      <td>1218.0</td>\n",
       "      <td>0.978887</td>\n",
       "      <td>34.674056</td>\n",
       "      <td>185.918719</td>\n",
       "    </tr>\n",
       "    <tr>\n",
       "      <th>2</th>\n",
       "      <td>3</td>\n",
       "      <td>0</td>\n",
       "      <td>283</td>\n",
       "      <td>21</td>\n",
       "      <td>338</td>\n",
       "      <td>730.0</td>\n",
       "      <td>0.950570</td>\n",
       "      <td>8.186301</td>\n",
       "      <td>313.795890</td>\n",
       "    </tr>\n",
       "    <tr>\n",
       "      <th>3</th>\n",
       "      <td>5</td>\n",
       "      <td>0</td>\n",
       "      <td>380</td>\n",
       "      <td>24</td>\n",
       "      <td>400</td>\n",
       "      <td>374.0</td>\n",
       "      <td>0.651881</td>\n",
       "      <td>9.919786</td>\n",
       "      <td>389.157754</td>\n",
       "    </tr>\n",
       "    <tr>\n",
       "      <th>4</th>\n",
       "      <td>6</td>\n",
       "      <td>0</td>\n",
       "      <td>396</td>\n",
       "      <td>30</td>\n",
       "      <td>414</td>\n",
       "      <td>446.0</td>\n",
       "      <td>0.835030</td>\n",
       "      <td>14.376682</td>\n",
       "      <td>404.930493</td>\n",
       "    </tr>\n",
       "    <tr>\n",
       "      <th>...</th>\n",
       "      <td>...</td>\n",
       "      <td>...</td>\n",
       "      <td>...</td>\n",
       "      <td>...</td>\n",
       "      <td>...</td>\n",
       "      <td>...</td>\n",
       "      <td>...</td>\n",
       "      <td>...</td>\n",
       "      <td>...</td>\n",
       "    </tr>\n",
       "    <tr>\n",
       "      <th>1238</th>\n",
       "      <td>1723</td>\n",
       "      <td>2281</td>\n",
       "      <td>1769</td>\n",
       "      <td>2294</td>\n",
       "      <td>1785</td>\n",
       "      <td>169.0</td>\n",
       "      <td>0.530619</td>\n",
       "      <td>2287.840237</td>\n",
       "      <td>1776.502959</td>\n",
       "    </tr>\n",
       "    <tr>\n",
       "      <th>1239</th>\n",
       "      <td>1725</td>\n",
       "      <td>2283</td>\n",
       "      <td>2171</td>\n",
       "      <td>2294</td>\n",
       "      <td>2199</td>\n",
       "      <td>233.0</td>\n",
       "      <td>0.899730</td>\n",
       "      <td>2288.845494</td>\n",
       "      <td>2185.270386</td>\n",
       "    </tr>\n",
       "    <tr>\n",
       "      <th>1240</th>\n",
       "      <td>1726</td>\n",
       "      <td>2286</td>\n",
       "      <td>28</td>\n",
       "      <td>2294</td>\n",
       "      <td>51</td>\n",
       "      <td>125.0</td>\n",
       "      <td>0.927810</td>\n",
       "      <td>2290.368000</td>\n",
       "      <td>40.296000</td>\n",
       "    </tr>\n",
       "    <tr>\n",
       "      <th>1241</th>\n",
       "      <td>1727</td>\n",
       "      <td>2286</td>\n",
       "      <td>737</td>\n",
       "      <td>2294</td>\n",
       "      <td>756</td>\n",
       "      <td>106.0</td>\n",
       "      <td>0.916992</td>\n",
       "      <td>2290.264151</td>\n",
       "      <td>744.707547</td>\n",
       "    </tr>\n",
       "    <tr>\n",
       "      <th>1242</th>\n",
       "      <td>1728</td>\n",
       "      <td>2286</td>\n",
       "      <td>1413</td>\n",
       "      <td>2294</td>\n",
       "      <td>1426</td>\n",
       "      <td>67.0</td>\n",
       "      <td>0.799449</td>\n",
       "      <td>2290.567164</td>\n",
       "      <td>1419.477612</td>\n",
       "    </tr>\n",
       "  </tbody>\n",
       "</table>\n",
       "<p>1243 rows × 9 columns</p>\n",
       "</div>"
      ]
     },
     "execution_count": 199,
     "metadata": {},
     "output_type": "execute_result"
    }
   ],
   "execution_count": 199
  },
  {
   "metadata": {
    "ExecuteTime": {
     "end_time": "2024-11-04T14:06:42.060125Z",
     "start_time": "2024-11-04T14:06:41.908106Z"
    }
   },
   "cell_type": "code",
   "source": [
    "fig, ax = plt.subplots(1, 2, figsize=(12, 4))\n",
    "sns.histplot(props, x='area', ax=ax[0])\n",
    "sns.histplot(props, x='eccentricity', ax=ax[1]);"
   ],
   "id": "f95c8248e42df0",
   "outputs": [
    {
     "data": {
      "text/plain": [
       "<Figure size 1200x400 with 2 Axes>"
      ],
      "image/png": "[encoded data removed]"
     },
     "metadata": {},
     "output_type": "display_data"
    }
   ],
   "execution_count": 206
  },
  {
   "metadata": {
    "ExecuteTime": {
     "end_time": "2024-11-04T14:55:05.761154Z",
     "start_time": "2024-11-04T14:55:05.756785Z"
    }
   },
   "cell_type": "code",
   "source": "15 + 43 + 43 + 75 + 23\n",
   "id": "2925355f356bbd8a",
   "outputs": [
    {
     "data": {
      "text/plain": [
       "199"
      ]
     },
     "execution_count": 207,
     "metadata": {},
     "output_type": "execute_result"
    }
   ],
   "execution_count": 207
  },
  {
   "metadata": {},
   "cell_type": "code",
   "outputs": [],
   "execution_count": null,
   "source": "",
   "id": "772adbe84096d745"
  }
 ],
 "metadata": {
  "kernelspec": {
   "display_name": "omnipose",
   "language": "python",
   "name": "omnipose"
  },
  "language_info": {
   "codemirror_mode": {
    "name": "ipython",
    "version": 2
   },
   "file_extension": ".py",
   "mimetype": "text/x-python",
   "name": "python",
   "nbconvert_exporter": "python",
   "pygments_lexer": "ipython2",
   "version": "2.7.6"
  }
 },
 "nbformat": 4,
 "nbformat_minor": 5
}

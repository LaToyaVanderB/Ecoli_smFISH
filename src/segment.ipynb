{
 "cells": [
  {
   "cell_type": "code",
   "execution_count": 4,
   "id": "4e7a106d76afd8f0",
   "metadata": {
    "ExecuteTime": {
     "end_time": "2024-12-03T20:48:11.061695Z",
     "start_time": "2024-12-03T20:48:10.679077Z"
    }
   },
   "outputs": [],
   "source": [
    "import numpy as np\n",
    "from skimage import io\n",
    "import re\n",
    "import pandas as pd\n",
    "import seaborn as sns\n",
    "from pathlib import Path\n",
    "import json\n",
    "from copy import copy\n",
    "from pprint import pprint\n",
    "from skimage.segmentation import expand_labels\n",
    "from skimage.measure import regionprops_table\n"
   ]
  },
  {
   "cell_type": "code",
   "execution_count": 5,
   "id": "a19f245baf2743dc",
   "metadata": {
    "ExecuteTime": {
     "end_time": "2024-11-04T09:34:27.145420Z",
     "start_time": "2024-11-04T09:34:27.139597Z"
    }
   },
   "outputs": [
    {
     "data": {
      "text/plain": [
       "[PosixPath('/Users/adele/PycharmProjects/Ecoli_smFISH/tests/exp16/output/MG1655_GLY-lowOD-2nd_16/grgb.npy'),\n",
       " PosixPath('/Users/adele/PycharmProjects/Ecoli_smFISH/tests/exp16/output/MG1655_GLY-lowOD-2nd_17/grgb.npy'),\n",
       " PosixPath('/Users/adele/PycharmProjects/Ecoli_smFISH/tests/exp16/output/MG1655_GLU_OD_0.3_left_02/grgb.npy'),\n",
       " PosixPath('/Users/adele/PycharmProjects/Ecoli_smFISH/tests/exp16/output/MG1655_GLU_OD_0.3_left_03/grgb.npy'),\n",
       " PosixPath('/Users/adele/PycharmProjects/Ecoli_smFISH/tests/exp16/output/MG1655_GAL-lowOD-2nd_05/grgb.npy'),\n",
       " PosixPath('/Users/adele/PycharmProjects/Ecoli_smFISH/tests/exp16/output/MG1655_MAN_OD_0.3_left_08/grgb.npy'),\n",
       " PosixPath('/Users/adele/PycharmProjects/Ecoli_smFISH/tests/exp16/output/MG1655_MAN_OD_0.3_left_07/grgb.npy'),\n",
       " PosixPath('/Users/adele/PycharmProjects/Ecoli_smFISH/tests/exp16/output/MG1655_LB_fixed2806_hybed1906_left_03/grgb.npy'),\n",
       " PosixPath('/Users/adele/PycharmProjects/Ecoli_smFISH/tests/exp16/output/MG1655_LB_fixed2806_hybed1906_left_05/grgb.npy'),\n",
       " PosixPath('/Users/adele/PycharmProjects/Ecoli_smFISH/tests/exp16/output/MG1655_GAL-lowOD-2nd_06/grgb.npy')]"
      ]
     },
     "execution_count": 5,
     "metadata": {},
     "output_type": "execute_result"
    }
   ],
   "source": [
    "rootdir = '/Users/adele/PycharmProjects/Ecoli_smFISH/tests/exp16/output'\n",
    "files = Path(rootdir).glob('*/grgb.npy')\n",
    "filenames = [ f for f in files ]    \n",
    "filenames"
   ]
  },
  {
   "cell_type": "code",
   "execution_count": 3,
   "id": "c51e1f15b890e08",
   "metadata": {
    "ExecuteTime": {
     "end_time": "2024-11-06T09:38:17.442138Z",
     "start_time": "2024-11-06T09:38:17.385253Z"
    }
   },
   "outputs": [],
   "source": [
    "# warning: this cell is only for initialising to reasonable values\n",
    "# this is for initialization only\n",
    "# only a fool would run this again after painstakingly manually setting the parameters!!!!\n",
    "#\n",
    "# rootdir = '/Volumes/Flodrive/Florence/smFISH/analysis'\n",
    "# for f in Path(rootdir).glob('*/config.json'):\n",
    "#     config_selected = f.parent / 'config-selected.json'\n",
    "#     print(f\"{f} -> {config_selected}\")\n",
    "#     with open(f, 'r') as fh:\n",
    "#         config = json.load(fh)\n",
    "#         for exp in config['experiments']:\n",
    "#             for img in exp['images']:\n",
    "#                 # print(img['basename'])\n",
    "#                 img['segment'] = False\n",
    "#                 img['detect_spots'] = False\n",
    "#                 img['segmentation'] = { \n",
    "#                     'model_type': 'cyto2_omni',\n",
    "#                     'channels': [1, 2],\n",
    "#                     'diameter': 0,\n",
    "#                     'mask': 0,\n",
    "#                     'flow': 0.0\n",
    "#                 }\n",
    "#         \n",
    "#         with open(config_selected, 'w') as fh:\n",
    "#                 json.dump(config, fh)\n"
   ]
  },
  {
   "cell_type": "code",
   "execution_count": 208,
   "id": "2d2c936b3a6395b2",
   "metadata": {
    "ExecuteTime": {
     "end_time": "2024-11-04T16:32:17.668429Z",
     "start_time": "2024-11-04T16:31:43.582147Z"
    }
   },
   "outputs": [
    {
     "name": "stdout",
     "output_type": "stream",
     "text": [
      "/Volumes/Flodrive/Florence/smFISH/analysis/20241029-exp24/exp24-GLY-left_01/grgb.tif\n",
      "/Volumes/Flodrive/Florence/smFISH/analysis/20241029-exp24/exp24-GLY-left_02/grgb.tif\n",
      "/Volumes/Flodrive/Florence/smFISH/analysis/20241029-exp24/exp24-GLY-left_03/grgb.tif\n",
      "/Volumes/Flodrive/Florence/smFISH/analysis/20241029-exp24/exp24-GLY-left_04/grgb.tif\n",
      "/Volumes/Flodrive/Florence/smFISH/analysis/20241029-exp24/exp24-GLY-left_05/grgb.tif\n",
      "/Volumes/Flodrive/Florence/smFISH/analysis/20241029-exp24/exp24-GLY-left_06/grgb.tif\n",
      "/Volumes/Flodrive/Florence/smFISH/analysis/20241029-exp24/exp24-GLY-left_07/grgb.tif\n",
      "/Volumes/Flodrive/Florence/smFISH/analysis/20241029-exp24/exp24-GLY-left_08/grgb.tif\n",
      "/Volumes/Flodrive/Florence/smFISH/analysis/20241029-exp24/exp24-GLY-left_09/grgb.tif\n",
      "/Volumes/Flodrive/Florence/smFISH/analysis/20241029-exp24/exp24-GLY-left_10/grgb.tif\n"
     ]
    }
   ],
   "source": [
    "rootdir = \"/Volumes/Flodrive/Florence/smFISH/analysis/20241029-exp24\"\n",
    "for f in Path(rootdir).glob('*/grgb.npy'):\n",
    "    print(f.parent / \"grgb.tif\")\n",
    "    io.imsave(f.parent / \"grgb.tif\", np.load(f)) "
   ]
  },
  {
   "cell_type": "code",
   "execution_count": 89,
   "id": "ad180cd837558b38",
   "metadata": {
    "ExecuteTime": {
     "end_time": "2024-11-04T10:14:35.783892Z",
     "start_time": "2024-11-04T10:14:35.756786Z"
    }
   },
   "outputs": [
    {
     "name": "stdout",
     "output_type": "stream",
     "text": [
      "/Users/adele/PycharmProjects/Ecoli_smFISH/tests/exp16/output/MG1655_GLY-lowOD-2nd_16/DIC_masks.tif\n",
      "/Users/adele/PycharmProjects/Ecoli_smFISH/tests/exp16/output/MG1655_GLY-lowOD-2nd_17/DIC_masks.tif\n",
      "/Users/adele/PycharmProjects/Ecoli_smFISH/tests/exp16/output/MG1655_GLU_OD_0.3_left_02/DIC_masks.tif\n",
      "/Users/adele/PycharmProjects/Ecoli_smFISH/tests/exp16/output/MG1655_GLU_OD_0.3_left_03/DIC_masks.tif\n",
      "/Users/adele/PycharmProjects/Ecoli_smFISH/tests/exp16/output/MG1655_GAL-lowOD-2nd_05/DIC_masks.tif\n",
      "/Users/adele/PycharmProjects/Ecoli_smFISH/tests/exp16/output/MG1655_MAN_OD_0.3_left_08/DIC_masks.tif\n",
      "/Users/adele/PycharmProjects/Ecoli_smFISH/tests/exp16/output/MG1655_MAN_OD_0.3_left_07/DIC_masks.tif\n",
      "/Users/adele/PycharmProjects/Ecoli_smFISH/tests/exp16/output/MG1655_LB_fixed2806_hybed1906_left_03/DIC_masks.tif\n",
      "/Users/adele/PycharmProjects/Ecoli_smFISH/tests/exp16/output/MG1655_LB_fixed2806_hybed1906_left_05/DIC_masks.tif\n",
      "/Users/adele/PycharmProjects/Ecoli_smFISH/tests/exp16/output/MG1655_GAL-lowOD-2nd_06/DIC_masks.tif\n"
     ]
    }
   ],
   "source": [
    "# # pick a model for DIC masks\n",
    "# #\n",
    "# model_type = 'cyto2_omni'\n",
    "# chans = '[1,2]'\n",
    "# minsize = '0'\n",
    "# mask = '-2'\n",
    "# flow = '0'\n",
    "# diameter = '35'\n",
    "# \n",
    "# targetmaskfile = f'DIC_masks_model={model_type}_chan={chans}_diameter={diameter}_minsize={minsize}_mask={mask}_flow={flow}.tif'\n",
    "# for f in Path(rootdir).glob('*/DIC_masks.tif'):\n",
    "#     f = Path(str(f).replace('grgb.tif', 'DIC_masks.tif'))\n",
    "#     Path(f).unlink(missing_ok=True)\n",
    "#     Path(f).symlink_to(targetmaskfile)"
   ]
  },
  {
   "cell_type": "code",
   "execution_count": 88,
   "id": "ded56f3c5aa83e25",
   "metadata": {
    "ExecuteTime": {
     "end_time": "2024-11-04T09:46:59.805060Z",
     "start_time": "2024-11-04T09:46:59.798342Z"
    }
   },
   "outputs": [],
   "source": [
    "# pick a model for DAPI masks\n",
    "#\n",
    "model_type = 'nuclei'\n",
    "chans = '[1,0]'\n",
    "minsize = '0'\n",
    "mask = '0.0'\n",
    "flow = '0.0'\n",
    "diameter = '0'\n",
    "\n",
    "targetmaskfile = f'DIC_masks_model={model_type}_chan={chans}_diameter={diameter}_minsize={minsize}_mask={mask}_flow={flow}.tif'\n",
    "for f in Path(rootdir).glob('*/DIC_masks.tif'):\n",
    "    Path(f).unlink(missing_ok=True)\n",
    "    Path(f).symlink_to(targetmaskfile)\n"
   ]
  },
  {
   "cell_type": "code",
   "execution_count": 2,
   "id": "91e1f8da-f455-4c6f-80a1-82d85058848c",
   "metadata": {},
   "outputs": [
    {
     "ename": "ModuleNotFoundError",
     "evalue": "No module named 'omnipose'",
     "output_type": "error",
     "traceback": [
      "\u001b[0;31m---------------------------------------------------------------------------\u001b[0m",
      "\u001b[0;31mModuleNotFoundError\u001b[0m                       Traceback (most recent call last)",
      "Cell \u001b[0;32mIn[2], line 3\u001b[0m\n\u001b[1;32m      1\u001b[0m \u001b[38;5;66;03m# Import dependencies\u001b[39;00m\n\u001b[1;32m      2\u001b[0m \u001b[38;5;28;01mimport\u001b[39;00m\u001b[38;5;250m \u001b[39m\u001b[38;5;21;01mnumpy\u001b[39;00m\u001b[38;5;250m \u001b[39m\u001b[38;5;28;01mas\u001b[39;00m\u001b[38;5;250m \u001b[39m\u001b[38;5;21;01mnp\u001b[39;00m\n\u001b[0;32m----> 3\u001b[0m \u001b[38;5;28;01mimport\u001b[39;00m\u001b[38;5;250m \u001b[39m\u001b[38;5;21;01momnipose\u001b[39;00m\n\u001b[1;32m      5\u001b[0m \u001b[38;5;66;03m# set up plotting defaults\u001b[39;00m\n\u001b[1;32m      6\u001b[0m \u001b[38;5;28;01mfrom\u001b[39;00m\u001b[38;5;250m \u001b[39m\u001b[38;5;21;01momnipose\u001b[39;00m\u001b[38;5;21;01m.\u001b[39;00m\u001b[38;5;21;01mplot\u001b[39;00m\u001b[38;5;250m \u001b[39m\u001b[38;5;28;01mimport\u001b[39;00m imshow\n",
      "\u001b[0;31mModuleNotFoundError\u001b[0m: No module named 'omnipose'"
     ]
    }
   ],
   "source": [
    "# Import dependencies\n",
    "import numpy as np\n",
    "import omnipose\n",
    "\n",
    "# set up plotting defaults\n",
    "from omnipose.plot import imshow\n",
    "omnipose.plot.setup()\n",
    "\n",
    "# This checks to see if you have set up your GPU properly.\n",
    "# CPU performance is a lot slower, but not a problem if you \n",
    "# are only processing a few images.\n",
    "from omnipose.gpu import use_gpu\n",
    "use_GPU = use_gpu()"
   ]
  },
  {
   "cell_type": "code",
   "execution_count": 1,
   "id": "dc8f4ad3620f8a93",
   "metadata": {
    "ExecuteTime": {
     "end_time": "2024-11-03T18:11:01.970812Z",
     "start_time": "2024-11-03T18:11:01.964450Z"
    }
   },
   "outputs": [
    {
     "ename": "ModuleNotFoundError",
     "evalue": "No module named 'cellpose_omni'",
     "output_type": "error",
     "traceback": [
      "\u001b[0;31m---------------------------------------------------------------------------\u001b[0m",
      "\u001b[0;31mModuleNotFoundError\u001b[0m                       Traceback (most recent call last)",
      "Cell \u001b[0;32mIn[1], line 1\u001b[0m\n\u001b[0;32m----> 1\u001b[0m \u001b[38;5;28;01mfrom\u001b[39;00m\u001b[38;5;250m \u001b[39m\u001b[38;5;21;01mcellpose_omni\u001b[39;00m\u001b[38;5;250m \u001b[39m\u001b[38;5;28;01mimport\u001b[39;00m models\n\u001b[1;32m      2\u001b[0m \u001b[38;5;66;03m# from cellpose_omni.core import use_gpu\u001b[39;00m\n\u001b[1;32m      3\u001b[0m \u001b[38;5;28;01mfrom\u001b[39;00m\u001b[38;5;250m \u001b[39m\u001b[38;5;21;01momnipose\u001b[39;00m\u001b[38;5;21;01m.\u001b[39;00m\u001b[38;5;21;01mgpu\u001b[39;00m\u001b[38;5;250m \u001b[39m\u001b[38;5;28;01mimport\u001b[39;00m use_gpu\n",
      "\u001b[0;31mModuleNotFoundError\u001b[0m: No module named 'cellpose_omni'"
     ]
    }
   ],
   "source": [
    "from cellpose_omni import models\n",
    "# from cellpose_omni.core import use_gpu\n",
    "from omnipose.gpu import use_gpu\n",
    "# This checks to see if you have set up your GPU properly.\n",
    "# CPU performance is a lot slower, but not a problem if you \n",
    "# are only processing a few images.\n",
    "use_GPU = use_gpu()\n",
    "\n",
    "from cellpose_omni.models import MODEL_NAMES\n",
    "print(MODEL_NAMES)"
   ]
  },
  {
   "cell_type": "code",
   "execution_count": 6,
   "id": "b5e7f487-d907-4552-9666-de5898441211",
   "metadata": {
    "ExecuteTime": {
     "end_time": "2024-11-03T18:11:01.970812Z",
     "start_time": "2024-11-03T18:11:01.964450Z"
    }
   },
   "outputs": [
    {
     "name": "stdout",
     "output_type": "stream",
     "text": [
      "\u001b[38;5;197m2025-01-12 19:05:09,125\t[INFO]     omnipose/gpu.py               <module>....()\t line   9\tOn ARM, OMP_NUM_THREADS set to 1\u001b[0m\n"
     ]
    },
    {
     "data": {
      "text/html": [
       "\n",
       "\t\t\t<script type=\"text/javascript\">\n",
       "\t\t\t<!--\n",
       "\t\t\t\t\n",
       "\t\t\t{\n",
       "\t\t\t\tvar element = document.getElementById('NetworKit_script');\n",
       "\t\t\t\tif (element) {\n",
       "\t\t\t\t\telement.parentNode.removeChild(element);\n",
       "\t\t\t\t}\n",
       "\t\t\t\telement = document.createElement('script');\n",
       "\t\t\t\telement.type = 'text/javascript';\n",
       "\t\t\t\telement.innerHTML = 'function NetworKit_pageEmbed(id) { var i, j; var elements; elements = document.getElementById(id).getElementsByClassName(\"Plot\"); for (i=0; i<elements.length; i++) { elements[i].id = id + \"_Plot_\" + i; var data = elements[i].getAttribute(\"data-image\").split(\"|\"); elements[i].removeAttribute(\"data-image\"); var content = \"<div class=\\\\\"Image\\\\\" id=\\\\\"\" + elements[i].id + \"_Image\\\\\" />\"; elements[i].innerHTML = content; elements[i].setAttribute(\"data-image-index\", 0); elements[i].setAttribute(\"data-image-length\", data.length); for (j=0; j<data.length; j++) { elements[i].setAttribute(\"data-image-\" + j, data[j]); } NetworKit_plotUpdate(elements[i]); elements[i].onclick = function (e) { NetworKit_overlayShow((e.target) ? e.target : e.srcElement); } } elements = document.getElementById(id).getElementsByClassName(\"HeatCell\"); for (i=0; i<elements.length; i++) { var data = parseFloat(elements[i].getAttribute(\"data-heat\")); var color = \"#00FF00\"; if (data <= 1 && data > 0) { color = \"hsla(0, 100%, 75%, \" + (data) + \")\"; } else if (data <= 0 && data >= -1) { color = \"hsla(240, 100%, 75%, \" + (-data) + \")\"; } elements[i].style.backgroundColor = color; } elements = document.getElementById(id).getElementsByClassName(\"Details\"); for (i=0; i<elements.length; i++) { elements[i].setAttribute(\"data-title\", \"-\"); NetworKit_toggleDetails(elements[i]); elements[i].onclick = function (e) { NetworKit_toggleDetails((e.target) ? e.target : e.srcElement); } } elements = document.getElementById(id).getElementsByClassName(\"MathValue\"); for (i=elements.length-1; i>=0; i--) { value = elements[i].innerHTML.trim(); if (value === \"nan\") { elements[i].parentNode.innerHTML = \"\" } } elements = document.getElementById(id).getElementsByClassName(\"SubCategory\"); for (i=elements.length-1; i>=0; i--) { value = elements[i].innerHTML.trim(); if (value === \"\") { elements[i].parentNode.removeChild(elements[i]) } } elements = document.getElementById(id).getElementsByClassName(\"Category\"); for (i=elements.length-1; i>=0; i--) { value = elements[i].innerHTML.trim(); if (value === \"\") { elements[i].parentNode.removeChild(elements[i]) } } var isFirefox = false; try { isFirefox = typeof InstallTrigger !== \"undefined\"; } catch (e) {} if (!isFirefox) { alert(\"Currently the function\\'s output is only fully supported by Firefox.\"); } } function NetworKit_plotUpdate(source) { var index = source.getAttribute(\"data-image-index\"); var data = source.getAttribute(\"data-image-\" + index); var image = document.getElementById(source.id + \"_Image\"); image.style.backgroundImage = \"url(\" + data + \")\"; } function NetworKit_showElement(id, show) { var element = document.getElementById(id); element.style.display = (show) ? \"block\" : \"none\"; } function NetworKit_overlayShow(source) { NetworKit_overlayUpdate(source); NetworKit_showElement(\"NetworKit_Overlay\", true); } function NetworKit_overlayUpdate(source) { document.getElementById(\"NetworKit_Overlay_Title\").innerHTML = source.title; var index = source.getAttribute(\"data-image-index\"); var data = source.getAttribute(\"data-image-\" + index); var image = document.getElementById(\"NetworKit_Overlay_Image\"); image.setAttribute(\"data-id\", source.id); image.style.backgroundImage = \"url(\" + data + \")\"; var link = document.getElementById(\"NetworKit_Overlay_Toolbar_Bottom_Save\"); link.href = data; link.download = source.title + \".svg\"; } function NetworKit_overlayImageShift(delta) { var image = document.getElementById(\"NetworKit_Overlay_Image\"); var source = document.getElementById(image.getAttribute(\"data-id\")); var index = parseInt(source.getAttribute(\"data-image-index\")); var length = parseInt(source.getAttribute(\"data-image-length\")); var index = (index+delta) % length; if (index < 0) { index = length + index; } source.setAttribute(\"data-image-index\", index); NetworKit_overlayUpdate(source); } function NetworKit_toggleDetails(source) { var childs = source.children; var show = false; if (source.getAttribute(\"data-title\") == \"-\") { source.setAttribute(\"data-title\", \"+\"); show = false; } else { source.setAttribute(\"data-title\", \"-\"); show = true; } for (i=0; i<childs.length; i++) { if (show) { childs[i].style.display = \"block\"; } else { childs[i].style.display = \"none\"; } } }';\n",
       "\t\t\t\telement.setAttribute('id', 'NetworKit_script');\n",
       "\t\t\t\tdocument.head.appendChild(element);\n",
       "\t\t\t}\n",
       "\t\t\n",
       "\t\t\t\t\n",
       "\t\t\t{\n",
       "\t\t\t\tvar element = document.getElementById('NetworKit_style');\n",
       "\t\t\t\tif (element) {\n",
       "\t\t\t\t\telement.parentNode.removeChild(element);\n",
       "\t\t\t\t}\n",
       "\t\t\t\telement = document.createElement('style');\n",
       "\t\t\t\telement.type = 'text/css';\n",
       "\t\t\t\telement.innerHTML = '.NetworKit_Page { font-family: Arial, Helvetica, sans-serif; font-size: 14px; } .NetworKit_Page .Value:before { font-family: Arial, Helvetica, sans-serif; font-size: 1.05em; content: attr(data-title) \":\"; margin-left: -2.5em; padding-right: 0.5em; } .NetworKit_Page .Details .Value:before { display: block; } .NetworKit_Page .Value { font-family: monospace; white-space: pre; padding-left: 2.5em; white-space: -moz-pre-wrap !important; white-space: -pre-wrap; white-space: -o-pre-wrap; white-space: pre-wrap; word-wrap: break-word; tab-size: 4; -moz-tab-size: 4; } .NetworKit_Page .Category { clear: both; padding-left: 1em; margin-bottom: 1.5em; } .NetworKit_Page .Category:before { content: attr(data-title); font-size: 1.75em; display: block; margin-left: -0.8em; margin-bottom: 0.5em; } .NetworKit_Page .SubCategory { margin-bottom: 1.5em; padding-left: 1em; } .NetworKit_Page .SubCategory:before { font-size: 1.6em; display: block; margin-left: -0.8em; margin-bottom: 0.5em; } .NetworKit_Page .SubCategory[data-title]:before { content: attr(data-title); } .NetworKit_Page .Block { display: block; } .NetworKit_Page .Block:after { content: \".\"; visibility: hidden; display: block; height: 0; clear: both; } .NetworKit_Page .Block .Thumbnail_Overview, .NetworKit_Page .Block .Thumbnail_ScatterPlot { width: 260px; float: left; } .NetworKit_Page .Block .Thumbnail_Overview img, .NetworKit_Page .Block .Thumbnail_ScatterPlot img { width: 260px; } .NetworKit_Page .Block .Thumbnail_Overview:before, .NetworKit_Page .Block .Thumbnail_ScatterPlot:before { display: block; text-align: center; font-weight: bold; } .NetworKit_Page .Block .Thumbnail_Overview:before { content: attr(data-title); } .NetworKit_Page .HeatCell { font-family: \"Courier New\", Courier, monospace; cursor: pointer; } .NetworKit_Page .HeatCell, .NetworKit_Page .HeatCellName { display: inline; padding: 0.1em; margin-right: 2px; background-color: #FFFFFF } .NetworKit_Page .HeatCellName { margin-left: 0.25em; } .NetworKit_Page .HeatCell:before { content: attr(data-heat); display: inline-block; color: #000000; width: 4em; text-align: center; } .NetworKit_Page .Measure { clear: both; } .NetworKit_Page .Measure .Details { cursor: pointer; } .NetworKit_Page .Measure .Details:before { content: \"[\" attr(data-title) \"]\"; display: block; } .NetworKit_Page .Measure .Details .Value { border-left: 1px dotted black; margin-left: 0.4em; padding-left: 3.5em; pointer-events: none; } .NetworKit_Page .Measure .Details .Spacer:before { content: \".\"; opacity: 0.0; pointer-events: none; } .NetworKit_Page .Measure .Plot { width: 440px; height: 440px; cursor: pointer; float: left; margin-left: -0.9em; margin-right: 20px; } .NetworKit_Page .Measure .Plot .Image { background-repeat: no-repeat; background-position: center center; background-size: contain; height: 100%; pointer-events: none; } .NetworKit_Page .Measure .Stat { width: 500px; float: left; } .NetworKit_Page .Measure .Stat .Group { padding-left: 1.25em; margin-bottom: 0.75em; } .NetworKit_Page .Measure .Stat .Group .Title { font-size: 1.1em; display: block; margin-bottom: 0.3em; margin-left: -0.75em; border-right-style: dotted; border-right-width: 1px; border-bottom-style: dotted; border-bottom-width: 1px; background-color: #D0D0D0; padding-left: 0.2em; } .NetworKit_Page .Measure .Stat .Group .List { -webkit-column-count: 3; -moz-column-count: 3; column-count: 3; } .NetworKit_Page .Measure .Stat .Group .List .Entry { position: relative; line-height: 1.75em; } .NetworKit_Page .Measure .Stat .Group .List .Entry[data-tooltip]:before { position: absolute; left: 0; top: -40px; background-color: #808080; color: #ffffff; height: 30px; line-height: 30px; border-radius: 5px; padding: 0 15px; content: attr(data-tooltip); white-space: nowrap; display: none; } .NetworKit_Page .Measure .Stat .Group .List .Entry[data-tooltip]:after { position: absolute; left: 15px; top: -10px; border-top: 7px solid #808080; border-left: 7px solid transparent; border-right: 7px solid transparent; content: \"\"; display: none; } .NetworKit_Page .Measure .Stat .Group .List .Entry[data-tooltip]:hover:after, .NetworKit_Page .Measure .Stat .Group .List .Entry[data-tooltip]:hover:before { display: block; } .NetworKit_Page .Measure .Stat .Group .List .Entry .MathValue { font-family: \"Courier New\", Courier, monospace; } .NetworKit_Page .Measure:after { content: \".\"; visibility: hidden; display: block; height: 0; clear: both; } .NetworKit_Page .PartitionPie { clear: both; } .NetworKit_Page .PartitionPie img { width: 600px; } #NetworKit_Overlay { left: 0px; top: 0px; display: none; position: absolute; width: 100%; height: 100%; background-color: rgba(0,0,0,0.6); z-index: 1000; } #NetworKit_Overlay_Title { position: absolute; color: white; transform: rotate(-90deg); width: 32em; height: 32em; padding-right: 0.5em; padding-top: 0.5em; text-align: right; font-size: 40px; } #NetworKit_Overlay .button { background: white; cursor: pointer; } #NetworKit_Overlay .button:before { size: 13px; display: inline-block; text-align: center; margin-top: 0.5em; margin-bottom: 0.5em; width: 1.5em; height: 1.5em; } #NetworKit_Overlay .icon-close:before { content: \"X\"; } #NetworKit_Overlay .icon-previous:before { content: \"P\"; } #NetworKit_Overlay .icon-next:before { content: \"N\"; } #NetworKit_Overlay .icon-save:before { content: \"S\"; } #NetworKit_Overlay_Toolbar_Top, #NetworKit_Overlay_Toolbar_Bottom { position: absolute; width: 40px; right: 13px; text-align: right; z-index: 1100; } #NetworKit_Overlay_Toolbar_Top { top: 0.5em; } #NetworKit_Overlay_Toolbar_Bottom { Bottom: 0.5em; } #NetworKit_Overlay_ImageContainer { position: absolute; top: 5%; left: 5%; height: 90%; width: 90%; background-repeat: no-repeat; background-position: center center; background-size: contain; } #NetworKit_Overlay_Image { height: 100%; width: 100%; background-repeat: no-repeat; background-position: center center; background-size: contain; }';\n",
       "\t\t\t\telement.setAttribute('id', 'NetworKit_style');\n",
       "\t\t\t\tdocument.head.appendChild(element);\n",
       "\t\t\t}\n",
       "\t\t\n",
       "\t\t\t\t\n",
       "\t\t\t{\n",
       "\t\t\t\tvar element = document.getElementById('NetworKit_Overlay');\n",
       "\t\t\t\tif (element) {\n",
       "\t\t\t\t\telement.parentNode.removeChild(element);\n",
       "\t\t\t\t}\n",
       "\t\t\t\telement = document.createElement('div');\n",
       "\t\t\t\telement.innerHTML = '<div id=\"NetworKit_Overlay_Toolbar_Top\"><div class=\"button icon-close\" id=\"NetworKit_Overlay_Close\" /></div><div id=\"NetworKit_Overlay_Title\" /> <div id=\"NetworKit_Overlay_ImageContainer\"> <div id=\"NetworKit_Overlay_Image\" /> </div> <div id=\"NetworKit_Overlay_Toolbar_Bottom\"> <div class=\"button icon-previous\" onclick=\"NetworKit_overlayImageShift(-1)\" /> <div class=\"button icon-next\" onclick=\"NetworKit_overlayImageShift(1)\" /> <a id=\"NetworKit_Overlay_Toolbar_Bottom_Save\"><div class=\"button icon-save\" /></a> </div>';\n",
       "\t\t\t\telement.setAttribute('id', 'NetworKit_Overlay');\n",
       "\t\t\t\tdocument.body.appendChild(element);\n",
       "\t\t\t\tdocument.getElementById('NetworKit_Overlay_Close').onclick = function (e) {\n",
       "\t\t\t\t\tdocument.getElementById('NetworKit_Overlay').style.display = 'none';\n",
       "\t\t\t\t}\n",
       "\t\t\t}\n",
       "\t\t\n",
       "\t\t\t-->\n",
       "\t\t\t</script>\n",
       "\t\t"
      ]
     },
     "metadata": {},
     "output_type": "display_data"
    },
    {
     "name": "stdout",
     "output_type": "stream",
     "text": [
      "['cyto', 'nuclei', 'cyto2']\n"
     ]
    }
   ],
   "source": [
    "from cellpose_omni import models\n",
    "# from cellpose_omni.core import use_gpu\n",
    "from omnipose.gpu import use_gpu\n",
    "# This checks to see if you have set up your GPU properly.\n",
    "# CPU performance is a lot slower, but not a problem if you \n",
    "# are only processing a few images.\n",
    "use_GPU = use_gpu()\n",
    "\n",
    "from cellpose_omni.models import MODEL_NAMES\n",
    "print(MODEL_NAMES)"
   ]
  },
  {
   "cell_type": "markdown",
   "id": "69e751ecbf448a48",
   "metadata": {},
   "source": [
    "## Segmentation"
   ]
  },
  {
   "cell_type": "markdown",
   "id": "dea5d5cb63fcf62",
   "metadata": {},
   "source": [
    "### Nuclei \n",
    "- does not work here\n",
    "- works in script"
   ]
  },
  {
   "cell_type": "code",
   "execution_count": 7,
   "id": "1760815036984e6b",
   "metadata": {
    "ExecuteTime": {
     "end_time": "2024-11-03T19:48:26.846069Z",
     "start_time": "2024-11-03T19:47:47.842793Z"
    }
   },
   "outputs": [
    {
     "name": "stdout",
     "output_type": "stream",
     "text": [
      "\u001b[38;5;78m2025-01-12 19:06:48,568\t[INFO]     cellpose_omni/models.py       __init__....()\t line 418\t>>nuclei<< model set to be used\u001b[0m\n",
      "\u001b[38;5;74m2025-01-12 19:06:48,573\t[INFO]     cellpose_omni/core.py         _use...torch()\t line  72\t** TORCH GPU version installed and working. **\u001b[0m\n",
      "\u001b[38;5;74m2025-01-12 19:06:48,573\t[INFO]                                   assi...evice()\t line  83\t>>>> using GPU\u001b[0m\n"
     ]
    },
    {
     "data": {
      "application/vnd.jupyter.widget-view+json": {
       "model_id": "a43b781d24fe423b9762f8e1e5811c79",
       "version_major": 2,
       "version_minor": 0
      },
      "text/plain": [
       "  0%|          | 0/10 [00:00<?, ?it/s]"
      ]
     },
     "metadata": {},
     "output_type": "display_data"
    },
    {
     "name": "stderr",
     "output_type": "stream",
     "text": [
      "/Users/adele/Projects/cellpose-omni/cellpose_omni/resnet_torch.py:316: FutureWarning: You are using `torch.load` with `weights_only=False` (the current default value), which uses the default pickle module implicitly. It is possible to construct malicious pickle data which will execute arbitrary code during unpickling (See https://github.com/pytorch/pytorch/blob/main/SECURITY.md#untrusted-models for more details). In a future release, the default value for `weights_only` will be flipped to `True`. This limits the functions that could be executed during unpickling. Arbitrary objects will no longer be allowed to be loaded via this mode unless they are explicitly allowlisted by the user via `torch.serialization.add_safe_globals`. We recommend you start setting `weights_only=True` for any use case where you don't have full control of the loaded file. Please open an issue on GitHub for any issues related to this experimental feature.\n",
      "  self.load_state_dict(torch.load(filename,map_location=torch_GPU))\n"
     ]
    },
    {
     "ename": "TypeError",
     "evalue": "int() argument must be a string, a bytes-like object or a real number, not 'NoneType'",
     "output_type": "error",
     "traceback": [
      "\u001b[0;31m---------------------------------------------------------------------------\u001b[0m",
      "\u001b[0;31mTypeError\u001b[0m                                 Traceback (most recent call last)",
      "Cell \u001b[0;32mIn[7], line 30\u001b[0m\n\u001b[1;32m     28\u001b[0m imgs \u001b[38;5;241m=\u001b[39m [io\u001b[38;5;241m.\u001b[39mimread(f) \u001b[38;5;28;01mfor\u001b[39;00m f \u001b[38;5;129;01min\u001b[39;00m files]\n\u001b[1;32m     29\u001b[0m stop_after \u001b[38;5;241m=\u001b[39m \u001b[38;5;28mlen\u001b[39m(imgs)\n\u001b[0;32m---> 30\u001b[0m masks, flows, styles \u001b[38;5;241m=\u001b[39m \u001b[43mmodel\u001b[49m\u001b[38;5;241;43m.\u001b[39;49m\u001b[43meval\u001b[49m\u001b[43m(\u001b[49m\u001b[43mimgs\u001b[49m\u001b[43m[\u001b[49m\u001b[43m:\u001b[49m\u001b[43mstop_after\u001b[49m\u001b[43m]\u001b[49m\u001b[43m,\u001b[49m\u001b[43m \u001b[49m\u001b[38;5;241;43m*\u001b[39;49m\u001b[38;5;241;43m*\u001b[39;49m\u001b[43mparams\u001b[49m\u001b[43m)\u001b[49m\n",
      "File \u001b[0;32m~/Projects/cellpose-omni/cellpose_omni/models.py:673\u001b[0m, in \u001b[0;36mCellposeModel.eval\u001b[0;34m(self, x, batch_size, channels, channel_axis, z_axis, normalize, invert, rescale, diameter, do_3D, anisotropy, net_avg, augment, tile, tile_overlap, bsize, resample, interp, cluster, boundary_seg, affinity_seg, flow_threshold, mask_threshold, diam_threshold, niter, cellprob_threshold, dist_threshold, flow_factor, compute_masks, min_size, stitch_threshold, progress, omni, calc_trace, verbose, transparency, loop_run, model_loaded)\u001b[0m\n\u001b[1;32m    665\u001b[0m rsc \u001b[38;5;241m=\u001b[39m rescale[i] \u001b[38;5;28;01mif\u001b[39;00m \u001b[38;5;28misinstance\u001b[39m(rescale, \u001b[38;5;28mlist\u001b[39m) \u001b[38;5;129;01mor\u001b[39;00m \u001b[38;5;28misinstance\u001b[39m(rescale, np\u001b[38;5;241m.\u001b[39mndarray) \u001b[38;5;28;01melse\u001b[39;00m rescale\n\u001b[1;32m    666\u001b[0m chn \u001b[38;5;241m=\u001b[39m channels \u001b[38;5;28;01mif\u001b[39;00m channels \u001b[38;5;129;01mis\u001b[39;00m \u001b[38;5;28;01mNone\u001b[39;00m \u001b[38;5;28;01melse\u001b[39;00m channels[i] \u001b[38;5;28;01mif\u001b[39;00m (\u001b[38;5;28mlen\u001b[39m(channels)\u001b[38;5;241m==\u001b[39m\u001b[38;5;28mlen\u001b[39m(x) \u001b[38;5;129;01mand\u001b[39;00m \n\u001b[1;32m    667\u001b[0m                                                         (\u001b[38;5;28misinstance\u001b[39m(channels[i], \u001b[38;5;28mlist\u001b[39m) \n\u001b[1;32m    668\u001b[0m                                                          \u001b[38;5;129;01mor\u001b[39;00m \u001b[38;5;28misinstance\u001b[39m(channels[i], np\u001b[38;5;241m.\u001b[39mndarray)) \u001b[38;5;129;01mand\u001b[39;00m\n\u001b[1;32m    669\u001b[0m                                                         \u001b[38;5;28mlen\u001b[39m(channels[i])\u001b[38;5;241m==\u001b[39m\u001b[38;5;241m2\u001b[39m) \u001b[38;5;28;01melse\u001b[39;00m channels\n\u001b[0;32m--> 673\u001b[0m maski, stylei, flowi \u001b[38;5;241m=\u001b[39m \u001b[38;5;28;43mself\u001b[39;49m\u001b[38;5;241;43m.\u001b[39;49m\u001b[43meval\u001b[49m\u001b[43m(\u001b[49m\u001b[43mx\u001b[49m\u001b[43m[\u001b[49m\u001b[43mi\u001b[49m\u001b[43m]\u001b[49m\u001b[43m,\u001b[49m\u001b[43m \u001b[49m\n\u001b[1;32m    674\u001b[0m \u001b[43m                                 \u001b[49m\u001b[43mbatch_size\u001b[49m\u001b[38;5;241;43m=\u001b[39;49m\u001b[43mbatch_size\u001b[49m\u001b[43m,\u001b[49m\u001b[43m \u001b[49m\n\u001b[1;32m    675\u001b[0m \u001b[43m                                 \u001b[49m\u001b[43mchannels\u001b[49m\u001b[43m \u001b[49m\u001b[38;5;241;43m=\u001b[39;49m\u001b[43m \u001b[49m\u001b[43mchn\u001b[49m\u001b[43m,\u001b[49m\n\u001b[1;32m    676\u001b[0m \u001b[43m                                 \u001b[49m\u001b[43mchannel_axis\u001b[49m\u001b[38;5;241;43m=\u001b[39;49m\u001b[43mchannel_axis\u001b[49m\u001b[43m,\u001b[49m\u001b[43m \u001b[49m\n\u001b[1;32m    677\u001b[0m \u001b[43m                                 \u001b[49m\u001b[43mz_axis\u001b[49m\u001b[38;5;241;43m=\u001b[39;49m\u001b[43mz_axis\u001b[49m\u001b[43m,\u001b[49m\u001b[43m \u001b[49m\n\u001b[1;32m    678\u001b[0m \u001b[43m                                 \u001b[49m\u001b[43mnormalize\u001b[49m\u001b[38;5;241;43m=\u001b[39;49m\u001b[43mnormalize\u001b[49m\u001b[43m,\u001b[49m\u001b[43m \u001b[49m\n\u001b[1;32m    679\u001b[0m \u001b[43m                                 \u001b[49m\u001b[43minvert\u001b[49m\u001b[38;5;241;43m=\u001b[39;49m\u001b[43minvert\u001b[49m\u001b[43m,\u001b[49m\n\u001b[1;32m    680\u001b[0m \u001b[43m                                 \u001b[49m\u001b[43mrescale\u001b[49m\u001b[38;5;241;43m=\u001b[39;49m\u001b[43mrsc\u001b[49m\u001b[43m,\u001b[49m\n\u001b[1;32m    681\u001b[0m \u001b[43m                                 \u001b[49m\u001b[43mdiameter\u001b[49m\u001b[38;5;241;43m=\u001b[39;49m\u001b[43mdia\u001b[49m\u001b[43m,\u001b[49m\u001b[43m \u001b[49m\n\u001b[1;32m    682\u001b[0m \u001b[43m                                 \u001b[49m\u001b[43mdo_3D\u001b[49m\u001b[38;5;241;43m=\u001b[39;49m\u001b[43mdo_3D\u001b[49m\u001b[43m,\u001b[49m\u001b[43m \u001b[49m\n\u001b[1;32m    683\u001b[0m \u001b[43m                                 \u001b[49m\u001b[43manisotropy\u001b[49m\u001b[38;5;241;43m=\u001b[39;49m\u001b[43manisotropy\u001b[49m\u001b[43m,\u001b[49m\u001b[43m \u001b[49m\n\u001b[1;32m    684\u001b[0m \u001b[43m                                 \u001b[49m\u001b[43mnet_avg\u001b[49m\u001b[38;5;241;43m=\u001b[39;49m\u001b[43mnet_avg\u001b[49m\u001b[43m,\u001b[49m\u001b[43m \u001b[49m\n\u001b[1;32m    685\u001b[0m \u001b[43m                                 \u001b[49m\u001b[43maugment\u001b[49m\u001b[38;5;241;43m=\u001b[39;49m\u001b[43maugment\u001b[49m\u001b[43m,\u001b[49m\u001b[43m \u001b[49m\n\u001b[1;32m    686\u001b[0m \u001b[43m                                 \u001b[49m\u001b[43mtile\u001b[49m\u001b[38;5;241;43m=\u001b[39;49m\u001b[43mtile\u001b[49m\u001b[43m,\u001b[49m\u001b[43m \u001b[49m\n\u001b[1;32m    687\u001b[0m \u001b[43m                                 \u001b[49m\u001b[43mtile_overlap\u001b[49m\u001b[38;5;241;43m=\u001b[39;49m\u001b[43mtile_overlap\u001b[49m\u001b[43m,\u001b[49m\n\u001b[1;32m    688\u001b[0m \u001b[43m                                 \u001b[49m\u001b[43mbsize\u001b[49m\u001b[38;5;241;43m=\u001b[39;49m\u001b[43mbsize\u001b[49m\u001b[43m,\u001b[49m\n\u001b[1;32m    689\u001b[0m \u001b[43m                                 \u001b[49m\u001b[43mresample\u001b[49m\u001b[38;5;241;43m=\u001b[39;49m\u001b[43mresample\u001b[49m\u001b[43m,\u001b[49m\u001b[43m \u001b[49m\n\u001b[1;32m    690\u001b[0m \u001b[43m                                 \u001b[49m\u001b[43minterp\u001b[49m\u001b[38;5;241;43m=\u001b[39;49m\u001b[43minterp\u001b[49m\u001b[43m,\u001b[49m\n\u001b[1;32m    691\u001b[0m \u001b[43m                                 \u001b[49m\u001b[43mcluster\u001b[49m\u001b[38;5;241;43m=\u001b[39;49m\u001b[43mcluster\u001b[49m\u001b[43m,\u001b[49m\n\u001b[1;32m    692\u001b[0m \u001b[43m                                 \u001b[49m\u001b[43mboundary_seg\u001b[49m\u001b[38;5;241;43m=\u001b[39;49m\u001b[43mboundary_seg\u001b[49m\u001b[43m,\u001b[49m\n\u001b[1;32m    693\u001b[0m \u001b[43m                                 \u001b[49m\u001b[43maffinity_seg\u001b[49m\u001b[38;5;241;43m=\u001b[39;49m\u001b[43maffinity_seg\u001b[49m\u001b[43m,\u001b[49m\n\u001b[1;32m    694\u001b[0m \u001b[43m                                 \u001b[49m\u001b[43mmask_threshold\u001b[49m\u001b[38;5;241;43m=\u001b[39;49m\u001b[43mmask_threshold\u001b[49m\u001b[43m,\u001b[49m\u001b[43m \u001b[49m\n\u001b[1;32m    695\u001b[0m \u001b[43m                                 \u001b[49m\u001b[43mdiam_threshold\u001b[49m\u001b[38;5;241;43m=\u001b[39;49m\u001b[43mdiam_threshold\u001b[49m\u001b[43m,\u001b[49m\n\u001b[1;32m    696\u001b[0m \u001b[43m                                 \u001b[49m\u001b[43mflow_threshold\u001b[49m\u001b[38;5;241;43m=\u001b[39;49m\u001b[43mflow_threshold\u001b[49m\u001b[43m,\u001b[49m\u001b[43m \u001b[49m\n\u001b[1;32m    697\u001b[0m \u001b[43m                                 \u001b[49m\u001b[43mniter\u001b[49m\u001b[38;5;241;43m=\u001b[39;49m\u001b[43mniter\u001b[49m\u001b[43m,\u001b[49m\n\u001b[1;32m    698\u001b[0m \u001b[43m                                 \u001b[49m\u001b[43mflow_factor\u001b[49m\u001b[38;5;241;43m=\u001b[39;49m\u001b[43mflow_factor\u001b[49m\u001b[43m,\u001b[49m\n\u001b[1;32m    699\u001b[0m \u001b[43m                                 \u001b[49m\u001b[43mcompute_masks\u001b[49m\u001b[38;5;241;43m=\u001b[39;49m\u001b[43mcompute_masks\u001b[49m\u001b[43m,\u001b[49m\u001b[43m \u001b[49m\n\u001b[1;32m    700\u001b[0m \u001b[43m                                 \u001b[49m\u001b[43mmin_size\u001b[49m\u001b[38;5;241;43m=\u001b[39;49m\u001b[43mmin_size\u001b[49m\u001b[43m,\u001b[49m\u001b[43m \u001b[49m\n\u001b[1;32m    701\u001b[0m \u001b[43m                                 \u001b[49m\u001b[43mstitch_threshold\u001b[49m\u001b[38;5;241;43m=\u001b[39;49m\u001b[43mstitch_threshold\u001b[49m\u001b[43m,\u001b[49m\u001b[43m \u001b[49m\n\u001b[1;32m    702\u001b[0m \u001b[43m                                 \u001b[49m\u001b[43mprogress\u001b[49m\u001b[38;5;241;43m=\u001b[39;49m\u001b[43mprogress\u001b[49m\u001b[43m,\u001b[49m\n\u001b[1;32m    703\u001b[0m \u001b[43m                                 \u001b[49m\u001b[43momni\u001b[49m\u001b[38;5;241;43m=\u001b[39;49m\u001b[43momni\u001b[49m\u001b[43m,\u001b[49m\n\u001b[1;32m    704\u001b[0m \u001b[43m                                 \u001b[49m\u001b[43mcalc_trace\u001b[49m\u001b[38;5;241;43m=\u001b[39;49m\u001b[43mcalc_trace\u001b[49m\u001b[43m,\u001b[49m\u001b[43m \u001b[49m\n\u001b[1;32m    705\u001b[0m \u001b[43m                                 \u001b[49m\u001b[43mverbose\u001b[49m\u001b[38;5;241;43m=\u001b[39;49m\u001b[43mverbose\u001b[49m\u001b[43m,\u001b[49m\n\u001b[1;32m    706\u001b[0m \u001b[43m                                 \u001b[49m\u001b[43mtransparency\u001b[49m\u001b[38;5;241;43m=\u001b[39;49m\u001b[43mtransparency\u001b[49m\u001b[43m,\u001b[49m\n\u001b[1;32m    707\u001b[0m \u001b[43m                                 \u001b[49m\u001b[43mloop_run\u001b[49m\u001b[38;5;241;43m=\u001b[39;49m\u001b[43m(\u001b[49m\u001b[43mi\u001b[49m\u001b[38;5;241;43m>\u001b[39;49m\u001b[38;5;241;43m0\u001b[39;49m\u001b[43m)\u001b[49m\u001b[43m,\u001b[49m\n\u001b[1;32m    708\u001b[0m \u001b[43m                                 \u001b[49m\u001b[43mmodel_loaded\u001b[49m\u001b[38;5;241;43m=\u001b[39;49m\u001b[43mmodel_loaded\u001b[49m\u001b[43m)\u001b[49m\n\u001b[1;32m    709\u001b[0m masks\u001b[38;5;241m.\u001b[39mappend(maski)\n\u001b[1;32m    710\u001b[0m flows\u001b[38;5;241m.\u001b[39mappend(flowi)\n",
      "File \u001b[0;32m~/Projects/cellpose-omni/cellpose_omni/models.py:740\u001b[0m, in \u001b[0;36mCellposeModel.eval\u001b[0;34m(self, x, batch_size, channels, channel_axis, z_axis, normalize, invert, rescale, diameter, do_3D, anisotropy, net_avg, augment, tile, tile_overlap, bsize, resample, interp, cluster, boundary_seg, affinity_seg, flow_threshold, mask_threshold, diam_threshold, niter, cellprob_threshold, dist_threshold, flow_factor, compute_masks, min_size, stitch_threshold, progress, omni, calc_trace, verbose, transparency, loop_run, model_loaded)\u001b[0m\n\u001b[1;32m    737\u001b[0m rescale \u001b[38;5;241m=\u001b[39m \u001b[38;5;28mself\u001b[39m\u001b[38;5;241m.\u001b[39mdiam_mean \u001b[38;5;241m/\u001b[39m diameter \u001b[38;5;28;01mif\u001b[39;00m (rescale \u001b[38;5;129;01mis\u001b[39;00m \u001b[38;5;28;01mNone\u001b[39;00m \u001b[38;5;129;01mand\u001b[39;00m (diameter \u001b[38;5;129;01mis\u001b[39;00m \u001b[38;5;129;01mnot\u001b[39;00m \u001b[38;5;28;01mNone\u001b[39;00m \u001b[38;5;129;01mand\u001b[39;00m diameter\u001b[38;5;241m>\u001b[39m\u001b[38;5;241m0\u001b[39m)) \u001b[38;5;28;01melse\u001b[39;00m rescale\n\u001b[1;32m    738\u001b[0m rescale \u001b[38;5;241m=\u001b[39m \u001b[38;5;241m1.0\u001b[39m \u001b[38;5;28;01mif\u001b[39;00m rescale \u001b[38;5;129;01mis\u001b[39;00m \u001b[38;5;28;01mNone\u001b[39;00m \u001b[38;5;28;01melse\u001b[39;00m rescale\n\u001b[0;32m--> 740\u001b[0m masks, styles, dP, cellprob, p, bd, tr, affinity, bounds  \u001b[38;5;241m=\u001b[39m \u001b[38;5;28;43mself\u001b[39;49m\u001b[38;5;241;43m.\u001b[39;49m\u001b[43m_run_cp\u001b[49m\u001b[43m(\u001b[49m\u001b[43mx\u001b[49m\u001b[43m,\u001b[49m\u001b[43m \u001b[49m\n\u001b[1;32m    741\u001b[0m \u001b[43m                                                                          \u001b[49m\u001b[43mcompute_masks\u001b[49m\u001b[38;5;241;43m=\u001b[39;49m\u001b[43mcompute_masks\u001b[49m\u001b[43m,\u001b[49m\n\u001b[1;32m    742\u001b[0m \u001b[43m                                                                          \u001b[49m\u001b[43mnormalize\u001b[49m\u001b[38;5;241;43m=\u001b[39;49m\u001b[43mnormalize\u001b[49m\u001b[43m,\u001b[49m\n\u001b[1;32m    743\u001b[0m \u001b[43m                                                                          \u001b[49m\u001b[43minvert\u001b[49m\u001b[38;5;241;43m=\u001b[39;49m\u001b[43minvert\u001b[49m\u001b[43m,\u001b[49m\n\u001b[1;32m    744\u001b[0m \u001b[43m                                                                          \u001b[49m\u001b[43mrescale\u001b[49m\u001b[38;5;241;43m=\u001b[39;49m\u001b[43mrescale\u001b[49m\u001b[43m,\u001b[49m\u001b[43m \u001b[49m\n\u001b[1;32m    745\u001b[0m \u001b[43m                                                                          \u001b[49m\u001b[43mnet_avg\u001b[49m\u001b[38;5;241;43m=\u001b[39;49m\u001b[43mnet_avg\u001b[49m\u001b[43m,\u001b[49m\u001b[43m \u001b[49m\n\u001b[1;32m    746\u001b[0m \u001b[43m                                                                          \u001b[49m\u001b[43mresample\u001b[49m\u001b[38;5;241;43m=\u001b[39;49m\u001b[43mresample\u001b[49m\u001b[43m,\u001b[49m\n\u001b[1;32m    747\u001b[0m \u001b[43m                                                                          \u001b[49m\u001b[43maugment\u001b[49m\u001b[38;5;241;43m=\u001b[39;49m\u001b[43maugment\u001b[49m\u001b[43m,\u001b[49m\u001b[43m \u001b[49m\n\u001b[1;32m    748\u001b[0m \u001b[43m                                                                          \u001b[49m\u001b[43mtile\u001b[49m\u001b[38;5;241;43m=\u001b[39;49m\u001b[43mtile\u001b[49m\u001b[43m,\u001b[49m\u001b[43m \u001b[49m\n\u001b[1;32m    749\u001b[0m \u001b[43m                                                                          \u001b[49m\u001b[43mtile_overlap\u001b[49m\u001b[38;5;241;43m=\u001b[39;49m\u001b[43mtile_overlap\u001b[49m\u001b[43m,\u001b[49m\n\u001b[1;32m    750\u001b[0m \u001b[43m                                                                          \u001b[49m\u001b[43mbsize\u001b[49m\u001b[38;5;241;43m=\u001b[39;49m\u001b[43mbsize\u001b[49m\u001b[43m,\u001b[49m\n\u001b[1;32m    751\u001b[0m \u001b[43m                                                                          \u001b[49m\u001b[43mmask_threshold\u001b[49m\u001b[38;5;241;43m=\u001b[39;49m\u001b[43mmask_threshold\u001b[49m\u001b[43m,\u001b[49m\u001b[43m \u001b[49m\n\u001b[1;32m    752\u001b[0m \u001b[43m                                                                          \u001b[49m\u001b[43mdiam_threshold\u001b[49m\u001b[38;5;241;43m=\u001b[39;49m\u001b[43mdiam_threshold\u001b[49m\u001b[43m,\u001b[49m\n\u001b[1;32m    753\u001b[0m \u001b[43m                                                                          \u001b[49m\u001b[43mflow_threshold\u001b[49m\u001b[38;5;241;43m=\u001b[39;49m\u001b[43mflow_threshold\u001b[49m\u001b[43m,\u001b[49m\n\u001b[1;32m    754\u001b[0m \u001b[43m                                                                          \u001b[49m\u001b[43mniter\u001b[49m\u001b[38;5;241;43m=\u001b[39;49m\u001b[43mniter\u001b[49m\u001b[43m,\u001b[49m\n\u001b[1;32m    755\u001b[0m \u001b[43m                                                                          \u001b[49m\u001b[43mflow_factor\u001b[49m\u001b[38;5;241;43m=\u001b[39;49m\u001b[43mflow_factor\u001b[49m\u001b[43m,\u001b[49m\n\u001b[1;32m    756\u001b[0m \u001b[43m                                                                          \u001b[49m\u001b[43minterp\u001b[49m\u001b[38;5;241;43m=\u001b[39;49m\u001b[43minterp\u001b[49m\u001b[43m,\u001b[49m\n\u001b[1;32m    757\u001b[0m \u001b[43m                                                                          \u001b[49m\u001b[43mcluster\u001b[49m\u001b[38;5;241;43m=\u001b[39;49m\u001b[43mcluster\u001b[49m\u001b[43m,\u001b[49m\n\u001b[1;32m    758\u001b[0m \u001b[43m                                                                          \u001b[49m\u001b[43mboundary_seg\u001b[49m\u001b[38;5;241;43m=\u001b[39;49m\u001b[43mboundary_seg\u001b[49m\u001b[43m,\u001b[49m\u001b[43m  \u001b[49m\n\u001b[1;32m    759\u001b[0m \u001b[43m                                                                          \u001b[49m\u001b[43maffinity_seg\u001b[49m\u001b[38;5;241;43m=\u001b[39;49m\u001b[43maffinity_seg\u001b[49m\u001b[43m,\u001b[49m\n\u001b[1;32m    760\u001b[0m \u001b[43m                                                                          \u001b[49m\u001b[43mmin_size\u001b[49m\u001b[38;5;241;43m=\u001b[39;49m\u001b[43mmin_size\u001b[49m\u001b[43m,\u001b[49m\u001b[43m \u001b[49m\n\u001b[1;32m    761\u001b[0m \u001b[43m                                                                          \u001b[49m\u001b[43mdo_3D\u001b[49m\u001b[38;5;241;43m=\u001b[39;49m\u001b[43mdo_3D\u001b[49m\u001b[43m,\u001b[49m\u001b[43m \u001b[49m\n\u001b[1;32m    762\u001b[0m \u001b[43m                                                                          \u001b[49m\u001b[43manisotropy\u001b[49m\u001b[38;5;241;43m=\u001b[39;49m\u001b[43manisotropy\u001b[49m\u001b[43m,\u001b[49m\n\u001b[1;32m    763\u001b[0m \u001b[43m                                                                          \u001b[49m\u001b[43mstitch_threshold\u001b[49m\u001b[38;5;241;43m=\u001b[39;49m\u001b[43mstitch_threshold\u001b[49m\u001b[43m,\u001b[49m\n\u001b[1;32m    764\u001b[0m \u001b[43m                                                                          \u001b[49m\u001b[43momni\u001b[49m\u001b[38;5;241;43m=\u001b[39;49m\u001b[43momni\u001b[49m\u001b[43m,\u001b[49m\n\u001b[1;32m    765\u001b[0m \u001b[43m                                                                          \u001b[49m\u001b[43mcalc_trace\u001b[49m\u001b[38;5;241;43m=\u001b[39;49m\u001b[43mcalc_trace\u001b[49m\u001b[43m,\u001b[49m\n\u001b[1;32m    766\u001b[0m \u001b[43m                                                                          \u001b[49m\u001b[43mverbose\u001b[49m\u001b[38;5;241;43m=\u001b[39;49m\u001b[43mverbose\u001b[49m\u001b[43m)\u001b[49m\n\u001b[1;32m    768\u001b[0m \u001b[38;5;66;03m# the flow list stores: \u001b[39;00m\n\u001b[1;32m    769\u001b[0m \u001b[38;5;66;03m# (1) RGB representation of flows\u001b[39;00m\n\u001b[1;32m    770\u001b[0m \u001b[38;5;66;03m# (2) flow components\u001b[39;00m\n\u001b[0;32m   (...)\u001b[0m\n\u001b[1;32m    777\u001b[0m \n\u001b[1;32m    778\u001b[0m \u001b[38;5;66;03m# 5-8 were added in Omnipose, hence the unusual placement in the list. \u001b[39;00m\n\u001b[1;32m    780\u001b[0m flows \u001b[38;5;241m=\u001b[39m [plot\u001b[38;5;241m.\u001b[39mdx_to_circ(dP,transparency\u001b[38;5;241m=\u001b[39mtransparency) \n\u001b[1;32m    781\u001b[0m          \u001b[38;5;28;01mif\u001b[39;00m \u001b[38;5;28mself\u001b[39m\u001b[38;5;241m.\u001b[39mnclasses\u001b[38;5;241m>\u001b[39m\u001b[38;5;241m1\u001b[39m \u001b[38;5;28;01melse\u001b[39;00m np\u001b[38;5;241m.\u001b[39mzeros(cellprob\u001b[38;5;241m.\u001b[39mshape\u001b[38;5;241m+\u001b[39m(\u001b[38;5;241m3\u001b[39m\u001b[38;5;241m+\u001b[39mtransparency,),np\u001b[38;5;241m.\u001b[39muint8),\n\u001b[1;32m    782\u001b[0m          dP, cellprob, p, bd, tr, affinity, bounds]\n",
      "File \u001b[0;32m~/Projects/cellpose-omni/cellpose_omni/models.py:954\u001b[0m, in \u001b[0;36mCellposeModel._run_cp\u001b[0;34m(self, x, compute_masks, normalize, invert, rescale, net_avg, resample, augment, tile, tile_overlap, bsize, mask_threshold, diam_threshold, flow_threshold, niter, flow_factor, min_size, interp, cluster, boundary_seg, affinity_seg, anisotropy, do_3D, stitch_threshold, omni, calc_trace, verbose, pad)\u001b[0m\n\u001b[1;32m    951\u001b[0m \u001b[38;5;28;01mfor\u001b[39;00m i \u001b[38;5;129;01min\u001b[39;00m iterator:\n\u001b[1;32m    952\u001b[0m     \u001b[38;5;28;01mif\u001b[39;00m \u001b[38;5;129;01mnot\u001b[39;00m (omni \u001b[38;5;129;01mand\u001b[39;00m OMNI_INSTALLED):\n\u001b[1;32m    953\u001b[0m         \u001b[38;5;66;03m# run cellpose compute_masks\u001b[39;00m\n\u001b[0;32m--> 954\u001b[0m         outputs \u001b[38;5;241m=\u001b[39m \u001b[43mdynamics\u001b[49m\u001b[38;5;241;43m.\u001b[39;49m\u001b[43mcompute_masks\u001b[49m\u001b[43m(\u001b[49m\u001b[43mdP\u001b[49m\u001b[43m[\u001b[49m\u001b[43m:\u001b[49m\u001b[43m,\u001b[49m\u001b[43mi\u001b[49m\u001b[43m]\u001b[49m\u001b[43m,\u001b[49m\u001b[43m \u001b[49m\u001b[43mcellprob\u001b[49m\u001b[43m[\u001b[49m\u001b[43mi\u001b[49m\u001b[43m]\u001b[49m\u001b[43m,\u001b[49m\u001b[43m \u001b[49m\u001b[43mniter\u001b[49m\u001b[38;5;241;43m=\u001b[39;49m\u001b[43mniter\u001b[49m\u001b[43m,\u001b[49m\u001b[43m \u001b[49m\n\u001b[1;32m    955\u001b[0m \u001b[43m                                         \u001b[49m\u001b[43mmask_threshold\u001b[49m\u001b[38;5;241;43m=\u001b[39;49m\u001b[43mmask_threshold\u001b[49m\u001b[43m,\u001b[49m\n\u001b[1;32m    956\u001b[0m \u001b[43m                                         \u001b[49m\u001b[43mflow_threshold\u001b[49m\u001b[38;5;241;43m=\u001b[39;49m\u001b[43mflow_threshold\u001b[49m\u001b[43m,\u001b[49m\u001b[43m \u001b[49m\n\u001b[1;32m    957\u001b[0m \u001b[43m                                         \u001b[49m\u001b[43minterp\u001b[49m\u001b[38;5;241;43m=\u001b[39;49m\u001b[43minterp\u001b[49m\u001b[43m,\u001b[49m\u001b[43m \u001b[49m\n\u001b[1;32m    958\u001b[0m \u001b[43m                                         \u001b[49m\u001b[43mresize\u001b[49m\u001b[38;5;241;43m=\u001b[39;49m\u001b[43mresize\u001b[49m\u001b[43m,\u001b[49m\u001b[43m \u001b[49m\n\u001b[1;32m    959\u001b[0m \u001b[43m                                         \u001b[49m\u001b[43mverbose\u001b[49m\u001b[38;5;241;43m=\u001b[39;49m\u001b[43mverbose\u001b[49m\u001b[43m,\u001b[49m\n\u001b[1;32m    960\u001b[0m \u001b[43m                                         \u001b[49m\u001b[43muse_gpu\u001b[49m\u001b[38;5;241;43m=\u001b[39;49m\u001b[38;5;28;43mself\u001b[39;49m\u001b[38;5;241;43m.\u001b[39;49m\u001b[43mgpu\u001b[49m\u001b[43m,\u001b[49m\u001b[43m \u001b[49m\n\u001b[1;32m    961\u001b[0m \u001b[43m                                         \u001b[49m\u001b[43mdevice\u001b[49m\u001b[38;5;241;43m=\u001b[39;49m\u001b[38;5;28;43mself\u001b[39;49m\u001b[38;5;241;43m.\u001b[39;49m\u001b[43mdevice\u001b[49m\u001b[43m,\u001b[49m\u001b[43m \u001b[49m\n\u001b[1;32m    962\u001b[0m \u001b[43m                                         \u001b[49m\u001b[43mnclasses\u001b[49m\u001b[38;5;241;43m=\u001b[39;49m\u001b[38;5;28;43mself\u001b[39;49m\u001b[38;5;241;43m.\u001b[39;49m\u001b[43mnclasses\u001b[49m\u001b[43m,\u001b[49m\n\u001b[1;32m    963\u001b[0m \u001b[43m                                         \u001b[49m\u001b[43mcalc_trace\u001b[49m\u001b[38;5;241;43m=\u001b[39;49m\u001b[43mcalc_trace\u001b[49m\u001b[43m)\u001b[49m\n\u001b[1;32m    964\u001b[0m         outputs \u001b[38;5;241m=\u001b[39m outputs \u001b[38;5;241m+\u001b[39m ([],) \u001b[38;5;66;03m# affinity placeholder\u001b[39;00m\n\u001b[1;32m    965\u001b[0m     \u001b[38;5;28;01melse\u001b[39;00m:\n\u001b[1;32m    966\u001b[0m         \u001b[38;5;66;03m# run omnipose compute_masks\u001b[39;00m\n\u001b[1;32m    967\u001b[0m         \n\u001b[0;32m   (...)\u001b[0m\n\u001b[1;32m    973\u001b[0m         \u001b[38;5;66;03m#     print('rescale is',rescale,resize)\u001b[39;00m\n\u001b[1;32m    974\u001b[0m             \u001b[38;5;66;03m# dP[:,i] /= rescale this does nothign here since I normalize the flow anyway, have to pass in \u001b[39;00m\n",
      "File \u001b[0;32m~/Projects/cellpose-omni/cellpose_omni/dynamics.py:779\u001b[0m, in \u001b[0;36mcompute_masks\u001b[0;34m(dP, cellprob, bd, p, inds, niter, mask_threshold, diam_threshold, flow_threshold, interp, do_3D, min_size, resize, verbose, use_gpu, device, nclasses, calc_trace)\u001b[0m\n\u001b[1;32m    776\u001b[0m \u001b[38;5;28;01mif\u001b[39;00m np\u001b[38;5;241m.\u001b[39many(cp_mask): \u001b[38;5;66;03m#mask at this point is a cell cluster binary map, not labels     \u001b[39;00m\n\u001b[1;32m    777\u001b[0m     \u001b[38;5;66;03m# follow flows\u001b[39;00m\n\u001b[1;32m    778\u001b[0m     \u001b[38;5;28;01mif\u001b[39;00m p \u001b[38;5;129;01mis\u001b[39;00m \u001b[38;5;28;01mNone\u001b[39;00m:\n\u001b[0;32m--> 779\u001b[0m         p , inds, tr \u001b[38;5;241m=\u001b[39m \u001b[43mfollow_flows\u001b[49m\u001b[43m(\u001b[49m\u001b[43mdP\u001b[49m\u001b[43m \u001b[49m\u001b[38;5;241;43m*\u001b[39;49m\u001b[43m \u001b[49m\u001b[43mcp_mask\u001b[49m\u001b[43m \u001b[49m\u001b[38;5;241;43m/\u001b[39;49m\u001b[43m \u001b[49m\u001b[38;5;241;43m5.\u001b[39;49m\u001b[43m,\u001b[49m\u001b[43m \u001b[49m\u001b[43mmask\u001b[49m\u001b[38;5;241;43m=\u001b[39;49m\u001b[43mcp_mask\u001b[49m\u001b[43m,\u001b[49m\u001b[43m \u001b[49m\u001b[43minds\u001b[49m\u001b[38;5;241;43m=\u001b[39;49m\u001b[43minds\u001b[49m\u001b[43m,\u001b[49m\u001b[43m \u001b[49m\u001b[43mniter\u001b[49m\u001b[38;5;241;43m=\u001b[39;49m\u001b[43mniter\u001b[49m\u001b[43m,\u001b[49m\u001b[43m \u001b[49m\u001b[43minterp\u001b[49m\u001b[38;5;241;43m=\u001b[39;49m\u001b[43minterp\u001b[49m\u001b[43m,\u001b[49m\u001b[43m \u001b[49m\n\u001b[1;32m    780\u001b[0m \u001b[43m                                        \u001b[49m\u001b[43muse_gpu\u001b[49m\u001b[38;5;241;43m=\u001b[39;49m\u001b[43muse_gpu\u001b[49m\u001b[43m,\u001b[49m\u001b[43m \u001b[49m\u001b[43mdevice\u001b[49m\u001b[38;5;241;43m=\u001b[39;49m\u001b[43mdevice\u001b[49m\u001b[43m,\u001b[49m\u001b[43m \u001b[49m\u001b[43mcalc_trace\u001b[49m\u001b[38;5;241;43m=\u001b[39;49m\u001b[43mcalc_trace\u001b[49m\u001b[43m)\u001b[49m\n\u001b[1;32m    781\u001b[0m         \u001b[38;5;28;01mif\u001b[39;00m inds\u001b[38;5;241m.\u001b[39mndim \u001b[38;5;241m<\u001b[39m \u001b[38;5;241m2\u001b[39m \u001b[38;5;129;01mor\u001b[39;00m inds\u001b[38;5;241m.\u001b[39mshape[\u001b[38;5;241m0\u001b[39m] \u001b[38;5;241m<\u001b[39m \u001b[38;5;241m5\u001b[39m:\n\u001b[1;32m    782\u001b[0m             dynamics_logger\u001b[38;5;241m.\u001b[39minfo(\u001b[38;5;124m'\u001b[39m\u001b[38;5;124mNo cell pixels found.\u001b[39m\u001b[38;5;124m'\u001b[39m)\n",
      "File \u001b[0;32m~/Projects/cellpose-omni/cellpose_omni/dynamics.py:583\u001b[0m, in \u001b[0;36mfollow_flows\u001b[0;34m(dP, mask, inds, niter, interp, use_gpu, device, omni, calc_trace)\u001b[0m\n\u001b[1;32m    550\u001b[0m \u001b[38;5;250m\u001b[39m\u001b[38;5;124;03m\"\"\" define pixels and run dynamics to recover masks in 2D\u001b[39;00m\n\u001b[1;32m    551\u001b[0m \u001b[38;5;124;03m\u001b[39;00m\n\u001b[1;32m    552\u001b[0m \u001b[38;5;124;03mPixels are meshgrid. Only pixels with non-zero cell-probability\u001b[39;00m\n\u001b[0;32m   (...)\u001b[0m\n\u001b[1;32m    580\u001b[0m \n\u001b[1;32m    581\u001b[0m \u001b[38;5;124;03m\"\"\"\u001b[39;00m\n\u001b[1;32m    582\u001b[0m shape \u001b[38;5;241m=\u001b[39m np\u001b[38;5;241m.\u001b[39marray(dP\u001b[38;5;241m.\u001b[39mshape[\u001b[38;5;241m1\u001b[39m:])\u001b[38;5;241m.\u001b[39mastype(np\u001b[38;5;241m.\u001b[39mint32)\n\u001b[0;32m--> 583\u001b[0m niter \u001b[38;5;241m=\u001b[39m \u001b[43mnp\u001b[49m\u001b[38;5;241;43m.\u001b[39;49m\u001b[43muint32\u001b[49m\u001b[43m(\u001b[49m\u001b[43mniter\u001b[49m\u001b[43m)\u001b[49m\n\u001b[1;32m    584\u001b[0m \u001b[38;5;28;01mif\u001b[39;00m \u001b[38;5;28mlen\u001b[39m(shape)\u001b[38;5;241m>\u001b[39m\u001b[38;5;241m2\u001b[39m:\n\u001b[1;32m    585\u001b[0m     p \u001b[38;5;241m=\u001b[39m np\u001b[38;5;241m.\u001b[39mmeshgrid(np\u001b[38;5;241m.\u001b[39marange(shape[\u001b[38;5;241m0\u001b[39m]), np\u001b[38;5;241m.\u001b[39marange(shape[\u001b[38;5;241m1\u001b[39m]),\n\u001b[1;32m    586\u001b[0m             np\u001b[38;5;241m.\u001b[39marange(shape[\u001b[38;5;241m2\u001b[39m]), indexing\u001b[38;5;241m=\u001b[39m\u001b[38;5;124m'\u001b[39m\u001b[38;5;124mij\u001b[39m\u001b[38;5;124m'\u001b[39m)\n",
      "\u001b[0;31mTypeError\u001b[0m: int() argument must be a string, a bytes-like object or a real number, not 'NoneType'"
     ]
    }
   ],
   "source": [
    "model_type = \"nuclei\"\n",
    "model = models.CellposeModel(gpu=use_GPU, model_type=model_type)\n",
    "chans = [0, 0]\n",
    "\n",
    "min_size = 10\n",
    "\n",
    "params = {'channels': chans, # always define this with the model\n",
    "          'rescale': None, # upscale or downscale your images, None = no rescaling\n",
    "          'mask_threshold': 0.0, # erode or dilate masks with higher or lower values between -5 and 5\n",
    "          'flow_threshold': 0.0,\n",
    "          'min_size': min_size,\n",
    "          'diameter': 0.0,\n",
    "          'invert': False,\n",
    "          'transparency': True, # transparency in flow output\n",
    "          'omni': True, # we can turn off Omnipose mask reconstruction, not advised\n",
    "          'cluster': True, # use DBSCAN clustering\n",
    "          'resample': True, # whether or not to run dynamics on rescaled grid or original grid\n",
    "          'verbose': False, # turn on if you want to see more output\n",
    "          'tile': False, # average the outputs from flipped (augmented) images; slower, usually not needed\n",
    "          'niter': None, # default None lets Omnipose calculate # of Euler iterations (usually <20) but you can tune it for over/under segmentation\n",
    "          'augment': False, # Can optionally rotate the image and average network outputs, usually not needed\n",
    "          'affinity_seg': False, # new feature, stay tuned...\n",
    "         }\n",
    "\n",
    "rootdir = '/Users/adele/PycharmProjects/Ecoli_smFISH/tests/exp16/output'\n",
    "files = Path(rootdir).glob('*/DAPI_max_proj.tif')\n",
    "# stop_after = 1\n",
    "imgs = [io.imread(f) for f in files]\n",
    "stop_after = len(imgs)\n",
    "masks, flows, styles = model.eval(imgs[:stop_after], **params)"
   ]
  },
  {
   "cell_type": "code",
   "execution_count": 50,
   "id": "f7338b531577aed1",
   "metadata": {
    "ExecuteTime": {
     "end_time": "2024-11-03T19:49:14.082335Z",
     "start_time": "2024-11-03T19:49:13.925588Z"
    }
   },
   "outputs": [
    {
     "name": "stderr",
     "output_type": "stream",
     "text": [
      "/var/folders/pp/cdyfs0g13j3_15mc99_0nfmh0000gn/T/ipykernel_8315/3153628565.py:6: UserWarning: /Users/adele/PycharmProjects/Ecoli_smFISH/tests/exp16/output/MG1655_GLY-lowOD-2nd_16/DAPI_masks_model=nuclei_chan=[0,0]_minsize=10_maskth=0.0.tif is a low contrast image\n",
      "  io.imsave(maskfile, m)\n",
      "/var/folders/pp/cdyfs0g13j3_15mc99_0nfmh0000gn/T/ipykernel_8315/3153628565.py:6: UserWarning: /Users/adele/PycharmProjects/Ecoli_smFISH/tests/exp16/output/MG1655_GLY-lowOD-2nd_17/DAPI_masks_model=nuclei_chan=[0,0]_minsize=10_maskth=0.0.tif is a low contrast image\n",
      "  io.imsave(maskfile, m)\n",
      "/var/folders/pp/cdyfs0g13j3_15mc99_0nfmh0000gn/T/ipykernel_8315/3153628565.py:6: UserWarning: /Users/adele/PycharmProjects/Ecoli_smFISH/tests/exp16/output/MG1655_GLU_OD_0.3_left_02/DAPI_masks_model=nuclei_chan=[0,0]_minsize=10_maskth=0.0.tif is a low contrast image\n",
      "  io.imsave(maskfile, m)\n",
      "/var/folders/pp/cdyfs0g13j3_15mc99_0nfmh0000gn/T/ipykernel_8315/3153628565.py:6: UserWarning: /Users/adele/PycharmProjects/Ecoli_smFISH/tests/exp16/output/MG1655_GLU_OD_0.3_left_03/DAPI_masks_model=nuclei_chan=[0,0]_minsize=10_maskth=0.0.tif is a low contrast image\n",
      "  io.imsave(maskfile, m)\n",
      "/var/folders/pp/cdyfs0g13j3_15mc99_0nfmh0000gn/T/ipykernel_8315/3153628565.py:6: UserWarning: /Users/adele/PycharmProjects/Ecoli_smFISH/tests/exp16/output/MG1655_GAL-lowOD-2nd_05/DAPI_masks_model=nuclei_chan=[0,0]_minsize=10_maskth=0.0.tif is a low contrast image\n",
      "  io.imsave(maskfile, m)\n",
      "/var/folders/pp/cdyfs0g13j3_15mc99_0nfmh0000gn/T/ipykernel_8315/3153628565.py:6: UserWarning: /Users/adele/PycharmProjects/Ecoli_smFISH/tests/exp16/output/MG1655_MAN_OD_0.3_left_08/DAPI_masks_model=nuclei_chan=[0,0]_minsize=10_maskth=0.0.tif is a low contrast image\n",
      "  io.imsave(maskfile, m)\n",
      "/var/folders/pp/cdyfs0g13j3_15mc99_0nfmh0000gn/T/ipykernel_8315/3153628565.py:6: UserWarning: /Users/adele/PycharmProjects/Ecoli_smFISH/tests/exp16/output/MG1655_MAN_OD_0.3_left_07/DAPI_masks_model=nuclei_chan=[0,0]_minsize=10_maskth=0.0.tif is a low contrast image\n",
      "  io.imsave(maskfile, m)\n",
      "/var/folders/pp/cdyfs0g13j3_15mc99_0nfmh0000gn/T/ipykernel_8315/3153628565.py:6: UserWarning: /Users/adele/PycharmProjects/Ecoli_smFISH/tests/exp16/output/MG1655_LB_fixed2806_hybed1906_left_03/DAPI_masks_model=nuclei_chan=[0,0]_minsize=10_maskth=0.0.tif is a low contrast image\n",
      "  io.imsave(maskfile, m)\n",
      "/var/folders/pp/cdyfs0g13j3_15mc99_0nfmh0000gn/T/ipykernel_8315/3153628565.py:6: UserWarning: /Users/adele/PycharmProjects/Ecoli_smFISH/tests/exp16/output/MG1655_LB_fixed2806_hybed1906_left_05/DAPI_masks_model=nuclei_chan=[0,0]_minsize=10_maskth=0.0.tif is a low contrast image\n",
      "  io.imsave(maskfile, m)\n",
      "/var/folders/pp/cdyfs0g13j3_15mc99_0nfmh0000gn/T/ipykernel_8315/3153628565.py:6: UserWarning: /Users/adele/PycharmProjects/Ecoli_smFISH/tests/exp16/output/MG1655_GAL-lowOD-2nd_06/DAPI_masks_model=nuclei_chan=[0,0]_minsize=10_maskth=0.0.tif is a low contrast image\n",
      "  io.imsave(maskfile, m)\n"
     ]
    }
   ],
   "source": [
    "# save the masks with channel information\n",
    "files = Path(rootdir).glob('*/grgb.npy')\n",
    "filelist = list(files)\n",
    "for f, m in zip(filelist, masks):\n",
    "    maskfile = Path(f).parent / f'DIC_masks_model={model_type}_chan={str(params[\"channels\"]).replace(\" \", \"\")}_diameter={params[\"diameter\"]}_minsize={params[\"min_size\"]}_mask={params[\"mask_threshold\"]}_flow={params[\"flow_threshold\"]}.tif'\n",
    "    io.imsave(maskfile, m)"
   ]
  },
  {
   "cell_type": "markdown",
   "id": "4c76c0d28bae2f0c",
   "metadata": {},
   "source": [
    "### Cells: cyto2 with only DIC as input"
   ]
  },
  {
   "cell_type": "code",
   "execution_count": 8,
   "id": "241f685eeabf3596",
   "metadata": {
    "ExecuteTime": {
     "end_time": "2024-11-03T18:20:40.910602Z",
     "start_time": "2024-11-03T18:19:58.069007Z"
    }
   },
   "outputs": [
    {
     "name": "stdout",
     "output_type": "stream",
     "text": [
      "\u001b[38;5;78m2025-01-12 20:56:20,707\t[INFO]     cellpose_omni/models.py       __init__....()\t line 418\t>>cyto2<< model set to be used\u001b[0m\n",
      "\u001b[38;5;74m2025-01-12 20:56:20,741\t[INFO]     cellpose_omni/core.py         _use...torch()\t line  72\t** TORCH GPU version installed and working. **\u001b[0m\n",
      "\u001b[38;5;74m2025-01-12 20:56:20,742\t[INFO]                                   assi...evice()\t line  83\t>>>> using GPU\u001b[0m\n"
     ]
    },
    {
     "data": {
      "application/vnd.jupyter.widget-view+json": {
       "model_id": "1bfc9536d94041819e7d643e5fa6c484",
       "version_major": 2,
       "version_minor": 0
      },
      "text/plain": [
       "  0%|          | 0/10 [00:00<?, ?it/s]"
      ]
     },
     "metadata": {},
     "output_type": "display_data"
    },
    {
     "ename": "TypeError",
     "evalue": "int() argument must be a string, a bytes-like object or a real number, not 'NoneType'",
     "output_type": "error",
     "traceback": [
      "\u001b[0;31m---------------------------------------------------------------------------\u001b[0m",
      "\u001b[0;31mTypeError\u001b[0m                                 Traceback (most recent call last)",
      "Cell \u001b[0;32mIn[8], line 29\u001b[0m\n\u001b[1;32m     27\u001b[0m imgs \u001b[38;5;241m=\u001b[39m [np\u001b[38;5;241m.\u001b[39mload(f) \u001b[38;5;28;01mfor\u001b[39;00m f \u001b[38;5;129;01min\u001b[39;00m files]\n\u001b[1;32m     28\u001b[0m stop_after \u001b[38;5;241m=\u001b[39m \u001b[38;5;28mlen\u001b[39m(imgs)\n\u001b[0;32m---> 29\u001b[0m masks, flows, styles \u001b[38;5;241m=\u001b[39m \u001b[43mmodel\u001b[49m\u001b[38;5;241;43m.\u001b[39;49m\u001b[43meval\u001b[49m\u001b[43m(\u001b[49m\u001b[43mimgs\u001b[49m\u001b[43m[\u001b[49m\u001b[43m:\u001b[49m\u001b[43mstop_after\u001b[49m\u001b[43m]\u001b[49m\u001b[43m,\u001b[49m\u001b[43m \u001b[49m\u001b[38;5;241;43m*\u001b[39;49m\u001b[38;5;241;43m*\u001b[39;49m\u001b[43mparams\u001b[49m\u001b[43m)\u001b[49m\n",
      "File \u001b[0;32m~/Projects/cellpose-omni/cellpose_omni/models.py:673\u001b[0m, in \u001b[0;36mCellposeModel.eval\u001b[0;34m(self, x, batch_size, channels, channel_axis, z_axis, normalize, invert, rescale, diameter, do_3D, anisotropy, net_avg, augment, tile, tile_overlap, bsize, resample, interp, cluster, boundary_seg, affinity_seg, flow_threshold, mask_threshold, diam_threshold, niter, cellprob_threshold, dist_threshold, flow_factor, compute_masks, min_size, stitch_threshold, progress, omni, calc_trace, verbose, transparency, loop_run, model_loaded)\u001b[0m\n\u001b[1;32m    665\u001b[0m rsc \u001b[38;5;241m=\u001b[39m rescale[i] \u001b[38;5;28;01mif\u001b[39;00m \u001b[38;5;28misinstance\u001b[39m(rescale, \u001b[38;5;28mlist\u001b[39m) \u001b[38;5;129;01mor\u001b[39;00m \u001b[38;5;28misinstance\u001b[39m(rescale, np\u001b[38;5;241m.\u001b[39mndarray) \u001b[38;5;28;01melse\u001b[39;00m rescale\n\u001b[1;32m    666\u001b[0m chn \u001b[38;5;241m=\u001b[39m channels \u001b[38;5;28;01mif\u001b[39;00m channels \u001b[38;5;129;01mis\u001b[39;00m \u001b[38;5;28;01mNone\u001b[39;00m \u001b[38;5;28;01melse\u001b[39;00m channels[i] \u001b[38;5;28;01mif\u001b[39;00m (\u001b[38;5;28mlen\u001b[39m(channels)\u001b[38;5;241m==\u001b[39m\u001b[38;5;28mlen\u001b[39m(x) \u001b[38;5;129;01mand\u001b[39;00m \n\u001b[1;32m    667\u001b[0m                                                         (\u001b[38;5;28misinstance\u001b[39m(channels[i], \u001b[38;5;28mlist\u001b[39m) \n\u001b[1;32m    668\u001b[0m                                                          \u001b[38;5;129;01mor\u001b[39;00m \u001b[38;5;28misinstance\u001b[39m(channels[i], np\u001b[38;5;241m.\u001b[39mndarray)) \u001b[38;5;129;01mand\u001b[39;00m\n\u001b[1;32m    669\u001b[0m                                                         \u001b[38;5;28mlen\u001b[39m(channels[i])\u001b[38;5;241m==\u001b[39m\u001b[38;5;241m2\u001b[39m) \u001b[38;5;28;01melse\u001b[39;00m channels\n\u001b[0;32m--> 673\u001b[0m maski, stylei, flowi \u001b[38;5;241m=\u001b[39m \u001b[38;5;28;43mself\u001b[39;49m\u001b[38;5;241;43m.\u001b[39;49m\u001b[43meval\u001b[49m\u001b[43m(\u001b[49m\u001b[43mx\u001b[49m\u001b[43m[\u001b[49m\u001b[43mi\u001b[49m\u001b[43m]\u001b[49m\u001b[43m,\u001b[49m\u001b[43m \u001b[49m\n\u001b[1;32m    674\u001b[0m \u001b[43m                                 \u001b[49m\u001b[43mbatch_size\u001b[49m\u001b[38;5;241;43m=\u001b[39;49m\u001b[43mbatch_size\u001b[49m\u001b[43m,\u001b[49m\u001b[43m \u001b[49m\n\u001b[1;32m    675\u001b[0m \u001b[43m                                 \u001b[49m\u001b[43mchannels\u001b[49m\u001b[43m \u001b[49m\u001b[38;5;241;43m=\u001b[39;49m\u001b[43m \u001b[49m\u001b[43mchn\u001b[49m\u001b[43m,\u001b[49m\n\u001b[1;32m    676\u001b[0m \u001b[43m                                 \u001b[49m\u001b[43mchannel_axis\u001b[49m\u001b[38;5;241;43m=\u001b[39;49m\u001b[43mchannel_axis\u001b[49m\u001b[43m,\u001b[49m\u001b[43m \u001b[49m\n\u001b[1;32m    677\u001b[0m \u001b[43m                                 \u001b[49m\u001b[43mz_axis\u001b[49m\u001b[38;5;241;43m=\u001b[39;49m\u001b[43mz_axis\u001b[49m\u001b[43m,\u001b[49m\u001b[43m \u001b[49m\n\u001b[1;32m    678\u001b[0m \u001b[43m                                 \u001b[49m\u001b[43mnormalize\u001b[49m\u001b[38;5;241;43m=\u001b[39;49m\u001b[43mnormalize\u001b[49m\u001b[43m,\u001b[49m\u001b[43m \u001b[49m\n\u001b[1;32m    679\u001b[0m \u001b[43m                                 \u001b[49m\u001b[43minvert\u001b[49m\u001b[38;5;241;43m=\u001b[39;49m\u001b[43minvert\u001b[49m\u001b[43m,\u001b[49m\n\u001b[1;32m    680\u001b[0m \u001b[43m                                 \u001b[49m\u001b[43mrescale\u001b[49m\u001b[38;5;241;43m=\u001b[39;49m\u001b[43mrsc\u001b[49m\u001b[43m,\u001b[49m\n\u001b[1;32m    681\u001b[0m \u001b[43m                                 \u001b[49m\u001b[43mdiameter\u001b[49m\u001b[38;5;241;43m=\u001b[39;49m\u001b[43mdia\u001b[49m\u001b[43m,\u001b[49m\u001b[43m \u001b[49m\n\u001b[1;32m    682\u001b[0m \u001b[43m                                 \u001b[49m\u001b[43mdo_3D\u001b[49m\u001b[38;5;241;43m=\u001b[39;49m\u001b[43mdo_3D\u001b[49m\u001b[43m,\u001b[49m\u001b[43m \u001b[49m\n\u001b[1;32m    683\u001b[0m \u001b[43m                                 \u001b[49m\u001b[43manisotropy\u001b[49m\u001b[38;5;241;43m=\u001b[39;49m\u001b[43manisotropy\u001b[49m\u001b[43m,\u001b[49m\u001b[43m \u001b[49m\n\u001b[1;32m    684\u001b[0m \u001b[43m                                 \u001b[49m\u001b[43mnet_avg\u001b[49m\u001b[38;5;241;43m=\u001b[39;49m\u001b[43mnet_avg\u001b[49m\u001b[43m,\u001b[49m\u001b[43m \u001b[49m\n\u001b[1;32m    685\u001b[0m \u001b[43m                                 \u001b[49m\u001b[43maugment\u001b[49m\u001b[38;5;241;43m=\u001b[39;49m\u001b[43maugment\u001b[49m\u001b[43m,\u001b[49m\u001b[43m \u001b[49m\n\u001b[1;32m    686\u001b[0m \u001b[43m                                 \u001b[49m\u001b[43mtile\u001b[49m\u001b[38;5;241;43m=\u001b[39;49m\u001b[43mtile\u001b[49m\u001b[43m,\u001b[49m\u001b[43m \u001b[49m\n\u001b[1;32m    687\u001b[0m \u001b[43m                                 \u001b[49m\u001b[43mtile_overlap\u001b[49m\u001b[38;5;241;43m=\u001b[39;49m\u001b[43mtile_overlap\u001b[49m\u001b[43m,\u001b[49m\n\u001b[1;32m    688\u001b[0m \u001b[43m                                 \u001b[49m\u001b[43mbsize\u001b[49m\u001b[38;5;241;43m=\u001b[39;49m\u001b[43mbsize\u001b[49m\u001b[43m,\u001b[49m\n\u001b[1;32m    689\u001b[0m \u001b[43m                                 \u001b[49m\u001b[43mresample\u001b[49m\u001b[38;5;241;43m=\u001b[39;49m\u001b[43mresample\u001b[49m\u001b[43m,\u001b[49m\u001b[43m \u001b[49m\n\u001b[1;32m    690\u001b[0m \u001b[43m                                 \u001b[49m\u001b[43minterp\u001b[49m\u001b[38;5;241;43m=\u001b[39;49m\u001b[43minterp\u001b[49m\u001b[43m,\u001b[49m\n\u001b[1;32m    691\u001b[0m \u001b[43m                                 \u001b[49m\u001b[43mcluster\u001b[49m\u001b[38;5;241;43m=\u001b[39;49m\u001b[43mcluster\u001b[49m\u001b[43m,\u001b[49m\n\u001b[1;32m    692\u001b[0m \u001b[43m                                 \u001b[49m\u001b[43mboundary_seg\u001b[49m\u001b[38;5;241;43m=\u001b[39;49m\u001b[43mboundary_seg\u001b[49m\u001b[43m,\u001b[49m\n\u001b[1;32m    693\u001b[0m \u001b[43m                                 \u001b[49m\u001b[43maffinity_seg\u001b[49m\u001b[38;5;241;43m=\u001b[39;49m\u001b[43maffinity_seg\u001b[49m\u001b[43m,\u001b[49m\n\u001b[1;32m    694\u001b[0m \u001b[43m                                 \u001b[49m\u001b[43mmask_threshold\u001b[49m\u001b[38;5;241;43m=\u001b[39;49m\u001b[43mmask_threshold\u001b[49m\u001b[43m,\u001b[49m\u001b[43m \u001b[49m\n\u001b[1;32m    695\u001b[0m \u001b[43m                                 \u001b[49m\u001b[43mdiam_threshold\u001b[49m\u001b[38;5;241;43m=\u001b[39;49m\u001b[43mdiam_threshold\u001b[49m\u001b[43m,\u001b[49m\n\u001b[1;32m    696\u001b[0m \u001b[43m                                 \u001b[49m\u001b[43mflow_threshold\u001b[49m\u001b[38;5;241;43m=\u001b[39;49m\u001b[43mflow_threshold\u001b[49m\u001b[43m,\u001b[49m\u001b[43m \u001b[49m\n\u001b[1;32m    697\u001b[0m \u001b[43m                                 \u001b[49m\u001b[43mniter\u001b[49m\u001b[38;5;241;43m=\u001b[39;49m\u001b[43mniter\u001b[49m\u001b[43m,\u001b[49m\n\u001b[1;32m    698\u001b[0m \u001b[43m                                 \u001b[49m\u001b[43mflow_factor\u001b[49m\u001b[38;5;241;43m=\u001b[39;49m\u001b[43mflow_factor\u001b[49m\u001b[43m,\u001b[49m\n\u001b[1;32m    699\u001b[0m \u001b[43m                                 \u001b[49m\u001b[43mcompute_masks\u001b[49m\u001b[38;5;241;43m=\u001b[39;49m\u001b[43mcompute_masks\u001b[49m\u001b[43m,\u001b[49m\u001b[43m \u001b[49m\n\u001b[1;32m    700\u001b[0m \u001b[43m                                 \u001b[49m\u001b[43mmin_size\u001b[49m\u001b[38;5;241;43m=\u001b[39;49m\u001b[43mmin_size\u001b[49m\u001b[43m,\u001b[49m\u001b[43m \u001b[49m\n\u001b[1;32m    701\u001b[0m \u001b[43m                                 \u001b[49m\u001b[43mstitch_threshold\u001b[49m\u001b[38;5;241;43m=\u001b[39;49m\u001b[43mstitch_threshold\u001b[49m\u001b[43m,\u001b[49m\u001b[43m \u001b[49m\n\u001b[1;32m    702\u001b[0m \u001b[43m                                 \u001b[49m\u001b[43mprogress\u001b[49m\u001b[38;5;241;43m=\u001b[39;49m\u001b[43mprogress\u001b[49m\u001b[43m,\u001b[49m\n\u001b[1;32m    703\u001b[0m \u001b[43m                                 \u001b[49m\u001b[43momni\u001b[49m\u001b[38;5;241;43m=\u001b[39;49m\u001b[43momni\u001b[49m\u001b[43m,\u001b[49m\n\u001b[1;32m    704\u001b[0m \u001b[43m                                 \u001b[49m\u001b[43mcalc_trace\u001b[49m\u001b[38;5;241;43m=\u001b[39;49m\u001b[43mcalc_trace\u001b[49m\u001b[43m,\u001b[49m\u001b[43m \u001b[49m\n\u001b[1;32m    705\u001b[0m \u001b[43m                                 \u001b[49m\u001b[43mverbose\u001b[49m\u001b[38;5;241;43m=\u001b[39;49m\u001b[43mverbose\u001b[49m\u001b[43m,\u001b[49m\n\u001b[1;32m    706\u001b[0m \u001b[43m                                 \u001b[49m\u001b[43mtransparency\u001b[49m\u001b[38;5;241;43m=\u001b[39;49m\u001b[43mtransparency\u001b[49m\u001b[43m,\u001b[49m\n\u001b[1;32m    707\u001b[0m \u001b[43m                                 \u001b[49m\u001b[43mloop_run\u001b[49m\u001b[38;5;241;43m=\u001b[39;49m\u001b[43m(\u001b[49m\u001b[43mi\u001b[49m\u001b[38;5;241;43m>\u001b[39;49m\u001b[38;5;241;43m0\u001b[39;49m\u001b[43m)\u001b[49m\u001b[43m,\u001b[49m\n\u001b[1;32m    708\u001b[0m \u001b[43m                                 \u001b[49m\u001b[43mmodel_loaded\u001b[49m\u001b[38;5;241;43m=\u001b[39;49m\u001b[43mmodel_loaded\u001b[49m\u001b[43m)\u001b[49m\n\u001b[1;32m    709\u001b[0m masks\u001b[38;5;241m.\u001b[39mappend(maski)\n\u001b[1;32m    710\u001b[0m flows\u001b[38;5;241m.\u001b[39mappend(flowi)\n",
      "File \u001b[0;32m~/Projects/cellpose-omni/cellpose_omni/models.py:740\u001b[0m, in \u001b[0;36mCellposeModel.eval\u001b[0;34m(self, x, batch_size, channels, channel_axis, z_axis, normalize, invert, rescale, diameter, do_3D, anisotropy, net_avg, augment, tile, tile_overlap, bsize, resample, interp, cluster, boundary_seg, affinity_seg, flow_threshold, mask_threshold, diam_threshold, niter, cellprob_threshold, dist_threshold, flow_factor, compute_masks, min_size, stitch_threshold, progress, omni, calc_trace, verbose, transparency, loop_run, model_loaded)\u001b[0m\n\u001b[1;32m    737\u001b[0m rescale \u001b[38;5;241m=\u001b[39m \u001b[38;5;28mself\u001b[39m\u001b[38;5;241m.\u001b[39mdiam_mean \u001b[38;5;241m/\u001b[39m diameter \u001b[38;5;28;01mif\u001b[39;00m (rescale \u001b[38;5;129;01mis\u001b[39;00m \u001b[38;5;28;01mNone\u001b[39;00m \u001b[38;5;129;01mand\u001b[39;00m (diameter \u001b[38;5;129;01mis\u001b[39;00m \u001b[38;5;129;01mnot\u001b[39;00m \u001b[38;5;28;01mNone\u001b[39;00m \u001b[38;5;129;01mand\u001b[39;00m diameter\u001b[38;5;241m>\u001b[39m\u001b[38;5;241m0\u001b[39m)) \u001b[38;5;28;01melse\u001b[39;00m rescale\n\u001b[1;32m    738\u001b[0m rescale \u001b[38;5;241m=\u001b[39m \u001b[38;5;241m1.0\u001b[39m \u001b[38;5;28;01mif\u001b[39;00m rescale \u001b[38;5;129;01mis\u001b[39;00m \u001b[38;5;28;01mNone\u001b[39;00m \u001b[38;5;28;01melse\u001b[39;00m rescale\n\u001b[0;32m--> 740\u001b[0m masks, styles, dP, cellprob, p, bd, tr, affinity, bounds  \u001b[38;5;241m=\u001b[39m \u001b[38;5;28;43mself\u001b[39;49m\u001b[38;5;241;43m.\u001b[39;49m\u001b[43m_run_cp\u001b[49m\u001b[43m(\u001b[49m\u001b[43mx\u001b[49m\u001b[43m,\u001b[49m\u001b[43m \u001b[49m\n\u001b[1;32m    741\u001b[0m \u001b[43m                                                                          \u001b[49m\u001b[43mcompute_masks\u001b[49m\u001b[38;5;241;43m=\u001b[39;49m\u001b[43mcompute_masks\u001b[49m\u001b[43m,\u001b[49m\n\u001b[1;32m    742\u001b[0m \u001b[43m                                                                          \u001b[49m\u001b[43mnormalize\u001b[49m\u001b[38;5;241;43m=\u001b[39;49m\u001b[43mnormalize\u001b[49m\u001b[43m,\u001b[49m\n\u001b[1;32m    743\u001b[0m \u001b[43m                                                                          \u001b[49m\u001b[43minvert\u001b[49m\u001b[38;5;241;43m=\u001b[39;49m\u001b[43minvert\u001b[49m\u001b[43m,\u001b[49m\n\u001b[1;32m    744\u001b[0m \u001b[43m                                                                          \u001b[49m\u001b[43mrescale\u001b[49m\u001b[38;5;241;43m=\u001b[39;49m\u001b[43mrescale\u001b[49m\u001b[43m,\u001b[49m\u001b[43m \u001b[49m\n\u001b[1;32m    745\u001b[0m \u001b[43m                                                                          \u001b[49m\u001b[43mnet_avg\u001b[49m\u001b[38;5;241;43m=\u001b[39;49m\u001b[43mnet_avg\u001b[49m\u001b[43m,\u001b[49m\u001b[43m \u001b[49m\n\u001b[1;32m    746\u001b[0m \u001b[43m                                                                          \u001b[49m\u001b[43mresample\u001b[49m\u001b[38;5;241;43m=\u001b[39;49m\u001b[43mresample\u001b[49m\u001b[43m,\u001b[49m\n\u001b[1;32m    747\u001b[0m \u001b[43m                                                                          \u001b[49m\u001b[43maugment\u001b[49m\u001b[38;5;241;43m=\u001b[39;49m\u001b[43maugment\u001b[49m\u001b[43m,\u001b[49m\u001b[43m \u001b[49m\n\u001b[1;32m    748\u001b[0m \u001b[43m                                                                          \u001b[49m\u001b[43mtile\u001b[49m\u001b[38;5;241;43m=\u001b[39;49m\u001b[43mtile\u001b[49m\u001b[43m,\u001b[49m\u001b[43m \u001b[49m\n\u001b[1;32m    749\u001b[0m \u001b[43m                                                                          \u001b[49m\u001b[43mtile_overlap\u001b[49m\u001b[38;5;241;43m=\u001b[39;49m\u001b[43mtile_overlap\u001b[49m\u001b[43m,\u001b[49m\n\u001b[1;32m    750\u001b[0m \u001b[43m                                                                          \u001b[49m\u001b[43mbsize\u001b[49m\u001b[38;5;241;43m=\u001b[39;49m\u001b[43mbsize\u001b[49m\u001b[43m,\u001b[49m\n\u001b[1;32m    751\u001b[0m \u001b[43m                                                                          \u001b[49m\u001b[43mmask_threshold\u001b[49m\u001b[38;5;241;43m=\u001b[39;49m\u001b[43mmask_threshold\u001b[49m\u001b[43m,\u001b[49m\u001b[43m \u001b[49m\n\u001b[1;32m    752\u001b[0m \u001b[43m                                                                          \u001b[49m\u001b[43mdiam_threshold\u001b[49m\u001b[38;5;241;43m=\u001b[39;49m\u001b[43mdiam_threshold\u001b[49m\u001b[43m,\u001b[49m\n\u001b[1;32m    753\u001b[0m \u001b[43m                                                                          \u001b[49m\u001b[43mflow_threshold\u001b[49m\u001b[38;5;241;43m=\u001b[39;49m\u001b[43mflow_threshold\u001b[49m\u001b[43m,\u001b[49m\n\u001b[1;32m    754\u001b[0m \u001b[43m                                                                          \u001b[49m\u001b[43mniter\u001b[49m\u001b[38;5;241;43m=\u001b[39;49m\u001b[43mniter\u001b[49m\u001b[43m,\u001b[49m\n\u001b[1;32m    755\u001b[0m \u001b[43m                                                                          \u001b[49m\u001b[43mflow_factor\u001b[49m\u001b[38;5;241;43m=\u001b[39;49m\u001b[43mflow_factor\u001b[49m\u001b[43m,\u001b[49m\n\u001b[1;32m    756\u001b[0m \u001b[43m                                                                          \u001b[49m\u001b[43minterp\u001b[49m\u001b[38;5;241;43m=\u001b[39;49m\u001b[43minterp\u001b[49m\u001b[43m,\u001b[49m\n\u001b[1;32m    757\u001b[0m \u001b[43m                                                                          \u001b[49m\u001b[43mcluster\u001b[49m\u001b[38;5;241;43m=\u001b[39;49m\u001b[43mcluster\u001b[49m\u001b[43m,\u001b[49m\n\u001b[1;32m    758\u001b[0m \u001b[43m                                                                          \u001b[49m\u001b[43mboundary_seg\u001b[49m\u001b[38;5;241;43m=\u001b[39;49m\u001b[43mboundary_seg\u001b[49m\u001b[43m,\u001b[49m\u001b[43m  \u001b[49m\n\u001b[1;32m    759\u001b[0m \u001b[43m                                                                          \u001b[49m\u001b[43maffinity_seg\u001b[49m\u001b[38;5;241;43m=\u001b[39;49m\u001b[43maffinity_seg\u001b[49m\u001b[43m,\u001b[49m\n\u001b[1;32m    760\u001b[0m \u001b[43m                                                                          \u001b[49m\u001b[43mmin_size\u001b[49m\u001b[38;5;241;43m=\u001b[39;49m\u001b[43mmin_size\u001b[49m\u001b[43m,\u001b[49m\u001b[43m \u001b[49m\n\u001b[1;32m    761\u001b[0m \u001b[43m                                                                          \u001b[49m\u001b[43mdo_3D\u001b[49m\u001b[38;5;241;43m=\u001b[39;49m\u001b[43mdo_3D\u001b[49m\u001b[43m,\u001b[49m\u001b[43m \u001b[49m\n\u001b[1;32m    762\u001b[0m \u001b[43m                                                                          \u001b[49m\u001b[43manisotropy\u001b[49m\u001b[38;5;241;43m=\u001b[39;49m\u001b[43manisotropy\u001b[49m\u001b[43m,\u001b[49m\n\u001b[1;32m    763\u001b[0m \u001b[43m                                                                          \u001b[49m\u001b[43mstitch_threshold\u001b[49m\u001b[38;5;241;43m=\u001b[39;49m\u001b[43mstitch_threshold\u001b[49m\u001b[43m,\u001b[49m\n\u001b[1;32m    764\u001b[0m \u001b[43m                                                                          \u001b[49m\u001b[43momni\u001b[49m\u001b[38;5;241;43m=\u001b[39;49m\u001b[43momni\u001b[49m\u001b[43m,\u001b[49m\n\u001b[1;32m    765\u001b[0m \u001b[43m                                                                          \u001b[49m\u001b[43mcalc_trace\u001b[49m\u001b[38;5;241;43m=\u001b[39;49m\u001b[43mcalc_trace\u001b[49m\u001b[43m,\u001b[49m\n\u001b[1;32m    766\u001b[0m \u001b[43m                                                                          \u001b[49m\u001b[43mverbose\u001b[49m\u001b[38;5;241;43m=\u001b[39;49m\u001b[43mverbose\u001b[49m\u001b[43m)\u001b[49m\n\u001b[1;32m    768\u001b[0m \u001b[38;5;66;03m# the flow list stores: \u001b[39;00m\n\u001b[1;32m    769\u001b[0m \u001b[38;5;66;03m# (1) RGB representation of flows\u001b[39;00m\n\u001b[1;32m    770\u001b[0m \u001b[38;5;66;03m# (2) flow components\u001b[39;00m\n\u001b[0;32m   (...)\u001b[0m\n\u001b[1;32m    777\u001b[0m \n\u001b[1;32m    778\u001b[0m \u001b[38;5;66;03m# 5-8 were added in Omnipose, hence the unusual placement in the list. \u001b[39;00m\n\u001b[1;32m    780\u001b[0m flows \u001b[38;5;241m=\u001b[39m [plot\u001b[38;5;241m.\u001b[39mdx_to_circ(dP,transparency\u001b[38;5;241m=\u001b[39mtransparency) \n\u001b[1;32m    781\u001b[0m          \u001b[38;5;28;01mif\u001b[39;00m \u001b[38;5;28mself\u001b[39m\u001b[38;5;241m.\u001b[39mnclasses\u001b[38;5;241m>\u001b[39m\u001b[38;5;241m1\u001b[39m \u001b[38;5;28;01melse\u001b[39;00m np\u001b[38;5;241m.\u001b[39mzeros(cellprob\u001b[38;5;241m.\u001b[39mshape\u001b[38;5;241m+\u001b[39m(\u001b[38;5;241m3\u001b[39m\u001b[38;5;241m+\u001b[39mtransparency,),np\u001b[38;5;241m.\u001b[39muint8),\n\u001b[1;32m    782\u001b[0m          dP, cellprob, p, bd, tr, affinity, bounds]\n",
      "File \u001b[0;32m~/Projects/cellpose-omni/cellpose_omni/models.py:954\u001b[0m, in \u001b[0;36mCellposeModel._run_cp\u001b[0;34m(self, x, compute_masks, normalize, invert, rescale, net_avg, resample, augment, tile, tile_overlap, bsize, mask_threshold, diam_threshold, flow_threshold, niter, flow_factor, min_size, interp, cluster, boundary_seg, affinity_seg, anisotropy, do_3D, stitch_threshold, omni, calc_trace, verbose, pad)\u001b[0m\n\u001b[1;32m    951\u001b[0m \u001b[38;5;28;01mfor\u001b[39;00m i \u001b[38;5;129;01min\u001b[39;00m iterator:\n\u001b[1;32m    952\u001b[0m     \u001b[38;5;28;01mif\u001b[39;00m \u001b[38;5;129;01mnot\u001b[39;00m (omni \u001b[38;5;129;01mand\u001b[39;00m OMNI_INSTALLED):\n\u001b[1;32m    953\u001b[0m         \u001b[38;5;66;03m# run cellpose compute_masks\u001b[39;00m\n\u001b[0;32m--> 954\u001b[0m         outputs \u001b[38;5;241m=\u001b[39m \u001b[43mdynamics\u001b[49m\u001b[38;5;241;43m.\u001b[39;49m\u001b[43mcompute_masks\u001b[49m\u001b[43m(\u001b[49m\u001b[43mdP\u001b[49m\u001b[43m[\u001b[49m\u001b[43m:\u001b[49m\u001b[43m,\u001b[49m\u001b[43mi\u001b[49m\u001b[43m]\u001b[49m\u001b[43m,\u001b[49m\u001b[43m \u001b[49m\u001b[43mcellprob\u001b[49m\u001b[43m[\u001b[49m\u001b[43mi\u001b[49m\u001b[43m]\u001b[49m\u001b[43m,\u001b[49m\u001b[43m \u001b[49m\u001b[43mniter\u001b[49m\u001b[38;5;241;43m=\u001b[39;49m\u001b[43mniter\u001b[49m\u001b[43m,\u001b[49m\u001b[43m \u001b[49m\n\u001b[1;32m    955\u001b[0m \u001b[43m                                         \u001b[49m\u001b[43mmask_threshold\u001b[49m\u001b[38;5;241;43m=\u001b[39;49m\u001b[43mmask_threshold\u001b[49m\u001b[43m,\u001b[49m\n\u001b[1;32m    956\u001b[0m \u001b[43m                                         \u001b[49m\u001b[43mflow_threshold\u001b[49m\u001b[38;5;241;43m=\u001b[39;49m\u001b[43mflow_threshold\u001b[49m\u001b[43m,\u001b[49m\u001b[43m \u001b[49m\n\u001b[1;32m    957\u001b[0m \u001b[43m                                         \u001b[49m\u001b[43minterp\u001b[49m\u001b[38;5;241;43m=\u001b[39;49m\u001b[43minterp\u001b[49m\u001b[43m,\u001b[49m\u001b[43m \u001b[49m\n\u001b[1;32m    958\u001b[0m \u001b[43m                                         \u001b[49m\u001b[43mresize\u001b[49m\u001b[38;5;241;43m=\u001b[39;49m\u001b[43mresize\u001b[49m\u001b[43m,\u001b[49m\u001b[43m \u001b[49m\n\u001b[1;32m    959\u001b[0m \u001b[43m                                         \u001b[49m\u001b[43mverbose\u001b[49m\u001b[38;5;241;43m=\u001b[39;49m\u001b[43mverbose\u001b[49m\u001b[43m,\u001b[49m\n\u001b[1;32m    960\u001b[0m \u001b[43m                                         \u001b[49m\u001b[43muse_gpu\u001b[49m\u001b[38;5;241;43m=\u001b[39;49m\u001b[38;5;28;43mself\u001b[39;49m\u001b[38;5;241;43m.\u001b[39;49m\u001b[43mgpu\u001b[49m\u001b[43m,\u001b[49m\u001b[43m \u001b[49m\n\u001b[1;32m    961\u001b[0m \u001b[43m                                         \u001b[49m\u001b[43mdevice\u001b[49m\u001b[38;5;241;43m=\u001b[39;49m\u001b[38;5;28;43mself\u001b[39;49m\u001b[38;5;241;43m.\u001b[39;49m\u001b[43mdevice\u001b[49m\u001b[43m,\u001b[49m\u001b[43m \u001b[49m\n\u001b[1;32m    962\u001b[0m \u001b[43m                                         \u001b[49m\u001b[43mnclasses\u001b[49m\u001b[38;5;241;43m=\u001b[39;49m\u001b[38;5;28;43mself\u001b[39;49m\u001b[38;5;241;43m.\u001b[39;49m\u001b[43mnclasses\u001b[49m\u001b[43m,\u001b[49m\n\u001b[1;32m    963\u001b[0m \u001b[43m                                         \u001b[49m\u001b[43mcalc_trace\u001b[49m\u001b[38;5;241;43m=\u001b[39;49m\u001b[43mcalc_trace\u001b[49m\u001b[43m)\u001b[49m\n\u001b[1;32m    964\u001b[0m         outputs \u001b[38;5;241m=\u001b[39m outputs \u001b[38;5;241m+\u001b[39m ([],) \u001b[38;5;66;03m# affinity placeholder\u001b[39;00m\n\u001b[1;32m    965\u001b[0m     \u001b[38;5;28;01melse\u001b[39;00m:\n\u001b[1;32m    966\u001b[0m         \u001b[38;5;66;03m# run omnipose compute_masks\u001b[39;00m\n\u001b[1;32m    967\u001b[0m         \n\u001b[0;32m   (...)\u001b[0m\n\u001b[1;32m    973\u001b[0m         \u001b[38;5;66;03m#     print('rescale is',rescale,resize)\u001b[39;00m\n\u001b[1;32m    974\u001b[0m             \u001b[38;5;66;03m# dP[:,i] /= rescale this does nothign here since I normalize the flow anyway, have to pass in \u001b[39;00m\n",
      "File \u001b[0;32m~/Projects/cellpose-omni/cellpose_omni/dynamics.py:779\u001b[0m, in \u001b[0;36mcompute_masks\u001b[0;34m(dP, cellprob, bd, p, inds, niter, mask_threshold, diam_threshold, flow_threshold, interp, do_3D, min_size, resize, verbose, use_gpu, device, nclasses, calc_trace)\u001b[0m\n\u001b[1;32m    776\u001b[0m \u001b[38;5;28;01mif\u001b[39;00m np\u001b[38;5;241m.\u001b[39many(cp_mask): \u001b[38;5;66;03m#mask at this point is a cell cluster binary map, not labels     \u001b[39;00m\n\u001b[1;32m    777\u001b[0m     \u001b[38;5;66;03m# follow flows\u001b[39;00m\n\u001b[1;32m    778\u001b[0m     \u001b[38;5;28;01mif\u001b[39;00m p \u001b[38;5;129;01mis\u001b[39;00m \u001b[38;5;28;01mNone\u001b[39;00m:\n\u001b[0;32m--> 779\u001b[0m         p , inds, tr \u001b[38;5;241m=\u001b[39m \u001b[43mfollow_flows\u001b[49m\u001b[43m(\u001b[49m\u001b[43mdP\u001b[49m\u001b[43m \u001b[49m\u001b[38;5;241;43m*\u001b[39;49m\u001b[43m \u001b[49m\u001b[43mcp_mask\u001b[49m\u001b[43m \u001b[49m\u001b[38;5;241;43m/\u001b[39;49m\u001b[43m \u001b[49m\u001b[38;5;241;43m5.\u001b[39;49m\u001b[43m,\u001b[49m\u001b[43m \u001b[49m\u001b[43mmask\u001b[49m\u001b[38;5;241;43m=\u001b[39;49m\u001b[43mcp_mask\u001b[49m\u001b[43m,\u001b[49m\u001b[43m \u001b[49m\u001b[43minds\u001b[49m\u001b[38;5;241;43m=\u001b[39;49m\u001b[43minds\u001b[49m\u001b[43m,\u001b[49m\u001b[43m \u001b[49m\u001b[43mniter\u001b[49m\u001b[38;5;241;43m=\u001b[39;49m\u001b[43mniter\u001b[49m\u001b[43m,\u001b[49m\u001b[43m \u001b[49m\u001b[43minterp\u001b[49m\u001b[38;5;241;43m=\u001b[39;49m\u001b[43minterp\u001b[49m\u001b[43m,\u001b[49m\u001b[43m \u001b[49m\n\u001b[1;32m    780\u001b[0m \u001b[43m                                        \u001b[49m\u001b[43muse_gpu\u001b[49m\u001b[38;5;241;43m=\u001b[39;49m\u001b[43muse_gpu\u001b[49m\u001b[43m,\u001b[49m\u001b[43m \u001b[49m\u001b[43mdevice\u001b[49m\u001b[38;5;241;43m=\u001b[39;49m\u001b[43mdevice\u001b[49m\u001b[43m,\u001b[49m\u001b[43m \u001b[49m\u001b[43mcalc_trace\u001b[49m\u001b[38;5;241;43m=\u001b[39;49m\u001b[43mcalc_trace\u001b[49m\u001b[43m)\u001b[49m\n\u001b[1;32m    781\u001b[0m         \u001b[38;5;28;01mif\u001b[39;00m inds\u001b[38;5;241m.\u001b[39mndim \u001b[38;5;241m<\u001b[39m \u001b[38;5;241m2\u001b[39m \u001b[38;5;129;01mor\u001b[39;00m inds\u001b[38;5;241m.\u001b[39mshape[\u001b[38;5;241m0\u001b[39m] \u001b[38;5;241m<\u001b[39m \u001b[38;5;241m5\u001b[39m:\n\u001b[1;32m    782\u001b[0m             dynamics_logger\u001b[38;5;241m.\u001b[39minfo(\u001b[38;5;124m'\u001b[39m\u001b[38;5;124mNo cell pixels found.\u001b[39m\u001b[38;5;124m'\u001b[39m)\n",
      "File \u001b[0;32m~/Projects/cellpose-omni/cellpose_omni/dynamics.py:583\u001b[0m, in \u001b[0;36mfollow_flows\u001b[0;34m(dP, mask, inds, niter, interp, use_gpu, device, omni, calc_trace)\u001b[0m\n\u001b[1;32m    550\u001b[0m \u001b[38;5;250m\u001b[39m\u001b[38;5;124;03m\"\"\" define pixels and run dynamics to recover masks in 2D\u001b[39;00m\n\u001b[1;32m    551\u001b[0m \u001b[38;5;124;03m\u001b[39;00m\n\u001b[1;32m    552\u001b[0m \u001b[38;5;124;03mPixels are meshgrid. Only pixels with non-zero cell-probability\u001b[39;00m\n\u001b[0;32m   (...)\u001b[0m\n\u001b[1;32m    580\u001b[0m \n\u001b[1;32m    581\u001b[0m \u001b[38;5;124;03m\"\"\"\u001b[39;00m\n\u001b[1;32m    582\u001b[0m shape \u001b[38;5;241m=\u001b[39m np\u001b[38;5;241m.\u001b[39marray(dP\u001b[38;5;241m.\u001b[39mshape[\u001b[38;5;241m1\u001b[39m:])\u001b[38;5;241m.\u001b[39mastype(np\u001b[38;5;241m.\u001b[39mint32)\n\u001b[0;32m--> 583\u001b[0m niter \u001b[38;5;241m=\u001b[39m \u001b[43mnp\u001b[49m\u001b[38;5;241;43m.\u001b[39;49m\u001b[43muint32\u001b[49m\u001b[43m(\u001b[49m\u001b[43mniter\u001b[49m\u001b[43m)\u001b[49m\n\u001b[1;32m    584\u001b[0m \u001b[38;5;28;01mif\u001b[39;00m \u001b[38;5;28mlen\u001b[39m(shape)\u001b[38;5;241m>\u001b[39m\u001b[38;5;241m2\u001b[39m:\n\u001b[1;32m    585\u001b[0m     p \u001b[38;5;241m=\u001b[39m np\u001b[38;5;241m.\u001b[39mmeshgrid(np\u001b[38;5;241m.\u001b[39marange(shape[\u001b[38;5;241m0\u001b[39m]), np\u001b[38;5;241m.\u001b[39marange(shape[\u001b[38;5;241m1\u001b[39m]),\n\u001b[1;32m    586\u001b[0m             np\u001b[38;5;241m.\u001b[39marange(shape[\u001b[38;5;241m2\u001b[39m]), indexing\u001b[38;5;241m=\u001b[39m\u001b[38;5;124m'\u001b[39m\u001b[38;5;124mij\u001b[39m\u001b[38;5;124m'\u001b[39m)\n",
      "\u001b[0;31mTypeError\u001b[0m: int() argument must be a string, a bytes-like object or a real number, not 'NoneType'"
     ]
    }
   ],
   "source": [
    "model_type = \"cyto2\"\n",
    "model = models.CellposeModel(gpu=use_GPU, model_type=model_type)\n",
    "chans = [2, 0]\n",
    "min_size = 200\n",
    "\n",
    "params = {'channels': chans, # always define this with the model\n",
    "          'rescale': None, # upscale or downscale your images, None = no rescaling\n",
    "          'mask_threshold': 0.0, # erode or dilate masks with higher or lower values between -5 and 5\n",
    "          'flow_threshold': 0.0,\n",
    "          'min_size': min_size,\n",
    "          'diameter': 0.0,\n",
    "          'invert': False,\n",
    "          'transparency': True, # transparency in flow output\n",
    "          'omni': True, # we can turn off Omnipose mask reconstruction, not advised\n",
    "          'cluster': True, # use DBSCAN clustering\n",
    "          'resample': True, # whether or not to run dynamics on rescaled grid or original grid\n",
    "          'verbose': False, # turn on if you want to see more output\n",
    "          'tile': False, # average the outputs from flipped (augmented) images; slower, usually not needed\n",
    "          'niter': None, # default None lets Omnipose calculate # of Euler iterations (usually <20) but you can tune it for over/under segmentation\n",
    "          'augment': False, # Can optionally rotate the image and average network outputs, usually not needed\n",
    "          'affinity_seg': False, # new feature, stay tuned...\n",
    "         }\n",
    "\n",
    "rootdir = '/Users/adele/PycharmProjects/Ecoli_smFISH/tests/exp16/output'\n",
    "files = Path(rootdir).glob('*/grgb.npy')\n",
    "# stop_after = 1\n",
    "imgs = [np.load(f) for f in files]\n",
    "stop_after = len(imgs)\n",
    "masks, flows, styles = model.eval(imgs[:stop_after], **params)"
   ]
  },
  {
   "cell_type": "code",
   "execution_count": 40,
   "id": "e39dc25309f6a61e",
   "metadata": {
    "ExecuteTime": {
     "end_time": "2024-11-03T18:21:47.485027Z",
     "start_time": "2024-11-03T18:21:47.329712Z"
    }
   },
   "outputs": [
    {
     "name": "stderr",
     "output_type": "stream",
     "text": [
      "/var/folders/pp/cdyfs0g13j3_15mc99_0nfmh0000gn/T/ipykernel_8315/2646462956.py:9: UserWarning: /Users/adele/PycharmProjects/Ecoli_smFISH/tests/exp16/output/MG1655_GLY-lowOD-2nd_16/DIC_masks_model=cyto2_chan=[2,0]_minsize=200_maskth=0.0.tif is a low contrast image\n",
      "  io.imsave(maskfile, m)\n",
      "/var/folders/pp/cdyfs0g13j3_15mc99_0nfmh0000gn/T/ipykernel_8315/2646462956.py:9: UserWarning: /Users/adele/PycharmProjects/Ecoli_smFISH/tests/exp16/output/MG1655_GLY-lowOD-2nd_17/DIC_masks_model=cyto2_chan=[2,0]_minsize=200_maskth=0.0.tif is a low contrast image\n",
      "  io.imsave(maskfile, m)\n",
      "/var/folders/pp/cdyfs0g13j3_15mc99_0nfmh0000gn/T/ipykernel_8315/2646462956.py:9: UserWarning: /Users/adele/PycharmProjects/Ecoli_smFISH/tests/exp16/output/MG1655_GLU_OD_0.3_left_02/DIC_masks_model=cyto2_chan=[2,0]_minsize=200_maskth=0.0.tif is a low contrast image\n",
      "  io.imsave(maskfile, m)\n",
      "/var/folders/pp/cdyfs0g13j3_15mc99_0nfmh0000gn/T/ipykernel_8315/2646462956.py:9: UserWarning: /Users/adele/PycharmProjects/Ecoli_smFISH/tests/exp16/output/MG1655_GLU_OD_0.3_left_03/DIC_masks_model=cyto2_chan=[2,0]_minsize=200_maskth=0.0.tif is a low contrast image\n",
      "  io.imsave(maskfile, m)\n",
      "/var/folders/pp/cdyfs0g13j3_15mc99_0nfmh0000gn/T/ipykernel_8315/2646462956.py:9: UserWarning: /Users/adele/PycharmProjects/Ecoli_smFISH/tests/exp16/output/MG1655_GAL-lowOD-2nd_05/DIC_masks_model=cyto2_chan=[2,0]_minsize=200_maskth=0.0.tif is a low contrast image\n",
      "  io.imsave(maskfile, m)\n",
      "/var/folders/pp/cdyfs0g13j3_15mc99_0nfmh0000gn/T/ipykernel_8315/2646462956.py:9: UserWarning: /Users/adele/PycharmProjects/Ecoli_smFISH/tests/exp16/output/MG1655_MAN_OD_0.3_left_08/DIC_masks_model=cyto2_chan=[2,0]_minsize=200_maskth=0.0.tif is a low contrast image\n",
      "  io.imsave(maskfile, m)\n",
      "/var/folders/pp/cdyfs0g13j3_15mc99_0nfmh0000gn/T/ipykernel_8315/2646462956.py:9: UserWarning: /Users/adele/PycharmProjects/Ecoli_smFISH/tests/exp16/output/MG1655_MAN_OD_0.3_left_07/DIC_masks_model=cyto2_chan=[2,0]_minsize=200_maskth=0.0.tif is a low contrast image\n",
      "  io.imsave(maskfile, m)\n",
      "/var/folders/pp/cdyfs0g13j3_15mc99_0nfmh0000gn/T/ipykernel_8315/2646462956.py:9: UserWarning: /Users/adele/PycharmProjects/Ecoli_smFISH/tests/exp16/output/MG1655_LB_fixed2806_hybed1906_left_03/DIC_masks_model=cyto2_chan=[2,0]_minsize=200_maskth=0.0.tif is a low contrast image\n",
      "  io.imsave(maskfile, m)\n",
      "/var/folders/pp/cdyfs0g13j3_15mc99_0nfmh0000gn/T/ipykernel_8315/2646462956.py:9: UserWarning: /Users/adele/PycharmProjects/Ecoli_smFISH/tests/exp16/output/MG1655_LB_fixed2806_hybed1906_left_05/DIC_masks_model=cyto2_chan=[2,0]_minsize=200_maskth=0.0.tif is a low contrast image\n",
      "  io.imsave(maskfile, m)\n",
      "/var/folders/pp/cdyfs0g13j3_15mc99_0nfmh0000gn/T/ipykernel_8315/2646462956.py:9: UserWarning: /Users/adele/PycharmProjects/Ecoli_smFISH/tests/exp16/output/MG1655_GAL-lowOD-2nd_06/DIC_masks_model=cyto2_chan=[2,0]_minsize=200_maskth=0.0.tif is a low contrast image\n",
      "  io.imsave(maskfile, m)\n"
     ]
    }
   ],
   "source": [
    "# save the masks with channel information\n",
    "files = Path(rootdir).glob('*/grgb.npy')\n",
    "filelist = list(files)\n",
    "ch = str(chans)\n",
    "ch = re.sub(' ', '', ch)\n",
    "for f, m in zip(filelist, masks):\n",
    "    maskfile = Path(f).parent / f'DIC_masks_model={model_type}_chan={str(params[\"channels\"]).replace(\" \", \"\")}_diameter={params[\"diameter\"]}_minsize={params[\"min_size\"]}_mask={params[\"mask_threshold\"]}_flow={params[\"flow_threshold\"]}.tif'\n",
    "    # print(f, maskfile)\n",
    "    io.imsave(maskfile, m)"
   ]
  },
  {
   "cell_type": "markdown",
   "id": "2cf525ad87040b3",
   "metadata": {},
   "source": [
    "### Cells: cyto2 with DIC and DAPI as input"
   ]
  },
  {
   "cell_type": "code",
   "execution_count": 41,
   "id": "8739c8bcd0ea3e85",
   "metadata": {
    "ExecuteTime": {
     "end_time": "2024-11-03T18:28:09.953082Z",
     "start_time": "2024-11-03T18:27:29.751217Z"
    }
   },
   "outputs": [
    {
     "name": "stdout",
     "output_type": "stream",
     "text": [
      "\u001b[38;5;78m2024-11-03 19:27:29,754\t[INFO]     cellpose_omni/models.py                   \t line 432\t>>cyto2<< model set to be used\u001b[0m\n",
      "\u001b[38;5;74m2024-11-03 19:27:29,756\t[INFO]     cellpose_omni/core.py         assi...evice()\t line  67\tUsing GPU.\u001b[0m\n",
      "\u001b[38;5;74m2024-11-03 19:27:29,845\t[INFO]                                   __init__....()\t line 163\tu-net config: ([2, 32, 64, 128, 256], 3, 2)\u001b[0m\n"
     ]
    },
    {
     "data": {
      "application/vnd.jupyter.widget-view+json": {
       "model_id": "ea27d86e6363405a9db4d66d652b97ce",
       "version_major": 2,
       "version_minor": 0
      },
      "text/plain": [
       "  0%|          | 0/10 [00:00<?, ?it/s]"
      ]
     },
     "metadata": {},
     "output_type": "display_data"
    }
   ],
   "source": [
    "model_type = \"cyto2\"\n",
    "model = models.CellposeModel(gpu=use_GPU, model_type=model_type)\n",
    "chans = [2, 3]\n",
    "min_size = 200\n",
    "\n",
    "params = {'channels': chans, # always define this with the model\n",
    "          'rescale': None, # upscale or downscale your images, None = no rescaling\n",
    "          'mask_threshold': 0.0, # erode or dilate masks with higher or lower values between -5 and 5\n",
    "          'flow_threshold': 0.0,\n",
    "          'min_size': min_size,\n",
    "          'diameter': 0.0,\n",
    "          'invert': False,\n",
    "          'transparency': True, # transparency in flow output\n",
    "          'omni': True, # we can turn off Omnipose mask reconstruction, not advised\n",
    "          'cluster': True, # use DBSCAN clustering\n",
    "          'resample': True, # whether or not to run dynamics on rescaled grid or original grid\n",
    "          'verbose': False, # turn on if you want to see more output\n",
    "          'tile': False, # average the outputs from flipped (augmented) images; slower, usually not needed\n",
    "          'niter': None, # default None lets Omnipose calculate # of Euler iterations (usually <20) but you can tune it for over/under segmentation\n",
    "          'augment': False, # Can optionally rotate the image and average network outputs, usually not needed\n",
    "          'affinity_seg': False, # new feature, stay tuned...\n",
    "         }\n",
    "\n",
    "rootdir = '/Users/adele/PycharmProjects/Ecoli_smFISH/tests/exp16/output'\n",
    "files = Path(rootdir).glob('*/grgb.npy')\n",
    "# stop_after = 1\n",
    "imgs = [np.load(f) for f in files]\n",
    "stop_after = len(imgs)\n",
    "masks, flows, styles = model.eval(imgs[:stop_after], **params)"
   ]
  },
  {
   "cell_type": "code",
   "execution_count": 42,
   "id": "b78278793989e377",
   "metadata": {
    "ExecuteTime": {
     "end_time": "2024-11-03T18:28:17.766821Z",
     "start_time": "2024-11-03T18:28:17.614734Z"
    }
   },
   "outputs": [
    {
     "name": "stderr",
     "output_type": "stream",
     "text": [
      "/var/folders/pp/cdyfs0g13j3_15mc99_0nfmh0000gn/T/ipykernel_8315/2646462956.py:9: UserWarning: /Users/adele/PycharmProjects/Ecoli_smFISH/tests/exp16/output/MG1655_GLY-lowOD-2nd_16/DIC_masks_model=cyto2_chan=[2,3]_minsize=200_maskth=0.0.tif is a low contrast image\n",
      "  io.imsave(maskfile, m)\n",
      "/var/folders/pp/cdyfs0g13j3_15mc99_0nfmh0000gn/T/ipykernel_8315/2646462956.py:9: UserWarning: /Users/adele/PycharmProjects/Ecoli_smFISH/tests/exp16/output/MG1655_GLY-lowOD-2nd_17/DIC_masks_model=cyto2_chan=[2,3]_minsize=200_maskth=0.0.tif is a low contrast image\n",
      "  io.imsave(maskfile, m)\n",
      "/var/folders/pp/cdyfs0g13j3_15mc99_0nfmh0000gn/T/ipykernel_8315/2646462956.py:9: UserWarning: /Users/adele/PycharmProjects/Ecoli_smFISH/tests/exp16/output/MG1655_GLU_OD_0.3_left_02/DIC_masks_model=cyto2_chan=[2,3]_minsize=200_maskth=0.0.tif is a low contrast image\n",
      "  io.imsave(maskfile, m)\n",
      "/var/folders/pp/cdyfs0g13j3_15mc99_0nfmh0000gn/T/ipykernel_8315/2646462956.py:9: UserWarning: /Users/adele/PycharmProjects/Ecoli_smFISH/tests/exp16/output/MG1655_GLU_OD_0.3_left_03/DIC_masks_model=cyto2_chan=[2,3]_minsize=200_maskth=0.0.tif is a low contrast image\n",
      "  io.imsave(maskfile, m)\n",
      "/var/folders/pp/cdyfs0g13j3_15mc99_0nfmh0000gn/T/ipykernel_8315/2646462956.py:9: UserWarning: /Users/adele/PycharmProjects/Ecoli_smFISH/tests/exp16/output/MG1655_GAL-lowOD-2nd_05/DIC_masks_model=cyto2_chan=[2,3]_minsize=200_maskth=0.0.tif is a low contrast image\n",
      "  io.imsave(maskfile, m)\n",
      "/var/folders/pp/cdyfs0g13j3_15mc99_0nfmh0000gn/T/ipykernel_8315/2646462956.py:9: UserWarning: /Users/adele/PycharmProjects/Ecoli_smFISH/tests/exp16/output/MG1655_MAN_OD_0.3_left_08/DIC_masks_model=cyto2_chan=[2,3]_minsize=200_maskth=0.0.tif is a low contrast image\n",
      "  io.imsave(maskfile, m)\n",
      "/var/folders/pp/cdyfs0g13j3_15mc99_0nfmh0000gn/T/ipykernel_8315/2646462956.py:9: UserWarning: /Users/adele/PycharmProjects/Ecoli_smFISH/tests/exp16/output/MG1655_MAN_OD_0.3_left_07/DIC_masks_model=cyto2_chan=[2,3]_minsize=200_maskth=0.0.tif is a low contrast image\n",
      "  io.imsave(maskfile, m)\n",
      "/var/folders/pp/cdyfs0g13j3_15mc99_0nfmh0000gn/T/ipykernel_8315/2646462956.py:9: UserWarning: /Users/adele/PycharmProjects/Ecoli_smFISH/tests/exp16/output/MG1655_LB_fixed2806_hybed1906_left_03/DIC_masks_model=cyto2_chan=[2,3]_minsize=200_maskth=0.0.tif is a low contrast image\n",
      "  io.imsave(maskfile, m)\n",
      "/var/folders/pp/cdyfs0g13j3_15mc99_0nfmh0000gn/T/ipykernel_8315/2646462956.py:9: UserWarning: /Users/adele/PycharmProjects/Ecoli_smFISH/tests/exp16/output/MG1655_LB_fixed2806_hybed1906_left_05/DIC_masks_model=cyto2_chan=[2,3]_minsize=200_maskth=0.0.tif is a low contrast image\n",
      "  io.imsave(maskfile, m)\n",
      "/var/folders/pp/cdyfs0g13j3_15mc99_0nfmh0000gn/T/ipykernel_8315/2646462956.py:9: UserWarning: /Users/adele/PycharmProjects/Ecoli_smFISH/tests/exp16/output/MG1655_GAL-lowOD-2nd_06/DIC_masks_model=cyto2_chan=[2,3]_minsize=200_maskth=0.0.tif is a low contrast image\n",
      "  io.imsave(maskfile, m)\n"
     ]
    }
   ],
   "source": [
    "# save the masks with channel information\n",
    "files = Path(rootdir).glob('*/grgb.npy')\n",
    "filelist = list(files)\n",
    "\n",
    "for f, m in zip(filelist, masks):\n",
    "    maskfile = Path(f).parent / f'DIC_masks_model={model_type}_chan={str(params[\"channels\"]).replace(\" \", \"\")}_diameter={params[\"diameter\"]}_minsize={params[\"min_size\"]}_mask={params[\"mask_threshold\"]}_flow={params[\"flow_threshold\"]}.tif'\n",
    "    io.imsave(maskfile, m)"
   ]
  },
  {
   "cell_type": "markdown",
   "id": "6afa114a9ac8ad4",
   "metadata": {},
   "source": []
  },
  {
   "cell_type": "markdown",
   "id": "ffcaa3c0eee8182d",
   "metadata": {},
   "source": [
    "### Cells: cyto2_omni with only DIC as input"
   ]
  },
  {
   "cell_type": "code",
   "execution_count": 43,
   "id": "69ad916a56d0bfd6",
   "metadata": {
    "ExecuteTime": {
     "end_time": "2024-11-03T18:29:59.786362Z",
     "start_time": "2024-11-03T18:29:30.504273Z"
    }
   },
   "outputs": [
    {
     "name": "stdout",
     "output_type": "stream",
     "text": [
      "\u001b[38;5;78m2024-11-03 19:29:30,508\t[INFO]     cellpose_omni/models.py                   \t line 432\t>>cyto2_omni<< model set to be used\u001b[0m\n",
      "\u001b[38;5;74m2024-11-03 19:29:30,511\t[INFO]     cellpose_omni/core.py         assi...evice()\t line  67\tUsing GPU.\u001b[0m\n",
      "\u001b[38;5;74m2024-11-03 19:29:30,604\t[INFO]                                   __init__....()\t line 163\tu-net config: ([2, 32, 64, 128, 256], 4, 2)\u001b[0m\n"
     ]
    },
    {
     "data": {
      "application/vnd.jupyter.widget-view+json": {
       "model_id": "3258026b83bd4f549578233b80520456",
       "version_major": 2,
       "version_minor": 0
      },
      "text/plain": [
       "  0%|          | 0/10 [00:00<?, ?it/s]"
      ]
     },
     "metadata": {},
     "output_type": "display_data"
    },
    {
     "name": "stderr",
     "output_type": "stream",
     "text": [
      "/Users/adele/Projects/omnipose/cellpose_omni/transforms.py:587: UserWarning: chan to seg' has value range of ZERO\n",
      "  warnings.warn(\"chan to seg' has value range of ZERO\")\n"
     ]
    },
    {
     "name": "stdout",
     "output_type": "stream",
     "text": [
      "\u001b[38;5;74m2024-11-03 19:29:34,235\t[INFO]                                   comp...masks()\t line 1618\tNo cell pixels found.\u001b[0m\n",
      "\u001b[38;5;74m2024-11-03 19:29:37,147\t[INFO]                                               \t line 1618\tNo cell pixels found.\u001b[0m\n",
      "\u001b[38;5;74m2024-11-03 19:29:40,017\t[INFO]                                               \t line 1618\tNo cell pixels found.\u001b[0m\n",
      "\u001b[38;5;74m2024-11-03 19:29:42,804\t[INFO]                                               \t line 1618\tNo cell pixels found.\u001b[0m\n",
      "\u001b[38;5;74m2024-11-03 19:29:45,574\t[INFO]                                               \t line 1618\tNo cell pixels found.\u001b[0m\n",
      "\u001b[38;5;74m2024-11-03 19:29:48,355\t[INFO]                                               \t line 1618\tNo cell pixels found.\u001b[0m\n",
      "\u001b[38;5;74m2024-11-03 19:29:51,166\t[INFO]                                               \t line 1618\tNo cell pixels found.\u001b[0m\n",
      "\u001b[38;5;74m2024-11-03 19:29:53,919\t[INFO]                                               \t line 1618\tNo cell pixels found.\u001b[0m\n",
      "\u001b[38;5;74m2024-11-03 19:29:56,777\t[INFO]                                               \t line 1618\tNo cell pixels found.\u001b[0m\n",
      "\u001b[38;5;74m2024-11-03 19:29:59,544\t[INFO]                                               \t line 1618\tNo cell pixels found.\u001b[0m\n"
     ]
    }
   ],
   "source": [
    "model_type = \"cyto2_omni\"\n",
    "model = models.CellposeModel(gpu=use_GPU, model_type=model_type)\n",
    "chans = [1, 0]\n",
    "min_size = 200\n",
    "\n",
    "params = {'channels': chans, # always define this with the model\n",
    "          'rescale': None, # upscale or downscale your images, None = no rescaling\n",
    "          'mask_threshold': 0.0, # erode or dilate masks with higher or lower values between -5 and 5\n",
    "          'flow_threshold': 0.0,\n",
    "          'min_size': min_size,\n",
    "          'diameter': 0.0,\n",
    "          'invert': False,\n",
    "          'transparency': True, # transparency in flow output\n",
    "          'omni': True, # we can turn off Omnipose mask reconstruction, not advised\n",
    "          'cluster': True, # use DBSCAN clustering\n",
    "          'resample': True, # whether or not to run dynamics on rescaled grid or original grid\n",
    "          'verbose': False, # turn on if you want to see more output\n",
    "          'tile': False, # average the outputs from flipped (augmented) images; slower, usually not needed\n",
    "          'niter': None, # default None lets Omnipose calculate # of Euler iterations (usually <20) but you can tune it for over/under segmentation\n",
    "          'augment': False, # Can optionally rotate the image and average network outputs, usually not needed\n",
    "          'affinity_seg': False, # new feature, stay tuned...\n",
    "         }\n",
    "\n",
    "rootdir = '/Users/adele/PycharmProjects/Ecoli_smFISH/tests/exp16/output'\n",
    "files = Path(rootdir).glob('*/grgb.npy')\n",
    "# stop_after = 1\n",
    "imgs = [np.load(f) for f in files]\n",
    "stop_after = len(imgs)\n",
    "masks, flows, styles = model.eval(imgs[:stop_after], **params)"
   ]
  },
  {
   "cell_type": "code",
   "execution_count": 44,
   "id": "f1d91b636794d7f6",
   "metadata": {
    "ExecuteTime": {
     "end_time": "2024-11-03T18:30:09.967286Z",
     "start_time": "2024-11-03T18:30:09.851051Z"
    }
   },
   "outputs": [
    {
     "name": "stderr",
     "output_type": "stream",
     "text": [
      "/var/folders/pp/cdyfs0g13j3_15mc99_0nfmh0000gn/T/ipykernel_8315/2646462956.py:9: UserWarning: /Users/adele/PycharmProjects/Ecoli_smFISH/tests/exp16/output/MG1655_GLY-lowOD-2nd_16/DIC_masks_model=cyto2_omni_chan=[1,0]_minsize=200_maskth=0.0.tif is a boolean image: setting True to 255 and False to 0. To silence this warning, please convert the image using img_as_ubyte.\n",
      "  io.imsave(maskfile, m)\n",
      "/var/folders/pp/cdyfs0g13j3_15mc99_0nfmh0000gn/T/ipykernel_8315/2646462956.py:9: UserWarning: /Users/adele/PycharmProjects/Ecoli_smFISH/tests/exp16/output/MG1655_GLY-lowOD-2nd_16/DIC_masks_model=cyto2_omni_chan=[1,0]_minsize=200_maskth=0.0.tif is a low contrast image\n",
      "  io.imsave(maskfile, m)\n",
      "/var/folders/pp/cdyfs0g13j3_15mc99_0nfmh0000gn/T/ipykernel_8315/2646462956.py:9: UserWarning: /Users/adele/PycharmProjects/Ecoli_smFISH/tests/exp16/output/MG1655_GLY-lowOD-2nd_17/DIC_masks_model=cyto2_omni_chan=[1,0]_minsize=200_maskth=0.0.tif is a boolean image: setting True to 255 and False to 0. To silence this warning, please convert the image using img_as_ubyte.\n",
      "  io.imsave(maskfile, m)\n",
      "/var/folders/pp/cdyfs0g13j3_15mc99_0nfmh0000gn/T/ipykernel_8315/2646462956.py:9: UserWarning: /Users/adele/PycharmProjects/Ecoli_smFISH/tests/exp16/output/MG1655_GLY-lowOD-2nd_17/DIC_masks_model=cyto2_omni_chan=[1,0]_minsize=200_maskth=0.0.tif is a low contrast image\n",
      "  io.imsave(maskfile, m)\n",
      "/var/folders/pp/cdyfs0g13j3_15mc99_0nfmh0000gn/T/ipykernel_8315/2646462956.py:9: UserWarning: /Users/adele/PycharmProjects/Ecoli_smFISH/tests/exp16/output/MG1655_GLU_OD_0.3_left_02/DIC_masks_model=cyto2_omni_chan=[1,0]_minsize=200_maskth=0.0.tif is a boolean image: setting True to 255 and False to 0. To silence this warning, please convert the image using img_as_ubyte.\n",
      "  io.imsave(maskfile, m)\n",
      "/var/folders/pp/cdyfs0g13j3_15mc99_0nfmh0000gn/T/ipykernel_8315/2646462956.py:9: UserWarning: /Users/adele/PycharmProjects/Ecoli_smFISH/tests/exp16/output/MG1655_GLU_OD_0.3_left_02/DIC_masks_model=cyto2_omni_chan=[1,0]_minsize=200_maskth=0.0.tif is a low contrast image\n",
      "  io.imsave(maskfile, m)\n",
      "/var/folders/pp/cdyfs0g13j3_15mc99_0nfmh0000gn/T/ipykernel_8315/2646462956.py:9: UserWarning: /Users/adele/PycharmProjects/Ecoli_smFISH/tests/exp16/output/MG1655_GLU_OD_0.3_left_03/DIC_masks_model=cyto2_omni_chan=[1,0]_minsize=200_maskth=0.0.tif is a boolean image: setting True to 255 and False to 0. To silence this warning, please convert the image using img_as_ubyte.\n",
      "  io.imsave(maskfile, m)\n",
      "/var/folders/pp/cdyfs0g13j3_15mc99_0nfmh0000gn/T/ipykernel_8315/2646462956.py:9: UserWarning: /Users/adele/PycharmProjects/Ecoli_smFISH/tests/exp16/output/MG1655_GLU_OD_0.3_left_03/DIC_masks_model=cyto2_omni_chan=[1,0]_minsize=200_maskth=0.0.tif is a low contrast image\n",
      "  io.imsave(maskfile, m)\n",
      "/var/folders/pp/cdyfs0g13j3_15mc99_0nfmh0000gn/T/ipykernel_8315/2646462956.py:9: UserWarning: /Users/adele/PycharmProjects/Ecoli_smFISH/tests/exp16/output/MG1655_GAL-lowOD-2nd_05/DIC_masks_model=cyto2_omni_chan=[1,0]_minsize=200_maskth=0.0.tif is a boolean image: setting True to 255 and False to 0. To silence this warning, please convert the image using img_as_ubyte.\n",
      "  io.imsave(maskfile, m)\n",
      "/var/folders/pp/cdyfs0g13j3_15mc99_0nfmh0000gn/T/ipykernel_8315/2646462956.py:9: UserWarning: /Users/adele/PycharmProjects/Ecoli_smFISH/tests/exp16/output/MG1655_GAL-lowOD-2nd_05/DIC_masks_model=cyto2_omni_chan=[1,0]_minsize=200_maskth=0.0.tif is a low contrast image\n",
      "  io.imsave(maskfile, m)\n",
      "/var/folders/pp/cdyfs0g13j3_15mc99_0nfmh0000gn/T/ipykernel_8315/2646462956.py:9: UserWarning: /Users/adele/PycharmProjects/Ecoli_smFISH/tests/exp16/output/MG1655_MAN_OD_0.3_left_08/DIC_masks_model=cyto2_omni_chan=[1,0]_minsize=200_maskth=0.0.tif is a boolean image: setting True to 255 and False to 0. To silence this warning, please convert the image using img_as_ubyte.\n",
      "  io.imsave(maskfile, m)\n",
      "/var/folders/pp/cdyfs0g13j3_15mc99_0nfmh0000gn/T/ipykernel_8315/2646462956.py:9: UserWarning: /Users/adele/PycharmProjects/Ecoli_smFISH/tests/exp16/output/MG1655_MAN_OD_0.3_left_08/DIC_masks_model=cyto2_omni_chan=[1,0]_minsize=200_maskth=0.0.tif is a low contrast image\n",
      "  io.imsave(maskfile, m)\n",
      "/var/folders/pp/cdyfs0g13j3_15mc99_0nfmh0000gn/T/ipykernel_8315/2646462956.py:9: UserWarning: /Users/adele/PycharmProjects/Ecoli_smFISH/tests/exp16/output/MG1655_MAN_OD_0.3_left_07/DIC_masks_model=cyto2_omni_chan=[1,0]_minsize=200_maskth=0.0.tif is a boolean image: setting True to 255 and False to 0. To silence this warning, please convert the image using img_as_ubyte.\n",
      "  io.imsave(maskfile, m)\n",
      "/var/folders/pp/cdyfs0g13j3_15mc99_0nfmh0000gn/T/ipykernel_8315/2646462956.py:9: UserWarning: /Users/adele/PycharmProjects/Ecoli_smFISH/tests/exp16/output/MG1655_MAN_OD_0.3_left_07/DIC_masks_model=cyto2_omni_chan=[1,0]_minsize=200_maskth=0.0.tif is a low contrast image\n",
      "  io.imsave(maskfile, m)\n",
      "/var/folders/pp/cdyfs0g13j3_15mc99_0nfmh0000gn/T/ipykernel_8315/2646462956.py:9: UserWarning: /Users/adele/PycharmProjects/Ecoli_smFISH/tests/exp16/output/MG1655_LB_fixed2806_hybed1906_left_03/DIC_masks_model=cyto2_omni_chan=[1,0]_minsize=200_maskth=0.0.tif is a boolean image: setting True to 255 and False to 0. To silence this warning, please convert the image using img_as_ubyte.\n",
      "  io.imsave(maskfile, m)\n",
      "/var/folders/pp/cdyfs0g13j3_15mc99_0nfmh0000gn/T/ipykernel_8315/2646462956.py:9: UserWarning: /Users/adele/PycharmProjects/Ecoli_smFISH/tests/exp16/output/MG1655_LB_fixed2806_hybed1906_left_03/DIC_masks_model=cyto2_omni_chan=[1,0]_minsize=200_maskth=0.0.tif is a low contrast image\n",
      "  io.imsave(maskfile, m)\n",
      "/var/folders/pp/cdyfs0g13j3_15mc99_0nfmh0000gn/T/ipykernel_8315/2646462956.py:9: UserWarning: /Users/adele/PycharmProjects/Ecoli_smFISH/tests/exp16/output/MG1655_LB_fixed2806_hybed1906_left_05/DIC_masks_model=cyto2_omni_chan=[1,0]_minsize=200_maskth=0.0.tif is a boolean image: setting True to 255 and False to 0. To silence this warning, please convert the image using img_as_ubyte.\n",
      "  io.imsave(maskfile, m)\n",
      "/var/folders/pp/cdyfs0g13j3_15mc99_0nfmh0000gn/T/ipykernel_8315/2646462956.py:9: UserWarning: /Users/adele/PycharmProjects/Ecoli_smFISH/tests/exp16/output/MG1655_LB_fixed2806_hybed1906_left_05/DIC_masks_model=cyto2_omni_chan=[1,0]_minsize=200_maskth=0.0.tif is a low contrast image\n",
      "  io.imsave(maskfile, m)\n",
      "/var/folders/pp/cdyfs0g13j3_15mc99_0nfmh0000gn/T/ipykernel_8315/2646462956.py:9: UserWarning: /Users/adele/PycharmProjects/Ecoli_smFISH/tests/exp16/output/MG1655_GAL-lowOD-2nd_06/DIC_masks_model=cyto2_omni_chan=[1,0]_minsize=200_maskth=0.0.tif is a boolean image: setting True to 255 and False to 0. To silence this warning, please convert the image using img_as_ubyte.\n",
      "  io.imsave(maskfile, m)\n",
      "/var/folders/pp/cdyfs0g13j3_15mc99_0nfmh0000gn/T/ipykernel_8315/2646462956.py:9: UserWarning: /Users/adele/PycharmProjects/Ecoli_smFISH/tests/exp16/output/MG1655_GAL-lowOD-2nd_06/DIC_masks_model=cyto2_omni_chan=[1,0]_minsize=200_maskth=0.0.tif is a low contrast image\n",
      "  io.imsave(maskfile, m)\n"
     ]
    }
   ],
   "source": [
    "# save the masks with channel information\n",
    "files = Path(rootdir).glob('*/grgb.npy')\n",
    "filelist = list(files)\n",
    "\n",
    "for f, m in zip(filelist, masks):\n",
    "    maskfile = Path(f).parent / f'DIC_masks_model={model_type}_chan={str(params[\"channels\"]).replace(\" \", \"\")}_diameter={params[\"diameter\"]}_minsize={params[\"min_size\"]}_mask={params[\"mask_threshold\"]}_flow={params[\"flow_threshold\"]}.tif'\n",
    "    io.imsave(maskfile, m)"
   ]
  },
  {
   "cell_type": "markdown",
   "id": "e01d37ea9dc0ae4c",
   "metadata": {},
   "source": [
    "### Cells: cyto2_omni with DIC and DAPI as input"
   ]
  },
  {
   "cell_type": "code",
   "execution_count": 52,
   "id": "be123ccd77e333d2",
   "metadata": {
    "ExecuteTime": {
     "end_time": "2024-11-04T09:22:28.312588Z",
     "start_time": "2024-11-04T09:21:37.231966Z"
    }
   },
   "outputs": [
    {
     "name": "stdout",
     "output_type": "stream",
     "text": [
      "\u001b[38;5;78m2024-11-04 10:21:37,238\t[INFO]     cellpose_omni/models.py                   \t line 432\t>>cyto2_omni<< model set to be used\u001b[0m\n",
      "\u001b[38;5;74m2024-11-04 10:21:37,268\t[INFO]     cellpose_omni/core.py         assi...evice()\t line  67\tUsing GPU.\u001b[0m\n",
      "\u001b[38;5;74m2024-11-04 10:21:37,531\t[INFO]                                   __init__....()\t line 163\tu-net config: ([2, 32, 64, 128, 256], 4, 2)\u001b[0m\n"
     ]
    },
    {
     "data": {
      "application/vnd.jupyter.widget-view+json": {
       "model_id": "0de8cf94483c4c518be08ac99083c7a5",
       "version_major": 2,
       "version_minor": 0
      },
      "text/plain": [
       "  0%|          | 0/10 [00:00<?, ?it/s]"
      ]
     },
     "metadata": {},
     "output_type": "display_data"
    },
    {
     "name": "stderr",
     "output_type": "stream",
     "text": [
      "/Users/adele/Projects/omnipose/cellpose_omni/transforms.py:587: UserWarning: chan to seg' has value range of ZERO\n",
      "  warnings.warn(\"chan to seg' has value range of ZERO\")\n",
      "/Users/adele/Projects/omnipose/cellpose_omni/transforms.py:587: UserWarning: chan to seg' has value range of ZERO\n",
      "  warnings.warn(\"chan to seg' has value range of ZERO\")\n",
      "/Users/adele/Projects/omnipose/cellpose_omni/transforms.py:587: UserWarning: chan to seg' has value range of ZERO\n",
      "  warnings.warn(\"chan to seg' has value range of ZERO\")\n",
      "/Users/adele/Projects/omnipose/cellpose_omni/transforms.py:587: UserWarning: chan to seg' has value range of ZERO\n",
      "  warnings.warn(\"chan to seg' has value range of ZERO\")\n",
      "/Users/adele/Projects/omnipose/cellpose_omni/transforms.py:587: UserWarning: chan to seg' has value range of ZERO\n",
      "  warnings.warn(\"chan to seg' has value range of ZERO\")\n",
      "/Users/adele/Projects/omnipose/cellpose_omni/transforms.py:587: UserWarning: chan to seg' has value range of ZERO\n",
      "  warnings.warn(\"chan to seg' has value range of ZERO\")\n",
      "/Users/adele/Projects/omnipose/cellpose_omni/transforms.py:587: UserWarning: chan to seg' has value range of ZERO\n",
      "  warnings.warn(\"chan to seg' has value range of ZERO\")\n",
      "/Users/adele/Projects/omnipose/cellpose_omni/transforms.py:587: UserWarning: chan to seg' has value range of ZERO\n",
      "  warnings.warn(\"chan to seg' has value range of ZERO\")\n",
      "/Users/adele/Projects/omnipose/cellpose_omni/transforms.py:587: UserWarning: chan to seg' has value range of ZERO\n",
      "  warnings.warn(\"chan to seg' has value range of ZERO\")\n",
      "/Users/adele/Projects/omnipose/cellpose_omni/transforms.py:587: UserWarning: chan to seg' has value range of ZERO\n",
      "  warnings.warn(\"chan to seg' has value range of ZERO\")\n"
     ]
    }
   ],
   "source": [
    "model_type = \"cyto2_omni\"\n",
    "model = models.CellposeModel(gpu=use_GPU, model_type=model_type)\n",
    "chans = [1, 2]\n",
    "diameter = 35\n",
    "min_size = 0\n",
    "mask = -2\n",
    "flow = 0\n",
    "\n",
    "params = {'channels': chans, # always define this with the model\n",
    "          'rescale': None, # upscale or downscale your images, None = no rescaling\n",
    "          'mask_threshold': mask, # erode or dilate masks with higher or lower values between -5 and 5\n",
    "          'flow_threshold': flow,\n",
    "          'min_size': min_size,\n",
    "          'diameter': diameter,\n",
    "          'invert': False,\n",
    "          'transparency': True, # transparency in flow output\n",
    "          'omni': True, # we can turn off Omnipose mask reconstruction, not advised\n",
    "          'cluster': True, # use DBSCAN clustering\n",
    "          'resample': True, # whether or not to run dynamics on rescaled grid or original grid\n",
    "          'verbose': False, # turn on if you want to see more output\n",
    "          'tile': False, # average the outputs from flipped (augmented) images; slower, usually not needed\n",
    "          'niter': None, # default None lets Omnipose calculate # of Euler iterations (usually <20) but you can tune it for over/under segmentation\n",
    "          'augment': False, # Can optionally rotate the image and average network outputs, usually not needed\n",
    "          'affinity_seg': False, # new feature, stay tuned...\n",
    "         }\n",
    "\n",
    "rootdir = '/Users/adele/PycharmProjects/Ecoli_smFISH/tests/exp16/output'\n",
    "files = Path(rootdir).glob('*/grgb.npy')\n",
    "# stop_after = 1\n",
    "imgs = [np.load(f) for f in files]\n",
    "stop_after = len(imgs)\n",
    "masks, flows, styles = model.eval(imgs[:stop_after], **params)"
   ]
  },
  {
   "cell_type": "code",
   "execution_count": 53,
   "id": "e53bb131bfee7c92",
   "metadata": {
    "ExecuteTime": {
     "end_time": "2024-11-04T09:23:53.215886Z",
     "start_time": "2024-11-04T09:23:53.021692Z"
    }
   },
   "outputs": [
    {
     "name": "stderr",
     "output_type": "stream",
     "text": [
      "/var/folders/pp/cdyfs0g13j3_15mc99_0nfmh0000gn/T/ipykernel_8315/1521786261.py:7: UserWarning: /Users/adele/PycharmProjects/Ecoli_smFISH/tests/exp16/output/MG1655_GLY-lowOD-2nd_16/DIC_masks_model=cyto2_omni_chan=[1,2]_diameter=35_minsize=0_mask=-2_flow=0.tif is a low contrast image\n",
      "  io.imsave(maskfile, m)\n",
      "/var/folders/pp/cdyfs0g13j3_15mc99_0nfmh0000gn/T/ipykernel_8315/1521786261.py:7: UserWarning: /Users/adele/PycharmProjects/Ecoli_smFISH/tests/exp16/output/MG1655_GLY-lowOD-2nd_17/DIC_masks_model=cyto2_omni_chan=[1,2]_diameter=35_minsize=0_mask=-2_flow=0.tif is a low contrast image\n",
      "  io.imsave(maskfile, m)\n",
      "/var/folders/pp/cdyfs0g13j3_15mc99_0nfmh0000gn/T/ipykernel_8315/1521786261.py:7: UserWarning: /Users/adele/PycharmProjects/Ecoli_smFISH/tests/exp16/output/MG1655_GLU_OD_0.3_left_02/DIC_masks_model=cyto2_omni_chan=[1,2]_diameter=35_minsize=0_mask=-2_flow=0.tif is a low contrast image\n",
      "  io.imsave(maskfile, m)\n",
      "/var/folders/pp/cdyfs0g13j3_15mc99_0nfmh0000gn/T/ipykernel_8315/1521786261.py:7: UserWarning: /Users/adele/PycharmProjects/Ecoli_smFISH/tests/exp16/output/MG1655_GLU_OD_0.3_left_03/DIC_masks_model=cyto2_omni_chan=[1,2]_diameter=35_minsize=0_mask=-2_flow=0.tif is a low contrast image\n",
      "  io.imsave(maskfile, m)\n",
      "/var/folders/pp/cdyfs0g13j3_15mc99_0nfmh0000gn/T/ipykernel_8315/1521786261.py:7: UserWarning: /Users/adele/PycharmProjects/Ecoli_smFISH/tests/exp16/output/MG1655_GAL-lowOD-2nd_05/DIC_masks_model=cyto2_omni_chan=[1,2]_diameter=35_minsize=0_mask=-2_flow=0.tif is a low contrast image\n",
      "  io.imsave(maskfile, m)\n",
      "/var/folders/pp/cdyfs0g13j3_15mc99_0nfmh0000gn/T/ipykernel_8315/1521786261.py:7: UserWarning: /Users/adele/PycharmProjects/Ecoli_smFISH/tests/exp16/output/MG1655_MAN_OD_0.3_left_08/DIC_masks_model=cyto2_omni_chan=[1,2]_diameter=35_minsize=0_mask=-2_flow=0.tif is a low contrast image\n",
      "  io.imsave(maskfile, m)\n",
      "/var/folders/pp/cdyfs0g13j3_15mc99_0nfmh0000gn/T/ipykernel_8315/1521786261.py:7: UserWarning: /Users/adele/PycharmProjects/Ecoli_smFISH/tests/exp16/output/MG1655_MAN_OD_0.3_left_07/DIC_masks_model=cyto2_omni_chan=[1,2]_diameter=35_minsize=0_mask=-2_flow=0.tif is a low contrast image\n",
      "  io.imsave(maskfile, m)\n",
      "/var/folders/pp/cdyfs0g13j3_15mc99_0nfmh0000gn/T/ipykernel_8315/1521786261.py:7: UserWarning: /Users/adele/PycharmProjects/Ecoli_smFISH/tests/exp16/output/MG1655_LB_fixed2806_hybed1906_left_03/DIC_masks_model=cyto2_omni_chan=[1,2]_diameter=35_minsize=0_mask=-2_flow=0.tif is a low contrast image\n",
      "  io.imsave(maskfile, m)\n",
      "/var/folders/pp/cdyfs0g13j3_15mc99_0nfmh0000gn/T/ipykernel_8315/1521786261.py:7: UserWarning: /Users/adele/PycharmProjects/Ecoli_smFISH/tests/exp16/output/MG1655_LB_fixed2806_hybed1906_left_05/DIC_masks_model=cyto2_omni_chan=[1,2]_diameter=35_minsize=0_mask=-2_flow=0.tif is a low contrast image\n",
      "  io.imsave(maskfile, m)\n",
      "/var/folders/pp/cdyfs0g13j3_15mc99_0nfmh0000gn/T/ipykernel_8315/1521786261.py:7: UserWarning: /Users/adele/PycharmProjects/Ecoli_smFISH/tests/exp16/output/MG1655_GAL-lowOD-2nd_06/DIC_masks_model=cyto2_omni_chan=[1,2]_diameter=35_minsize=0_mask=-2_flow=0.tif is a low contrast image\n",
      "  io.imsave(maskfile, m)\n"
     ]
    }
   ],
   "source": [
    "# save the masks with channel information\n",
    "files = Path(rootdir).glob('*/grgb.npy')\n",
    "filelist = list(files)\n",
    "\n",
    "for f, m in zip(filelist, masks):\n",
    "    maskfile = Path(f).parent / f'DIC_masks_model={model_type}_chan={str(params[\"channels\"]).replace(\" \", \"\")}_diameter={params[\"diameter\"]}_minsize={params[\"min_size\"]}_mask={params[\"mask_threshold\"]}_flow={params[\"flow_threshold\"]}.tif'\n",
    "    io.imsave(maskfile, m)"
   ]
  },
  {
   "cell_type": "markdown",
   "id": "28e62b851151bfe8",
   "metadata": {},
   "source": [
    "## Picture selection (from 2.5 experiments)\n"
   ]
  },
  {
   "cell_type": "markdown",
   "id": "84a601ea431b6780",
   "metadata": {},
   "source": [
    "### Pictures selected for segmentation\n",
    "\n"
   ]
  },
  {
   "cell_type": "code",
   "execution_count": 8,
   "id": "a2c3df3085a0b65a",
   "metadata": {
    "ExecuteTime": {
     "end_time": "2024-11-06T12:14:09.023266Z",
     "start_time": "2024-11-06T12:14:05.877441Z"
    }
   },
   "outputs": [
    {
     "name": "stdout",
     "output_type": "stream",
     "text": [
      "Config file from: /Volumes/Flodrive/Florence/smFISH/analysis/20241029-exp24\n",
      "\t/Volumes/Flodrive/Florence/smFISH/analysis/20241029-exp24/config-detection.json ->\n",
      "\t/Volumes/Flodrive/Florence/smFISH/analysis/20241029-exp24/config-detection-processed.json\n",
      "Selected: exp24-GLU-right-2_01\n",
      "Selected: exp24-GLU-right-2_03\n",
      "Selected: exp24-GLU-right-2_04\n",
      "Selected: exp24-GLU-right-2_05\n",
      "Selected: exp24-GLY-left_02\n",
      "Selected: exp24-GLY-left_03\n",
      "Selected: exp24-GLY-left_06\n",
      "Selected: exp24-GLY-left_10\n",
      "Config file from: /Volumes/Flodrive/Florence/smFISH/analysis/20241029-exp22\n",
      "\t/Volumes/Flodrive/Florence/smFISH/analysis/20241029-exp22/config-detection.json ->\n",
      "\t/Volumes/Flodrive/Florence/smFISH/analysis/20241029-exp22/config-detection-processed.json\n",
      "Selected: exp22-GLU_01\n",
      "Selected: exp22-GLU_02\n",
      "Selected: exp22-GLU_03\n",
      "Selected: exp22-GLU_04\n",
      "Selected: exp22-GLU_05\n",
      "Selected: exp22-GLU_06\n",
      "Selected: exp22-GLU_07\n",
      "Selected: exp22-GLU_08\n",
      "Selected: exp22-GLU_09\n",
      "Selected: exp22-GLU_10\n",
      "Selected: exp22-GLY_03\n",
      "Selected: exp22-GLY_05\n",
      "Selected: exp22-GLY_06\n",
      "Selected: exp22-GLY_07\n",
      "Selected: exp22-GLY_08\n",
      "Selected: exp22-GLY_09\n",
      "Selected: exp22-GLY_10\n",
      "Selected: exp22-GAL_01\n",
      "Selected: exp22-GAL_03\n",
      "Selected: exp22-GAL_04\n",
      "Selected: exp22-GAL_07\n",
      "Selected: exp22-GAL_08\n",
      "Selected: exp22-GAL_09\n",
      "Selected: exp22-GAL_10\n",
      "Selected: exp22-MAN_01\n",
      "Selected: exp22-MAN_02\n",
      "Selected: exp22-MAN_03\n",
      "Selected: exp22-MAN_05\n",
      "Selected: exp22-MAN_06\n",
      "Selected: exp22-MAN_07\n",
      "Selected: exp22-MAN_08\n",
      "Selected: exp22-MAN_09\n",
      "Selected: exp22-MAN_10\n",
      "Config file from: /Volumes/Flodrive/Florence/smFISH/analysis/20241003-exp16\n",
      "\t/Volumes/Flodrive/Florence/smFISH/analysis/20241003-exp16/config-detection.json ->\n",
      "\t/Volumes/Flodrive/Florence/smFISH/analysis/20241003-exp16/config-detection-processed.json\n",
      "Selected: MG1655_GAL-lowOD-2nd_06\n",
      "Selected: MG1655_GAL-lowOD-2nd_09\n",
      "Selected: MG1655_GLY-lowOD-2nd_01\n",
      "Selected: MG1655_GLY-lowOD-2nd_02\n",
      "Selected: MG1655_GLY-lowOD-2nd_09\n",
      "Selected: MG1655_GLY-lowOD-2nd_13\n",
      "Config file from: /Volumes/Flodrive/Florence/smFISH/analysis/20240927-exp16\n",
      "\t/Volumes/Flodrive/Florence/smFISH/analysis/20240927-exp16/config-detection.json ->\n",
      "\t/Volumes/Flodrive/Florence/smFISH/analysis/20240927-exp16/config-detection-processed.json\n",
      "Selected: MG1655_GLU_OD_0.3_left_02\n",
      "Selected: MG1655_GLU_OD_0.3_left_03\n",
      "Selected: MG1655_GLU_OD_0.3_left_04\n",
      "Selected: MG1655_GLU_OD_0.3_left_05\n",
      "Selected: MG1655_GLY_OD_0.3_right_01\n",
      "Selected: MG1655_GLY_OD_0.3_right_03\n",
      "Selected: MG1655_GLY_OD_0.3_right_04\n",
      "Selected: MG1655_GLY_OD_0.3_right_05\n",
      "Selected: MG1655_GLY_OD_0.3_right_06\n",
      "Selected: MG1655_GLY_OD_0.3_right_07\n",
      "Selected: MG1655_GLY_OD_0.3_right_08\n",
      "Selected: MG1655_GLY_OD_0.3_right_09\n",
      "Selected: MG1655_GLY_OD_0.3_right_13\n",
      "Selected: MG1655_GLY_OD_0.3_right_14\n",
      "Selected: MG1655_MAN_OD_0.3_left_01\n",
      "Selected: MG1655_MAN_OD_0.3_left_02\n",
      "Selected: MG1655_MAN_OD_0.3_left_05\n",
      "Selected: MG1655_MAN_OD_0.3_left_06\n",
      "Selected: MG1655_MAN_OD_0.3_left_07\n",
      "Selected: MG1655_MAN_OD_0.3_left_09\n",
      "Selected: MG1655_MAN_OD_0.3_left_11\n",
      "Config file from: /Volumes/Flodrive/Florence/smFISH/analysis/20240927-LB\n",
      "\t/Volumes/Flodrive/Florence/smFISH/analysis/20240927-LB/config-detection.json ->\n",
      "\t/Volumes/Flodrive/Florence/smFISH/analysis/20240927-LB/config-detection-processed.json\n",
      "Selected: MG1655_LB_fixed2806_hybed1906_left_01\n",
      "Selected: MG1655_LB_fixed2806_hybed1906_left_03\n",
      "Selected: MG1655_LB_fixed2806_hybed1906_left_07\n"
     ]
    }
   ],
   "source": [
    "rootdir = '/Volumes/Flodrive/Florence/smFISH/analysis'\n",
    "for f in Path(rootdir).glob('*/config-detection.json'):\n",
    "    config_processed = f.parent / 'config-detection-processed.json'\n",
    "    print(f\"Config file from: {f.parent}\")\n",
    "    print(f\"\\t{f} ->\")\n",
    "    print(f\"\\t{config_processed}\")\n",
    "    with open(f, 'r') as fh:\n",
    "        config = json.load(fh)\n",
    "        for exp in config['experiments']:\n",
    "            for img in exp['images']:\n",
    "                if img['segment'] is False:\n",
    "                    # we don't detect spots if we have no good segmentation\n",
    "                    img[\"detect_spots\"] = False\n",
    "                else:\n",
    "                     img[\"detect_spots\"] = True\n",
    "                     print(f'Selected: {img[\"stem\"]}')\n",
    "        \n",
    "        with open(config_processed, 'w') as fh:\n",
    "            json.dump(config, fh)\n",
    "             \n",
    "                "
   ]
  },
  {
   "cell_type": "markdown",
   "id": "25dc07e721707265",
   "metadata": {},
   "source": [
    "### Pictures selected for segmentation and detection\n"
   ]
  },
  {
   "cell_type": "code",
   "execution_count": 161,
   "id": "232f8642f3cce58e",
   "metadata": {
    "ExecuteTime": {
     "end_time": "2024-11-10T20:58:40.211479Z",
     "start_time": "2024-11-10T20:58:35.000928Z"
    }
   },
   "outputs": [
    {
     "name": "stdout",
     "output_type": "stream",
     "text": [
      "Config file: /Volumes/Flodrive/Florence/smFISH/analysis/20241029-exp24/config-detection-processed.json\n",
      "\t15\t8\t7\n",
      "Config file: /Volumes/Flodrive/Florence/smFISH/analysis/20241029-exp22/config-detection-processed.json\n",
      "\t40\t33\t19\n",
      "Config file: /Volumes/Flodrive/Florence/smFISH/analysis/20241003-exp16/config-detection-processed.json\n",
      "\t27\t6\t5\n",
      "Config file: /Volumes/Flodrive/Florence/smFISH/analysis/20240927-exp16/config-detection-processed.json\n",
      "\t31\t21\t15\n",
      "Config file: /Volumes/Flodrive/Florence/smFISH/analysis/20240927-LB/config-detection-processed.json\n",
      "\t10\t3\t2\n"
     ]
    }
   ],
   "source": [
    "rootdir = '/Volumes/Flodrive/Florence/smFISH/analysis'\n",
    "for config_processed in Path(rootdir).glob('*/config-detection-processed.json'):\n",
    "    print(f\"Config file: {config_processed}\")\n",
    "    with open(config_processed, 'r') as f:\n",
    "        config = json.load(f)\n",
    "        \n",
    "        config['nr_images'], config['nr_images_segmented'], config['nr_images_detected'] = 0, 0, 0\n",
    "        for exp in config['experiments']:\n",
    "            for img in exp['images']:\n",
    "                config['nr_images'] += 1\n",
    "                if img['segment'] is True:\n",
    "                    config['nr_images_segmented'] += 1\n",
    "                if img['detect_spots'] is True:\n",
    "                    config['nr_images_detected'] += 1\n",
    "        print(f\"\\t{config['nr_images']}\\t{config['nr_images_segmented']}\\t{config['nr_images_detected']}\")      \n",
    "        \n",
    "        with open(config_processed.parent / 'config-with-numbers.json' , 'w') as fh:\n",
    "            json.dump(config, fh)\n",
    "             "
   ]
  },
  {
   "cell_type": "code",
   "execution_count": 159,
   "id": "87e93d8db51d3aa4",
   "metadata": {
    "ExecuteTime": {
     "end_time": "2024-11-07T13:20:43.687036Z",
     "start_time": "2024-11-07T13:20:40.766721Z"
    }
   },
   "outputs": [
    {
     "name": "stdout",
     "output_type": "stream",
     "text": [
      "Config file: /Volumes/Flodrive/Florence/smFISH/analysis/20241029-exp24/config-detection-processed.json\n",
      "Config file: /Volumes/Flodrive/Florence/smFISH/analysis/20241029-exp22/config-detection-processed.json\n",
      "Config file: /Volumes/Flodrive/Florence/smFISH/analysis/20241003-exp16/config-detection-processed.json\n",
      "Config file: /Volumes/Flodrive/Florence/smFISH/analysis/20240927-exp16/config-detection-processed.json\n",
      "Config file: /Volumes/Flodrive/Florence/smFISH/analysis/20240927-LB/config-detection-processed.json\n"
     ]
    },
    {
     "name": "stderr",
     "output_type": "stream",
     "text": [
      "/var/folders/pp/cdyfs0g13j3_15mc99_0nfmh0000gn/T/ipykernel_11254/449064825.py:11: FutureWarning: The behavior of DataFrame concatenation with empty or all-NA entries is deprecated. In a future version, this will no longer exclude empty or all-NA columns when determining the result dtypes. To retain the old behavior, exclude the relevant entries before the concat operation.\n",
      "  df = pd.concat([df, pd.DataFrame({\n"
     ]
    }
   ],
   "source": [
    "rootdir = '/Volumes/Flodrive/Florence/smFISH/analysis'\n",
    "df = pd.DataFrame(columns=['dir', 'img', 'segment', 'detect', 'rpoD thr', 'rpoD ok', 'rnlAB thr', 'rnlAB ok', 'hipBA thr', 'hipBA ok', 'notes'])\n",
    "for config_processed in Path(rootdir).glob('*/config-detection-processed.json'):\n",
    "    print(f\"Config file: {config_processed}\")\n",
    "    with open(config_processed, 'r') as f:\n",
    "        config = json.load(f)\n",
    "        \n",
    "        for exp in config['experiments']:\n",
    "            for img in exp['images']:\n",
    "                if img['segment'] is True:\n",
    "                    df = pd.concat([df, pd.DataFrame({\n",
    "                        'dir': Path(img['rootdir']).parts[-1],\n",
    "                        'img': img['stem'],\n",
    "                        'segment': img['segment'],\n",
    "                        'detect': '',\n",
    "                        'rpoD thr': img['rpoD']['spot_detection_threshold'],\n",
    "                        'rpoD ok': '', \n",
    "                        'rnlAB thr': img['rnlAB']['spot_detection_threshold'], \n",
    "                        'rnlAB ok': '', \n",
    "                        'hipBA thr': img['hipBA']['spot_detection_threshold'], \n",
    "                        'hipBA ok': '',\n",
    "                        'comments': ''}, index=[0])])\n",
    "                    \n",
    "df.head()\n",
    "df.to_excel(Path(rootdir) / \"images.xlsx\", index=False)\n",
    "\n"
   ]
  },
  {
   "cell_type": "markdown",
   "id": "44e8ba371e981e7b",
   "metadata": {},
   "source": [
    "### Spot detection thresholds"
   ]
  },
  {
   "cell_type": "code",
   "execution_count": 158,
   "id": "db4122ff28735397",
   "metadata": {
    "ExecuteTime": {
     "end_time": "2024-11-07T13:09:19.633544Z",
     "start_time": "2024-11-07T13:09:19.624006Z"
    }
   },
   "outputs": [
    {
     "name": "stdout",
     "output_type": "stream",
     "text": [
      "Config file: /Volumes/Flodrive/Florence/smFISH/analysis/20241029-exp24/config-detection-processed.json\n",
      "'exp24-GLU-right-2_01: 18.0'\n",
      "'exp24-GLU-right-2_03: 18.0'\n",
      "'exp24-GLU-right-2_04: 27.0'\n",
      "'exp24-GLU-right-2_05: 19.0'\n",
      "'exp24-GLY-left_02: 33.0'\n",
      "'exp24-GLY-left_03: 85.0'\n",
      "'exp24-GLY-left_06: 17.0'\n",
      "'exp24-GLY-left_10: 18.0'\n",
      "Config file: /Volumes/Flodrive/Florence/smFISH/analysis/20241029-exp22/config-detection-processed.json\n",
      "'exp22-GLU_01: 17.0'\n",
      "'exp22-GLU_02: 17.0'\n",
      "'exp22-GLU_03: 17.0'\n",
      "'exp22-GLU_04: 17.0'\n",
      "'exp22-GLU_05: 16.0'\n",
      "'exp22-GLU_06: 21.0'\n",
      "'exp22-GLU_07: 36.0'\n",
      "'exp22-GLU_08: 18.0'\n",
      "'exp22-GLU_09: 22.0'\n",
      "'exp22-GLU_10: 19.0'\n",
      "'exp22-GLY_03: 25.0'\n",
      "'exp22-GLY_05: 23.0'\n",
      "'exp22-GLY_06: 24.0'\n",
      "'exp22-GLY_07: 25.0'\n",
      "'exp22-GLY_08: 27.0'\n",
      "'exp22-GLY_09: 35.0'\n",
      "'exp22-GLY_10: 26.0'\n",
      "'exp22-GAL_01: 29.0'\n",
      "'exp22-GAL_03: 24.0'\n",
      "'exp22-GAL_04: 27.0'\n",
      "'exp22-GAL_07: 33.0'\n",
      "'exp22-GAL_08: 23.0'\n",
      "'exp22-GAL_09: 41.0'\n",
      "'exp22-GAL_10: 24.0'\n",
      "'exp22-MAN_01: 21.0'\n",
      "'exp22-MAN_02: 27.0'\n",
      "'exp22-MAN_03: 23.0'\n",
      "'exp22-MAN_05: 26.0'\n",
      "'exp22-MAN_06: 25.0'\n",
      "'exp22-MAN_07: 18.0'\n",
      "'exp22-MAN_08: 23.0'\n",
      "'exp22-MAN_09: 19.0'\n",
      "'exp22-MAN_10: 19.0'\n",
      "Config file: /Volumes/Flodrive/Florence/smFISH/analysis/20241003-exp16/config-detection-processed.json\n",
      "'MG1655_GAL-lowOD-2nd_06: 96.0'\n",
      "'MG1655_GAL-lowOD-2nd_09: 75.0'\n",
      "'MG1655_GLY-lowOD-2nd_01: 22.0'\n",
      "'MG1655_GLY-lowOD-2nd_02: 25.0'\n",
      "'MG1655_GLY-lowOD-2nd_09: 101.0'\n",
      "'MG1655_GLY-lowOD-2nd_13: 74.0'\n",
      "Config file: /Volumes/Flodrive/Florence/smFISH/analysis/20240927-exp16/config-detection-processed.json\n",
      "'MG1655_GLU_OD_0.3_left_02: 80.0'\n",
      "'MG1655_GLU_OD_0.3_left_03: 57.0'\n",
      "'MG1655_GLU_OD_0.3_left_04: 62.0'\n",
      "'MG1655_GLU_OD_0.3_left_05: 44.0'\n",
      "'MG1655_GLY_OD_0.3_right_01: 63.0'\n",
      "'MG1655_GLY_OD_0.3_right_03: 68.0'\n",
      "'MG1655_GLY_OD_0.3_right_04: 40.0'\n",
      "'MG1655_GLY_OD_0.3_right_05: 24.0'\n",
      "'MG1655_GLY_OD_0.3_right_06: 23.0'\n",
      "'MG1655_GLY_OD_0.3_right_07: 25.0'\n",
      "'MG1655_GLY_OD_0.3_right_08: 21.0'\n",
      "'MG1655_GLY_OD_0.3_right_09: 17.0'\n",
      "'MG1655_GLY_OD_0.3_right_13: 32.0'\n",
      "'MG1655_GLY_OD_0.3_right_14: 26.0'\n",
      "'MG1655_MAN_OD_0.3_left_01: 81.0'\n",
      "'MG1655_MAN_OD_0.3_left_02: 62.0'\n",
      "'MG1655_MAN_OD_0.3_left_05: 62.0'\n",
      "'MG1655_MAN_OD_0.3_left_06: 68.0'\n",
      "'MG1655_MAN_OD_0.3_left_07: 57.0'\n",
      "'MG1655_MAN_OD_0.3_left_09: 102.0'\n",
      "'MG1655_MAN_OD_0.3_left_11: 117.0'\n",
      "Config file: /Volumes/Flodrive/Florence/smFISH/analysis/20240927-LB/config-detection-processed.json\n",
      "'MG1655_LB_fixed2806_hybed1906_left_01: 34.0'\n",
      "'MG1655_LB_fixed2806_hybed1906_left_03: 38.0'\n",
      "'MG1655_LB_fixed2806_hybed1906_left_07: 30.0'\n"
     ]
    }
   ],
   "source": [
    "rootdir = '/Volumes/Flodrive/Florence/smFISH/analysis'\n",
    "for config_processed in Path(rootdir).glob('*/config-detection-processed.json'):\n",
    "    print(f\"Config file: {config_processed}\")\n",
    "    with open(config_processed, 'r') as f:\n",
    "        config = json.load(f)\n",
    "        \n",
    "        for exp in config['experiments']:\n",
    "            for img in exp['images']:\n",
    "                if 'detect_spots' in img and img['detect_spots'] is True: \n",
    "                    pprint(f\"{img['stem']}: {float(img['hipBA']['spot_detection_threshold'])}\")\n",
    "\n"
   ]
  },
  {
   "cell_type": "markdown",
   "id": "6c76b893e98280f",
   "metadata": {},
   "source": [
    "## Cell mask postprocessing\n",
    " \n",
    "We discard masks that:\n",
    "- do not intersect with any cells masks\n",
    "- are too small\n",
    "- are both large and have low eccentricity"
   ]
  },
  {
   "cell_type": "code",
   "execution_count": 75,
   "id": "421b0ffd9d2404d8",
   "metadata": {
    "ExecuteTime": {
     "end_time": "2024-11-06T21:50:36.214073Z",
     "start_time": "2024-11-06T21:50:36.208523Z"
    }
   },
   "outputs": [],
   "source": [
    "def remove_cell_masks_with_no_dapi(cell_masks, dapi_masks):\n",
    "    cells_to_discard = []\n",
    "    for label in np.unique(cell_masks):\n",
    "        dapi_found = False\n",
    "        cell_coordinates = np.where(cell_masks == label)\n",
    "        for y, x in zip(cell_coordinates[0], cell_coordinates[1]):\n",
    "            if dapi_masks[y, x] != 0:\n",
    "                dapi_found = True\n",
    "                break\n",
    "        if dapi_found == False:\n",
    "            cells_to_discard.append(label)\n",
    "    print(f'removing {len(cells_to_discard)} cells with no dapi signal')\n",
    "    cell_masks_dapi = copy(cell_masks)\n",
    "    cell_masks_dapi[np.isin(cell_masks, cells_to_discard)] = 0\n",
    "    return cell_masks_dapi, cells_to_discard\n",
    "\n",
    "\n",
    "def filter_cells_by_area(masks, props, min_cell_area=2000):\n",
    "    discarded = props.query('area < @min_cell_area')['label']\n",
    "    selected = set(props['label']) - set(discarded)\n",
    "    masks_selected = copy(masks)\n",
    "    masks_selected[np.isin(masks, list(discarded))] = 0\n",
    "    masks_discarded = copy(masks)\n",
    "    masks_discarded[np.isin(masks, list(selected))] = 0\n",
    "\n",
    "    return masks_selected, masks_discarded, len(np.unique(masks_selected)), len(np.unique(masks_discarded)), len(np.unique(masks))\n",
    "\n",
    "\n",
    "def filter_cells_by_shape(masks, props, min_clump_area=1000, max_clump_eccentricity=0.8):\n",
    "    discarded = props.query('area > @min_clump_area').query('eccentricity < @max_clump_eccentricity')['label']\n",
    "    selected = set(props['label']) - set(discarded)\n",
    "    masks_selected = copy(masks)\n",
    "    masks_selected[np.isin(masks, list(discarded))] = 0\n",
    "    masks_discarded = copy(masks)\n",
    "    masks_discarded[np.isin(masks, list(selected))] = 0\n",
    "\n",
    "    return masks_selected, masks_discarded, len(np.unique(masks_selected)), len(np.unique(masks_discarded)), len(np.unique(masks))\n"
   ]
  },
  {
   "cell_type": "markdown",
   "id": "22f0ce7df617d6a3",
   "metadata": {},
   "source": [
    "### Discard cells with no DAPI"
   ]
  },
  {
   "cell_type": "code",
   "execution_count": 166,
   "id": "4e6613ad60fa5813",
   "metadata": {
    "ExecuteTime": {
     "end_time": "2024-11-14T13:57:30.169583Z",
     "start_time": "2024-11-14T13:44:42.804842Z"
    }
   },
   "outputs": [
    {
     "name": "stdout",
     "output_type": "stream",
     "text": [
      "Config file from: /Volumes/Flodrive/Florence/smFISH/analysis/20241029-exp24\n",
      "\t/Volumes/Flodrive/Florence/smFISH/analysis/20241029-exp24/config-detection.json ->\n",
      "\t/Volumes/Flodrive/Florence/smFISH/analysis/20241029-exp24/config-detection-processed.json\n",
      "Selected: exp24-GLU-right-2_01\n",
      "\t#cell masks after segmentation : 1419\n",
      "removing 149 cells with no dapi signal\n",
      "\t#cell masks that have some dapi: 1270\n"
     ]
    },
    {
     "name": "stderr",
     "output_type": "stream",
     "text": [
      "/var/folders/pp/cdyfs0g13j3_15mc99_0nfmh0000gn/T/ipykernel_11254/2403115704.py:19: UserWarning: /Volumes/Flodrive/Florence/smFISH/analysis/20241029-exp24/exp24-GLU-right-2_01/DIC_masks_with_dapi.tif is a low contrast image\n",
      "  io.imsave(Path(img['cellmaskfile']).parent / 'DIC_masks_with_dapi.tif', cell_masks_with_dapi)\n"
     ]
    },
    {
     "name": "stdout",
     "output_type": "stream",
     "text": [
      "Selected: exp24-GLU-right-2_03\n",
      "\t#cell masks after segmentation : 1047\n",
      "removing 177 cells with no dapi signal\n",
      "\t#cell masks that have some dapi: 870\n"
     ]
    },
    {
     "name": "stderr",
     "output_type": "stream",
     "text": [
      "/var/folders/pp/cdyfs0g13j3_15mc99_0nfmh0000gn/T/ipykernel_11254/2403115704.py:19: UserWarning: /Volumes/Flodrive/Florence/smFISH/analysis/20241029-exp24/exp24-GLU-right-2_03/DIC_masks_with_dapi.tif is a low contrast image\n",
      "  io.imsave(Path(img['cellmaskfile']).parent / 'DIC_masks_with_dapi.tif', cell_masks_with_dapi)\n"
     ]
    },
    {
     "name": "stdout",
     "output_type": "stream",
     "text": [
      "Selected: exp24-GLU-right-2_04\n",
      "\t#cell masks after segmentation : 277\n",
      "removing 115 cells with no dapi signal\n",
      "\t#cell masks that have some dapi: 162\n"
     ]
    },
    {
     "name": "stderr",
     "output_type": "stream",
     "text": [
      "/var/folders/pp/cdyfs0g13j3_15mc99_0nfmh0000gn/T/ipykernel_11254/2403115704.py:19: UserWarning: /Volumes/Flodrive/Florence/smFISH/analysis/20241029-exp24/exp24-GLU-right-2_04/DIC_masks_with_dapi.tif is a low contrast image\n",
      "  io.imsave(Path(img['cellmaskfile']).parent / 'DIC_masks_with_dapi.tif', cell_masks_with_dapi)\n"
     ]
    },
    {
     "name": "stdout",
     "output_type": "stream",
     "text": [
      "Selected: exp24-GLU-right-2_05\n",
      "\t#cell masks after segmentation : 848\n",
      "removing 106 cells with no dapi signal\n",
      "\t#cell masks that have some dapi: 742\n"
     ]
    },
    {
     "name": "stderr",
     "output_type": "stream",
     "text": [
      "/var/folders/pp/cdyfs0g13j3_15mc99_0nfmh0000gn/T/ipykernel_11254/2403115704.py:19: UserWarning: /Volumes/Flodrive/Florence/smFISH/analysis/20241029-exp24/exp24-GLU-right-2_05/DIC_masks_with_dapi.tif is a low contrast image\n",
      "  io.imsave(Path(img['cellmaskfile']).parent / 'DIC_masks_with_dapi.tif', cell_masks_with_dapi)\n"
     ]
    },
    {
     "name": "stdout",
     "output_type": "stream",
     "text": [
      "Selected: exp24-GLY-left_02\n",
      "\t#cell masks after segmentation : 688\n",
      "removing 101 cells with no dapi signal\n",
      "\t#cell masks that have some dapi: 587\n"
     ]
    },
    {
     "name": "stderr",
     "output_type": "stream",
     "text": [
      "/var/folders/pp/cdyfs0g13j3_15mc99_0nfmh0000gn/T/ipykernel_11254/2403115704.py:19: UserWarning: /Volumes/Flodrive/Florence/smFISH/analysis/20241029-exp24/exp24-GLY-left_02/DIC_masks_with_dapi.tif is a low contrast image\n",
      "  io.imsave(Path(img['cellmaskfile']).parent / 'DIC_masks_with_dapi.tif', cell_masks_with_dapi)\n"
     ]
    },
    {
     "name": "stdout",
     "output_type": "stream",
     "text": [
      "Selected: exp24-GLY-left_03\n",
      "\t#cell masks after segmentation : 1230\n",
      "removing 219 cells with no dapi signal\n",
      "\t#cell masks that have some dapi: 1011\n"
     ]
    },
    {
     "name": "stderr",
     "output_type": "stream",
     "text": [
      "/var/folders/pp/cdyfs0g13j3_15mc99_0nfmh0000gn/T/ipykernel_11254/2403115704.py:19: UserWarning: /Volumes/Flodrive/Florence/smFISH/analysis/20241029-exp24/exp24-GLY-left_03/DIC_masks_with_dapi.tif is a low contrast image\n",
      "  io.imsave(Path(img['cellmaskfile']).parent / 'DIC_masks_with_dapi.tif', cell_masks_with_dapi)\n"
     ]
    },
    {
     "name": "stdout",
     "output_type": "stream",
     "text": [
      "Selected: exp24-GLY-left_06\n",
      "\t#cell masks after segmentation : 773\n",
      "removing 117 cells with no dapi signal\n",
      "\t#cell masks that have some dapi: 656\n"
     ]
    },
    {
     "name": "stderr",
     "output_type": "stream",
     "text": [
      "/var/folders/pp/cdyfs0g13j3_15mc99_0nfmh0000gn/T/ipykernel_11254/2403115704.py:19: UserWarning: /Volumes/Flodrive/Florence/smFISH/analysis/20241029-exp24/exp24-GLY-left_06/DIC_masks_with_dapi.tif is a low contrast image\n",
      "  io.imsave(Path(img['cellmaskfile']).parent / 'DIC_masks_with_dapi.tif', cell_masks_with_dapi)\n"
     ]
    },
    {
     "name": "stdout",
     "output_type": "stream",
     "text": [
      "Selected: exp24-GLY-left_10\n",
      "\t#cell masks after segmentation : 1091\n",
      "removing 72 cells with no dapi signal\n",
      "\t#cell masks that have some dapi: 1019\n"
     ]
    },
    {
     "name": "stderr",
     "output_type": "stream",
     "text": [
      "/var/folders/pp/cdyfs0g13j3_15mc99_0nfmh0000gn/T/ipykernel_11254/2403115704.py:19: UserWarning: /Volumes/Flodrive/Florence/smFISH/analysis/20241029-exp24/exp24-GLY-left_10/DIC_masks_with_dapi.tif is a low contrast image\n",
      "  io.imsave(Path(img['cellmaskfile']).parent / 'DIC_masks_with_dapi.tif', cell_masks_with_dapi)\n"
     ]
    },
    {
     "name": "stdout",
     "output_type": "stream",
     "text": [
      "Config file from: /Volumes/Flodrive/Florence/smFISH/analysis/20241029-exp22\n",
      "\t/Volumes/Flodrive/Florence/smFISH/analysis/20241029-exp22/config-detection.json ->\n",
      "\t/Volumes/Flodrive/Florence/smFISH/analysis/20241029-exp22/config-detection-processed.json\n",
      "Selected: exp22-GLU_01\n",
      "\t#cell masks after segmentation : 209\n",
      "removing 54 cells with no dapi signal\n",
      "\t#cell masks that have some dapi: 155\n",
      "Selected: exp22-GLU_02\n",
      "\t#cell masks after segmentation : 167\n",
      "removing 60 cells with no dapi signal\n",
      "\t#cell masks that have some dapi: 107\n",
      "Selected: exp22-GLU_03\n",
      "\t#cell masks after segmentation : 265\n",
      "removing 68 cells with no dapi signal\n",
      "\t#cell masks that have some dapi: 197\n"
     ]
    },
    {
     "name": "stderr",
     "output_type": "stream",
     "text": [
      "/var/folders/pp/cdyfs0g13j3_15mc99_0nfmh0000gn/T/ipykernel_11254/2403115704.py:19: UserWarning: /Volumes/Flodrive/Florence/smFISH/analysis/20241029-exp22/exp22-GLU_03/DIC_masks_with_dapi.tif is a low contrast image\n",
      "  io.imsave(Path(img['cellmaskfile']).parent / 'DIC_masks_with_dapi.tif', cell_masks_with_dapi)\n"
     ]
    },
    {
     "name": "stdout",
     "output_type": "stream",
     "text": [
      "Selected: exp22-GLU_04\n",
      "\t#cell masks after segmentation : 176\n",
      "removing 17 cells with no dapi signal\n",
      "\t#cell masks that have some dapi: 159\n",
      "Selected: exp22-GLU_05\n",
      "\t#cell masks after segmentation : 171\n",
      "removing 34 cells with no dapi signal\n",
      "\t#cell masks that have some dapi: 137\n",
      "Selected: exp22-GLU_06\n",
      "\t#cell masks after segmentation : 267\n",
      "removing 82 cells with no dapi signal\n",
      "\t#cell masks that have some dapi: 185\n"
     ]
    },
    {
     "name": "stderr",
     "output_type": "stream",
     "text": [
      "/var/folders/pp/cdyfs0g13j3_15mc99_0nfmh0000gn/T/ipykernel_11254/2403115704.py:19: UserWarning: /Volumes/Flodrive/Florence/smFISH/analysis/20241029-exp22/exp22-GLU_06/DIC_masks_with_dapi.tif is a low contrast image\n",
      "  io.imsave(Path(img['cellmaskfile']).parent / 'DIC_masks_with_dapi.tif', cell_masks_with_dapi)\n"
     ]
    },
    {
     "name": "stdout",
     "output_type": "stream",
     "text": [
      "Selected: exp22-GLU_07\n",
      "\t#cell masks after segmentation : 183\n",
      "removing 40 cells with no dapi signal\n",
      "\t#cell masks that have some dapi: 143\n",
      "Selected: exp22-GLU_08\n",
      "\t#cell masks after segmentation : 337\n",
      "removing 118 cells with no dapi signal\n",
      "\t#cell masks that have some dapi: 219\n"
     ]
    },
    {
     "name": "stderr",
     "output_type": "stream",
     "text": [
      "/var/folders/pp/cdyfs0g13j3_15mc99_0nfmh0000gn/T/ipykernel_11254/2403115704.py:19: UserWarning: /Volumes/Flodrive/Florence/smFISH/analysis/20241029-exp22/exp22-GLU_08/DIC_masks_with_dapi.tif is a low contrast image\n",
      "  io.imsave(Path(img['cellmaskfile']).parent / 'DIC_masks_with_dapi.tif', cell_masks_with_dapi)\n"
     ]
    },
    {
     "name": "stdout",
     "output_type": "stream",
     "text": [
      "Selected: exp22-GLU_09\n",
      "\t#cell masks after segmentation : 554\n",
      "removing 128 cells with no dapi signal\n",
      "\t#cell masks that have some dapi: 426\n"
     ]
    },
    {
     "name": "stderr",
     "output_type": "stream",
     "text": [
      "/var/folders/pp/cdyfs0g13j3_15mc99_0nfmh0000gn/T/ipykernel_11254/2403115704.py:19: UserWarning: /Volumes/Flodrive/Florence/smFISH/analysis/20241029-exp22/exp22-GLU_09/DIC_masks_with_dapi.tif is a low contrast image\n",
      "  io.imsave(Path(img['cellmaskfile']).parent / 'DIC_masks_with_dapi.tif', cell_masks_with_dapi)\n"
     ]
    },
    {
     "name": "stdout",
     "output_type": "stream",
     "text": [
      "Selected: exp22-GLU_10\n",
      "\t#cell masks after segmentation : 378\n",
      "removing 182 cells with no dapi signal\n",
      "\t#cell masks that have some dapi: 196\n"
     ]
    },
    {
     "name": "stderr",
     "output_type": "stream",
     "text": [
      "/var/folders/pp/cdyfs0g13j3_15mc99_0nfmh0000gn/T/ipykernel_11254/2403115704.py:19: UserWarning: /Volumes/Flodrive/Florence/smFISH/analysis/20241029-exp22/exp22-GLU_10/DIC_masks_with_dapi.tif is a low contrast image\n",
      "  io.imsave(Path(img['cellmaskfile']).parent / 'DIC_masks_with_dapi.tif', cell_masks_with_dapi)\n"
     ]
    },
    {
     "name": "stdout",
     "output_type": "stream",
     "text": [
      "Selected: exp22-GLY_03\n",
      "\t#cell masks after segmentation : 624\n",
      "removing 111 cells with no dapi signal\n",
      "\t#cell masks that have some dapi: 513\n"
     ]
    },
    {
     "name": "stderr",
     "output_type": "stream",
     "text": [
      "/var/folders/pp/cdyfs0g13j3_15mc99_0nfmh0000gn/T/ipykernel_11254/2403115704.py:19: UserWarning: /Volumes/Flodrive/Florence/smFISH/analysis/20241029-exp22/exp22-GLY_03/DIC_masks_with_dapi.tif is a low contrast image\n",
      "  io.imsave(Path(img['cellmaskfile']).parent / 'DIC_masks_with_dapi.tif', cell_masks_with_dapi)\n"
     ]
    },
    {
     "name": "stdout",
     "output_type": "stream",
     "text": [
      "Selected: exp22-GLY_05\n",
      "\t#cell masks after segmentation : 294\n",
      "removing 122 cells with no dapi signal\n",
      "\t#cell masks that have some dapi: 172\n"
     ]
    },
    {
     "name": "stderr",
     "output_type": "stream",
     "text": [
      "/var/folders/pp/cdyfs0g13j3_15mc99_0nfmh0000gn/T/ipykernel_11254/2403115704.py:19: UserWarning: /Volumes/Flodrive/Florence/smFISH/analysis/20241029-exp22/exp22-GLY_05/DIC_masks_with_dapi.tif is a low contrast image\n",
      "  io.imsave(Path(img['cellmaskfile']).parent / 'DIC_masks_with_dapi.tif', cell_masks_with_dapi)\n"
     ]
    },
    {
     "name": "stdout",
     "output_type": "stream",
     "text": [
      "Selected: exp22-GLY_06\n",
      "\t#cell masks after segmentation : 445\n",
      "removing 105 cells with no dapi signal\n",
      "\t#cell masks that have some dapi: 340\n"
     ]
    },
    {
     "name": "stderr",
     "output_type": "stream",
     "text": [
      "/var/folders/pp/cdyfs0g13j3_15mc99_0nfmh0000gn/T/ipykernel_11254/2403115704.py:19: UserWarning: /Volumes/Flodrive/Florence/smFISH/analysis/20241029-exp22/exp22-GLY_06/DIC_masks_with_dapi.tif is a low contrast image\n",
      "  io.imsave(Path(img['cellmaskfile']).parent / 'DIC_masks_with_dapi.tif', cell_masks_with_dapi)\n"
     ]
    },
    {
     "name": "stdout",
     "output_type": "stream",
     "text": [
      "Selected: exp22-GLY_07\n",
      "\t#cell masks after segmentation : 339\n",
      "removing 122 cells with no dapi signal\n",
      "\t#cell masks that have some dapi: 217\n"
     ]
    },
    {
     "name": "stderr",
     "output_type": "stream",
     "text": [
      "/var/folders/pp/cdyfs0g13j3_15mc99_0nfmh0000gn/T/ipykernel_11254/2403115704.py:19: UserWarning: /Volumes/Flodrive/Florence/smFISH/analysis/20241029-exp22/exp22-GLY_07/DIC_masks_with_dapi.tif is a low contrast image\n",
      "  io.imsave(Path(img['cellmaskfile']).parent / 'DIC_masks_with_dapi.tif', cell_masks_with_dapi)\n"
     ]
    },
    {
     "name": "stdout",
     "output_type": "stream",
     "text": [
      "Selected: exp22-GLY_08\n",
      "\t#cell masks after segmentation : 292\n",
      "removing 96 cells with no dapi signal\n",
      "\t#cell masks that have some dapi: 196\n"
     ]
    },
    {
     "name": "stderr",
     "output_type": "stream",
     "text": [
      "/var/folders/pp/cdyfs0g13j3_15mc99_0nfmh0000gn/T/ipykernel_11254/2403115704.py:19: UserWarning: /Volumes/Flodrive/Florence/smFISH/analysis/20241029-exp22/exp22-GLY_08/DIC_masks_with_dapi.tif is a low contrast image\n",
      "  io.imsave(Path(img['cellmaskfile']).parent / 'DIC_masks_with_dapi.tif', cell_masks_with_dapi)\n"
     ]
    },
    {
     "name": "stdout",
     "output_type": "stream",
     "text": [
      "Selected: exp22-GLY_09\n",
      "\t#cell masks after segmentation : 2770\n",
      "removing 358 cells with no dapi signal\n",
      "\t#cell masks that have some dapi: 2412\n"
     ]
    },
    {
     "name": "stderr",
     "output_type": "stream",
     "text": [
      "/var/folders/pp/cdyfs0g13j3_15mc99_0nfmh0000gn/T/ipykernel_11254/2403115704.py:19: UserWarning: /Volumes/Flodrive/Florence/smFISH/analysis/20241029-exp22/exp22-GLY_09/DIC_masks_with_dapi.tif is a low contrast image\n",
      "  io.imsave(Path(img['cellmaskfile']).parent / 'DIC_masks_with_dapi.tif', cell_masks_with_dapi)\n"
     ]
    },
    {
     "name": "stdout",
     "output_type": "stream",
     "text": [
      "Selected: exp22-GLY_10\n",
      "\t#cell masks after segmentation : 414\n",
      "removing 137 cells with no dapi signal\n",
      "\t#cell masks that have some dapi: 277\n"
     ]
    },
    {
     "name": "stderr",
     "output_type": "stream",
     "text": [
      "/var/folders/pp/cdyfs0g13j3_15mc99_0nfmh0000gn/T/ipykernel_11254/2403115704.py:19: UserWarning: /Volumes/Flodrive/Florence/smFISH/analysis/20241029-exp22/exp22-GLY_10/DIC_masks_with_dapi.tif is a low contrast image\n",
      "  io.imsave(Path(img['cellmaskfile']).parent / 'DIC_masks_with_dapi.tif', cell_masks_with_dapi)\n"
     ]
    },
    {
     "name": "stdout",
     "output_type": "stream",
     "text": [
      "Selected: exp22-GAL_01\n",
      "\t#cell masks after segmentation : 1124\n",
      "removing 58 cells with no dapi signal\n",
      "\t#cell masks that have some dapi: 1066\n"
     ]
    },
    {
     "name": "stderr",
     "output_type": "stream",
     "text": [
      "/var/folders/pp/cdyfs0g13j3_15mc99_0nfmh0000gn/T/ipykernel_11254/2403115704.py:19: UserWarning: /Volumes/Flodrive/Florence/smFISH/analysis/20241029-exp22/exp22-GAL_01/DIC_masks_with_dapi.tif is a low contrast image\n",
      "  io.imsave(Path(img['cellmaskfile']).parent / 'DIC_masks_with_dapi.tif', cell_masks_with_dapi)\n"
     ]
    },
    {
     "name": "stdout",
     "output_type": "stream",
     "text": [
      "Selected: exp22-GAL_03\n",
      "\t#cell masks after segmentation : 1999\n",
      "removing 166 cells with no dapi signal\n",
      "\t#cell masks that have some dapi: 1833\n"
     ]
    },
    {
     "name": "stderr",
     "output_type": "stream",
     "text": [
      "/var/folders/pp/cdyfs0g13j3_15mc99_0nfmh0000gn/T/ipykernel_11254/2403115704.py:19: UserWarning: /Volumes/Flodrive/Florence/smFISH/analysis/20241029-exp22/exp22-GAL_03/DIC_masks_with_dapi.tif is a low contrast image\n",
      "  io.imsave(Path(img['cellmaskfile']).parent / 'DIC_masks_with_dapi.tif', cell_masks_with_dapi)\n"
     ]
    },
    {
     "name": "stdout",
     "output_type": "stream",
     "text": [
      "Selected: exp22-GAL_04\n",
      "\t#cell masks after segmentation : 1290\n",
      "removing 159 cells with no dapi signal\n",
      "\t#cell masks that have some dapi: 1131\n"
     ]
    },
    {
     "name": "stderr",
     "output_type": "stream",
     "text": [
      "/var/folders/pp/cdyfs0g13j3_15mc99_0nfmh0000gn/T/ipykernel_11254/2403115704.py:19: UserWarning: /Volumes/Flodrive/Florence/smFISH/analysis/20241029-exp22/exp22-GAL_04/DIC_masks_with_dapi.tif is a low contrast image\n",
      "  io.imsave(Path(img['cellmaskfile']).parent / 'DIC_masks_with_dapi.tif', cell_masks_with_dapi)\n"
     ]
    },
    {
     "name": "stdout",
     "output_type": "stream",
     "text": [
      "Selected: exp22-GAL_07\n",
      "\t#cell masks after segmentation : 990\n",
      "removing 38 cells with no dapi signal\n",
      "\t#cell masks that have some dapi: 952\n"
     ]
    },
    {
     "name": "stderr",
     "output_type": "stream",
     "text": [
      "/var/folders/pp/cdyfs0g13j3_15mc99_0nfmh0000gn/T/ipykernel_11254/2403115704.py:19: UserWarning: /Volumes/Flodrive/Florence/smFISH/analysis/20241029-exp22/exp22-GAL_07/DIC_masks_with_dapi.tif is a low contrast image\n",
      "  io.imsave(Path(img['cellmaskfile']).parent / 'DIC_masks_with_dapi.tif', cell_masks_with_dapi)\n"
     ]
    },
    {
     "name": "stdout",
     "output_type": "stream",
     "text": [
      "Selected: exp22-GAL_08\n",
      "\t#cell masks after segmentation : 965\n",
      "removing 46 cells with no dapi signal\n",
      "\t#cell masks that have some dapi: 919\n"
     ]
    },
    {
     "name": "stderr",
     "output_type": "stream",
     "text": [
      "/var/folders/pp/cdyfs0g13j3_15mc99_0nfmh0000gn/T/ipykernel_11254/2403115704.py:19: UserWarning: /Volumes/Flodrive/Florence/smFISH/analysis/20241029-exp22/exp22-GAL_08/DIC_masks_with_dapi.tif is a low contrast image\n",
      "  io.imsave(Path(img['cellmaskfile']).parent / 'DIC_masks_with_dapi.tif', cell_masks_with_dapi)\n"
     ]
    },
    {
     "name": "stdout",
     "output_type": "stream",
     "text": [
      "Selected: exp22-GAL_09\n",
      "\t#cell masks after segmentation : 775\n",
      "removing 62 cells with no dapi signal\n",
      "\t#cell masks that have some dapi: 713\n"
     ]
    },
    {
     "name": "stderr",
     "output_type": "stream",
     "text": [
      "/var/folders/pp/cdyfs0g13j3_15mc99_0nfmh0000gn/T/ipykernel_11254/2403115704.py:19: UserWarning: /Volumes/Flodrive/Florence/smFISH/analysis/20241029-exp22/exp22-GAL_09/DIC_masks_with_dapi.tif is a low contrast image\n",
      "  io.imsave(Path(img['cellmaskfile']).parent / 'DIC_masks_with_dapi.tif', cell_masks_with_dapi)\n"
     ]
    },
    {
     "name": "stdout",
     "output_type": "stream",
     "text": [
      "Selected: exp22-GAL_10\n",
      "\t#cell masks after segmentation : 744\n",
      "removing 62 cells with no dapi signal\n",
      "\t#cell masks that have some dapi: 682\n"
     ]
    },
    {
     "name": "stderr",
     "output_type": "stream",
     "text": [
      "/var/folders/pp/cdyfs0g13j3_15mc99_0nfmh0000gn/T/ipykernel_11254/2403115704.py:19: UserWarning: /Volumes/Flodrive/Florence/smFISH/analysis/20241029-exp22/exp22-GAL_10/DIC_masks_with_dapi.tif is a low contrast image\n",
      "  io.imsave(Path(img['cellmaskfile']).parent / 'DIC_masks_with_dapi.tif', cell_masks_with_dapi)\n"
     ]
    },
    {
     "name": "stdout",
     "output_type": "stream",
     "text": [
      "Selected: exp22-MAN_01\n",
      "\t#cell masks after segmentation : 861\n",
      "removing 79 cells with no dapi signal\n",
      "\t#cell masks that have some dapi: 782\n"
     ]
    },
    {
     "name": "stderr",
     "output_type": "stream",
     "text": [
      "/var/folders/pp/cdyfs0g13j3_15mc99_0nfmh0000gn/T/ipykernel_11254/2403115704.py:19: UserWarning: /Volumes/Flodrive/Florence/smFISH/analysis/20241029-exp22/exp22-MAN_01/DIC_masks_with_dapi.tif is a low contrast image\n",
      "  io.imsave(Path(img['cellmaskfile']).parent / 'DIC_masks_with_dapi.tif', cell_masks_with_dapi)\n"
     ]
    },
    {
     "name": "stdout",
     "output_type": "stream",
     "text": [
      "Selected: exp22-MAN_02\n",
      "\t#cell masks after segmentation : 973\n",
      "removing 118 cells with no dapi signal\n",
      "\t#cell masks that have some dapi: 855\n"
     ]
    },
    {
     "name": "stderr",
     "output_type": "stream",
     "text": [
      "/var/folders/pp/cdyfs0g13j3_15mc99_0nfmh0000gn/T/ipykernel_11254/2403115704.py:19: UserWarning: /Volumes/Flodrive/Florence/smFISH/analysis/20241029-exp22/exp22-MAN_02/DIC_masks_with_dapi.tif is a low contrast image\n",
      "  io.imsave(Path(img['cellmaskfile']).parent / 'DIC_masks_with_dapi.tif', cell_masks_with_dapi)\n"
     ]
    },
    {
     "name": "stdout",
     "output_type": "stream",
     "text": [
      "Selected: exp22-MAN_03\n",
      "\t#cell masks after segmentation : 1190\n",
      "removing 181 cells with no dapi signal\n",
      "\t#cell masks that have some dapi: 1009\n"
     ]
    },
    {
     "name": "stderr",
     "output_type": "stream",
     "text": [
      "/var/folders/pp/cdyfs0g13j3_15mc99_0nfmh0000gn/T/ipykernel_11254/2403115704.py:19: UserWarning: /Volumes/Flodrive/Florence/smFISH/analysis/20241029-exp22/exp22-MAN_03/DIC_masks_with_dapi.tif is a low contrast image\n",
      "  io.imsave(Path(img['cellmaskfile']).parent / 'DIC_masks_with_dapi.tif', cell_masks_with_dapi)\n"
     ]
    },
    {
     "name": "stdout",
     "output_type": "stream",
     "text": [
      "Selected: exp22-MAN_05\n",
      "\t#cell masks after segmentation : 861\n",
      "removing 108 cells with no dapi signal\n",
      "\t#cell masks that have some dapi: 753\n"
     ]
    },
    {
     "name": "stderr",
     "output_type": "stream",
     "text": [
      "/var/folders/pp/cdyfs0g13j3_15mc99_0nfmh0000gn/T/ipykernel_11254/2403115704.py:19: UserWarning: /Volumes/Flodrive/Florence/smFISH/analysis/20241029-exp22/exp22-MAN_05/DIC_masks_with_dapi.tif is a low contrast image\n",
      "  io.imsave(Path(img['cellmaskfile']).parent / 'DIC_masks_with_dapi.tif', cell_masks_with_dapi)\n"
     ]
    },
    {
     "name": "stdout",
     "output_type": "stream",
     "text": [
      "Selected: exp22-MAN_06\n",
      "\t#cell masks after segmentation : 1279\n",
      "removing 115 cells with no dapi signal\n",
      "\t#cell masks that have some dapi: 1164\n"
     ]
    },
    {
     "name": "stderr",
     "output_type": "stream",
     "text": [
      "/var/folders/pp/cdyfs0g13j3_15mc99_0nfmh0000gn/T/ipykernel_11254/2403115704.py:19: UserWarning: /Volumes/Flodrive/Florence/smFISH/analysis/20241029-exp22/exp22-MAN_06/DIC_masks_with_dapi.tif is a low contrast image\n",
      "  io.imsave(Path(img['cellmaskfile']).parent / 'DIC_masks_with_dapi.tif', cell_masks_with_dapi)\n"
     ]
    },
    {
     "name": "stdout",
     "output_type": "stream",
     "text": [
      "Selected: exp22-MAN_07\n",
      "\t#cell masks after segmentation : 970\n",
      "removing 117 cells with no dapi signal\n",
      "\t#cell masks that have some dapi: 853\n"
     ]
    },
    {
     "name": "stderr",
     "output_type": "stream",
     "text": [
      "/var/folders/pp/cdyfs0g13j3_15mc99_0nfmh0000gn/T/ipykernel_11254/2403115704.py:19: UserWarning: /Volumes/Flodrive/Florence/smFISH/analysis/20241029-exp22/exp22-MAN_07/DIC_masks_with_dapi.tif is a low contrast image\n",
      "  io.imsave(Path(img['cellmaskfile']).parent / 'DIC_masks_with_dapi.tif', cell_masks_with_dapi)\n"
     ]
    },
    {
     "name": "stdout",
     "output_type": "stream",
     "text": [
      "Selected: exp22-MAN_08\n",
      "\t#cell masks after segmentation : 1028\n",
      "removing 175 cells with no dapi signal\n",
      "\t#cell masks that have some dapi: 853\n"
     ]
    },
    {
     "name": "stderr",
     "output_type": "stream",
     "text": [
      "/var/folders/pp/cdyfs0g13j3_15mc99_0nfmh0000gn/T/ipykernel_11254/2403115704.py:19: UserWarning: /Volumes/Flodrive/Florence/smFISH/analysis/20241029-exp22/exp22-MAN_08/DIC_masks_with_dapi.tif is a low contrast image\n",
      "  io.imsave(Path(img['cellmaskfile']).parent / 'DIC_masks_with_dapi.tif', cell_masks_with_dapi)\n"
     ]
    },
    {
     "name": "stdout",
     "output_type": "stream",
     "text": [
      "Selected: exp22-MAN_09\n",
      "\t#cell masks after segmentation : 886\n",
      "removing 64 cells with no dapi signal\n",
      "\t#cell masks that have some dapi: 822\n"
     ]
    },
    {
     "name": "stderr",
     "output_type": "stream",
     "text": [
      "/var/folders/pp/cdyfs0g13j3_15mc99_0nfmh0000gn/T/ipykernel_11254/2403115704.py:19: UserWarning: /Volumes/Flodrive/Florence/smFISH/analysis/20241029-exp22/exp22-MAN_09/DIC_masks_with_dapi.tif is a low contrast image\n",
      "  io.imsave(Path(img['cellmaskfile']).parent / 'DIC_masks_with_dapi.tif', cell_masks_with_dapi)\n"
     ]
    },
    {
     "name": "stdout",
     "output_type": "stream",
     "text": [
      "Selected: exp22-MAN_10\n",
      "\t#cell masks after segmentation : 928\n",
      "removing 106 cells with no dapi signal\n",
      "\t#cell masks that have some dapi: 822\n"
     ]
    },
    {
     "name": "stderr",
     "output_type": "stream",
     "text": [
      "/var/folders/pp/cdyfs0g13j3_15mc99_0nfmh0000gn/T/ipykernel_11254/2403115704.py:19: UserWarning: /Volumes/Flodrive/Florence/smFISH/analysis/20241029-exp22/exp22-MAN_10/DIC_masks_with_dapi.tif is a low contrast image\n",
      "  io.imsave(Path(img['cellmaskfile']).parent / 'DIC_masks_with_dapi.tif', cell_masks_with_dapi)\n"
     ]
    },
    {
     "name": "stdout",
     "output_type": "stream",
     "text": [
      "Config file from: /Volumes/Flodrive/Florence/smFISH/analysis/20241003-exp16\n",
      "\t/Volumes/Flodrive/Florence/smFISH/analysis/20241003-exp16/config-detection.json ->\n",
      "\t/Volumes/Flodrive/Florence/smFISH/analysis/20241003-exp16/config-detection-processed.json\n",
      "Selected: MG1655_GAL-lowOD-2nd_06\n",
      "\t#cell masks after segmentation : 873\n",
      "removing 261 cells with no dapi signal\n",
      "\t#cell masks that have some dapi: 612\n",
      "Selected: MG1655_GAL-lowOD-2nd_09\n"
     ]
    },
    {
     "name": "stderr",
     "output_type": "stream",
     "text": [
      "/var/folders/pp/cdyfs0g13j3_15mc99_0nfmh0000gn/T/ipykernel_11254/2403115704.py:19: UserWarning: /Volumes/Flodrive/Florence/smFISH/analysis/20241003-exp16/MG1655_GAL-lowOD-2nd_06/DIC_masks_with_dapi.tif is a low contrast image\n",
      "  io.imsave(Path(img['cellmaskfile']).parent / 'DIC_masks_with_dapi.tif', cell_masks_with_dapi)\n"
     ]
    },
    {
     "name": "stdout",
     "output_type": "stream",
     "text": [
      "\t#cell masks after segmentation : 425\n",
      "removing 263 cells with no dapi signal\n",
      "\t#cell masks that have some dapi: 162\n"
     ]
    },
    {
     "name": "stderr",
     "output_type": "stream",
     "text": [
      "/var/folders/pp/cdyfs0g13j3_15mc99_0nfmh0000gn/T/ipykernel_11254/2403115704.py:19: UserWarning: /Volumes/Flodrive/Florence/smFISH/analysis/20241003-exp16/MG1655_GAL-lowOD-2nd_09/DIC_masks_with_dapi.tif is a low contrast image\n",
      "  io.imsave(Path(img['cellmaskfile']).parent / 'DIC_masks_with_dapi.tif', cell_masks_with_dapi)\n"
     ]
    },
    {
     "name": "stdout",
     "output_type": "stream",
     "text": [
      "Selected: MG1655_GLY-lowOD-2nd_01\n",
      "\t#cell masks after segmentation : 248\n",
      "removing 114 cells with no dapi signal\n",
      "\t#cell masks that have some dapi: 134\n",
      "Selected: MG1655_GLY-lowOD-2nd_02\n",
      "\t#cell masks after segmentation : 303\n",
      "removing 223 cells with no dapi signal\n",
      "\t#cell masks that have some dapi: 80\n"
     ]
    },
    {
     "name": "stderr",
     "output_type": "stream",
     "text": [
      "/var/folders/pp/cdyfs0g13j3_15mc99_0nfmh0000gn/T/ipykernel_11254/2403115704.py:19: UserWarning: /Volumes/Flodrive/Florence/smFISH/analysis/20241003-exp16/MG1655_GLY-lowOD-2nd_02/DIC_masks_with_dapi.tif is a low contrast image\n",
      "  io.imsave(Path(img['cellmaskfile']).parent / 'DIC_masks_with_dapi.tif', cell_masks_with_dapi)\n"
     ]
    },
    {
     "name": "stdout",
     "output_type": "stream",
     "text": [
      "Selected: MG1655_GLY-lowOD-2nd_09\n",
      "\t#cell masks after segmentation : 3277\n",
      "removing 1025 cells with no dapi signal\n",
      "\t#cell masks that have some dapi: 2252\n"
     ]
    },
    {
     "name": "stderr",
     "output_type": "stream",
     "text": [
      "/var/folders/pp/cdyfs0g13j3_15mc99_0nfmh0000gn/T/ipykernel_11254/2403115704.py:19: UserWarning: /Volumes/Flodrive/Florence/smFISH/analysis/20241003-exp16/MG1655_GLY-lowOD-2nd_09/DIC_masks_with_dapi.tif is a low contrast image\n",
      "  io.imsave(Path(img['cellmaskfile']).parent / 'DIC_masks_with_dapi.tif', cell_masks_with_dapi)\n"
     ]
    },
    {
     "name": "stdout",
     "output_type": "stream",
     "text": [
      "Selected: MG1655_GLY-lowOD-2nd_13\n",
      "\t#cell masks after segmentation : 765\n",
      "removing 557 cells with no dapi signal\n",
      "\t#cell masks that have some dapi: 208\n"
     ]
    },
    {
     "name": "stderr",
     "output_type": "stream",
     "text": [
      "/var/folders/pp/cdyfs0g13j3_15mc99_0nfmh0000gn/T/ipykernel_11254/2403115704.py:19: UserWarning: /Volumes/Flodrive/Florence/smFISH/analysis/20241003-exp16/MG1655_GLY-lowOD-2nd_13/DIC_masks_with_dapi.tif is a low contrast image\n",
      "  io.imsave(Path(img['cellmaskfile']).parent / 'DIC_masks_with_dapi.tif', cell_masks_with_dapi)\n"
     ]
    },
    {
     "name": "stdout",
     "output_type": "stream",
     "text": [
      "Config file from: /Volumes/Flodrive/Florence/smFISH/analysis/20240927-exp16\n",
      "\t/Volumes/Flodrive/Florence/smFISH/analysis/20240927-exp16/config-detection.json ->\n",
      "\t/Volumes/Flodrive/Florence/smFISH/analysis/20240927-exp16/config-detection-processed.json\n",
      "Selected: MG1655_GLU_OD_0.3_left_02\n",
      "\t#cell masks after segmentation : 2406\n",
      "removing 31 cells with no dapi signal\n",
      "\t#cell masks that have some dapi: 2375\n"
     ]
    },
    {
     "name": "stderr",
     "output_type": "stream",
     "text": [
      "/var/folders/pp/cdyfs0g13j3_15mc99_0nfmh0000gn/T/ipykernel_11254/2403115704.py:19: UserWarning: /Volumes/Flodrive/Florence/smFISH/analysis/20240927-exp16/MG1655_GLU_OD_0.3_left_02/DIC_masks_with_dapi.tif is a low contrast image\n",
      "  io.imsave(Path(img['cellmaskfile']).parent / 'DIC_masks_with_dapi.tif', cell_masks_with_dapi)\n"
     ]
    },
    {
     "name": "stdout",
     "output_type": "stream",
     "text": [
      "Selected: MG1655_GLU_OD_0.3_left_03\n",
      "\t#cell masks after segmentation : 2099\n",
      "removing 44 cells with no dapi signal\n",
      "\t#cell masks that have some dapi: 2055\n"
     ]
    },
    {
     "name": "stderr",
     "output_type": "stream",
     "text": [
      "/var/folders/pp/cdyfs0g13j3_15mc99_0nfmh0000gn/T/ipykernel_11254/2403115704.py:19: UserWarning: /Volumes/Flodrive/Florence/smFISH/analysis/20240927-exp16/MG1655_GLU_OD_0.3_left_03/DIC_masks_with_dapi.tif is a low contrast image\n",
      "  io.imsave(Path(img['cellmaskfile']).parent / 'DIC_masks_with_dapi.tif', cell_masks_with_dapi)\n"
     ]
    },
    {
     "name": "stdout",
     "output_type": "stream",
     "text": [
      "Selected: MG1655_GLU_OD_0.3_left_04\n",
      "\t#cell masks after segmentation : 1551\n",
      "removing 36 cells with no dapi signal\n",
      "\t#cell masks that have some dapi: 1515\n"
     ]
    },
    {
     "name": "stderr",
     "output_type": "stream",
     "text": [
      "/var/folders/pp/cdyfs0g13j3_15mc99_0nfmh0000gn/T/ipykernel_11254/2403115704.py:19: UserWarning: /Volumes/Flodrive/Florence/smFISH/analysis/20240927-exp16/MG1655_GLU_OD_0.3_left_04/DIC_masks_with_dapi.tif is a low contrast image\n",
      "  io.imsave(Path(img['cellmaskfile']).parent / 'DIC_masks_with_dapi.tif', cell_masks_with_dapi)\n"
     ]
    },
    {
     "name": "stdout",
     "output_type": "stream",
     "text": [
      "Selected: MG1655_GLU_OD_0.3_left_05\n",
      "\t#cell masks after segmentation : 2564\n",
      "removing 21 cells with no dapi signal\n",
      "\t#cell masks that have some dapi: 2543\n"
     ]
    },
    {
     "name": "stderr",
     "output_type": "stream",
     "text": [
      "/var/folders/pp/cdyfs0g13j3_15mc99_0nfmh0000gn/T/ipykernel_11254/2403115704.py:19: UserWarning: /Volumes/Flodrive/Florence/smFISH/analysis/20240927-exp16/MG1655_GLU_OD_0.3_left_05/DIC_masks_with_dapi.tif is a low contrast image\n",
      "  io.imsave(Path(img['cellmaskfile']).parent / 'DIC_masks_with_dapi.tif', cell_masks_with_dapi)\n"
     ]
    },
    {
     "name": "stdout",
     "output_type": "stream",
     "text": [
      "Selected: MG1655_GLY_OD_0.3_right_01\n",
      "\t#cell masks after segmentation : 130\n",
      "removing 111 cells with no dapi signal\n",
      "\t#cell masks that have some dapi: 19\n"
     ]
    },
    {
     "name": "stderr",
     "output_type": "stream",
     "text": [
      "/var/folders/pp/cdyfs0g13j3_15mc99_0nfmh0000gn/T/ipykernel_11254/2403115704.py:19: UserWarning: /Volumes/Flodrive/Florence/smFISH/analysis/20240927-exp16/MG1655_GLY_OD_0.3_right_01/DIC_masks_with_dapi.tif is a low contrast image\n",
      "  io.imsave(Path(img['cellmaskfile']).parent / 'DIC_masks_with_dapi.tif', cell_masks_with_dapi)\n"
     ]
    },
    {
     "name": "stdout",
     "output_type": "stream",
     "text": [
      "Selected: MG1655_GLY_OD_0.3_right_03\n",
      "\t#cell masks after segmentation : 208\n",
      "removing 188 cells with no dapi signal\n",
      "\t#cell masks that have some dapi: 20\n"
     ]
    },
    {
     "name": "stderr",
     "output_type": "stream",
     "text": [
      "/var/folders/pp/cdyfs0g13j3_15mc99_0nfmh0000gn/T/ipykernel_11254/2403115704.py:19: UserWarning: /Volumes/Flodrive/Florence/smFISH/analysis/20240927-exp16/MG1655_GLY_OD_0.3_right_03/DIC_masks_with_dapi.tif is a low contrast image\n",
      "  io.imsave(Path(img['cellmaskfile']).parent / 'DIC_masks_with_dapi.tif', cell_masks_with_dapi)\n"
     ]
    },
    {
     "name": "stdout",
     "output_type": "stream",
     "text": [
      "Selected: MG1655_GLY_OD_0.3_right_04\n",
      "\t#cell masks after segmentation : 232\n",
      "removing 206 cells with no dapi signal\n",
      "\t#cell masks that have some dapi: 26\n",
      "Selected: MG1655_GLY_OD_0.3_right_05\n"
     ]
    },
    {
     "name": "stderr",
     "output_type": "stream",
     "text": [
      "/var/folders/pp/cdyfs0g13j3_15mc99_0nfmh0000gn/T/ipykernel_11254/2403115704.py:19: UserWarning: /Volumes/Flodrive/Florence/smFISH/analysis/20240927-exp16/MG1655_GLY_OD_0.3_right_04/DIC_masks_with_dapi.tif is a low contrast image\n",
      "  io.imsave(Path(img['cellmaskfile']).parent / 'DIC_masks_with_dapi.tif', cell_masks_with_dapi)\n"
     ]
    },
    {
     "name": "stdout",
     "output_type": "stream",
     "text": [
      "\t#cell masks after segmentation : 578\n",
      "removing 222 cells with no dapi signal\n",
      "\t#cell masks that have some dapi: 356\n"
     ]
    },
    {
     "name": "stderr",
     "output_type": "stream",
     "text": [
      "/var/folders/pp/cdyfs0g13j3_15mc99_0nfmh0000gn/T/ipykernel_11254/2403115704.py:19: UserWarning: /Volumes/Flodrive/Florence/smFISH/analysis/20240927-exp16/MG1655_GLY_OD_0.3_right_05/DIC_masks_with_dapi.tif is a low contrast image\n",
      "  io.imsave(Path(img['cellmaskfile']).parent / 'DIC_masks_with_dapi.tif', cell_masks_with_dapi)\n"
     ]
    },
    {
     "name": "stdout",
     "output_type": "stream",
     "text": [
      "Selected: MG1655_GLY_OD_0.3_right_06\n",
      "\t#cell masks after segmentation : 784\n",
      "removing 552 cells with no dapi signal\n",
      "\t#cell masks that have some dapi: 232\n"
     ]
    },
    {
     "name": "stderr",
     "output_type": "stream",
     "text": [
      "/var/folders/pp/cdyfs0g13j3_15mc99_0nfmh0000gn/T/ipykernel_11254/2403115704.py:19: UserWarning: /Volumes/Flodrive/Florence/smFISH/analysis/20240927-exp16/MG1655_GLY_OD_0.3_right_06/DIC_masks_with_dapi.tif is a low contrast image\n",
      "  io.imsave(Path(img['cellmaskfile']).parent / 'DIC_masks_with_dapi.tif', cell_masks_with_dapi)\n"
     ]
    },
    {
     "name": "stdout",
     "output_type": "stream",
     "text": [
      "Selected: MG1655_GLY_OD_0.3_right_07\n",
      "\t#cell masks after segmentation : 666\n",
      "removing 201 cells with no dapi signal\n",
      "\t#cell masks that have some dapi: 465\n"
     ]
    },
    {
     "name": "stderr",
     "output_type": "stream",
     "text": [
      "/var/folders/pp/cdyfs0g13j3_15mc99_0nfmh0000gn/T/ipykernel_11254/2403115704.py:19: UserWarning: /Volumes/Flodrive/Florence/smFISH/analysis/20240927-exp16/MG1655_GLY_OD_0.3_right_07/DIC_masks_with_dapi.tif is a low contrast image\n",
      "  io.imsave(Path(img['cellmaskfile']).parent / 'DIC_masks_with_dapi.tif', cell_masks_with_dapi)\n"
     ]
    },
    {
     "name": "stdout",
     "output_type": "stream",
     "text": [
      "Selected: MG1655_GLY_OD_0.3_right_08\n",
      "\t#cell masks after segmentation : 653\n",
      "removing 186 cells with no dapi signal\n",
      "\t#cell masks that have some dapi: 467\n"
     ]
    },
    {
     "name": "stderr",
     "output_type": "stream",
     "text": [
      "/var/folders/pp/cdyfs0g13j3_15mc99_0nfmh0000gn/T/ipykernel_11254/2403115704.py:19: UserWarning: /Volumes/Flodrive/Florence/smFISH/analysis/20240927-exp16/MG1655_GLY_OD_0.3_right_08/DIC_masks_with_dapi.tif is a low contrast image\n",
      "  io.imsave(Path(img['cellmaskfile']).parent / 'DIC_masks_with_dapi.tif', cell_masks_with_dapi)\n"
     ]
    },
    {
     "name": "stdout",
     "output_type": "stream",
     "text": [
      "Selected: MG1655_GLY_OD_0.3_right_09\n",
      "\t#cell masks after segmentation : 672\n",
      "removing 321 cells with no dapi signal\n",
      "\t#cell masks that have some dapi: 351\n"
     ]
    },
    {
     "name": "stderr",
     "output_type": "stream",
     "text": [
      "/var/folders/pp/cdyfs0g13j3_15mc99_0nfmh0000gn/T/ipykernel_11254/2403115704.py:19: UserWarning: /Volumes/Flodrive/Florence/smFISH/analysis/20240927-exp16/MG1655_GLY_OD_0.3_right_09/DIC_masks_with_dapi.tif is a low contrast image\n",
      "  io.imsave(Path(img['cellmaskfile']).parent / 'DIC_masks_with_dapi.tif', cell_masks_with_dapi)\n"
     ]
    },
    {
     "name": "stdout",
     "output_type": "stream",
     "text": [
      "Selected: MG1655_GLY_OD_0.3_right_13\n",
      "\t#cell masks after segmentation : 144\n",
      "removing 95 cells with no dapi signal\n",
      "\t#cell masks that have some dapi: 49\n"
     ]
    },
    {
     "name": "stderr",
     "output_type": "stream",
     "text": [
      "/var/folders/pp/cdyfs0g13j3_15mc99_0nfmh0000gn/T/ipykernel_11254/2403115704.py:19: UserWarning: /Volumes/Flodrive/Florence/smFISH/analysis/20240927-exp16/MG1655_GLY_OD_0.3_right_13/DIC_masks_with_dapi.tif is a low contrast image\n",
      "  io.imsave(Path(img['cellmaskfile']).parent / 'DIC_masks_with_dapi.tif', cell_masks_with_dapi)\n"
     ]
    },
    {
     "name": "stdout",
     "output_type": "stream",
     "text": [
      "Selected: MG1655_GLY_OD_0.3_right_14\n",
      "\t#cell masks after segmentation : 166\n",
      "removing 129 cells with no dapi signal\n",
      "\t#cell masks that have some dapi: 37\n"
     ]
    },
    {
     "name": "stderr",
     "output_type": "stream",
     "text": [
      "/var/folders/pp/cdyfs0g13j3_15mc99_0nfmh0000gn/T/ipykernel_11254/2403115704.py:19: UserWarning: /Volumes/Flodrive/Florence/smFISH/analysis/20240927-exp16/MG1655_GLY_OD_0.3_right_14/DIC_masks_with_dapi.tif is a low contrast image\n",
      "  io.imsave(Path(img['cellmaskfile']).parent / 'DIC_masks_with_dapi.tif', cell_masks_with_dapi)\n"
     ]
    },
    {
     "name": "stdout",
     "output_type": "stream",
     "text": [
      "Selected: MG1655_MAN_OD_0.3_left_01\n",
      "\t#cell masks after segmentation : 277\n",
      "removing 222 cells with no dapi signal\n",
      "\t#cell masks that have some dapi: 55\n"
     ]
    },
    {
     "name": "stderr",
     "output_type": "stream",
     "text": [
      "/var/folders/pp/cdyfs0g13j3_15mc99_0nfmh0000gn/T/ipykernel_11254/2403115704.py:19: UserWarning: /Volumes/Flodrive/Florence/smFISH/analysis/20240927-exp16/MG1655_MAN_OD_0.3_left_01/DIC_masks_with_dapi.tif is a low contrast image\n",
      "  io.imsave(Path(img['cellmaskfile']).parent / 'DIC_masks_with_dapi.tif', cell_masks_with_dapi)\n"
     ]
    },
    {
     "name": "stdout",
     "output_type": "stream",
     "text": [
      "Selected: MG1655_MAN_OD_0.3_left_02\n",
      "\t#cell masks after segmentation : 960\n",
      "removing 603 cells with no dapi signal\n",
      "\t#cell masks that have some dapi: 357\n"
     ]
    },
    {
     "name": "stderr",
     "output_type": "stream",
     "text": [
      "/var/folders/pp/cdyfs0g13j3_15mc99_0nfmh0000gn/T/ipykernel_11254/2403115704.py:19: UserWarning: /Volumes/Flodrive/Florence/smFISH/analysis/20240927-exp16/MG1655_MAN_OD_0.3_left_02/DIC_masks_with_dapi.tif is a low contrast image\n",
      "  io.imsave(Path(img['cellmaskfile']).parent / 'DIC_masks_with_dapi.tif', cell_masks_with_dapi)\n"
     ]
    },
    {
     "name": "stdout",
     "output_type": "stream",
     "text": [
      "Selected: MG1655_MAN_OD_0.3_left_05\n",
      "\t#cell masks after segmentation : 913\n",
      "removing 346 cells with no dapi signal\n",
      "\t#cell masks that have some dapi: 567\n"
     ]
    },
    {
     "name": "stderr",
     "output_type": "stream",
     "text": [
      "/var/folders/pp/cdyfs0g13j3_15mc99_0nfmh0000gn/T/ipykernel_11254/2403115704.py:19: UserWarning: /Volumes/Flodrive/Florence/smFISH/analysis/20240927-exp16/MG1655_MAN_OD_0.3_left_05/DIC_masks_with_dapi.tif is a low contrast image\n",
      "  io.imsave(Path(img['cellmaskfile']).parent / 'DIC_masks_with_dapi.tif', cell_masks_with_dapi)\n"
     ]
    },
    {
     "name": "stdout",
     "output_type": "stream",
     "text": [
      "Selected: MG1655_MAN_OD_0.3_left_06\n",
      "\t#cell masks after segmentation : 1000\n",
      "removing 178 cells with no dapi signal\n",
      "\t#cell masks that have some dapi: 822\n"
     ]
    },
    {
     "name": "stderr",
     "output_type": "stream",
     "text": [
      "/var/folders/pp/cdyfs0g13j3_15mc99_0nfmh0000gn/T/ipykernel_11254/2403115704.py:19: UserWarning: /Volumes/Flodrive/Florence/smFISH/analysis/20240927-exp16/MG1655_MAN_OD_0.3_left_06/DIC_masks_with_dapi.tif is a low contrast image\n",
      "  io.imsave(Path(img['cellmaskfile']).parent / 'DIC_masks_with_dapi.tif', cell_masks_with_dapi)\n"
     ]
    },
    {
     "name": "stdout",
     "output_type": "stream",
     "text": [
      "Selected: MG1655_MAN_OD_0.3_left_07\n",
      "\t#cell masks after segmentation : 1105\n",
      "removing 444 cells with no dapi signal\n",
      "\t#cell masks that have some dapi: 661\n"
     ]
    },
    {
     "name": "stderr",
     "output_type": "stream",
     "text": [
      "/var/folders/pp/cdyfs0g13j3_15mc99_0nfmh0000gn/T/ipykernel_11254/2403115704.py:19: UserWarning: /Volumes/Flodrive/Florence/smFISH/analysis/20240927-exp16/MG1655_MAN_OD_0.3_left_07/DIC_masks_with_dapi.tif is a low contrast image\n",
      "  io.imsave(Path(img['cellmaskfile']).parent / 'DIC_masks_with_dapi.tif', cell_masks_with_dapi)\n"
     ]
    },
    {
     "name": "stdout",
     "output_type": "stream",
     "text": [
      "Selected: MG1655_MAN_OD_0.3_left_09\n",
      "\t#cell masks after segmentation : 1452\n",
      "removing 298 cells with no dapi signal\n",
      "\t#cell masks that have some dapi: 1154\n"
     ]
    },
    {
     "name": "stderr",
     "output_type": "stream",
     "text": [
      "/var/folders/pp/cdyfs0g13j3_15mc99_0nfmh0000gn/T/ipykernel_11254/2403115704.py:19: UserWarning: /Volumes/Flodrive/Florence/smFISH/analysis/20240927-exp16/MG1655_MAN_OD_0.3_left_09/DIC_masks_with_dapi.tif is a low contrast image\n",
      "  io.imsave(Path(img['cellmaskfile']).parent / 'DIC_masks_with_dapi.tif', cell_masks_with_dapi)\n"
     ]
    },
    {
     "name": "stdout",
     "output_type": "stream",
     "text": [
      "Selected: MG1655_MAN_OD_0.3_left_11\n",
      "\t#cell masks after segmentation : 1233\n",
      "removing 542 cells with no dapi signal\n",
      "\t#cell masks that have some dapi: 691\n"
     ]
    },
    {
     "name": "stderr",
     "output_type": "stream",
     "text": [
      "/var/folders/pp/cdyfs0g13j3_15mc99_0nfmh0000gn/T/ipykernel_11254/2403115704.py:19: UserWarning: /Volumes/Flodrive/Florence/smFISH/analysis/20240927-exp16/MG1655_MAN_OD_0.3_left_11/DIC_masks_with_dapi.tif is a low contrast image\n",
      "  io.imsave(Path(img['cellmaskfile']).parent / 'DIC_masks_with_dapi.tif', cell_masks_with_dapi)\n"
     ]
    },
    {
     "name": "stdout",
     "output_type": "stream",
     "text": [
      "Config file from: /Volumes/Flodrive/Florence/smFISH/analysis/20240927-LB\n",
      "\t/Volumes/Flodrive/Florence/smFISH/analysis/20240927-LB/config-detection.json ->\n",
      "\t/Volumes/Flodrive/Florence/smFISH/analysis/20240927-LB/config-detection-processed.json\n",
      "Selected: MG1655_LB_fixed2806_hybed1906_left_01\n",
      "\t#cell masks after segmentation : 1407\n",
      "removing 345 cells with no dapi signal\n",
      "\t#cell masks that have some dapi: 1062\n"
     ]
    },
    {
     "name": "stderr",
     "output_type": "stream",
     "text": [
      "/var/folders/pp/cdyfs0g13j3_15mc99_0nfmh0000gn/T/ipykernel_11254/2403115704.py:19: UserWarning: /Volumes/Flodrive/Florence/smFISH/analysis/20240927-LB/MG1655_LB_fixed2806_hybed1906_left_01/DIC_masks_with_dapi.tif is a low contrast image\n",
      "  io.imsave(Path(img['cellmaskfile']).parent / 'DIC_masks_with_dapi.tif', cell_masks_with_dapi)\n"
     ]
    },
    {
     "name": "stdout",
     "output_type": "stream",
     "text": [
      "Selected: MG1655_LB_fixed2806_hybed1906_left_03\n",
      "\t#cell masks after segmentation : 1905\n",
      "removing 612 cells with no dapi signal\n",
      "\t#cell masks that have some dapi: 1293\n"
     ]
    },
    {
     "name": "stderr",
     "output_type": "stream",
     "text": [
      "/var/folders/pp/cdyfs0g13j3_15mc99_0nfmh0000gn/T/ipykernel_11254/2403115704.py:19: UserWarning: /Volumes/Flodrive/Florence/smFISH/analysis/20240927-LB/MG1655_LB_fixed2806_hybed1906_left_03/DIC_masks_with_dapi.tif is a low contrast image\n",
      "  io.imsave(Path(img['cellmaskfile']).parent / 'DIC_masks_with_dapi.tif', cell_masks_with_dapi)\n"
     ]
    },
    {
     "name": "stdout",
     "output_type": "stream",
     "text": [
      "Selected: MG1655_LB_fixed2806_hybed1906_left_07\n",
      "\t#cell masks after segmentation : 2208\n",
      "removing 1018 cells with no dapi signal\n",
      "\t#cell masks that have some dapi: 1190\n"
     ]
    },
    {
     "name": "stderr",
     "output_type": "stream",
     "text": [
      "/var/folders/pp/cdyfs0g13j3_15mc99_0nfmh0000gn/T/ipykernel_11254/2403115704.py:19: UserWarning: /Volumes/Flodrive/Florence/smFISH/analysis/20240927-LB/MG1655_LB_fixed2806_hybed1906_left_07/DIC_masks_with_dapi.tif is a low contrast image\n",
      "  io.imsave(Path(img['cellmaskfile']).parent / 'DIC_masks_with_dapi.tif', cell_masks_with_dapi)\n"
     ]
    }
   ],
   "source": [
    "rootdir = '/Volumes/Flodrive/Florence/smFISH/analysis'\n",
    "for f in Path(rootdir).glob('*/config-detection.json'):\n",
    "    config_processed = f.parent / 'config-detection-processed.json'\n",
    "    print(f\"Config file from: {f.parent}\")\n",
    "    print(f\"\\t{f} ->\")\n",
    "    print(f\"\\t{config_processed}\")\n",
    "    with open(f, 'r') as fh:\n",
    "        config = json.load(fh)\n",
    "        for exp in config['experiments']:\n",
    "            for img in exp['images']:\n",
    "                if img['segment'] is True:\n",
    "                    print(f'Selected: {img[\"stem\"]}')\n",
    "                    # segmentation postprocessing\n",
    "                    cell_masks = io.imread(img['cellmaskfile'])\n",
    "                    dapi_masks = io.imread(img['nuclearmaskfile'])\n",
    "                    print(f'\\t#cell masks after segmentation : {len(np.unique(cell_masks))}')\n",
    "                    cell_masks_with_dapi, discarded_by_dapi = remove_cell_masks_with_no_dapi(cell_masks, dapi_masks)\n",
    "                    print(f'\\t#cell masks that have some dapi: {len(np.unique(cell_masks_with_dapi))}')\n",
    "                    io.imsave(Path(img['cellmaskfile']).parent / 'DIC_masks_with_dapi.tif', cell_masks_with_dapi)\n",
    "                    \n",
    "                "
   ]
  },
  {
   "cell_type": "markdown",
   "id": "46e014fdad08f9e5",
   "metadata": {},
   "source": [
    "### Discard cells that are too small or large with low eccentricity (clumps)"
   ]
  },
  {
   "cell_type": "code",
   "execution_count": 167,
   "id": "1e66f90ae167b24b",
   "metadata": {
    "ExecuteTime": {
     "end_time": "2024-11-14T14:10:18.119491Z",
     "start_time": "2024-11-14T14:09:17.449320Z"
    }
   },
   "outputs": [
    {
     "name": "stdout",
     "output_type": "stream",
     "text": [
      "Config file from: /Volumes/Flodrive/Florence/smFISH/analysis/20241029-exp24\n",
      "\t/Volumes/Flodrive/Florence/smFISH/analysis/20241029-exp24/config-detection-processed.json\n",
      "Selected: exp24-GLU-right-2_01\n"
     ]
    },
    {
     "name": "stderr",
     "output_type": "stream",
     "text": [
      "/var/folders/pp/cdyfs0g13j3_15mc99_0nfmh0000gn/T/ipykernel_11254/17513562.py:17: UserWarning: /Volumes/Flodrive/Florence/smFISH/analysis/20241029-exp24/exp24-GLU-right-2_01/DIC_masks_discarded_by_area.tif is a low contrast image\n",
      "  io.imsave(Path(imgdir) / 'DIC_masks_discarded_by_area.tif', discarded)\n",
      "/var/folders/pp/cdyfs0g13j3_15mc99_0nfmh0000gn/T/ipykernel_11254/17513562.py:18: UserWarning: /Volumes/Flodrive/Florence/smFISH/analysis/20241029-exp24/exp24-GLU-right-2_01/DIC_masks_selected_by_area.tif is a low contrast image\n",
      "  io.imsave(Path(imgdir) / 'DIC_masks_selected_by_area.tif', selected)\n"
     ]
    },
    {
     "name": "stdout",
     "output_type": "stream",
     "text": [
      "1270 - 47 -> 1224\n"
     ]
    },
    {
     "name": "stderr",
     "output_type": "stream",
     "text": [
      "/var/folders/pp/cdyfs0g13j3_15mc99_0nfmh0000gn/T/ipykernel_11254/17513562.py:22: UserWarning: /Volumes/Flodrive/Florence/smFISH/analysis/20241029-exp24/exp24-GLU-right-2_01/DIC_masks_discarded_by_shape.tif is a low contrast image\n",
      "  io.imsave(Path(imgdir) / 'DIC_masks_discarded_by_shape.tif', discarded)\n",
      "/var/folders/pp/cdyfs0g13j3_15mc99_0nfmh0000gn/T/ipykernel_11254/17513562.py:23: UserWarning: /Volumes/Flodrive/Florence/smFISH/analysis/20241029-exp24/exp24-GLU-right-2_01/DIC_masks_selected_by_shape.tif is a low contrast image\n",
      "  io.imsave(Path(imgdir) / 'DIC_masks_selected_by_shape.tif', selected)\n"
     ]
    },
    {
     "name": "stdout",
     "output_type": "stream",
     "text": [
      "1224 - 6 -> 1219\n",
      "Selected: exp24-GLU-right-2_03\n"
     ]
    },
    {
     "name": "stderr",
     "output_type": "stream",
     "text": [
      "/var/folders/pp/cdyfs0g13j3_15mc99_0nfmh0000gn/T/ipykernel_11254/17513562.py:17: UserWarning: /Volumes/Flodrive/Florence/smFISH/analysis/20241029-exp24/exp24-GLU-right-2_03/DIC_masks_discarded_by_area.tif is a low contrast image\n",
      "  io.imsave(Path(imgdir) / 'DIC_masks_discarded_by_area.tif', discarded)\n",
      "/var/folders/pp/cdyfs0g13j3_15mc99_0nfmh0000gn/T/ipykernel_11254/17513562.py:18: UserWarning: /Volumes/Flodrive/Florence/smFISH/analysis/20241029-exp24/exp24-GLU-right-2_03/DIC_masks_selected_by_area.tif is a low contrast image\n",
      "  io.imsave(Path(imgdir) / 'DIC_masks_selected_by_area.tif', selected)\n"
     ]
    },
    {
     "name": "stdout",
     "output_type": "stream",
     "text": [
      "870 - 18 -> 853\n"
     ]
    },
    {
     "name": "stderr",
     "output_type": "stream",
     "text": [
      "/var/folders/pp/cdyfs0g13j3_15mc99_0nfmh0000gn/T/ipykernel_11254/17513562.py:22: UserWarning: /Volumes/Flodrive/Florence/smFISH/analysis/20241029-exp24/exp24-GLU-right-2_03/DIC_masks_discarded_by_shape.tif is a low contrast image\n",
      "  io.imsave(Path(imgdir) / 'DIC_masks_discarded_by_shape.tif', discarded)\n",
      "/var/folders/pp/cdyfs0g13j3_15mc99_0nfmh0000gn/T/ipykernel_11254/17513562.py:23: UserWarning: /Volumes/Flodrive/Florence/smFISH/analysis/20241029-exp24/exp24-GLU-right-2_03/DIC_masks_selected_by_shape.tif is a low contrast image\n",
      "  io.imsave(Path(imgdir) / 'DIC_masks_selected_by_shape.tif', selected)\n"
     ]
    },
    {
     "name": "stdout",
     "output_type": "stream",
     "text": [
      "853 - 3 -> 851\n",
      "Selected: exp24-GLU-right-2_05\n"
     ]
    },
    {
     "name": "stderr",
     "output_type": "stream",
     "text": [
      "/var/folders/pp/cdyfs0g13j3_15mc99_0nfmh0000gn/T/ipykernel_11254/17513562.py:17: UserWarning: /Volumes/Flodrive/Florence/smFISH/analysis/20241029-exp24/exp24-GLU-right-2_05/DIC_masks_discarded_by_area.tif is a low contrast image\n",
      "  io.imsave(Path(imgdir) / 'DIC_masks_discarded_by_area.tif', discarded)\n",
      "/var/folders/pp/cdyfs0g13j3_15mc99_0nfmh0000gn/T/ipykernel_11254/17513562.py:18: UserWarning: /Volumes/Flodrive/Florence/smFISH/analysis/20241029-exp24/exp24-GLU-right-2_05/DIC_masks_selected_by_area.tif is a low contrast image\n",
      "  io.imsave(Path(imgdir) / 'DIC_masks_selected_by_area.tif', selected)\n"
     ]
    },
    {
     "name": "stdout",
     "output_type": "stream",
     "text": [
      "742 - 23 -> 720\n"
     ]
    },
    {
     "name": "stderr",
     "output_type": "stream",
     "text": [
      "/var/folders/pp/cdyfs0g13j3_15mc99_0nfmh0000gn/T/ipykernel_11254/17513562.py:22: UserWarning: /Volumes/Flodrive/Florence/smFISH/analysis/20241029-exp24/exp24-GLU-right-2_05/DIC_masks_discarded_by_shape.tif is a low contrast image\n",
      "  io.imsave(Path(imgdir) / 'DIC_masks_discarded_by_shape.tif', discarded)\n",
      "/var/folders/pp/cdyfs0g13j3_15mc99_0nfmh0000gn/T/ipykernel_11254/17513562.py:23: UserWarning: /Volumes/Flodrive/Florence/smFISH/analysis/20241029-exp24/exp24-GLU-right-2_05/DIC_masks_selected_by_shape.tif is a low contrast image\n",
      "  io.imsave(Path(imgdir) / 'DIC_masks_selected_by_shape.tif', selected)\n"
     ]
    },
    {
     "name": "stdout",
     "output_type": "stream",
     "text": [
      "720 - 5 -> 716\n",
      "Selected: exp24-GLY-left_02\n"
     ]
    },
    {
     "name": "stderr",
     "output_type": "stream",
     "text": [
      "/var/folders/pp/cdyfs0g13j3_15mc99_0nfmh0000gn/T/ipykernel_11254/17513562.py:17: UserWarning: /Volumes/Flodrive/Florence/smFISH/analysis/20241029-exp24/exp24-GLY-left_02/DIC_masks_discarded_by_area.tif is a low contrast image\n",
      "  io.imsave(Path(imgdir) / 'DIC_masks_discarded_by_area.tif', discarded)\n",
      "/var/folders/pp/cdyfs0g13j3_15mc99_0nfmh0000gn/T/ipykernel_11254/17513562.py:18: UserWarning: /Volumes/Flodrive/Florence/smFISH/analysis/20241029-exp24/exp24-GLY-left_02/DIC_masks_selected_by_area.tif is a low contrast image\n",
      "  io.imsave(Path(imgdir) / 'DIC_masks_selected_by_area.tif', selected)\n"
     ]
    },
    {
     "name": "stdout",
     "output_type": "stream",
     "text": [
      "587 - 65 -> 523\n"
     ]
    },
    {
     "name": "stderr",
     "output_type": "stream",
     "text": [
      "/var/folders/pp/cdyfs0g13j3_15mc99_0nfmh0000gn/T/ipykernel_11254/17513562.py:22: UserWarning: /Volumes/Flodrive/Florence/smFISH/analysis/20241029-exp24/exp24-GLY-left_02/DIC_masks_discarded_by_shape.tif is a low contrast image\n",
      "  io.imsave(Path(imgdir) / 'DIC_masks_discarded_by_shape.tif', discarded)\n",
      "/var/folders/pp/cdyfs0g13j3_15mc99_0nfmh0000gn/T/ipykernel_11254/17513562.py:23: UserWarning: /Volumes/Flodrive/Florence/smFISH/analysis/20241029-exp24/exp24-GLY-left_02/DIC_masks_selected_by_shape.tif is a low contrast image\n",
      "  io.imsave(Path(imgdir) / 'DIC_masks_selected_by_shape.tif', selected)\n"
     ]
    },
    {
     "name": "stdout",
     "output_type": "stream",
     "text": [
      "523 - 3 -> 521\n",
      "Selected: exp24-GLY-left_03\n"
     ]
    },
    {
     "name": "stderr",
     "output_type": "stream",
     "text": [
      "/var/folders/pp/cdyfs0g13j3_15mc99_0nfmh0000gn/T/ipykernel_11254/17513562.py:17: UserWarning: /Volumes/Flodrive/Florence/smFISH/analysis/20241029-exp24/exp24-GLY-left_03/DIC_masks_discarded_by_area.tif is a low contrast image\n",
      "  io.imsave(Path(imgdir) / 'DIC_masks_discarded_by_area.tif', discarded)\n",
      "/var/folders/pp/cdyfs0g13j3_15mc99_0nfmh0000gn/T/ipykernel_11254/17513562.py:18: UserWarning: /Volumes/Flodrive/Florence/smFISH/analysis/20241029-exp24/exp24-GLY-left_03/DIC_masks_selected_by_area.tif is a low contrast image\n",
      "  io.imsave(Path(imgdir) / 'DIC_masks_selected_by_area.tif', selected)\n"
     ]
    },
    {
     "name": "stdout",
     "output_type": "stream",
     "text": [
      "1011 - 129 -> 883\n"
     ]
    },
    {
     "name": "stderr",
     "output_type": "stream",
     "text": [
      "/var/folders/pp/cdyfs0g13j3_15mc99_0nfmh0000gn/T/ipykernel_11254/17513562.py:22: UserWarning: /Volumes/Flodrive/Florence/smFISH/analysis/20241029-exp24/exp24-GLY-left_03/DIC_masks_discarded_by_shape.tif is a low contrast image\n",
      "  io.imsave(Path(imgdir) / 'DIC_masks_discarded_by_shape.tif', discarded)\n",
      "/var/folders/pp/cdyfs0g13j3_15mc99_0nfmh0000gn/T/ipykernel_11254/17513562.py:23: UserWarning: /Volumes/Flodrive/Florence/smFISH/analysis/20241029-exp24/exp24-GLY-left_03/DIC_masks_selected_by_shape.tif is a low contrast image\n",
      "  io.imsave(Path(imgdir) / 'DIC_masks_selected_by_shape.tif', selected)\n"
     ]
    },
    {
     "name": "stdout",
     "output_type": "stream",
     "text": [
      "883 - 7 -> 877\n",
      "Selected: exp24-GLY-left_06\n"
     ]
    },
    {
     "name": "stderr",
     "output_type": "stream",
     "text": [
      "/var/folders/pp/cdyfs0g13j3_15mc99_0nfmh0000gn/T/ipykernel_11254/17513562.py:17: UserWarning: /Volumes/Flodrive/Florence/smFISH/analysis/20241029-exp24/exp24-GLY-left_06/DIC_masks_discarded_by_area.tif is a low contrast image\n",
      "  io.imsave(Path(imgdir) / 'DIC_masks_discarded_by_area.tif', discarded)\n",
      "/var/folders/pp/cdyfs0g13j3_15mc99_0nfmh0000gn/T/ipykernel_11254/17513562.py:18: UserWarning: /Volumes/Flodrive/Florence/smFISH/analysis/20241029-exp24/exp24-GLY-left_06/DIC_masks_selected_by_area.tif is a low contrast image\n",
      "  io.imsave(Path(imgdir) / 'DIC_masks_selected_by_area.tif', selected)\n"
     ]
    },
    {
     "name": "stdout",
     "output_type": "stream",
     "text": [
      "656 - 48 -> 609\n"
     ]
    },
    {
     "name": "stderr",
     "output_type": "stream",
     "text": [
      "/var/folders/pp/cdyfs0g13j3_15mc99_0nfmh0000gn/T/ipykernel_11254/17513562.py:22: UserWarning: /Volumes/Flodrive/Florence/smFISH/analysis/20241029-exp24/exp24-GLY-left_06/DIC_masks_discarded_by_shape.tif is a low contrast image\n",
      "  io.imsave(Path(imgdir) / 'DIC_masks_discarded_by_shape.tif', discarded)\n",
      "/var/folders/pp/cdyfs0g13j3_15mc99_0nfmh0000gn/T/ipykernel_11254/17513562.py:23: UserWarning: /Volumes/Flodrive/Florence/smFISH/analysis/20241029-exp24/exp24-GLY-left_06/DIC_masks_selected_by_shape.tif is a low contrast image\n",
      "  io.imsave(Path(imgdir) / 'DIC_masks_selected_by_shape.tif', selected)\n"
     ]
    },
    {
     "name": "stdout",
     "output_type": "stream",
     "text": [
      "609 - 5 -> 605\n",
      "Selected: exp24-GLY-left_10\n"
     ]
    },
    {
     "name": "stderr",
     "output_type": "stream",
     "text": [
      "/var/folders/pp/cdyfs0g13j3_15mc99_0nfmh0000gn/T/ipykernel_11254/17513562.py:17: UserWarning: /Volumes/Flodrive/Florence/smFISH/analysis/20241029-exp24/exp24-GLY-left_10/DIC_masks_discarded_by_area.tif is a low contrast image\n",
      "  io.imsave(Path(imgdir) / 'DIC_masks_discarded_by_area.tif', discarded)\n",
      "/var/folders/pp/cdyfs0g13j3_15mc99_0nfmh0000gn/T/ipykernel_11254/17513562.py:18: UserWarning: /Volumes/Flodrive/Florence/smFISH/analysis/20241029-exp24/exp24-GLY-left_10/DIC_masks_selected_by_area.tif is a low contrast image\n",
      "  io.imsave(Path(imgdir) / 'DIC_masks_selected_by_area.tif', selected)\n"
     ]
    },
    {
     "name": "stdout",
     "output_type": "stream",
     "text": [
      "1019 - 43 -> 977\n"
     ]
    },
    {
     "name": "stderr",
     "output_type": "stream",
     "text": [
      "/var/folders/pp/cdyfs0g13j3_15mc99_0nfmh0000gn/T/ipykernel_11254/17513562.py:22: UserWarning: /Volumes/Flodrive/Florence/smFISH/analysis/20241029-exp24/exp24-GLY-left_10/DIC_masks_discarded_by_shape.tif is a low contrast image\n",
      "  io.imsave(Path(imgdir) / 'DIC_masks_discarded_by_shape.tif', discarded)\n",
      "/var/folders/pp/cdyfs0g13j3_15mc99_0nfmh0000gn/T/ipykernel_11254/17513562.py:23: UserWarning: /Volumes/Flodrive/Florence/smFISH/analysis/20241029-exp24/exp24-GLY-left_10/DIC_masks_selected_by_shape.tif is a low contrast image\n",
      "  io.imsave(Path(imgdir) / 'DIC_masks_selected_by_shape.tif', selected)\n"
     ]
    },
    {
     "name": "stdout",
     "output_type": "stream",
     "text": [
      "977 - 4 -> 974\n",
      "Config file from: /Volumes/Flodrive/Florence/smFISH/analysis/20241029-exp22\n",
      "\t/Volumes/Flodrive/Florence/smFISH/analysis/20241029-exp22/config-detection-processed.json\n",
      "Selected: exp22-GLU_01\n"
     ]
    },
    {
     "name": "stderr",
     "output_type": "stream",
     "text": [
      "/var/folders/pp/cdyfs0g13j3_15mc99_0nfmh0000gn/T/ipykernel_11254/17513562.py:17: UserWarning: /Volumes/Flodrive/Florence/smFISH/analysis/20241029-exp22/exp22-GLU_01/DIC_masks_discarded_by_area.tif is a low contrast image\n",
      "  io.imsave(Path(imgdir) / 'DIC_masks_discarded_by_area.tif', discarded)\n"
     ]
    },
    {
     "name": "stdout",
     "output_type": "stream",
     "text": [
      "155 - 6 -> 150\n"
     ]
    },
    {
     "name": "stderr",
     "output_type": "stream",
     "text": [
      "/var/folders/pp/cdyfs0g13j3_15mc99_0nfmh0000gn/T/ipykernel_11254/17513562.py:22: UserWarning: /Volumes/Flodrive/Florence/smFISH/analysis/20241029-exp22/exp22-GLU_01/DIC_masks_discarded_by_shape.tif is a low contrast image\n",
      "  io.imsave(Path(imgdir) / 'DIC_masks_discarded_by_shape.tif', discarded)\n"
     ]
    },
    {
     "name": "stdout",
     "output_type": "stream",
     "text": [
      "150 - 2 -> 149\n",
      "Selected: exp22-GLU_02\n"
     ]
    },
    {
     "name": "stderr",
     "output_type": "stream",
     "text": [
      "/var/folders/pp/cdyfs0g13j3_15mc99_0nfmh0000gn/T/ipykernel_11254/17513562.py:17: UserWarning: /Volumes/Flodrive/Florence/smFISH/analysis/20241029-exp22/exp22-GLU_02/DIC_masks_discarded_by_area.tif is a low contrast image\n",
      "  io.imsave(Path(imgdir) / 'DIC_masks_discarded_by_area.tif', discarded)\n"
     ]
    },
    {
     "name": "stdout",
     "output_type": "stream",
     "text": [
      "107 - 4 -> 104\n"
     ]
    },
    {
     "name": "stderr",
     "output_type": "stream",
     "text": [
      "/var/folders/pp/cdyfs0g13j3_15mc99_0nfmh0000gn/T/ipykernel_11254/17513562.py:22: UserWarning: /Volumes/Flodrive/Florence/smFISH/analysis/20241029-exp22/exp22-GLU_02/DIC_masks_discarded_by_shape.tif is a low contrast image\n",
      "  io.imsave(Path(imgdir) / 'DIC_masks_discarded_by_shape.tif', discarded)\n"
     ]
    },
    {
     "name": "stdout",
     "output_type": "stream",
     "text": [
      "104 - 1 -> 104\n",
      "Selected: exp22-GLU_04\n"
     ]
    },
    {
     "name": "stderr",
     "output_type": "stream",
     "text": [
      "/var/folders/pp/cdyfs0g13j3_15mc99_0nfmh0000gn/T/ipykernel_11254/17513562.py:17: UserWarning: /Volumes/Flodrive/Florence/smFISH/analysis/20241029-exp22/exp22-GLU_04/DIC_masks_discarded_by_area.tif is a low contrast image\n",
      "  io.imsave(Path(imgdir) / 'DIC_masks_discarded_by_area.tif', discarded)\n"
     ]
    },
    {
     "name": "stdout",
     "output_type": "stream",
     "text": [
      "159 - 8 -> 152\n"
     ]
    },
    {
     "name": "stderr",
     "output_type": "stream",
     "text": [
      "/var/folders/pp/cdyfs0g13j3_15mc99_0nfmh0000gn/T/ipykernel_11254/17513562.py:22: UserWarning: /Volumes/Flodrive/Florence/smFISH/analysis/20241029-exp22/exp22-GLU_04/DIC_masks_discarded_by_shape.tif is a low contrast image\n",
      "  io.imsave(Path(imgdir) / 'DIC_masks_discarded_by_shape.tif', discarded)\n"
     ]
    },
    {
     "name": "stdout",
     "output_type": "stream",
     "text": [
      "152 - 2 -> 151\n",
      "Selected: exp22-GLU_05\n"
     ]
    },
    {
     "name": "stderr",
     "output_type": "stream",
     "text": [
      "/var/folders/pp/cdyfs0g13j3_15mc99_0nfmh0000gn/T/ipykernel_11254/17513562.py:17: UserWarning: /Volumes/Flodrive/Florence/smFISH/analysis/20241029-exp22/exp22-GLU_05/DIC_masks_discarded_by_area.tif is a low contrast image\n",
      "  io.imsave(Path(imgdir) / 'DIC_masks_discarded_by_area.tif', discarded)\n"
     ]
    },
    {
     "name": "stdout",
     "output_type": "stream",
     "text": [
      "137 - 4 -> 134\n"
     ]
    },
    {
     "name": "stderr",
     "output_type": "stream",
     "text": [
      "/var/folders/pp/cdyfs0g13j3_15mc99_0nfmh0000gn/T/ipykernel_11254/17513562.py:22: UserWarning: /Volumes/Flodrive/Florence/smFISH/analysis/20241029-exp22/exp22-GLU_05/DIC_masks_discarded_by_shape.tif is a low contrast image\n",
      "  io.imsave(Path(imgdir) / 'DIC_masks_discarded_by_shape.tif', discarded)\n"
     ]
    },
    {
     "name": "stdout",
     "output_type": "stream",
     "text": [
      "134 - 3 -> 132\n",
      "Selected: exp22-GLU_06\n"
     ]
    },
    {
     "name": "stderr",
     "output_type": "stream",
     "text": [
      "/var/folders/pp/cdyfs0g13j3_15mc99_0nfmh0000gn/T/ipykernel_11254/17513562.py:17: UserWarning: /Volumes/Flodrive/Florence/smFISH/analysis/20241029-exp22/exp22-GLU_06/DIC_masks_discarded_by_area.tif is a low contrast image\n",
      "  io.imsave(Path(imgdir) / 'DIC_masks_discarded_by_area.tif', discarded)\n",
      "/var/folders/pp/cdyfs0g13j3_15mc99_0nfmh0000gn/T/ipykernel_11254/17513562.py:18: UserWarning: /Volumes/Flodrive/Florence/smFISH/analysis/20241029-exp22/exp22-GLU_06/DIC_masks_selected_by_area.tif is a low contrast image\n",
      "  io.imsave(Path(imgdir) / 'DIC_masks_selected_by_area.tif', selected)\n"
     ]
    },
    {
     "name": "stdout",
     "output_type": "stream",
     "text": [
      "185 - 5 -> 181\n"
     ]
    },
    {
     "name": "stderr",
     "output_type": "stream",
     "text": [
      "/var/folders/pp/cdyfs0g13j3_15mc99_0nfmh0000gn/T/ipykernel_11254/17513562.py:22: UserWarning: /Volumes/Flodrive/Florence/smFISH/analysis/20241029-exp22/exp22-GLU_06/DIC_masks_discarded_by_shape.tif is a low contrast image\n",
      "  io.imsave(Path(imgdir) / 'DIC_masks_discarded_by_shape.tif', discarded)\n",
      "/var/folders/pp/cdyfs0g13j3_15mc99_0nfmh0000gn/T/ipykernel_11254/17513562.py:23: UserWarning: /Volumes/Flodrive/Florence/smFISH/analysis/20241029-exp22/exp22-GLU_06/DIC_masks_selected_by_shape.tif is a low contrast image\n",
      "  io.imsave(Path(imgdir) / 'DIC_masks_selected_by_shape.tif', selected)\n"
     ]
    },
    {
     "name": "stdout",
     "output_type": "stream",
     "text": [
      "181 - 2 -> 180\n",
      "Selected: exp22-GLU_07\n"
     ]
    },
    {
     "name": "stderr",
     "output_type": "stream",
     "text": [
      "/var/folders/pp/cdyfs0g13j3_15mc99_0nfmh0000gn/T/ipykernel_11254/17513562.py:17: UserWarning: /Volumes/Flodrive/Florence/smFISH/analysis/20241029-exp22/exp22-GLU_07/DIC_masks_discarded_by_area.tif is a low contrast image\n",
      "  io.imsave(Path(imgdir) / 'DIC_masks_discarded_by_area.tif', discarded)\n"
     ]
    },
    {
     "name": "stdout",
     "output_type": "stream",
     "text": [
      "143 - 2 -> 142\n"
     ]
    },
    {
     "name": "stderr",
     "output_type": "stream",
     "text": [
      "/var/folders/pp/cdyfs0g13j3_15mc99_0nfmh0000gn/T/ipykernel_11254/17513562.py:22: UserWarning: /Volumes/Flodrive/Florence/smFISH/analysis/20241029-exp22/exp22-GLU_07/DIC_masks_discarded_by_shape.tif is a low contrast image\n",
      "  io.imsave(Path(imgdir) / 'DIC_masks_discarded_by_shape.tif', discarded)\n"
     ]
    },
    {
     "name": "stdout",
     "output_type": "stream",
     "text": [
      "142 - 4 -> 139\n",
      "Selected: exp22-GLU_08\n"
     ]
    },
    {
     "name": "stderr",
     "output_type": "stream",
     "text": [
      "/var/folders/pp/cdyfs0g13j3_15mc99_0nfmh0000gn/T/ipykernel_11254/17513562.py:17: UserWarning: /Volumes/Flodrive/Florence/smFISH/analysis/20241029-exp22/exp22-GLU_08/DIC_masks_discarded_by_area.tif is a low contrast image\n",
      "  io.imsave(Path(imgdir) / 'DIC_masks_discarded_by_area.tif', discarded)\n",
      "/var/folders/pp/cdyfs0g13j3_15mc99_0nfmh0000gn/T/ipykernel_11254/17513562.py:18: UserWarning: /Volumes/Flodrive/Florence/smFISH/analysis/20241029-exp22/exp22-GLU_08/DIC_masks_selected_by_area.tif is a low contrast image\n",
      "  io.imsave(Path(imgdir) / 'DIC_masks_selected_by_area.tif', selected)\n"
     ]
    },
    {
     "name": "stdout",
     "output_type": "stream",
     "text": [
      "219 - 5 -> 215\n"
     ]
    },
    {
     "name": "stderr",
     "output_type": "stream",
     "text": [
      "/var/folders/pp/cdyfs0g13j3_15mc99_0nfmh0000gn/T/ipykernel_11254/17513562.py:22: UserWarning: /Volumes/Flodrive/Florence/smFISH/analysis/20241029-exp22/exp22-GLU_08/DIC_masks_discarded_by_shape.tif is a low contrast image\n",
      "  io.imsave(Path(imgdir) / 'DIC_masks_discarded_by_shape.tif', discarded)\n",
      "/var/folders/pp/cdyfs0g13j3_15mc99_0nfmh0000gn/T/ipykernel_11254/17513562.py:23: UserWarning: /Volumes/Flodrive/Florence/smFISH/analysis/20241029-exp22/exp22-GLU_08/DIC_masks_selected_by_shape.tif is a low contrast image\n",
      "  io.imsave(Path(imgdir) / 'DIC_masks_selected_by_shape.tif', selected)\n"
     ]
    },
    {
     "name": "stdout",
     "output_type": "stream",
     "text": [
      "215 - 2 -> 214\n",
      "Selected: exp22-GLU_09\n"
     ]
    },
    {
     "name": "stderr",
     "output_type": "stream",
     "text": [
      "/var/folders/pp/cdyfs0g13j3_15mc99_0nfmh0000gn/T/ipykernel_11254/17513562.py:17: UserWarning: /Volumes/Flodrive/Florence/smFISH/analysis/20241029-exp22/exp22-GLU_09/DIC_masks_discarded_by_area.tif is a low contrast image\n",
      "  io.imsave(Path(imgdir) / 'DIC_masks_discarded_by_area.tif', discarded)\n",
      "/var/folders/pp/cdyfs0g13j3_15mc99_0nfmh0000gn/T/ipykernel_11254/17513562.py:18: UserWarning: /Volumes/Flodrive/Florence/smFISH/analysis/20241029-exp22/exp22-GLU_09/DIC_masks_selected_by_area.tif is a low contrast image\n",
      "  io.imsave(Path(imgdir) / 'DIC_masks_selected_by_area.tif', selected)\n"
     ]
    },
    {
     "name": "stdout",
     "output_type": "stream",
     "text": [
      "426 - 6 -> 421\n"
     ]
    },
    {
     "name": "stderr",
     "output_type": "stream",
     "text": [
      "/var/folders/pp/cdyfs0g13j3_15mc99_0nfmh0000gn/T/ipykernel_11254/17513562.py:22: UserWarning: /Volumes/Flodrive/Florence/smFISH/analysis/20241029-exp22/exp22-GLU_09/DIC_masks_discarded_by_shape.tif is a low contrast image\n",
      "  io.imsave(Path(imgdir) / 'DIC_masks_discarded_by_shape.tif', discarded)\n",
      "/var/folders/pp/cdyfs0g13j3_15mc99_0nfmh0000gn/T/ipykernel_11254/17513562.py:23: UserWarning: /Volumes/Flodrive/Florence/smFISH/analysis/20241029-exp22/exp22-GLU_09/DIC_masks_selected_by_shape.tif is a low contrast image\n",
      "  io.imsave(Path(imgdir) / 'DIC_masks_selected_by_shape.tif', selected)\n"
     ]
    },
    {
     "name": "stdout",
     "output_type": "stream",
     "text": [
      "421 - 5 -> 417\n",
      "Selected: exp22-GLU_10\n"
     ]
    },
    {
     "name": "stderr",
     "output_type": "stream",
     "text": [
      "/var/folders/pp/cdyfs0g13j3_15mc99_0nfmh0000gn/T/ipykernel_11254/17513562.py:17: UserWarning: /Volumes/Flodrive/Florence/smFISH/analysis/20241029-exp22/exp22-GLU_10/DIC_masks_discarded_by_area.tif is a low contrast image\n",
      "  io.imsave(Path(imgdir) / 'DIC_masks_discarded_by_area.tif', discarded)\n",
      "/var/folders/pp/cdyfs0g13j3_15mc99_0nfmh0000gn/T/ipykernel_11254/17513562.py:18: UserWarning: /Volumes/Flodrive/Florence/smFISH/analysis/20241029-exp22/exp22-GLU_10/DIC_masks_selected_by_area.tif is a low contrast image\n",
      "  io.imsave(Path(imgdir) / 'DIC_masks_selected_by_area.tif', selected)\n"
     ]
    },
    {
     "name": "stdout",
     "output_type": "stream",
     "text": [
      "196 - 5 -> 192\n"
     ]
    },
    {
     "name": "stderr",
     "output_type": "stream",
     "text": [
      "/var/folders/pp/cdyfs0g13j3_15mc99_0nfmh0000gn/T/ipykernel_11254/17513562.py:22: UserWarning: /Volumes/Flodrive/Florence/smFISH/analysis/20241029-exp22/exp22-GLU_10/DIC_masks_discarded_by_shape.tif is a low contrast image\n",
      "  io.imsave(Path(imgdir) / 'DIC_masks_discarded_by_shape.tif', discarded)\n",
      "/var/folders/pp/cdyfs0g13j3_15mc99_0nfmh0000gn/T/ipykernel_11254/17513562.py:23: UserWarning: /Volumes/Flodrive/Florence/smFISH/analysis/20241029-exp22/exp22-GLU_10/DIC_masks_selected_by_shape.tif is a low contrast image\n",
      "  io.imsave(Path(imgdir) / 'DIC_masks_selected_by_shape.tif', selected)\n"
     ]
    },
    {
     "name": "stdout",
     "output_type": "stream",
     "text": [
      "192 - 1 -> 192\n",
      "Selected: exp22-GLY_09\n"
     ]
    },
    {
     "name": "stderr",
     "output_type": "stream",
     "text": [
      "/var/folders/pp/cdyfs0g13j3_15mc99_0nfmh0000gn/T/ipykernel_11254/17513562.py:17: UserWarning: /Volumes/Flodrive/Florence/smFISH/analysis/20241029-exp22/exp22-GLY_09/DIC_masks_discarded_by_area.tif is a low contrast image\n",
      "  io.imsave(Path(imgdir) / 'DIC_masks_discarded_by_area.tif', discarded)\n",
      "/var/folders/pp/cdyfs0g13j3_15mc99_0nfmh0000gn/T/ipykernel_11254/17513562.py:18: UserWarning: /Volumes/Flodrive/Florence/smFISH/analysis/20241029-exp22/exp22-GLY_09/DIC_masks_selected_by_area.tif is a low contrast image\n",
      "  io.imsave(Path(imgdir) / 'DIC_masks_selected_by_area.tif', selected)\n"
     ]
    },
    {
     "name": "stdout",
     "output_type": "stream",
     "text": [
      "2412 - 49 -> 2364\n"
     ]
    },
    {
     "name": "stderr",
     "output_type": "stream",
     "text": [
      "/var/folders/pp/cdyfs0g13j3_15mc99_0nfmh0000gn/T/ipykernel_11254/17513562.py:22: UserWarning: /Volumes/Flodrive/Florence/smFISH/analysis/20241029-exp22/exp22-GLY_09/DIC_masks_discarded_by_shape.tif is a low contrast image\n",
      "  io.imsave(Path(imgdir) / 'DIC_masks_discarded_by_shape.tif', discarded)\n",
      "/var/folders/pp/cdyfs0g13j3_15mc99_0nfmh0000gn/T/ipykernel_11254/17513562.py:23: UserWarning: /Volumes/Flodrive/Florence/smFISH/analysis/20241029-exp22/exp22-GLY_09/DIC_masks_selected_by_shape.tif is a low contrast image\n",
      "  io.imsave(Path(imgdir) / 'DIC_masks_selected_by_shape.tif', selected)\n"
     ]
    },
    {
     "name": "stdout",
     "output_type": "stream",
     "text": [
      "2364 - 19 -> 2346\n",
      "Selected: exp22-GLY_10\n"
     ]
    },
    {
     "name": "stderr",
     "output_type": "stream",
     "text": [
      "/var/folders/pp/cdyfs0g13j3_15mc99_0nfmh0000gn/T/ipykernel_11254/17513562.py:17: UserWarning: /Volumes/Flodrive/Florence/smFISH/analysis/20241029-exp22/exp22-GLY_10/DIC_masks_discarded_by_area.tif is a low contrast image\n",
      "  io.imsave(Path(imgdir) / 'DIC_masks_discarded_by_area.tif', discarded)\n",
      "/var/folders/pp/cdyfs0g13j3_15mc99_0nfmh0000gn/T/ipykernel_11254/17513562.py:18: UserWarning: /Volumes/Flodrive/Florence/smFISH/analysis/20241029-exp22/exp22-GLY_10/DIC_masks_selected_by_area.tif is a low contrast image\n",
      "  io.imsave(Path(imgdir) / 'DIC_masks_selected_by_area.tif', selected)\n"
     ]
    },
    {
     "name": "stdout",
     "output_type": "stream",
     "text": [
      "277 - 20 -> 258\n"
     ]
    },
    {
     "name": "stderr",
     "output_type": "stream",
     "text": [
      "/var/folders/pp/cdyfs0g13j3_15mc99_0nfmh0000gn/T/ipykernel_11254/17513562.py:22: UserWarning: /Volumes/Flodrive/Florence/smFISH/analysis/20241029-exp22/exp22-GLY_10/DIC_masks_discarded_by_shape.tif is a low contrast image\n",
      "  io.imsave(Path(imgdir) / 'DIC_masks_discarded_by_shape.tif', discarded)\n",
      "/var/folders/pp/cdyfs0g13j3_15mc99_0nfmh0000gn/T/ipykernel_11254/17513562.py:23: UserWarning: /Volumes/Flodrive/Florence/smFISH/analysis/20241029-exp22/exp22-GLY_10/DIC_masks_selected_by_shape.tif is a low contrast image\n",
      "  io.imsave(Path(imgdir) / 'DIC_masks_selected_by_shape.tif', selected)\n"
     ]
    },
    {
     "name": "stdout",
     "output_type": "stream",
     "text": [
      "258 - 1 -> 258\n",
      "Selected: exp22-GAL_03\n"
     ]
    },
    {
     "name": "stderr",
     "output_type": "stream",
     "text": [
      "/var/folders/pp/cdyfs0g13j3_15mc99_0nfmh0000gn/T/ipykernel_11254/17513562.py:17: UserWarning: /Volumes/Flodrive/Florence/smFISH/analysis/20241029-exp22/exp22-GAL_03/DIC_masks_discarded_by_area.tif is a low contrast image\n",
      "  io.imsave(Path(imgdir) / 'DIC_masks_discarded_by_area.tif', discarded)\n",
      "/var/folders/pp/cdyfs0g13j3_15mc99_0nfmh0000gn/T/ipykernel_11254/17513562.py:18: UserWarning: /Volumes/Flodrive/Florence/smFISH/analysis/20241029-exp22/exp22-GAL_03/DIC_masks_selected_by_area.tif is a low contrast image\n",
      "  io.imsave(Path(imgdir) / 'DIC_masks_selected_by_area.tif', selected)\n"
     ]
    },
    {
     "name": "stdout",
     "output_type": "stream",
     "text": [
      "1833 - 18 -> 1816\n"
     ]
    },
    {
     "name": "stderr",
     "output_type": "stream",
     "text": [
      "/var/folders/pp/cdyfs0g13j3_15mc99_0nfmh0000gn/T/ipykernel_11254/17513562.py:22: UserWarning: /Volumes/Flodrive/Florence/smFISH/analysis/20241029-exp22/exp22-GAL_03/DIC_masks_discarded_by_shape.tif is a low contrast image\n",
      "  io.imsave(Path(imgdir) / 'DIC_masks_discarded_by_shape.tif', discarded)\n",
      "/var/folders/pp/cdyfs0g13j3_15mc99_0nfmh0000gn/T/ipykernel_11254/17513562.py:23: UserWarning: /Volumes/Flodrive/Florence/smFISH/analysis/20241029-exp22/exp22-GAL_03/DIC_masks_selected_by_shape.tif is a low contrast image\n",
      "  io.imsave(Path(imgdir) / 'DIC_masks_selected_by_shape.tif', selected)\n"
     ]
    },
    {
     "name": "stdout",
     "output_type": "stream",
     "text": [
      "1816 - 9 -> 1808\n",
      "Selected: exp22-GAL_04\n"
     ]
    },
    {
     "name": "stderr",
     "output_type": "stream",
     "text": [
      "/var/folders/pp/cdyfs0g13j3_15mc99_0nfmh0000gn/T/ipykernel_11254/17513562.py:17: UserWarning: /Volumes/Flodrive/Florence/smFISH/analysis/20241029-exp22/exp22-GAL_04/DIC_masks_discarded_by_area.tif is a low contrast image\n",
      "  io.imsave(Path(imgdir) / 'DIC_masks_discarded_by_area.tif', discarded)\n",
      "/var/folders/pp/cdyfs0g13j3_15mc99_0nfmh0000gn/T/ipykernel_11254/17513562.py:18: UserWarning: /Volumes/Flodrive/Florence/smFISH/analysis/20241029-exp22/exp22-GAL_04/DIC_masks_selected_by_area.tif is a low contrast image\n",
      "  io.imsave(Path(imgdir) / 'DIC_masks_selected_by_area.tif', selected)\n"
     ]
    },
    {
     "name": "stdout",
     "output_type": "stream",
     "text": [
      "1131 - 13 -> 1119\n"
     ]
    },
    {
     "name": "stderr",
     "output_type": "stream",
     "text": [
      "/var/folders/pp/cdyfs0g13j3_15mc99_0nfmh0000gn/T/ipykernel_11254/17513562.py:22: UserWarning: /Volumes/Flodrive/Florence/smFISH/analysis/20241029-exp22/exp22-GAL_04/DIC_masks_discarded_by_shape.tif is a low contrast image\n",
      "  io.imsave(Path(imgdir) / 'DIC_masks_discarded_by_shape.tif', discarded)\n",
      "/var/folders/pp/cdyfs0g13j3_15mc99_0nfmh0000gn/T/ipykernel_11254/17513562.py:23: UserWarning: /Volumes/Flodrive/Florence/smFISH/analysis/20241029-exp22/exp22-GAL_04/DIC_masks_selected_by_shape.tif is a low contrast image\n",
      "  io.imsave(Path(imgdir) / 'DIC_masks_selected_by_shape.tif', selected)\n"
     ]
    },
    {
     "name": "stdout",
     "output_type": "stream",
     "text": [
      "1119 - 2 -> 1118\n",
      "Selected: exp22-GAL_07\n"
     ]
    },
    {
     "name": "stderr",
     "output_type": "stream",
     "text": [
      "/var/folders/pp/cdyfs0g13j3_15mc99_0nfmh0000gn/T/ipykernel_11254/17513562.py:17: UserWarning: /Volumes/Flodrive/Florence/smFISH/analysis/20241029-exp22/exp22-GAL_07/DIC_masks_discarded_by_area.tif is a low contrast image\n",
      "  io.imsave(Path(imgdir) / 'DIC_masks_discarded_by_area.tif', discarded)\n",
      "/var/folders/pp/cdyfs0g13j3_15mc99_0nfmh0000gn/T/ipykernel_11254/17513562.py:18: UserWarning: /Volumes/Flodrive/Florence/smFISH/analysis/20241029-exp22/exp22-GAL_07/DIC_masks_selected_by_area.tif is a low contrast image\n",
      "  io.imsave(Path(imgdir) / 'DIC_masks_selected_by_area.tif', selected)\n"
     ]
    },
    {
     "name": "stdout",
     "output_type": "stream",
     "text": [
      "952 - 51 -> 902\n"
     ]
    },
    {
     "name": "stderr",
     "output_type": "stream",
     "text": [
      "/var/folders/pp/cdyfs0g13j3_15mc99_0nfmh0000gn/T/ipykernel_11254/17513562.py:22: UserWarning: /Volumes/Flodrive/Florence/smFISH/analysis/20241029-exp22/exp22-GAL_07/DIC_masks_discarded_by_shape.tif is a low contrast image\n",
      "  io.imsave(Path(imgdir) / 'DIC_masks_discarded_by_shape.tif', discarded)\n",
      "/var/folders/pp/cdyfs0g13j3_15mc99_0nfmh0000gn/T/ipykernel_11254/17513562.py:23: UserWarning: /Volumes/Flodrive/Florence/smFISH/analysis/20241029-exp22/exp22-GAL_07/DIC_masks_selected_by_shape.tif is a low contrast image\n",
      "  io.imsave(Path(imgdir) / 'DIC_masks_selected_by_shape.tif', selected)\n"
     ]
    },
    {
     "name": "stdout",
     "output_type": "stream",
     "text": [
      "902 - 2 -> 901\n",
      "Selected: exp22-GAL_08\n"
     ]
    },
    {
     "name": "stderr",
     "output_type": "stream",
     "text": [
      "/var/folders/pp/cdyfs0g13j3_15mc99_0nfmh0000gn/T/ipykernel_11254/17513562.py:17: UserWarning: /Volumes/Flodrive/Florence/smFISH/analysis/20241029-exp22/exp22-GAL_08/DIC_masks_discarded_by_area.tif is a low contrast image\n",
      "  io.imsave(Path(imgdir) / 'DIC_masks_discarded_by_area.tif', discarded)\n",
      "/var/folders/pp/cdyfs0g13j3_15mc99_0nfmh0000gn/T/ipykernel_11254/17513562.py:18: UserWarning: /Volumes/Flodrive/Florence/smFISH/analysis/20241029-exp22/exp22-GAL_08/DIC_masks_selected_by_area.tif is a low contrast image\n",
      "  io.imsave(Path(imgdir) / 'DIC_masks_selected_by_area.tif', selected)\n"
     ]
    },
    {
     "name": "stdout",
     "output_type": "stream",
     "text": [
      "919 - 46 -> 874\n"
     ]
    },
    {
     "name": "stderr",
     "output_type": "stream",
     "text": [
      "/var/folders/pp/cdyfs0g13j3_15mc99_0nfmh0000gn/T/ipykernel_11254/17513562.py:22: UserWarning: /Volumes/Flodrive/Florence/smFISH/analysis/20241029-exp22/exp22-GAL_08/DIC_masks_discarded_by_shape.tif is a low contrast image\n",
      "  io.imsave(Path(imgdir) / 'DIC_masks_discarded_by_shape.tif', discarded)\n",
      "/var/folders/pp/cdyfs0g13j3_15mc99_0nfmh0000gn/T/ipykernel_11254/17513562.py:23: UserWarning: /Volumes/Flodrive/Florence/smFISH/analysis/20241029-exp22/exp22-GAL_08/DIC_masks_selected_by_shape.tif is a low contrast image\n",
      "  io.imsave(Path(imgdir) / 'DIC_masks_selected_by_shape.tif', selected)\n"
     ]
    },
    {
     "name": "stdout",
     "output_type": "stream",
     "text": [
      "874 - 2 -> 873\n",
      "Selected: exp22-MAN_01\n"
     ]
    },
    {
     "name": "stderr",
     "output_type": "stream",
     "text": [
      "/var/folders/pp/cdyfs0g13j3_15mc99_0nfmh0000gn/T/ipykernel_11254/17513562.py:17: UserWarning: /Volumes/Flodrive/Florence/smFISH/analysis/20241029-exp22/exp22-MAN_01/DIC_masks_discarded_by_area.tif is a low contrast image\n",
      "  io.imsave(Path(imgdir) / 'DIC_masks_discarded_by_area.tif', discarded)\n",
      "/var/folders/pp/cdyfs0g13j3_15mc99_0nfmh0000gn/T/ipykernel_11254/17513562.py:18: UserWarning: /Volumes/Flodrive/Florence/smFISH/analysis/20241029-exp22/exp22-MAN_01/DIC_masks_selected_by_area.tif is a low contrast image\n",
      "  io.imsave(Path(imgdir) / 'DIC_masks_selected_by_area.tif', selected)\n"
     ]
    },
    {
     "name": "stdout",
     "output_type": "stream",
     "text": [
      "782 - 46 -> 737\n"
     ]
    },
    {
     "name": "stderr",
     "output_type": "stream",
     "text": [
      "/var/folders/pp/cdyfs0g13j3_15mc99_0nfmh0000gn/T/ipykernel_11254/17513562.py:22: UserWarning: /Volumes/Flodrive/Florence/smFISH/analysis/20241029-exp22/exp22-MAN_01/DIC_masks_discarded_by_shape.tif is a low contrast image\n",
      "  io.imsave(Path(imgdir) / 'DIC_masks_discarded_by_shape.tif', discarded)\n",
      "/var/folders/pp/cdyfs0g13j3_15mc99_0nfmh0000gn/T/ipykernel_11254/17513562.py:23: UserWarning: /Volumes/Flodrive/Florence/smFISH/analysis/20241029-exp22/exp22-MAN_01/DIC_masks_selected_by_shape.tif is a low contrast image\n",
      "  io.imsave(Path(imgdir) / 'DIC_masks_selected_by_shape.tif', selected)\n"
     ]
    },
    {
     "name": "stdout",
     "output_type": "stream",
     "text": [
      "737 - 2 -> 736\n",
      "Selected: exp22-MAN_02\n"
     ]
    },
    {
     "name": "stderr",
     "output_type": "stream",
     "text": [
      "/var/folders/pp/cdyfs0g13j3_15mc99_0nfmh0000gn/T/ipykernel_11254/17513562.py:17: UserWarning: /Volumes/Flodrive/Florence/smFISH/analysis/20241029-exp22/exp22-MAN_02/DIC_masks_discarded_by_area.tif is a low contrast image\n",
      "  io.imsave(Path(imgdir) / 'DIC_masks_discarded_by_area.tif', discarded)\n",
      "/var/folders/pp/cdyfs0g13j3_15mc99_0nfmh0000gn/T/ipykernel_11254/17513562.py:18: UserWarning: /Volumes/Flodrive/Florence/smFISH/analysis/20241029-exp22/exp22-MAN_02/DIC_masks_selected_by_area.tif is a low contrast image\n",
      "  io.imsave(Path(imgdir) / 'DIC_masks_selected_by_area.tif', selected)\n"
     ]
    },
    {
     "name": "stdout",
     "output_type": "stream",
     "text": [
      "855 - 17 -> 839\n"
     ]
    },
    {
     "name": "stderr",
     "output_type": "stream",
     "text": [
      "/var/folders/pp/cdyfs0g13j3_15mc99_0nfmh0000gn/T/ipykernel_11254/17513562.py:22: UserWarning: /Volumes/Flodrive/Florence/smFISH/analysis/20241029-exp22/exp22-MAN_02/DIC_masks_discarded_by_shape.tif is a low contrast image\n",
      "  io.imsave(Path(imgdir) / 'DIC_masks_discarded_by_shape.tif', discarded)\n",
      "/var/folders/pp/cdyfs0g13j3_15mc99_0nfmh0000gn/T/ipykernel_11254/17513562.py:23: UserWarning: /Volumes/Flodrive/Florence/smFISH/analysis/20241029-exp22/exp22-MAN_02/DIC_masks_selected_by_shape.tif is a low contrast image\n",
      "  io.imsave(Path(imgdir) / 'DIC_masks_selected_by_shape.tif', selected)\n"
     ]
    },
    {
     "name": "stdout",
     "output_type": "stream",
     "text": [
      "839 - 3 -> 837\n",
      "Selected: exp22-MAN_03\n"
     ]
    },
    {
     "name": "stderr",
     "output_type": "stream",
     "text": [
      "/var/folders/pp/cdyfs0g13j3_15mc99_0nfmh0000gn/T/ipykernel_11254/17513562.py:17: UserWarning: /Volumes/Flodrive/Florence/smFISH/analysis/20241029-exp22/exp22-MAN_03/DIC_masks_discarded_by_area.tif is a low contrast image\n",
      "  io.imsave(Path(imgdir) / 'DIC_masks_discarded_by_area.tif', discarded)\n",
      "/var/folders/pp/cdyfs0g13j3_15mc99_0nfmh0000gn/T/ipykernel_11254/17513562.py:18: UserWarning: /Volumes/Flodrive/Florence/smFISH/analysis/20241029-exp22/exp22-MAN_03/DIC_masks_selected_by_area.tif is a low contrast image\n",
      "  io.imsave(Path(imgdir) / 'DIC_masks_selected_by_area.tif', selected)\n"
     ]
    },
    {
     "name": "stdout",
     "output_type": "stream",
     "text": [
      "1009 - 24 -> 986\n"
     ]
    },
    {
     "name": "stderr",
     "output_type": "stream",
     "text": [
      "/var/folders/pp/cdyfs0g13j3_15mc99_0nfmh0000gn/T/ipykernel_11254/17513562.py:22: UserWarning: /Volumes/Flodrive/Florence/smFISH/analysis/20241029-exp22/exp22-MAN_03/DIC_masks_discarded_by_shape.tif is a low contrast image\n",
      "  io.imsave(Path(imgdir) / 'DIC_masks_discarded_by_shape.tif', discarded)\n",
      "/var/folders/pp/cdyfs0g13j3_15mc99_0nfmh0000gn/T/ipykernel_11254/17513562.py:23: UserWarning: /Volumes/Flodrive/Florence/smFISH/analysis/20241029-exp22/exp22-MAN_03/DIC_masks_selected_by_shape.tif is a low contrast image\n",
      "  io.imsave(Path(imgdir) / 'DIC_masks_selected_by_shape.tif', selected)\n"
     ]
    },
    {
     "name": "stdout",
     "output_type": "stream",
     "text": [
      "986 - 5 -> 982\n",
      "Selected: exp22-MAN_05\n"
     ]
    },
    {
     "name": "stderr",
     "output_type": "stream",
     "text": [
      "/var/folders/pp/cdyfs0g13j3_15mc99_0nfmh0000gn/T/ipykernel_11254/17513562.py:17: UserWarning: /Volumes/Flodrive/Florence/smFISH/analysis/20241029-exp22/exp22-MAN_05/DIC_masks_discarded_by_area.tif is a low contrast image\n",
      "  io.imsave(Path(imgdir) / 'DIC_masks_discarded_by_area.tif', discarded)\n",
      "/var/folders/pp/cdyfs0g13j3_15mc99_0nfmh0000gn/T/ipykernel_11254/17513562.py:18: UserWarning: /Volumes/Flodrive/Florence/smFISH/analysis/20241029-exp22/exp22-MAN_05/DIC_masks_selected_by_area.tif is a low contrast image\n",
      "  io.imsave(Path(imgdir) / 'DIC_masks_selected_by_area.tif', selected)\n"
     ]
    },
    {
     "name": "stdout",
     "output_type": "stream",
     "text": [
      "753 - 92 -> 662\n"
     ]
    },
    {
     "name": "stderr",
     "output_type": "stream",
     "text": [
      "/var/folders/pp/cdyfs0g13j3_15mc99_0nfmh0000gn/T/ipykernel_11254/17513562.py:22: UserWarning: /Volumes/Flodrive/Florence/smFISH/analysis/20241029-exp22/exp22-MAN_05/DIC_masks_discarded_by_shape.tif is a low contrast image\n",
      "  io.imsave(Path(imgdir) / 'DIC_masks_discarded_by_shape.tif', discarded)\n",
      "/var/folders/pp/cdyfs0g13j3_15mc99_0nfmh0000gn/T/ipykernel_11254/17513562.py:23: UserWarning: /Volumes/Flodrive/Florence/smFISH/analysis/20241029-exp22/exp22-MAN_05/DIC_masks_selected_by_shape.tif is a low contrast image\n",
      "  io.imsave(Path(imgdir) / 'DIC_masks_selected_by_shape.tif', selected)\n"
     ]
    },
    {
     "name": "stdout",
     "output_type": "stream",
     "text": [
      "662 - 1 -> 662\n",
      "Selected: exp22-MAN_06\n"
     ]
    },
    {
     "name": "stderr",
     "output_type": "stream",
     "text": [
      "/var/folders/pp/cdyfs0g13j3_15mc99_0nfmh0000gn/T/ipykernel_11254/17513562.py:17: UserWarning: /Volumes/Flodrive/Florence/smFISH/analysis/20241029-exp22/exp22-MAN_06/DIC_masks_discarded_by_area.tif is a low contrast image\n",
      "  io.imsave(Path(imgdir) / 'DIC_masks_discarded_by_area.tif', discarded)\n",
      "/var/folders/pp/cdyfs0g13j3_15mc99_0nfmh0000gn/T/ipykernel_11254/17513562.py:18: UserWarning: /Volumes/Flodrive/Florence/smFISH/analysis/20241029-exp22/exp22-MAN_06/DIC_masks_selected_by_area.tif is a low contrast image\n",
      "  io.imsave(Path(imgdir) / 'DIC_masks_selected_by_area.tif', selected)\n"
     ]
    },
    {
     "name": "stdout",
     "output_type": "stream",
     "text": [
      "1164 - 48 -> 1117\n"
     ]
    },
    {
     "name": "stderr",
     "output_type": "stream",
     "text": [
      "/var/folders/pp/cdyfs0g13j3_15mc99_0nfmh0000gn/T/ipykernel_11254/17513562.py:22: UserWarning: /Volumes/Flodrive/Florence/smFISH/analysis/20241029-exp22/exp22-MAN_06/DIC_masks_discarded_by_shape.tif is a low contrast image\n",
      "  io.imsave(Path(imgdir) / 'DIC_masks_discarded_by_shape.tif', discarded)\n",
      "/var/folders/pp/cdyfs0g13j3_15mc99_0nfmh0000gn/T/ipykernel_11254/17513562.py:23: UserWarning: /Volumes/Flodrive/Florence/smFISH/analysis/20241029-exp22/exp22-MAN_06/DIC_masks_selected_by_shape.tif is a low contrast image\n",
      "  io.imsave(Path(imgdir) / 'DIC_masks_selected_by_shape.tif', selected)\n"
     ]
    },
    {
     "name": "stdout",
     "output_type": "stream",
     "text": [
      "1117 - 3 -> 1115\n",
      "Config file from: /Volumes/Flodrive/Florence/smFISH/analysis/20241003-exp16\n",
      "\t/Volumes/Flodrive/Florence/smFISH/analysis/20241003-exp16/config-detection-processed.json\n",
      "Selected: MG1655_GAL-lowOD-2nd_06\n"
     ]
    },
    {
     "name": "stderr",
     "output_type": "stream",
     "text": [
      "/var/folders/pp/cdyfs0g13j3_15mc99_0nfmh0000gn/T/ipykernel_11254/17513562.py:17: UserWarning: /Volumes/Flodrive/Florence/smFISH/analysis/20241003-exp16/MG1655_GAL-lowOD-2nd_06/DIC_masks_discarded_by_area.tif is a low contrast image\n",
      "  io.imsave(Path(imgdir) / 'DIC_masks_discarded_by_area.tif', discarded)\n",
      "/var/folders/pp/cdyfs0g13j3_15mc99_0nfmh0000gn/T/ipykernel_11254/17513562.py:18: UserWarning: /Volumes/Flodrive/Florence/smFISH/analysis/20241003-exp16/MG1655_GAL-lowOD-2nd_06/DIC_masks_selected_by_area.tif is a low contrast image\n",
      "  io.imsave(Path(imgdir) / 'DIC_masks_selected_by_area.tif', selected)\n"
     ]
    },
    {
     "name": "stdout",
     "output_type": "stream",
     "text": [
      "612 - 55 -> 558\n"
     ]
    },
    {
     "name": "stderr",
     "output_type": "stream",
     "text": [
      "/var/folders/pp/cdyfs0g13j3_15mc99_0nfmh0000gn/T/ipykernel_11254/17513562.py:22: UserWarning: /Volumes/Flodrive/Florence/smFISH/analysis/20241003-exp16/MG1655_GAL-lowOD-2nd_06/DIC_masks_discarded_by_shape.tif is a low contrast image\n",
      "  io.imsave(Path(imgdir) / 'DIC_masks_discarded_by_shape.tif', discarded)\n",
      "/var/folders/pp/cdyfs0g13j3_15mc99_0nfmh0000gn/T/ipykernel_11254/17513562.py:23: UserWarning: /Volumes/Flodrive/Florence/smFISH/analysis/20241003-exp16/MG1655_GAL-lowOD-2nd_06/DIC_masks_selected_by_shape.tif is a low contrast image\n",
      "  io.imsave(Path(imgdir) / 'DIC_masks_selected_by_shape.tif', selected)\n"
     ]
    },
    {
     "name": "stdout",
     "output_type": "stream",
     "text": [
      "558 - 1 -> 558\n",
      "Selected: MG1655_GAL-lowOD-2nd_09\n"
     ]
    },
    {
     "name": "stderr",
     "output_type": "stream",
     "text": [
      "/var/folders/pp/cdyfs0g13j3_15mc99_0nfmh0000gn/T/ipykernel_11254/17513562.py:17: UserWarning: /Volumes/Flodrive/Florence/smFISH/analysis/20241003-exp16/MG1655_GAL-lowOD-2nd_09/DIC_masks_discarded_by_area.tif is a low contrast image\n",
      "  io.imsave(Path(imgdir) / 'DIC_masks_discarded_by_area.tif', discarded)\n",
      "/var/folders/pp/cdyfs0g13j3_15mc99_0nfmh0000gn/T/ipykernel_11254/17513562.py:18: UserWarning: /Volumes/Flodrive/Florence/smFISH/analysis/20241003-exp16/MG1655_GAL-lowOD-2nd_09/DIC_masks_selected_by_area.tif is a low contrast image\n",
      "  io.imsave(Path(imgdir) / 'DIC_masks_selected_by_area.tif', selected)\n"
     ]
    },
    {
     "name": "stdout",
     "output_type": "stream",
     "text": [
      "162 - 15 -> 148\n"
     ]
    },
    {
     "name": "stderr",
     "output_type": "stream",
     "text": [
      "/var/folders/pp/cdyfs0g13j3_15mc99_0nfmh0000gn/T/ipykernel_11254/17513562.py:22: UserWarning: /Volumes/Flodrive/Florence/smFISH/analysis/20241003-exp16/MG1655_GAL-lowOD-2nd_09/DIC_masks_discarded_by_shape.tif is a low contrast image\n",
      "  io.imsave(Path(imgdir) / 'DIC_masks_discarded_by_shape.tif', discarded)\n",
      "/var/folders/pp/cdyfs0g13j3_15mc99_0nfmh0000gn/T/ipykernel_11254/17513562.py:23: UserWarning: /Volumes/Flodrive/Florence/smFISH/analysis/20241003-exp16/MG1655_GAL-lowOD-2nd_09/DIC_masks_selected_by_shape.tif is a low contrast image\n",
      "  io.imsave(Path(imgdir) / 'DIC_masks_selected_by_shape.tif', selected)\n"
     ]
    },
    {
     "name": "stdout",
     "output_type": "stream",
     "text": [
      "148 - 1 -> 148\n",
      "Selected: MG1655_GLY-lowOD-2nd_01\n"
     ]
    },
    {
     "name": "stderr",
     "output_type": "stream",
     "text": [
      "/var/folders/pp/cdyfs0g13j3_15mc99_0nfmh0000gn/T/ipykernel_11254/17513562.py:17: UserWarning: /Volumes/Flodrive/Florence/smFISH/analysis/20241003-exp16/MG1655_GLY-lowOD-2nd_01/DIC_masks_discarded_by_area.tif is a low contrast image\n",
      "  io.imsave(Path(imgdir) / 'DIC_masks_discarded_by_area.tif', discarded)\n"
     ]
    },
    {
     "name": "stdout",
     "output_type": "stream",
     "text": [
      "134 - 2 -> 133\n"
     ]
    },
    {
     "name": "stderr",
     "output_type": "stream",
     "text": [
      "/var/folders/pp/cdyfs0g13j3_15mc99_0nfmh0000gn/T/ipykernel_11254/17513562.py:22: UserWarning: /Volumes/Flodrive/Florence/smFISH/analysis/20241003-exp16/MG1655_GLY-lowOD-2nd_01/DIC_masks_discarded_by_shape.tif is a low contrast image\n",
      "  io.imsave(Path(imgdir) / 'DIC_masks_discarded_by_shape.tif', discarded)\n"
     ]
    },
    {
     "name": "stdout",
     "output_type": "stream",
     "text": [
      "133 - 4 -> 130\n",
      "Config file from: /Volumes/Flodrive/Florence/smFISH/analysis/20240927-exp16\n",
      "\t/Volumes/Flodrive/Florence/smFISH/analysis/20240927-exp16/config-detection-processed.json\n",
      "Selected: MG1655_GLU_OD_0.3_left_02\n"
     ]
    },
    {
     "name": "stderr",
     "output_type": "stream",
     "text": [
      "/var/folders/pp/cdyfs0g13j3_15mc99_0nfmh0000gn/T/ipykernel_11254/17513562.py:17: UserWarning: /Volumes/Flodrive/Florence/smFISH/analysis/20240927-exp16/MG1655_GLU_OD_0.3_left_02/DIC_masks_discarded_by_area.tif is a low contrast image\n",
      "  io.imsave(Path(imgdir) / 'DIC_masks_discarded_by_area.tif', discarded)\n",
      "/var/folders/pp/cdyfs0g13j3_15mc99_0nfmh0000gn/T/ipykernel_11254/17513562.py:18: UserWarning: /Volumes/Flodrive/Florence/smFISH/analysis/20240927-exp16/MG1655_GLU_OD_0.3_left_02/DIC_masks_selected_by_area.tif is a low contrast image\n",
      "  io.imsave(Path(imgdir) / 'DIC_masks_selected_by_area.tif', selected)\n"
     ]
    },
    {
     "name": "stdout",
     "output_type": "stream",
     "text": [
      "2375 - 41 -> 2335\n"
     ]
    },
    {
     "name": "stderr",
     "output_type": "stream",
     "text": [
      "/var/folders/pp/cdyfs0g13j3_15mc99_0nfmh0000gn/T/ipykernel_11254/17513562.py:22: UserWarning: /Volumes/Flodrive/Florence/smFISH/analysis/20240927-exp16/MG1655_GLU_OD_0.3_left_02/DIC_masks_discarded_by_shape.tif is a low contrast image\n",
      "  io.imsave(Path(imgdir) / 'DIC_masks_discarded_by_shape.tif', discarded)\n",
      "/var/folders/pp/cdyfs0g13j3_15mc99_0nfmh0000gn/T/ipykernel_11254/17513562.py:23: UserWarning: /Volumes/Flodrive/Florence/smFISH/analysis/20240927-exp16/MG1655_GLU_OD_0.3_left_02/DIC_masks_selected_by_shape.tif is a low contrast image\n",
      "  io.imsave(Path(imgdir) / 'DIC_masks_selected_by_shape.tif', selected)\n"
     ]
    },
    {
     "name": "stdout",
     "output_type": "stream",
     "text": [
      "2335 - 2 -> 2334\n",
      "Selected: MG1655_GLU_OD_0.3_left_03\n"
     ]
    },
    {
     "name": "stderr",
     "output_type": "stream",
     "text": [
      "/var/folders/pp/cdyfs0g13j3_15mc99_0nfmh0000gn/T/ipykernel_11254/17513562.py:17: UserWarning: /Volumes/Flodrive/Florence/smFISH/analysis/20240927-exp16/MG1655_GLU_OD_0.3_left_03/DIC_masks_discarded_by_area.tif is a low contrast image\n",
      "  io.imsave(Path(imgdir) / 'DIC_masks_discarded_by_area.tif', discarded)\n",
      "/var/folders/pp/cdyfs0g13j3_15mc99_0nfmh0000gn/T/ipykernel_11254/17513562.py:18: UserWarning: /Volumes/Flodrive/Florence/smFISH/analysis/20240927-exp16/MG1655_GLU_OD_0.3_left_03/DIC_masks_selected_by_area.tif is a low contrast image\n",
      "  io.imsave(Path(imgdir) / 'DIC_masks_selected_by_area.tif', selected)\n"
     ]
    },
    {
     "name": "stdout",
     "output_type": "stream",
     "text": [
      "2055 - 123 -> 1933\n"
     ]
    },
    {
     "name": "stderr",
     "output_type": "stream",
     "text": [
      "/var/folders/pp/cdyfs0g13j3_15mc99_0nfmh0000gn/T/ipykernel_11254/17513562.py:22: UserWarning: /Volumes/Flodrive/Florence/smFISH/analysis/20240927-exp16/MG1655_GLU_OD_0.3_left_03/DIC_masks_discarded_by_shape.tif is a low contrast image\n",
      "  io.imsave(Path(imgdir) / 'DIC_masks_discarded_by_shape.tif', discarded)\n",
      "/var/folders/pp/cdyfs0g13j3_15mc99_0nfmh0000gn/T/ipykernel_11254/17513562.py:23: UserWarning: /Volumes/Flodrive/Florence/smFISH/analysis/20240927-exp16/MG1655_GLU_OD_0.3_left_03/DIC_masks_selected_by_shape.tif is a low contrast image\n",
      "  io.imsave(Path(imgdir) / 'DIC_masks_selected_by_shape.tif', selected)\n"
     ]
    },
    {
     "name": "stdout",
     "output_type": "stream",
     "text": [
      "1933 - 1 -> 1933\n",
      "Selected: MG1655_GLU_OD_0.3_left_04\n"
     ]
    },
    {
     "name": "stderr",
     "output_type": "stream",
     "text": [
      "/var/folders/pp/cdyfs0g13j3_15mc99_0nfmh0000gn/T/ipykernel_11254/17513562.py:17: UserWarning: /Volumes/Flodrive/Florence/smFISH/analysis/20240927-exp16/MG1655_GLU_OD_0.3_left_04/DIC_masks_discarded_by_area.tif is a low contrast image\n",
      "  io.imsave(Path(imgdir) / 'DIC_masks_discarded_by_area.tif', discarded)\n",
      "/var/folders/pp/cdyfs0g13j3_15mc99_0nfmh0000gn/T/ipykernel_11254/17513562.py:18: UserWarning: /Volumes/Flodrive/Florence/smFISH/analysis/20240927-exp16/MG1655_GLU_OD_0.3_left_04/DIC_masks_selected_by_area.tif is a low contrast image\n",
      "  io.imsave(Path(imgdir) / 'DIC_masks_selected_by_area.tif', selected)\n"
     ]
    },
    {
     "name": "stdout",
     "output_type": "stream",
     "text": [
      "1515 - 21 -> 1495\n"
     ]
    },
    {
     "name": "stderr",
     "output_type": "stream",
     "text": [
      "/var/folders/pp/cdyfs0g13j3_15mc99_0nfmh0000gn/T/ipykernel_11254/17513562.py:22: UserWarning: /Volumes/Flodrive/Florence/smFISH/analysis/20240927-exp16/MG1655_GLU_OD_0.3_left_04/DIC_masks_discarded_by_shape.tif is a low contrast image\n",
      "  io.imsave(Path(imgdir) / 'DIC_masks_discarded_by_shape.tif', discarded)\n",
      "/var/folders/pp/cdyfs0g13j3_15mc99_0nfmh0000gn/T/ipykernel_11254/17513562.py:23: UserWarning: /Volumes/Flodrive/Florence/smFISH/analysis/20240927-exp16/MG1655_GLU_OD_0.3_left_04/DIC_masks_selected_by_shape.tif is a low contrast image\n",
      "  io.imsave(Path(imgdir) / 'DIC_masks_selected_by_shape.tif', selected)\n"
     ]
    },
    {
     "name": "stdout",
     "output_type": "stream",
     "text": [
      "1495 - 2 -> 1494\n",
      "Selected: MG1655_GLU_OD_0.3_left_05\n"
     ]
    },
    {
     "name": "stderr",
     "output_type": "stream",
     "text": [
      "/var/folders/pp/cdyfs0g13j3_15mc99_0nfmh0000gn/T/ipykernel_11254/17513562.py:17: UserWarning: /Volumes/Flodrive/Florence/smFISH/analysis/20240927-exp16/MG1655_GLU_OD_0.3_left_05/DIC_masks_discarded_by_area.tif is a low contrast image\n",
      "  io.imsave(Path(imgdir) / 'DIC_masks_discarded_by_area.tif', discarded)\n",
      "/var/folders/pp/cdyfs0g13j3_15mc99_0nfmh0000gn/T/ipykernel_11254/17513562.py:18: UserWarning: /Volumes/Flodrive/Florence/smFISH/analysis/20240927-exp16/MG1655_GLU_OD_0.3_left_05/DIC_masks_selected_by_area.tif is a low contrast image\n",
      "  io.imsave(Path(imgdir) / 'DIC_masks_selected_by_area.tif', selected)\n"
     ]
    },
    {
     "name": "stdout",
     "output_type": "stream",
     "text": [
      "2543 - 89 -> 2455\n"
     ]
    },
    {
     "name": "stderr",
     "output_type": "stream",
     "text": [
      "/var/folders/pp/cdyfs0g13j3_15mc99_0nfmh0000gn/T/ipykernel_11254/17513562.py:22: UserWarning: /Volumes/Flodrive/Florence/smFISH/analysis/20240927-exp16/MG1655_GLU_OD_0.3_left_05/DIC_masks_discarded_by_shape.tif is a low contrast image\n",
      "  io.imsave(Path(imgdir) / 'DIC_masks_discarded_by_shape.tif', discarded)\n",
      "/var/folders/pp/cdyfs0g13j3_15mc99_0nfmh0000gn/T/ipykernel_11254/17513562.py:23: UserWarning: /Volumes/Flodrive/Florence/smFISH/analysis/20240927-exp16/MG1655_GLU_OD_0.3_left_05/DIC_masks_selected_by_shape.tif is a low contrast image\n",
      "  io.imsave(Path(imgdir) / 'DIC_masks_selected_by_shape.tif', selected)\n"
     ]
    },
    {
     "name": "stdout",
     "output_type": "stream",
     "text": [
      "2455 - 5 -> 2451\n",
      "Selected: MG1655_GLY_OD_0.3_right_01\n"
     ]
    },
    {
     "name": "stderr",
     "output_type": "stream",
     "text": [
      "/var/folders/pp/cdyfs0g13j3_15mc99_0nfmh0000gn/T/ipykernel_11254/17513562.py:17: UserWarning: /Volumes/Flodrive/Florence/smFISH/analysis/20240927-exp16/MG1655_GLY_OD_0.3_right_01/DIC_masks_discarded_by_area.tif is a low contrast image\n",
      "  io.imsave(Path(imgdir) / 'DIC_masks_discarded_by_area.tif', discarded)\n",
      "/var/folders/pp/cdyfs0g13j3_15mc99_0nfmh0000gn/T/ipykernel_11254/17513562.py:18: UserWarning: /Volumes/Flodrive/Florence/smFISH/analysis/20240927-exp16/MG1655_GLY_OD_0.3_right_01/DIC_masks_selected_by_area.tif is a low contrast image\n",
      "  io.imsave(Path(imgdir) / 'DIC_masks_selected_by_area.tif', selected)\n"
     ]
    },
    {
     "name": "stdout",
     "output_type": "stream",
     "text": [
      "19 - 3 -> 17\n"
     ]
    },
    {
     "name": "stderr",
     "output_type": "stream",
     "text": [
      "/var/folders/pp/cdyfs0g13j3_15mc99_0nfmh0000gn/T/ipykernel_11254/17513562.py:22: UserWarning: /Volumes/Flodrive/Florence/smFISH/analysis/20240927-exp16/MG1655_GLY_OD_0.3_right_01/DIC_masks_discarded_by_shape.tif is a low contrast image\n",
      "  io.imsave(Path(imgdir) / 'DIC_masks_discarded_by_shape.tif', discarded)\n",
      "/var/folders/pp/cdyfs0g13j3_15mc99_0nfmh0000gn/T/ipykernel_11254/17513562.py:23: UserWarning: /Volumes/Flodrive/Florence/smFISH/analysis/20240927-exp16/MG1655_GLY_OD_0.3_right_01/DIC_masks_selected_by_shape.tif is a low contrast image\n",
      "  io.imsave(Path(imgdir) / 'DIC_masks_selected_by_shape.tif', selected)\n"
     ]
    },
    {
     "name": "stdout",
     "output_type": "stream",
     "text": [
      "17 - 1 -> 17\n",
      "Selected: MG1655_GLY_OD_0.3_right_03\n"
     ]
    },
    {
     "name": "stderr",
     "output_type": "stream",
     "text": [
      "/var/folders/pp/cdyfs0g13j3_15mc99_0nfmh0000gn/T/ipykernel_11254/17513562.py:17: UserWarning: /Volumes/Flodrive/Florence/smFISH/analysis/20240927-exp16/MG1655_GLY_OD_0.3_right_03/DIC_masks_discarded_by_area.tif is a low contrast image\n",
      "  io.imsave(Path(imgdir) / 'DIC_masks_discarded_by_area.tif', discarded)\n",
      "/var/folders/pp/cdyfs0g13j3_15mc99_0nfmh0000gn/T/ipykernel_11254/17513562.py:18: UserWarning: /Volumes/Flodrive/Florence/smFISH/analysis/20240927-exp16/MG1655_GLY_OD_0.3_right_03/DIC_masks_selected_by_area.tif is a low contrast image\n",
      "  io.imsave(Path(imgdir) / 'DIC_masks_selected_by_area.tif', selected)\n"
     ]
    },
    {
     "name": "stdout",
     "output_type": "stream",
     "text": [
      "20 - 1 -> 20\n"
     ]
    },
    {
     "name": "stderr",
     "output_type": "stream",
     "text": [
      "/var/folders/pp/cdyfs0g13j3_15mc99_0nfmh0000gn/T/ipykernel_11254/17513562.py:22: UserWarning: /Volumes/Flodrive/Florence/smFISH/analysis/20240927-exp16/MG1655_GLY_OD_0.3_right_03/DIC_masks_discarded_by_shape.tif is a low contrast image\n",
      "  io.imsave(Path(imgdir) / 'DIC_masks_discarded_by_shape.tif', discarded)\n",
      "/var/folders/pp/cdyfs0g13j3_15mc99_0nfmh0000gn/T/ipykernel_11254/17513562.py:23: UserWarning: /Volumes/Flodrive/Florence/smFISH/analysis/20240927-exp16/MG1655_GLY_OD_0.3_right_03/DIC_masks_selected_by_shape.tif is a low contrast image\n",
      "  io.imsave(Path(imgdir) / 'DIC_masks_selected_by_shape.tif', selected)\n"
     ]
    },
    {
     "name": "stdout",
     "output_type": "stream",
     "text": [
      "20 - 1 -> 20\n",
      "Selected: MG1655_GLY_OD_0.3_right_06\n"
     ]
    },
    {
     "name": "stderr",
     "output_type": "stream",
     "text": [
      "/var/folders/pp/cdyfs0g13j3_15mc99_0nfmh0000gn/T/ipykernel_11254/17513562.py:17: UserWarning: /Volumes/Flodrive/Florence/smFISH/analysis/20240927-exp16/MG1655_GLY_OD_0.3_right_06/DIC_masks_discarded_by_area.tif is a low contrast image\n",
      "  io.imsave(Path(imgdir) / 'DIC_masks_discarded_by_area.tif', discarded)\n",
      "/var/folders/pp/cdyfs0g13j3_15mc99_0nfmh0000gn/T/ipykernel_11254/17513562.py:18: UserWarning: /Volumes/Flodrive/Florence/smFISH/analysis/20240927-exp16/MG1655_GLY_OD_0.3_right_06/DIC_masks_selected_by_area.tif is a low contrast image\n",
      "  io.imsave(Path(imgdir) / 'DIC_masks_selected_by_area.tif', selected)\n"
     ]
    },
    {
     "name": "stdout",
     "output_type": "stream",
     "text": [
      "232 - 10 -> 223\n"
     ]
    },
    {
     "name": "stderr",
     "output_type": "stream",
     "text": [
      "/var/folders/pp/cdyfs0g13j3_15mc99_0nfmh0000gn/T/ipykernel_11254/17513562.py:22: UserWarning: /Volumes/Flodrive/Florence/smFISH/analysis/20240927-exp16/MG1655_GLY_OD_0.3_right_06/DIC_masks_discarded_by_shape.tif is a low contrast image\n",
      "  io.imsave(Path(imgdir) / 'DIC_masks_discarded_by_shape.tif', discarded)\n",
      "/var/folders/pp/cdyfs0g13j3_15mc99_0nfmh0000gn/T/ipykernel_11254/17513562.py:23: UserWarning: /Volumes/Flodrive/Florence/smFISH/analysis/20240927-exp16/MG1655_GLY_OD_0.3_right_06/DIC_masks_selected_by_shape.tif is a low contrast image\n",
      "  io.imsave(Path(imgdir) / 'DIC_masks_selected_by_shape.tif', selected)\n"
     ]
    },
    {
     "name": "stdout",
     "output_type": "stream",
     "text": [
      "223 - 1 -> 223\n",
      "Selected: MG1655_GLY_OD_0.3_right_07\n"
     ]
    },
    {
     "name": "stderr",
     "output_type": "stream",
     "text": [
      "/var/folders/pp/cdyfs0g13j3_15mc99_0nfmh0000gn/T/ipykernel_11254/17513562.py:17: UserWarning: /Volumes/Flodrive/Florence/smFISH/analysis/20240927-exp16/MG1655_GLY_OD_0.3_right_07/DIC_masks_discarded_by_area.tif is a low contrast image\n",
      "  io.imsave(Path(imgdir) / 'DIC_masks_discarded_by_area.tif', discarded)\n",
      "/var/folders/pp/cdyfs0g13j3_15mc99_0nfmh0000gn/T/ipykernel_11254/17513562.py:18: UserWarning: /Volumes/Flodrive/Florence/smFISH/analysis/20240927-exp16/MG1655_GLY_OD_0.3_right_07/DIC_masks_selected_by_area.tif is a low contrast image\n",
      "  io.imsave(Path(imgdir) / 'DIC_masks_selected_by_area.tif', selected)\n"
     ]
    },
    {
     "name": "stdout",
     "output_type": "stream",
     "text": [
      "465 - 68 -> 398\n"
     ]
    },
    {
     "name": "stderr",
     "output_type": "stream",
     "text": [
      "/var/folders/pp/cdyfs0g13j3_15mc99_0nfmh0000gn/T/ipykernel_11254/17513562.py:22: UserWarning: /Volumes/Flodrive/Florence/smFISH/analysis/20240927-exp16/MG1655_GLY_OD_0.3_right_07/DIC_masks_discarded_by_shape.tif is a low contrast image\n",
      "  io.imsave(Path(imgdir) / 'DIC_masks_discarded_by_shape.tif', discarded)\n",
      "/var/folders/pp/cdyfs0g13j3_15mc99_0nfmh0000gn/T/ipykernel_11254/17513562.py:23: UserWarning: /Volumes/Flodrive/Florence/smFISH/analysis/20240927-exp16/MG1655_GLY_OD_0.3_right_07/DIC_masks_selected_by_shape.tif is a low contrast image\n",
      "  io.imsave(Path(imgdir) / 'DIC_masks_selected_by_shape.tif', selected)\n"
     ]
    },
    {
     "name": "stdout",
     "output_type": "stream",
     "text": [
      "398 - 3 -> 396\n",
      "Selected: MG1655_MAN_OD_0.3_left_02\n"
     ]
    },
    {
     "name": "stderr",
     "output_type": "stream",
     "text": [
      "/var/folders/pp/cdyfs0g13j3_15mc99_0nfmh0000gn/T/ipykernel_11254/17513562.py:17: UserWarning: /Volumes/Flodrive/Florence/smFISH/analysis/20240927-exp16/MG1655_MAN_OD_0.3_left_02/DIC_masks_discarded_by_area.tif is a low contrast image\n",
      "  io.imsave(Path(imgdir) / 'DIC_masks_discarded_by_area.tif', discarded)\n",
      "/var/folders/pp/cdyfs0g13j3_15mc99_0nfmh0000gn/T/ipykernel_11254/17513562.py:18: UserWarning: /Volumes/Flodrive/Florence/smFISH/analysis/20240927-exp16/MG1655_MAN_OD_0.3_left_02/DIC_masks_selected_by_area.tif is a low contrast image\n",
      "  io.imsave(Path(imgdir) / 'DIC_masks_selected_by_area.tif', selected)\n"
     ]
    },
    {
     "name": "stdout",
     "output_type": "stream",
     "text": [
      "357 - 6 -> 352\n"
     ]
    },
    {
     "name": "stderr",
     "output_type": "stream",
     "text": [
      "/var/folders/pp/cdyfs0g13j3_15mc99_0nfmh0000gn/T/ipykernel_11254/17513562.py:22: UserWarning: /Volumes/Flodrive/Florence/smFISH/analysis/20240927-exp16/MG1655_MAN_OD_0.3_left_02/DIC_masks_discarded_by_shape.tif is a low contrast image\n",
      "  io.imsave(Path(imgdir) / 'DIC_masks_discarded_by_shape.tif', discarded)\n",
      "/var/folders/pp/cdyfs0g13j3_15mc99_0nfmh0000gn/T/ipykernel_11254/17513562.py:23: UserWarning: /Volumes/Flodrive/Florence/smFISH/analysis/20240927-exp16/MG1655_MAN_OD_0.3_left_02/DIC_masks_selected_by_shape.tif is a low contrast image\n",
      "  io.imsave(Path(imgdir) / 'DIC_masks_selected_by_shape.tif', selected)\n"
     ]
    },
    {
     "name": "stdout",
     "output_type": "stream",
     "text": [
      "352 - 13 -> 340\n",
      "Selected: MG1655_MAN_OD_0.3_left_05\n"
     ]
    },
    {
     "name": "stderr",
     "output_type": "stream",
     "text": [
      "/var/folders/pp/cdyfs0g13j3_15mc99_0nfmh0000gn/T/ipykernel_11254/17513562.py:17: UserWarning: /Volumes/Flodrive/Florence/smFISH/analysis/20240927-exp16/MG1655_MAN_OD_0.3_left_05/DIC_masks_discarded_by_area.tif is a low contrast image\n",
      "  io.imsave(Path(imgdir) / 'DIC_masks_discarded_by_area.tif', discarded)\n",
      "/var/folders/pp/cdyfs0g13j3_15mc99_0nfmh0000gn/T/ipykernel_11254/17513562.py:18: UserWarning: /Volumes/Flodrive/Florence/smFISH/analysis/20240927-exp16/MG1655_MAN_OD_0.3_left_05/DIC_masks_selected_by_area.tif is a low contrast image\n",
      "  io.imsave(Path(imgdir) / 'DIC_masks_selected_by_area.tif', selected)\n"
     ]
    },
    {
     "name": "stdout",
     "output_type": "stream",
     "text": [
      "567 - 8 -> 560\n"
     ]
    },
    {
     "name": "stderr",
     "output_type": "stream",
     "text": [
      "/var/folders/pp/cdyfs0g13j3_15mc99_0nfmh0000gn/T/ipykernel_11254/17513562.py:22: UserWarning: /Volumes/Flodrive/Florence/smFISH/analysis/20240927-exp16/MG1655_MAN_OD_0.3_left_05/DIC_masks_discarded_by_shape.tif is a low contrast image\n",
      "  io.imsave(Path(imgdir) / 'DIC_masks_discarded_by_shape.tif', discarded)\n",
      "/var/folders/pp/cdyfs0g13j3_15mc99_0nfmh0000gn/T/ipykernel_11254/17513562.py:23: UserWarning: /Volumes/Flodrive/Florence/smFISH/analysis/20240927-exp16/MG1655_MAN_OD_0.3_left_05/DIC_masks_selected_by_shape.tif is a low contrast image\n",
      "  io.imsave(Path(imgdir) / 'DIC_masks_selected_by_shape.tif', selected)\n"
     ]
    },
    {
     "name": "stdout",
     "output_type": "stream",
     "text": [
      "560 - 29 -> 532\n",
      "Selected: MG1655_MAN_OD_0.3_left_06\n"
     ]
    },
    {
     "name": "stderr",
     "output_type": "stream",
     "text": [
      "/var/folders/pp/cdyfs0g13j3_15mc99_0nfmh0000gn/T/ipykernel_11254/17513562.py:17: UserWarning: /Volumes/Flodrive/Florence/smFISH/analysis/20240927-exp16/MG1655_MAN_OD_0.3_left_06/DIC_masks_discarded_by_area.tif is a low contrast image\n",
      "  io.imsave(Path(imgdir) / 'DIC_masks_discarded_by_area.tif', discarded)\n",
      "/var/folders/pp/cdyfs0g13j3_15mc99_0nfmh0000gn/T/ipykernel_11254/17513562.py:18: UserWarning: /Volumes/Flodrive/Florence/smFISH/analysis/20240927-exp16/MG1655_MAN_OD_0.3_left_06/DIC_masks_selected_by_area.tif is a low contrast image\n",
      "  io.imsave(Path(imgdir) / 'DIC_masks_selected_by_area.tif', selected)\n"
     ]
    },
    {
     "name": "stdout",
     "output_type": "stream",
     "text": [
      "822 - 81 -> 742\n"
     ]
    },
    {
     "name": "stderr",
     "output_type": "stream",
     "text": [
      "/var/folders/pp/cdyfs0g13j3_15mc99_0nfmh0000gn/T/ipykernel_11254/17513562.py:22: UserWarning: /Volumes/Flodrive/Florence/smFISH/analysis/20240927-exp16/MG1655_MAN_OD_0.3_left_06/DIC_masks_discarded_by_shape.tif is a low contrast image\n",
      "  io.imsave(Path(imgdir) / 'DIC_masks_discarded_by_shape.tif', discarded)\n",
      "/var/folders/pp/cdyfs0g13j3_15mc99_0nfmh0000gn/T/ipykernel_11254/17513562.py:23: UserWarning: /Volumes/Flodrive/Florence/smFISH/analysis/20240927-exp16/MG1655_MAN_OD_0.3_left_06/DIC_masks_selected_by_shape.tif is a low contrast image\n",
      "  io.imsave(Path(imgdir) / 'DIC_masks_selected_by_shape.tif', selected)\n"
     ]
    },
    {
     "name": "stdout",
     "output_type": "stream",
     "text": [
      "742 - 16 -> 727\n",
      "Selected: MG1655_MAN_OD_0.3_left_07\n"
     ]
    },
    {
     "name": "stderr",
     "output_type": "stream",
     "text": [
      "/var/folders/pp/cdyfs0g13j3_15mc99_0nfmh0000gn/T/ipykernel_11254/17513562.py:17: UserWarning: /Volumes/Flodrive/Florence/smFISH/analysis/20240927-exp16/MG1655_MAN_OD_0.3_left_07/DIC_masks_discarded_by_area.tif is a low contrast image\n",
      "  io.imsave(Path(imgdir) / 'DIC_masks_discarded_by_area.tif', discarded)\n",
      "/var/folders/pp/cdyfs0g13j3_15mc99_0nfmh0000gn/T/ipykernel_11254/17513562.py:18: UserWarning: /Volumes/Flodrive/Florence/smFISH/analysis/20240927-exp16/MG1655_MAN_OD_0.3_left_07/DIC_masks_selected_by_area.tif is a low contrast image\n",
      "  io.imsave(Path(imgdir) / 'DIC_masks_selected_by_area.tif', selected)\n"
     ]
    },
    {
     "name": "stdout",
     "output_type": "stream",
     "text": [
      "661 - 14 -> 648\n"
     ]
    },
    {
     "name": "stderr",
     "output_type": "stream",
     "text": [
      "/var/folders/pp/cdyfs0g13j3_15mc99_0nfmh0000gn/T/ipykernel_11254/17513562.py:22: UserWarning: /Volumes/Flodrive/Florence/smFISH/analysis/20240927-exp16/MG1655_MAN_OD_0.3_left_07/DIC_masks_discarded_by_shape.tif is a low contrast image\n",
      "  io.imsave(Path(imgdir) / 'DIC_masks_discarded_by_shape.tif', discarded)\n",
      "/var/folders/pp/cdyfs0g13j3_15mc99_0nfmh0000gn/T/ipykernel_11254/17513562.py:23: UserWarning: /Volumes/Flodrive/Florence/smFISH/analysis/20240927-exp16/MG1655_MAN_OD_0.3_left_07/DIC_masks_selected_by_shape.tif is a low contrast image\n",
      "  io.imsave(Path(imgdir) / 'DIC_masks_selected_by_shape.tif', selected)\n"
     ]
    },
    {
     "name": "stdout",
     "output_type": "stream",
     "text": [
      "648 - 7 -> 642\n",
      "Selected: MG1655_MAN_OD_0.3_left_09\n"
     ]
    },
    {
     "name": "stderr",
     "output_type": "stream",
     "text": [
      "/var/folders/pp/cdyfs0g13j3_15mc99_0nfmh0000gn/T/ipykernel_11254/17513562.py:17: UserWarning: /Volumes/Flodrive/Florence/smFISH/analysis/20240927-exp16/MG1655_MAN_OD_0.3_left_09/DIC_masks_discarded_by_area.tif is a low contrast image\n",
      "  io.imsave(Path(imgdir) / 'DIC_masks_discarded_by_area.tif', discarded)\n",
      "/var/folders/pp/cdyfs0g13j3_15mc99_0nfmh0000gn/T/ipykernel_11254/17513562.py:18: UserWarning: /Volumes/Flodrive/Florence/smFISH/analysis/20240927-exp16/MG1655_MAN_OD_0.3_left_09/DIC_masks_selected_by_area.tif is a low contrast image\n",
      "  io.imsave(Path(imgdir) / 'DIC_masks_selected_by_area.tif', selected)\n"
     ]
    },
    {
     "name": "stdout",
     "output_type": "stream",
     "text": [
      "1154 - 154 -> 1001\n"
     ]
    },
    {
     "name": "stderr",
     "output_type": "stream",
     "text": [
      "/var/folders/pp/cdyfs0g13j3_15mc99_0nfmh0000gn/T/ipykernel_11254/17513562.py:22: UserWarning: /Volumes/Flodrive/Florence/smFISH/analysis/20240927-exp16/MG1655_MAN_OD_0.3_left_09/DIC_masks_discarded_by_shape.tif is a low contrast image\n",
      "  io.imsave(Path(imgdir) / 'DIC_masks_discarded_by_shape.tif', discarded)\n",
      "/var/folders/pp/cdyfs0g13j3_15mc99_0nfmh0000gn/T/ipykernel_11254/17513562.py:23: UserWarning: /Volumes/Flodrive/Florence/smFISH/analysis/20240927-exp16/MG1655_MAN_OD_0.3_left_09/DIC_masks_selected_by_shape.tif is a low contrast image\n",
      "  io.imsave(Path(imgdir) / 'DIC_masks_selected_by_shape.tif', selected)\n"
     ]
    },
    {
     "name": "stdout",
     "output_type": "stream",
     "text": [
      "1001 - 21 -> 981\n",
      "Selected: MG1655_MAN_OD_0.3_left_11\n"
     ]
    },
    {
     "name": "stderr",
     "output_type": "stream",
     "text": [
      "/var/folders/pp/cdyfs0g13j3_15mc99_0nfmh0000gn/T/ipykernel_11254/17513562.py:17: UserWarning: /Volumes/Flodrive/Florence/smFISH/analysis/20240927-exp16/MG1655_MAN_OD_0.3_left_11/DIC_masks_discarded_by_area.tif is a low contrast image\n",
      "  io.imsave(Path(imgdir) / 'DIC_masks_discarded_by_area.tif', discarded)\n",
      "/var/folders/pp/cdyfs0g13j3_15mc99_0nfmh0000gn/T/ipykernel_11254/17513562.py:18: UserWarning: /Volumes/Flodrive/Florence/smFISH/analysis/20240927-exp16/MG1655_MAN_OD_0.3_left_11/DIC_masks_selected_by_area.tif is a low contrast image\n",
      "  io.imsave(Path(imgdir) / 'DIC_masks_selected_by_area.tif', selected)\n"
     ]
    },
    {
     "name": "stdout",
     "output_type": "stream",
     "text": [
      "691 - 16 -> 676\n"
     ]
    },
    {
     "name": "stderr",
     "output_type": "stream",
     "text": [
      "/var/folders/pp/cdyfs0g13j3_15mc99_0nfmh0000gn/T/ipykernel_11254/17513562.py:22: UserWarning: /Volumes/Flodrive/Florence/smFISH/analysis/20240927-exp16/MG1655_MAN_OD_0.3_left_11/DIC_masks_discarded_by_shape.tif is a low contrast image\n",
      "  io.imsave(Path(imgdir) / 'DIC_masks_discarded_by_shape.tif', discarded)\n",
      "/var/folders/pp/cdyfs0g13j3_15mc99_0nfmh0000gn/T/ipykernel_11254/17513562.py:23: UserWarning: /Volumes/Flodrive/Florence/smFISH/analysis/20240927-exp16/MG1655_MAN_OD_0.3_left_11/DIC_masks_selected_by_shape.tif is a low contrast image\n",
      "  io.imsave(Path(imgdir) / 'DIC_masks_selected_by_shape.tif', selected)\n"
     ]
    },
    {
     "name": "stdout",
     "output_type": "stream",
     "text": [
      "676 - 16 -> 661\n",
      "Config file from: /Volumes/Flodrive/Florence/smFISH/analysis/20240927-LB\n",
      "\t/Volumes/Flodrive/Florence/smFISH/analysis/20240927-LB/config-detection-processed.json\n",
      "Selected: MG1655_LB_fixed2806_hybed1906_left_01\n"
     ]
    },
    {
     "name": "stderr",
     "output_type": "stream",
     "text": [
      "/var/folders/pp/cdyfs0g13j3_15mc99_0nfmh0000gn/T/ipykernel_11254/17513562.py:17: UserWarning: /Volumes/Flodrive/Florence/smFISH/analysis/20240927-LB/MG1655_LB_fixed2806_hybed1906_left_01/DIC_masks_discarded_by_area.tif is a low contrast image\n",
      "  io.imsave(Path(imgdir) / 'DIC_masks_discarded_by_area.tif', discarded)\n",
      "/var/folders/pp/cdyfs0g13j3_15mc99_0nfmh0000gn/T/ipykernel_11254/17513562.py:18: UserWarning: /Volumes/Flodrive/Florence/smFISH/analysis/20240927-LB/MG1655_LB_fixed2806_hybed1906_left_01/DIC_masks_selected_by_area.tif is a low contrast image\n",
      "  io.imsave(Path(imgdir) / 'DIC_masks_selected_by_area.tif', selected)\n"
     ]
    },
    {
     "name": "stdout",
     "output_type": "stream",
     "text": [
      "1062 - 79 -> 984\n"
     ]
    },
    {
     "name": "stderr",
     "output_type": "stream",
     "text": [
      "/var/folders/pp/cdyfs0g13j3_15mc99_0nfmh0000gn/T/ipykernel_11254/17513562.py:22: UserWarning: /Volumes/Flodrive/Florence/smFISH/analysis/20240927-LB/MG1655_LB_fixed2806_hybed1906_left_01/DIC_masks_discarded_by_shape.tif is a low contrast image\n",
      "  io.imsave(Path(imgdir) / 'DIC_masks_discarded_by_shape.tif', discarded)\n",
      "/var/folders/pp/cdyfs0g13j3_15mc99_0nfmh0000gn/T/ipykernel_11254/17513562.py:23: UserWarning: /Volumes/Flodrive/Florence/smFISH/analysis/20240927-LB/MG1655_LB_fixed2806_hybed1906_left_01/DIC_masks_selected_by_shape.tif is a low contrast image\n",
      "  io.imsave(Path(imgdir) / 'DIC_masks_selected_by_shape.tif', selected)\n"
     ]
    },
    {
     "name": "stdout",
     "output_type": "stream",
     "text": [
      "984 - 3 -> 982\n",
      "Selected: MG1655_LB_fixed2806_hybed1906_left_07\n"
     ]
    },
    {
     "name": "stderr",
     "output_type": "stream",
     "text": [
      "/var/folders/pp/cdyfs0g13j3_15mc99_0nfmh0000gn/T/ipykernel_11254/17513562.py:17: UserWarning: /Volumes/Flodrive/Florence/smFISH/analysis/20240927-LB/MG1655_LB_fixed2806_hybed1906_left_07/DIC_masks_discarded_by_area.tif is a low contrast image\n",
      "  io.imsave(Path(imgdir) / 'DIC_masks_discarded_by_area.tif', discarded)\n",
      "/var/folders/pp/cdyfs0g13j3_15mc99_0nfmh0000gn/T/ipykernel_11254/17513562.py:18: UserWarning: /Volumes/Flodrive/Florence/smFISH/analysis/20240927-LB/MG1655_LB_fixed2806_hybed1906_left_07/DIC_masks_selected_by_area.tif is a low contrast image\n",
      "  io.imsave(Path(imgdir) / 'DIC_masks_selected_by_area.tif', selected)\n"
     ]
    },
    {
     "name": "stdout",
     "output_type": "stream",
     "text": [
      "1190 - 58 -> 1133\n"
     ]
    },
    {
     "name": "stderr",
     "output_type": "stream",
     "text": [
      "/var/folders/pp/cdyfs0g13j3_15mc99_0nfmh0000gn/T/ipykernel_11254/17513562.py:22: UserWarning: /Volumes/Flodrive/Florence/smFISH/analysis/20240927-LB/MG1655_LB_fixed2806_hybed1906_left_07/DIC_masks_discarded_by_shape.tif is a low contrast image\n",
      "  io.imsave(Path(imgdir) / 'DIC_masks_discarded_by_shape.tif', discarded)\n",
      "/var/folders/pp/cdyfs0g13j3_15mc99_0nfmh0000gn/T/ipykernel_11254/17513562.py:23: UserWarning: /Volumes/Flodrive/Florence/smFISH/analysis/20240927-LB/MG1655_LB_fixed2806_hybed1906_left_07/DIC_masks_selected_by_shape.tif is a low contrast image\n",
      "  io.imsave(Path(imgdir) / 'DIC_masks_selected_by_shape.tif', selected)\n"
     ]
    },
    {
     "name": "stdout",
     "output_type": "stream",
     "text": [
      "1133 - 11 -> 1123\n"
     ]
    }
   ],
   "source": [
    "rootdir = '/Volumes/Flodrive/Florence/smFISH/analysis'\n",
    "for f in Path(rootdir).glob('*/config-detection-processed.json'):\n",
    "    print(f\"Config file from: {f.parent}\")\n",
    "    print(f\"\\t{f}\")\n",
    "    with open(f, 'r') as fh:\n",
    "        config = json.load(fh)\n",
    "        for exp in config['experiments']:\n",
    "            for img in exp['images']:\n",
    "                if img[\"detect_spots\"] == True:\n",
    "                    print(f'Selected: {img[\"stem\"]}')\n",
    "                    \n",
    "                    imgdir = Path(config['outputdir']) / img['stem']\n",
    "                    masks = io.imread(Path(imgdir) / 'DIC_masks_with_dapi.tif')\n",
    "                    props = pd.DataFrame(regionprops_table(masks, properties=['label', 'bbox', 'area', 'eccentricity', 'centroid']))\n",
    "                    \n",
    "                    selected, discarded, nr_selected, nr_discarded, nr_before = filter_cells_by_area(masks, props, min_cell_area=200)\n",
    "                    io.imsave(Path(imgdir) / 'DIC_masks_discarded_by_area.tif', discarded)\n",
    "                    io.imsave(Path(imgdir) / 'DIC_masks_selected_by_area.tif', selected)\n",
    "                    print(f'{nr_before} - {nr_discarded} -> {nr_selected}')\n",
    "\n",
    "                    selected, discarded, nr_selected, nr_discarded, nr_before = filter_cells_by_shape(selected, props, min_clump_area=1000, max_clump_eccentricity=0.8)\n",
    "                    io.imsave(Path(imgdir) / 'DIC_masks_discarded_by_shape.tif', discarded)\n",
    "                    io.imsave(Path(imgdir) / 'DIC_masks_selected_by_shape.tif', selected)\n",
    "                    print(f'{nr_before} - {nr_discarded} -> {nr_selected}')\n",
    "             \n",
    "                "
   ]
  },
  {
   "cell_type": "markdown",
   "id": "303d6272f017366b",
   "metadata": {},
   "source": [
    "### Expand masks "
   ]
  },
  {
   "cell_type": "code",
   "execution_count": 172,
   "id": "bac3b9bba6c6057",
   "metadata": {
    "ExecuteTime": {
     "end_time": "2024-11-14T14:17:51.001297Z",
     "start_time": "2024-11-14T14:17:22.417449Z"
    }
   },
   "outputs": [
    {
     "name": "stdout",
     "output_type": "stream",
     "text": [
      "Config file from: /Volumes/Flodrive/Florence/smFISH/analysis/20241029-exp24\n",
      "\t/Volumes/Flodrive/Florence/smFISH/analysis/20241029-exp24/config-detection-processed.json\n",
      "Selected: exp24-GLU-right-2_01\n"
     ]
    },
    {
     "name": "stderr",
     "output_type": "stream",
     "text": [
      "/var/folders/pp/cdyfs0g13j3_15mc99_0nfmh0000gn/T/ipykernel_11254/957434252.py:18: UserWarning: /Volumes/Flodrive/Florence/smFISH/analysis/20241029-exp24/exp24-GLU-right-2_01/DIC_masks_expanded.tif is a low contrast image\n",
      "  io.imsave(Path(imgdir) / 'DIC_masks_expanded.tif', expanded_mask)\n"
     ]
    },
    {
     "name": "stdout",
     "output_type": "stream",
     "text": [
      "Selected: exp24-GLU-right-2_03\n"
     ]
    },
    {
     "name": "stderr",
     "output_type": "stream",
     "text": [
      "/var/folders/pp/cdyfs0g13j3_15mc99_0nfmh0000gn/T/ipykernel_11254/957434252.py:18: UserWarning: /Volumes/Flodrive/Florence/smFISH/analysis/20241029-exp24/exp24-GLU-right-2_03/DIC_masks_expanded.tif is a low contrast image\n",
      "  io.imsave(Path(imgdir) / 'DIC_masks_expanded.tif', expanded_mask)\n"
     ]
    },
    {
     "name": "stdout",
     "output_type": "stream",
     "text": [
      "Selected: exp24-GLU-right-2_05\n"
     ]
    },
    {
     "name": "stderr",
     "output_type": "stream",
     "text": [
      "/var/folders/pp/cdyfs0g13j3_15mc99_0nfmh0000gn/T/ipykernel_11254/957434252.py:18: UserWarning: /Volumes/Flodrive/Florence/smFISH/analysis/20241029-exp24/exp24-GLU-right-2_05/DIC_masks_expanded.tif is a low contrast image\n",
      "  io.imsave(Path(imgdir) / 'DIC_masks_expanded.tif', expanded_mask)\n"
     ]
    },
    {
     "name": "stdout",
     "output_type": "stream",
     "text": [
      "Selected: exp24-GLY-left_02\n"
     ]
    },
    {
     "name": "stderr",
     "output_type": "stream",
     "text": [
      "/var/folders/pp/cdyfs0g13j3_15mc99_0nfmh0000gn/T/ipykernel_11254/957434252.py:18: UserWarning: /Volumes/Flodrive/Florence/smFISH/analysis/20241029-exp24/exp24-GLY-left_02/DIC_masks_expanded.tif is a low contrast image\n",
      "  io.imsave(Path(imgdir) / 'DIC_masks_expanded.tif', expanded_mask)\n"
     ]
    },
    {
     "name": "stdout",
     "output_type": "stream",
     "text": [
      "Selected: exp24-GLY-left_03\n"
     ]
    },
    {
     "name": "stderr",
     "output_type": "stream",
     "text": [
      "/var/folders/pp/cdyfs0g13j3_15mc99_0nfmh0000gn/T/ipykernel_11254/957434252.py:18: UserWarning: /Volumes/Flodrive/Florence/smFISH/analysis/20241029-exp24/exp24-GLY-left_03/DIC_masks_expanded.tif is a low contrast image\n",
      "  io.imsave(Path(imgdir) / 'DIC_masks_expanded.tif', expanded_mask)\n"
     ]
    },
    {
     "name": "stdout",
     "output_type": "stream",
     "text": [
      "Selected: exp24-GLY-left_06\n"
     ]
    },
    {
     "name": "stderr",
     "output_type": "stream",
     "text": [
      "/var/folders/pp/cdyfs0g13j3_15mc99_0nfmh0000gn/T/ipykernel_11254/957434252.py:18: UserWarning: /Volumes/Flodrive/Florence/smFISH/analysis/20241029-exp24/exp24-GLY-left_06/DIC_masks_expanded.tif is a low contrast image\n",
      "  io.imsave(Path(imgdir) / 'DIC_masks_expanded.tif', expanded_mask)\n"
     ]
    },
    {
     "name": "stdout",
     "output_type": "stream",
     "text": [
      "Selected: exp24-GLY-left_10\n"
     ]
    },
    {
     "name": "stderr",
     "output_type": "stream",
     "text": [
      "/var/folders/pp/cdyfs0g13j3_15mc99_0nfmh0000gn/T/ipykernel_11254/957434252.py:18: UserWarning: /Volumes/Flodrive/Florence/smFISH/analysis/20241029-exp24/exp24-GLY-left_10/DIC_masks_expanded.tif is a low contrast image\n",
      "  io.imsave(Path(imgdir) / 'DIC_masks_expanded.tif', expanded_mask)\n"
     ]
    },
    {
     "name": "stdout",
     "output_type": "stream",
     "text": [
      "Config file from: /Volumes/Flodrive/Florence/smFISH/analysis/20241029-exp22\n",
      "\t/Volumes/Flodrive/Florence/smFISH/analysis/20241029-exp22/config-detection-processed.json\n",
      "Selected: exp22-GLU_01\n",
      "Selected: exp22-GLU_02\n",
      "Selected: exp22-GLU_04\n",
      "Selected: exp22-GLU_05\n",
      "Selected: exp22-GLU_06\n"
     ]
    },
    {
     "name": "stderr",
     "output_type": "stream",
     "text": [
      "/var/folders/pp/cdyfs0g13j3_15mc99_0nfmh0000gn/T/ipykernel_11254/957434252.py:18: UserWarning: /Volumes/Flodrive/Florence/smFISH/analysis/20241029-exp22/exp22-GLU_06/DIC_masks_expanded.tif is a low contrast image\n",
      "  io.imsave(Path(imgdir) / 'DIC_masks_expanded.tif', expanded_mask)\n"
     ]
    },
    {
     "name": "stdout",
     "output_type": "stream",
     "text": [
      "Selected: exp22-GLU_07\n",
      "Selected: exp22-GLU_08\n"
     ]
    },
    {
     "name": "stderr",
     "output_type": "stream",
     "text": [
      "/var/folders/pp/cdyfs0g13j3_15mc99_0nfmh0000gn/T/ipykernel_11254/957434252.py:18: UserWarning: /Volumes/Flodrive/Florence/smFISH/analysis/20241029-exp22/exp22-GLU_08/DIC_masks_expanded.tif is a low contrast image\n",
      "  io.imsave(Path(imgdir) / 'DIC_masks_expanded.tif', expanded_mask)\n"
     ]
    },
    {
     "name": "stdout",
     "output_type": "stream",
     "text": [
      "Selected: exp22-GLU_09\n"
     ]
    },
    {
     "name": "stderr",
     "output_type": "stream",
     "text": [
      "/var/folders/pp/cdyfs0g13j3_15mc99_0nfmh0000gn/T/ipykernel_11254/957434252.py:18: UserWarning: /Volumes/Flodrive/Florence/smFISH/analysis/20241029-exp22/exp22-GLU_09/DIC_masks_expanded.tif is a low contrast image\n",
      "  io.imsave(Path(imgdir) / 'DIC_masks_expanded.tif', expanded_mask)\n"
     ]
    },
    {
     "name": "stdout",
     "output_type": "stream",
     "text": [
      "Selected: exp22-GLU_10\n"
     ]
    },
    {
     "name": "stderr",
     "output_type": "stream",
     "text": [
      "/var/folders/pp/cdyfs0g13j3_15mc99_0nfmh0000gn/T/ipykernel_11254/957434252.py:18: UserWarning: /Volumes/Flodrive/Florence/smFISH/analysis/20241029-exp22/exp22-GLU_10/DIC_masks_expanded.tif is a low contrast image\n",
      "  io.imsave(Path(imgdir) / 'DIC_masks_expanded.tif', expanded_mask)\n"
     ]
    },
    {
     "name": "stdout",
     "output_type": "stream",
     "text": [
      "Selected: exp22-GLY_09\n"
     ]
    },
    {
     "name": "stderr",
     "output_type": "stream",
     "text": [
      "/var/folders/pp/cdyfs0g13j3_15mc99_0nfmh0000gn/T/ipykernel_11254/957434252.py:18: UserWarning: /Volumes/Flodrive/Florence/smFISH/analysis/20241029-exp22/exp22-GLY_09/DIC_masks_expanded.tif is a low contrast image\n",
      "  io.imsave(Path(imgdir) / 'DIC_masks_expanded.tif', expanded_mask)\n"
     ]
    },
    {
     "name": "stdout",
     "output_type": "stream",
     "text": [
      "Selected: exp22-GLY_10\n"
     ]
    },
    {
     "name": "stderr",
     "output_type": "stream",
     "text": [
      "/var/folders/pp/cdyfs0g13j3_15mc99_0nfmh0000gn/T/ipykernel_11254/957434252.py:18: UserWarning: /Volumes/Flodrive/Florence/smFISH/analysis/20241029-exp22/exp22-GLY_10/DIC_masks_expanded.tif is a low contrast image\n",
      "  io.imsave(Path(imgdir) / 'DIC_masks_expanded.tif', expanded_mask)\n"
     ]
    },
    {
     "name": "stdout",
     "output_type": "stream",
     "text": [
      "Selected: exp22-GAL_03\n"
     ]
    },
    {
     "name": "stderr",
     "output_type": "stream",
     "text": [
      "/var/folders/pp/cdyfs0g13j3_15mc99_0nfmh0000gn/T/ipykernel_11254/957434252.py:18: UserWarning: /Volumes/Flodrive/Florence/smFISH/analysis/20241029-exp22/exp22-GAL_03/DIC_masks_expanded.tif is a low contrast image\n",
      "  io.imsave(Path(imgdir) / 'DIC_masks_expanded.tif', expanded_mask)\n"
     ]
    },
    {
     "name": "stdout",
     "output_type": "stream",
     "text": [
      "Selected: exp22-GAL_04\n"
     ]
    },
    {
     "name": "stderr",
     "output_type": "stream",
     "text": [
      "/var/folders/pp/cdyfs0g13j3_15mc99_0nfmh0000gn/T/ipykernel_11254/957434252.py:18: UserWarning: /Volumes/Flodrive/Florence/smFISH/analysis/20241029-exp22/exp22-GAL_04/DIC_masks_expanded.tif is a low contrast image\n",
      "  io.imsave(Path(imgdir) / 'DIC_masks_expanded.tif', expanded_mask)\n"
     ]
    },
    {
     "name": "stdout",
     "output_type": "stream",
     "text": [
      "Selected: exp22-GAL_07\n"
     ]
    },
    {
     "name": "stderr",
     "output_type": "stream",
     "text": [
      "/var/folders/pp/cdyfs0g13j3_15mc99_0nfmh0000gn/T/ipykernel_11254/957434252.py:18: UserWarning: /Volumes/Flodrive/Florence/smFISH/analysis/20241029-exp22/exp22-GAL_07/DIC_masks_expanded.tif is a low contrast image\n",
      "  io.imsave(Path(imgdir) / 'DIC_masks_expanded.tif', expanded_mask)\n"
     ]
    },
    {
     "name": "stdout",
     "output_type": "stream",
     "text": [
      "Selected: exp22-GAL_08\n"
     ]
    },
    {
     "name": "stderr",
     "output_type": "stream",
     "text": [
      "/var/folders/pp/cdyfs0g13j3_15mc99_0nfmh0000gn/T/ipykernel_11254/957434252.py:18: UserWarning: /Volumes/Flodrive/Florence/smFISH/analysis/20241029-exp22/exp22-GAL_08/DIC_masks_expanded.tif is a low contrast image\n",
      "  io.imsave(Path(imgdir) / 'DIC_masks_expanded.tif', expanded_mask)\n"
     ]
    },
    {
     "name": "stdout",
     "output_type": "stream",
     "text": [
      "Selected: exp22-MAN_01\n"
     ]
    },
    {
     "name": "stderr",
     "output_type": "stream",
     "text": [
      "/var/folders/pp/cdyfs0g13j3_15mc99_0nfmh0000gn/T/ipykernel_11254/957434252.py:18: UserWarning: /Volumes/Flodrive/Florence/smFISH/analysis/20241029-exp22/exp22-MAN_01/DIC_masks_expanded.tif is a low contrast image\n",
      "  io.imsave(Path(imgdir) / 'DIC_masks_expanded.tif', expanded_mask)\n"
     ]
    },
    {
     "name": "stdout",
     "output_type": "stream",
     "text": [
      "Selected: exp22-MAN_02\n"
     ]
    },
    {
     "name": "stderr",
     "output_type": "stream",
     "text": [
      "/var/folders/pp/cdyfs0g13j3_15mc99_0nfmh0000gn/T/ipykernel_11254/957434252.py:18: UserWarning: /Volumes/Flodrive/Florence/smFISH/analysis/20241029-exp22/exp22-MAN_02/DIC_masks_expanded.tif is a low contrast image\n",
      "  io.imsave(Path(imgdir) / 'DIC_masks_expanded.tif', expanded_mask)\n"
     ]
    },
    {
     "name": "stdout",
     "output_type": "stream",
     "text": [
      "Selected: exp22-MAN_03\n"
     ]
    },
    {
     "name": "stderr",
     "output_type": "stream",
     "text": [
      "/var/folders/pp/cdyfs0g13j3_15mc99_0nfmh0000gn/T/ipykernel_11254/957434252.py:18: UserWarning: /Volumes/Flodrive/Florence/smFISH/analysis/20241029-exp22/exp22-MAN_03/DIC_masks_expanded.tif is a low contrast image\n",
      "  io.imsave(Path(imgdir) / 'DIC_masks_expanded.tif', expanded_mask)\n"
     ]
    },
    {
     "name": "stdout",
     "output_type": "stream",
     "text": [
      "Selected: exp22-MAN_05\n"
     ]
    },
    {
     "name": "stderr",
     "output_type": "stream",
     "text": [
      "/var/folders/pp/cdyfs0g13j3_15mc99_0nfmh0000gn/T/ipykernel_11254/957434252.py:18: UserWarning: /Volumes/Flodrive/Florence/smFISH/analysis/20241029-exp22/exp22-MAN_05/DIC_masks_expanded.tif is a low contrast image\n",
      "  io.imsave(Path(imgdir) / 'DIC_masks_expanded.tif', expanded_mask)\n"
     ]
    },
    {
     "name": "stdout",
     "output_type": "stream",
     "text": [
      "Selected: exp22-MAN_06\n"
     ]
    },
    {
     "name": "stderr",
     "output_type": "stream",
     "text": [
      "/var/folders/pp/cdyfs0g13j3_15mc99_0nfmh0000gn/T/ipykernel_11254/957434252.py:18: UserWarning: /Volumes/Flodrive/Florence/smFISH/analysis/20241029-exp22/exp22-MAN_06/DIC_masks_expanded.tif is a low contrast image\n",
      "  io.imsave(Path(imgdir) / 'DIC_masks_expanded.tif', expanded_mask)\n"
     ]
    },
    {
     "name": "stdout",
     "output_type": "stream",
     "text": [
      "Config file from: /Volumes/Flodrive/Florence/smFISH/analysis/20241003-exp16\n",
      "\t/Volumes/Flodrive/Florence/smFISH/analysis/20241003-exp16/config-detection-processed.json\n",
      "Selected: MG1655_GAL-lowOD-2nd_06\n"
     ]
    },
    {
     "name": "stderr",
     "output_type": "stream",
     "text": [
      "/var/folders/pp/cdyfs0g13j3_15mc99_0nfmh0000gn/T/ipykernel_11254/957434252.py:18: UserWarning: /Volumes/Flodrive/Florence/smFISH/analysis/20241003-exp16/MG1655_GAL-lowOD-2nd_06/DIC_masks_expanded.tif is a low contrast image\n",
      "  io.imsave(Path(imgdir) / 'DIC_masks_expanded.tif', expanded_mask)\n"
     ]
    },
    {
     "name": "stdout",
     "output_type": "stream",
     "text": [
      "Selected: MG1655_GAL-lowOD-2nd_09\n"
     ]
    },
    {
     "name": "stderr",
     "output_type": "stream",
     "text": [
      "/var/folders/pp/cdyfs0g13j3_15mc99_0nfmh0000gn/T/ipykernel_11254/957434252.py:18: UserWarning: /Volumes/Flodrive/Florence/smFISH/analysis/20241003-exp16/MG1655_GAL-lowOD-2nd_09/DIC_masks_expanded.tif is a low contrast image\n",
      "  io.imsave(Path(imgdir) / 'DIC_masks_expanded.tif', expanded_mask)\n"
     ]
    },
    {
     "name": "stdout",
     "output_type": "stream",
     "text": [
      "Selected: MG1655_GLY-lowOD-2nd_01\n",
      "Config file from: /Volumes/Flodrive/Florence/smFISH/analysis/20240927-exp16\n",
      "\t/Volumes/Flodrive/Florence/smFISH/analysis/20240927-exp16/config-detection-processed.json\n",
      "Selected: MG1655_GLU_OD_0.3_left_02\n"
     ]
    },
    {
     "name": "stderr",
     "output_type": "stream",
     "text": [
      "/var/folders/pp/cdyfs0g13j3_15mc99_0nfmh0000gn/T/ipykernel_11254/957434252.py:18: UserWarning: /Volumes/Flodrive/Florence/smFISH/analysis/20240927-exp16/MG1655_GLU_OD_0.3_left_02/DIC_masks_expanded.tif is a low contrast image\n",
      "  io.imsave(Path(imgdir) / 'DIC_masks_expanded.tif', expanded_mask)\n"
     ]
    },
    {
     "name": "stdout",
     "output_type": "stream",
     "text": [
      "Selected: MG1655_GLU_OD_0.3_left_03\n"
     ]
    },
    {
     "name": "stderr",
     "output_type": "stream",
     "text": [
      "/var/folders/pp/cdyfs0g13j3_15mc99_0nfmh0000gn/T/ipykernel_11254/957434252.py:18: UserWarning: /Volumes/Flodrive/Florence/smFISH/analysis/20240927-exp16/MG1655_GLU_OD_0.3_left_03/DIC_masks_expanded.tif is a low contrast image\n",
      "  io.imsave(Path(imgdir) / 'DIC_masks_expanded.tif', expanded_mask)\n"
     ]
    },
    {
     "name": "stdout",
     "output_type": "stream",
     "text": [
      "Selected: MG1655_GLU_OD_0.3_left_04\n"
     ]
    },
    {
     "name": "stderr",
     "output_type": "stream",
     "text": [
      "/var/folders/pp/cdyfs0g13j3_15mc99_0nfmh0000gn/T/ipykernel_11254/957434252.py:18: UserWarning: /Volumes/Flodrive/Florence/smFISH/analysis/20240927-exp16/MG1655_GLU_OD_0.3_left_04/DIC_masks_expanded.tif is a low contrast image\n",
      "  io.imsave(Path(imgdir) / 'DIC_masks_expanded.tif', expanded_mask)\n"
     ]
    },
    {
     "name": "stdout",
     "output_type": "stream",
     "text": [
      "Selected: MG1655_GLU_OD_0.3_left_05\n"
     ]
    },
    {
     "name": "stderr",
     "output_type": "stream",
     "text": [
      "/var/folders/pp/cdyfs0g13j3_15mc99_0nfmh0000gn/T/ipykernel_11254/957434252.py:18: UserWarning: /Volumes/Flodrive/Florence/smFISH/analysis/20240927-exp16/MG1655_GLU_OD_0.3_left_05/DIC_masks_expanded.tif is a low contrast image\n",
      "  io.imsave(Path(imgdir) / 'DIC_masks_expanded.tif', expanded_mask)\n"
     ]
    },
    {
     "name": "stdout",
     "output_type": "stream",
     "text": [
      "Selected: MG1655_GLY_OD_0.3_right_01\n"
     ]
    },
    {
     "name": "stderr",
     "output_type": "stream",
     "text": [
      "/var/folders/pp/cdyfs0g13j3_15mc99_0nfmh0000gn/T/ipykernel_11254/957434252.py:18: UserWarning: /Volumes/Flodrive/Florence/smFISH/analysis/20240927-exp16/MG1655_GLY_OD_0.3_right_01/DIC_masks_expanded.tif is a low contrast image\n",
      "  io.imsave(Path(imgdir) / 'DIC_masks_expanded.tif', expanded_mask)\n"
     ]
    },
    {
     "name": "stdout",
     "output_type": "stream",
     "text": [
      "Selected: MG1655_GLY_OD_0.3_right_03\n"
     ]
    },
    {
     "name": "stderr",
     "output_type": "stream",
     "text": [
      "/var/folders/pp/cdyfs0g13j3_15mc99_0nfmh0000gn/T/ipykernel_11254/957434252.py:18: UserWarning: /Volumes/Flodrive/Florence/smFISH/analysis/20240927-exp16/MG1655_GLY_OD_0.3_right_03/DIC_masks_expanded.tif is a low contrast image\n",
      "  io.imsave(Path(imgdir) / 'DIC_masks_expanded.tif', expanded_mask)\n"
     ]
    },
    {
     "name": "stdout",
     "output_type": "stream",
     "text": [
      "Selected: MG1655_GLY_OD_0.3_right_06\n"
     ]
    },
    {
     "name": "stderr",
     "output_type": "stream",
     "text": [
      "/var/folders/pp/cdyfs0g13j3_15mc99_0nfmh0000gn/T/ipykernel_11254/957434252.py:18: UserWarning: /Volumes/Flodrive/Florence/smFISH/analysis/20240927-exp16/MG1655_GLY_OD_0.3_right_06/DIC_masks_expanded.tif is a low contrast image\n",
      "  io.imsave(Path(imgdir) / 'DIC_masks_expanded.tif', expanded_mask)\n"
     ]
    },
    {
     "name": "stdout",
     "output_type": "stream",
     "text": [
      "Selected: MG1655_GLY_OD_0.3_right_07\n"
     ]
    },
    {
     "name": "stderr",
     "output_type": "stream",
     "text": [
      "/var/folders/pp/cdyfs0g13j3_15mc99_0nfmh0000gn/T/ipykernel_11254/957434252.py:18: UserWarning: /Volumes/Flodrive/Florence/smFISH/analysis/20240927-exp16/MG1655_GLY_OD_0.3_right_07/DIC_masks_expanded.tif is a low contrast image\n",
      "  io.imsave(Path(imgdir) / 'DIC_masks_expanded.tif', expanded_mask)\n"
     ]
    },
    {
     "name": "stdout",
     "output_type": "stream",
     "text": [
      "Selected: MG1655_MAN_OD_0.3_left_02\n"
     ]
    },
    {
     "name": "stderr",
     "output_type": "stream",
     "text": [
      "/var/folders/pp/cdyfs0g13j3_15mc99_0nfmh0000gn/T/ipykernel_11254/957434252.py:18: UserWarning: /Volumes/Flodrive/Florence/smFISH/analysis/20240927-exp16/MG1655_MAN_OD_0.3_left_02/DIC_masks_expanded.tif is a low contrast image\n",
      "  io.imsave(Path(imgdir) / 'DIC_masks_expanded.tif', expanded_mask)\n"
     ]
    },
    {
     "name": "stdout",
     "output_type": "stream",
     "text": [
      "Selected: MG1655_MAN_OD_0.3_left_05\n"
     ]
    },
    {
     "name": "stderr",
     "output_type": "stream",
     "text": [
      "/var/folders/pp/cdyfs0g13j3_15mc99_0nfmh0000gn/T/ipykernel_11254/957434252.py:18: UserWarning: /Volumes/Flodrive/Florence/smFISH/analysis/20240927-exp16/MG1655_MAN_OD_0.3_left_05/DIC_masks_expanded.tif is a low contrast image\n",
      "  io.imsave(Path(imgdir) / 'DIC_masks_expanded.tif', expanded_mask)\n"
     ]
    },
    {
     "name": "stdout",
     "output_type": "stream",
     "text": [
      "Selected: MG1655_MAN_OD_0.3_left_06\n"
     ]
    },
    {
     "name": "stderr",
     "output_type": "stream",
     "text": [
      "/var/folders/pp/cdyfs0g13j3_15mc99_0nfmh0000gn/T/ipykernel_11254/957434252.py:18: UserWarning: /Volumes/Flodrive/Florence/smFISH/analysis/20240927-exp16/MG1655_MAN_OD_0.3_left_06/DIC_masks_expanded.tif is a low contrast image\n",
      "  io.imsave(Path(imgdir) / 'DIC_masks_expanded.tif', expanded_mask)\n"
     ]
    },
    {
     "name": "stdout",
     "output_type": "stream",
     "text": [
      "Selected: MG1655_MAN_OD_0.3_left_07\n"
     ]
    },
    {
     "name": "stderr",
     "output_type": "stream",
     "text": [
      "/var/folders/pp/cdyfs0g13j3_15mc99_0nfmh0000gn/T/ipykernel_11254/957434252.py:18: UserWarning: /Volumes/Flodrive/Florence/smFISH/analysis/20240927-exp16/MG1655_MAN_OD_0.3_left_07/DIC_masks_expanded.tif is a low contrast image\n",
      "  io.imsave(Path(imgdir) / 'DIC_masks_expanded.tif', expanded_mask)\n"
     ]
    },
    {
     "name": "stdout",
     "output_type": "stream",
     "text": [
      "Selected: MG1655_MAN_OD_0.3_left_09\n"
     ]
    },
    {
     "name": "stderr",
     "output_type": "stream",
     "text": [
      "/var/folders/pp/cdyfs0g13j3_15mc99_0nfmh0000gn/T/ipykernel_11254/957434252.py:18: UserWarning: /Volumes/Flodrive/Florence/smFISH/analysis/20240927-exp16/MG1655_MAN_OD_0.3_left_09/DIC_masks_expanded.tif is a low contrast image\n",
      "  io.imsave(Path(imgdir) / 'DIC_masks_expanded.tif', expanded_mask)\n"
     ]
    },
    {
     "name": "stdout",
     "output_type": "stream",
     "text": [
      "Selected: MG1655_MAN_OD_0.3_left_11\n"
     ]
    },
    {
     "name": "stderr",
     "output_type": "stream",
     "text": [
      "/var/folders/pp/cdyfs0g13j3_15mc99_0nfmh0000gn/T/ipykernel_11254/957434252.py:18: UserWarning: /Volumes/Flodrive/Florence/smFISH/analysis/20240927-exp16/MG1655_MAN_OD_0.3_left_11/DIC_masks_expanded.tif is a low contrast image\n",
      "  io.imsave(Path(imgdir) / 'DIC_masks_expanded.tif', expanded_mask)\n"
     ]
    },
    {
     "name": "stdout",
     "output_type": "stream",
     "text": [
      "Config file from: /Volumes/Flodrive/Florence/smFISH/analysis/20240927-LB\n",
      "\t/Volumes/Flodrive/Florence/smFISH/analysis/20240927-LB/config-detection-processed.json\n",
      "Selected: MG1655_LB_fixed2806_hybed1906_left_01\n"
     ]
    },
    {
     "name": "stderr",
     "output_type": "stream",
     "text": [
      "/var/folders/pp/cdyfs0g13j3_15mc99_0nfmh0000gn/T/ipykernel_11254/957434252.py:18: UserWarning: /Volumes/Flodrive/Florence/smFISH/analysis/20240927-LB/MG1655_LB_fixed2806_hybed1906_left_01/DIC_masks_expanded.tif is a low contrast image\n",
      "  io.imsave(Path(imgdir) / 'DIC_masks_expanded.tif', expanded_mask)\n"
     ]
    },
    {
     "name": "stdout",
     "output_type": "stream",
     "text": [
      "Selected: MG1655_LB_fixed2806_hybed1906_left_07\n"
     ]
    },
    {
     "name": "stderr",
     "output_type": "stream",
     "text": [
      "/var/folders/pp/cdyfs0g13j3_15mc99_0nfmh0000gn/T/ipykernel_11254/957434252.py:18: UserWarning: /Volumes/Flodrive/Florence/smFISH/analysis/20240927-LB/MG1655_LB_fixed2806_hybed1906_left_07/DIC_masks_expanded.tif is a low contrast image\n",
      "  io.imsave(Path(imgdir) / 'DIC_masks_expanded.tif', expanded_mask)\n"
     ]
    }
   ],
   "source": [
    "rootdir = '/Volumes/Flodrive/Florence/smFISH/analysis'\n",
    "for f in Path(rootdir).glob('*/config-detection-processed.json'):\n",
    "    print(f\"Config file from: {f.parent}\")\n",
    "    print(f\"\\t{f}\")\n",
    "    with open(f, 'r') as fh:\n",
    "        config = json.load(fh)\n",
    "        for exp in config['experiments']:\n",
    "            for img in exp['images']:\n",
    "                if img[\"detect_spots\"] == True:\n",
    "                    print(f'Selected: {img[\"stem\"]}')\n",
    "                    \n",
    "                    imgdir = Path(config['outputdir']) / img['stem']\n",
    "                    masks = io.imread(Path(imgdir) / 'DIC_masks_selected_by_shape.tif')\n",
    "                    \n",
    "                    distance = 3\n",
    "                    expanded_mask = expand_labels(masks, distance=distance)\n",
    "                    \n",
    "                    io.imsave(Path(imgdir) / 'DIC_masks_expanded.tif', expanded_mask)"
   ]
  },
  {
   "cell_type": "markdown",
   "id": "928081990b4ff86f",
   "metadata": {},
   "source": []
  },
  {
   "cell_type": "markdown",
   "id": "96b8d3938e5becaa",
   "metadata": {},
   "source": [
    "### Use postprocessed masks as final cell masks \n",
    "Select the desired version of the masks for spot detection  "
   ]
  },
  {
   "cell_type": "code",
   "execution_count": 3,
   "id": "73f1922101f12083",
   "metadata": {
    "ExecuteTime": {
     "end_time": "2024-12-03T20:48:59.324416Z",
     "start_time": "2024-12-03T20:48:53.928257Z"
    }
   },
   "outputs": [
    {
     "name": "stdout",
     "output_type": "stream",
     "text": [
      "/Volumes/Flodrive/Florence/smFISH/analysis/20241029-exp24/exp24-GLU-right-2_01/DIC_masks.tif -> DIC_masks_selected_by_shape.tif\n",
      "/Volumes/Flodrive/Florence/smFISH/analysis/20241029-exp24/exp24-GLU-right-2_03/DIC_masks.tif -> DIC_masks_selected_by_shape.tif\n",
      "/Volumes/Flodrive/Florence/smFISH/analysis/20241029-exp24/exp24-GLU-right-2_05/DIC_masks.tif -> DIC_masks_selected_by_shape.tif\n",
      "/Volumes/Flodrive/Florence/smFISH/analysis/20241029-exp24/exp24-GLY-left_02/DIC_masks.tif -> DIC_masks_selected_by_shape.tif\n",
      "/Volumes/Flodrive/Florence/smFISH/analysis/20241029-exp24/exp24-GLY-left_03/DIC_masks.tif -> DIC_masks_selected_by_shape.tif\n",
      "/Volumes/Flodrive/Florence/smFISH/analysis/20241029-exp24/exp24-GLY-left_06/DIC_masks.tif -> DIC_masks_selected_by_shape.tif\n",
      "/Volumes/Flodrive/Florence/smFISH/analysis/20241029-exp24/exp24-GLY-left_10/DIC_masks.tif -> DIC_masks_selected_by_shape.tif\n",
      "/Volumes/Flodrive/Florence/smFISH/analysis/20241029-exp22/exp22-GLU_01/DIC_masks.tif -> DIC_masks_selected_by_shape.tif\n",
      "/Volumes/Flodrive/Florence/smFISH/analysis/20241029-exp22/exp22-GLU_02/DIC_masks.tif -> DIC_masks_selected_by_shape.tif\n",
      "/Volumes/Flodrive/Florence/smFISH/analysis/20241029-exp22/exp22-GLU_04/DIC_masks.tif -> DIC_masks_selected_by_shape.tif\n",
      "/Volumes/Flodrive/Florence/smFISH/analysis/20241029-exp22/exp22-GLU_05/DIC_masks.tif -> DIC_masks_selected_by_shape.tif\n",
      "/Volumes/Flodrive/Florence/smFISH/analysis/20241029-exp22/exp22-GLU_06/DIC_masks.tif -> DIC_masks_selected_by_shape.tif\n",
      "/Volumes/Flodrive/Florence/smFISH/analysis/20241029-exp22/exp22-GLU_07/DIC_masks.tif -> DIC_masks_selected_by_shape.tif\n",
      "/Volumes/Flodrive/Florence/smFISH/analysis/20241029-exp22/exp22-GLU_08/DIC_masks.tif -> DIC_masks_selected_by_shape.tif\n",
      "/Volumes/Flodrive/Florence/smFISH/analysis/20241029-exp22/exp22-GLU_09/DIC_masks.tif -> DIC_masks_selected_by_shape.tif\n",
      "/Volumes/Flodrive/Florence/smFISH/analysis/20241029-exp22/exp22-GLU_10/DIC_masks.tif -> DIC_masks_selected_by_shape.tif\n",
      "/Volumes/Flodrive/Florence/smFISH/analysis/20241029-exp22/exp22-GLY_09/DIC_masks.tif -> DIC_masks_selected_by_shape.tif\n",
      "/Volumes/Flodrive/Florence/smFISH/analysis/20241029-exp22/exp22-GLY_10/DIC_masks.tif -> DIC_masks_selected_by_shape.tif\n",
      "/Volumes/Flodrive/Florence/smFISH/analysis/20241029-exp22/exp22-GAL_03/DIC_masks.tif -> DIC_masks_selected_by_shape.tif\n",
      "/Volumes/Flodrive/Florence/smFISH/analysis/20241029-exp22/exp22-GAL_04/DIC_masks.tif -> DIC_masks_selected_by_shape.tif\n",
      "/Volumes/Flodrive/Florence/smFISH/analysis/20241029-exp22/exp22-GAL_07/DIC_masks.tif -> DIC_masks_selected_by_shape.tif\n",
      "/Volumes/Flodrive/Florence/smFISH/analysis/20241029-exp22/exp22-GAL_08/DIC_masks.tif -> DIC_masks_selected_by_shape.tif\n",
      "/Volumes/Flodrive/Florence/smFISH/analysis/20241029-exp22/exp22-MAN_01/DIC_masks.tif -> DIC_masks_selected_by_shape.tif\n",
      "/Volumes/Flodrive/Florence/smFISH/analysis/20241029-exp22/exp22-MAN_02/DIC_masks.tif -> DIC_masks_selected_by_shape.tif\n",
      "/Volumes/Flodrive/Florence/smFISH/analysis/20241029-exp22/exp22-MAN_03/DIC_masks.tif -> DIC_masks_selected_by_shape.tif\n",
      "/Volumes/Flodrive/Florence/smFISH/analysis/20241029-exp22/exp22-MAN_05/DIC_masks.tif -> DIC_masks_selected_by_shape.tif\n",
      "/Volumes/Flodrive/Florence/smFISH/analysis/20241029-exp22/exp22-MAN_06/DIC_masks.tif -> DIC_masks_selected_by_shape.tif\n",
      "/Volumes/Flodrive/Florence/smFISH/analysis/20241003-exp16/MG1655_GAL-lowOD-2nd_06/DIC_masks.tif -> DIC_masks_selected_by_shape.tif\n",
      "/Volumes/Flodrive/Florence/smFISH/analysis/20241003-exp16/MG1655_GAL-lowOD-2nd_09/DIC_masks.tif -> DIC_masks_selected_by_shape.tif\n",
      "/Volumes/Flodrive/Florence/smFISH/analysis/20241003-exp16/MG1655_GLY-lowOD-2nd_01/DIC_masks.tif -> DIC_masks_selected_by_shape.tif\n",
      "/Volumes/Flodrive/Florence/smFISH/analysis/20240927-exp16/MG1655_GLU_OD_0.3_left_02/DIC_masks.tif -> DIC_masks_selected_by_shape.tif\n",
      "/Volumes/Flodrive/Florence/smFISH/analysis/20240927-exp16/MG1655_GLU_OD_0.3_left_03/DIC_masks.tif -> DIC_masks_selected_by_shape.tif\n",
      "/Volumes/Flodrive/Florence/smFISH/analysis/20240927-exp16/MG1655_GLU_OD_0.3_left_04/DIC_masks.tif -> DIC_masks_selected_by_shape.tif\n",
      "/Volumes/Flodrive/Florence/smFISH/analysis/20240927-exp16/MG1655_GLU_OD_0.3_left_05/DIC_masks.tif -> DIC_masks_selected_by_shape.tif\n",
      "/Volumes/Flodrive/Florence/smFISH/analysis/20240927-exp16/MG1655_GLY_OD_0.3_right_01/DIC_masks.tif -> DIC_masks_selected_by_shape.tif\n",
      "/Volumes/Flodrive/Florence/smFISH/analysis/20240927-exp16/MG1655_GLY_OD_0.3_right_03/DIC_masks.tif -> DIC_masks_selected_by_shape.tif\n",
      "/Volumes/Flodrive/Florence/smFISH/analysis/20240927-exp16/MG1655_GLY_OD_0.3_right_06/DIC_masks.tif -> DIC_masks_selected_by_shape.tif\n",
      "/Volumes/Flodrive/Florence/smFISH/analysis/20240927-exp16/MG1655_GLY_OD_0.3_right_07/DIC_masks.tif -> DIC_masks_selected_by_shape.tif\n",
      "/Volumes/Flodrive/Florence/smFISH/analysis/20240927-exp16/MG1655_MAN_OD_0.3_left_02/DIC_masks.tif -> DIC_masks_selected_by_shape.tif\n",
      "/Volumes/Flodrive/Florence/smFISH/analysis/20240927-exp16/MG1655_MAN_OD_0.3_left_05/DIC_masks.tif -> DIC_masks_selected_by_shape.tif\n",
      "/Volumes/Flodrive/Florence/smFISH/analysis/20240927-exp16/MG1655_MAN_OD_0.3_left_06/DIC_masks.tif -> DIC_masks_selected_by_shape.tif\n",
      "/Volumes/Flodrive/Florence/smFISH/analysis/20240927-exp16/MG1655_MAN_OD_0.3_left_07/DIC_masks.tif -> DIC_masks_selected_by_shape.tif\n",
      "/Volumes/Flodrive/Florence/smFISH/analysis/20240927-exp16/MG1655_MAN_OD_0.3_left_09/DIC_masks.tif -> DIC_masks_selected_by_shape.tif\n",
      "/Volumes/Flodrive/Florence/smFISH/analysis/20240927-exp16/MG1655_MAN_OD_0.3_left_11/DIC_masks.tif -> DIC_masks_selected_by_shape.tif\n",
      "/Volumes/Flodrive/Florence/smFISH/analysis/20240927-LB/MG1655_LB_fixed2806_hybed1906_left_01/DIC_masks.tif -> DIC_masks_selected_by_shape.tif\n",
      "/Volumes/Flodrive/Florence/smFISH/analysis/20240927-LB/MG1655_LB_fixed2806_hybed1906_left_07/DIC_masks.tif -> DIC_masks_selected_by_shape.tif\n"
     ]
    }
   ],
   "source": [
    "rootdir = '/Volumes/Flodrive/Florence/smFISH/analysis'\n",
    "for f in Path(rootdir).glob('*/*/DIC_masks.tif'):\n",
    "    targetmaskfile = 'DIC_masks_selected_by_shape.tif'\n",
    "    # targetmaskfile = 'DIC_masks_expanded.tif'\n",
    "    print(f'{f} -> {targetmaskfile}')\n",
    "    Path(f).unlink(missing_ok=True)\n",
    "    # Path(f).symlink_to('DIC_masks_selected_by_shape.tif')\n",
    "    Path(f).symlink_to(targetmaskfile)\n"
   ]
  },
  {
   "cell_type": "markdown",
   "id": "e2cc11dd4a380467",
   "metadata": {},
   "source": []
  },
  {
   "cell_type": "code",
   "execution_count": null,
   "id": "dd0de01f16975213",
   "metadata": {},
   "outputs": [],
   "source": []
  }
 ],
 "metadata": {
  "kernelspec": {
   "display_name": "omnipose",
   "language": "python",
   "name": "omnipose"
  },
  "language_info": {
   "codemirror_mode": {
    "name": "ipython",
    "version": 3
   },
   "file_extension": ".py",
   "mimetype": "text/x-python",
   "name": "python",
   "nbconvert_exporter": "python",
   "pygments_lexer": "ipython3",
   "version": "3.10.16"
  }
 },
 "nbformat": 4,
 "nbformat_minor": 5
}

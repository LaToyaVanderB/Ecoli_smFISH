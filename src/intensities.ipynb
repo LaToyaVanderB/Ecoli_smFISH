{
 "cells": [
  {
   "cell_type": "code",
   "id": "initial_id",
   "metadata": {
    "collapsed": true,
    "ExecuteTime": {
     "end_time": "2024-11-08T12:59:25.782533Z",
     "start_time": "2024-11-08T12:59:25.779339Z"
    }
   },
   "source": [
    "import numpy as np\n",
    "from seaborn import color_palette\n",
    "from skimage import io\n",
    "import re\n",
    "import pandas as pd\n",
    "import seaborn as sns\n",
    "from skimage.measure import regionprops_table\n",
    "from matplotlib import pyplot as plt\n",
    "from pathlib import Path\n",
    "import json\n",
    "from copy import copy\n",
    "from pprint import pprint"
   ],
   "outputs": [],
   "execution_count": 3
  },
  {
   "metadata": {
    "ExecuteTime": {
     "end_time": "2024-11-08T13:00:43.072329Z",
     "start_time": "2024-11-08T13:00:43.069202Z"
    }
   },
   "cell_type": "code",
   "source": [
    "def get_image(configfile, stem):\n",
    "    with open(configfile) as f:\n",
    "        config = json.load(f)\n",
    "        \n",
    "        for exp in config['experiments']:\n",
    "            for img in exp['images']:\n",
    "                if img['stem'] == stem:\n",
    "                    print(f\"{img['stem']}: {img['segment']} {img['detect_spots']}\")\n",
    "                    return img\n"
   ],
   "id": "b15702d7cf2fa359",
   "outputs": [],
   "execution_count": 10
  },
  {
   "metadata": {
    "ExecuteTime": {
     "end_time": "2024-11-08T11:23:48.285218Z",
     "start_time": "2024-11-08T11:23:48.282008Z"
    }
   },
   "cell_type": "code",
   "source": [
    "# bad picture\n",
    "mrna = 'rpoD'\n",
    "configfile = '/Volumes/Flodrive/Florence/smFISH/analysis/20241029-exp22/config-detection-processed.json'\n",
    "stem = 'exp22-GAL_07'     "
   ],
   "id": "dc90c9640da9ee1c",
   "outputs": [],
   "execution_count": 139
  },
  {
   "metadata": {
    "ExecuteTime": {
     "end_time": "2024-11-08T12:57:55.167121Z",
     "start_time": "2024-11-08T12:57:55.158296Z"
    }
   },
   "cell_type": "code",
   "source": [
    "# good picture (good signal but segmentation leaves legit cells out)\n",
    "mrna = 'rpoD'\n",
    "configfile = '/Volumes/Flodrive/Florence/smFISH/analysis/20241029-exp22/config-detection-processed.json'\n",
    "stem = 'exp22-GLU-r02'     "
   ],
   "id": "38c691ec90f3b3c8",
   "outputs": [],
   "execution_count": 178
  },
  {
   "metadata": {
    "ExecuteTime": {
     "end_time": "2024-11-09T23:55:47.211443Z",
     "start_time": "2024-11-09T23:55:47.207819Z"
    }
   },
   "cell_type": "code",
   "source": [
    "# even better picture (good signal and full segmentation)\n",
    "mrna = 'rpoD'\n",
    "configfile = '/Volumes/Flodrive/Florence/smFISH/analysis/20240927-exp16/config-detection-processed.json'\n",
    "stem = 'MG1655_GLU_OD_0.3_left_02'  \n"
   ],
   "id": "3057d65bc36aa8c2",
   "outputs": [],
   "execution_count": 99
  },
  {
   "metadata": {
    "ExecuteTime": {
     "end_time": "2024-11-09T23:55:51.138082Z",
     "start_time": "2024-11-09T23:55:50.762985Z"
    }
   },
   "cell_type": "code",
   "source": "img = get_image(configfile, stem)\n",
   "id": "ed5cfd55e27718c1",
   "outputs": [
    {
     "name": "stdout",
     "output_type": "stream",
     "text": [
      "MG1655_GLU_OD_0.3_left_02: True True\n"
     ]
    }
   ],
   "execution_count": 100
  },
  {
   "metadata": {
    "ExecuteTime": {
     "end_time": "2024-11-10T00:54:02.037964Z",
     "start_time": "2024-11-10T00:54:02.032201Z"
    }
   },
   "cell_type": "code",
   "source": [
    "spots = np.load(img[mrna]['spotsfile'])\n",
    "spots"
   ],
   "id": "4876a099ddceb4a1",
   "outputs": [
    {
     "data": {
      "text/plain": [
       "array([[   14,   204,   160,  7499,   896,  1433],\n",
       "       [   14,   266,   256,  9332,  1819,  1501],\n",
       "       [   14,   286,   799, 13579,  4131,  1522],\n",
       "       ...,\n",
       "       [   19,  1094,   481, 12343,  5224,  2350],\n",
       "       [   19,  1134,   453,  7995,  2133,  2392],\n",
       "       [   20,  1133,   169,  7763,  2607,  2391]])"
      ]
     },
     "execution_count": 126,
     "metadata": {},
     "output_type": "execute_result"
    }
   ],
   "execution_count": 126
  },
  {
   "metadata": {
    "ExecuteTime": {
     "end_time": "2024-11-10T13:02:22.608866Z",
     "start_time": "2024-11-10T13:02:21.326320Z"
    }
   },
   "cell_type": "code",
   "source": [
    "\n",
    "\n",
    "spots = pd.DataFrame(np.load(img[mrna]['spotsfile']), columns=['z', 'y', 'x', 'intensity', 'filtered_intensity', 'label'])\n",
    "spots['in_cell'] = spots.apply(lambda s: False if s['label'] == 0 else True, axis=1)\n",
    "\n",
    "fig, ax = plt.subplots(3, 5, figsize=(20, 8))\n",
    "sns.histplot(spots, x='z', ax=ax[0][0]).set(title='Spots per slice (all)')\n",
    "sns.histplot(spots, x='intensity', hue='in_cell', ax=ax[0][1]).set(title='Spot intensities (all)', xlim=(0, 30000))\n",
    "sns.histplot(spots, x='filtered_intensity', hue='in_cell', ax=ax[0][2]).set(title='Spot filtered intensities (all)', xlim=(0, 30000))\n",
    "sns.histplot(spots, x='x', ax=ax[0][3]).set(title='x')\n",
    "sns.histplot(spots, x='y', ax=ax[0][4]).set(title='y')\n",
    "\n",
    "sns.histplot(spots.query('label > 0'), x='z', ax=ax[1][0]).set(title='Spots per slice (in cell)')\n",
    "sns.histplot(spots.query('label > 0'), x='intensity', color=sns.color_palette()[1], ax=ax[1][1]).set(title='Spot intensities (in cell)', xlim=(0, 30000))\n",
    "sns.histplot(spots.query('label > 0'), x='filtered_intensity', color=sns.color_palette()[1], ax=ax[1][2]).set(title='Spot filtered intensities (in cell)', xlim=(0, 30000))\n",
    "sns.histplot(spots.query('label > 0'), x='x', ax=ax[1][3]).set(title='x')\n",
    "sns.histplot(spots.query('label > 0'), x='y', ax=ax[1][4]).set(title='y')\n",
    "\n",
    "sns.histplot(spots.query('label == 0'), x='z', ax=ax[2][0]).set(title='Spots per slice (out of cell)')\n",
    "sns.histplot(spots.query('label == 0'), x='intensity', color=sns.color_palette()[0], ax=ax[2][1]).set(title='Spot intensities (out of cell)', xlim=(0, 30000))\n",
    "sns.histplot(spots.query('label == 0'), x='filtered_intensity', color=sns.color_palette()[0], ax=ax[2][2]).set(title='Spot filtered intensities (out of cell)', xlim=(0, 30000))\n",
    "sns.histplot(spots.query('label == 0'), x='x', ax=ax[2][3]).set(title='x')\n",
    "sns.histplot(spots.query('label == 0'), x='y', ax=ax[2][4]).set(title='y')\n",
    "\n",
    "plt.tight_layout();\n"
   ],
   "id": "c028f0b98844ebc2",
   "outputs": [
    {
     "data": {
      "text/plain": [
       "<Figure size 2000x800 with 15 Axes>"
      ],
      "image/png": "[encoded data removed]"
     },
     "metadata": {},
     "output_type": "display_data"
    }
   ],
   "execution_count": 152
  },
  {
   "metadata": {
    "ExecuteTime": {
     "end_time": "2024-11-10T00:59:14.248368Z",
     "start_time": "2024-11-10T00:59:14.235948Z"
    }
   },
   "cell_type": "code",
   "source": "len(spots.query('label == 0')), len(spots.query('label > 0'))",
   "id": "a4e61489113c8f26",
   "outputs": [
    {
     "data": {
      "text/plain": [
       "(70, 1152)"
      ]
     },
     "execution_count": 129,
     "metadata": {},
     "output_type": "execute_result"
    }
   ],
   "execution_count": 129
  },
  {
   "metadata": {
    "ExecuteTime": {
     "end_time": "2024-11-10T13:00:25.010154Z",
     "start_time": "2024-11-10T13:00:24.990184Z"
    }
   },
   "cell_type": "code",
   "source": "sns.color_palette()[:2]",
   "id": "9ff04e59e957ebba",
   "outputs": [
    {
     "data": {
      "text/plain": [
       "[(0.12156862745098039, 0.4666666666666667, 0.7058823529411765),\n",
       " (1.0, 0.4980392156862745, 0.054901960784313725)]"
      ]
     },
     "execution_count": 151,
     "metadata": {},
     "output_type": "execute_result"
    }
   ],
   "execution_count": 151
  },
  {
   "metadata": {},
   "cell_type": "markdown",
   "source": [
    "#### This does not work very well\n",
    "1. The intensities of the cells that don't have a mask despite being legitimate cells \n",
    "count as out-of-cells intensities.\n",
    "2. Where the DIC is misaligned (top right corner), spots will be erroneously counted as out of cells."
   ],
   "id": "9d61c5b85b8cf58c"
  },
  {
   "metadata": {
    "ExecuteTime": {
     "end_time": "2024-11-10T00:07:28.102625Z",
     "start_time": "2024-11-10T00:07:28.094395Z"
    }
   },
   "cell_type": "code",
   "source": "spot_intensities.query('label > 0')",
   "id": "d60a2c20a62b7c17",
   "outputs": [
    {
     "data": {
      "text/plain": [
       "       z     y     x  intensity  filtered_intensity  label\n",
       "0     14    17   455       6155                1039     26\n",
       "1     14    23   440      11599                3319      8\n",
       "2     14    35   384      11154                3436     53\n",
       "3     14    64  1922       6807                1089     77\n",
       "4     14    84   391       8336                1972    110\n",
       "...   ..   ...   ...        ...                 ...    ...\n",
       "5171  20  2280   169       7763                2607   2391\n",
       "5172  21  1498  1156      12656                4090   1603\n",
       "5173  22    31   488      10088                3179     48\n",
       "5174  22  2043  1615      12541                4433   2159\n",
       "5175  23   724   805      12403                1791    775\n",
       "\n",
       "[4105 rows x 6 columns]"
      ],
      "text/html": [
       "<div>\n",
       "<style scoped>\n",
       "    .dataframe tbody tr th:only-of-type {\n",
       "        vertical-align: middle;\n",
       "    }\n",
       "\n",
       "    .dataframe tbody tr th {\n",
       "        vertical-align: top;\n",
       "    }\n",
       "\n",
       "    .dataframe thead th {\n",
       "        text-align: right;\n",
       "    }\n",
       "</style>\n",
       "<table border=\"1\" class=\"dataframe\">\n",
       "  <thead>\n",
       "    <tr style=\"text-align: right;\">\n",
       "      <th></th>\n",
       "      <th>z</th>\n",
       "      <th>y</th>\n",
       "      <th>x</th>\n",
       "      <th>intensity</th>\n",
       "      <th>filtered_intensity</th>\n",
       "      <th>label</th>\n",
       "    </tr>\n",
       "  </thead>\n",
       "  <tbody>\n",
       "    <tr>\n",
       "      <th>0</th>\n",
       "      <td>14</td>\n",
       "      <td>17</td>\n",
       "      <td>455</td>\n",
       "      <td>6155</td>\n",
       "      <td>1039</td>\n",
       "      <td>26</td>\n",
       "    </tr>\n",
       "    <tr>\n",
       "      <th>1</th>\n",
       "      <td>14</td>\n",
       "      <td>23</td>\n",
       "      <td>440</td>\n",
       "      <td>11599</td>\n",
       "      <td>3319</td>\n",
       "      <td>8</td>\n",
       "    </tr>\n",
       "    <tr>\n",
       "      <th>2</th>\n",
       "      <td>14</td>\n",
       "      <td>35</td>\n",
       "      <td>384</td>\n",
       "      <td>11154</td>\n",
       "      <td>3436</td>\n",
       "      <td>53</td>\n",
       "    </tr>\n",
       "    <tr>\n",
       "      <th>3</th>\n",
       "      <td>14</td>\n",
       "      <td>64</td>\n",
       "      <td>1922</td>\n",
       "      <td>6807</td>\n",
       "      <td>1089</td>\n",
       "      <td>77</td>\n",
       "    </tr>\n",
       "    <tr>\n",
       "      <th>4</th>\n",
       "      <td>14</td>\n",
       "      <td>84</td>\n",
       "      <td>391</td>\n",
       "      <td>8336</td>\n",
       "      <td>1972</td>\n",
       "      <td>110</td>\n",
       "    </tr>\n",
       "    <tr>\n",
       "      <th>...</th>\n",
       "      <td>...</td>\n",
       "      <td>...</td>\n",
       "      <td>...</td>\n",
       "      <td>...</td>\n",
       "      <td>...</td>\n",
       "      <td>...</td>\n",
       "    </tr>\n",
       "    <tr>\n",
       "      <th>5171</th>\n",
       "      <td>20</td>\n",
       "      <td>2280</td>\n",
       "      <td>169</td>\n",
       "      <td>7763</td>\n",
       "      <td>2607</td>\n",
       "      <td>2391</td>\n",
       "    </tr>\n",
       "    <tr>\n",
       "      <th>5172</th>\n",
       "      <td>21</td>\n",
       "      <td>1498</td>\n",
       "      <td>1156</td>\n",
       "      <td>12656</td>\n",
       "      <td>4090</td>\n",
       "      <td>1603</td>\n",
       "    </tr>\n",
       "    <tr>\n",
       "      <th>5173</th>\n",
       "      <td>22</td>\n",
       "      <td>31</td>\n",
       "      <td>488</td>\n",
       "      <td>10088</td>\n",
       "      <td>3179</td>\n",
       "      <td>48</td>\n",
       "    </tr>\n",
       "    <tr>\n",
       "      <th>5174</th>\n",
       "      <td>22</td>\n",
       "      <td>2043</td>\n",
       "      <td>1615</td>\n",
       "      <td>12541</td>\n",
       "      <td>4433</td>\n",
       "      <td>2159</td>\n",
       "    </tr>\n",
       "    <tr>\n",
       "      <th>5175</th>\n",
       "      <td>23</td>\n",
       "      <td>724</td>\n",
       "      <td>805</td>\n",
       "      <td>12403</td>\n",
       "      <td>1791</td>\n",
       "      <td>775</td>\n",
       "    </tr>\n",
       "  </tbody>\n",
       "</table>\n",
       "<p>4105 rows × 6 columns</p>\n",
       "</div>"
      ]
     },
     "execution_count": 113,
     "metadata": {},
     "output_type": "execute_result"
    }
   ],
   "execution_count": 113
  },
  {
   "metadata": {
    "ExecuteTime": {
     "end_time": "2024-11-10T00:07:54.294218Z",
     "start_time": "2024-11-10T00:07:54.288098Z"
    }
   },
   "cell_type": "code",
   "source": "spot_intensities.query('label == 0')",
   "id": "bd36efbc5ea8daf5",
   "outputs": [
    {
     "data": {
      "text/plain": [
       "       z     y     x  intensity  filtered_intensity  label\n",
       "8     14   144  2185       7076                1905      0\n",
       "11    14   202  1557       5154                1154      0\n",
       "13    14   256   190       5362                1326      0\n",
       "14    14   265   467       5284                1074      0\n",
       "16    14   387  2098       7077                1126      0\n",
       "...   ..   ...   ...        ...                 ...    ...\n",
       "5127  19  2063  1611      19678                9287      0\n",
       "5144  19  2148  2252       6094                2216      0\n",
       "5150  19  2198  2141       6985                1713      0\n",
       "5159  19  2274  1769       6414                1713      0\n",
       "5169  20  2047  1609      12221                4622      0\n",
       "\n",
       "[1071 rows x 6 columns]"
      ],
      "text/html": [
       "<div>\n",
       "<style scoped>\n",
       "    .dataframe tbody tr th:only-of-type {\n",
       "        vertical-align: middle;\n",
       "    }\n",
       "\n",
       "    .dataframe tbody tr th {\n",
       "        vertical-align: top;\n",
       "    }\n",
       "\n",
       "    .dataframe thead th {\n",
       "        text-align: right;\n",
       "    }\n",
       "</style>\n",
       "<table border=\"1\" class=\"dataframe\">\n",
       "  <thead>\n",
       "    <tr style=\"text-align: right;\">\n",
       "      <th></th>\n",
       "      <th>z</th>\n",
       "      <th>y</th>\n",
       "      <th>x</th>\n",
       "      <th>intensity</th>\n",
       "      <th>filtered_intensity</th>\n",
       "      <th>label</th>\n",
       "    </tr>\n",
       "  </thead>\n",
       "  <tbody>\n",
       "    <tr>\n",
       "      <th>8</th>\n",
       "      <td>14</td>\n",
       "      <td>144</td>\n",
       "      <td>2185</td>\n",
       "      <td>7076</td>\n",
       "      <td>1905</td>\n",
       "      <td>0</td>\n",
       "    </tr>\n",
       "    <tr>\n",
       "      <th>11</th>\n",
       "      <td>14</td>\n",
       "      <td>202</td>\n",
       "      <td>1557</td>\n",
       "      <td>5154</td>\n",
       "      <td>1154</td>\n",
       "      <td>0</td>\n",
       "    </tr>\n",
       "    <tr>\n",
       "      <th>13</th>\n",
       "      <td>14</td>\n",
       "      <td>256</td>\n",
       "      <td>190</td>\n",
       "      <td>5362</td>\n",
       "      <td>1326</td>\n",
       "      <td>0</td>\n",
       "    </tr>\n",
       "    <tr>\n",
       "      <th>14</th>\n",
       "      <td>14</td>\n",
       "      <td>265</td>\n",
       "      <td>467</td>\n",
       "      <td>5284</td>\n",
       "      <td>1074</td>\n",
       "      <td>0</td>\n",
       "    </tr>\n",
       "    <tr>\n",
       "      <th>16</th>\n",
       "      <td>14</td>\n",
       "      <td>387</td>\n",
       "      <td>2098</td>\n",
       "      <td>7077</td>\n",
       "      <td>1126</td>\n",
       "      <td>0</td>\n",
       "    </tr>\n",
       "    <tr>\n",
       "      <th>...</th>\n",
       "      <td>...</td>\n",
       "      <td>...</td>\n",
       "      <td>...</td>\n",
       "      <td>...</td>\n",
       "      <td>...</td>\n",
       "      <td>...</td>\n",
       "    </tr>\n",
       "    <tr>\n",
       "      <th>5127</th>\n",
       "      <td>19</td>\n",
       "      <td>2063</td>\n",
       "      <td>1611</td>\n",
       "      <td>19678</td>\n",
       "      <td>9287</td>\n",
       "      <td>0</td>\n",
       "    </tr>\n",
       "    <tr>\n",
       "      <th>5144</th>\n",
       "      <td>19</td>\n",
       "      <td>2148</td>\n",
       "      <td>2252</td>\n",
       "      <td>6094</td>\n",
       "      <td>2216</td>\n",
       "      <td>0</td>\n",
       "    </tr>\n",
       "    <tr>\n",
       "      <th>5150</th>\n",
       "      <td>19</td>\n",
       "      <td>2198</td>\n",
       "      <td>2141</td>\n",
       "      <td>6985</td>\n",
       "      <td>1713</td>\n",
       "      <td>0</td>\n",
       "    </tr>\n",
       "    <tr>\n",
       "      <th>5159</th>\n",
       "      <td>19</td>\n",
       "      <td>2274</td>\n",
       "      <td>1769</td>\n",
       "      <td>6414</td>\n",
       "      <td>1713</td>\n",
       "      <td>0</td>\n",
       "    </tr>\n",
       "    <tr>\n",
       "      <th>5169</th>\n",
       "      <td>20</td>\n",
       "      <td>2047</td>\n",
       "      <td>1609</td>\n",
       "      <td>12221</td>\n",
       "      <td>4622</td>\n",
       "      <td>0</td>\n",
       "    </tr>\n",
       "  </tbody>\n",
       "</table>\n",
       "<p>1071 rows × 6 columns</p>\n",
       "</div>"
      ]
     },
     "execution_count": 114,
     "metadata": {},
     "output_type": "execute_result"
    }
   ],
   "execution_count": 114
  },
  {
   "metadata": {
    "ExecuteTime": {
     "end_time": "2024-11-10T13:44:50.482905Z",
     "start_time": "2024-11-10T13:44:50.397837Z"
    }
   },
   "cell_type": "code",
   "source": "spots",
   "id": "ef364dd42ed61d83",
   "outputs": [
    {
     "data": {
      "text/plain": [
       "       z     y    x  intensity  filtered_intensity  label  in_cell\n",
       "0     14   204  160       7499                 896   1433     True\n",
       "1     14   266  256       9332                1819   1501     True\n",
       "2     14   286  799      13579                4131   1522     True\n",
       "3     15     3  173      12767                4410   1211     True\n",
       "4     15     7  427      11205                3644   1209     True\n",
       "...   ..   ...  ...        ...                 ...    ...      ...\n",
       "1217  19  1031    2       8337                2657   2301     True\n",
       "1218  19  1031  141      11866                4214   2297     True\n",
       "1219  19  1094  481      12343                5224   2350     True\n",
       "1220  19  1134  453       7995                2133   2392     True\n",
       "1221  20  1133  169       7763                2607   2391     True\n",
       "\n",
       "[1222 rows x 7 columns]"
      ],
      "text/html": [
       "<div>\n",
       "<style scoped>\n",
       "    .dataframe tbody tr th:only-of-type {\n",
       "        vertical-align: middle;\n",
       "    }\n",
       "\n",
       "    .dataframe tbody tr th {\n",
       "        vertical-align: top;\n",
       "    }\n",
       "\n",
       "    .dataframe thead th {\n",
       "        text-align: right;\n",
       "    }\n",
       "</style>\n",
       "<table border=\"1\" class=\"dataframe\">\n",
       "  <thead>\n",
       "    <tr style=\"text-align: right;\">\n",
       "      <th></th>\n",
       "      <th>z</th>\n",
       "      <th>y</th>\n",
       "      <th>x</th>\n",
       "      <th>intensity</th>\n",
       "      <th>filtered_intensity</th>\n",
       "      <th>label</th>\n",
       "      <th>in_cell</th>\n",
       "    </tr>\n",
       "  </thead>\n",
       "  <tbody>\n",
       "    <tr>\n",
       "      <th>0</th>\n",
       "      <td>14</td>\n",
       "      <td>204</td>\n",
       "      <td>160</td>\n",
       "      <td>7499</td>\n",
       "      <td>896</td>\n",
       "      <td>1433</td>\n",
       "      <td>True</td>\n",
       "    </tr>\n",
       "    <tr>\n",
       "      <th>1</th>\n",
       "      <td>14</td>\n",
       "      <td>266</td>\n",
       "      <td>256</td>\n",
       "      <td>9332</td>\n",
       "      <td>1819</td>\n",
       "      <td>1501</td>\n",
       "      <td>True</td>\n",
       "    </tr>\n",
       "    <tr>\n",
       "      <th>2</th>\n",
       "      <td>14</td>\n",
       "      <td>286</td>\n",
       "      <td>799</td>\n",
       "      <td>13579</td>\n",
       "      <td>4131</td>\n",
       "      <td>1522</td>\n",
       "      <td>True</td>\n",
       "    </tr>\n",
       "    <tr>\n",
       "      <th>3</th>\n",
       "      <td>15</td>\n",
       "      <td>3</td>\n",
       "      <td>173</td>\n",
       "      <td>12767</td>\n",
       "      <td>4410</td>\n",
       "      <td>1211</td>\n",
       "      <td>True</td>\n",
       "    </tr>\n",
       "    <tr>\n",
       "      <th>4</th>\n",
       "      <td>15</td>\n",
       "      <td>7</td>\n",
       "      <td>427</td>\n",
       "      <td>11205</td>\n",
       "      <td>3644</td>\n",
       "      <td>1209</td>\n",
       "      <td>True</td>\n",
       "    </tr>\n",
       "    <tr>\n",
       "      <th>...</th>\n",
       "      <td>...</td>\n",
       "      <td>...</td>\n",
       "      <td>...</td>\n",
       "      <td>...</td>\n",
       "      <td>...</td>\n",
       "      <td>...</td>\n",
       "      <td>...</td>\n",
       "    </tr>\n",
       "    <tr>\n",
       "      <th>1217</th>\n",
       "      <td>19</td>\n",
       "      <td>1031</td>\n",
       "      <td>2</td>\n",
       "      <td>8337</td>\n",
       "      <td>2657</td>\n",
       "      <td>2301</td>\n",
       "      <td>True</td>\n",
       "    </tr>\n",
       "    <tr>\n",
       "      <th>1218</th>\n",
       "      <td>19</td>\n",
       "      <td>1031</td>\n",
       "      <td>141</td>\n",
       "      <td>11866</td>\n",
       "      <td>4214</td>\n",
       "      <td>2297</td>\n",
       "      <td>True</td>\n",
       "    </tr>\n",
       "    <tr>\n",
       "      <th>1219</th>\n",
       "      <td>19</td>\n",
       "      <td>1094</td>\n",
       "      <td>481</td>\n",
       "      <td>12343</td>\n",
       "      <td>5224</td>\n",
       "      <td>2350</td>\n",
       "      <td>True</td>\n",
       "    </tr>\n",
       "    <tr>\n",
       "      <th>1220</th>\n",
       "      <td>19</td>\n",
       "      <td>1134</td>\n",
       "      <td>453</td>\n",
       "      <td>7995</td>\n",
       "      <td>2133</td>\n",
       "      <td>2392</td>\n",
       "      <td>True</td>\n",
       "    </tr>\n",
       "    <tr>\n",
       "      <th>1221</th>\n",
       "      <td>20</td>\n",
       "      <td>1133</td>\n",
       "      <td>169</td>\n",
       "      <td>7763</td>\n",
       "      <td>2607</td>\n",
       "      <td>2391</td>\n",
       "      <td>True</td>\n",
       "    </tr>\n",
       "  </tbody>\n",
       "</table>\n",
       "<p>1222 rows × 7 columns</p>\n",
       "</div>"
      ]
     },
     "execution_count": 153,
     "metadata": {},
     "output_type": "execute_result"
    }
   ],
   "execution_count": 153
  },
  {
   "metadata": {
    "ExecuteTime": {
     "end_time": "2024-11-10T13:47:29.525041Z",
     "start_time": "2024-11-10T13:47:29.522083Z"
    }
   },
   "cell_type": "code",
   "source": "cycle = ['cyan', 'red'] if spots.iloc[0]['in_cell'] == True else ['red', 'cyan']",
   "id": "c79b60c3620a9047",
   "outputs": [],
   "execution_count": 162
  },
  {
   "metadata": {
    "ExecuteTime": {
     "end_time": "2024-11-10T13:47:20.630936Z",
     "start_time": "2024-11-10T13:47:20.621960Z"
    }
   },
   "cell_type": "code",
   "source": "spots.iloc[0]",
   "id": "6c133b86853c399e",
   "outputs": [
    {
     "data": {
      "text/plain": [
       "z                       14\n",
       "y                      204\n",
       "x                      160\n",
       "intensity             7499\n",
       "filtered_intensity     896\n",
       "label                 1433\n",
       "in_cell               True\n",
       "Name: 0, dtype: object"
      ]
     },
     "execution_count": 161,
     "metadata": {},
     "output_type": "execute_result"
    }
   ],
   "execution_count": 161
  },
  {
   "metadata": {
    "ExecuteTime": {
     "end_time": "2024-11-10T13:46:36.980196Z",
     "start_time": "2024-11-10T13:46:36.976877Z"
    }
   },
   "cell_type": "code",
   "source": "type(spots)",
   "id": "8ffa800d75a1cde8",
   "outputs": [
    {
     "data": {
      "text/plain": [
       "pandas.core.frame.DataFrame"
      ]
     },
     "execution_count": 159,
     "metadata": {},
     "output_type": "execute_result"
    }
   ],
   "execution_count": 159
  },
  {
   "metadata": {},
   "cell_type": "code",
   "outputs": [],
   "execution_count": null,
   "source": "",
   "id": "d482c0f003409394"
  }
 ],
 "metadata": {
  "kernelspec": {
   "display_name": "Python 3",
   "language": "python",
   "name": "python3"
  },
  "language_info": {
   "codemirror_mode": {
    "name": "ipython",
    "version": 2
   },
   "file_extension": ".py",
   "mimetype": "text/x-python",
   "name": "python",
   "nbconvert_exporter": "python",
   "pygments_lexer": "ipython2",
   "version": "2.7.6"
  }
 },
 "nbformat": 4,
 "nbformat_minor": 5
}

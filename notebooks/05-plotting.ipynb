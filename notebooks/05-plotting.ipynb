{
 "cells": [
  {
   "cell_type": "markdown",
   "id": "c9ec4a9c",
   "metadata": {},
   "source": [
    "# <span style=\"color:darkblue\">05-Plotting</span>"
   ]
  },
  {
   "cell_type": "markdown",
   "id": "8a5c5059",
   "metadata": {},
   "source": [
    "In this notebook, we will create plots for all the conditions and RNAs in our dataset. Some of these figure were also used in the publication linked to this dataset. "
   ]
  },
  {
   "cell_type": "markdown",
   "id": "5a903b76",
   "metadata": {},
   "source": [
    "## 5.1 - Load libraries"
   ]
  },
  {
   "cell_type": "code",
   "execution_count": null,
   "id": "9c8001ad",
   "metadata": {},
   "outputs": [],
   "source": [
    "from glob import glob\n",
    "from pathlib import Path\n",
    "import pandas as pd\n",
    "import seaborn as sns\n",
    "import matplotlib.pyplot as plt\n",
    "import matplotlib\n",
    "import numpy as np\n",
    "from matplotlib.ticker import MaxNLocator"
   ]
  },
  {
   "cell_type": "code",
   "execution_count": null,
   "id": "c3bb05e7",
   "metadata": {},
   "outputs": [],
   "source": [
    "# adjust plotting settings\n",
    "font = {'family' : 'DejaVu Sans',\n",
    "        'weight' : 'bold',\n",
    "        'size'   : 18}\n",
    "\n",
    "matplotlib.rc('font', **font)"
   ]
  },
  {
   "cell_type": "code",
   "execution_count": null,
   "id": "889160c8",
   "metadata": {},
   "outputs": [],
   "source": [
    "# paths\n",
    "root_dir = '../data/zipped_data_smFISH_C.albicans'\n",
    "files = glob(f\"{root_dir}/Results/*.csv\")\n",
    "files"
   ]
  },
  {
   "cell_type": "code",
   "execution_count": null,
   "id": "5d155cd2",
   "metadata": {},
   "outputs": [],
   "source": [
    "dfs = []\n",
    "for file in files:\n",
    "    print(f'loading {file} ...')\n",
    "    filename=Path(file).stem\n",
    "    df = pd.read_csv(file)\n",
    "    df['strain'], df['mRNA'], df['condition'], df['channel'], df['fov'] = filename.split('_')\n",
    "    dfs.append(df)\n",
    "    print('... done')\n",
    "df = pd.concat(dfs).reset_index()"
   ]
  },
  {
   "cell_type": "code",
   "execution_count": null,
   "id": "a46c4870",
   "metadata": {},
   "outputs": [],
   "source": [
    "# inspect data\n",
    "\n",
    "df.head()\n",
    "df.columns"
   ]
  },
  {
   "cell_type": "code",
   "execution_count": null,
   "id": "96b62447",
   "metadata": {},
   "outputs": [],
   "source": [
    "# store variables:\n",
    "\n",
    "mRNAs = df['mRNA'].unique()\n",
    "conditions = df['condition'].unique()"
   ]
  },
  {
   "cell_type": "markdown",
   "id": "56680418-b671-442e-be09-c6ca8454ef1c",
   "metadata": {},
   "source": [
    "***"
   ]
  },
  {
   "cell_type": "markdown",
   "id": "97eca405-48b3-48dd-91a1-0da229efe1f1",
   "metadata": {},
   "source": [
    "## 5.1 - Histograms of mRNA counts and eccentricity"
   ]
  },
  {
   "cell_type": "code",
   "execution_count": null,
   "id": "4dac4ded",
   "metadata": {},
   "outputs": [],
   "source": [
    "nrows = len(mRNAs)\n",
    "ncols = len(conditions)\n",
    "\n",
    "figure, axes= plt.subplots(nrows=nrows, ncols=ncols, figsize=(10,8))\n",
    "axes = np.array(axes).reshape(nrows, ncols)\n",
    "\n",
    "for row, mRNA in enumerate(mRNAs):\n",
    "    for col, condition in enumerate(conditions):\n",
    "        \n",
    "        sns.histplot(\n",
    "            data=df[(df['mRNA']==mRNA) & (df['condition']==condition)], x='total RNAs per cell',ax=axes[row, col],binwidth=1, palette='viridis')\n",
    "        \n",
    "        axes[row,col].set_xlim(0,90)\n",
    "        axes[row,col].set_ylim(0,80)\n",
    "        \n",
    "        axes[row,col].set_title(f'expression of {mRNA.split(\"Q\")[0]} in {condition}')\n",
    "        \n",
    "plt.tight_layout()"
   ]
  },
  {
   "cell_type": "code",
   "execution_count": null,
   "id": "628ebb72",
   "metadata": {},
   "outputs": [],
   "source": [
    "figure, ax= plt.subplots(figsize=(10,5))\n",
    "ax=sns.histplot(data=df[(df['mRNA']=='CLB2Q670')], x='total RNAs per cell'\n",
    "                ,hue='condition',bins=50,ax=ax,palette='deep')\n",
    "ax.set_title('CLB2' )\n",
    "\n",
    "#plt.savefig('FV-CLB2Q670_histplot.svg')"
   ]
  },
  {
   "cell_type": "code",
   "execution_count": null,
   "id": "19caa2a3",
   "metadata": {},
   "outputs": [],
   "source": [
    "figure,ax= plt.subplots(figsize=(10,5))\n",
    "ax=sns.histplot(\n",
    "    data=df[(df['mRNA']=='CLB2Q670')], x='total RNAs per cell',hue='condition',bins=50,ax=ax, \n",
    "    element=\"poly\",palette='deep')\n",
    "ax.set_title('CLB2')\n",
    "\n",
    "#plt.savefig('FV_CLB2Q670_polyplot.svg')"
   ]
  },
  {
   "cell_type": "code",
   "execution_count": null,
   "id": "a8e855bf",
   "metadata": {},
   "outputs": [],
   "source": [
    "figure, ax= plt.subplots(figsize=(10,5))\n",
    "ax=sns.histplot(data=df[(df['mRNA']=='EFG1Q670')],\n",
    "                x='total RNAs per cell',hue='condition',bins=50,ax=ax, palette='deep')\n",
    "ax.set_title('EFG1')\n",
    "\n",
    "#plt.savefig('FV_EFG1Q670_histplot.svg')"
   ]
  },
  {
   "cell_type": "code",
   "execution_count": null,
   "id": "c87b625f",
   "metadata": {},
   "outputs": [],
   "source": [
    "figure,ax= plt.subplots(figsize=(10,5))\n",
    "ax=sns.histplot(data=df[(df['mRNA']=='EFG1Q670')], x='total RNAs per cell',hue='condition',bins=50,ax=ax, element=\"poly\",palette='deep')\n",
    "ax.set_title('EFG1' )\n",
    "\n",
    "#plt.savefig('FV_EFG1Q670_polyplot.svg')"
   ]
  },
  {
   "cell_type": "code",
   "execution_count": null,
   "id": "28086f9e",
   "metadata": {},
   "outputs": [],
   "source": [
    "figure,ax= plt.subplots(figsize=(10,5))\n",
    "ax=sns.histplot(data=df, x='eccentricity',hue='condition',bins=100,ax=ax, palette='deep')\n",
    "ax.set_title('Eccentricity' )\n",
    "\n",
    "#plt.savefig('FV_Eccenticity_histplot.svg')"
   ]
  },
  {
   "cell_type": "markdown",
   "id": "ead253fd-9436-4409-ab4c-bc711eec7c8d",
   "metadata": {},
   "source": [
    "***"
   ]
  },
  {
   "cell_type": "markdown",
   "id": "6f201c8d",
   "metadata": {},
   "source": [
    "## 5.2 - Scatterplots mRNA vs eccentricity (with marginal KDEs and Histplots)"
   ]
  },
  {
   "cell_type": "code",
   "execution_count": null,
   "id": "b5043c2a",
   "metadata": {},
   "outputs": [],
   "source": [
    "nrows = len(mRNAs)\n",
    "ncols = len(conditions)\n",
    "\n",
    "figure, axes= plt.subplots(nrows=nrows, ncols=ncols, figsize=(10,8))\n",
    "axes = np.array(axes).reshape(nrows, ncols)\n",
    "\n",
    "for row, mRNA in enumerate(mRNAs):\n",
    "    for col, condition in enumerate(conditions):\n",
    "        sns.scatterplot(data=df[(df['mRNA']==mRNA) & (df['condition']==condition)], x='total RNAs per cell',y='eccentricity',ax=axes[row,col],palette='viridis')\n",
    "        sns.kdeplot(data=df[(df['mRNA']==mRNA) & (df['condition']==condition)],x='total RNAs per cell',y='eccentricity', levels=5, color=\"b\", linewidths=1,ax=axes[row, col])\n",
    "        axes[row,col].set_xlim(0,80)\n",
    "        axes[row,col].set_ylim(0,1)\n",
    "        \n",
    "        axes[row,col].set_title(f'expression of {mRNA.split(\"Q\")[0]} in {condition}')\n",
    "        \n",
    "#plt.savefig(f'scatter_kdeplot_{mRNA}_{condition}.svg')\n",
    "\n",
    "plt.tight_layout()"
   ]
  },
  {
   "cell_type": "code",
   "execution_count": null,
   "id": "b9c3b3b7",
   "metadata": {
    "scrolled": false
   },
   "outputs": [],
   "source": [
    "# adjust plotting settings\n",
    "font = {'family' : 'DejaVu Sans',\n",
    "        'weight' : 'normal',\n",
    "        'size'   : 10}\n",
    "\n",
    "matplotlib.rc('font', **font)\n",
    "\n",
    "nrows = len(mRNAs)\n",
    "ncols = len(conditions)\n",
    "\n",
    "axes = np.array(axes).reshape(nrows, ncols)\n",
    "for row, mRNA in enumerate(mRNAs):\n",
    "    for col, condition in enumerate(conditions):\n",
    "        \n",
    "        selected_data = df[(df['mRNA']==mRNA) & (df['condition']==condition)]\n",
    "\n",
    "        g = sns.JointGrid()\n",
    "        x, y = selected_data[\"total RNAs per cell\"], selected_data[\"eccentricity\"]\n",
    "        sns.scatterplot(x=x, y=y, ec='white', c=\"darkcyan\", s=30, linewidth=.3, ax=g.ax_joint)\n",
    "        sns.histplot(x=x, binwidth= 1, linewidth=0.1, ax=g.ax_marg_x, color=\"darkcyan\")\n",
    "        sns.kdeplot(y=y, linewidth=0.5, ax=g.ax_marg_y, fill=True, color=\"darkcyan\")\n",
    "        g.ax_joint.set_xlim(-5,90)\n",
    "        \n",
    "        g.ax_marg_x.tick_params(labelleft=True,labelsize= 10)\n",
    "        g.ax_marg_x.grid(True, axis='y', ls=':')\n",
    "        g.ax_marg_x.yaxis.set_major_locator(MaxNLocator(4))\n",
    "        g.ax_joint.set_xlabel('')\n",
    "        g.ax_joint.set_ylabel('')\n",
    "        \n",
    "        #plt.savefig(f'fv_jointplot_{mRNA}_{condition}.svg')"
   ]
  },
  {
   "cell_type": "markdown",
   "id": "c6360822-e7ff-4ea8-94ab-6ff71ea6a9ed",
   "metadata": {},
   "source": [
    "***"
   ]
  },
  {
   "cell_type": "markdown",
   "id": "5d8132f7",
   "metadata": {},
   "source": [
    "## 5.3 - Stripplots"
   ]
  },
  {
   "cell_type": "code",
   "execution_count": null,
   "id": "6470e91b",
   "metadata": {},
   "outputs": [],
   "source": [
    "ax = sns.stripplot(\n",
    "    data=df,\n",
    "    x=\"mRNA\", \n",
    "    y=\"spots per cell\", \n",
    "    orient=\"v\",palette='viridis' ,hue='condition',dodge=True, s=3, alpha=0.3)\n",
    "\n",
    "ax.set_title('spots per cell')\n",
    "ax.set_ylim(0,85)\n",
    "sns.move_legend(ax, \"upper left\", bbox_to_anchor=(1, 1))\n",
    "\n",
    "#plt.savefig('stripplot_spot_per_cell.svg')"
   ]
  },
  {
   "cell_type": "markdown",
   "id": "c400c3b5",
   "metadata": {},
   "source": [
    "### <span style=\"color:seagreen\"> 5.3.1 - Plotting only expressing cells </span>"
   ]
  },
  {
   "cell_type": "code",
   "execution_count": null,
   "id": "35df608b",
   "metadata": {
    "scrolled": false
   },
   "outputs": [],
   "source": [
    "ax=sns.stripplot(\n",
    "    data=df[df['total RNAs per cell']>0],\n",
    "    x=\"condition\", y=\"total RNAs per cell\", orient=\"v\",palette='viridis' ,hue='mRNA',dodge=True, s=3, alpha=0.5\n",
    ")\n",
    "ax.set_title('RNAs_per_cell')\n",
    "sns.move_legend(ax, \"upper left\", bbox_to_anchor=(1, 1))\n",
    "ax.set_ylim(0,85)\n",
    "\n",
    "# plot the mean line\n",
    "sns.boxplot(showmeans=True,\n",
    "            meanline=True,\n",
    "            meanprops={'color': 'k', 'ls': '-', 'lw': 1},\n",
    "            medianprops={'visible': False},\n",
    "            whiskerprops={'visible': False},\n",
    "            zorder=10,\n",
    "            x=\"condition\",\n",
    "            y=\"total RNAs per cell\",\n",
    "            hue='mRNA',\n",
    "            data=df[df['total RNAs per cell']>0],\n",
    "            showfliers=False,\n",
    "            showbox=False,\n",
    "            showcaps=False)\n",
    "plt.legend(title='mRNA', loc='upper right', labels=['CLB2Q670', 'EFG1Q670'],markerscale=5)\n",
    "sns.move_legend(ax, \"upper left\", bbox_to_anchor=(1, 1))\n",
    "\n",
    "#plt.savefig('FV_stripplot_total_RNAs.svg')"
   ]
  },
  {
   "cell_type": "markdown",
   "id": "ae217bb0",
   "metadata": {},
   "source": [
    "### <span style=\"color:seagreen\"> 5.3.2 - Plotting nascent mRNA per cell </span>"
   ]
  },
  {
   "cell_type": "code",
   "execution_count": null,
   "id": "dbe324b4",
   "metadata": {},
   "outputs": [],
   "source": [
    "ax=sns.stripplot(\n",
    "    data=df[df['nascent RNAs']>0],\n",
    "    x=\"condition\", y=\"nascent RNAs\", orient=\"v\",palette='viridis' ,hue='mRNA',dodge=True, s=3, alpha=0.5\n",
    ")\n",
    "sns.move_legend(ax, \"upper left\", bbox_to_anchor=(1, 1))\n",
    "\n",
    "ax.set_title('nascent RNAs per cell')\n",
    "ax.set_ylim(0,35)\n",
    "\n",
    "# plot the mean line\n",
    "sns.boxplot(showmeans=True,\n",
    "            meanline=True,\n",
    "            meanprops={'color': 'k', 'ls': '-', 'lw': 1},\n",
    "            medianprops={'visible': False},\n",
    "            whiskerprops={'visible': False},\n",
    "            zorder=10,\n",
    "            x=\"condition\",\n",
    "            y=\"nascent RNAs\",\n",
    "            hue='mRNA',\n",
    "            data=df[df['nascent RNAs']>0],\n",
    "            showfliers=False,\n",
    "            showbox=False,\n",
    "            showcaps=False)\n",
    "plt.legend(title='mRNA', loc='upper right', labels=['CLB2Q670', 'EFG1Q670'],markerscale=5)\n",
    "sns.move_legend(ax, \"upper left\", bbox_to_anchor=(1, 1))\n",
    "\n",
    "sns.move_legend(ax, \"upper left\", bbox_to_anchor=(1, 1))\n",
    "\n",
    "#plt.savefig('FV_nascent_stripplot.svg')"
   ]
  }
 ],
 "metadata": {
  "kernelspec": {
   "display_name": "Python 3 (ipykernel)",
   "language": "python",
   "name": "python3"
  },
  "language_info": {
   "codemirror_mode": {
    "name": "ipython",
    "version": 3
   },
   "file_extension": ".py",
   "mimetype": "text/x-python",
   "name": "python",
   "nbconvert_exporter": "python",
   "pygments_lexer": "ipython3",
   "version": "3.10.9"
  }
 },
 "nbformat": 4,
 "nbformat_minor": 5
}

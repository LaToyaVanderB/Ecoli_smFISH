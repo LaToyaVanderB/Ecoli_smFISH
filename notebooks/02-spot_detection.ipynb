{
 "cells": [
  {
   "cell_type": "markdown",
   "metadata": {},
   "source": [
    "# <span style=\"color:darkblue\">02-Spot_detection</span>"
   ]
  },
  {
   "cell_type": "markdown",
   "metadata": {},
   "source": [
    "In this notebook we will guide you through performing spot detection using the BigFISH libray, opening your images in Napari, and saving the generated spot detection data. For more documentation of the BigFISH library see: https://big-fish.readthedocs.io/en/stable/index.html. At the end of this notebook batch spot detection can be performed."
   ]
  },
  {
   "cell_type": "markdown",
   "metadata": {},
   "source": [
    "## 2.0 - Load libraries"
   ]
  },
  {
   "cell_type": "code",
   "execution_count": null,
   "metadata": {},
   "outputs": [],
   "source": [
    "import numpy as np\n",
    "from glob import glob\n",
    "from pathlib import Path\n",
    "import re\n",
    "from skimage import io\n",
    "import matplotlib.pyplot as plt\n",
    "from bigfish.detection import detect_spots\n",
    "from bigfish.stack import remove_background_gaussian\n",
    "from bigfish.stack import get_in_focus_indices\n",
    "from bigfish.stack import compute_focus\n",
    "from scipy.signal import savgol_filter\n",
    "import napari\n",
    "import seaborn as sns\n",
    "\n",
    "import sys\n",
    "sys.path.append('../')\n",
    "\n",
    "from src.misc import group_experiments, load_data, find_high_density_patch, find_in_focus_indices"
   ]
  },
  {
   "cell_type": "markdown",
   "metadata": {},
   "source": [
    "***"
   ]
  },
  {
   "cell_type": "markdown",
   "metadata": {},
   "source": [
    "## 2.1 - Load spot and cell mask data"
   ]
  },
  {
   "cell_type": "code",
   "execution_count": null,
   "metadata": {},
   "outputs": [],
   "source": [
    "img = io.imread('../data/*/CET111_CLB2Q670_SPIDER37_CY5_01.tif')\n",
    "mask = io.imread('../data/*/Masks/CET111_CLB2Q670_SPIDER37_DIC_01_seg.tif')"
   ]
  },
  {
   "cell_type": "code",
   "execution_count": null,
   "metadata": {},
   "outputs": [],
   "source": [
    "# inspect match\n",
    "fig, ax = plt.subplots(ncols=2, figsize=(10, 5), facecolor='white')\n",
    "io.imshow(img[31, ...], ax=ax[0]);\n",
    "io.imshow(mask, ax=ax[1]);\n",
    "plt.show();"
   ]
  },
  {
   "cell_type": "markdown",
   "metadata": {},
   "source": [
    "***"
   ]
  },
  {
   "cell_type": "markdown",
   "metadata": {},
   "source": [
    "## 2.2 - Find in-focus layers on single image"
   ]
  },
  {
   "cell_type": "markdown",
   "metadata": {},
   "source": [
    "### <span style=\"color:seagreen\"> 2.2.1 - Find region with high cell density </span>"
   ]
  },
  {
   "cell_type": "markdown",
   "metadata": {},
   "source": [
    "Let's determine the in-focus layers in our image. We will use the created cell mask to find a region in our image with a high density of cells. This area will then be used to define the in-focus layers, as defining the infocus scores for the entire z-stack is computationally too intensive."
   ]
  },
  {
   "cell_type": "code",
   "execution_count": null,
   "metadata": {},
   "outputs": [],
   "source": [
    "# find high density region\n",
    "patch_size = (200, 200)\n",
    "selected_patch = find_high_density_patch(mask)\n",
    "print(f\"{selected_patch=}\")\n",
    "\n",
    "mask_patch = mask[\n",
    "             selected_patch[0]:selected_patch[0] + patch_size[0],\n",
    "             selected_patch[1]:selected_patch[1] + patch_size[1]\n",
    "             ]\n",
    "\n",
    "img_patch = img[:,\n",
    "            selected_patch[0]:selected_patch[0] + patch_size[0],\n",
    "            selected_patch[1]:selected_patch[1] + patch_size[1]\n",
    "            ]\n",
    "\n",
    "fig, ax = plt.subplots(ncols=2, figsize=(10, 5), facecolor='white')\n",
    "io.imshow(img_patch[31, ...], ax=ax[0]);\n",
    "io.imshow(mask_patch, ax=ax[1]);\n",
    "plt.show();"
   ]
  },
  {
   "cell_type": "markdown",
   "metadata": {},
   "source": [
    "### <span style=\"color:seagreen\"> 2.2.2 - Define in-focus layers </span>"
   ]
  },
  {
   "cell_type": "markdown",
   "metadata": {},
   "source": [
    "Next we will use Helmli-Scherer mean(https://www.semanticscholar.org/paper/Adaptive-shape-from-focus-with-an-error-estimation-Helmli-Scherer/8fce39108fad9311f4c0196fcdbaabc8463de27a) to calculate the in-focus scores of each z-layer within the cropped area."
   ]
  },
  {
   "cell_type": "code",
   "execution_count": null,
   "metadata": {},
   "outputs": [],
   "source": [
    "focus = compute_focus(img_patch)\n",
    "\n",
    "fig, ax = plt.subplots(ncols=2, figsize=(10, 5), facecolor='white')\n",
    "io.imshow(np.amax(focus, axis=1), ax=ax[0])\n",
    "io.imshow(np.amax(focus, axis=2), ax=ax[1])\n",
    "\n",
    "ax[0].set_xlabel('x_axis_position')\n",
    "ax[0].set_ylabel('z_axis_position')\n",
    "ax[0].set_title('projection along y-axis')\n",
    "\n",
    "ax[1].set_xlabel('y_axis_position')\n",
    "ax[1].set_ylabel('z_axis_position')\n",
    "ax[1].set_title('projection along x-axis')\n",
    "\n",
    "plt.tight_layout()\n",
    "plt.show()"
   ]
  },
  {
   "cell_type": "code",
   "execution_count": null,
   "metadata": {},
   "outputs": [],
   "source": [
    "def show_boundaries(projected_focus, projected_focus_smoothed, ifx_1, ifx_2):\n",
    "    # plotting of in-focus indices\n",
    "    fig, axis = plt.subplots(ncols=3, figsize=(15, 5), facecolor='white')\n",
    "\n",
    "    # plot max project focus scores\n",
    "    sns.lineplot(x=range(len(projected_focus)), y=projected_focus, ax=axis[0])\n",
    "    axis[0].set_xlabel('z-layer')\n",
    "    axis[0].set_ylabel('score')\n",
    "    axis[0].set_title('in-focus scores per z-layer')\n",
    "\n",
    "    # plot smoothed focus scores\n",
    "    sns.lineplot(x=range(len(projected_focus_smoothed)), y=projected_focus_smoothed, ax=axis[1])\n",
    "    axis[1].set_xlabel('z-layer')\n",
    "    axis[1].set_ylabel('score')\n",
    "    axis[1].set_title('smoothed in-focus scores per z-layer')\n",
    "\n",
    "    # plot projected focus image\n",
    "    axis[2].imshow(np.amax(focus, axis=1))\n",
    "    axis[2].set_title('y-max projection of the in-focus scores')\n",
    "\n",
    "    # add indices of inflection point to plots\n",
    "    axis[0].axvspan(ifx_1 - 0.1, ifx_1, color='r')\n",
    "    axis[0].axvspan(ifx_2 - 0.1, ifx_2, color='r')\n",
    "\n",
    "    axis[1].axvspan(ifx_1 - 0.1, ifx_1, color='r')\n",
    "    axis[1].axvspan(ifx_2 - 0.1, ifx_2, color='r')\n",
    "\n",
    "    axis[2].axhspan(ifx_1 - 0.1, ifx_1, color='r')\n",
    "    axis[2].axhspan(ifx_2 - 0.1, ifx_2, color='r')\n",
    "\n",
    "    return fig\n"
   ]
  },
  {
   "cell_type": "code",
   "execution_count": null,
   "metadata": {},
   "outputs": [],
   "source": [
    "# max project the y,x scores to get a single focus score for each layer \n",
    "projected_focus = np.max(focus, axis=(1, 2))\n",
    "\n",
    "# smoothing function\n",
    "projected_focus_smoothed = savgol_filter(projected_focus, 31, 2, 0)\n",
    "ifx_1, ifx_2 = find_in_focus_indices(projected_focus_smoothed)\n",
    "\n",
    "fig = show_boundaries(projected_focus, projected_focus_smoothed, ifx_1, ifx_2)\n",
    "plt.show()"
   ]
  },
  {
   "cell_type": "markdown",
   "metadata": {},
   "source": [
    "***"
   ]
  },
  {
   "cell_type": "markdown",
   "metadata": {},
   "source": [
    "## 2.3 - Spot detection on filtered images"
   ]
  },
  {
   "cell_type": "markdown",
   "metadata": {},
   "source": [
    "### <span style=\"color:seagreen\"> 2.3.1 - Detect spots in a guassian filtered image </span>"
   ]
  },
  {
   "cell_type": "markdown",
   "metadata": {},
   "source": [
    "First we will perform background subtraction on your image. Next we will perform spot detection using a Laplacian of Gaussian filter (LoG). The set parameters often work well but can be adjusted if necessary."
   ]
  },
  {
   "cell_type": "code",
   "execution_count": null,
   "metadata": {},
   "outputs": [],
   "source": [
    "scale = (200, 65, 65) # scale of a voxel's zyx dimensions in nanometer \n",
    "spot_radius = (1250, 170, 170) # expected size of spots in nanometer\n",
    "\n",
    "# if detection threshold set to none, threshold is detected automatically\n",
    "detection_threshold = None"
   ]
  },
  {
   "cell_type": "code",
   "execution_count": null,
   "metadata": {},
   "outputs": [],
   "source": [
    "viewer = napari.Viewer()\n",
    "\n",
    "# here we add our image to the napari viewer, whilst also converting the pixel size to the nm scale\n",
    "viewer.add_image(img, name='RNA channel', colormap='magenta', scale=scale)\n",
    "\n",
    "# perform background filtering on your image. Adjust filtering parameters if necessary\n",
    "filt_RNAs = remove_background_gaussian(img, sigma=(0.75, 2.3, 2.3))\n",
    "viewer.add_image(filt_RNAs, name='filt RNA channel', scale=scale)"
   ]
  },
  {
   "cell_type": "code",
   "execution_count": null,
   "metadata": {},
   "outputs": [],
   "source": [
    "# select in-focus layers\n",
    "sel_filt_RNAs = filt_RNAs[ifx_1:ifx_2, ...]\n",
    "\n",
    "# perform spot detection\n",
    "spots, threshold = detect_spots(\n",
    "    sel_filt_RNAs,\n",
    "    threshold=detection_threshold,\n",
    "    voxel_size=scale,\n",
    "    spot_radius=spot_radius,\n",
    "    return_threshold=True)\n",
    "print(f'This threshold was used : {threshold}')\n",
    "\n",
    "# adjust spots coordinates\n",
    "spots[:, 0] += ifx_1"
   ]
  },
  {
   "cell_type": "code",
   "execution_count": null,
   "metadata": {},
   "outputs": [],
   "source": [
    "# remove misdetection in adjustable out-focus layer\n",
    "fspots = spots[spots[:, 0] > ifx_1 + 2]\n",
    "\n",
    "# add detected spots to the viewer \n",
    "viewer.add_points(fspots, name='spots filt RNA channel', scale=scale)"
   ]
  },
  {
   "cell_type": "markdown",
   "metadata": {},
   "source": [
    "### <span style=\"color:seagreen\"> 2.3.2 - Visualize and evaluate spot detection</span>"
   ]
  },
  {
   "cell_type": "markdown",
   "metadata": {},
   "source": [
    "Let's check whether all spots were detected in the our image stack by projecting both spots and raw data to a single image layer."
   ]
  },
  {
   "cell_type": "code",
   "execution_count": null,
   "metadata": {},
   "outputs": [],
   "source": [
    "viewer=napari.Viewer()\n",
    "\n",
    "zproject = np.amax(img[ifx_1:ifx_2, ...], axis=0)\n",
    "\n",
    "# add the z-projected image layer to the viewer\n",
    "viewer.add_image(zproject, name='RNA channel', colormap='magenta', contrast_limits=[2000, 8000])\n",
    "\n",
    "# combine all the spots into one layer and check if the number of spots matches the fluorescence image\n",
    "viewer.add_points(fspots[:, 1:], size=20, symbol='ring', opacity=0.1)\n"
   ]
  },
  {
   "cell_type": "markdown",
   "metadata": {},
   "source": [
    "### <span style=\"color:seagreen\"> 2.3.3 - Save spot data</span>"
   ]
  },
  {
   "cell_type": "code",
   "execution_count": null,
   "metadata": {},
   "outputs": [],
   "source": [
    "save_path = f'../data/zipped_example_data_smFISH_C.albicans/Spots/CET111_CLB2Q670_SPIDER37_CY5_01_spots_thr{threshold}.npy'\n",
    "\n",
    "# uncomment to run:\n",
    "#np.save(save_path, fspots)"
   ]
  },
  {
   "cell_type": "markdown",
   "metadata": {},
   "source": [
    "***"
   ]
  },
  {
   "cell_type": "markdown",
   "metadata": {},
   "source": [
    "# Batch spot detection"
   ]
  },
  {
   "cell_type": "markdown",
   "metadata": {},
   "source": [
    "Perform spot detection for all images in our dataset. Remember to adjust the parameters if necessary. Especially, the spot detection threshold, leave this parameter at None to let BigFISH determine this threshold automatically. The data is saved in the Spots folder in each condition + RNA combination.  This step has already been performed, uncomment the last line to do batch detection and overwrite the saved data."
   ]
  },
  {
   "cell_type": "code",
   "execution_count": null,
   "metadata": {},
   "outputs": [],
   "source": [
    "# paths\n",
    "# root_dir = '../data/'\n",
    "root_dir = '../data/zipped_example_data_smFISH_C.albicans' # directory for example data.\n",
    "\n",
    "# parameters - adjust if necessary\n",
    "scale = (200, 65, 65)\n",
    "spot_radius = (1250, 170, 170)\n",
    "sigma=(0.75, 2.3, 2.3)\n",
    "patch_size = (200, 200)\n",
    "detection_threshold = 6 # set to None for automatic determination by bigFISH"
   ]
  },
  {
   "cell_type": "code",
   "execution_count": null,
   "metadata": {},
   "outputs": [],
   "source": [
    "experiments = group_experiments(root_dir)\n",
    "\n",
    "print('I found the following experiments:')\n",
    "print(experiments.keys())\n",
    "print('select applicable experiments')"
   ]
  },
  {
   "cell_type": "code",
   "execution_count": null,
   "metadata": {},
   "outputs": [],
   "source": [
    "experiments_to_process = ['CET111_CLB2Q670_SPIDER37']\n",
    "\n",
    "for identifier in experiments_to_process:\n",
    "    replicates = experiments[identifier]\n",
    "    \n",
    "    for replicate, paths, in replicates.items():\n",
    "        print(f'processing {identifier=}, {replicate=}')\n",
    "        data = load_data(paths)\n",
    "        \n",
    "        process = True\n",
    "        # check if all files required for this step have been loaded\n",
    "        for entry in ['cell_mask', 'CY5']:\n",
    "            if data.get(entry) is None:\n",
    "                print(f'{identifier=}, {replicate=}, {entry=} could not be found')\n",
    "                print(f'skipping {identifier=}, {replicate=}!')\n",
    "                process=False\n",
    "        \n",
    "        if process:\n",
    "            RNAs = data.get('CY5')            \n",
    "            mask = data.get('cell_mask')\n",
    "            \n",
    "            selected_patch = find_high_density_patch(mask, patch_size=patch_size)\n",
    "            \n",
    "            img_patch = RNAs[:,\n",
    "                selected_patch[0]:selected_patch[0] + patch_size[0],\n",
    "                selected_patch[1]:selected_patch[1] + patch_size[1]\n",
    "            ]\n",
    "\n",
    "            focus = compute_focus(img_patch)\n",
    "            projected_focus = np.max(focus, axis=(1, 2))\n",
    "\n",
    "            projected_focus_smoothed = savgol_filter(projected_focus, 30, 2, 0)\n",
    "            ifx_1, ifx_2 = find_in_focus_indices(projected_focus_smoothed)\n",
    "\n",
    "            RNAs_filtered = remove_background_gaussian(RNAs, sigma=sigma)\n",
    "            \n",
    "            spots, threshold = detect_spots(\n",
    "                RNAs_filtered[ifx_1:ifx_2, ...],\n",
    "                threshold=detection_threshold,\n",
    "                voxel_size=scale,\n",
    "                spot_radius=spot_radius,\n",
    "                return_threshold=True\n",
    "            )\n",
    "            \n",
    "            # restore z-level\n",
    "            spots[:,0] = spots[:,0] + ifx_1\n",
    "\n",
    "            # adjustalbe out-of focus filtering\n",
    "            spots = spots[spots[:,0]>ifx_1 + 2]\n",
    "            \n",
    "            save_name = f\"{root_dir}/Spots/{paths['output_name']}_spots_thr{detection_threshold}.npy\"\n",
    "\n",
    "            # uncomment to save spots\n",
    "            #np.save(save_name, spots)\n",
    "            print('done')\n",
    "            \n",
    "        print(10*'-')"
   ]
  }
 ],
 "metadata": {
  "kernelspec": {
   "display_name": "Python 3 (ipykernel)",
   "language": "python",
   "name": "python3"
  },
  "language_info": {
   "codemirror_mode": {
    "name": "ipython",
    "version": 3
   },
   "file_extension": ".py",
   "mimetype": "text/x-python",
   "name": "python",
   "nbconvert_exporter": "python",
   "pygments_lexer": "ipython3",
   "version": "3.10.9"
  }
 },
 "nbformat": 4,
 "nbformat_minor": 4
}
